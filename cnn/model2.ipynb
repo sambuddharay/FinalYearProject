{
 "cells": [
  {
   "cell_type": "code",
   "execution_count": 1,
   "metadata": {},
   "outputs": [],
   "source": [
    "import pandas as pd\n",
    "import numpy as np\n",
    "import matplotlib.pyplot as plt\n",
    "import utils"
   ]
  },
  {
   "cell_type": "code",
   "execution_count": 2,
   "metadata": {},
   "outputs": [],
   "source": [
    "X_train = []"
   ]
  },
  {
   "cell_type": "code",
   "execution_count": 3,
   "metadata": {},
   "outputs": [],
   "source": [
    "url = 'https://raw.githubusercontent.com/sambuddharay/FinalYearProject/main/scrapping/data/Premier-League-Stats/2018-2019/player/Premier-League-Stats-2018-2019-defense-player.csv'\n",
    "df1 = pd.read_csv(url)\n",
    "url = 'https://raw.githubusercontent.com/sambuddharay/FinalYearProject/main/scrapping/data/Premier-League-Stats/2018-2019/player/Premier-League-Stats-2018-2019-gca-player.csv'\n",
    "df2 = pd.read_csv(url)\n",
    "url = 'https://raw.githubusercontent.com/sambuddharay/FinalYearProject/main/scrapping/data/Premier-League-Stats/2018-2019/player/Premier-League-Stats-2018-2019-misc-player.csv'\n",
    "df3 = pd.read_csv(url)\n",
    "url = 'https://raw.githubusercontent.com/sambuddharay/FinalYearProject/main/scrapping/data/Premier-League-Stats/2018-2019/player/Premier-League-Stats-2018-2019-passing-player.csv'\n",
    "df4 = pd.read_csv(url)\n",
    "url = 'https://raw.githubusercontent.com/sambuddharay/FinalYearProject/main/scrapping/data/Premier-League-Stats/2018-2019/player/Premier-League-Stats-2018-2019-possession-player.csv'\n",
    "df5 = pd.read_csv(url)\n",
    "url = 'https://raw.githubusercontent.com/sambuddharay/FinalYearProject/main/scrapping/data/Premier-League-Stats/2018-2019/player/Premier-League-Stats-2018-2019-shooting-player.csv'\n",
    "df6 = pd.read_csv(url)"
   ]
  },
  {
   "cell_type": "code",
   "execution_count": 4,
   "metadata": {},
   "outputs": [],
   "source": [
    "frames = [df1[['Player', 'Nation', 'Pos', 'Squad', 'Born', '90s', 'Tackles Tkl', 'Tackles TklW', 'Tackles Def 3rd', 'Tackles Mid 3rd', 'Tackles Att 3rd', 'Challenges Tkl', 'Challenges Att', 'Challenges Lost', 'Blocks Blocks', 'Blocks Sh', 'Blocks Pass', 'Int', 'Tkl+Int', 'Clr', 'Err']],\n",
    "          df2[['SCA SCA', 'SCA SCA90', 'SCA Types PassLive', 'SCA Types PassDead', 'SCA Types TO', 'SCA Types Sh', 'SCA Types Fld', 'SCA Types Def', 'GCA GCA', 'GCA GCA90', 'GCA Types PassLive', 'GCA Types PassDead', 'GCA Types TO', 'GCA Types Sh', 'GCA Types Fld', 'GCA Types Def']],\n",
    "          df3[['Performance CrdY', 'Performance CrdR', 'Performance 2CrdY', 'Performance Fls', 'Performance Fld', 'Performance Off', 'Performance Crs', 'Performance Int', 'Performance TklW', 'Performance PKwon', 'Performance PKcon', 'Performance OG', 'Performance Recov', 'Aerial Duels Won', 'Aerial Duels Lost']],\n",
    "          df4[['Total Cmp', 'Total Att', 'Total Cmp%', 'Total TotDist', 'Total PrgDist', 'Short Cmp', 'Short Att', 'Medium Cmp', 'Medium Att', 'Long Cmp', 'Long Att', 'Ast', 'xAG', 'Expected xA', 'Expected A-xAG', 'KP', '1/3', 'PPA', 'CrsPA', 'PrgP']],\n",
    "          df5[['Touches Touches', 'Touches Def Pen', 'Touches Def 3rd', 'Touches Mid 3rd', 'Touches Att 3rd', 'Touches Att Pen', 'Touches Live', 'Take-Ons Att', 'Take-Ons Succ', 'Take-Ons Tkld', 'Carries Carries', 'Carries TotDist', 'Carries PrgDist', 'Carries PrgC', 'Carries 1/3', 'Carries CPA', 'Carries Mis', 'Carries Dis', 'Receiving Rec', 'Receiving PrgR']],\n",
    "          df6[['Standard Gls', 'Standard Sh', 'Standard SoT','Standard Sh/90', 'Standard SoT/90', 'Standard G/Sh', 'Standard G/SoT', 'Standard Dist', 'Standard FK', 'Standard PK', 'Standard PKatt', 'Expected xG', 'Expected npxG', 'Expected npxG/Sh', 'Expected G-xG', 'Expected np:G-xG']]]\n",
    "players = pd.concat(frames, axis=1)"
   ]
  },
  {
   "cell_type": "code",
   "execution_count": 5,
   "metadata": {},
   "outputs": [],
   "source": [
    "url = 'https://raw.githubusercontent.com/sambuddharay/FinalYearProject/main/scrapping/data/Premier-League-Stats/2018-2019/player/Premier-League-Stats-2018-2019-keepers-player.csv'\n",
    "df7 = pd.read_csv(url)\n",
    "url = 'https://raw.githubusercontent.com/sambuddharay/FinalYearProject/main/scrapping/data/Premier-League-Stats/2018-2019/player/Premier-League-Stats-2018-2019-keepersadv-player.csv'\n",
    "df8 = pd.read_csv(url)"
   ]
  },
  {
   "cell_type": "code",
   "execution_count": 6,
   "metadata": {},
   "outputs": [],
   "source": [
    "df7=df7[df7['Playing Time 90s']>0]\n",
    "df8=df8[df8['90s']>0]"
   ]
  },
  {
   "cell_type": "code",
   "execution_count": 7,
   "metadata": {},
   "outputs": [],
   "source": [
    "frames = [df7[['Player', 'Performance GA', 'Performance GA90', 'Performance SoTA', 'Performance Saves', 'Performance Save%', 'Performance W', 'Performance D', 'Performance L', 'Performance CS', 'Performance CS%', 'Penalty Kicks PKatt', 'Penalty Kicks PKA', 'Penalty Kicks PKsv', 'Penalty Kicks PKm']],\n",
    "          df8[['Goals GA', 'Goals PKA', 'Goals FK', 'Goals CK', 'Goals OG', 'Expected PSxG', 'Expected PSxG/SoT', 'Expected PSxG+/-', 'Expected /90', 'Launched Cmp', 'Launched Att', 'Launched Cmp%', 'Passes Att (GK)', 'Passes Thr', 'Passes Launch%', 'Passes AvgLen', 'Goal Kicks Att', 'Goal Kicks Launch%', 'Goal Kicks AvgLen', 'Crosses Opp', 'Crosses Stp', 'Crosses Stp%', 'Sweeper #OPA', 'Sweeper #OPA/90', 'Sweeper AvgDist']]]\n",
    "goalkeepers = pd.concat(frames, axis=1)"
   ]
  },
  {
   "cell_type": "code",
   "execution_count": 8,
   "metadata": {},
   "outputs": [],
   "source": [
    "players = players.replace(np.nan, 0)\n",
    "goalkeepers = goalkeepers.replace(np.nan, 0)\n",
    "utils.append_X_train(X_train, players, goalkeepers)"
   ]
  },
  {
   "cell_type": "code",
   "execution_count": 9,
   "metadata": {},
   "outputs": [
    {
     "data": {
      "text/plain": [
       "[array([[30.3 , 21.  , 17.  , ...,  0.  ,  0.  ,  0.  ],\n",
       "        [17.  , 15.  , 12.  , ...,  0.  ,  0.  ,  0.  ],\n",
       "        [ 6.5 ,  1.  ,  1.  , ...,  8.  ,  1.23, 12.9 ],\n",
       "        ...,\n",
       "        [ 0.  ,  0.  ,  0.  , ...,  0.  ,  0.  ,  0.  ],\n",
       "        [ 0.  ,  0.  ,  0.  , ...,  0.  ,  0.  ,  0.  ],\n",
       "        [ 0.  ,  0.  ,  0.  , ...,  0.  ,  0.  ,  0.  ]]),\n",
       " array([[37.9 , 66.  , 35.  , ...,  0.  ,  0.  ,  0.  ],\n",
       "        [24.  ,  0.  ,  0.  , ..., 16.  ,  0.67, 11.3 ],\n",
       "        [12.  ,  1.  ,  0.  , ...,  9.  ,  0.75, 14.3 ],\n",
       "        ...,\n",
       "        [ 0.  ,  0.  ,  0.  , ...,  0.  ,  0.  ,  0.  ],\n",
       "        [ 0.  ,  0.  ,  0.  , ...,  0.  ,  0.  ,  0.  ],\n",
       "        [ 0.  ,  0.  ,  0.  , ...,  0.  ,  0.  ,  0.  ]]),\n",
       " array([[ 9.8, 10. ,  2. , ...,  0. ,  0. ,  0. ],\n",
       "        [ 6.6, 12. ,  6. , ...,  0. ,  0. ,  0. ],\n",
       "        [19.5, 62. , 43. , ...,  0. ,  0. ,  0. ],\n",
       "        ...,\n",
       "        [ 0. ,  0. ,  0. , ...,  0. ,  0. ,  0. ],\n",
       "        [ 0. ,  0. ,  0. , ...,  0. ,  0. ,  0. ],\n",
       "        [ 0. ,  0. ,  0. , ...,  0. ,  0. ,  0. ]]),\n",
       " array([[18.6, 32. , 19. , ...,  0. ,  0. ,  0. ],\n",
       "        [26.5, 28. , 17. , ...,  0. ,  0. ,  0. ],\n",
       "        [19.5, 27. , 11. , ...,  0. ,  0. ,  0. ],\n",
       "        ...,\n",
       "        [ 0. ,  0. ,  0. , ...,  0. ,  0. ,  0. ],\n",
       "        [ 0. ,  0. ,  0. , ...,  0. ,  0. ,  0. ],\n",
       "        [ 0. ,  0. ,  0. , ...,  0. ,  0. ,  0. ]]),\n",
       " array([[22.2, 62. , 37. , ...,  0. ,  0. ,  0. ],\n",
       "        [ 6.2, 15. , 10. , ...,  0. ,  0. ,  0. ],\n",
       "        [27.5, 74. , 42. , ...,  0. ,  0. ,  0. ],\n",
       "        ...,\n",
       "        [ 0. ,  0. ,  0. , ...,  0. ,  0. ,  0. ],\n",
       "        [ 0. ,  0. ,  0. , ...,  0. ,  0. ,  0. ],\n",
       "        [ 0. ,  0. ,  0. , ...,  0. ,  0. ,  0. ]]),\n",
       " array([[ 30.7 ,  73.  ,  46.  , ...,   0.  ,   0.  ,   0.  ],\n",
       "        [ 36.  ,   1.  ,   1.  , ...,  35.  ,   0.97,  18.1 ],\n",
       "        [ 37.8 , 105.  ,  60.  , ...,   0.  ,   0.  ,   0.  ],\n",
       "        ...,\n",
       "        [  0.  ,   0.  ,   0.  , ...,   0.  ,   0.  ,   0.  ],\n",
       "        [  0.  ,   0.  ,   0.  , ...,   0.  ,   0.  ,   0.  ],\n",
       "        [  0.  ,   0.  ,   0.  , ...,   0.  ,   0.  ,   0.  ]]),\n",
       " array([[35.5, 48. , 24. , ...,  0. ,  0. ,  0. ],\n",
       "        [13.1, 38. , 23. , ...,  0. ,  0. ,  0. ],\n",
       "        [ 8.3,  2. ,  1. , ...,  0. ,  0. ,  0. ],\n",
       "        ...,\n",
       "        [ 0. ,  0. ,  0. , ...,  0. ,  0. ,  0. ],\n",
       "        [ 0. ,  0. ,  0. , ...,  0. ,  0. ,  0. ],\n",
       "        [ 0. ,  0. ,  0. , ...,  0. ,  0. ,  0. ]]),\n",
       " array([[ 4.2,  8. ,  6. , ...,  0. ,  0. ,  0. ],\n",
       "        [23.5, 49. , 30. , ...,  0. ,  0. ,  0. ],\n",
       "        [19.8, 13. ,  7. , ...,  0. ,  0. ,  0. ],\n",
       "        ...,\n",
       "        [ 0. ,  0. ,  0. , ...,  0. ,  0. ,  0. ],\n",
       "        [ 0. ,  0. ,  0. , ...,  0. ,  0. ,  0. ],\n",
       "        [ 0. ,  0. ,  0. , ...,  0. ,  0. ,  0. ]]),\n",
       " array([[ 5.3 ,  4.  ,  4.  , ...,  0.  ,  0.  ,  0.  ],\n",
       "        [13.9 ,  8.  ,  4.  , ...,  0.  ,  0.  ,  0.  ],\n",
       "        [ 7.  ,  0.  ,  0.  , ..., 11.  ,  1.57, 16.  ],\n",
       "        ...,\n",
       "        [ 0.  ,  0.  ,  0.  , ...,  0.  ,  0.  ,  0.  ],\n",
       "        [ 0.  ,  0.  ,  0.  , ...,  0.  ,  0.  ,  0.  ],\n",
       "        [ 0.  ,  0.  ,  0.  , ...,  0.  ,  0.  ,  0.  ]]),\n",
       " array([[15.7, 46. , 29. , ...,  0. ,  0. ,  0. ],\n",
       "        [24.3, 73. , 44. , ...,  0. ,  0. ,  0. ],\n",
       "        [ 1. ,  0. ,  0. , ...,  1. ,  1. , 15.8],\n",
       "        ...,\n",
       "        [ 0. ,  0. ,  0. , ...,  0. ,  0. ,  0. ],\n",
       "        [ 0. ,  0. ,  0. , ...,  0. ,  0. ,  0. ],\n",
       "        [ 0. ,  0. ,  0. , ...,  0. ,  0. ,  0. ]]),\n",
       " array([[18.1, 35. , 22. , ...,  0. ,  0. ,  0. ],\n",
       "        [ 7.1, 18. , 12. , ...,  0. ,  0. ,  0. ],\n",
       "        [11.2, 10. ,  6. , ...,  0. ,  0. ,  0. ],\n",
       "        ...,\n",
       "        [ 0. ,  0. ,  0. , ...,  0. ,  0. ,  0. ],\n",
       "        [ 0. ,  0. ,  0. , ...,  0. ,  0. ,  0. ],\n",
       "        [ 0. ,  0. ,  0. , ...,  0. ,  0. ,  0. ]]),\n",
       " array([[27.4 , 61.  , 39.  , ...,  0.  ,  0.  ,  0.  ],\n",
       "        [38.  ,  2.  ,  1.  , ..., 59.  ,  1.55, 16.6 ],\n",
       "        [ 1.2 ,  4.  ,  3.  , ...,  0.  ,  0.  ,  0.  ],\n",
       "        ...,\n",
       "        [ 0.  ,  0.  ,  0.  , ...,  0.  ,  0.  ,  0.  ],\n",
       "        [ 0.  ,  0.  ,  0.  , ...,  0.  ,  0.  ,  0.  ],\n",
       "        [ 0.  ,  0.  ,  0.  , ...,  0.  ,  0.  ,  0.  ]]),\n",
       " array([[27.3, 17. ,  9. , ...,  0. ,  0. ,  0. ],\n",
       "        [ 9. , 20. , 16. , ...,  0. ,  0. ,  0. ],\n",
       "        [10.8, 22. , 15. , ...,  0. ,  0. ,  0. ],\n",
       "        ...,\n",
       "        [ 0. ,  0. ,  0. , ...,  0. ,  0. ,  0. ],\n",
       "        [ 0. ,  0. ,  0. , ...,  0. ,  0. ,  0. ],\n",
       "        [ 0. ,  0. ,  0. , ...,  0. ,  0. ,  0. ]]),\n",
       " array([[ 7.1, 15. ,  9. , ...,  0. ,  0. ,  0. ],\n",
       "        [ 0.4,  0. ,  0. , ...,  0. ,  0. ,  0. ],\n",
       "        [11.3, 24. , 12. , ...,  0. ,  0. ,  0. ],\n",
       "        ...,\n",
       "        [ 0. ,  0. ,  0. , ...,  0. ,  0. ,  0. ],\n",
       "        [ 0. ,  0. ,  0. , ...,  0. ,  0. ,  0. ],\n",
       "        [ 0. ,  0. ,  0. , ...,  0. ,  0. ,  0. ]]),\n",
       " array([[ 8.4, 20. , 12. , ...,  0. ,  0. ,  0. ],\n",
       "        [16.6, 24. , 15. , ...,  0. ,  0. ,  0. ],\n",
       "        [ 0.1,  0. ,  0. , ...,  0. ,  0. ,  0. ],\n",
       "        ...,\n",
       "        [ 0. ,  0. ,  0. , ...,  0. ,  0. ,  0. ],\n",
       "        [ 0. ,  0. ,  0. , ...,  0. ,  0. ,  0. ],\n",
       "        [ 0. ,  0. ,  0. , ...,  0. ,  0. ,  0. ]]),\n",
       " array([[15.9, 28. , 20. , ...,  0. ,  0. ,  0. ],\n",
       "        [10.9, 13. ,  7. , ...,  0. ,  0. ,  0. ],\n",
       "        [23.9, 41. , 25. , ...,  0. ,  0. ,  0. ],\n",
       "        ...,\n",
       "        [ 0. ,  0. ,  0. , ...,  0. ,  0. ,  0. ],\n",
       "        [ 0. ,  0. ,  0. , ...,  0. ,  0. ,  0. ],\n",
       "        [ 0. ,  0. ,  0. , ...,  0. ,  0. ,  0. ]]),\n",
       " array([[32.5, 37. , 23. , ...,  0. ,  0. ,  0. ],\n",
       "        [20.3, 33. , 19. , ...,  0. ,  0. ,  0. ],\n",
       "        [ 6.3, 20. , 12. , ...,  0. ,  0. ,  0. ],\n",
       "        ...,\n",
       "        [ 0. ,  0. ,  0. , ...,  0. ,  0. ,  0. ],\n",
       "        [ 0. ,  0. ,  0. , ...,  0. ,  0. ,  0. ],\n",
       "        [ 0. ,  0. ,  0. , ...,  0. ,  0. ,  0. ]]),\n",
       " array([[ 2.1,  4. ,  2. , ...,  0. ,  0. ,  0. ],\n",
       "        [32.7, 91. , 56. , ...,  0. ,  0. ,  0. ],\n",
       "        [34.4, 50. , 31. , ...,  0. ,  0. ,  0. ],\n",
       "        ...,\n",
       "        [ 0. ,  0. ,  0. , ...,  0. ,  0. ,  0. ],\n",
       "        [ 0. ,  0. ,  0. , ...,  0. ,  0. ,  0. ],\n",
       "        [ 0. ,  0. ,  0. , ...,  0. ,  0. ,  0. ]]),\n",
       " array([[33.8, 89. , 49. , ...,  0. ,  0. ,  0. ],\n",
       "        [23.4, 23. , 14. , ...,  0. ,  0. ,  0. ],\n",
       "        [22.1,  9. ,  5. , ...,  0. ,  0. ,  0. ],\n",
       "        ...,\n",
       "        [ 0. ,  0. ,  0. , ...,  0. ,  0. ,  0. ],\n",
       "        [ 0. ,  0. ,  0. , ...,  0. ,  0. ,  0. ],\n",
       "        [ 0. ,  0. ,  0. , ...,  0. ,  0. ,  0. ]]),\n",
       " array([[34. , 58. , 32. , ...,  0. ,  0. ,  0. ],\n",
       "        [35.2, 85. , 52. , ...,  0. ,  0. ,  0. ],\n",
       "        [ 1.5,  1. ,  1. , ...,  0. ,  0. ,  0. ],\n",
       "        ...,\n",
       "        [ 0. ,  0. ,  0. , ...,  0. ,  0. ,  0. ],\n",
       "        [ 0. ,  0. ,  0. , ...,  0. ,  0. ,  0. ],\n",
       "        [ 0. ,  0. ,  0. , ...,  0. ,  0. ,  0. ]])]"
      ]
     },
     "execution_count": 9,
     "metadata": {},
     "output_type": "execute_result"
    }
   ],
   "source": [
    "X_train"
   ]
  },
  {
   "cell_type": "code",
   "execution_count": 10,
   "metadata": {},
   "outputs": [
    {
     "data": {
      "text/plain": [
       "(20, 60, 142)"
      ]
     },
     "execution_count": 10,
     "metadata": {},
     "output_type": "execute_result"
    }
   ],
   "source": [
    "np.array(X_train).shape"
   ]
  },
  {
   "cell_type": "code",
   "execution_count": 11,
   "metadata": {},
   "outputs": [],
   "source": [
    "url = 'https://raw.githubusercontent.com/sambuddharay/FinalYearProject/main/scrapping/data/Premier-League-Stats/2019-2020/player/Premier-League-Stats-2019-2020-defense-player.csv'\n",
    "df1 = pd.read_csv(url)\n",
    "url = 'https://raw.githubusercontent.com/sambuddharay/FinalYearProject/main/scrapping/data/Premier-League-Stats/2019-2020/player/Premier-League-Stats-2019-2020-gca-player.csv'\n",
    "df2 = pd.read_csv(url)\n",
    "url = 'https://raw.githubusercontent.com/sambuddharay/FinalYearProject/main/scrapping/data/Premier-League-Stats/2019-2020/player/Premier-League-Stats-2019-2020-misc-player.csv'\n",
    "df3 = pd.read_csv(url)\n",
    "url = 'https://raw.githubusercontent.com/sambuddharay/FinalYearProject/main/scrapping/data/Premier-League-Stats/2019-2020/player/Premier-League-Stats-2019-2020-passing-player.csv'\n",
    "df4 = pd.read_csv(url)\n",
    "url = 'https://raw.githubusercontent.com/sambuddharay/FinalYearProject/main/scrapping/data/Premier-League-Stats/2019-2020/player/Premier-League-Stats-2019-2020-possession-player.csv'\n",
    "df5 = pd.read_csv(url)\n",
    "url = 'https://raw.githubusercontent.com/sambuddharay/FinalYearProject/main/scrapping/data/Premier-League-Stats/2019-2020/player/Premier-League-Stats-2019-2020-shooting-player.csv'\n",
    "df6 = pd.read_csv(url)"
   ]
  },
  {
   "cell_type": "code",
   "execution_count": 12,
   "metadata": {},
   "outputs": [],
   "source": [
    "frames = [df1[['Player', 'Nation', 'Pos', 'Squad', 'Born', '90s', 'Tackles Tkl', 'Tackles TklW', 'Tackles Def 3rd', 'Tackles Mid 3rd', 'Tackles Att 3rd', 'Challenges Tkl', 'Challenges Att', 'Challenges Lost', 'Blocks Blocks', 'Blocks Sh', 'Blocks Pass', 'Int', 'Tkl+Int', 'Clr', 'Err']],\n",
    "          df2[['SCA SCA', 'SCA SCA90', 'SCA Types PassLive', 'SCA Types PassDead', 'SCA Types TO', 'SCA Types Sh', 'SCA Types Fld', 'SCA Types Def', 'GCA GCA', 'GCA GCA90', 'GCA Types PassLive', 'GCA Types PassDead', 'GCA Types TO', 'GCA Types Sh', 'GCA Types Fld', 'GCA Types Def']],\n",
    "          df3[['Performance CrdY', 'Performance CrdR', 'Performance 2CrdY', 'Performance Fls', 'Performance Fld', 'Performance Off', 'Performance Crs', 'Performance Int', 'Performance TklW', 'Performance PKwon', 'Performance PKcon', 'Performance OG', 'Performance Recov', 'Aerial Duels Won', 'Aerial Duels Lost']],\n",
    "          df4[['Total Cmp', 'Total Att', 'Total Cmp%', 'Total TotDist', 'Total PrgDist', 'Short Cmp', 'Short Att', 'Medium Cmp', 'Medium Att', 'Long Cmp', 'Long Att', 'Ast', 'xAG', 'Expected xA', 'Expected A-xAG', 'KP', '1/3', 'PPA', 'CrsPA', 'PrgP']],\n",
    "          df5[['Touches Touches', 'Touches Def Pen', 'Touches Def 3rd', 'Touches Mid 3rd', 'Touches Att 3rd', 'Touches Att Pen', 'Touches Live', 'Take-Ons Att', 'Take-Ons Succ', 'Take-Ons Tkld', 'Carries Carries', 'Carries TotDist', 'Carries PrgDist', 'Carries PrgC', 'Carries 1/3', 'Carries CPA', 'Carries Mis', 'Carries Dis', 'Receiving Rec', 'Receiving PrgR']],\n",
    "          df6[['Standard Gls', 'Standard Sh', 'Standard SoT','Standard Sh/90', 'Standard SoT/90', 'Standard G/Sh', 'Standard G/SoT', 'Standard Dist', 'Standard FK', 'Standard PK', 'Standard PKatt', 'Expected xG', 'Expected npxG', 'Expected npxG/Sh', 'Expected G-xG', 'Expected np:G-xG']]]\n",
    "players = pd.concat(frames, axis=1)"
   ]
  },
  {
   "cell_type": "code",
   "execution_count": 13,
   "metadata": {},
   "outputs": [],
   "source": [
    "url = 'https://raw.githubusercontent.com/sambuddharay/FinalYearProject/main/scrapping/data/Premier-League-Stats/2019-2020/player/Premier-League-Stats-2019-2020-keepers-player.csv'\n",
    "df7 = pd.read_csv(url)\n",
    "url = 'https://raw.githubusercontent.com/sambuddharay/FinalYearProject/main/scrapping/data/Premier-League-Stats/2019-2020/player/Premier-League-Stats-2019-2020-keepersadv-player.csv'\n",
    "df8 = pd.read_csv(url)"
   ]
  },
  {
   "cell_type": "code",
   "execution_count": 14,
   "metadata": {},
   "outputs": [],
   "source": [
    "df7=df7[df7['Playing Time 90s']>0]\n",
    "df8=df8[df8['90s']>0]"
   ]
  },
  {
   "cell_type": "code",
   "execution_count": 15,
   "metadata": {},
   "outputs": [],
   "source": [
    "frames = [df7[['Player', 'Performance GA', 'Performance GA90', 'Performance SoTA', 'Performance Saves', 'Performance Save%', 'Performance W', 'Performance D', 'Performance L', 'Performance CS', 'Performance CS%', 'Penalty Kicks PKatt', 'Penalty Kicks PKA', 'Penalty Kicks PKsv', 'Penalty Kicks PKm']],\n",
    "          df8[['Goals GA', 'Goals PKA', 'Goals FK', 'Goals CK', 'Goals OG', 'Expected PSxG', 'Expected PSxG/SoT', 'Expected PSxG+/-', 'Expected /90', 'Launched Cmp', 'Launched Att', 'Launched Cmp%', 'Passes Att (GK)', 'Passes Thr', 'Passes Launch%', 'Passes AvgLen', 'Goal Kicks Att', 'Goal Kicks Launch%', 'Goal Kicks AvgLen', 'Crosses Opp', 'Crosses Stp', 'Crosses Stp%', 'Sweeper #OPA', 'Sweeper #OPA/90', 'Sweeper AvgDist']]]\n",
    "goalkeepers = pd.concat(frames, axis=1)"
   ]
  },
  {
   "cell_type": "code",
   "execution_count": 16,
   "metadata": {},
   "outputs": [],
   "source": [
    "players = players.replace(np.nan, 0)\n",
    "goalkeepers = goalkeepers.replace(np.nan, 0)\n",
    "utils.append_X_train(X_train, players, goalkeepers)"
   ]
  },
  {
   "cell_type": "code",
   "execution_count": 17,
   "metadata": {},
   "outputs": [
    {
     "data": {
      "text/plain": [
       "(40, 60, 142)"
      ]
     },
     "execution_count": 17,
     "metadata": {},
     "output_type": "execute_result"
    }
   ],
   "source": [
    "np.array(X_train).shape"
   ]
  },
  {
   "cell_type": "code",
   "execution_count": 18,
   "metadata": {},
   "outputs": [],
   "source": [
    "url = 'https://raw.githubusercontent.com/sambuddharay/FinalYearProject/main/scrapping/data/Premier-League-Stats/2020-2021/player/Premier-League-Stats-2020-2021-defense-player.csv'\n",
    "df1 = pd.read_csv(url)\n",
    "url = 'https://raw.githubusercontent.com/sambuddharay/FinalYearProject/main/scrapping/data/Premier-League-Stats/2020-2021/player/Premier-League-Stats-2020-2021-gca-player.csv'\n",
    "df2 = pd.read_csv(url)\n",
    "url = 'https://raw.githubusercontent.com/sambuddharay/FinalYearProject/main/scrapping/data/Premier-League-Stats/2020-2021/player/Premier-League-Stats-2020-2021-misc-player.csv'\n",
    "df3 = pd.read_csv(url)\n",
    "url = 'https://raw.githubusercontent.com/sambuddharay/FinalYearProject/main/scrapping/data/Premier-League-Stats/2020-2021/player/Premier-League-Stats-2020-2021-passing-player.csv'\n",
    "df4 = pd.read_csv(url)\n",
    "url = 'https://raw.githubusercontent.com/sambuddharay/FinalYearProject/main/scrapping/data/Premier-League-Stats/2020-2021/player/Premier-League-Stats-2020-2021-possession-player.csv'\n",
    "df5 = pd.read_csv(url)\n",
    "url = 'https://raw.githubusercontent.com/sambuddharay/FinalYearProject/main/scrapping/data/Premier-League-Stats/2020-2021/player/Premier-League-Stats-2020-2021-shooting-player.csv'\n",
    "df6 = pd.read_csv(url)"
   ]
  },
  {
   "cell_type": "code",
   "execution_count": 19,
   "metadata": {},
   "outputs": [],
   "source": [
    "frames = [df1[['Player', 'Nation', 'Pos', 'Squad', 'Born', '90s', 'Tackles Tkl', 'Tackles TklW', 'Tackles Def 3rd', 'Tackles Mid 3rd', 'Tackles Att 3rd', 'Challenges Tkl', 'Challenges Att', 'Challenges Lost', 'Blocks Blocks', 'Blocks Sh', 'Blocks Pass', 'Int', 'Tkl+Int', 'Clr', 'Err']],\n",
    "          df2[['SCA SCA', 'SCA SCA90', 'SCA Types PassLive', 'SCA Types PassDead', 'SCA Types TO', 'SCA Types Sh', 'SCA Types Fld', 'SCA Types Def', 'GCA GCA', 'GCA GCA90', 'GCA Types PassLive', 'GCA Types PassDead', 'GCA Types TO', 'GCA Types Sh', 'GCA Types Fld', 'GCA Types Def']],\n",
    "          df3[['Performance CrdY', 'Performance CrdR', 'Performance 2CrdY', 'Performance Fls', 'Performance Fld', 'Performance Off', 'Performance Crs', 'Performance Int', 'Performance TklW', 'Performance PKwon', 'Performance PKcon', 'Performance OG', 'Performance Recov', 'Aerial Duels Won', 'Aerial Duels Lost']],\n",
    "          df4[['Total Cmp', 'Total Att', 'Total Cmp%', 'Total TotDist', 'Total PrgDist', 'Short Cmp', 'Short Att', 'Medium Cmp', 'Medium Att', 'Long Cmp', 'Long Att', 'Ast', 'xAG', 'Expected xA', 'Expected A-xAG', 'KP', '1/3', 'PPA', 'CrsPA', 'PrgP']],\n",
    "          df5[['Touches Touches', 'Touches Def Pen', 'Touches Def 3rd', 'Touches Mid 3rd', 'Touches Att 3rd', 'Touches Att Pen', 'Touches Live', 'Take-Ons Att', 'Take-Ons Succ', 'Take-Ons Tkld', 'Carries Carries', 'Carries TotDist', 'Carries PrgDist', 'Carries PrgC', 'Carries 1/3', 'Carries CPA', 'Carries Mis', 'Carries Dis', 'Receiving Rec', 'Receiving PrgR']],\n",
    "          df6[['Standard Gls', 'Standard Sh', 'Standard SoT','Standard Sh/90', 'Standard SoT/90', 'Standard G/Sh', 'Standard G/SoT', 'Standard Dist', 'Standard FK', 'Standard PK', 'Standard PKatt', 'Expected xG', 'Expected npxG', 'Expected npxG/Sh', 'Expected G-xG', 'Expected np:G-xG']]]\n",
    "players = pd.concat(frames, axis=1)"
   ]
  },
  {
   "cell_type": "code",
   "execution_count": 20,
   "metadata": {},
   "outputs": [],
   "source": [
    "url = 'https://raw.githubusercontent.com/sambuddharay/FinalYearProject/main/scrapping/data/Premier-League-Stats/2020-2021/player/Premier-League-Stats-2020-2021-keepers-player.csv'\n",
    "df7 = pd.read_csv(url)\n",
    "url = 'https://raw.githubusercontent.com/sambuddharay/FinalYearProject/main/scrapping/data/Premier-League-Stats/2020-2021/player/Premier-League-Stats-2020-2021-keepersadv-player.csv'\n",
    "df8 = pd.read_csv(url)"
   ]
  },
  {
   "cell_type": "code",
   "execution_count": 21,
   "metadata": {},
   "outputs": [],
   "source": [
    "df7=df7[df7['Playing Time 90s']>0]\n",
    "df8=df8[df8['90s']>0]"
   ]
  },
  {
   "cell_type": "code",
   "execution_count": 22,
   "metadata": {},
   "outputs": [],
   "source": [
    "frames = [df7[['Player', 'Performance GA', 'Performance GA90', 'Performance SoTA', 'Performance Saves', 'Performance Save%', 'Performance W', 'Performance D', 'Performance L', 'Performance CS', 'Performance CS%', 'Penalty Kicks PKatt', 'Penalty Kicks PKA', 'Penalty Kicks PKsv', 'Penalty Kicks PKm']],\n",
    "          df8[['Goals GA', 'Goals PKA', 'Goals FK', 'Goals CK', 'Goals OG', 'Expected PSxG', 'Expected PSxG/SoT', 'Expected PSxG+/-', 'Expected /90', 'Launched Cmp', 'Launched Att', 'Launched Cmp%', 'Passes Att (GK)', 'Passes Thr', 'Passes Launch%', 'Passes AvgLen', 'Goal Kicks Att', 'Goal Kicks Launch%', 'Goal Kicks AvgLen', 'Crosses Opp', 'Crosses Stp', 'Crosses Stp%', 'Sweeper #OPA', 'Sweeper #OPA/90', 'Sweeper AvgDist']]]\n",
    "goalkeepers = pd.concat(frames, axis=1)"
   ]
  },
  {
   "cell_type": "code",
   "execution_count": 23,
   "metadata": {},
   "outputs": [],
   "source": [
    "players = players.replace(np.nan, 0)\n",
    "goalkeepers = goalkeepers.replace(np.nan, 0)\n",
    "utils.append_X_train(X_train, players, goalkeepers)"
   ]
  },
  {
   "cell_type": "code",
   "execution_count": 24,
   "metadata": {},
   "outputs": [
    {
     "data": {
      "text/plain": [
       "(60, 60, 142)"
      ]
     },
     "execution_count": 24,
     "metadata": {},
     "output_type": "execute_result"
    }
   ],
   "source": [
    "np.array(X_train).shape"
   ]
  },
  {
   "cell_type": "code",
   "execution_count": 25,
   "metadata": {},
   "outputs": [],
   "source": [
    "url = 'https://raw.githubusercontent.com/sambuddharay/FinalYearProject/main/scrapping/data/Premier-League-Stats/2021-2022/player/Premier-League-Stats-2021-2022-defense-player.csv'\n",
    "df1 = pd.read_csv(url)\n",
    "url = 'https://raw.githubusercontent.com/sambuddharay/FinalYearProject/main/scrapping/data/Premier-League-Stats/2021-2022/player/Premier-League-Stats-2021-2022-gca-player.csv'\n",
    "df2 = pd.read_csv(url)\n",
    "url = 'https://raw.githubusercontent.com/sambuddharay/FinalYearProject/main/scrapping/data/Premier-League-Stats/2021-2022/player/Premier-League-Stats-2021-2022-misc-player.csv'\n",
    "df3 = pd.read_csv(url)\n",
    "url = 'https://raw.githubusercontent.com/sambuddharay/FinalYearProject/main/scrapping/data/Premier-League-Stats/2021-2022/player/Premier-League-Stats-2021-2022-passing-player.csv'\n",
    "df4 = pd.read_csv(url)\n",
    "url = 'https://raw.githubusercontent.com/sambuddharay/FinalYearProject/main/scrapping/data/Premier-League-Stats/2021-2022/player/Premier-League-Stats-2021-2022-possession-player.csv'\n",
    "df5 = pd.read_csv(url)\n",
    "url = 'https://raw.githubusercontent.com/sambuddharay/FinalYearProject/main/scrapping/data/Premier-League-Stats/2021-2022/player/Premier-League-Stats-2021-2022-shooting-player.csv'\n",
    "df6 = pd.read_csv(url)"
   ]
  },
  {
   "cell_type": "code",
   "execution_count": 26,
   "metadata": {},
   "outputs": [],
   "source": [
    "frames = [df1[['Player', 'Nation', 'Pos', 'Squad', 'Born', '90s', 'Tackles Tkl', 'Tackles TklW', 'Tackles Def 3rd', 'Tackles Mid 3rd', 'Tackles Att 3rd', 'Challenges Tkl', 'Challenges Att', 'Challenges Lost', 'Blocks Blocks', 'Blocks Sh', 'Blocks Pass', 'Int', 'Tkl+Int', 'Clr', 'Err']],\n",
    "          df2[['SCA SCA', 'SCA SCA90', 'SCA Types PassLive', 'SCA Types PassDead', 'SCA Types TO', 'SCA Types Sh', 'SCA Types Fld', 'SCA Types Def', 'GCA GCA', 'GCA GCA90', 'GCA Types PassLive', 'GCA Types PassDead', 'GCA Types TO', 'GCA Types Sh', 'GCA Types Fld', 'GCA Types Def']],\n",
    "          df3[['Performance CrdY', 'Performance CrdR', 'Performance 2CrdY', 'Performance Fls', 'Performance Fld', 'Performance Off', 'Performance Crs', 'Performance Int', 'Performance TklW', 'Performance PKwon', 'Performance PKcon', 'Performance OG', 'Performance Recov', 'Aerial Duels Won', 'Aerial Duels Lost']],\n",
    "          df4[['Total Cmp', 'Total Att', 'Total Cmp%', 'Total TotDist', 'Total PrgDist', 'Short Cmp', 'Short Att', 'Medium Cmp', 'Medium Att', 'Long Cmp', 'Long Att', 'Ast', 'xAG', 'Expected xA', 'Expected A-xAG', 'KP', '1/3', 'PPA', 'CrsPA', 'PrgP']],\n",
    "          df5[['Touches Touches', 'Touches Def Pen', 'Touches Def 3rd', 'Touches Mid 3rd', 'Touches Att 3rd', 'Touches Att Pen', 'Touches Live', 'Take-Ons Att', 'Take-Ons Succ', 'Take-Ons Tkld', 'Carries Carries', 'Carries TotDist', 'Carries PrgDist', 'Carries PrgC', 'Carries 1/3', 'Carries CPA', 'Carries Mis', 'Carries Dis', 'Receiving Rec', 'Receiving PrgR']],\n",
    "          df6[['Standard Gls', 'Standard Sh', 'Standard SoT','Standard Sh/90', 'Standard SoT/90', 'Standard G/Sh', 'Standard G/SoT', 'Standard Dist', 'Standard FK', 'Standard PK', 'Standard PKatt', 'Expected xG', 'Expected npxG', 'Expected npxG/Sh', 'Expected G-xG', 'Expected np:G-xG']]]\n",
    "players = pd.concat(frames, axis=1)"
   ]
  },
  {
   "cell_type": "code",
   "execution_count": 27,
   "metadata": {},
   "outputs": [],
   "source": [
    "url = 'https://raw.githubusercontent.com/sambuddharay/FinalYearProject/main/scrapping/data/Premier-League-Stats/2021-2022/player/Premier-League-Stats-2021-2022-keepers-player.csv'\n",
    "df7 = pd.read_csv(url)\n",
    "url = 'https://raw.githubusercontent.com/sambuddharay/FinalYearProject/main/scrapping/data/Premier-League-Stats/2021-2022/player/Premier-League-Stats-2021-2022-keepersadv-player.csv'\n",
    "df8 = pd.read_csv(url)"
   ]
  },
  {
   "cell_type": "code",
   "execution_count": 28,
   "metadata": {},
   "outputs": [],
   "source": [
    "df7=df7[df7['Playing Time 90s']>0]\n",
    "df8=df8[df8['90s']>0]\n",
    "frames = [df7[['Player', 'Performance GA', 'Performance GA90', 'Performance SoTA', 'Performance Saves', 'Performance Save%', 'Performance W', 'Performance D', 'Performance L', 'Performance CS', 'Performance CS%', 'Penalty Kicks PKatt', 'Penalty Kicks PKA', 'Penalty Kicks PKsv', 'Penalty Kicks PKm']],\n",
    "          df8[['Goals GA', 'Goals PKA', 'Goals FK', 'Goals CK', 'Goals OG', 'Expected PSxG', 'Expected PSxG/SoT', 'Expected PSxG+/-', 'Expected /90', 'Launched Cmp', 'Launched Att', 'Launched Cmp%', 'Passes Att (GK)', 'Passes Thr', 'Passes Launch%', 'Passes AvgLen', 'Goal Kicks Att', 'Goal Kicks Launch%', 'Goal Kicks AvgLen', 'Crosses Opp', 'Crosses Stp', 'Crosses Stp%', 'Sweeper #OPA', 'Sweeper #OPA/90', 'Sweeper AvgDist']]]\n",
    "goalkeepers = pd.concat(frames, axis=1)"
   ]
  },
  {
   "cell_type": "code",
   "execution_count": 29,
   "metadata": {},
   "outputs": [],
   "source": [
    "players = players.replace(np.nan, 0)\n",
    "goalkeepers = goalkeepers.replace(np.nan, 0)\n",
    "utils.append_X_train(X_train, players, goalkeepers)"
   ]
  },
  {
   "cell_type": "code",
   "execution_count": 30,
   "metadata": {},
   "outputs": [
    {
     "data": {
      "text/plain": [
       "(80, 60, 142)"
      ]
     },
     "execution_count": 30,
     "metadata": {},
     "output_type": "execute_result"
    }
   ],
   "source": [
    "np.array(X_train).shape"
   ]
  },
  {
   "cell_type": "code",
   "execution_count": 31,
   "metadata": {},
   "outputs": [],
   "source": [
    "url = 'https://raw.githubusercontent.com/sambuddharay/FinalYearProject/main/scrapping/data/Premier-League-Stats/2022-2023/player/Premier-League-Stats-2022-2023-defense-player.csv'\n",
    "df1 = pd.read_csv(url)\n",
    "url = 'https://raw.githubusercontent.com/sambuddharay/FinalYearProject/main/scrapping/data/Premier-League-Stats/2022-2023/player/Premier-League-Stats-2022-2023-gca-player.csv'\n",
    "df2 = pd.read_csv(url)\n",
    "url = 'https://raw.githubusercontent.com/sambuddharay/FinalYearProject/main/scrapping/data/Premier-League-Stats/2022-2023/player/Premier-League-Stats-2022-2023-misc-player.csv'\n",
    "df3 = pd.read_csv(url)\n",
    "url = 'https://raw.githubusercontent.com/sambuddharay/FinalYearProject/main/scrapping/data/Premier-League-Stats/2022-2023/player/Premier-League-Stats-2022-2023-passing-player.csv'\n",
    "df4 = pd.read_csv(url)\n",
    "url = 'https://raw.githubusercontent.com/sambuddharay/FinalYearProject/main/scrapping/data/Premier-League-Stats/2022-2023/player/Premier-League-Stats-2022-2023-possession-player.csv'\n",
    "df5 = pd.read_csv(url)\n",
    "url = 'https://raw.githubusercontent.com/sambuddharay/FinalYearProject/main/scrapping/data/Premier-League-Stats/2022-2023/player/Premier-League-Stats-2022-2023-shooting-player.csv'\n",
    "df6 = pd.read_csv(url)"
   ]
  },
  {
   "cell_type": "code",
   "execution_count": 32,
   "metadata": {},
   "outputs": [],
   "source": [
    "frames = [df1[['Player', 'Nation', 'Pos', 'Squad', 'Born', '90s', 'Tackles Tkl', 'Tackles TklW', 'Tackles Def 3rd', 'Tackles Mid 3rd', 'Tackles Att 3rd', 'Challenges Tkl', 'Challenges Att', 'Challenges Lost', 'Blocks Blocks', 'Blocks Sh', 'Blocks Pass', 'Int', 'Tkl+Int', 'Clr', 'Err']],\n",
    "          df2[['SCA SCA', 'SCA SCA90', 'SCA Types PassLive', 'SCA Types PassDead', 'SCA Types TO', 'SCA Types Sh', 'SCA Types Fld', 'SCA Types Def', 'GCA GCA', 'GCA GCA90', 'GCA Types PassLive', 'GCA Types PassDead', 'GCA Types TO', 'GCA Types Sh', 'GCA Types Fld', 'GCA Types Def']],\n",
    "          df3[['Performance CrdY', 'Performance CrdR', 'Performance 2CrdY', 'Performance Fls', 'Performance Fld', 'Performance Off', 'Performance Crs', 'Performance Int', 'Performance TklW', 'Performance PKwon', 'Performance PKcon', 'Performance OG', 'Performance Recov', 'Aerial Duels Won', 'Aerial Duels Lost']],\n",
    "          df4[['Total Cmp', 'Total Att', 'Total Cmp%', 'Total TotDist', 'Total PrgDist', 'Short Cmp', 'Short Att', 'Medium Cmp', 'Medium Att', 'Long Cmp', 'Long Att', 'Ast', 'xAG', 'Expected xA', 'Expected A-xAG', 'KP', '1/3', 'PPA', 'CrsPA', 'PrgP']],\n",
    "          df5[['Touches Touches', 'Touches Def Pen', 'Touches Def 3rd', 'Touches Mid 3rd', 'Touches Att 3rd', 'Touches Att Pen', 'Touches Live', 'Take-Ons Att', 'Take-Ons Succ', 'Take-Ons Tkld', 'Carries Carries', 'Carries TotDist', 'Carries PrgDist', 'Carries PrgC', 'Carries 1/3', 'Carries CPA', 'Carries Mis', 'Carries Dis', 'Receiving Rec', 'Receiving PrgR']],\n",
    "          df6[['Standard Gls', 'Standard Sh', 'Standard SoT','Standard Sh/90', 'Standard SoT/90', 'Standard G/Sh', 'Standard G/SoT', 'Standard Dist', 'Standard FK', 'Standard PK', 'Standard PKatt', 'Expected xG', 'Expected npxG', 'Expected npxG/Sh', 'Expected G-xG', 'Expected np:G-xG']]]\n",
    "players = pd.concat(frames, axis=1)"
   ]
  },
  {
   "cell_type": "code",
   "execution_count": 33,
   "metadata": {},
   "outputs": [],
   "source": [
    "url = 'https://raw.githubusercontent.com/sambuddharay/FinalYearProject/main/scrapping/data/Premier-League-Stats/2022-2023/player/Premier-League-Stats-2022-2023-keepers-player.csv'\n",
    "df7 = pd.read_csv(url)\n",
    "url = 'https://raw.githubusercontent.com/sambuddharay/FinalYearProject/main/scrapping/data/Premier-League-Stats/2022-2023/player/Premier-League-Stats-2022-2023-keepersadv-player.csv'\n",
    "df8 = pd.read_csv(url)"
   ]
  },
  {
   "cell_type": "code",
   "execution_count": 34,
   "metadata": {},
   "outputs": [],
   "source": [
    "df7=df7[df7['Playing Time 90s']>0]\n",
    "df8=df8[df8['90s']>0]\n",
    "frames = [df7[['Player', 'Performance GA', 'Performance GA90', 'Performance SoTA', 'Performance Saves', 'Performance Save%', 'Performance W', 'Performance D', 'Performance L', 'Performance CS', 'Performance CS%', 'Penalty Kicks PKatt', 'Penalty Kicks PKA', 'Penalty Kicks PKsv', 'Penalty Kicks PKm']],\n",
    "          df8[['Goals GA', 'Goals PKA', 'Goals FK', 'Goals CK', 'Goals OG', 'Expected PSxG', 'Expected PSxG/SoT', 'Expected PSxG+/-', 'Expected /90', 'Launched Cmp', 'Launched Att', 'Launched Cmp%', 'Passes Att (GK)', 'Passes Thr', 'Passes Launch%', 'Passes AvgLen', 'Goal Kicks Att', 'Goal Kicks Launch%', 'Goal Kicks AvgLen', 'Crosses Opp', 'Crosses Stp', 'Crosses Stp%', 'Sweeper #OPA', 'Sweeper #OPA/90', 'Sweeper AvgDist']]]\n",
    "goalkeepers = pd.concat(frames, axis=1)"
   ]
  },
  {
   "cell_type": "code",
   "execution_count": 35,
   "metadata": {},
   "outputs": [],
   "source": [
    "players = players.replace(np.nan, 0)\n",
    "goalkeepers = goalkeepers.replace(np.nan, 0)\n",
    "utils.append_X_train(X_train, players, goalkeepers)"
   ]
  },
  {
   "cell_type": "code",
   "execution_count": 36,
   "metadata": {},
   "outputs": [
    {
     "data": {
      "text/plain": [
       "(100, 60, 142)"
      ]
     },
     "execution_count": 36,
     "metadata": {},
     "output_type": "execute_result"
    }
   ],
   "source": [
    "np.array(X_train).shape"
   ]
  },
  {
   "cell_type": "code",
   "execution_count": 37,
   "metadata": {},
   "outputs": [],
   "source": [
    "url = 'https://raw.githubusercontent.com/sambuddharay/FinalYearProject/main/scrapping/data/Serie-A-Stats/2018-2019/player/Serie-A-Stats-2018-2019-defense-player.csv'\n",
    "df1 = pd.read_csv(url)\n",
    "url = 'https://raw.githubusercontent.com/sambuddharay/FinalYearProject/main/scrapping/data/Serie-A-Stats/2018-2019/player/Serie-A-Stats-2018-2019-gca-player.csv'\n",
    "df2 = pd.read_csv(url)\n",
    "url = 'https://raw.githubusercontent.com/sambuddharay/FinalYearProject/main/scrapping/data/Serie-A-Stats/2018-2019/player/Serie-A-Stats-2018-2019-misc-player.csv'\n",
    "df3 = pd.read_csv(url)\n",
    "url = 'https://raw.githubusercontent.com/sambuddharay/FinalYearProject/main/scrapping/data/Serie-A-Stats/2018-2019/player/Serie-A-Stats-2018-2019-passing-player.csv'\n",
    "df4 = pd.read_csv(url)\n",
    "url = 'https://raw.githubusercontent.com/sambuddharay/FinalYearProject/main/scrapping/data/Serie-A-Stats/2018-2019/player/Serie-A-Stats-2018-2019-possession-player.csv'\n",
    "df5 = pd.read_csv(url)\n",
    "url = 'https://raw.githubusercontent.com/sambuddharay/FinalYearProject/main/scrapping/data/Serie-A-Stats/2018-2019/player/Serie-A-Stats-2018-2019-shooting-player.csv'\n",
    "df6 = pd.read_csv(url)"
   ]
  },
  {
   "cell_type": "code",
   "execution_count": 38,
   "metadata": {},
   "outputs": [],
   "source": [
    "frames = [df1[['Player', 'Nation', 'Pos', 'Squad', 'Born', '90s', 'Tackles Tkl', 'Tackles TklW', 'Tackles Def 3rd', 'Tackles Mid 3rd', 'Tackles Att 3rd', 'Challenges Tkl', 'Challenges Att', 'Challenges Lost', 'Blocks Blocks', 'Blocks Sh', 'Blocks Pass', 'Int', 'Tkl+Int', 'Clr', 'Err']],\n",
    "          df2[['SCA SCA', 'SCA SCA90', 'SCA Types PassLive', 'SCA Types PassDead', 'SCA Types TO', 'SCA Types Sh', 'SCA Types Fld', 'SCA Types Def', 'GCA GCA', 'GCA GCA90', 'GCA Types PassLive', 'GCA Types PassDead', 'GCA Types TO', 'GCA Types Sh', 'GCA Types Fld', 'GCA Types Def']],\n",
    "          df3[['Performance CrdY', 'Performance CrdR', 'Performance 2CrdY', 'Performance Fls', 'Performance Fld', 'Performance Off', 'Performance Crs', 'Performance Int', 'Performance TklW', 'Performance PKwon', 'Performance PKcon', 'Performance OG', 'Performance Recov', 'Aerial Duels Won', 'Aerial Duels Lost']],\n",
    "          df4[['Total Cmp', 'Total Att', 'Total Cmp%', 'Total TotDist', 'Total PrgDist', 'Short Cmp', 'Short Att', 'Medium Cmp', 'Medium Att', 'Long Cmp', 'Long Att', 'Ast', 'xAG', 'Expected xA', 'Expected A-xAG', 'KP', '1/3', 'PPA', 'CrsPA', 'PrgP']],\n",
    "          df5[['Touches Touches', 'Touches Def Pen', 'Touches Def 3rd', 'Touches Mid 3rd', 'Touches Att 3rd', 'Touches Att Pen', 'Touches Live', 'Take-Ons Att', 'Take-Ons Succ', 'Take-Ons Tkld', 'Carries Carries', 'Carries TotDist', 'Carries PrgDist', 'Carries PrgC', 'Carries 1/3', 'Carries CPA', 'Carries Mis', 'Carries Dis', 'Receiving Rec', 'Receiving PrgR']],\n",
    "          df6[['Standard Gls', 'Standard Sh', 'Standard SoT','Standard Sh/90', 'Standard SoT/90', 'Standard G/Sh', 'Standard G/SoT', 'Standard Dist', 'Standard FK', 'Standard PK', 'Standard PKatt', 'Expected xG', 'Expected npxG', 'Expected npxG/Sh', 'Expected G-xG', 'Expected np:G-xG']]]\n",
    "players = pd.concat(frames, axis=1)"
   ]
  },
  {
   "cell_type": "code",
   "execution_count": 39,
   "metadata": {},
   "outputs": [],
   "source": [
    "url = 'https://raw.githubusercontent.com/sambuddharay/FinalYearProject/main/scrapping/data/Serie-A-Stats/2018-2019/player/Serie-A-Stats-2018-2019-keepers-player.csv'\n",
    "df7 = pd.read_csv(url)\n",
    "url = 'https://raw.githubusercontent.com/sambuddharay/FinalYearProject/main/scrapping/data/Serie-A-Stats/2018-2019/player/Serie-A-Stats-2018-2019-keepersadv-player.csv'\n",
    "df8 = pd.read_csv(url)"
   ]
  },
  {
   "cell_type": "code",
   "execution_count": 40,
   "metadata": {},
   "outputs": [],
   "source": [
    "df7=df7[df7['Playing Time 90s']>0]\n",
    "df8=df8[df8['90s']>0]\n",
    "frames = [df7[['Player', 'Performance GA', 'Performance GA90', 'Performance SoTA', 'Performance Saves', 'Performance Save%', 'Performance W', 'Performance D', 'Performance L', 'Performance CS', 'Performance CS%', 'Penalty Kicks PKatt', 'Penalty Kicks PKA', 'Penalty Kicks PKsv', 'Penalty Kicks PKm']],\n",
    "          df8[['Goals GA', 'Goals PKA', 'Goals FK', 'Goals CK', 'Goals OG', 'Expected PSxG', 'Expected PSxG/SoT', 'Expected PSxG+/-', 'Expected /90', 'Launched Cmp', 'Launched Att', 'Launched Cmp%', 'Passes Att (GK)', 'Passes Thr', 'Passes Launch%', 'Passes AvgLen', 'Goal Kicks Att', 'Goal Kicks Launch%', 'Goal Kicks AvgLen', 'Crosses Opp', 'Crosses Stp', 'Crosses Stp%', 'Sweeper #OPA', 'Sweeper #OPA/90', 'Sweeper AvgDist']]]\n",
    "goalkeepers = pd.concat(frames, axis=1)"
   ]
  },
  {
   "cell_type": "code",
   "execution_count": 41,
   "metadata": {},
   "outputs": [],
   "source": [
    "players = players.replace(np.nan, 0)\n",
    "goalkeepers = goalkeepers.replace(np.nan, 0)\n",
    "utils.append_X_train(X_train, players, goalkeepers)"
   ]
  },
  {
   "cell_type": "code",
   "execution_count": 42,
   "metadata": {},
   "outputs": [
    {
     "data": {
      "text/plain": [
       "(120, 60, 142)"
      ]
     },
     "execution_count": 42,
     "metadata": {},
     "output_type": "execute_result"
    }
   ],
   "source": [
    "np.array(X_train).shape"
   ]
  },
  {
   "cell_type": "code",
   "execution_count": 43,
   "metadata": {},
   "outputs": [],
   "source": [
    "url = 'https://raw.githubusercontent.com/sambuddharay/FinalYearProject/main/scrapping/data/Serie-A-Stats/2019-2020/player/Serie-A-Stats-2019-2020-defense-player.csv'\n",
    "df1 = pd.read_csv(url)\n",
    "url = 'https://raw.githubusercontent.com/sambuddharay/FinalYearProject/main/scrapping/data/Serie-A-Stats/2019-2020/player/Serie-A-Stats-2019-2020-gca-player.csv'\n",
    "df2 = pd.read_csv(url)\n",
    "url = 'https://raw.githubusercontent.com/sambuddharay/FinalYearProject/main/scrapping/data/Serie-A-Stats/2019-2020/player/Serie-A-Stats-2019-2020-misc-player.csv'\n",
    "df3 = pd.read_csv(url)\n",
    "url = 'https://raw.githubusercontent.com/sambuddharay/FinalYearProject/main/scrapping/data/Serie-A-Stats/2019-2020/player/Serie-A-Stats-2019-2020-passing-player.csv'\n",
    "df4 = pd.read_csv(url)\n",
    "url = 'https://raw.githubusercontent.com/sambuddharay/FinalYearProject/main/scrapping/data/Serie-A-Stats/2019-2020/player/Serie-A-Stats-2019-2020-possession-player.csv'\n",
    "df5 = pd.read_csv(url)\n",
    "url = 'https://raw.githubusercontent.com/sambuddharay/FinalYearProject/main/scrapping/data/Serie-A-Stats/2019-2020/player/Serie-A-Stats-2019-2020-shooting-player.csv'\n",
    "df6 = pd.read_csv(url)"
   ]
  },
  {
   "cell_type": "code",
   "execution_count": 44,
   "metadata": {},
   "outputs": [],
   "source": [
    "frames = [df1[['Player', 'Nation', 'Pos', 'Squad', 'Born', '90s', 'Tackles Tkl', 'Tackles TklW', 'Tackles Def 3rd', 'Tackles Mid 3rd', 'Tackles Att 3rd', 'Challenges Tkl', 'Challenges Att', 'Challenges Lost', 'Blocks Blocks', 'Blocks Sh', 'Blocks Pass', 'Int', 'Tkl+Int', 'Clr', 'Err']],\n",
    "          df2[['SCA SCA', 'SCA SCA90', 'SCA Types PassLive', 'SCA Types PassDead', 'SCA Types TO', 'SCA Types Sh', 'SCA Types Fld', 'SCA Types Def', 'GCA GCA', 'GCA GCA90', 'GCA Types PassLive', 'GCA Types PassDead', 'GCA Types TO', 'GCA Types Sh', 'GCA Types Fld', 'GCA Types Def']],\n",
    "          df3[['Performance CrdY', 'Performance CrdR', 'Performance 2CrdY', 'Performance Fls', 'Performance Fld', 'Performance Off', 'Performance Crs', 'Performance Int', 'Performance TklW', 'Performance PKwon', 'Performance PKcon', 'Performance OG', 'Performance Recov', 'Aerial Duels Won', 'Aerial Duels Lost']],\n",
    "          df4[['Total Cmp', 'Total Att', 'Total Cmp%', 'Total TotDist', 'Total PrgDist', 'Short Cmp', 'Short Att', 'Medium Cmp', 'Medium Att', 'Long Cmp', 'Long Att', 'Ast', 'xAG', 'Expected xA', 'Expected A-xAG', 'KP', '1/3', 'PPA', 'CrsPA', 'PrgP']],\n",
    "          df5[['Touches Touches', 'Touches Def Pen', 'Touches Def 3rd', 'Touches Mid 3rd', 'Touches Att 3rd', 'Touches Att Pen', 'Touches Live', 'Take-Ons Att', 'Take-Ons Succ', 'Take-Ons Tkld', 'Carries Carries', 'Carries TotDist', 'Carries PrgDist', 'Carries PrgC', 'Carries 1/3', 'Carries CPA', 'Carries Mis', 'Carries Dis', 'Receiving Rec', 'Receiving PrgR']],\n",
    "          df6[['Standard Gls', 'Standard Sh', 'Standard SoT','Standard Sh/90', 'Standard SoT/90', 'Standard G/Sh', 'Standard G/SoT', 'Standard Dist', 'Standard FK', 'Standard PK', 'Standard PKatt', 'Expected xG', 'Expected npxG', 'Expected npxG/Sh', 'Expected G-xG', 'Expected np:G-xG']]]\n",
    "players = pd.concat(frames, axis=1)"
   ]
  },
  {
   "cell_type": "code",
   "execution_count": 45,
   "metadata": {},
   "outputs": [],
   "source": [
    "url = 'https://raw.githubusercontent.com/sambuddharay/FinalYearProject/main/scrapping/data/Serie-A-Stats/2019-2020/player/Serie-A-Stats-2019-2020-keepers-player.csv'\n",
    "df7 = pd.read_csv(url)\n",
    "url = 'https://raw.githubusercontent.com/sambuddharay/FinalYearProject/main/scrapping/data/Serie-A-Stats/2019-2020/player/Serie-A-Stats-2019-2020-keepersadv-player.csv'\n",
    "df8 = pd.read_csv(url)"
   ]
  },
  {
   "cell_type": "code",
   "execution_count": 46,
   "metadata": {},
   "outputs": [],
   "source": [
    "df7=df7[df7['Playing Time 90s']>0]\n",
    "df8=df8[df8['90s']>0]\n",
    "frames = [df7[['Player', 'Performance GA', 'Performance GA90', 'Performance SoTA', 'Performance Saves', 'Performance Save%', 'Performance W', 'Performance D', 'Performance L', 'Performance CS', 'Performance CS%', 'Penalty Kicks PKatt', 'Penalty Kicks PKA', 'Penalty Kicks PKsv', 'Penalty Kicks PKm']],\n",
    "          df8[['Goals GA', 'Goals PKA', 'Goals FK', 'Goals CK', 'Goals OG', 'Expected PSxG', 'Expected PSxG/SoT', 'Expected PSxG+/-', 'Expected /90', 'Launched Cmp', 'Launched Att', 'Launched Cmp%', 'Passes Att (GK)', 'Passes Thr', 'Passes Launch%', 'Passes AvgLen', 'Goal Kicks Att', 'Goal Kicks Launch%', 'Goal Kicks AvgLen', 'Crosses Opp', 'Crosses Stp', 'Crosses Stp%', 'Sweeper #OPA', 'Sweeper #OPA/90', 'Sweeper AvgDist']]]\n",
    "goalkeepers = pd.concat(frames, axis=1)"
   ]
  },
  {
   "cell_type": "code",
   "execution_count": 47,
   "metadata": {},
   "outputs": [],
   "source": [
    "players = players.replace(np.nan, 0)\n",
    "goalkeepers = goalkeepers.replace(np.nan, 0)\n",
    "utils.append_X_train(X_train, players, goalkeepers)"
   ]
  },
  {
   "cell_type": "code",
   "execution_count": 48,
   "metadata": {},
   "outputs": [
    {
     "data": {
      "text/plain": [
       "(140, 60, 142)"
      ]
     },
     "execution_count": 48,
     "metadata": {},
     "output_type": "execute_result"
    }
   ],
   "source": [
    "np.array(X_train).shape"
   ]
  },
  {
   "cell_type": "code",
   "execution_count": 49,
   "metadata": {},
   "outputs": [],
   "source": [
    "url = 'https://raw.githubusercontent.com/sambuddharay/FinalYearProject/main/scrapping/data/Serie-A-Stats/2020-2021/player/Serie-A-Stats-2020-2021-defense-player.csv'\n",
    "df1 = pd.read_csv(url)\n",
    "url = 'https://raw.githubusercontent.com/sambuddharay/FinalYearProject/main/scrapping/data/Serie-A-Stats/2020-2021/player/Serie-A-Stats-2020-2021-gca-player.csv'\n",
    "df2 = pd.read_csv(url)\n",
    "url = 'https://raw.githubusercontent.com/sambuddharay/FinalYearProject/main/scrapping/data/Serie-A-Stats/2020-2021/player/Serie-A-Stats-2020-2021-misc-player.csv'\n",
    "df3 = pd.read_csv(url)\n",
    "url = 'https://raw.githubusercontent.com/sambuddharay/FinalYearProject/main/scrapping/data/Serie-A-Stats/2020-2021/player/Serie-A-Stats-2020-2021-passing-player.csv'\n",
    "df4 = pd.read_csv(url)\n",
    "url = 'https://raw.githubusercontent.com/sambuddharay/FinalYearProject/main/scrapping/data/Serie-A-Stats/2020-2021/player/Serie-A-Stats-2020-2021-possession-player.csv'\n",
    "df5 = pd.read_csv(url)\n",
    "url = 'https://raw.githubusercontent.com/sambuddharay/FinalYearProject/main/scrapping/data/Serie-A-Stats/2020-2021/player/Serie-A-Stats-2020-2021-shooting-player.csv'\n",
    "df6 = pd.read_csv(url)"
   ]
  },
  {
   "cell_type": "code",
   "execution_count": 50,
   "metadata": {},
   "outputs": [],
   "source": [
    "frames = [df1[['Player', 'Nation', 'Pos', 'Squad', 'Born', '90s', 'Tackles Tkl', 'Tackles TklW', 'Tackles Def 3rd', 'Tackles Mid 3rd', 'Tackles Att 3rd', 'Challenges Tkl', 'Challenges Att', 'Challenges Lost', 'Blocks Blocks', 'Blocks Sh', 'Blocks Pass', 'Int', 'Tkl+Int', 'Clr', 'Err']],\n",
    "          df2[['SCA SCA', 'SCA SCA90', 'SCA Types PassLive', 'SCA Types PassDead', 'SCA Types TO', 'SCA Types Sh', 'SCA Types Fld', 'SCA Types Def', 'GCA GCA', 'GCA GCA90', 'GCA Types PassLive', 'GCA Types PassDead', 'GCA Types TO', 'GCA Types Sh', 'GCA Types Fld', 'GCA Types Def']],\n",
    "          df3[['Performance CrdY', 'Performance CrdR', 'Performance 2CrdY', 'Performance Fls', 'Performance Fld', 'Performance Off', 'Performance Crs', 'Performance Int', 'Performance TklW', 'Performance PKwon', 'Performance PKcon', 'Performance OG', 'Performance Recov', 'Aerial Duels Won', 'Aerial Duels Lost']],\n",
    "          df4[['Total Cmp', 'Total Att', 'Total Cmp%', 'Total TotDist', 'Total PrgDist', 'Short Cmp', 'Short Att', 'Medium Cmp', 'Medium Att', 'Long Cmp', 'Long Att', 'Ast', 'xAG', 'Expected xA', 'Expected A-xAG', 'KP', '1/3', 'PPA', 'CrsPA', 'PrgP']],\n",
    "          df5[['Touches Touches', 'Touches Def Pen', 'Touches Def 3rd', 'Touches Mid 3rd', 'Touches Att 3rd', 'Touches Att Pen', 'Touches Live', 'Take-Ons Att', 'Take-Ons Succ', 'Take-Ons Tkld', 'Carries Carries', 'Carries TotDist', 'Carries PrgDist', 'Carries PrgC', 'Carries 1/3', 'Carries CPA', 'Carries Mis', 'Carries Dis', 'Receiving Rec', 'Receiving PrgR']],\n",
    "          df6[['Standard Gls', 'Standard Sh', 'Standard SoT','Standard Sh/90', 'Standard SoT/90', 'Standard G/Sh', 'Standard G/SoT', 'Standard Dist', 'Standard FK', 'Standard PK', 'Standard PKatt', 'Expected xG', 'Expected npxG', 'Expected npxG/Sh', 'Expected G-xG', 'Expected np:G-xG']]]\n",
    "players = pd.concat(frames, axis=1)"
   ]
  },
  {
   "cell_type": "code",
   "execution_count": 51,
   "metadata": {},
   "outputs": [],
   "source": [
    "url = 'https://raw.githubusercontent.com/sambuddharay/FinalYearProject/main/scrapping/data/Serie-A-Stats/2020-2021/player/Serie-A-Stats-2020-2021-keepers-player.csv'\n",
    "df7 = pd.read_csv(url)\n",
    "url = 'https://raw.githubusercontent.com/sambuddharay/FinalYearProject/main/scrapping/data/Serie-A-Stats/2020-2021/player/Serie-A-Stats-2020-2021-keepersadv-player.csv'\n",
    "df8 = pd.read_csv(url)"
   ]
  },
  {
   "cell_type": "code",
   "execution_count": 52,
   "metadata": {},
   "outputs": [],
   "source": [
    "df7=df7[df7['Playing Time 90s']>0]\n",
    "df8=df8[df8['90s']>0]\n",
    "frames = [df7[['Player', 'Performance GA', 'Performance GA90', 'Performance SoTA', 'Performance Saves', 'Performance Save%', 'Performance W', 'Performance D', 'Performance L', 'Performance CS', 'Performance CS%', 'Penalty Kicks PKatt', 'Penalty Kicks PKA', 'Penalty Kicks PKsv', 'Penalty Kicks PKm']],\n",
    "          df8[['Goals GA', 'Goals PKA', 'Goals FK', 'Goals CK', 'Goals OG', 'Expected PSxG', 'Expected PSxG/SoT', 'Expected PSxG+/-', 'Expected /90', 'Launched Cmp', 'Launched Att', 'Launched Cmp%', 'Passes Att (GK)', 'Passes Thr', 'Passes Launch%', 'Passes AvgLen', 'Goal Kicks Att', 'Goal Kicks Launch%', 'Goal Kicks AvgLen', 'Crosses Opp', 'Crosses Stp', 'Crosses Stp%', 'Sweeper #OPA', 'Sweeper #OPA/90', 'Sweeper AvgDist']]]\n",
    "goalkeepers = pd.concat(frames, axis=1)"
   ]
  },
  {
   "cell_type": "code",
   "execution_count": 53,
   "metadata": {},
   "outputs": [
    {
     "data": {
      "text/plain": [
       "Parma            42\n",
       "Bologna          37\n",
       "Spezia           35\n",
       "Genoa            34\n",
       "Udinese          33\n",
       "Cagliari         32\n",
       "Hellas Verona    32\n",
       "Crotone          31\n",
       "Roma             31\n",
       "Lazio            30\n",
       "Atalanta         30\n",
       "Fiorentina       30\n",
       "Juventus         30\n",
       "Torino           29\n",
       "Benevento        29\n",
       "Milan            29\n",
       "Sassuolo         28\n",
       "Sampdoria        27\n",
       "Napoli           25\n",
       "Inter            25\n",
       "Name: Squad, dtype: int64"
      ]
     },
     "execution_count": 53,
     "metadata": {},
     "output_type": "execute_result"
    }
   ],
   "source": [
    "df1['Squad'].value_counts()"
   ]
  },
  {
   "cell_type": "code",
   "execution_count": 54,
   "metadata": {},
   "outputs": [],
   "source": [
    "players = players.replace(np.nan, 0)\n",
    "goalkeepers = goalkeepers.replace(np.nan, 0)\n",
    "utils.append_X_train(X_train, players, goalkeepers)"
   ]
  },
  {
   "cell_type": "code",
   "execution_count": 55,
   "metadata": {},
   "outputs": [],
   "source": [
    "url = 'https://raw.githubusercontent.com/sambuddharay/FinalYearProject/main/scrapping/data/Serie-A-Stats/2021-2022/player/Serie-A-Stats-2021-2022-defense-player.csv'\n",
    "df1 = pd.read_csv(url)\n",
    "url = 'https://raw.githubusercontent.com/sambuddharay/FinalYearProject/main/scrapping/data/Serie-A-Stats/2021-2022/player/Serie-A-Stats-2021-2022-gca-player.csv'\n",
    "df2 = pd.read_csv(url)\n",
    "url = 'https://raw.githubusercontent.com/sambuddharay/FinalYearProject/main/scrapping/data/Serie-A-Stats/2021-2022/player/Serie-A-Stats-2021-2022-misc-player.csv'\n",
    "df3 = pd.read_csv(url)\n",
    "url = 'https://raw.githubusercontent.com/sambuddharay/FinalYearProject/main/scrapping/data/Serie-A-Stats/2021-2022/player/Serie-A-Stats-2021-2022-passing-player.csv'\n",
    "df4 = pd.read_csv(url)\n",
    "url = 'https://raw.githubusercontent.com/sambuddharay/FinalYearProject/main/scrapping/data/Serie-A-Stats/2021-2022/player/Serie-A-Stats-2021-2022-possession-player.csv'\n",
    "df5 = pd.read_csv(url)\n",
    "url = 'https://raw.githubusercontent.com/sambuddharay/FinalYearProject/main/scrapping/data/Serie-A-Stats/2021-2022/player/Serie-A-Stats-2021-2022-shooting-player.csv'\n",
    "df6 = pd.read_csv(url)"
   ]
  },
  {
   "cell_type": "code",
   "execution_count": 56,
   "metadata": {},
   "outputs": [],
   "source": [
    "frames = [df1[['Player', 'Nation', 'Pos', 'Squad', 'Born', '90s', 'Tackles Tkl', 'Tackles TklW', 'Tackles Def 3rd', 'Tackles Mid 3rd', 'Tackles Att 3rd', 'Challenges Tkl', 'Challenges Att', 'Challenges Lost', 'Blocks Blocks', 'Blocks Sh', 'Blocks Pass', 'Int', 'Tkl+Int', 'Clr', 'Err']],\n",
    "          df2[['SCA SCA', 'SCA SCA90', 'SCA Types PassLive', 'SCA Types PassDead', 'SCA Types TO', 'SCA Types Sh', 'SCA Types Fld', 'SCA Types Def', 'GCA GCA', 'GCA GCA90', 'GCA Types PassLive', 'GCA Types PassDead', 'GCA Types TO', 'GCA Types Sh', 'GCA Types Fld', 'GCA Types Def']],\n",
    "          df3[['Performance CrdY', 'Performance CrdR', 'Performance 2CrdY', 'Performance Fls', 'Performance Fld', 'Performance Off', 'Performance Crs', 'Performance Int', 'Performance TklW', 'Performance PKwon', 'Performance PKcon', 'Performance OG', 'Performance Recov', 'Aerial Duels Won', 'Aerial Duels Lost']],\n",
    "          df4[['Total Cmp', 'Total Att', 'Total Cmp%', 'Total TotDist', 'Total PrgDist', 'Short Cmp', 'Short Att', 'Medium Cmp', 'Medium Att', 'Long Cmp', 'Long Att', 'Ast', 'xAG', 'Expected xA', 'Expected A-xAG', 'KP', '1/3', 'PPA', 'CrsPA', 'PrgP']],\n",
    "          df5[['Touches Touches', 'Touches Def Pen', 'Touches Def 3rd', 'Touches Mid 3rd', 'Touches Att 3rd', 'Touches Att Pen', 'Touches Live', 'Take-Ons Att', 'Take-Ons Succ', 'Take-Ons Tkld', 'Carries Carries', 'Carries TotDist', 'Carries PrgDist', 'Carries PrgC', 'Carries 1/3', 'Carries CPA', 'Carries Mis', 'Carries Dis', 'Receiving Rec', 'Receiving PrgR']],\n",
    "          df6[['Standard Gls', 'Standard Sh', 'Standard SoT','Standard Sh/90', 'Standard SoT/90', 'Standard G/Sh', 'Standard G/SoT', 'Standard Dist', 'Standard FK', 'Standard PK', 'Standard PKatt', 'Expected xG', 'Expected npxG', 'Expected npxG/Sh', 'Expected G-xG', 'Expected np:G-xG']]]\n",
    "players = pd.concat(frames, axis=1)"
   ]
  },
  {
   "cell_type": "code",
   "execution_count": 57,
   "metadata": {},
   "outputs": [],
   "source": [
    "url = 'https://raw.githubusercontent.com/sambuddharay/FinalYearProject/main/scrapping/data/Serie-A-Stats/2021-2022/player/Serie-A-Stats-2021-2022-keepers-player.csv'\n",
    "df7 = pd.read_csv(url)\n",
    "url = 'https://raw.githubusercontent.com/sambuddharay/FinalYearProject/main/scrapping/data/Serie-A-Stats/2021-2022/player/Serie-A-Stats-2021-2022-keepersadv-player.csv'\n",
    "df8 = pd.read_csv(url)"
   ]
  },
  {
   "cell_type": "code",
   "execution_count": 58,
   "metadata": {},
   "outputs": [],
   "source": [
    "df7=df7[df7['Playing Time 90s']>0]\n",
    "df8=df8[df8['90s']>0]\n",
    "frames = [df7[['Player', 'Performance GA', 'Performance GA90', 'Performance SoTA', 'Performance Saves', 'Performance Save%', 'Performance W', 'Performance D', 'Performance L', 'Performance CS', 'Performance CS%', 'Penalty Kicks PKatt', 'Penalty Kicks PKA', 'Penalty Kicks PKsv', 'Penalty Kicks PKm']],\n",
    "          df8[['Goals GA', 'Goals PKA', 'Goals FK', 'Goals CK', 'Goals OG', 'Expected PSxG', 'Expected PSxG/SoT', 'Expected PSxG+/-', 'Expected /90', 'Launched Cmp', 'Launched Att', 'Launched Cmp%', 'Passes Att (GK)', 'Passes Thr', 'Passes Launch%', 'Passes AvgLen', 'Goal Kicks Att', 'Goal Kicks Launch%', 'Goal Kicks AvgLen', 'Crosses Opp', 'Crosses Stp', 'Crosses Stp%', 'Sweeper #OPA', 'Sweeper #OPA/90', 'Sweeper AvgDist']]]\n",
    "goalkeepers = pd.concat(frames, axis=1)"
   ]
  },
  {
   "cell_type": "code",
   "execution_count": 59,
   "metadata": {},
   "outputs": [],
   "source": [
    "players = players.replace(np.nan, 0)\n",
    "goalkeepers = goalkeepers.replace(np.nan, 0)\n",
    "utils.append_X_train(X_train, players, goalkeepers)"
   ]
  },
  {
   "cell_type": "code",
   "execution_count": 60,
   "metadata": {},
   "outputs": [],
   "source": [
    "url = 'https://raw.githubusercontent.com/sambuddharay/FinalYearProject/main/scrapping/data/Serie-A-Stats/2022-2023/player/Serie-A-Stats-2022-2023-defense-player.csv'\n",
    "df1 = pd.read_csv(url)\n",
    "url = 'https://raw.githubusercontent.com/sambuddharay/FinalYearProject/main/scrapping/data/Serie-A-Stats/2022-2023/player/Serie-A-Stats-2022-2023-gca-player.csv'\n",
    "df2 = pd.read_csv(url)\n",
    "url = 'https://raw.githubusercontent.com/sambuddharay/FinalYearProject/main/scrapping/data/Serie-A-Stats/2022-2023/player/Serie-A-Stats-2022-2023-misc-player.csv'\n",
    "df3 = pd.read_csv(url)\n",
    "url = 'https://raw.githubusercontent.com/sambuddharay/FinalYearProject/main/scrapping/data/Serie-A-Stats/2022-2023/player/Serie-A-Stats-2022-2023-passing-player.csv'\n",
    "df4 = pd.read_csv(url)\n",
    "url = 'https://raw.githubusercontent.com/sambuddharay/FinalYearProject/main/scrapping/data/Serie-A-Stats/2022-2023/player/Serie-A-Stats-2022-2023-possession-player.csv'\n",
    "df5 = pd.read_csv(url)\n",
    "url = 'https://raw.githubusercontent.com/sambuddharay/FinalYearProject/main/scrapping/data/Serie-A-Stats/2022-2023/player/Serie-A-Stats-2022-2023-shooting-player.csv'\n",
    "df6 = pd.read_csv(url)"
   ]
  },
  {
   "cell_type": "code",
   "execution_count": 61,
   "metadata": {},
   "outputs": [],
   "source": [
    "frames = [df1[['Player', 'Nation', 'Pos', 'Squad', 'Born', '90s', 'Tackles Tkl', 'Tackles TklW', 'Tackles Def 3rd', 'Tackles Mid 3rd', 'Tackles Att 3rd', 'Challenges Tkl', 'Challenges Att', 'Challenges Lost', 'Blocks Blocks', 'Blocks Sh', 'Blocks Pass', 'Int', 'Tkl+Int', 'Clr', 'Err']],\n",
    "          df2[['SCA SCA', 'SCA SCA90', 'SCA Types PassLive', 'SCA Types PassDead', 'SCA Types TO', 'SCA Types Sh', 'SCA Types Fld', 'SCA Types Def', 'GCA GCA', 'GCA GCA90', 'GCA Types PassLive', 'GCA Types PassDead', 'GCA Types TO', 'GCA Types Sh', 'GCA Types Fld', 'GCA Types Def']],\n",
    "          df3[['Performance CrdY', 'Performance CrdR', 'Performance 2CrdY', 'Performance Fls', 'Performance Fld', 'Performance Off', 'Performance Crs', 'Performance Int', 'Performance TklW', 'Performance PKwon', 'Performance PKcon', 'Performance OG', 'Performance Recov', 'Aerial Duels Won', 'Aerial Duels Lost']],\n",
    "          df4[['Total Cmp', 'Total Att', 'Total Cmp%', 'Total TotDist', 'Total PrgDist', 'Short Cmp', 'Short Att', 'Medium Cmp', 'Medium Att', 'Long Cmp', 'Long Att', 'Ast', 'xAG', 'Expected xA', 'Expected A-xAG', 'KP', '1/3', 'PPA', 'CrsPA', 'PrgP']],\n",
    "          df5[['Touches Touches', 'Touches Def Pen', 'Touches Def 3rd', 'Touches Mid 3rd', 'Touches Att 3rd', 'Touches Att Pen', 'Touches Live', 'Take-Ons Att', 'Take-Ons Succ', 'Take-Ons Tkld', 'Carries Carries', 'Carries TotDist', 'Carries PrgDist', 'Carries PrgC', 'Carries 1/3', 'Carries CPA', 'Carries Mis', 'Carries Dis', 'Receiving Rec', 'Receiving PrgR']],\n",
    "          df6[['Standard Gls', 'Standard Sh', 'Standard SoT','Standard Sh/90', 'Standard SoT/90', 'Standard G/Sh', 'Standard G/SoT', 'Standard Dist', 'Standard FK', 'Standard PK', 'Standard PKatt', 'Expected xG', 'Expected npxG', 'Expected npxG/Sh', 'Expected G-xG', 'Expected np:G-xG']]]\n",
    "players = pd.concat(frames, axis=1)"
   ]
  },
  {
   "cell_type": "code",
   "execution_count": 62,
   "metadata": {},
   "outputs": [],
   "source": [
    "url = 'https://raw.githubusercontent.com/sambuddharay/FinalYearProject/main/scrapping/data/Serie-A-Stats/2022-2023/player/Serie-A-Stats-2022-2023-keepers-player.csv'\n",
    "df7 = pd.read_csv(url)\n",
    "url = 'https://raw.githubusercontent.com/sambuddharay/FinalYearProject/main/scrapping/data/Serie-A-Stats/2022-2023/player/Serie-A-Stats-2022-2023-keepersadv-player.csv'\n",
    "df8 = pd.read_csv(url)"
   ]
  },
  {
   "cell_type": "code",
   "execution_count": 63,
   "metadata": {},
   "outputs": [],
   "source": [
    "df7=df7[df7['Playing Time 90s']>0]\n",
    "df8=df8[df8['90s']>0]\n",
    "frames = [df7[['Player', 'Performance GA', 'Performance GA90', 'Performance SoTA', 'Performance Saves', 'Performance Save%', 'Performance W', 'Performance D', 'Performance L', 'Performance CS', 'Performance CS%', 'Penalty Kicks PKatt', 'Penalty Kicks PKA', 'Penalty Kicks PKsv', 'Penalty Kicks PKm']],\n",
    "          df8[['Goals GA', 'Goals PKA', 'Goals FK', 'Goals CK', 'Goals OG', 'Expected PSxG', 'Expected PSxG/SoT', 'Expected PSxG+/-', 'Expected /90', 'Launched Cmp', 'Launched Att', 'Launched Cmp%', 'Passes Att (GK)', 'Passes Thr', 'Passes Launch%', 'Passes AvgLen', 'Goal Kicks Att', 'Goal Kicks Launch%', 'Goal Kicks AvgLen', 'Crosses Opp', 'Crosses Stp', 'Crosses Stp%', 'Sweeper #OPA', 'Sweeper #OPA/90', 'Sweeper AvgDist']]]\n",
    "goalkeepers = pd.concat(frames, axis=1)"
   ]
  },
  {
   "cell_type": "code",
   "execution_count": 64,
   "metadata": {},
   "outputs": [],
   "source": [
    "players = players.replace(np.nan, 0)\n",
    "goalkeepers = goalkeepers.replace(np.nan, 0)\n",
    "utils.append_X_train(X_train, players, goalkeepers)"
   ]
  },
  {
   "cell_type": "code",
   "execution_count": 65,
   "metadata": {},
   "outputs": [],
   "source": [
    "url = 'https://raw.githubusercontent.com/sambuddharay/FinalYearProject/main/scrapping/data/Bundesliga-Stats/2018-2019/player/Bundesliga-Stats-2018-2019-defense-player.csv'\n",
    "df1 = pd.read_csv(url)\n",
    "url = 'https://raw.githubusercontent.com/sambuddharay/FinalYearProject/main/scrapping/data/Bundesliga-Stats/2018-2019/player/Bundesliga-Stats-2018-2019-gca-player.csv'\n",
    "df2 = pd.read_csv(url)\n",
    "url = 'https://raw.githubusercontent.com/sambuddharay/FinalYearProject/main/scrapping/data/Bundesliga-Stats/2018-2019/player/Bundesliga-Stats-2018-2019-misc-player.csv'\n",
    "df3 = pd.read_csv(url)\n",
    "url = 'https://raw.githubusercontent.com/sambuddharay/FinalYearProject/main/scrapping/data/Bundesliga-Stats/2018-2019/player/Bundesliga-Stats-2018-2019-passing-player.csv'\n",
    "df4 = pd.read_csv(url)\n",
    "url = 'https://raw.githubusercontent.com/sambuddharay/FinalYearProject/main/scrapping/data/Bundesliga-Stats/2018-2019/player/Bundesliga-Stats-2018-2019-possession-player.csv'\n",
    "df5 = pd.read_csv(url)\n",
    "url = 'https://raw.githubusercontent.com/sambuddharay/FinalYearProject/main/scrapping/data/Bundesliga-Stats/2018-2019/player/Bundesliga-Stats-2018-2019-shooting-player.csv'\n",
    "df6 = pd.read_csv(url)"
   ]
  },
  {
   "cell_type": "code",
   "execution_count": 66,
   "metadata": {},
   "outputs": [],
   "source": [
    "frames = [df1[['Player', 'Nation', 'Pos', 'Squad', 'Born', '90s', 'Tackles Tkl', 'Tackles TklW', 'Tackles Def 3rd', 'Tackles Mid 3rd', 'Tackles Att 3rd', 'Challenges Tkl', 'Challenges Att', 'Challenges Lost', 'Blocks Blocks', 'Blocks Sh', 'Blocks Pass', 'Int', 'Tkl+Int', 'Clr', 'Err']],\n",
    "          df2[['SCA SCA', 'SCA SCA90', 'SCA Types PassLive', 'SCA Types PassDead', 'SCA Types TO', 'SCA Types Sh', 'SCA Types Fld', 'SCA Types Def', 'GCA GCA', 'GCA GCA90', 'GCA Types PassLive', 'GCA Types PassDead', 'GCA Types TO', 'GCA Types Sh', 'GCA Types Fld', 'GCA Types Def']],\n",
    "          df3[['Performance CrdY', 'Performance CrdR', 'Performance 2CrdY', 'Performance Fls', 'Performance Fld', 'Performance Off', 'Performance Crs', 'Performance Int', 'Performance TklW', 'Performance PKwon', 'Performance PKcon', 'Performance OG', 'Performance Recov', 'Aerial Duels Won', 'Aerial Duels Lost']],\n",
    "          df4[['Total Cmp', 'Total Att', 'Total Cmp%', 'Total TotDist', 'Total PrgDist', 'Short Cmp', 'Short Att', 'Medium Cmp', 'Medium Att', 'Long Cmp', 'Long Att', 'Ast', 'xAG', 'Expected xA', 'Expected A-xAG', 'KP', '1/3', 'PPA', 'CrsPA', 'PrgP']],\n",
    "          df5[['Touches Touches', 'Touches Def Pen', 'Touches Def 3rd', 'Touches Mid 3rd', 'Touches Att 3rd', 'Touches Att Pen', 'Touches Live', 'Take-Ons Att', 'Take-Ons Succ', 'Take-Ons Tkld', 'Carries Carries', 'Carries TotDist', 'Carries PrgDist', 'Carries PrgC', 'Carries 1/3', 'Carries CPA', 'Carries Mis', 'Carries Dis', 'Receiving Rec', 'Receiving PrgR']],\n",
    "          df6[['Standard Gls', 'Standard Sh', 'Standard SoT','Standard Sh/90', 'Standard SoT/90', 'Standard G/Sh', 'Standard G/SoT', 'Standard Dist', 'Standard FK', 'Standard PK', 'Standard PKatt', 'Expected xG', 'Expected npxG', 'Expected npxG/Sh', 'Expected G-xG', 'Expected np:G-xG']]]\n",
    "players = pd.concat(frames, axis=1)"
   ]
  },
  {
   "cell_type": "code",
   "execution_count": 67,
   "metadata": {},
   "outputs": [],
   "source": [
    "url = 'https://raw.githubusercontent.com/sambuddharay/FinalYearProject/main/scrapping/data/Bundesliga-Stats/2018-2019/player/Bundesliga-Stats-2018-2019-keepers-player.csv'\n",
    "df7 = pd.read_csv(url)\n",
    "url = 'https://raw.githubusercontent.com/sambuddharay/FinalYearProject/main/scrapping/data/Bundesliga-Stats/2018-2019/player/Bundesliga-Stats-2018-2019-keepersadv-player.csv'\n",
    "df8 = pd.read_csv(url)"
   ]
  },
  {
   "cell_type": "code",
   "execution_count": 68,
   "metadata": {},
   "outputs": [],
   "source": [
    "df7=df7[df7['Playing Time 90s']>0]\n",
    "df8=df8[df8['90s']>0]\n",
    "frames = [df7[['Player', 'Performance GA', 'Performance GA90', 'Performance SoTA', 'Performance Saves', 'Performance Save%', 'Performance W', 'Performance D', 'Performance L', 'Performance CS', 'Performance CS%', 'Penalty Kicks PKatt', 'Penalty Kicks PKA', 'Penalty Kicks PKsv', 'Penalty Kicks PKm']],\n",
    "          df8[['Goals GA', 'Goals PKA', 'Goals FK', 'Goals CK', 'Goals OG', 'Expected PSxG', 'Expected PSxG/SoT', 'Expected PSxG+/-', 'Expected /90', 'Launched Cmp', 'Launched Att', 'Launched Cmp%', 'Passes Att (GK)', 'Passes Thr', 'Passes Launch%', 'Passes AvgLen', 'Goal Kicks Att', 'Goal Kicks Launch%', 'Goal Kicks AvgLen', 'Crosses Opp', 'Crosses Stp', 'Crosses Stp%', 'Sweeper #OPA', 'Sweeper #OPA/90', 'Sweeper AvgDist']]]\n",
    "goalkeepers = pd.concat(frames, axis=1)"
   ]
  },
  {
   "cell_type": "code",
   "execution_count": 69,
   "metadata": {},
   "outputs": [],
   "source": [
    "players = players.replace(np.nan, 0)\n",
    "goalkeepers = goalkeepers.replace(np.nan, 0)\n",
    "utils.append_X_train(X_train, players, goalkeepers)"
   ]
  },
  {
   "cell_type": "code",
   "execution_count": 70,
   "metadata": {},
   "outputs": [],
   "source": [
    "url = 'https://raw.githubusercontent.com/sambuddharay/FinalYearProject/main/scrapping/data/Bundesliga-Stats/2019-2020/player/Bundesliga-Stats-2019-2020-defense-player.csv'\n",
    "df1 = pd.read_csv(url)\n",
    "url = 'https://raw.githubusercontent.com/sambuddharay/FinalYearProject/main/scrapping/data/Bundesliga-Stats/2019-2020/player/Bundesliga-Stats-2019-2020-gca-player.csv'\n",
    "df2 = pd.read_csv(url)\n",
    "url = 'https://raw.githubusercontent.com/sambuddharay/FinalYearProject/main/scrapping/data/Bundesliga-Stats/2019-2020/player/Bundesliga-Stats-2019-2020-misc-player.csv'\n",
    "df3 = pd.read_csv(url)\n",
    "url = 'https://raw.githubusercontent.com/sambuddharay/FinalYearProject/main/scrapping/data/Bundesliga-Stats/2019-2020/player/Bundesliga-Stats-2019-2020-passing-player.csv'\n",
    "df4 = pd.read_csv(url)\n",
    "url = 'https://raw.githubusercontent.com/sambuddharay/FinalYearProject/main/scrapping/data/Bundesliga-Stats/2019-2020/player/Bundesliga-Stats-2019-2020-possession-player.csv'\n",
    "df5 = pd.read_csv(url)\n",
    "url = 'https://raw.githubusercontent.com/sambuddharay/FinalYearProject/main/scrapping/data/Bundesliga-Stats/2019-2020/player/Bundesliga-Stats-2019-2020-shooting-player.csv'\n",
    "df6 = pd.read_csv(url)"
   ]
  },
  {
   "cell_type": "code",
   "execution_count": 71,
   "metadata": {},
   "outputs": [],
   "source": [
    "frames = [df1[['Player', 'Nation', 'Pos', 'Squad', 'Born', '90s', 'Tackles Tkl', 'Tackles TklW', 'Tackles Def 3rd', 'Tackles Mid 3rd', 'Tackles Att 3rd', 'Challenges Tkl', 'Challenges Att', 'Challenges Lost', 'Blocks Blocks', 'Blocks Sh', 'Blocks Pass', 'Int', 'Tkl+Int', 'Clr', 'Err']],\n",
    "          df2[['SCA SCA', 'SCA SCA90', 'SCA Types PassLive', 'SCA Types PassDead', 'SCA Types TO', 'SCA Types Sh', 'SCA Types Fld', 'SCA Types Def', 'GCA GCA', 'GCA GCA90', 'GCA Types PassLive', 'GCA Types PassDead', 'GCA Types TO', 'GCA Types Sh', 'GCA Types Fld', 'GCA Types Def']],\n",
    "          df3[['Performance CrdY', 'Performance CrdR', 'Performance 2CrdY', 'Performance Fls', 'Performance Fld', 'Performance Off', 'Performance Crs', 'Performance Int', 'Performance TklW', 'Performance PKwon', 'Performance PKcon', 'Performance OG', 'Performance Recov', 'Aerial Duels Won', 'Aerial Duels Lost']],\n",
    "          df4[['Total Cmp', 'Total Att', 'Total Cmp%', 'Total TotDist', 'Total PrgDist', 'Short Cmp', 'Short Att', 'Medium Cmp', 'Medium Att', 'Long Cmp', 'Long Att', 'Ast', 'xAG', 'Expected xA', 'Expected A-xAG', 'KP', '1/3', 'PPA', 'CrsPA', 'PrgP']],\n",
    "          df5[['Touches Touches', 'Touches Def Pen', 'Touches Def 3rd', 'Touches Mid 3rd', 'Touches Att 3rd', 'Touches Att Pen', 'Touches Live', 'Take-Ons Att', 'Take-Ons Succ', 'Take-Ons Tkld', 'Carries Carries', 'Carries TotDist', 'Carries PrgDist', 'Carries PrgC', 'Carries 1/3', 'Carries CPA', 'Carries Mis', 'Carries Dis', 'Receiving Rec', 'Receiving PrgR']],\n",
    "          df6[['Standard Gls', 'Standard Sh', 'Standard SoT','Standard Sh/90', 'Standard SoT/90', 'Standard G/Sh', 'Standard G/SoT', 'Standard Dist', 'Standard FK', 'Standard PK', 'Standard PKatt', 'Expected xG', 'Expected npxG', 'Expected npxG/Sh', 'Expected G-xG', 'Expected np:G-xG']]]\n",
    "players = pd.concat(frames, axis=1)"
   ]
  },
  {
   "cell_type": "code",
   "execution_count": 72,
   "metadata": {},
   "outputs": [],
   "source": [
    "url = 'https://raw.githubusercontent.com/sambuddharay/FinalYearProject/main/scrapping/data/Bundesliga-Stats/2019-2020/player/Bundesliga-Stats-2019-2020-keepers-player.csv'\n",
    "df7 = pd.read_csv(url)\n",
    "url = 'https://raw.githubusercontent.com/sambuddharay/FinalYearProject/main/scrapping/data/Bundesliga-Stats/2019-2020/player/Bundesliga-Stats-2019-2020-keepersadv-player.csv'\n",
    "df8 = pd.read_csv(url)"
   ]
  },
  {
   "cell_type": "code",
   "execution_count": 73,
   "metadata": {},
   "outputs": [],
   "source": [
    "df7=df7[df7['Playing Time 90s']>0]\n",
    "df8=df8[df8['90s']>0]\n",
    "frames = [df7[['Player', 'Performance GA', 'Performance GA90', 'Performance SoTA', 'Performance Saves', 'Performance Save%', 'Performance W', 'Performance D', 'Performance L', 'Performance CS', 'Performance CS%', 'Penalty Kicks PKatt', 'Penalty Kicks PKA', 'Penalty Kicks PKsv', 'Penalty Kicks PKm']],\n",
    "          df8[['Goals GA', 'Goals PKA', 'Goals FK', 'Goals CK', 'Goals OG', 'Expected PSxG', 'Expected PSxG/SoT', 'Expected PSxG+/-', 'Expected /90', 'Launched Cmp', 'Launched Att', 'Launched Cmp%', 'Passes Att (GK)', 'Passes Thr', 'Passes Launch%', 'Passes AvgLen', 'Goal Kicks Att', 'Goal Kicks Launch%', 'Goal Kicks AvgLen', 'Crosses Opp', 'Crosses Stp', 'Crosses Stp%', 'Sweeper #OPA', 'Sweeper #OPA/90', 'Sweeper AvgDist']]]\n",
    "goalkeepers = pd.concat(frames, axis=1)"
   ]
  },
  {
   "cell_type": "code",
   "execution_count": 74,
   "metadata": {},
   "outputs": [],
   "source": [
    "players = players.replace(np.nan, 0)\n",
    "goalkeepers = goalkeepers.replace(np.nan, 0)\n",
    "utils.append_X_train(X_train, players, goalkeepers)"
   ]
  },
  {
   "cell_type": "code",
   "execution_count": 75,
   "metadata": {},
   "outputs": [],
   "source": [
    "url = 'https://raw.githubusercontent.com/sambuddharay/FinalYearProject/main/scrapping/data/Bundesliga-Stats/2020-2021/player/Bundesliga-Stats-2020-2021-defense-player.csv'\n",
    "df1 = pd.read_csv(url)\n",
    "url = 'https://raw.githubusercontent.com/sambuddharay/FinalYearProject/main/scrapping/data/Bundesliga-Stats/2020-2021/player/Bundesliga-Stats-2020-2021-gca-player.csv'\n",
    "df2 = pd.read_csv(url)\n",
    "url = 'https://raw.githubusercontent.com/sambuddharay/FinalYearProject/main/scrapping/data/Bundesliga-Stats/2020-2021/player/Bundesliga-Stats-2020-2021-misc-player.csv'\n",
    "df3 = pd.read_csv(url)\n",
    "url = 'https://raw.githubusercontent.com/sambuddharay/FinalYearProject/main/scrapping/data/Bundesliga-Stats/2020-2021/player/Bundesliga-Stats-2020-2021-passing-player.csv'\n",
    "df4 = pd.read_csv(url)\n",
    "url = 'https://raw.githubusercontent.com/sambuddharay/FinalYearProject/main/scrapping/data/Bundesliga-Stats/2020-2021/player/Bundesliga-Stats-2020-2021-possession-player.csv'\n",
    "df5 = pd.read_csv(url)\n",
    "url = 'https://raw.githubusercontent.com/sambuddharay/FinalYearProject/main/scrapping/data/Bundesliga-Stats/2020-2021/player/Bundesliga-Stats-2020-2021-shooting-player.csv'\n",
    "df6 = pd.read_csv(url)"
   ]
  },
  {
   "cell_type": "code",
   "execution_count": 76,
   "metadata": {},
   "outputs": [],
   "source": [
    "frames = [df1[['Player', 'Nation', 'Pos', 'Squad', 'Born', '90s', 'Tackles Tkl', 'Tackles TklW', 'Tackles Def 3rd', 'Tackles Mid 3rd', 'Tackles Att 3rd', 'Challenges Tkl', 'Challenges Att', 'Challenges Lost', 'Blocks Blocks', 'Blocks Sh', 'Blocks Pass', 'Int', 'Tkl+Int', 'Clr', 'Err']],\n",
    "          df2[['SCA SCA', 'SCA SCA90', 'SCA Types PassLive', 'SCA Types PassDead', 'SCA Types TO', 'SCA Types Sh', 'SCA Types Fld', 'SCA Types Def', 'GCA GCA', 'GCA GCA90', 'GCA Types PassLive', 'GCA Types PassDead', 'GCA Types TO', 'GCA Types Sh', 'GCA Types Fld', 'GCA Types Def']],\n",
    "          df3[['Performance CrdY', 'Performance CrdR', 'Performance 2CrdY', 'Performance Fls', 'Performance Fld', 'Performance Off', 'Performance Crs', 'Performance Int', 'Performance TklW', 'Performance PKwon', 'Performance PKcon', 'Performance OG', 'Performance Recov', 'Aerial Duels Won', 'Aerial Duels Lost']],\n",
    "          df4[['Total Cmp', 'Total Att', 'Total Cmp%', 'Total TotDist', 'Total PrgDist', 'Short Cmp', 'Short Att', 'Medium Cmp', 'Medium Att', 'Long Cmp', 'Long Att', 'Ast', 'xAG', 'Expected xA', 'Expected A-xAG', 'KP', '1/3', 'PPA', 'CrsPA', 'PrgP']],\n",
    "          df5[['Touches Touches', 'Touches Def Pen', 'Touches Def 3rd', 'Touches Mid 3rd', 'Touches Att 3rd', 'Touches Att Pen', 'Touches Live', 'Take-Ons Att', 'Take-Ons Succ', 'Take-Ons Tkld', 'Carries Carries', 'Carries TotDist', 'Carries PrgDist', 'Carries PrgC', 'Carries 1/3', 'Carries CPA', 'Carries Mis', 'Carries Dis', 'Receiving Rec', 'Receiving PrgR']],\n",
    "          df6[['Standard Gls', 'Standard Sh', 'Standard SoT','Standard Sh/90', 'Standard SoT/90', 'Standard G/Sh', 'Standard G/SoT', 'Standard Dist', 'Standard FK', 'Standard PK', 'Standard PKatt', 'Expected xG', 'Expected npxG', 'Expected npxG/Sh', 'Expected G-xG', 'Expected np:G-xG']]]\n",
    "players = pd.concat(frames, axis=1)"
   ]
  },
  {
   "cell_type": "code",
   "execution_count": 77,
   "metadata": {},
   "outputs": [],
   "source": [
    "url = 'https://raw.githubusercontent.com/sambuddharay/FinalYearProject/main/scrapping/data/Bundesliga-Stats/2020-2021/player/Bundesliga-Stats-2020-2021-keepers-player.csv'\n",
    "df7 = pd.read_csv(url)\n",
    "url = 'https://raw.githubusercontent.com/sambuddharay/FinalYearProject/main/scrapping/data/Bundesliga-Stats/2020-2021/player/Bundesliga-Stats-2020-2021-keepersadv-player.csv'\n",
    "df8 = pd.read_csv(url)"
   ]
  },
  {
   "cell_type": "code",
   "execution_count": 78,
   "metadata": {},
   "outputs": [],
   "source": [
    "df7=df7[df7['Playing Time 90s']>0]\n",
    "df8=df8[df8['90s']>0]\n",
    "frames = [df7[['Player', 'Performance GA', 'Performance GA90', 'Performance SoTA', 'Performance Saves', 'Performance Save%', 'Performance W', 'Performance D', 'Performance L', 'Performance CS', 'Performance CS%', 'Penalty Kicks PKatt', 'Penalty Kicks PKA', 'Penalty Kicks PKsv', 'Penalty Kicks PKm']],\n",
    "          df8[['Goals GA', 'Goals PKA', 'Goals FK', 'Goals CK', 'Goals OG', 'Expected PSxG', 'Expected PSxG/SoT', 'Expected PSxG+/-', 'Expected /90', 'Launched Cmp', 'Launched Att', 'Launched Cmp%', 'Passes Att (GK)', 'Passes Thr', 'Passes Launch%', 'Passes AvgLen', 'Goal Kicks Att', 'Goal Kicks Launch%', 'Goal Kicks AvgLen', 'Crosses Opp', 'Crosses Stp', 'Crosses Stp%', 'Sweeper #OPA', 'Sweeper #OPA/90', 'Sweeper AvgDist']]]\n",
    "goalkeepers = pd.concat(frames, axis=1)"
   ]
  },
  {
   "cell_type": "code",
   "execution_count": 79,
   "metadata": {},
   "outputs": [],
   "source": [
    "players = players.replace(np.nan, 0)\n",
    "goalkeepers = goalkeepers.replace(np.nan, 0)\n",
    "utils.append_X_train(X_train, players, goalkeepers)"
   ]
  },
  {
   "cell_type": "code",
   "execution_count": 80,
   "metadata": {},
   "outputs": [],
   "source": [
    "url = 'https://raw.githubusercontent.com/sambuddharay/FinalYearProject/main/scrapping/data/Bundesliga-Stats/2021-2022/player/Bundesliga-Stats-2021-2022-defense-player.csv'\n",
    "df1 = pd.read_csv(url)\n",
    "url = 'https://raw.githubusercontent.com/sambuddharay/FinalYearProject/main/scrapping/data/Bundesliga-Stats/2021-2022/player/Bundesliga-Stats-2021-2022-gca-player.csv'\n",
    "df2 = pd.read_csv(url)\n",
    "url = 'https://raw.githubusercontent.com/sambuddharay/FinalYearProject/main/scrapping/data/Bundesliga-Stats/2021-2022/player/Bundesliga-Stats-2021-2022-misc-player.csv'\n",
    "df3 = pd.read_csv(url)\n",
    "url = 'https://raw.githubusercontent.com/sambuddharay/FinalYearProject/main/scrapping/data/Bundesliga-Stats/2021-2022/player/Bundesliga-Stats-2021-2022-passing-player.csv'\n",
    "df4 = pd.read_csv(url)\n",
    "url = 'https://raw.githubusercontent.com/sambuddharay/FinalYearProject/main/scrapping/data/Bundesliga-Stats/2021-2022/player/Bundesliga-Stats-2021-2022-possession-player.csv'\n",
    "df5 = pd.read_csv(url)\n",
    "url = 'https://raw.githubusercontent.com/sambuddharay/FinalYearProject/main/scrapping/data/Bundesliga-Stats/2021-2022/player/Bundesliga-Stats-2021-2022-shooting-player.csv'\n",
    "df6 = pd.read_csv(url)"
   ]
  },
  {
   "cell_type": "code",
   "execution_count": 81,
   "metadata": {},
   "outputs": [],
   "source": [
    "frames = [df1[['Player', 'Nation', 'Pos', 'Squad', 'Born', '90s', 'Tackles Tkl', 'Tackles TklW', 'Tackles Def 3rd', 'Tackles Mid 3rd', 'Tackles Att 3rd', 'Challenges Tkl', 'Challenges Att', 'Challenges Lost', 'Blocks Blocks', 'Blocks Sh', 'Blocks Pass', 'Int', 'Tkl+Int', 'Clr', 'Err']],\n",
    "          df2[['SCA SCA', 'SCA SCA90', 'SCA Types PassLive', 'SCA Types PassDead', 'SCA Types TO', 'SCA Types Sh', 'SCA Types Fld', 'SCA Types Def', 'GCA GCA', 'GCA GCA90', 'GCA Types PassLive', 'GCA Types PassDead', 'GCA Types TO', 'GCA Types Sh', 'GCA Types Fld', 'GCA Types Def']],\n",
    "          df3[['Performance CrdY', 'Performance CrdR', 'Performance 2CrdY', 'Performance Fls', 'Performance Fld', 'Performance Off', 'Performance Crs', 'Performance Int', 'Performance TklW', 'Performance PKwon', 'Performance PKcon', 'Performance OG', 'Performance Recov', 'Aerial Duels Won', 'Aerial Duels Lost']],\n",
    "          df4[['Total Cmp', 'Total Att', 'Total Cmp%', 'Total TotDist', 'Total PrgDist', 'Short Cmp', 'Short Att', 'Medium Cmp', 'Medium Att', 'Long Cmp', 'Long Att', 'Ast', 'xAG', 'Expected xA', 'Expected A-xAG', 'KP', '1/3', 'PPA', 'CrsPA', 'PrgP']],\n",
    "          df5[['Touches Touches', 'Touches Def Pen', 'Touches Def 3rd', 'Touches Mid 3rd', 'Touches Att 3rd', 'Touches Att Pen', 'Touches Live', 'Take-Ons Att', 'Take-Ons Succ', 'Take-Ons Tkld', 'Carries Carries', 'Carries TotDist', 'Carries PrgDist', 'Carries PrgC', 'Carries 1/3', 'Carries CPA', 'Carries Mis', 'Carries Dis', 'Receiving Rec', 'Receiving PrgR']],\n",
    "          df6[['Standard Gls', 'Standard Sh', 'Standard SoT','Standard Sh/90', 'Standard SoT/90', 'Standard G/Sh', 'Standard G/SoT', 'Standard Dist', 'Standard FK', 'Standard PK', 'Standard PKatt', 'Expected xG', 'Expected npxG', 'Expected npxG/Sh', 'Expected G-xG', 'Expected np:G-xG']]]\n",
    "players = pd.concat(frames, axis=1)"
   ]
  },
  {
   "cell_type": "code",
   "execution_count": 82,
   "metadata": {},
   "outputs": [],
   "source": [
    "url = 'https://raw.githubusercontent.com/sambuddharay/FinalYearProject/main/scrapping/data/Bundesliga-Stats/2021-2022/player/Bundesliga-Stats-2021-2022-keepers-player.csv'\n",
    "df7 = pd.read_csv(url)\n",
    "url = 'https://raw.githubusercontent.com/sambuddharay/FinalYearProject/main/scrapping/data/Bundesliga-Stats/2021-2022/player/Bundesliga-Stats-2021-2022-keepersadv-player.csv'\n",
    "df8 = pd.read_csv(url)"
   ]
  },
  {
   "cell_type": "code",
   "execution_count": 83,
   "metadata": {},
   "outputs": [],
   "source": [
    "df7=df7[df7['Playing Time 90s']>0]\n",
    "df8=df8[df8['90s']>0]\n",
    "frames = [df7[['Player', 'Performance GA', 'Performance GA90', 'Performance SoTA', 'Performance Saves', 'Performance Save%', 'Performance W', 'Performance D', 'Performance L', 'Performance CS', 'Performance CS%', 'Penalty Kicks PKatt', 'Penalty Kicks PKA', 'Penalty Kicks PKsv', 'Penalty Kicks PKm']],\n",
    "          df8[['Goals GA', 'Goals PKA', 'Goals FK', 'Goals CK', 'Goals OG', 'Expected PSxG', 'Expected PSxG/SoT', 'Expected PSxG+/-', 'Expected /90', 'Launched Cmp', 'Launched Att', 'Launched Cmp%', 'Passes Att (GK)', 'Passes Thr', 'Passes Launch%', 'Passes AvgLen', 'Goal Kicks Att', 'Goal Kicks Launch%', 'Goal Kicks AvgLen', 'Crosses Opp', 'Crosses Stp', 'Crosses Stp%', 'Sweeper #OPA', 'Sweeper #OPA/90', 'Sweeper AvgDist']]]\n",
    "goalkeepers = pd.concat(frames, axis=1)"
   ]
  },
  {
   "cell_type": "code",
   "execution_count": 84,
   "metadata": {},
   "outputs": [],
   "source": [
    "players = players.replace(np.nan, 0)\n",
    "goalkeepers = goalkeepers.replace(np.nan, 0)\n",
    "utils.append_X_train(X_train, players, goalkeepers)"
   ]
  },
  {
   "cell_type": "code",
   "execution_count": 85,
   "metadata": {},
   "outputs": [],
   "source": [
    "url = 'https://raw.githubusercontent.com/sambuddharay/FinalYearProject/main/scrapping/data/Bundesliga-Stats/2022-2023/player/Bundesliga-Stats-2022-2023-defense-player.csv'\n",
    "df1 = pd.read_csv(url)\n",
    "url = 'https://raw.githubusercontent.com/sambuddharay/FinalYearProject/main/scrapping/data/Bundesliga-Stats/2022-2023/player/Bundesliga-Stats-2022-2023-gca-player.csv'\n",
    "df2 = pd.read_csv(url)\n",
    "url = 'https://raw.githubusercontent.com/sambuddharay/FinalYearProject/main/scrapping/data/Bundesliga-Stats/2022-2023/player/Bundesliga-Stats-2022-2023-misc-player.csv'\n",
    "df3 = pd.read_csv(url)\n",
    "url = 'https://raw.githubusercontent.com/sambuddharay/FinalYearProject/main/scrapping/data/Bundesliga-Stats/2022-2023/player/Bundesliga-Stats-2022-2023-passing-player.csv'\n",
    "df4 = pd.read_csv(url)\n",
    "url = 'https://raw.githubusercontent.com/sambuddharay/FinalYearProject/main/scrapping/data/Bundesliga-Stats/2022-2023/player/Bundesliga-Stats-2022-2023-possession-player.csv'\n",
    "df5 = pd.read_csv(url)\n",
    "url = 'https://raw.githubusercontent.com/sambuddharay/FinalYearProject/main/scrapping/data/Bundesliga-Stats/2022-2023/player/Bundesliga-Stats-2022-2023-shooting-player.csv'\n",
    "df6 = pd.read_csv(url)"
   ]
  },
  {
   "cell_type": "code",
   "execution_count": 86,
   "metadata": {},
   "outputs": [],
   "source": [
    "frames = [df1[['Player', 'Nation', 'Pos', 'Squad', 'Born', '90s', 'Tackles Tkl', 'Tackles TklW', 'Tackles Def 3rd', 'Tackles Mid 3rd', 'Tackles Att 3rd', 'Challenges Tkl', 'Challenges Att', 'Challenges Lost', 'Blocks Blocks', 'Blocks Sh', 'Blocks Pass', 'Int', 'Tkl+Int', 'Clr', 'Err']],\n",
    "          df2[['SCA SCA', 'SCA SCA90', 'SCA Types PassLive', 'SCA Types PassDead', 'SCA Types TO', 'SCA Types Sh', 'SCA Types Fld', 'SCA Types Def', 'GCA GCA', 'GCA GCA90', 'GCA Types PassLive', 'GCA Types PassDead', 'GCA Types TO', 'GCA Types Sh', 'GCA Types Fld', 'GCA Types Def']],\n",
    "          df3[['Performance CrdY', 'Performance CrdR', 'Performance 2CrdY', 'Performance Fls', 'Performance Fld', 'Performance Off', 'Performance Crs', 'Performance Int', 'Performance TklW', 'Performance PKwon', 'Performance PKcon', 'Performance OG', 'Performance Recov', 'Aerial Duels Won', 'Aerial Duels Lost']],\n",
    "          df4[['Total Cmp', 'Total Att', 'Total Cmp%', 'Total TotDist', 'Total PrgDist', 'Short Cmp', 'Short Att', 'Medium Cmp', 'Medium Att', 'Long Cmp', 'Long Att', 'Ast', 'xAG', 'Expected xA', 'Expected A-xAG', 'KP', '1/3', 'PPA', 'CrsPA', 'PrgP']],\n",
    "          df5[['Touches Touches', 'Touches Def Pen', 'Touches Def 3rd', 'Touches Mid 3rd', 'Touches Att 3rd', 'Touches Att Pen', 'Touches Live', 'Take-Ons Att', 'Take-Ons Succ', 'Take-Ons Tkld', 'Carries Carries', 'Carries TotDist', 'Carries PrgDist', 'Carries PrgC', 'Carries 1/3', 'Carries CPA', 'Carries Mis', 'Carries Dis', 'Receiving Rec', 'Receiving PrgR']],\n",
    "          df6[['Standard Gls', 'Standard Sh', 'Standard SoT','Standard Sh/90', 'Standard SoT/90', 'Standard G/Sh', 'Standard G/SoT', 'Standard Dist', 'Standard FK', 'Standard PK', 'Standard PKatt', 'Expected xG', 'Expected npxG', 'Expected npxG/Sh', 'Expected G-xG', 'Expected np:G-xG']]]\n",
    "players = pd.concat(frames, axis=1)"
   ]
  },
  {
   "cell_type": "code",
   "execution_count": 87,
   "metadata": {},
   "outputs": [],
   "source": [
    "url = 'https://raw.githubusercontent.com/sambuddharay/FinalYearProject/main/scrapping/data/Bundesliga-Stats/2022-2023/player/Bundesliga-Stats-2022-2023-keepers-player.csv'\n",
    "df7 = pd.read_csv(url)\n",
    "url = 'https://raw.githubusercontent.com/sambuddharay/FinalYearProject/main/scrapping/data/Bundesliga-Stats/2022-2023/player/Bundesliga-Stats-2022-2023-keepersadv-player.csv'\n",
    "df8 = pd.read_csv(url)"
   ]
  },
  {
   "cell_type": "code",
   "execution_count": 88,
   "metadata": {},
   "outputs": [],
   "source": [
    "df7=df7[df7['Playing Time 90s']>0]\n",
    "df8=df8[df8['90s']>0]\n",
    "frames = [df7[['Player', 'Performance GA', 'Performance GA90', 'Performance SoTA', 'Performance Saves', 'Performance Save%', 'Performance W', 'Performance D', 'Performance L', 'Performance CS', 'Performance CS%', 'Penalty Kicks PKatt', 'Penalty Kicks PKA', 'Penalty Kicks PKsv', 'Penalty Kicks PKm']],\n",
    "          df8[['Goals GA', 'Goals PKA', 'Goals FK', 'Goals CK', 'Goals OG', 'Expected PSxG', 'Expected PSxG/SoT', 'Expected PSxG+/-', 'Expected /90', 'Launched Cmp', 'Launched Att', 'Launched Cmp%', 'Passes Att (GK)', 'Passes Thr', 'Passes Launch%', 'Passes AvgLen', 'Goal Kicks Att', 'Goal Kicks Launch%', 'Goal Kicks AvgLen', 'Crosses Opp', 'Crosses Stp', 'Crosses Stp%', 'Sweeper #OPA', 'Sweeper #OPA/90', 'Sweeper AvgDist']]]\n",
    "goalkeepers = pd.concat(frames, axis=1)"
   ]
  },
  {
   "cell_type": "code",
   "execution_count": 89,
   "metadata": {},
   "outputs": [],
   "source": [
    "players = players.replace(np.nan, 0)\n",
    "goalkeepers = goalkeepers.replace(np.nan, 0)\n",
    "utils.append_X_train(X_train, players, goalkeepers)"
   ]
  },
  {
   "cell_type": "code",
   "execution_count": 90,
   "metadata": {},
   "outputs": [],
   "source": [
    "url = 'https://raw.githubusercontent.com/sambuddharay/FinalYearProject/main/scrapping/data/La-Liga-Stats/2018-2019/player/La-Liga-Stats-2018-2019-defense-player.csv'\n",
    "df1 = pd.read_csv(url)\n",
    "url = 'https://raw.githubusercontent.com/sambuddharay/FinalYearProject/main/scrapping/data/La-Liga-Stats/2018-2019/player/La-Liga-Stats-2018-2019-gca-player.csv'\n",
    "df2 = pd.read_csv(url)\n",
    "url = 'https://raw.githubusercontent.com/sambuddharay/FinalYearProject/main/scrapping/data/La-Liga-Stats/2018-2019/player/La-Liga-Stats-2018-2019-misc-player.csv'\n",
    "df3 = pd.read_csv(url)\n",
    "url = 'https://raw.githubusercontent.com/sambuddharay/FinalYearProject/main/scrapping/data/La-Liga-Stats/2018-2019/player/La-Liga-Stats-2018-2019-passing-player.csv'\n",
    "df4 = pd.read_csv(url)\n",
    "url = 'https://raw.githubusercontent.com/sambuddharay/FinalYearProject/main/scrapping/data/La-Liga-Stats/2018-2019/player/La-Liga-Stats-2018-2019-possession-player.csv'\n",
    "df5 = pd.read_csv(url)\n",
    "url = 'https://raw.githubusercontent.com/sambuddharay/FinalYearProject/main/scrapping/data/La-Liga-Stats/2018-2019/player/La-Liga-Stats-2018-2019-shooting-player.csv'\n",
    "df6 = pd.read_csv(url)"
   ]
  },
  {
   "cell_type": "code",
   "execution_count": 91,
   "metadata": {},
   "outputs": [],
   "source": [
    "frames = [df1[['Player', 'Nation', 'Pos', 'Squad', 'Born', '90s', 'Tackles Tkl', 'Tackles TklW', 'Tackles Def 3rd', 'Tackles Mid 3rd', 'Tackles Att 3rd', 'Challenges Tkl', 'Challenges Att', 'Challenges Lost', 'Blocks Blocks', 'Blocks Sh', 'Blocks Pass', 'Int', 'Tkl+Int', 'Clr', 'Err']],\n",
    "          df2[['SCA SCA', 'SCA SCA90', 'SCA Types PassLive', 'SCA Types PassDead', 'SCA Types TO', 'SCA Types Sh', 'SCA Types Fld', 'SCA Types Def', 'GCA GCA', 'GCA GCA90', 'GCA Types PassLive', 'GCA Types PassDead', 'GCA Types TO', 'GCA Types Sh', 'GCA Types Fld', 'GCA Types Def']],\n",
    "          df3[['Performance CrdY', 'Performance CrdR', 'Performance 2CrdY', 'Performance Fls', 'Performance Fld', 'Performance Off', 'Performance Crs', 'Performance Int', 'Performance TklW', 'Performance PKwon', 'Performance PKcon', 'Performance OG', 'Performance Recov', 'Aerial Duels Won', 'Aerial Duels Lost']],\n",
    "          df4[['Total Cmp', 'Total Att', 'Total Cmp%', 'Total TotDist', 'Total PrgDist', 'Short Cmp', 'Short Att', 'Medium Cmp', 'Medium Att', 'Long Cmp', 'Long Att', 'Ast', 'xAG', 'Expected xA', 'Expected A-xAG', 'KP', '1/3', 'PPA', 'CrsPA', 'PrgP']],\n",
    "          df5[['Touches Touches', 'Touches Def Pen', 'Touches Def 3rd', 'Touches Mid 3rd', 'Touches Att 3rd', 'Touches Att Pen', 'Touches Live', 'Take-Ons Att', 'Take-Ons Succ', 'Take-Ons Tkld', 'Carries Carries', 'Carries TotDist', 'Carries PrgDist', 'Carries PrgC', 'Carries 1/3', 'Carries CPA', 'Carries Mis', 'Carries Dis', 'Receiving Rec', 'Receiving PrgR']],\n",
    "          df6[['Standard Gls', 'Standard Sh', 'Standard SoT','Standard Sh/90', 'Standard SoT/90', 'Standard G/Sh', 'Standard G/SoT', 'Standard Dist', 'Standard FK', 'Standard PK', 'Standard PKatt', 'Expected xG', 'Expected npxG', 'Expected npxG/Sh', 'Expected G-xG', 'Expected np:G-xG']]]\n",
    "players = pd.concat(frames, axis=1)"
   ]
  },
  {
   "cell_type": "code",
   "execution_count": 92,
   "metadata": {},
   "outputs": [],
   "source": [
    "url = 'https://raw.githubusercontent.com/sambuddharay/FinalYearProject/main/scrapping/data/La-Liga-Stats/2018-2019/player/La-Liga-Stats-2018-2019-keepers-player.csv'\n",
    "df7 = pd.read_csv(url)\n",
    "url = 'https://raw.githubusercontent.com/sambuddharay/FinalYearProject/main/scrapping/data/La-Liga-Stats/2018-2019/player/La-Liga-Stats-2018-2019-keepersadv-player.csv'\n",
    "df8 = pd.read_csv(url)"
   ]
  },
  {
   "cell_type": "code",
   "execution_count": 93,
   "metadata": {},
   "outputs": [],
   "source": [
    "df7=df7[df7['Playing Time 90s']>0]\n",
    "df8=df8[df8['90s']>0]\n",
    "frames = [df7[['Player', 'Performance GA', 'Performance GA90', 'Performance SoTA', 'Performance Saves', 'Performance Save%', 'Performance W', 'Performance D', 'Performance L', 'Performance CS', 'Performance CS%', 'Penalty Kicks PKatt', 'Penalty Kicks PKA', 'Penalty Kicks PKsv', 'Penalty Kicks PKm']],\n",
    "          df8[['Goals GA', 'Goals PKA', 'Goals FK', 'Goals CK', 'Goals OG', 'Expected PSxG', 'Expected PSxG/SoT', 'Expected PSxG+/-', 'Expected /90', 'Launched Cmp', 'Launched Att', 'Launched Cmp%', 'Passes Att (GK)', 'Passes Thr', 'Passes Launch%', 'Passes AvgLen', 'Goal Kicks Att', 'Goal Kicks Launch%', 'Goal Kicks AvgLen', 'Crosses Opp', 'Crosses Stp', 'Crosses Stp%', 'Sweeper #OPA', 'Sweeper #OPA/90', 'Sweeper AvgDist']]]\n",
    "goalkeepers = pd.concat(frames, axis=1)"
   ]
  },
  {
   "cell_type": "code",
   "execution_count": 94,
   "metadata": {},
   "outputs": [],
   "source": [
    "players = players.replace(np.nan, 0)\n",
    "goalkeepers = goalkeepers.replace(np.nan, 0)\n",
    "utils.append_X_train(X_train, players, goalkeepers)"
   ]
  },
  {
   "cell_type": "code",
   "execution_count": 95,
   "metadata": {},
   "outputs": [],
   "source": [
    "url = 'https://raw.githubusercontent.com/sambuddharay/FinalYearProject/main/scrapping/data/La-Liga-Stats/2019-2020/player/La-Liga-Stats-2019-2020-defense-player.csv'\n",
    "df1 = pd.read_csv(url)\n",
    "url = 'https://raw.githubusercontent.com/sambuddharay/FinalYearProject/main/scrapping/data/La-Liga-Stats/2019-2020/player/La-Liga-Stats-2019-2020-gca-player.csv'\n",
    "df2 = pd.read_csv(url)\n",
    "url = 'https://raw.githubusercontent.com/sambuddharay/FinalYearProject/main/scrapping/data/La-Liga-Stats/2019-2020/player/La-Liga-Stats-2019-2020-misc-player.csv'\n",
    "df3 = pd.read_csv(url)\n",
    "url = 'https://raw.githubusercontent.com/sambuddharay/FinalYearProject/main/scrapping/data/La-Liga-Stats/2019-2020/player/La-Liga-Stats-2019-2020-passing-player.csv'\n",
    "df4 = pd.read_csv(url)\n",
    "url = 'https://raw.githubusercontent.com/sambuddharay/FinalYearProject/main/scrapping/data/La-Liga-Stats/2019-2020/player/La-Liga-Stats-2019-2020-possession-player.csv'\n",
    "df5 = pd.read_csv(url)\n",
    "url = 'https://raw.githubusercontent.com/sambuddharay/FinalYearProject/main/scrapping/data/La-Liga-Stats/2019-2020/player/La-Liga-Stats-2019-2020-shooting-player.csv'\n",
    "df6 = pd.read_csv(url)"
   ]
  },
  {
   "cell_type": "code",
   "execution_count": 96,
   "metadata": {},
   "outputs": [],
   "source": [
    "frames = [df1[['Player', 'Nation', 'Pos', 'Squad', 'Born', '90s', 'Tackles Tkl', 'Tackles TklW', 'Tackles Def 3rd', 'Tackles Mid 3rd', 'Tackles Att 3rd', 'Challenges Tkl', 'Challenges Att', 'Challenges Lost', 'Blocks Blocks', 'Blocks Sh', 'Blocks Pass', 'Int', 'Tkl+Int', 'Clr', 'Err']],\n",
    "          df2[['SCA SCA', 'SCA SCA90', 'SCA Types PassLive', 'SCA Types PassDead', 'SCA Types TO', 'SCA Types Sh', 'SCA Types Fld', 'SCA Types Def', 'GCA GCA', 'GCA GCA90', 'GCA Types PassLive', 'GCA Types PassDead', 'GCA Types TO', 'GCA Types Sh', 'GCA Types Fld', 'GCA Types Def']],\n",
    "          df3[['Performance CrdY', 'Performance CrdR', 'Performance 2CrdY', 'Performance Fls', 'Performance Fld', 'Performance Off', 'Performance Crs', 'Performance Int', 'Performance TklW', 'Performance PKwon', 'Performance PKcon', 'Performance OG', 'Performance Recov', 'Aerial Duels Won', 'Aerial Duels Lost']],\n",
    "          df4[['Total Cmp', 'Total Att', 'Total Cmp%', 'Total TotDist', 'Total PrgDist', 'Short Cmp', 'Short Att', 'Medium Cmp', 'Medium Att', 'Long Cmp', 'Long Att', 'Ast', 'xAG', 'Expected xA', 'Expected A-xAG', 'KP', '1/3', 'PPA', 'CrsPA', 'PrgP']],\n",
    "          df5[['Touches Touches', 'Touches Def Pen', 'Touches Def 3rd', 'Touches Mid 3rd', 'Touches Att 3rd', 'Touches Att Pen', 'Touches Live', 'Take-Ons Att', 'Take-Ons Succ', 'Take-Ons Tkld', 'Carries Carries', 'Carries TotDist', 'Carries PrgDist', 'Carries PrgC', 'Carries 1/3', 'Carries CPA', 'Carries Mis', 'Carries Dis', 'Receiving Rec', 'Receiving PrgR']],\n",
    "          df6[['Standard Gls', 'Standard Sh', 'Standard SoT','Standard Sh/90', 'Standard SoT/90', 'Standard G/Sh', 'Standard G/SoT', 'Standard Dist', 'Standard FK', 'Standard PK', 'Standard PKatt', 'Expected xG', 'Expected npxG', 'Expected npxG/Sh', 'Expected G-xG', 'Expected np:G-xG']]]\n",
    "players = pd.concat(frames, axis=1)"
   ]
  },
  {
   "cell_type": "code",
   "execution_count": 97,
   "metadata": {},
   "outputs": [],
   "source": [
    "url = 'https://raw.githubusercontent.com/sambuddharay/FinalYearProject/main/scrapping/data/La-Liga-Stats/2019-2020/player/La-Liga-Stats-2019-2020-keepers-player.csv'\n",
    "df7 = pd.read_csv(url)\n",
    "url = 'https://raw.githubusercontent.com/sambuddharay/FinalYearProject/main/scrapping/data/La-Liga-Stats/2019-2020/player/La-Liga-Stats-2019-2020-keepersadv-player.csv'\n",
    "df8 = pd.read_csv(url)"
   ]
  },
  {
   "cell_type": "code",
   "execution_count": 98,
   "metadata": {},
   "outputs": [],
   "source": [
    "df7=df7[df7['Playing Time 90s']>0]\n",
    "df8=df8[df8['90s']>0]\n",
    "frames = [df7[['Player', 'Performance GA', 'Performance GA90', 'Performance SoTA', 'Performance Saves', 'Performance Save%', 'Performance W', 'Performance D', 'Performance L', 'Performance CS', 'Performance CS%', 'Penalty Kicks PKatt', 'Penalty Kicks PKA', 'Penalty Kicks PKsv', 'Penalty Kicks PKm']],\n",
    "          df8[['Goals GA', 'Goals PKA', 'Goals FK', 'Goals CK', 'Goals OG', 'Expected PSxG', 'Expected PSxG/SoT', 'Expected PSxG+/-', 'Expected /90', 'Launched Cmp', 'Launched Att', 'Launched Cmp%', 'Passes Att (GK)', 'Passes Thr', 'Passes Launch%', 'Passes AvgLen', 'Goal Kicks Att', 'Goal Kicks Launch%', 'Goal Kicks AvgLen', 'Crosses Opp', 'Crosses Stp', 'Crosses Stp%', 'Sweeper #OPA', 'Sweeper #OPA/90', 'Sweeper AvgDist']]]\n",
    "goalkeepers = pd.concat(frames, axis=1)"
   ]
  },
  {
   "cell_type": "code",
   "execution_count": 99,
   "metadata": {},
   "outputs": [],
   "source": [
    "players = players.replace(np.nan, 0)\n",
    "goalkeepers = goalkeepers.replace(np.nan, 0)\n",
    "utils.append_X_train(X_train, players, goalkeepers)"
   ]
  },
  {
   "cell_type": "code",
   "execution_count": 100,
   "metadata": {},
   "outputs": [],
   "source": [
    "url = 'https://raw.githubusercontent.com/sambuddharay/FinalYearProject/main/scrapping/data/La-Liga-Stats/2020-2021/player/La-Liga-Stats-2020-2021-defense-player.csv'\n",
    "df1 = pd.read_csv(url)\n",
    "url = 'https://raw.githubusercontent.com/sambuddharay/FinalYearProject/main/scrapping/data/La-Liga-Stats/2020-2021/player/La-Liga-Stats-2020-2021-gca-player.csv'\n",
    "df2 = pd.read_csv(url)\n",
    "url = 'https://raw.githubusercontent.com/sambuddharay/FinalYearProject/main/scrapping/data/La-Liga-Stats/2020-2021/player/La-Liga-Stats-2020-2021-misc-player.csv'\n",
    "df3 = pd.read_csv(url)\n",
    "url = 'https://raw.githubusercontent.com/sambuddharay/FinalYearProject/main/scrapping/data/La-Liga-Stats/2020-2021/player/La-Liga-Stats-2020-2021-passing-player.csv'\n",
    "df4 = pd.read_csv(url)\n",
    "url = 'https://raw.githubusercontent.com/sambuddharay/FinalYearProject/main/scrapping/data/La-Liga-Stats/2020-2021/player/La-Liga-Stats-2020-2021-possession-player.csv'\n",
    "df5 = pd.read_csv(url)\n",
    "url = 'https://raw.githubusercontent.com/sambuddharay/FinalYearProject/main/scrapping/data/La-Liga-Stats/2020-2021/player/La-Liga-Stats-2020-2021-shooting-player.csv'\n",
    "df6 = pd.read_csv(url)"
   ]
  },
  {
   "cell_type": "code",
   "execution_count": 101,
   "metadata": {},
   "outputs": [],
   "source": [
    "frames = [df1[['Player', 'Nation', 'Pos', 'Squad', 'Born', '90s', 'Tackles Tkl', 'Tackles TklW', 'Tackles Def 3rd', 'Tackles Mid 3rd', 'Tackles Att 3rd', 'Challenges Tkl', 'Challenges Att', 'Challenges Lost', 'Blocks Blocks', 'Blocks Sh', 'Blocks Pass', 'Int', 'Tkl+Int', 'Clr', 'Err']],\n",
    "          df2[['SCA SCA', 'SCA SCA90', 'SCA Types PassLive', 'SCA Types PassDead', 'SCA Types TO', 'SCA Types Sh', 'SCA Types Fld', 'SCA Types Def', 'GCA GCA', 'GCA GCA90', 'GCA Types PassLive', 'GCA Types PassDead', 'GCA Types TO', 'GCA Types Sh', 'GCA Types Fld', 'GCA Types Def']],\n",
    "          df3[['Performance CrdY', 'Performance CrdR', 'Performance 2CrdY', 'Performance Fls', 'Performance Fld', 'Performance Off', 'Performance Crs', 'Performance Int', 'Performance TklW', 'Performance PKwon', 'Performance PKcon', 'Performance OG', 'Performance Recov', 'Aerial Duels Won', 'Aerial Duels Lost']],\n",
    "          df4[['Total Cmp', 'Total Att', 'Total Cmp%', 'Total TotDist', 'Total PrgDist', 'Short Cmp', 'Short Att', 'Medium Cmp', 'Medium Att', 'Long Cmp', 'Long Att', 'Ast', 'xAG', 'Expected xA', 'Expected A-xAG', 'KP', '1/3', 'PPA', 'CrsPA', 'PrgP']],\n",
    "          df5[['Touches Touches', 'Touches Def Pen', 'Touches Def 3rd', 'Touches Mid 3rd', 'Touches Att 3rd', 'Touches Att Pen', 'Touches Live', 'Take-Ons Att', 'Take-Ons Succ', 'Take-Ons Tkld', 'Carries Carries', 'Carries TotDist', 'Carries PrgDist', 'Carries PrgC', 'Carries 1/3', 'Carries CPA', 'Carries Mis', 'Carries Dis', 'Receiving Rec', 'Receiving PrgR']],\n",
    "          df6[['Standard Gls', 'Standard Sh', 'Standard SoT','Standard Sh/90', 'Standard SoT/90', 'Standard G/Sh', 'Standard G/SoT', 'Standard Dist', 'Standard FK', 'Standard PK', 'Standard PKatt', 'Expected xG', 'Expected npxG', 'Expected npxG/Sh', 'Expected G-xG', 'Expected np:G-xG']]]\n",
    "players = pd.concat(frames, axis=1)"
   ]
  },
  {
   "cell_type": "code",
   "execution_count": 102,
   "metadata": {},
   "outputs": [],
   "source": [
    "url = 'https://raw.githubusercontent.com/sambuddharay/FinalYearProject/main/scrapping/data/La-Liga-Stats/2020-2021/player/La-Liga-Stats-2020-2021-keepers-player.csv'\n",
    "df7 = pd.read_csv(url)\n",
    "url = 'https://raw.githubusercontent.com/sambuddharay/FinalYearProject/main/scrapping/data/La-Liga-Stats/2020-2021/player/La-Liga-Stats-2020-2021-keepersadv-player.csv'\n",
    "df8 = pd.read_csv(url)"
   ]
  },
  {
   "cell_type": "code",
   "execution_count": 103,
   "metadata": {},
   "outputs": [],
   "source": [
    "df7=df7[df7['Playing Time 90s']>0]\n",
    "df8=df8[df8['90s']>0]\n",
    "frames = [df7[['Player', 'Performance GA', 'Performance GA90', 'Performance SoTA', 'Performance Saves', 'Performance Save%', 'Performance W', 'Performance D', 'Performance L', 'Performance CS', 'Performance CS%', 'Penalty Kicks PKatt', 'Penalty Kicks PKA', 'Penalty Kicks PKsv', 'Penalty Kicks PKm']],\n",
    "          df8[['Goals GA', 'Goals PKA', 'Goals FK', 'Goals CK', 'Goals OG', 'Expected PSxG', 'Expected PSxG/SoT', 'Expected PSxG+/-', 'Expected /90', 'Launched Cmp', 'Launched Att', 'Launched Cmp%', 'Passes Att (GK)', 'Passes Thr', 'Passes Launch%', 'Passes AvgLen', 'Goal Kicks Att', 'Goal Kicks Launch%', 'Goal Kicks AvgLen', 'Crosses Opp', 'Crosses Stp', 'Crosses Stp%', 'Sweeper #OPA', 'Sweeper #OPA/90', 'Sweeper AvgDist']]]\n",
    "goalkeepers = pd.concat(frames, axis=1)"
   ]
  },
  {
   "cell_type": "code",
   "execution_count": 104,
   "metadata": {},
   "outputs": [],
   "source": [
    "players = players.replace(np.nan, 0)\n",
    "goalkeepers = goalkeepers.replace(np.nan, 0)\n",
    "utils.append_X_train(X_train, players, goalkeepers)"
   ]
  },
  {
   "cell_type": "code",
   "execution_count": 105,
   "metadata": {},
   "outputs": [],
   "source": [
    "url = 'https://raw.githubusercontent.com/sambuddharay/FinalYearProject/main/scrapping/data/La-Liga-Stats/2021-2022/player/La-Liga-Stats-2021-2022-defense-player.csv'\n",
    "df1 = pd.read_csv(url)\n",
    "url = 'https://raw.githubusercontent.com/sambuddharay/FinalYearProject/main/scrapping/data/La-Liga-Stats/2021-2022/player/La-Liga-Stats-2021-2022-gca-player.csv'\n",
    "df2 = pd.read_csv(url)\n",
    "url = 'https://raw.githubusercontent.com/sambuddharay/FinalYearProject/main/scrapping/data/La-Liga-Stats/2021-2022/player/La-Liga-Stats-2021-2022-misc-player.csv'\n",
    "df3 = pd.read_csv(url)\n",
    "url = 'https://raw.githubusercontent.com/sambuddharay/FinalYearProject/main/scrapping/data/La-Liga-Stats/2021-2022/player/La-Liga-Stats-2021-2022-passing-player.csv'\n",
    "df4 = pd.read_csv(url)\n",
    "url = 'https://raw.githubusercontent.com/sambuddharay/FinalYearProject/main/scrapping/data/La-Liga-Stats/2021-2022/player/La-Liga-Stats-2021-2022-possession-player.csv'\n",
    "df5 = pd.read_csv(url)\n",
    "url = 'https://raw.githubusercontent.com/sambuddharay/FinalYearProject/main/scrapping/data/La-Liga-Stats/2021-2022/player/La-Liga-Stats-2021-2022-shooting-player.csv'\n",
    "df6 = pd.read_csv(url)"
   ]
  },
  {
   "cell_type": "code",
   "execution_count": 106,
   "metadata": {},
   "outputs": [],
   "source": [
    "frames = [df1[['Player', 'Nation', 'Pos', 'Squad', 'Born', '90s', 'Tackles Tkl', 'Tackles TklW', 'Tackles Def 3rd', 'Tackles Mid 3rd', 'Tackles Att 3rd', 'Challenges Tkl', 'Challenges Att', 'Challenges Lost', 'Blocks Blocks', 'Blocks Sh', 'Blocks Pass', 'Int', 'Tkl+Int', 'Clr', 'Err']],\n",
    "          df2[['SCA SCA', 'SCA SCA90', 'SCA Types PassLive', 'SCA Types PassDead', 'SCA Types TO', 'SCA Types Sh', 'SCA Types Fld', 'SCA Types Def', 'GCA GCA', 'GCA GCA90', 'GCA Types PassLive', 'GCA Types PassDead', 'GCA Types TO', 'GCA Types Sh', 'GCA Types Fld', 'GCA Types Def']],\n",
    "          df3[['Performance CrdY', 'Performance CrdR', 'Performance 2CrdY', 'Performance Fls', 'Performance Fld', 'Performance Off', 'Performance Crs', 'Performance Int', 'Performance TklW', 'Performance PKwon', 'Performance PKcon', 'Performance OG', 'Performance Recov', 'Aerial Duels Won', 'Aerial Duels Lost']],\n",
    "          df4[['Total Cmp', 'Total Att', 'Total Cmp%', 'Total TotDist', 'Total PrgDist', 'Short Cmp', 'Short Att', 'Medium Cmp', 'Medium Att', 'Long Cmp', 'Long Att', 'Ast', 'xAG', 'Expected xA', 'Expected A-xAG', 'KP', '1/3', 'PPA', 'CrsPA', 'PrgP']],\n",
    "          df5[['Touches Touches', 'Touches Def Pen', 'Touches Def 3rd', 'Touches Mid 3rd', 'Touches Att 3rd', 'Touches Att Pen', 'Touches Live', 'Take-Ons Att', 'Take-Ons Succ', 'Take-Ons Tkld', 'Carries Carries', 'Carries TotDist', 'Carries PrgDist', 'Carries PrgC', 'Carries 1/3', 'Carries CPA', 'Carries Mis', 'Carries Dis', 'Receiving Rec', 'Receiving PrgR']],\n",
    "          df6[['Standard Gls', 'Standard Sh', 'Standard SoT','Standard Sh/90', 'Standard SoT/90', 'Standard G/Sh', 'Standard G/SoT', 'Standard Dist', 'Standard FK', 'Standard PK', 'Standard PKatt', 'Expected xG', 'Expected npxG', 'Expected npxG/Sh', 'Expected G-xG', 'Expected np:G-xG']]]\n",
    "players = pd.concat(frames, axis=1)"
   ]
  },
  {
   "cell_type": "code",
   "execution_count": 107,
   "metadata": {},
   "outputs": [],
   "source": [
    "url = 'https://raw.githubusercontent.com/sambuddharay/FinalYearProject/main/scrapping/data/La-Liga-Stats/2021-2022/player/La-Liga-Stats-2021-2022-keepers-player.csv'\n",
    "df7 = pd.read_csv(url)\n",
    "url = 'https://raw.githubusercontent.com/sambuddharay/FinalYearProject/main/scrapping/data/La-Liga-Stats/2021-2022/player/La-Liga-Stats-2021-2022-keepersadv-player.csv'\n",
    "df8 = pd.read_csv(url)"
   ]
  },
  {
   "cell_type": "code",
   "execution_count": 108,
   "metadata": {},
   "outputs": [],
   "source": [
    "df7=df7[df7['Playing Time 90s']>0]\n",
    "df8=df8[df8['90s']>0]\n",
    "frames = [df7[['Player', 'Performance GA', 'Performance GA90', 'Performance SoTA', 'Performance Saves', 'Performance Save%', 'Performance W', 'Performance D', 'Performance L', 'Performance CS', 'Performance CS%', 'Penalty Kicks PKatt', 'Penalty Kicks PKA', 'Penalty Kicks PKsv', 'Penalty Kicks PKm']],\n",
    "          df8[['Goals GA', 'Goals PKA', 'Goals FK', 'Goals CK', 'Goals OG', 'Expected PSxG', 'Expected PSxG/SoT', 'Expected PSxG+/-', 'Expected /90', 'Launched Cmp', 'Launched Att', 'Launched Cmp%', 'Passes Att (GK)', 'Passes Thr', 'Passes Launch%', 'Passes AvgLen', 'Goal Kicks Att', 'Goal Kicks Launch%', 'Goal Kicks AvgLen', 'Crosses Opp', 'Crosses Stp', 'Crosses Stp%', 'Sweeper #OPA', 'Sweeper #OPA/90', 'Sweeper AvgDist']]]\n",
    "goalkeepers = pd.concat(frames, axis=1)"
   ]
  },
  {
   "cell_type": "code",
   "execution_count": 109,
   "metadata": {},
   "outputs": [],
   "source": [
    "players = players.replace(np.nan, 0)\n",
    "goalkeepers = goalkeepers.replace(np.nan, 0)\n",
    "utils.append_X_train(X_train, players, goalkeepers)"
   ]
  },
  {
   "cell_type": "code",
   "execution_count": 110,
   "metadata": {},
   "outputs": [],
   "source": [
    "url = 'https://raw.githubusercontent.com/sambuddharay/FinalYearProject/main/scrapping/data/La-Liga-Stats/2022-2023/player/La-Liga-Stats-2022-2023-defense-player.csv'\n",
    "df1 = pd.read_csv(url)\n",
    "url = 'https://raw.githubusercontent.com/sambuddharay/FinalYearProject/main/scrapping/data/La-Liga-Stats/2022-2023/player/La-Liga-Stats-2022-2023-gca-player.csv'\n",
    "df2 = pd.read_csv(url)\n",
    "url = 'https://raw.githubusercontent.com/sambuddharay/FinalYearProject/main/scrapping/data/La-Liga-Stats/2022-2023/player/La-Liga-Stats-2022-2023-misc-player.csv'\n",
    "df3 = pd.read_csv(url)\n",
    "url = 'https://raw.githubusercontent.com/sambuddharay/FinalYearProject/main/scrapping/data/La-Liga-Stats/2022-2023/player/La-Liga-Stats-2022-2023-passing-player.csv'\n",
    "df4 = pd.read_csv(url)\n",
    "url = 'https://raw.githubusercontent.com/sambuddharay/FinalYearProject/main/scrapping/data/La-Liga-Stats/2022-2023/player/La-Liga-Stats-2022-2023-possession-player.csv'\n",
    "df5 = pd.read_csv(url)\n",
    "url = 'https://raw.githubusercontent.com/sambuddharay/FinalYearProject/main/scrapping/data/La-Liga-Stats/2022-2023/player/La-Liga-Stats-2022-2023-shooting-player.csv'\n",
    "df6 = pd.read_csv(url)"
   ]
  },
  {
   "cell_type": "code",
   "execution_count": 111,
   "metadata": {},
   "outputs": [],
   "source": [
    "frames = [df1[['Player', 'Nation', 'Pos', 'Squad', 'Born', '90s', 'Tackles Tkl', 'Tackles TklW', 'Tackles Def 3rd', 'Tackles Mid 3rd', 'Tackles Att 3rd', 'Challenges Tkl', 'Challenges Att', 'Challenges Lost', 'Blocks Blocks', 'Blocks Sh', 'Blocks Pass', 'Int', 'Tkl+Int', 'Clr', 'Err']],\n",
    "          df2[['SCA SCA', 'SCA SCA90', 'SCA Types PassLive', 'SCA Types PassDead', 'SCA Types TO', 'SCA Types Sh', 'SCA Types Fld', 'SCA Types Def', 'GCA GCA', 'GCA GCA90', 'GCA Types PassLive', 'GCA Types PassDead', 'GCA Types TO', 'GCA Types Sh', 'GCA Types Fld', 'GCA Types Def']],\n",
    "          df3[['Performance CrdY', 'Performance CrdR', 'Performance 2CrdY', 'Performance Fls', 'Performance Fld', 'Performance Off', 'Performance Crs', 'Performance Int', 'Performance TklW', 'Performance PKwon', 'Performance PKcon', 'Performance OG', 'Performance Recov', 'Aerial Duels Won', 'Aerial Duels Lost']],\n",
    "          df4[['Total Cmp', 'Total Att', 'Total Cmp%', 'Total TotDist', 'Total PrgDist', 'Short Cmp', 'Short Att', 'Medium Cmp', 'Medium Att', 'Long Cmp', 'Long Att', 'Ast', 'xAG', 'Expected xA', 'Expected A-xAG', 'KP', '1/3', 'PPA', 'CrsPA', 'PrgP']],\n",
    "          df5[['Touches Touches', 'Touches Def Pen', 'Touches Def 3rd', 'Touches Mid 3rd', 'Touches Att 3rd', 'Touches Att Pen', 'Touches Live', 'Take-Ons Att', 'Take-Ons Succ', 'Take-Ons Tkld', 'Carries Carries', 'Carries TotDist', 'Carries PrgDist', 'Carries PrgC', 'Carries 1/3', 'Carries CPA', 'Carries Mis', 'Carries Dis', 'Receiving Rec', 'Receiving PrgR']],\n",
    "          df6[['Standard Gls', 'Standard Sh', 'Standard SoT','Standard Sh/90', 'Standard SoT/90', 'Standard G/Sh', 'Standard G/SoT', 'Standard Dist', 'Standard FK', 'Standard PK', 'Standard PKatt', 'Expected xG', 'Expected npxG', 'Expected npxG/Sh', 'Expected G-xG', 'Expected np:G-xG']]]\n",
    "players = pd.concat(frames, axis=1)"
   ]
  },
  {
   "cell_type": "code",
   "execution_count": 112,
   "metadata": {},
   "outputs": [],
   "source": [
    "url = 'https://raw.githubusercontent.com/sambuddharay/FinalYearProject/main/scrapping/data/La-Liga-Stats/2022-2023/player/La-Liga-Stats-2022-2023-keepers-player.csv'\n",
    "df7 = pd.read_csv(url)\n",
    "url = 'https://raw.githubusercontent.com/sambuddharay/FinalYearProject/main/scrapping/data/La-Liga-Stats/2022-2023/player/La-Liga-Stats-2022-2023-keepersadv-player.csv'\n",
    "df8 = pd.read_csv(url)"
   ]
  },
  {
   "cell_type": "code",
   "execution_count": 113,
   "metadata": {},
   "outputs": [],
   "source": [
    "df7=df7[df7['Playing Time 90s']>0]\n",
    "df8=df8[df8['90s']>0]\n",
    "frames = [df7[['Player', 'Performance GA', 'Performance GA90', 'Performance SoTA', 'Performance Saves', 'Performance Save%', 'Performance W', 'Performance D', 'Performance L', 'Performance CS', 'Performance CS%', 'Penalty Kicks PKatt', 'Penalty Kicks PKA', 'Penalty Kicks PKsv', 'Penalty Kicks PKm']],\n",
    "          df8[['Goals GA', 'Goals PKA', 'Goals FK', 'Goals CK', 'Goals OG', 'Expected PSxG', 'Expected PSxG/SoT', 'Expected PSxG+/-', 'Expected /90', 'Launched Cmp', 'Launched Att', 'Launched Cmp%', 'Passes Att (GK)', 'Passes Thr', 'Passes Launch%', 'Passes AvgLen', 'Goal Kicks Att', 'Goal Kicks Launch%', 'Goal Kicks AvgLen', 'Crosses Opp', 'Crosses Stp', 'Crosses Stp%', 'Sweeper #OPA', 'Sweeper #OPA/90', 'Sweeper AvgDist']]]\n",
    "goalkeepers = pd.concat(frames, axis=1)"
   ]
  },
  {
   "cell_type": "code",
   "execution_count": 114,
   "metadata": {},
   "outputs": [],
   "source": [
    "players = players.replace(np.nan, 0)\n",
    "goalkeepers = goalkeepers.replace(np.nan, 0)\n",
    "utils.append_X_train(X_train, players, goalkeepers)"
   ]
  },
  {
   "cell_type": "code",
   "execution_count": 115,
   "metadata": {},
   "outputs": [],
   "source": [
    "url = 'https://raw.githubusercontent.com/sambuddharay/FinalYearProject/main/scrapping/data/Ligue-1-Stats/2018-2019/player/Ligue-1-Stats-2018-2019-defense-player.csv'\n",
    "df1 = pd.read_csv(url)\n",
    "url = 'https://raw.githubusercontent.com/sambuddharay/FinalYearProject/main/scrapping/data/Ligue-1-Stats/2018-2019/player/Ligue-1-Stats-2018-2019-gca-player.csv'\n",
    "df2 = pd.read_csv(url)\n",
    "url = 'https://raw.githubusercontent.com/sambuddharay/FinalYearProject/main/scrapping/data/Ligue-1-Stats/2018-2019/player/Ligue-1-Stats-2018-2019-misc-player.csv'\n",
    "df3 = pd.read_csv(url)\n",
    "url = 'https://raw.githubusercontent.com/sambuddharay/FinalYearProject/main/scrapping/data/Ligue-1-Stats/2018-2019/player/Ligue-1-Stats-2018-2019-passing-player.csv'\n",
    "df4 = pd.read_csv(url)\n",
    "url = 'https://raw.githubusercontent.com/sambuddharay/FinalYearProject/main/scrapping/data/Ligue-1-Stats/2018-2019/player/Ligue-1-Stats-2018-2019-possession-player.csv'\n",
    "df5 = pd.read_csv(url)\n",
    "url = 'https://raw.githubusercontent.com/sambuddharay/FinalYearProject/main/scrapping/data/Ligue-1-Stats/2018-2019/player/Ligue-1-Stats-2018-2019-shooting-player.csv'\n",
    "df6 = pd.read_csv(url)"
   ]
  },
  {
   "cell_type": "code",
   "execution_count": 116,
   "metadata": {},
   "outputs": [],
   "source": [
    "frames = [df1[['Player', 'Nation', 'Pos', 'Squad', 'Born', '90s', 'Tackles Tkl', 'Tackles TklW', 'Tackles Def 3rd', 'Tackles Mid 3rd', 'Tackles Att 3rd', 'Challenges Tkl', 'Challenges Att', 'Challenges Lost', 'Blocks Blocks', 'Blocks Sh', 'Blocks Pass', 'Int', 'Tkl+Int', 'Clr', 'Err']],\n",
    "          df2[['SCA SCA', 'SCA SCA90', 'SCA Types PassLive', 'SCA Types PassDead', 'SCA Types TO', 'SCA Types Sh', 'SCA Types Fld', 'SCA Types Def', 'GCA GCA', 'GCA GCA90', 'GCA Types PassLive', 'GCA Types PassDead', 'GCA Types TO', 'GCA Types Sh', 'GCA Types Fld', 'GCA Types Def']],\n",
    "          df3[['Performance CrdY', 'Performance CrdR', 'Performance 2CrdY', 'Performance Fls', 'Performance Fld', 'Performance Off', 'Performance Crs', 'Performance Int', 'Performance TklW', 'Performance PKwon', 'Performance PKcon', 'Performance OG', 'Performance Recov', 'Aerial Duels Won', 'Aerial Duels Lost']],\n",
    "          df4[['Total Cmp', 'Total Att', 'Total Cmp%', 'Total TotDist', 'Total PrgDist', 'Short Cmp', 'Short Att', 'Medium Cmp', 'Medium Att', 'Long Cmp', 'Long Att', 'Ast', 'xAG', 'Expected xA', 'Expected A-xAG', 'KP', '1/3', 'PPA', 'CrsPA', 'PrgP']],\n",
    "          df5[['Touches Touches', 'Touches Def Pen', 'Touches Def 3rd', 'Touches Mid 3rd', 'Touches Att 3rd', 'Touches Att Pen', 'Touches Live', 'Take-Ons Att', 'Take-Ons Succ', 'Take-Ons Tkld', 'Carries Carries', 'Carries TotDist', 'Carries PrgDist', 'Carries PrgC', 'Carries 1/3', 'Carries CPA', 'Carries Mis', 'Carries Dis', 'Receiving Rec', 'Receiving PrgR']],\n",
    "          df6[['Standard Gls', 'Standard Sh', 'Standard SoT','Standard Sh/90', 'Standard SoT/90', 'Standard G/Sh', 'Standard G/SoT', 'Standard Dist', 'Standard FK', 'Standard PK', 'Standard PKatt', 'Expected xG', 'Expected npxG', 'Expected npxG/Sh', 'Expected G-xG', 'Expected np:G-xG']]]\n",
    "players = pd.concat(frames, axis=1)"
   ]
  },
  {
   "cell_type": "code",
   "execution_count": 117,
   "metadata": {},
   "outputs": [],
   "source": [
    "url = 'https://raw.githubusercontent.com/sambuddharay/FinalYearProject/main/scrapping/data/Ligue-1-Stats/2018-2019/player/Ligue-1-Stats-2018-2019-keepers-player.csv'\n",
    "df7 = pd.read_csv(url)\n",
    "url = 'https://raw.githubusercontent.com/sambuddharay/FinalYearProject/main/scrapping/data/Ligue-1-Stats/2018-2019/player/Ligue-1-Stats-2018-2019-keepersadv-player.csv'\n",
    "df8 = pd.read_csv(url)"
   ]
  },
  {
   "cell_type": "code",
   "execution_count": 118,
   "metadata": {},
   "outputs": [],
   "source": [
    "df7=df7[df7['Playing Time 90s']>0]\n",
    "df8=df8[df8['90s']>0]\n",
    "frames = [df7[['Player', 'Performance GA', 'Performance GA90', 'Performance SoTA', 'Performance Saves', 'Performance Save%', 'Performance W', 'Performance D', 'Performance L', 'Performance CS', 'Performance CS%', 'Penalty Kicks PKatt', 'Penalty Kicks PKA', 'Penalty Kicks PKsv', 'Penalty Kicks PKm']],\n",
    "          df8[['Goals GA', 'Goals PKA', 'Goals FK', 'Goals CK', 'Goals OG', 'Expected PSxG', 'Expected PSxG/SoT', 'Expected PSxG+/-', 'Expected /90', 'Launched Cmp', 'Launched Att', 'Launched Cmp%', 'Passes Att (GK)', 'Passes Thr', 'Passes Launch%', 'Passes AvgLen', 'Goal Kicks Att', 'Goal Kicks Launch%', 'Goal Kicks AvgLen', 'Crosses Opp', 'Crosses Stp', 'Crosses Stp%', 'Sweeper #OPA', 'Sweeper #OPA/90', 'Sweeper AvgDist']]]\n",
    "goalkeepers = pd.concat(frames, axis=1)"
   ]
  },
  {
   "cell_type": "code",
   "execution_count": 119,
   "metadata": {},
   "outputs": [],
   "source": [
    "players = players.replace(np.nan, 0)\n",
    "goalkeepers = goalkeepers.replace(np.nan, 0)\n",
    "utils.append_X_train(X_train, players, goalkeepers)"
   ]
  },
  {
   "cell_type": "code",
   "execution_count": 120,
   "metadata": {},
   "outputs": [],
   "source": [
    "url = 'https://raw.githubusercontent.com/sambuddharay/FinalYearProject/main/scrapping/data/Ligue-1-Stats/2019-2020/player/Ligue-1-Stats-2019-2020-defense-player.csv'\n",
    "df1 = pd.read_csv(url)\n",
    "url = 'https://raw.githubusercontent.com/sambuddharay/FinalYearProject/main/scrapping/data/Ligue-1-Stats/2019-2020/player/Ligue-1-Stats-2019-2020-gca-player.csv'\n",
    "df2 = pd.read_csv(url)\n",
    "url = 'https://raw.githubusercontent.com/sambuddharay/FinalYearProject/main/scrapping/data/Ligue-1-Stats/2019-2020/player/Ligue-1-Stats-2019-2020-misc-player.csv'\n",
    "df3 = pd.read_csv(url)\n",
    "url = 'https://raw.githubusercontent.com/sambuddharay/FinalYearProject/main/scrapping/data/Ligue-1-Stats/2019-2020/player/Ligue-1-Stats-2019-2020-passing-player.csv'\n",
    "df4 = pd.read_csv(url)\n",
    "url = 'https://raw.githubusercontent.com/sambuddharay/FinalYearProject/main/scrapping/data/Ligue-1-Stats/2019-2020/player/Ligue-1-Stats-2019-2020-possession-player.csv'\n",
    "df5 = pd.read_csv(url)\n",
    "url = 'https://raw.githubusercontent.com/sambuddharay/FinalYearProject/main/scrapping/data/Ligue-1-Stats/2019-2020/player/Ligue-1-Stats-2019-2020-shooting-player.csv'\n",
    "df6 = pd.read_csv(url)"
   ]
  },
  {
   "cell_type": "code",
   "execution_count": 121,
   "metadata": {},
   "outputs": [],
   "source": [
    "frames = [df1[['Player', 'Nation', 'Pos', 'Squad', 'Born', '90s', 'Tackles Tkl', 'Tackles TklW', 'Tackles Def 3rd', 'Tackles Mid 3rd', 'Tackles Att 3rd', 'Challenges Tkl', 'Challenges Att', 'Challenges Lost', 'Blocks Blocks', 'Blocks Sh', 'Blocks Pass', 'Int', 'Tkl+Int', 'Clr', 'Err']],\n",
    "          df2[['SCA SCA', 'SCA SCA90', 'SCA Types PassLive', 'SCA Types PassDead', 'SCA Types TO', 'SCA Types Sh', 'SCA Types Fld', 'SCA Types Def', 'GCA GCA', 'GCA GCA90', 'GCA Types PassLive', 'GCA Types PassDead', 'GCA Types TO', 'GCA Types Sh', 'GCA Types Fld', 'GCA Types Def']],\n",
    "          df3[['Performance CrdY', 'Performance CrdR', 'Performance 2CrdY', 'Performance Fls', 'Performance Fld', 'Performance Off', 'Performance Crs', 'Performance Int', 'Performance TklW', 'Performance PKwon', 'Performance PKcon', 'Performance OG', 'Performance Recov', 'Aerial Duels Won', 'Aerial Duels Lost']],\n",
    "          df4[['Total Cmp', 'Total Att', 'Total Cmp%', 'Total TotDist', 'Total PrgDist', 'Short Cmp', 'Short Att', 'Medium Cmp', 'Medium Att', 'Long Cmp', 'Long Att', 'Ast', 'xAG', 'Expected xA', 'Expected A-xAG', 'KP', '1/3', 'PPA', 'CrsPA', 'PrgP']],\n",
    "          df5[['Touches Touches', 'Touches Def Pen', 'Touches Def 3rd', 'Touches Mid 3rd', 'Touches Att 3rd', 'Touches Att Pen', 'Touches Live', 'Take-Ons Att', 'Take-Ons Succ', 'Take-Ons Tkld', 'Carries Carries', 'Carries TotDist', 'Carries PrgDist', 'Carries PrgC', 'Carries 1/3', 'Carries CPA', 'Carries Mis', 'Carries Dis', 'Receiving Rec', 'Receiving PrgR']],\n",
    "          df6[['Standard Gls', 'Standard Sh', 'Standard SoT','Standard Sh/90', 'Standard SoT/90', 'Standard G/Sh', 'Standard G/SoT', 'Standard Dist', 'Standard FK', 'Standard PK', 'Standard PKatt', 'Expected xG', 'Expected npxG', 'Expected npxG/Sh', 'Expected G-xG', 'Expected np:G-xG']]]\n",
    "players = pd.concat(frames, axis=1)"
   ]
  },
  {
   "cell_type": "code",
   "execution_count": 122,
   "metadata": {},
   "outputs": [],
   "source": [
    "url = 'https://raw.githubusercontent.com/sambuddharay/FinalYearProject/main/scrapping/data/Ligue-1-Stats/2019-2020/player/Ligue-1-Stats-2019-2020-keepers-player.csv'\n",
    "df7 = pd.read_csv(url)\n",
    "url = 'https://raw.githubusercontent.com/sambuddharay/FinalYearProject/main/scrapping/data/Ligue-1-Stats/2019-2020/player/Ligue-1-Stats-2019-2020-keepersadv-player.csv'\n",
    "df8 = pd.read_csv(url)"
   ]
  },
  {
   "cell_type": "code",
   "execution_count": 123,
   "metadata": {},
   "outputs": [],
   "source": [
    "df7=df7[df7['Playing Time 90s']>0]\n",
    "df8=df8[df8['90s']>0]\n",
    "frames = [df7[['Player', 'Performance GA', 'Performance GA90', 'Performance SoTA', 'Performance Saves', 'Performance Save%', 'Performance W', 'Performance D', 'Performance L', 'Performance CS', 'Performance CS%', 'Penalty Kicks PKatt', 'Penalty Kicks PKA', 'Penalty Kicks PKsv', 'Penalty Kicks PKm']],\n",
    "          df8[['Goals GA', 'Goals PKA', 'Goals FK', 'Goals CK', 'Goals OG', 'Expected PSxG', 'Expected PSxG/SoT', 'Expected PSxG+/-', 'Expected /90', 'Launched Cmp', 'Launched Att', 'Launched Cmp%', 'Passes Att (GK)', 'Passes Thr', 'Passes Launch%', 'Passes AvgLen', 'Goal Kicks Att', 'Goal Kicks Launch%', 'Goal Kicks AvgLen', 'Crosses Opp', 'Crosses Stp', 'Crosses Stp%', 'Sweeper #OPA', 'Sweeper #OPA/90', 'Sweeper AvgDist']]]\n",
    "goalkeepers = pd.concat(frames, axis=1)"
   ]
  },
  {
   "cell_type": "code",
   "execution_count": 124,
   "metadata": {},
   "outputs": [],
   "source": [
    "players = players.replace(np.nan, 0)\n",
    "goalkeepers = goalkeepers.replace(np.nan, 0)\n",
    "utils.append_X_train(X_train, players, goalkeepers)"
   ]
  },
  {
   "cell_type": "code",
   "execution_count": 125,
   "metadata": {},
   "outputs": [],
   "source": [
    "url = 'https://raw.githubusercontent.com/sambuddharay/FinalYearProject/main/scrapping/data/Ligue-1-Stats/2020-2021/player/Ligue-1-Stats-2020-2021-defense-player.csv'\n",
    "df1 = pd.read_csv(url)\n",
    "url = 'https://raw.githubusercontent.com/sambuddharay/FinalYearProject/main/scrapping/data/Ligue-1-Stats/2020-2021/player/Ligue-1-Stats-2020-2021-gca-player.csv'\n",
    "df2 = pd.read_csv(url)\n",
    "url = 'https://raw.githubusercontent.com/sambuddharay/FinalYearProject/main/scrapping/data/Ligue-1-Stats/2020-2021/player/Ligue-1-Stats-2020-2021-misc-player.csv'\n",
    "df3 = pd.read_csv(url)\n",
    "url = 'https://raw.githubusercontent.com/sambuddharay/FinalYearProject/main/scrapping/data/Ligue-1-Stats/2020-2021/player/Ligue-1-Stats-2020-2021-passing-player.csv'\n",
    "df4 = pd.read_csv(url)\n",
    "url = 'https://raw.githubusercontent.com/sambuddharay/FinalYearProject/main/scrapping/data/Ligue-1-Stats/2020-2021/player/Ligue-1-Stats-2020-2021-possession-player.csv'\n",
    "df5 = pd.read_csv(url)\n",
    "url = 'https://raw.githubusercontent.com/sambuddharay/FinalYearProject/main/scrapping/data/Ligue-1-Stats/2020-2021/player/Ligue-1-Stats-2020-2021-shooting-player.csv'\n",
    "df6 = pd.read_csv(url)"
   ]
  },
  {
   "cell_type": "code",
   "execution_count": 126,
   "metadata": {},
   "outputs": [],
   "source": [
    "frames = [df1[['Player', 'Nation', 'Pos', 'Squad', 'Born', '90s', 'Tackles Tkl', 'Tackles TklW', 'Tackles Def 3rd', 'Tackles Mid 3rd', 'Tackles Att 3rd', 'Challenges Tkl', 'Challenges Att', 'Challenges Lost', 'Blocks Blocks', 'Blocks Sh', 'Blocks Pass', 'Int', 'Tkl+Int', 'Clr', 'Err']],\n",
    "          df2[['SCA SCA', 'SCA SCA90', 'SCA Types PassLive', 'SCA Types PassDead', 'SCA Types TO', 'SCA Types Sh', 'SCA Types Fld', 'SCA Types Def', 'GCA GCA', 'GCA GCA90', 'GCA Types PassLive', 'GCA Types PassDead', 'GCA Types TO', 'GCA Types Sh', 'GCA Types Fld', 'GCA Types Def']],\n",
    "          df3[['Performance CrdY', 'Performance CrdR', 'Performance 2CrdY', 'Performance Fls', 'Performance Fld', 'Performance Off', 'Performance Crs', 'Performance Int', 'Performance TklW', 'Performance PKwon', 'Performance PKcon', 'Performance OG', 'Performance Recov', 'Aerial Duels Won', 'Aerial Duels Lost']],\n",
    "          df4[['Total Cmp', 'Total Att', 'Total Cmp%', 'Total TotDist', 'Total PrgDist', 'Short Cmp', 'Short Att', 'Medium Cmp', 'Medium Att', 'Long Cmp', 'Long Att', 'Ast', 'xAG', 'Expected xA', 'Expected A-xAG', 'KP', '1/3', 'PPA', 'CrsPA', 'PrgP']],\n",
    "          df5[['Touches Touches', 'Touches Def Pen', 'Touches Def 3rd', 'Touches Mid 3rd', 'Touches Att 3rd', 'Touches Att Pen', 'Touches Live', 'Take-Ons Att', 'Take-Ons Succ', 'Take-Ons Tkld', 'Carries Carries', 'Carries TotDist', 'Carries PrgDist', 'Carries PrgC', 'Carries 1/3', 'Carries CPA', 'Carries Mis', 'Carries Dis', 'Receiving Rec', 'Receiving PrgR']],\n",
    "          df6[['Standard Gls', 'Standard Sh', 'Standard SoT','Standard Sh/90', 'Standard SoT/90', 'Standard G/Sh', 'Standard G/SoT', 'Standard Dist', 'Standard FK', 'Standard PK', 'Standard PKatt', 'Expected xG', 'Expected npxG', 'Expected npxG/Sh', 'Expected G-xG', 'Expected np:G-xG']]]\n",
    "players = pd.concat(frames, axis=1)"
   ]
  },
  {
   "cell_type": "code",
   "execution_count": 127,
   "metadata": {},
   "outputs": [],
   "source": [
    "url = 'https://raw.githubusercontent.com/sambuddharay/FinalYearProject/main/scrapping/data/Ligue-1-Stats/2020-2021/player/Ligue-1-Stats-2020-2021-keepers-player.csv'\n",
    "df7 = pd.read_csv(url)\n",
    "url = 'https://raw.githubusercontent.com/sambuddharay/FinalYearProject/main/scrapping/data/Ligue-1-Stats/2020-2021/player/Ligue-1-Stats-2020-2021-keepersadv-player.csv'\n",
    "df8 = pd.read_csv(url)"
   ]
  },
  {
   "cell_type": "code",
   "execution_count": 128,
   "metadata": {},
   "outputs": [],
   "source": [
    "df7=df7[df7['Playing Time 90s']>0]\n",
    "df8=df8[df8['90s']>0]\n",
    "frames = [df7[['Player', 'Performance GA', 'Performance GA90', 'Performance SoTA', 'Performance Saves', 'Performance Save%', 'Performance W', 'Performance D', 'Performance L', 'Performance CS', 'Performance CS%', 'Penalty Kicks PKatt', 'Penalty Kicks PKA', 'Penalty Kicks PKsv', 'Penalty Kicks PKm']],\n",
    "          df8[['Goals GA', 'Goals PKA', 'Goals FK', 'Goals CK', 'Goals OG', 'Expected PSxG', 'Expected PSxG/SoT', 'Expected PSxG+/-', 'Expected /90', 'Launched Cmp', 'Launched Att', 'Launched Cmp%', 'Passes Att (GK)', 'Passes Thr', 'Passes Launch%', 'Passes AvgLen', 'Goal Kicks Att', 'Goal Kicks Launch%', 'Goal Kicks AvgLen', 'Crosses Opp', 'Crosses Stp', 'Crosses Stp%', 'Sweeper #OPA', 'Sweeper #OPA/90', 'Sweeper AvgDist']]]\n",
    "goalkeepers = pd.concat(frames, axis=1)"
   ]
  },
  {
   "cell_type": "code",
   "execution_count": 129,
   "metadata": {},
   "outputs": [],
   "source": [
    "players = players.replace(np.nan, 0)\n",
    "goalkeepers = goalkeepers.replace(np.nan, 0)\n",
    "utils.append_X_train(X_train, players, goalkeepers)"
   ]
  },
  {
   "cell_type": "code",
   "execution_count": 130,
   "metadata": {},
   "outputs": [],
   "source": [
    "url = 'https://raw.githubusercontent.com/sambuddharay/FinalYearProject/main/scrapping/data/Ligue-1-Stats/2021-2022/player/Ligue-1-Stats-2021-2022-defense-player.csv'\n",
    "df1 = pd.read_csv(url)\n",
    "url = 'https://raw.githubusercontent.com/sambuddharay/FinalYearProject/main/scrapping/data/Ligue-1-Stats/2021-2022/player/Ligue-1-Stats-2021-2022-gca-player.csv'\n",
    "df2 = pd.read_csv(url)\n",
    "url = 'https://raw.githubusercontent.com/sambuddharay/FinalYearProject/main/scrapping/data/Ligue-1-Stats/2021-2022/player/Ligue-1-Stats-2021-2022-misc-player.csv'\n",
    "df3 = pd.read_csv(url)\n",
    "url = 'https://raw.githubusercontent.com/sambuddharay/FinalYearProject/main/scrapping/data/Ligue-1-Stats/2021-2022/player/Ligue-1-Stats-2021-2022-passing-player.csv'\n",
    "df4 = pd.read_csv(url)\n",
    "url = 'https://raw.githubusercontent.com/sambuddharay/FinalYearProject/main/scrapping/data/Ligue-1-Stats/2021-2022/player/Ligue-1-Stats-2021-2022-possession-player.csv'\n",
    "df5 = pd.read_csv(url)\n",
    "url = 'https://raw.githubusercontent.com/sambuddharay/FinalYearProject/main/scrapping/data/Ligue-1-Stats/2021-2022/player/Ligue-1-Stats-2021-2022-shooting-player.csv'\n",
    "df6 = pd.read_csv(url)"
   ]
  },
  {
   "cell_type": "code",
   "execution_count": 131,
   "metadata": {},
   "outputs": [],
   "source": [
    "frames = [df1[['Player', 'Nation', 'Pos', 'Squad', 'Born', '90s', 'Tackles Tkl', 'Tackles TklW', 'Tackles Def 3rd', 'Tackles Mid 3rd', 'Tackles Att 3rd', 'Challenges Tkl', 'Challenges Att', 'Challenges Lost', 'Blocks Blocks', 'Blocks Sh', 'Blocks Pass', 'Int', 'Tkl+Int', 'Clr', 'Err']],\n",
    "          df2[['SCA SCA', 'SCA SCA90', 'SCA Types PassLive', 'SCA Types PassDead', 'SCA Types TO', 'SCA Types Sh', 'SCA Types Fld', 'SCA Types Def', 'GCA GCA', 'GCA GCA90', 'GCA Types PassLive', 'GCA Types PassDead', 'GCA Types TO', 'GCA Types Sh', 'GCA Types Fld', 'GCA Types Def']],\n",
    "          df3[['Performance CrdY', 'Performance CrdR', 'Performance 2CrdY', 'Performance Fls', 'Performance Fld', 'Performance Off', 'Performance Crs', 'Performance Int', 'Performance TklW', 'Performance PKwon', 'Performance PKcon', 'Performance OG', 'Performance Recov', 'Aerial Duels Won', 'Aerial Duels Lost']],\n",
    "          df4[['Total Cmp', 'Total Att', 'Total Cmp%', 'Total TotDist', 'Total PrgDist', 'Short Cmp', 'Short Att', 'Medium Cmp', 'Medium Att', 'Long Cmp', 'Long Att', 'Ast', 'xAG', 'Expected xA', 'Expected A-xAG', 'KP', '1/3', 'PPA', 'CrsPA', 'PrgP']],\n",
    "          df5[['Touches Touches', 'Touches Def Pen', 'Touches Def 3rd', 'Touches Mid 3rd', 'Touches Att 3rd', 'Touches Att Pen', 'Touches Live', 'Take-Ons Att', 'Take-Ons Succ', 'Take-Ons Tkld', 'Carries Carries', 'Carries TotDist', 'Carries PrgDist', 'Carries PrgC', 'Carries 1/3', 'Carries CPA', 'Carries Mis', 'Carries Dis', 'Receiving Rec', 'Receiving PrgR']],\n",
    "          df6[['Standard Gls', 'Standard Sh', 'Standard SoT','Standard Sh/90', 'Standard SoT/90', 'Standard G/Sh', 'Standard G/SoT', 'Standard Dist', 'Standard FK', 'Standard PK', 'Standard PKatt', 'Expected xG', 'Expected npxG', 'Expected npxG/Sh', 'Expected G-xG', 'Expected np:G-xG']]]\n",
    "players = pd.concat(frames, axis=1)"
   ]
  },
  {
   "cell_type": "code",
   "execution_count": 132,
   "metadata": {},
   "outputs": [],
   "source": [
    "url = 'https://raw.githubusercontent.com/sambuddharay/FinalYearProject/main/scrapping/data/Ligue-1-Stats/2021-2022/player/Ligue-1-Stats-2021-2022-keepers-player.csv'\n",
    "df7 = pd.read_csv(url)\n",
    "url = 'https://raw.githubusercontent.com/sambuddharay/FinalYearProject/main/scrapping/data/Ligue-1-Stats/2021-2022/player/Ligue-1-Stats-2021-2022-keepersadv-player.csv'\n",
    "df8 = pd.read_csv(url)"
   ]
  },
  {
   "cell_type": "code",
   "execution_count": 133,
   "metadata": {},
   "outputs": [],
   "source": [
    "df7=df7[df7['Playing Time 90s']>0]\n",
    "df8=df8[df8['90s']>0]\n",
    "frames = [df7[['Player', 'Performance GA', 'Performance GA90', 'Performance SoTA', 'Performance Saves', 'Performance Save%', 'Performance W', 'Performance D', 'Performance L', 'Performance CS', 'Performance CS%', 'Penalty Kicks PKatt', 'Penalty Kicks PKA', 'Penalty Kicks PKsv', 'Penalty Kicks PKm']],\n",
    "          df8[['Goals GA', 'Goals PKA', 'Goals FK', 'Goals CK', 'Goals OG', 'Expected PSxG', 'Expected PSxG/SoT', 'Expected PSxG+/-', 'Expected /90', 'Launched Cmp', 'Launched Att', 'Launched Cmp%', 'Passes Att (GK)', 'Passes Thr', 'Passes Launch%', 'Passes AvgLen', 'Goal Kicks Att', 'Goal Kicks Launch%', 'Goal Kicks AvgLen', 'Crosses Opp', 'Crosses Stp', 'Crosses Stp%', 'Sweeper #OPA', 'Sweeper #OPA/90', 'Sweeper AvgDist']]]\n",
    "goalkeepers = pd.concat(frames, axis=1)"
   ]
  },
  {
   "cell_type": "code",
   "execution_count": 134,
   "metadata": {},
   "outputs": [],
   "source": [
    "players = players.replace(np.nan, 0)\n",
    "goalkeepers = goalkeepers.replace(np.nan, 0)\n",
    "utils.append_X_train(X_train, players, goalkeepers)"
   ]
  },
  {
   "cell_type": "code",
   "execution_count": 135,
   "metadata": {},
   "outputs": [],
   "source": [
    "url = 'https://raw.githubusercontent.com/sambuddharay/FinalYearProject/main/scrapping/data/Ligue-1-Stats/2022-2023/player/Ligue-1-Stats-2022-2023-defense-player.csv'\n",
    "df1 = pd.read_csv(url)\n",
    "url = 'https://raw.githubusercontent.com/sambuddharay/FinalYearProject/main/scrapping/data/Ligue-1-Stats/2022-2023/player/Ligue-1-Stats-2022-2023-gca-player.csv'\n",
    "df2 = pd.read_csv(url)\n",
    "url = 'https://raw.githubusercontent.com/sambuddharay/FinalYearProject/main/scrapping/data/Ligue-1-Stats/2022-2023/player/Ligue-1-Stats-2022-2023-misc-player.csv'\n",
    "df3 = pd.read_csv(url)\n",
    "url = 'https://raw.githubusercontent.com/sambuddharay/FinalYearProject/main/scrapping/data/Ligue-1-Stats/2022-2023/player/Ligue-1-Stats-2022-2023-passing-player.csv'\n",
    "df4 = pd.read_csv(url)\n",
    "url = 'https://raw.githubusercontent.com/sambuddharay/FinalYearProject/main/scrapping/data/Ligue-1-Stats/2022-2023/player/Ligue-1-Stats-2022-2023-possession-player.csv'\n",
    "df5 = pd.read_csv(url)\n",
    "url = 'https://raw.githubusercontent.com/sambuddharay/FinalYearProject/main/scrapping/data/Ligue-1-Stats/2022-2023/player/Ligue-1-Stats-2022-2023-shooting-player.csv'\n",
    "df6 = pd.read_csv(url)"
   ]
  },
  {
   "cell_type": "code",
   "execution_count": 136,
   "metadata": {},
   "outputs": [],
   "source": [
    "frames = [df1[['Player', 'Nation', 'Pos', 'Squad', 'Born', '90s', 'Tackles Tkl', 'Tackles TklW', 'Tackles Def 3rd', 'Tackles Mid 3rd', 'Tackles Att 3rd', 'Challenges Tkl', 'Challenges Att', 'Challenges Lost', 'Blocks Blocks', 'Blocks Sh', 'Blocks Pass', 'Int', 'Tkl+Int', 'Clr', 'Err']],\n",
    "          df2[['SCA SCA', 'SCA SCA90', 'SCA Types PassLive', 'SCA Types PassDead', 'SCA Types TO', 'SCA Types Sh', 'SCA Types Fld', 'SCA Types Def', 'GCA GCA', 'GCA GCA90', 'GCA Types PassLive', 'GCA Types PassDead', 'GCA Types TO', 'GCA Types Sh', 'GCA Types Fld', 'GCA Types Def']],\n",
    "          df3[['Performance CrdY', 'Performance CrdR', 'Performance 2CrdY', 'Performance Fls', 'Performance Fld', 'Performance Off', 'Performance Crs', 'Performance Int', 'Performance TklW', 'Performance PKwon', 'Performance PKcon', 'Performance OG', 'Performance Recov', 'Aerial Duels Won', 'Aerial Duels Lost']],\n",
    "          df4[['Total Cmp', 'Total Att', 'Total Cmp%', 'Total TotDist', 'Total PrgDist', 'Short Cmp', 'Short Att', 'Medium Cmp', 'Medium Att', 'Long Cmp', 'Long Att', 'Ast', 'xAG', 'Expected xA', 'Expected A-xAG', 'KP', '1/3', 'PPA', 'CrsPA', 'PrgP']],\n",
    "          df5[['Touches Touches', 'Touches Def Pen', 'Touches Def 3rd', 'Touches Mid 3rd', 'Touches Att 3rd', 'Touches Att Pen', 'Touches Live', 'Take-Ons Att', 'Take-Ons Succ', 'Take-Ons Tkld', 'Carries Carries', 'Carries TotDist', 'Carries PrgDist', 'Carries PrgC', 'Carries 1/3', 'Carries CPA', 'Carries Mis', 'Carries Dis', 'Receiving Rec', 'Receiving PrgR']],\n",
    "          df6[['Standard Gls', 'Standard Sh', 'Standard SoT','Standard Sh/90', 'Standard SoT/90', 'Standard G/Sh', 'Standard G/SoT', 'Standard Dist', 'Standard FK', 'Standard PK', 'Standard PKatt', 'Expected xG', 'Expected npxG', 'Expected npxG/Sh', 'Expected G-xG', 'Expected np:G-xG']]]\n",
    "players = pd.concat(frames, axis=1)"
   ]
  },
  {
   "cell_type": "code",
   "execution_count": 137,
   "metadata": {},
   "outputs": [],
   "source": [
    "url = 'https://raw.githubusercontent.com/sambuddharay/FinalYearProject/main/scrapping/data/Ligue-1-Stats/2022-2023/player/Ligue-1-Stats-2022-2023-keepers-player.csv'\n",
    "df7 = pd.read_csv(url)\n",
    "url = 'https://raw.githubusercontent.com/sambuddharay/FinalYearProject/main/scrapping/data/Ligue-1-Stats/2022-2023/player/Ligue-1-Stats-2022-2023-keepersadv-player.csv'\n",
    "df8 = pd.read_csv(url)"
   ]
  },
  {
   "cell_type": "code",
   "execution_count": 138,
   "metadata": {},
   "outputs": [],
   "source": [
    "df7=df7[df7['Playing Time 90s']>0]\n",
    "df8=df8[df8['90s']>0]\n",
    "frames = [df7[['Player', 'Performance GA', 'Performance GA90', 'Performance SoTA', 'Performance Saves', 'Performance Save%', 'Performance W', 'Performance D', 'Performance L', 'Performance CS', 'Performance CS%', 'Penalty Kicks PKatt', 'Penalty Kicks PKA', 'Penalty Kicks PKsv', 'Penalty Kicks PKm']],\n",
    "          df8[['Goals GA', 'Goals PKA', 'Goals FK', 'Goals CK', 'Goals OG', 'Expected PSxG', 'Expected PSxG/SoT', 'Expected PSxG+/-', 'Expected /90', 'Launched Cmp', 'Launched Att', 'Launched Cmp%', 'Passes Att (GK)', 'Passes Thr', 'Passes Launch%', 'Passes AvgLen', 'Goal Kicks Att', 'Goal Kicks Launch%', 'Goal Kicks AvgLen', 'Crosses Opp', 'Crosses Stp', 'Crosses Stp%', 'Sweeper #OPA', 'Sweeper #OPA/90', 'Sweeper AvgDist']]]\n",
    "goalkeepers = pd.concat(frames, axis=1)"
   ]
  },
  {
   "cell_type": "code",
   "execution_count": 139,
   "metadata": {},
   "outputs": [],
   "source": [
    "players = players.replace(np.nan, 0)\n",
    "goalkeepers = goalkeepers.replace(np.nan, 0)\n",
    "utils.append_X_train(X_train, players, goalkeepers)"
   ]
  },
  {
   "cell_type": "code",
   "execution_count": 140,
   "metadata": {},
   "outputs": [
    {
     "data": {
      "text/plain": [
       "(490, 60, 142)"
      ]
     },
     "execution_count": 140,
     "metadata": {},
     "output_type": "execute_result"
    }
   ],
   "source": [
    "X_train = np.array(X_train)\n",
    "X_train.shape"
   ]
  },
  {
   "cell_type": "code",
   "execution_count": 141,
   "metadata": {},
   "outputs": [],
   "source": [
    "for x in X_train:\n",
    "    np.random.shuffle(x)"
   ]
  },
  {
   "cell_type": "code",
   "execution_count": 142,
   "metadata": {},
   "outputs": [
    {
     "data": {
      "text/plain": [
       "(490, 60, 142)"
      ]
     },
     "execution_count": 142,
     "metadata": {},
     "output_type": "execute_result"
    }
   ],
   "source": [
    "X_train = np.array(X_train)\n",
    "X_train.shape"
   ]
  },
  {
   "cell_type": "code",
   "execution_count": 143,
   "metadata": {},
   "outputs": [],
   "source": [
    "# X_train = X_train.reshape(-1, X_train.shape[-1])\n",
    "# X_train.shape"
   ]
  },
  {
   "cell_type": "code",
   "execution_count": 144,
   "metadata": {},
   "outputs": [],
   "source": [
    "url = 'https://raw.githubusercontent.com/sambuddharay/FinalYearProject/main/scrapping/data/Premier-League-Stats/2018-2019/squad/Premier-League-Stats-2018-2019-shooting-squad.csv'\n",
    "df1 = pd.read_csv(url)\n",
    "url = 'https://raw.githubusercontent.com/sambuddharay/FinalYearProject/main/scrapping/data/Premier-League-Stats/2019-2020/squad/Premier-League-Stats-2019-2020-shooting-squad.csv'\n",
    "df2 = pd.read_csv(url)\n",
    "url = 'https://raw.githubusercontent.com/sambuddharay/FinalYearProject/main/scrapping/data/Premier-League-Stats/2020-2021/squad/Premier-League-Stats-2020-2021-shooting-squad.csv'\n",
    "df3 = pd.read_csv(url)\n",
    "url = 'https://raw.githubusercontent.com/sambuddharay/FinalYearProject/main/scrapping/data/Premier-League-Stats/2021-2022/squad/Premier-League-Stats-2021-2022-shooting-squad.csv'\n",
    "df4 = pd.read_csv(url)\n",
    "url = 'https://raw.githubusercontent.com/sambuddharay/FinalYearProject/main/scrapping/data/Premier-League-Stats/2022-2023/squad/Premier-League-Stats-2022-2023-shooting-squad.csv'\n",
    "df5 = pd.read_csv(url)"
   ]
  },
  {
   "cell_type": "code",
   "execution_count": 145,
   "metadata": {},
   "outputs": [
    {
     "data": {
      "text/plain": [
       "(100, 21)"
      ]
     },
     "execution_count": 145,
     "metadata": {},
     "output_type": "execute_result"
    }
   ],
   "source": [
    "frames = [df1, df2, df3, df4, df5]\n",
    "df_premleague = pd.concat(frames)\n",
    "df_premleague.shape"
   ]
  },
  {
   "cell_type": "code",
   "execution_count": 146,
   "metadata": {},
   "outputs": [],
   "source": [
    "url = 'https://raw.githubusercontent.com/sambuddharay/FinalYearProject/main/scrapping/data/Serie-A-Stats/2018-2019/squad/Serie-A-Stats-2018-2019-shooting-squad.csv'\n",
    "df1 = pd.read_csv(url)\n",
    "url = 'https://raw.githubusercontent.com/sambuddharay/FinalYearProject/main/scrapping/data/Serie-A-Stats/2019-2020/squad/Serie-A-Stats-2019-2020-shooting-squad.csv'\n",
    "df2 = pd.read_csv(url)\n",
    "url = 'https://raw.githubusercontent.com/sambuddharay/FinalYearProject/main/scrapping/data/Serie-A-Stats/2020-2021/squad/Serie-A-Stats-2020-2021-shooting-squad.csv'\n",
    "df3 = pd.read_csv(url)\n",
    "url = 'https://raw.githubusercontent.com/sambuddharay/FinalYearProject/main/scrapping/data/Serie-A-Stats/2021-2022/squad/Serie-A-Stats-2021-2022-shooting-squad.csv'\n",
    "df4 = pd.read_csv(url)\n",
    "url = 'https://raw.githubusercontent.com/sambuddharay/FinalYearProject/main/scrapping/data/Serie-A-Stats/2022-2023/squad/Serie-A-Stats-2022-2023-shooting-squad.csv'\n",
    "df5 = pd.read_csv(url)"
   ]
  },
  {
   "cell_type": "code",
   "execution_count": 147,
   "metadata": {},
   "outputs": [
    {
     "data": {
      "text/plain": [
       "(100, 21)"
      ]
     },
     "execution_count": 147,
     "metadata": {},
     "output_type": "execute_result"
    }
   ],
   "source": [
    "frames = [df1, df2, df3, df4, df5]\n",
    "df_serie_a = pd.concat(frames)\n",
    "df_serie_a.shape"
   ]
  },
  {
   "cell_type": "code",
   "execution_count": 148,
   "metadata": {},
   "outputs": [],
   "source": [
    "url = 'https://raw.githubusercontent.com/sambuddharay/FinalYearProject/main/scrapping/data/Bundesliga-Stats/2018-2019/squad/Bundesliga-Stats-2018-2019-shooting-squad.csv'\n",
    "df1 = pd.read_csv(url)\n",
    "url = 'https://raw.githubusercontent.com/sambuddharay/FinalYearProject/main/scrapping/data/Bundesliga-Stats/2019-2020/squad/Bundesliga-Stats-2019-2020-shooting-squad.csv'\n",
    "df2 = pd.read_csv(url)\n",
    "url = 'https://raw.githubusercontent.com/sambuddharay/FinalYearProject/main/scrapping/data/Bundesliga-Stats/2020-2021/squad/Bundesliga-Stats-2020-2021-shooting-squad.csv'\n",
    "df3 = pd.read_csv(url)\n",
    "url = 'https://raw.githubusercontent.com/sambuddharay/FinalYearProject/main/scrapping/data/Bundesliga-Stats/2021-2022/squad/Bundesliga-Stats-2021-2022-shooting-squad.csv'\n",
    "df4 = pd.read_csv(url)\n",
    "url = 'https://raw.githubusercontent.com/sambuddharay/FinalYearProject/main/scrapping/data/Bundesliga-Stats/2022-2023/squad/Bundesliga-Stats-2022-2023-shooting-squad.csv'\n",
    "df5 = pd.read_csv(url)"
   ]
  },
  {
   "cell_type": "code",
   "execution_count": 149,
   "metadata": {},
   "outputs": [
    {
     "data": {
      "text/plain": [
       "(90, 21)"
      ]
     },
     "execution_count": 149,
     "metadata": {},
     "output_type": "execute_result"
    }
   ],
   "source": [
    "frames = [df1, df2, df3, df4, df5]\n",
    "df_bundesliga = pd.concat(frames)\n",
    "df_bundesliga.shape"
   ]
  },
  {
   "cell_type": "code",
   "execution_count": 150,
   "metadata": {},
   "outputs": [],
   "source": [
    "url = 'https://raw.githubusercontent.com/sambuddharay/FinalYearProject/main/scrapping/data/La-Liga-Stats/2018-2019/squad/La-Liga-Stats-2018-2019-shooting-squad.csv'\n",
    "df1 = pd.read_csv(url)\n",
    "url = 'https://raw.githubusercontent.com/sambuddharay/FinalYearProject/main/scrapping/data/La-Liga-Stats/2019-2020/squad/La-Liga-Stats-2019-2020-shooting-squad.csv'\n",
    "df2 = pd.read_csv(url)\n",
    "url = 'https://raw.githubusercontent.com/sambuddharay/FinalYearProject/main/scrapping/data/La-Liga-Stats/2020-2021/squad/La-Liga-Stats-2020-2021-shooting-squad.csv'\n",
    "df3 = pd.read_csv(url)\n",
    "url = 'https://raw.githubusercontent.com/sambuddharay/FinalYearProject/main/scrapping/data/La-Liga-Stats/2021-2022/squad/La-Liga-Stats-2021-2022-shooting-squad.csv'\n",
    "df4 = pd.read_csv(url)\n",
    "url = 'https://raw.githubusercontent.com/sambuddharay/FinalYearProject/main/scrapping/data/La-Liga-Stats/2022-2023/squad/La-Liga-Stats-2022-2023-shooting-squad.csv'\n",
    "df5 = pd.read_csv(url)"
   ]
  },
  {
   "cell_type": "code",
   "execution_count": 151,
   "metadata": {},
   "outputs": [
    {
     "data": {
      "text/plain": [
       "(100, 21)"
      ]
     },
     "execution_count": 151,
     "metadata": {},
     "output_type": "execute_result"
    }
   ],
   "source": [
    "frames = [df1, df2, df3, df4, df5]\n",
    "df_la_liga = pd.concat(frames)\n",
    "df_la_liga.shape"
   ]
  },
  {
   "cell_type": "code",
   "execution_count": 152,
   "metadata": {},
   "outputs": [],
   "source": [
    "url = 'https://raw.githubusercontent.com/sambuddharay/FinalYearProject/main/scrapping/data/Ligue-1-Stats/2018-2019/squad/Ligue-1-Stats-2018-2019-shooting-squad.csv'\n",
    "df1 = pd.read_csv(url)\n",
    "url = 'https://raw.githubusercontent.com/sambuddharay/FinalYearProject/main/scrapping/data/Ligue-1-Stats/2019-2020/squad/Ligue-1-Stats-2019-2020-shooting-squad.csv'\n",
    "df2 = pd.read_csv(url)\n",
    "url = 'https://raw.githubusercontent.com/sambuddharay/FinalYearProject/main/scrapping/data/Ligue-1-Stats/2020-2021/squad/Ligue-1-Stats-2020-2021-shooting-squad.csv'\n",
    "df3 = pd.read_csv(url)\n",
    "url = 'https://raw.githubusercontent.com/sambuddharay/FinalYearProject/main/scrapping/data/Ligue-1-Stats/2021-2022/squad/Ligue-1-Stats-2021-2022-shooting-squad.csv'\n",
    "df4 = pd.read_csv(url)\n",
    "url = 'https://raw.githubusercontent.com/sambuddharay/FinalYearProject/main/scrapping/data/Ligue-1-Stats/2022-2023/squad/Ligue-1-Stats-2022-2023-shooting-squad.csv'\n",
    "df5 = pd.read_csv(url)"
   ]
  },
  {
   "cell_type": "code",
   "execution_count": 153,
   "metadata": {},
   "outputs": [
    {
     "data": {
      "text/plain": [
       "(100, 21)"
      ]
     },
     "execution_count": 153,
     "metadata": {},
     "output_type": "execute_result"
    }
   ],
   "source": [
    "frames = [df1, df2, df3, df4, df5]\n",
    "df_ligue_1 = pd.concat(frames)\n",
    "df_ligue_1.shape"
   ]
  },
  {
   "cell_type": "code",
   "execution_count": 154,
   "metadata": {},
   "outputs": [
    {
     "data": {
      "text/plain": [
       "(490, 21)"
      ]
     },
     "execution_count": 154,
     "metadata": {},
     "output_type": "execute_result"
    }
   ],
   "source": [
    "frames = [df_premleague, df_serie_a, df_bundesliga, df_la_liga, df_ligue_1]\n",
    "df_all_leagues = pd.concat(frames)\n",
    "df_all_leagues.shape"
   ]
  },
  {
   "cell_type": "code",
   "execution_count": 155,
   "metadata": {},
   "outputs": [
    {
     "data": {
      "text/plain": [
       "(490, 1)"
      ]
     },
     "execution_count": 155,
     "metadata": {},
     "output_type": "execute_result"
    }
   ],
   "source": [
    "y_train = df_all_leagues[['Points']]\n",
    "y_train.shape"
   ]
  },
  {
   "cell_type": "code",
   "execution_count": 156,
   "metadata": {},
   "outputs": [
    {
     "data": {
      "text/plain": [
       "490"
      ]
     },
     "execution_count": 156,
     "metadata": {},
     "output_type": "execute_result"
    }
   ],
   "source": [
    "y_train = np.asarray(y_train)\n",
    "len(y_train)"
   ]
  },
  {
   "cell_type": "code",
   "execution_count": 157,
   "metadata": {},
   "outputs": [],
   "source": [
    "import shap\n",
    "from pdpbox import pdp, info_plots"
   ]
  },
  {
   "cell_type": "code",
   "execution_count": 158,
   "metadata": {},
   "outputs": [],
   "source": [
    "from tensorflow.keras import Sequential\n",
    "from tensorflow.keras.layers import Dense, Conv2D, Flatten, Input, Concatenate, Dropout\n",
    "from tensorflow.keras.models import Model\n",
    "from numpy.random import seed\n",
    "from tensorflow.keras.optimizers import RMSprop\n",
    "from scikeras.wrappers import KerasRegressor\n",
    "import keras_tuner as kt\n",
    "import tensorflow\n",
    "from tensorflow.keras import regularizers"
   ]
  },
  {
   "cell_type": "code",
   "execution_count": 159,
   "metadata": {},
   "outputs": [],
   "source": [
    "loss_df = pd.read_csv('https://raw.githubusercontent.com/sambuddharay/FinalYearProject/main/cnn/loss_data.csv')"
   ]
  },
  {
   "cell_type": "code",
   "execution_count": 161,
   "metadata": {},
   "outputs": [
    {
     "data": {
      "text/html": [
       "<div>\n",
       "<style scoped>\n",
       "    .dataframe tbody tr th:only-of-type {\n",
       "        vertical-align: middle;\n",
       "    }\n",
       "\n",
       "    .dataframe tbody tr th {\n",
       "        vertical-align: top;\n",
       "    }\n",
       "\n",
       "    .dataframe thead th {\n",
       "        text-align: right;\n",
       "    }\n",
       "</style>\n",
       "<table border=\"1\" class=\"dataframe\">\n",
       "  <thead>\n",
       "    <tr style=\"text-align: right;\">\n",
       "      <th></th>\n",
       "      <th>Feature Index</th>\n",
       "      <th>Loss</th>\n",
       "    </tr>\n",
       "  </thead>\n",
       "  <tbody>\n",
       "    <tr>\n",
       "      <th>0</th>\n",
       "      <td>0</td>\n",
       "      <td>-1.156235</td>\n",
       "    </tr>\n",
       "    <tr>\n",
       "      <th>1</th>\n",
       "      <td>1</td>\n",
       "      <td>-5.884857</td>\n",
       "    </tr>\n",
       "    <tr>\n",
       "      <th>2</th>\n",
       "      <td>2</td>\n",
       "      <td>-1.742889</td>\n",
       "    </tr>\n",
       "    <tr>\n",
       "      <th>3</th>\n",
       "      <td>3</td>\n",
       "      <td>-46.131348</td>\n",
       "    </tr>\n",
       "    <tr>\n",
       "      <th>4</th>\n",
       "      <td>4</td>\n",
       "      <td>41.852097</td>\n",
       "    </tr>\n",
       "    <tr>\n",
       "      <th>5</th>\n",
       "      <td>5</td>\n",
       "      <td>101.462616</td>\n",
       "    </tr>\n",
       "    <tr>\n",
       "      <th>6</th>\n",
       "      <td>6</td>\n",
       "      <td>66.199020</td>\n",
       "    </tr>\n",
       "    <tr>\n",
       "      <th>7</th>\n",
       "      <td>7</td>\n",
       "      <td>-3.472305</td>\n",
       "    </tr>\n",
       "    <tr>\n",
       "      <th>8</th>\n",
       "      <td>8</td>\n",
       "      <td>-19.008575</td>\n",
       "    </tr>\n",
       "    <tr>\n",
       "      <th>9</th>\n",
       "      <td>9</td>\n",
       "      <td>-82.917648</td>\n",
       "    </tr>\n",
       "    <tr>\n",
       "      <th>10</th>\n",
       "      <td>10</td>\n",
       "      <td>-119.575485</td>\n",
       "    </tr>\n",
       "    <tr>\n",
       "      <th>11</th>\n",
       "      <td>11</td>\n",
       "      <td>40.805710</td>\n",
       "    </tr>\n",
       "    <tr>\n",
       "      <th>12</th>\n",
       "      <td>12</td>\n",
       "      <td>34.855713</td>\n",
       "    </tr>\n",
       "    <tr>\n",
       "      <th>13</th>\n",
       "      <td>13</td>\n",
       "      <td>-19.841568</td>\n",
       "    </tr>\n",
       "    <tr>\n",
       "      <th>14</th>\n",
       "      <td>14</td>\n",
       "      <td>51.622589</td>\n",
       "    </tr>\n",
       "    <tr>\n",
       "      <th>15</th>\n",
       "      <td>15</td>\n",
       "      <td>21.749847</td>\n",
       "    </tr>\n",
       "    <tr>\n",
       "      <th>16</th>\n",
       "      <td>16</td>\n",
       "      <td>18.924362</td>\n",
       "    </tr>\n",
       "    <tr>\n",
       "      <th>17</th>\n",
       "      <td>17</td>\n",
       "      <td>-6.105499</td>\n",
       "    </tr>\n",
       "    <tr>\n",
       "      <th>18</th>\n",
       "      <td>18</td>\n",
       "      <td>-12.217178</td>\n",
       "    </tr>\n",
       "    <tr>\n",
       "      <th>19</th>\n",
       "      <td>19</td>\n",
       "      <td>90.009613</td>\n",
       "    </tr>\n",
       "  </tbody>\n",
       "</table>\n",
       "</div>"
      ],
      "text/plain": [
       "    Feature Index        Loss\n",
       "0               0   -1.156235\n",
       "1               1   -5.884857\n",
       "2               2   -1.742889\n",
       "3               3  -46.131348\n",
       "4               4   41.852097\n",
       "5               5  101.462616\n",
       "6               6   66.199020\n",
       "7               7   -3.472305\n",
       "8               8  -19.008575\n",
       "9               9  -82.917648\n",
       "10             10 -119.575485\n",
       "11             11   40.805710\n",
       "12             12   34.855713\n",
       "13             13  -19.841568\n",
       "14             14   51.622589\n",
       "15             15   21.749847\n",
       "16             16   18.924362\n",
       "17             17   -6.105499\n",
       "18             18  -12.217178\n",
       "19             19   90.009613"
      ]
     },
     "execution_count": 161,
     "metadata": {},
     "output_type": "execute_result"
    }
   ],
   "source": [
    "loss_df.head(20)"
   ]
  },
  {
   "cell_type": "code",
   "execution_count": 162,
   "metadata": {},
   "outputs": [
    {
     "data": {
      "text/plain": [
       "(142, 2)"
      ]
     },
     "execution_count": 162,
     "metadata": {},
     "output_type": "execute_result"
    }
   ],
   "source": [
    "loss_df.shape"
   ]
  },
  {
   "cell_type": "code",
   "execution_count": 163,
   "metadata": {},
   "outputs": [
    {
     "data": {
      "text/plain": [
       "[29,\n",
       " 91,\n",
       " 0,\n",
       " 2,\n",
       " 89,\n",
       " 111,\n",
       " 7,\n",
       " 100,\n",
       " 121,\n",
       " 117,\n",
       " 65,\n",
       " 58,\n",
       " 122,\n",
       " 62,\n",
       " 45,\n",
       " 1,\n",
       " 34,\n",
       " 17,\n",
       " 20,\n",
       " 113,\n",
       " 43,\n",
       " 37,\n",
       " 70,\n",
       " 75,\n",
       " 129,\n",
       " 63,\n",
       " 72,\n",
       " 123,\n",
       " 35,\n",
       " 18,\n",
       " 136,\n",
       " 119,\n",
       " 128,\n",
       " 110,\n",
       " 86,\n",
       " 139]"
      ]
     },
     "execution_count": 163,
     "metadata": {},
     "output_type": "execute_result"
    }
   ],
   "source": [
    "# Sort the DataFrame based on the absolute values of the 'Loss' column\n",
    "df_sorted = loss_df.assign(Abs_Loss=loss_df['Loss'].abs()).sort_values(by='Abs_Loss')\n",
    "\n",
    "# Extract the feature indexes of the 36 features with lowest loss\n",
    "feature_indexes_lowest_loss = df_sorted.head(36)['Feature Index'].tolist()\n",
    "\n",
    "# Print the feature indexes\n",
    "feature_indexes_lowest_loss"
   ]
  },
  {
   "cell_type": "code",
   "execution_count": 164,
   "metadata": {},
   "outputs": [
    {
     "data": {
      "text/plain": [
       "(490, 60, 106)"
      ]
     },
     "execution_count": 164,
     "metadata": {},
     "output_type": "execute_result"
    }
   ],
   "source": [
    "# Convert the list of feature indexes to NumPy array\n",
    "feature_indexes_lowest_loss = np.array(feature_indexes_lowest_loss)\n",
    "\n",
    "# Delete the selected features from X_train\n",
    "X_train_filtered = np.delete(X_train, feature_indexes_lowest_loss, axis=2)\n",
    "\n",
    "# Check the new shape of X_train_filtered\n",
    "X_train_filtered.shape"
   ]
  },
  {
   "cell_type": "code",
   "execution_count": 166,
   "metadata": {},
   "outputs": [
    {
     "name": "stdout",
     "output_type": "stream",
     "text": [
      "Epoch 1/20\n",
      "\u001b[1m8/8\u001b[0m \u001b[32m━━━━━━━━━━━━━━━━━━━━\u001b[0m\u001b[37m\u001b[0m \u001b[1m14s\u001b[0m 343ms/step - loss: 131840.6562 - val_loss: 4952.8818\n",
      "Epoch 2/20\n",
      "\u001b[1m8/8\u001b[0m \u001b[32m━━━━━━━━━━━━━━━━━━━━\u001b[0m\u001b[37m\u001b[0m \u001b[1m0s\u001b[0m 16ms/step - loss: 6262.2407 - val_loss: 5180.7261\n",
      "Epoch 3/20\n",
      "\u001b[1m8/8\u001b[0m \u001b[32m━━━━━━━━━━━━━━━━━━━━\u001b[0m\u001b[37m\u001b[0m \u001b[1m0s\u001b[0m 15ms/step - loss: 3678.5488 - val_loss: 1617.7576\n",
      "Epoch 4/20\n",
      "\u001b[1m8/8\u001b[0m \u001b[32m━━━━━━━━━━━━━━━━━━━━\u001b[0m\u001b[37m\u001b[0m \u001b[1m0s\u001b[0m 21ms/step - loss: 1987.2057 - val_loss: 1109.7643\n",
      "Epoch 5/20\n",
      "\u001b[1m8/8\u001b[0m \u001b[32m━━━━━━━━━━━━━━━━━━━━\u001b[0m\u001b[37m\u001b[0m \u001b[1m0s\u001b[0m 18ms/step - loss: 840.8325 - val_loss: 505.8793\n",
      "Epoch 6/20\n",
      "\u001b[1m8/8\u001b[0m \u001b[32m━━━━━━━━━━━━━━━━━━━━\u001b[0m\u001b[37m\u001b[0m \u001b[1m0s\u001b[0m 20ms/step - loss: 501.3013 - val_loss: 573.3247\n",
      "Epoch 7/20\n",
      "\u001b[1m8/8\u001b[0m \u001b[32m━━━━━━━━━━━━━━━━━━━━\u001b[0m\u001b[37m\u001b[0m \u001b[1m0s\u001b[0m 17ms/step - loss: 353.2659 - val_loss: 491.8780\n",
      "Epoch 8/20\n",
      "\u001b[1m8/8\u001b[0m \u001b[32m━━━━━━━━━━━━━━━━━━━━\u001b[0m\u001b[37m\u001b[0m \u001b[1m0s\u001b[0m 19ms/step - loss: 243.4652 - val_loss: 374.2737\n",
      "Epoch 9/20\n",
      "\u001b[1m8/8\u001b[0m \u001b[32m━━━━━━━━━━━━━━━━━━━━\u001b[0m\u001b[37m\u001b[0m \u001b[1m0s\u001b[0m 19ms/step - loss: 188.2562 - val_loss: 348.4959\n",
      "Epoch 10/20\n",
      "\u001b[1m8/8\u001b[0m \u001b[32m━━━━━━━━━━━━━━━━━━━━\u001b[0m\u001b[37m\u001b[0m \u001b[1m0s\u001b[0m 17ms/step - loss: 166.6481 - val_loss: 320.9966\n",
      "Epoch 11/20\n",
      "\u001b[1m8/8\u001b[0m \u001b[32m━━━━━━━━━━━━━━━━━━━━\u001b[0m\u001b[37m\u001b[0m \u001b[1m0s\u001b[0m 20ms/step - loss: 126.4104 - val_loss: 304.9887\n",
      "Epoch 12/20\n",
      "\u001b[1m8/8\u001b[0m \u001b[32m━━━━━━━━━━━━━━━━━━━━\u001b[0m\u001b[37m\u001b[0m \u001b[1m0s\u001b[0m 19ms/step - loss: 107.4497 - val_loss: 317.6750\n",
      "Epoch 13/20\n",
      "\u001b[1m8/8\u001b[0m \u001b[32m━━━━━━━━━━━━━━━━━━━━\u001b[0m\u001b[37m\u001b[0m \u001b[1m0s\u001b[0m 26ms/step - loss: 103.5420 - val_loss: 292.9619\n",
      "Epoch 14/20\n",
      "\u001b[1m8/8\u001b[0m \u001b[32m━━━━━━━━━━━━━━━━━━━━\u001b[0m\u001b[37m\u001b[0m \u001b[1m0s\u001b[0m 17ms/step - loss: 95.7106 - val_loss: 308.4545\n",
      "Epoch 15/20\n",
      "\u001b[1m8/8\u001b[0m \u001b[32m━━━━━━━━━━━━━━━━━━━━\u001b[0m\u001b[37m\u001b[0m \u001b[1m0s\u001b[0m 16ms/step - loss: 93.8248 - val_loss: 295.3888\n",
      "Epoch 16/20\n",
      "\u001b[1m8/8\u001b[0m \u001b[32m━━━━━━━━━━━━━━━━━━━━\u001b[0m\u001b[37m\u001b[0m \u001b[1m0s\u001b[0m 17ms/step - loss: 91.4836 - val_loss: 312.7505\n",
      "Epoch 17/20\n",
      "\u001b[1m8/8\u001b[0m \u001b[32m━━━━━━━━━━━━━━━━━━━━\u001b[0m\u001b[37m\u001b[0m \u001b[1m0s\u001b[0m 17ms/step - loss: 93.8015 - val_loss: 299.4074\n",
      "Epoch 18/20\n",
      "\u001b[1m8/8\u001b[0m \u001b[32m━━━━━━━━━━━━━━━━━━━━\u001b[0m\u001b[37m\u001b[0m \u001b[1m0s\u001b[0m 17ms/step - loss: 85.8321 - val_loss: 306.7615\n",
      "Epoch 19/20\n",
      "\u001b[1m8/8\u001b[0m \u001b[32m━━━━━━━━━━━━━━━━━━━━\u001b[0m\u001b[37m\u001b[0m \u001b[1m0s\u001b[0m 17ms/step - loss: 63.0068 - val_loss: 305.6376\n",
      "Epoch 20/20\n",
      "\u001b[1m8/8\u001b[0m \u001b[32m━━━━━━━━━━━━━━━━━━━━\u001b[0m\u001b[37m\u001b[0m \u001b[1m0s\u001b[0m 17ms/step - loss: 50.2423 - val_loss: 293.2599\n"
     ]
    },
    {
     "data": {
      "text/plain": [
       "<keras.src.callbacks.history.History at 0x1e863af1190>"
      ]
     },
     "execution_count": 166,
     "metadata": {},
     "output_type": "execute_result"
    }
   ],
   "source": [
    "# previous_model = Sequential([\n",
    "#     Dense(256, activation='relu', input_shape=(106,)),\n",
    "#     Dense(128, activation='relu'),\n",
    "#     Dense(64, activation='relu'),\n",
    "#     Dense(32, activation='relu'),\n",
    "#     Dense(32) # Output layer with 32 units\n",
    "#     ]) # Define input layer for player features\n",
    "\n",
    "previous_model = Sequential([\n",
    "    Dense(256, activation='relu', kernel_regularizer=regularizers.l2(0.01), input_shape=(106,)),\n",
    "    Dense(128, activation='relu', kernel_regularizer=regularizers.l2(0.01)),\n",
    "    Dense(64, activation='relu', kernel_regularizer=regularizers.l2(0.01)),\n",
    "    Dense(32, activation='relu', kernel_regularizer=regularizers.l2(0.01)),\n",
    "    Dense(32, kernel_regularizer=regularizers.l2(0.01))  # Output layer with 32 units\n",
    "])\n",
    "\n",
    "player_input = Input(shape=(60, 106)) # List to store the outputs of each head\n",
    "head_outputs = [] # Create 60 heads, each predicting a 32-dimensional output for one player\n",
    "for i in range(60): # Get features for one player\n",
    "    player_features = player_input[:, i, :] # Connect player features to previous_model\n",
    "    player_output = previous_model(player_features) # Append player output to the list\n",
    "    head_outputs.append(player_output) # Concatenate the outputs of all heads\n",
    "concatenated_outputs = Concatenate()(head_outputs) # Add a fully connected output layer for regression\n",
    "fc_output = Dense(64, activation='relu')(concatenated_outputs)\n",
    "regression_output = Dense(1, activation='linear')(fc_output) # Create the final model\n",
    "final_model = Model(inputs=player_input, outputs=regression_output) # Compile the final model\n",
    "final_model.compile(optimizer='adam', loss='mse') # Mean Squared Error loss for regression task\n",
    "final_model.fit(X_train_filtered, y_train, epochs=20, batch_size=32, validation_split=0.5)"
   ]
  },
  {
   "cell_type": "code",
   "execution_count": 167,
   "metadata": {},
   "outputs": [],
   "source": [
    "# input_shape=(142,)\n",
    "\n",
    "# model = Sequential([\n",
    "#     Dense(256, activation='relu', input_shape=input_shape),\n",
    "#     Dense(128, activation='relu'),\n",
    "#     Dense(64, activation='relu'),\n",
    "#     Dense(32, activation='relu'),\n",
    "#     Dense(32)\n",
    "# ])\n",
    "\n",
    "# model.compile(optimizer='adam', loss='mse')\n",
    "# model.summary()"
   ]
  },
  {
   "cell_type": "code",
   "execution_count": 168,
   "metadata": {},
   "outputs": [],
   "source": [
    "# previous_model = Sequential([\n",
    "#     Dense(256, activation='relu', input_shape=(142,)),\n",
    "#     Dense(128, activation='relu'),\n",
    "#     Dense(64, activation='relu'),\n",
    "#     Dense(32, activation='relu'),\n",
    "#     Dense(32) # Output layer with 32 units\n",
    "#     ]) # Define input layer for player features\n",
    "# player_input = Input(shape=(20,142)) # List to store the outputs of each head\n",
    "# head_outputs = [] # Create 20 heads, each predicting a 32-dimensional output for one player\n",
    "# for i in range(20): # Get features for one player\n",
    "#     player_features = player_input[:, i, :] # Connect player features to previous_model\n",
    "#     player_output = previous_model(player_features) # Append player output to the list\n",
    "#     head_outputs.append(player_output)\n",
    "# # Concatenate the outputs of all heads along the last axis (axis=-1)\n",
    "# concatenated_outputs = Concatenate()(head_outputs)\n",
    "# # Define the final output layer to produce a 128- dimensional vector\n",
    "# output_layer = Dense(128, activation='relu')(concatenated_outputs)\n",
    "# # Create the final model\n",
    "# final_model = Model(inputs=player_input, outputs=output_layer) # Compile the final model\n",
    "# final_model.compile(optimizer='adam', loss='mse') # Mean Squared Error loss for regression task # Print model summary\n",
    "# final_model.summary()"
   ]
  },
  {
   "cell_type": "code",
   "execution_count": 169,
   "metadata": {},
   "outputs": [],
   "source": [
    "# # Define player embedded model\n",
    "# previous_model = Sequential([\n",
    "#     Dense(512, activation='relu', input_shape=(142,)),\n",
    "#     Dense(256, activation='relu'),\n",
    "#     Dense(128, activation='relu'),\n",
    "#     Dense(64, activation='relu'),\n",
    "#     Dense(32)  # Output layer with 32 units\n",
    "# ])\n",
    "\n",
    "# # Define input layer for player features\n",
    "# player_input = Input(shape=(45, 142))\n",
    "\n",
    "# # List to store the outputs of each head\n",
    "# head_outputs = []\n",
    "\n",
    "# # Create 45 heads, each predicting a 32-dimensional output for one player\n",
    "# for i in range(45):\n",
    "#     # Get features for one player\n",
    "#     player_features = player_input[:, i, :]\n",
    "#     # Connect player features to previous_model\n",
    "#     player_output = previous_model(player_features)\n",
    "#     # Append player output to the list\n",
    "#     head_outputs.append(player_output)\n",
    "\n",
    "# # Concatenate the outputs of all heads along the last axis (axis=-1)\n",
    "# concatenated_outputs = Concatenate()(head_outputs)\n",
    "\n",
    "# # Add more hidden layers and neurons for regression model\n",
    "# regression_model = Dense(256, activation='relu')(concatenated_outputs)\n",
    "# regression_model = Dense(128, activation='relu')(regression_model)\n",
    "# regression_model = Dense(64, activation='relu')(regression_model)\n",
    "\n",
    "# # Create the final regression output layer\n",
    "# regression_output = Dense(1, activation='linear')(regression_model)\n",
    "\n",
    "# # Create the final model\n",
    "# final_model = Model(inputs=player_input, outputs=regression_output)\n",
    "\n",
    "# # Compile the final model\n",
    "# final_model.compile(optimizer='adam', loss='mse')\n",
    "\n",
    "# # Print model summary\n",
    "# final_model.summary()\n",
    "\n",
    "# # Assuming X_train and y_train contain the training data\n",
    "# # X_train should have shape (num_samples, 45, 142)\n",
    "# # y_train should have shape (num_samples,)\n",
    "\n",
    "# # Increase number of training epochs\n",
    "# final_model.fit(X_train, y_train, epochs=20, batch_size=32, validation_split=0.2)"
   ]
  },
  {
   "cell_type": "code",
   "execution_count": 170,
   "metadata": {},
   "outputs": [],
   "source": [
    "# # Define player embedded model with dropout\n",
    "# previous_model = Sequential([\n",
    "#     Dense(512, activation='relu', input_shape=(142,)),\n",
    "#     # Dropout(0.2),  # Add dropout layer\n",
    "#     Dense(256, activation='relu'),\n",
    "#     Dropout(0.2),  # Add dropout layer\n",
    "#     Dense(128, activation='relu'),\n",
    "#     Dropout(0.2),  # Add dropout layer\n",
    "#     Dense(128)  # Change output dimension to 128\n",
    "# ])\n",
    "\n",
    "# # Define input layer for player features\n",
    "# player_input = Input(shape=(45, 142))\n",
    "\n",
    "# # List to store the outputs of each head\n",
    "# head_outputs = []\n",
    "\n",
    "# # Create 45 heads, each predicting a 128-dimensional output for one player\n",
    "# for i in range(45):\n",
    "#     # Get features for one player\n",
    "#     player_features = player_input[:, i, :]\n",
    "#     # Connect player features to previous_model\n",
    "#     player_output = previous_model(player_features)\n",
    "#     # Append player output to the list\n",
    "#     head_outputs.append(player_output)\n",
    "\n",
    "# # Concatenate the outputs of all heads along the last axis (axis=-1)\n",
    "# concatenated_outputs = Concatenate()(head_outputs)\n",
    "\n",
    "# # # Add dropout layer for regularization\n",
    "# # regression_model = Dropout(0.2)(concatenated_outputs)\n",
    "\n",
    "# # Add more hidden layers and neurons for regression model\n",
    "# regression_model = Dense(256, activation='relu')(concatenated_outputs)\n",
    "# regression_model = Dropout(0.2)(regression_model)  # Add dropout layer\n",
    "# regression_model = Dense(128, activation='relu')(regression_model)\n",
    "# regression_model = Dropout(0.2)(regression_model)  # Add dropout layer\n",
    "# regression_model = Dense(64, activation='relu')(regression_model)\n",
    "\n",
    "# # Create the final regression output layer\n",
    "# regression_output = Dense(1, activation='linear')(regression_model)\n",
    "\n",
    "# # Create the final model\n",
    "# final_model = Model(inputs=player_input, outputs=regression_output)\n",
    "\n",
    "# # Compile the final model\n",
    "# final_model.compile(optimizer='adam', loss='mse')\n",
    "\n",
    "# # Print model summary\n",
    "# final_model.summary()\n",
    "\n",
    "# # Assuming X_train and y_train contain the training data\n",
    "# # X_train should have shape (num_samples, 45, 142)\n",
    "# # y_train should have shape (num_samples,)\n",
    "\n",
    "# # Increase number of training epochs\n",
    "# final_model.fit(X_train, y_train, epochs=20, batch_size=32, validation_split=0.2)"
   ]
  },
  {
   "cell_type": "code",
   "execution_count": 171,
   "metadata": {},
   "outputs": [
    {
     "data": {
      "text/html": [
       "<pre style=\"white-space:pre;overflow-x:auto;line-height:normal;font-family:Menlo,'DejaVu Sans Mono',consolas,'Courier New',monospace\"><span style=\"font-weight: bold\">Model: \"functional_5\"</span>\n",
       "</pre>\n"
      ],
      "text/plain": [
       "\u001b[1mModel: \"functional_5\"\u001b[0m\n"
      ]
     },
     "metadata": {},
     "output_type": "display_data"
    },
    {
     "data": {
      "text/html": [
       "<pre style=\"white-space:pre;overflow-x:auto;line-height:normal;font-family:Menlo,'DejaVu Sans Mono',consolas,'Courier New',monospace\">┏━━━━━━━━━━━━━━━━━━━━━┳━━━━━━━━━━━━━━━━━━━┳━━━━━━━━━━━━┳━━━━━━━━━━━━━━━━━━━┓\n",
       "┃<span style=\"font-weight: bold\"> Layer (type)        </span>┃<span style=\"font-weight: bold\"> Output Shape      </span>┃<span style=\"font-weight: bold\">    Param # </span>┃<span style=\"font-weight: bold\"> Connected to      </span>┃\n",
       "┡━━━━━━━━━━━━━━━━━━━━━╇━━━━━━━━━━━━━━━━━━━╇━━━━━━━━━━━━╇━━━━━━━━━━━━━━━━━━━┩\n",
       "│ input_layer_3       │ (<span style=\"color: #00d7ff; text-decoration-color: #00d7ff\">None</span>, <span style=\"color: #00af00; text-decoration-color: #00af00\">60</span>, <span style=\"color: #00af00; text-decoration-color: #00af00\">106</span>)   │          <span style=\"color: #00af00; text-decoration-color: #00af00\">0</span> │ -                 │\n",
       "│ (<span style=\"color: #0087ff; text-decoration-color: #0087ff\">InputLayer</span>)        │                   │            │                   │\n",
       "├─────────────────────┼───────────────────┼────────────┼───────────────────┤\n",
       "│ get_item_60         │ (<span style=\"color: #00d7ff; text-decoration-color: #00d7ff\">None</span>, <span style=\"color: #00af00; text-decoration-color: #00af00\">106</span>)       │          <span style=\"color: #00af00; text-decoration-color: #00af00\">0</span> │ input_layer_3[<span style=\"color: #00af00; text-decoration-color: #00af00\">0</span>]… │\n",
       "│ (<span style=\"color: #0087ff; text-decoration-color: #0087ff\">GetItem</span>)           │                   │            │                   │\n",
       "├─────────────────────┼───────────────────┼────────────┼───────────────────┤\n",
       "│ get_item_61         │ (<span style=\"color: #00d7ff; text-decoration-color: #00d7ff\">None</span>, <span style=\"color: #00af00; text-decoration-color: #00af00\">106</span>)       │          <span style=\"color: #00af00; text-decoration-color: #00af00\">0</span> │ input_layer_3[<span style=\"color: #00af00; text-decoration-color: #00af00\">0</span>]… │\n",
       "│ (<span style=\"color: #0087ff; text-decoration-color: #0087ff\">GetItem</span>)           │                   │            │                   │\n",
       "├─────────────────────┼───────────────────┼────────────┼───────────────────┤\n",
       "│ get_item_62         │ (<span style=\"color: #00d7ff; text-decoration-color: #00d7ff\">None</span>, <span style=\"color: #00af00; text-decoration-color: #00af00\">106</span>)       │          <span style=\"color: #00af00; text-decoration-color: #00af00\">0</span> │ input_layer_3[<span style=\"color: #00af00; text-decoration-color: #00af00\">0</span>]… │\n",
       "│ (<span style=\"color: #0087ff; text-decoration-color: #0087ff\">GetItem</span>)           │                   │            │                   │\n",
       "├─────────────────────┼───────────────────┼────────────┼───────────────────┤\n",
       "│ get_item_63         │ (<span style=\"color: #00d7ff; text-decoration-color: #00d7ff\">None</span>, <span style=\"color: #00af00; text-decoration-color: #00af00\">106</span>)       │          <span style=\"color: #00af00; text-decoration-color: #00af00\">0</span> │ input_layer_3[<span style=\"color: #00af00; text-decoration-color: #00af00\">0</span>]… │\n",
       "│ (<span style=\"color: #0087ff; text-decoration-color: #0087ff\">GetItem</span>)           │                   │            │                   │\n",
       "├─────────────────────┼───────────────────┼────────────┼───────────────────┤\n",
       "│ get_item_64         │ (<span style=\"color: #00d7ff; text-decoration-color: #00d7ff\">None</span>, <span style=\"color: #00af00; text-decoration-color: #00af00\">106</span>)       │          <span style=\"color: #00af00; text-decoration-color: #00af00\">0</span> │ input_layer_3[<span style=\"color: #00af00; text-decoration-color: #00af00\">0</span>]… │\n",
       "│ (<span style=\"color: #0087ff; text-decoration-color: #0087ff\">GetItem</span>)           │                   │            │                   │\n",
       "├─────────────────────┼───────────────────┼────────────┼───────────────────┤\n",
       "│ get_item_65         │ (<span style=\"color: #00d7ff; text-decoration-color: #00d7ff\">None</span>, <span style=\"color: #00af00; text-decoration-color: #00af00\">106</span>)       │          <span style=\"color: #00af00; text-decoration-color: #00af00\">0</span> │ input_layer_3[<span style=\"color: #00af00; text-decoration-color: #00af00\">0</span>]… │\n",
       "│ (<span style=\"color: #0087ff; text-decoration-color: #0087ff\">GetItem</span>)           │                   │            │                   │\n",
       "├─────────────────────┼───────────────────┼────────────┼───────────────────┤\n",
       "│ get_item_66         │ (<span style=\"color: #00d7ff; text-decoration-color: #00d7ff\">None</span>, <span style=\"color: #00af00; text-decoration-color: #00af00\">106</span>)       │          <span style=\"color: #00af00; text-decoration-color: #00af00\">0</span> │ input_layer_3[<span style=\"color: #00af00; text-decoration-color: #00af00\">0</span>]… │\n",
       "│ (<span style=\"color: #0087ff; text-decoration-color: #0087ff\">GetItem</span>)           │                   │            │                   │\n",
       "├─────────────────────┼───────────────────┼────────────┼───────────────────┤\n",
       "│ get_item_67         │ (<span style=\"color: #00d7ff; text-decoration-color: #00d7ff\">None</span>, <span style=\"color: #00af00; text-decoration-color: #00af00\">106</span>)       │          <span style=\"color: #00af00; text-decoration-color: #00af00\">0</span> │ input_layer_3[<span style=\"color: #00af00; text-decoration-color: #00af00\">0</span>]… │\n",
       "│ (<span style=\"color: #0087ff; text-decoration-color: #0087ff\">GetItem</span>)           │                   │            │                   │\n",
       "├─────────────────────┼───────────────────┼────────────┼───────────────────┤\n",
       "│ get_item_68         │ (<span style=\"color: #00d7ff; text-decoration-color: #00d7ff\">None</span>, <span style=\"color: #00af00; text-decoration-color: #00af00\">106</span>)       │          <span style=\"color: #00af00; text-decoration-color: #00af00\">0</span> │ input_layer_3[<span style=\"color: #00af00; text-decoration-color: #00af00\">0</span>]… │\n",
       "│ (<span style=\"color: #0087ff; text-decoration-color: #0087ff\">GetItem</span>)           │                   │            │                   │\n",
       "├─────────────────────┼───────────────────┼────────────┼───────────────────┤\n",
       "│ get_item_69         │ (<span style=\"color: #00d7ff; text-decoration-color: #00d7ff\">None</span>, <span style=\"color: #00af00; text-decoration-color: #00af00\">106</span>)       │          <span style=\"color: #00af00; text-decoration-color: #00af00\">0</span> │ input_layer_3[<span style=\"color: #00af00; text-decoration-color: #00af00\">0</span>]… │\n",
       "│ (<span style=\"color: #0087ff; text-decoration-color: #0087ff\">GetItem</span>)           │                   │            │                   │\n",
       "├─────────────────────┼───────────────────┼────────────┼───────────────────┤\n",
       "│ get_item_70         │ (<span style=\"color: #00d7ff; text-decoration-color: #00d7ff\">None</span>, <span style=\"color: #00af00; text-decoration-color: #00af00\">106</span>)       │          <span style=\"color: #00af00; text-decoration-color: #00af00\">0</span> │ input_layer_3[<span style=\"color: #00af00; text-decoration-color: #00af00\">0</span>]… │\n",
       "│ (<span style=\"color: #0087ff; text-decoration-color: #0087ff\">GetItem</span>)           │                   │            │                   │\n",
       "├─────────────────────┼───────────────────┼────────────┼───────────────────┤\n",
       "│ get_item_71         │ (<span style=\"color: #00d7ff; text-decoration-color: #00d7ff\">None</span>, <span style=\"color: #00af00; text-decoration-color: #00af00\">106</span>)       │          <span style=\"color: #00af00; text-decoration-color: #00af00\">0</span> │ input_layer_3[<span style=\"color: #00af00; text-decoration-color: #00af00\">0</span>]… │\n",
       "│ (<span style=\"color: #0087ff; text-decoration-color: #0087ff\">GetItem</span>)           │                   │            │                   │\n",
       "├─────────────────────┼───────────────────┼────────────┼───────────────────┤\n",
       "│ get_item_72         │ (<span style=\"color: #00d7ff; text-decoration-color: #00d7ff\">None</span>, <span style=\"color: #00af00; text-decoration-color: #00af00\">106</span>)       │          <span style=\"color: #00af00; text-decoration-color: #00af00\">0</span> │ input_layer_3[<span style=\"color: #00af00; text-decoration-color: #00af00\">0</span>]… │\n",
       "│ (<span style=\"color: #0087ff; text-decoration-color: #0087ff\">GetItem</span>)           │                   │            │                   │\n",
       "├─────────────────────┼───────────────────┼────────────┼───────────────────┤\n",
       "│ get_item_73         │ (<span style=\"color: #00d7ff; text-decoration-color: #00d7ff\">None</span>, <span style=\"color: #00af00; text-decoration-color: #00af00\">106</span>)       │          <span style=\"color: #00af00; text-decoration-color: #00af00\">0</span> │ input_layer_3[<span style=\"color: #00af00; text-decoration-color: #00af00\">0</span>]… │\n",
       "│ (<span style=\"color: #0087ff; text-decoration-color: #0087ff\">GetItem</span>)           │                   │            │                   │\n",
       "├─────────────────────┼───────────────────┼────────────┼───────────────────┤\n",
       "│ get_item_74         │ (<span style=\"color: #00d7ff; text-decoration-color: #00d7ff\">None</span>, <span style=\"color: #00af00; text-decoration-color: #00af00\">106</span>)       │          <span style=\"color: #00af00; text-decoration-color: #00af00\">0</span> │ input_layer_3[<span style=\"color: #00af00; text-decoration-color: #00af00\">0</span>]… │\n",
       "│ (<span style=\"color: #0087ff; text-decoration-color: #0087ff\">GetItem</span>)           │                   │            │                   │\n",
       "├─────────────────────┼───────────────────┼────────────┼───────────────────┤\n",
       "│ get_item_75         │ (<span style=\"color: #00d7ff; text-decoration-color: #00d7ff\">None</span>, <span style=\"color: #00af00; text-decoration-color: #00af00\">106</span>)       │          <span style=\"color: #00af00; text-decoration-color: #00af00\">0</span> │ input_layer_3[<span style=\"color: #00af00; text-decoration-color: #00af00\">0</span>]… │\n",
       "│ (<span style=\"color: #0087ff; text-decoration-color: #0087ff\">GetItem</span>)           │                   │            │                   │\n",
       "├─────────────────────┼───────────────────┼────────────┼───────────────────┤\n",
       "│ get_item_76         │ (<span style=\"color: #00d7ff; text-decoration-color: #00d7ff\">None</span>, <span style=\"color: #00af00; text-decoration-color: #00af00\">106</span>)       │          <span style=\"color: #00af00; text-decoration-color: #00af00\">0</span> │ input_layer_3[<span style=\"color: #00af00; text-decoration-color: #00af00\">0</span>]… │\n",
       "│ (<span style=\"color: #0087ff; text-decoration-color: #0087ff\">GetItem</span>)           │                   │            │                   │\n",
       "├─────────────────────┼───────────────────┼────────────┼───────────────────┤\n",
       "│ get_item_77         │ (<span style=\"color: #00d7ff; text-decoration-color: #00d7ff\">None</span>, <span style=\"color: #00af00; text-decoration-color: #00af00\">106</span>)       │          <span style=\"color: #00af00; text-decoration-color: #00af00\">0</span> │ input_layer_3[<span style=\"color: #00af00; text-decoration-color: #00af00\">0</span>]… │\n",
       "│ (<span style=\"color: #0087ff; text-decoration-color: #0087ff\">GetItem</span>)           │                   │            │                   │\n",
       "├─────────────────────┼───────────────────┼────────────┼───────────────────┤\n",
       "│ get_item_78         │ (<span style=\"color: #00d7ff; text-decoration-color: #00d7ff\">None</span>, <span style=\"color: #00af00; text-decoration-color: #00af00\">106</span>)       │          <span style=\"color: #00af00; text-decoration-color: #00af00\">0</span> │ input_layer_3[<span style=\"color: #00af00; text-decoration-color: #00af00\">0</span>]… │\n",
       "│ (<span style=\"color: #0087ff; text-decoration-color: #0087ff\">GetItem</span>)           │                   │            │                   │\n",
       "├─────────────────────┼───────────────────┼────────────┼───────────────────┤\n",
       "│ get_item_79         │ (<span style=\"color: #00d7ff; text-decoration-color: #00d7ff\">None</span>, <span style=\"color: #00af00; text-decoration-color: #00af00\">106</span>)       │          <span style=\"color: #00af00; text-decoration-color: #00af00\">0</span> │ input_layer_3[<span style=\"color: #00af00; text-decoration-color: #00af00\">0</span>]… │\n",
       "│ (<span style=\"color: #0087ff; text-decoration-color: #0087ff\">GetItem</span>)           │                   │            │                   │\n",
       "├─────────────────────┼───────────────────┼────────────┼───────────────────┤\n",
       "│ get_item_80         │ (<span style=\"color: #00d7ff; text-decoration-color: #00d7ff\">None</span>, <span style=\"color: #00af00; text-decoration-color: #00af00\">106</span>)       │          <span style=\"color: #00af00; text-decoration-color: #00af00\">0</span> │ input_layer_3[<span style=\"color: #00af00; text-decoration-color: #00af00\">0</span>]… │\n",
       "│ (<span style=\"color: #0087ff; text-decoration-color: #0087ff\">GetItem</span>)           │                   │            │                   │\n",
       "├─────────────────────┼───────────────────┼────────────┼───────────────────┤\n",
       "│ get_item_81         │ (<span style=\"color: #00d7ff; text-decoration-color: #00d7ff\">None</span>, <span style=\"color: #00af00; text-decoration-color: #00af00\">106</span>)       │          <span style=\"color: #00af00; text-decoration-color: #00af00\">0</span> │ input_layer_3[<span style=\"color: #00af00; text-decoration-color: #00af00\">0</span>]… │\n",
       "│ (<span style=\"color: #0087ff; text-decoration-color: #0087ff\">GetItem</span>)           │                   │            │                   │\n",
       "├─────────────────────┼───────────────────┼────────────┼───────────────────┤\n",
       "│ get_item_82         │ (<span style=\"color: #00d7ff; text-decoration-color: #00d7ff\">None</span>, <span style=\"color: #00af00; text-decoration-color: #00af00\">106</span>)       │          <span style=\"color: #00af00; text-decoration-color: #00af00\">0</span> │ input_layer_3[<span style=\"color: #00af00; text-decoration-color: #00af00\">0</span>]… │\n",
       "│ (<span style=\"color: #0087ff; text-decoration-color: #0087ff\">GetItem</span>)           │                   │            │                   │\n",
       "├─────────────────────┼───────────────────┼────────────┼───────────────────┤\n",
       "│ get_item_83         │ (<span style=\"color: #00d7ff; text-decoration-color: #00d7ff\">None</span>, <span style=\"color: #00af00; text-decoration-color: #00af00\">106</span>)       │          <span style=\"color: #00af00; text-decoration-color: #00af00\">0</span> │ input_layer_3[<span style=\"color: #00af00; text-decoration-color: #00af00\">0</span>]… │\n",
       "│ (<span style=\"color: #0087ff; text-decoration-color: #0087ff\">GetItem</span>)           │                   │            │                   │\n",
       "├─────────────────────┼───────────────────┼────────────┼───────────────────┤\n",
       "│ get_item_84         │ (<span style=\"color: #00d7ff; text-decoration-color: #00d7ff\">None</span>, <span style=\"color: #00af00; text-decoration-color: #00af00\">106</span>)       │          <span style=\"color: #00af00; text-decoration-color: #00af00\">0</span> │ input_layer_3[<span style=\"color: #00af00; text-decoration-color: #00af00\">0</span>]… │\n",
       "│ (<span style=\"color: #0087ff; text-decoration-color: #0087ff\">GetItem</span>)           │                   │            │                   │\n",
       "├─────────────────────┼───────────────────┼────────────┼───────────────────┤\n",
       "│ get_item_85         │ (<span style=\"color: #00d7ff; text-decoration-color: #00d7ff\">None</span>, <span style=\"color: #00af00; text-decoration-color: #00af00\">106</span>)       │          <span style=\"color: #00af00; text-decoration-color: #00af00\">0</span> │ input_layer_3[<span style=\"color: #00af00; text-decoration-color: #00af00\">0</span>]… │\n",
       "│ (<span style=\"color: #0087ff; text-decoration-color: #0087ff\">GetItem</span>)           │                   │            │                   │\n",
       "├─────────────────────┼───────────────────┼────────────┼───────────────────┤\n",
       "│ get_item_86         │ (<span style=\"color: #00d7ff; text-decoration-color: #00d7ff\">None</span>, <span style=\"color: #00af00; text-decoration-color: #00af00\">106</span>)       │          <span style=\"color: #00af00; text-decoration-color: #00af00\">0</span> │ input_layer_3[<span style=\"color: #00af00; text-decoration-color: #00af00\">0</span>]… │\n",
       "│ (<span style=\"color: #0087ff; text-decoration-color: #0087ff\">GetItem</span>)           │                   │            │                   │\n",
       "├─────────────────────┼───────────────────┼────────────┼───────────────────┤\n",
       "│ get_item_87         │ (<span style=\"color: #00d7ff; text-decoration-color: #00d7ff\">None</span>, <span style=\"color: #00af00; text-decoration-color: #00af00\">106</span>)       │          <span style=\"color: #00af00; text-decoration-color: #00af00\">0</span> │ input_layer_3[<span style=\"color: #00af00; text-decoration-color: #00af00\">0</span>]… │\n",
       "│ (<span style=\"color: #0087ff; text-decoration-color: #0087ff\">GetItem</span>)           │                   │            │                   │\n",
       "├─────────────────────┼───────────────────┼────────────┼───────────────────┤\n",
       "│ get_item_88         │ (<span style=\"color: #00d7ff; text-decoration-color: #00d7ff\">None</span>, <span style=\"color: #00af00; text-decoration-color: #00af00\">106</span>)       │          <span style=\"color: #00af00; text-decoration-color: #00af00\">0</span> │ input_layer_3[<span style=\"color: #00af00; text-decoration-color: #00af00\">0</span>]… │\n",
       "│ (<span style=\"color: #0087ff; text-decoration-color: #0087ff\">GetItem</span>)           │                   │            │                   │\n",
       "├─────────────────────┼───────────────────┼────────────┼───────────────────┤\n",
       "│ get_item_89         │ (<span style=\"color: #00d7ff; text-decoration-color: #00d7ff\">None</span>, <span style=\"color: #00af00; text-decoration-color: #00af00\">106</span>)       │          <span style=\"color: #00af00; text-decoration-color: #00af00\">0</span> │ input_layer_3[<span style=\"color: #00af00; text-decoration-color: #00af00\">0</span>]… │\n",
       "│ (<span style=\"color: #0087ff; text-decoration-color: #0087ff\">GetItem</span>)           │                   │            │                   │\n",
       "├─────────────────────┼───────────────────┼────────────┼───────────────────┤\n",
       "│ get_item_90         │ (<span style=\"color: #00d7ff; text-decoration-color: #00d7ff\">None</span>, <span style=\"color: #00af00; text-decoration-color: #00af00\">106</span>)       │          <span style=\"color: #00af00; text-decoration-color: #00af00\">0</span> │ input_layer_3[<span style=\"color: #00af00; text-decoration-color: #00af00\">0</span>]… │\n",
       "│ (<span style=\"color: #0087ff; text-decoration-color: #0087ff\">GetItem</span>)           │                   │            │                   │\n",
       "├─────────────────────┼───────────────────┼────────────┼───────────────────┤\n",
       "│ get_item_91         │ (<span style=\"color: #00d7ff; text-decoration-color: #00d7ff\">None</span>, <span style=\"color: #00af00; text-decoration-color: #00af00\">106</span>)       │          <span style=\"color: #00af00; text-decoration-color: #00af00\">0</span> │ input_layer_3[<span style=\"color: #00af00; text-decoration-color: #00af00\">0</span>]… │\n",
       "│ (<span style=\"color: #0087ff; text-decoration-color: #0087ff\">GetItem</span>)           │                   │            │                   │\n",
       "├─────────────────────┼───────────────────┼────────────┼───────────────────┤\n",
       "│ get_item_92         │ (<span style=\"color: #00d7ff; text-decoration-color: #00d7ff\">None</span>, <span style=\"color: #00af00; text-decoration-color: #00af00\">106</span>)       │          <span style=\"color: #00af00; text-decoration-color: #00af00\">0</span> │ input_layer_3[<span style=\"color: #00af00; text-decoration-color: #00af00\">0</span>]… │\n",
       "│ (<span style=\"color: #0087ff; text-decoration-color: #0087ff\">GetItem</span>)           │                   │            │                   │\n",
       "├─────────────────────┼───────────────────┼────────────┼───────────────────┤\n",
       "│ get_item_93         │ (<span style=\"color: #00d7ff; text-decoration-color: #00d7ff\">None</span>, <span style=\"color: #00af00; text-decoration-color: #00af00\">106</span>)       │          <span style=\"color: #00af00; text-decoration-color: #00af00\">0</span> │ input_layer_3[<span style=\"color: #00af00; text-decoration-color: #00af00\">0</span>]… │\n",
       "│ (<span style=\"color: #0087ff; text-decoration-color: #0087ff\">GetItem</span>)           │                   │            │                   │\n",
       "├─────────────────────┼───────────────────┼────────────┼───────────────────┤\n",
       "│ get_item_94         │ (<span style=\"color: #00d7ff; text-decoration-color: #00d7ff\">None</span>, <span style=\"color: #00af00; text-decoration-color: #00af00\">106</span>)       │          <span style=\"color: #00af00; text-decoration-color: #00af00\">0</span> │ input_layer_3[<span style=\"color: #00af00; text-decoration-color: #00af00\">0</span>]… │\n",
       "│ (<span style=\"color: #0087ff; text-decoration-color: #0087ff\">GetItem</span>)           │                   │            │                   │\n",
       "├─────────────────────┼───────────────────┼────────────┼───────────────────┤\n",
       "│ get_item_95         │ (<span style=\"color: #00d7ff; text-decoration-color: #00d7ff\">None</span>, <span style=\"color: #00af00; text-decoration-color: #00af00\">106</span>)       │          <span style=\"color: #00af00; text-decoration-color: #00af00\">0</span> │ input_layer_3[<span style=\"color: #00af00; text-decoration-color: #00af00\">0</span>]… │\n",
       "│ (<span style=\"color: #0087ff; text-decoration-color: #0087ff\">GetItem</span>)           │                   │            │                   │\n",
       "├─────────────────────┼───────────────────┼────────────┼───────────────────┤\n",
       "│ get_item_96         │ (<span style=\"color: #00d7ff; text-decoration-color: #00d7ff\">None</span>, <span style=\"color: #00af00; text-decoration-color: #00af00\">106</span>)       │          <span style=\"color: #00af00; text-decoration-color: #00af00\">0</span> │ input_layer_3[<span style=\"color: #00af00; text-decoration-color: #00af00\">0</span>]… │\n",
       "│ (<span style=\"color: #0087ff; text-decoration-color: #0087ff\">GetItem</span>)           │                   │            │                   │\n",
       "├─────────────────────┼───────────────────┼────────────┼───────────────────┤\n",
       "│ get_item_97         │ (<span style=\"color: #00d7ff; text-decoration-color: #00d7ff\">None</span>, <span style=\"color: #00af00; text-decoration-color: #00af00\">106</span>)       │          <span style=\"color: #00af00; text-decoration-color: #00af00\">0</span> │ input_layer_3[<span style=\"color: #00af00; text-decoration-color: #00af00\">0</span>]… │\n",
       "│ (<span style=\"color: #0087ff; text-decoration-color: #0087ff\">GetItem</span>)           │                   │            │                   │\n",
       "├─────────────────────┼───────────────────┼────────────┼───────────────────┤\n",
       "│ get_item_98         │ (<span style=\"color: #00d7ff; text-decoration-color: #00d7ff\">None</span>, <span style=\"color: #00af00; text-decoration-color: #00af00\">106</span>)       │          <span style=\"color: #00af00; text-decoration-color: #00af00\">0</span> │ input_layer_3[<span style=\"color: #00af00; text-decoration-color: #00af00\">0</span>]… │\n",
       "│ (<span style=\"color: #0087ff; text-decoration-color: #0087ff\">GetItem</span>)           │                   │            │                   │\n",
       "├─────────────────────┼───────────────────┼────────────┼───────────────────┤\n",
       "│ get_item_99         │ (<span style=\"color: #00d7ff; text-decoration-color: #00d7ff\">None</span>, <span style=\"color: #00af00; text-decoration-color: #00af00\">106</span>)       │          <span style=\"color: #00af00; text-decoration-color: #00af00\">0</span> │ input_layer_3[<span style=\"color: #00af00; text-decoration-color: #00af00\">0</span>]… │\n",
       "│ (<span style=\"color: #0087ff; text-decoration-color: #0087ff\">GetItem</span>)           │                   │            │                   │\n",
       "├─────────────────────┼───────────────────┼────────────┼───────────────────┤\n",
       "│ get_item_100        │ (<span style=\"color: #00d7ff; text-decoration-color: #00d7ff\">None</span>, <span style=\"color: #00af00; text-decoration-color: #00af00\">106</span>)       │          <span style=\"color: #00af00; text-decoration-color: #00af00\">0</span> │ input_layer_3[<span style=\"color: #00af00; text-decoration-color: #00af00\">0</span>]… │\n",
       "│ (<span style=\"color: #0087ff; text-decoration-color: #0087ff\">GetItem</span>)           │                   │            │                   │\n",
       "├─────────────────────┼───────────────────┼────────────┼───────────────────┤\n",
       "│ get_item_101        │ (<span style=\"color: #00d7ff; text-decoration-color: #00d7ff\">None</span>, <span style=\"color: #00af00; text-decoration-color: #00af00\">106</span>)       │          <span style=\"color: #00af00; text-decoration-color: #00af00\">0</span> │ input_layer_3[<span style=\"color: #00af00; text-decoration-color: #00af00\">0</span>]… │\n",
       "│ (<span style=\"color: #0087ff; text-decoration-color: #0087ff\">GetItem</span>)           │                   │            │                   │\n",
       "├─────────────────────┼───────────────────┼────────────┼───────────────────┤\n",
       "│ get_item_102        │ (<span style=\"color: #00d7ff; text-decoration-color: #00d7ff\">None</span>, <span style=\"color: #00af00; text-decoration-color: #00af00\">106</span>)       │          <span style=\"color: #00af00; text-decoration-color: #00af00\">0</span> │ input_layer_3[<span style=\"color: #00af00; text-decoration-color: #00af00\">0</span>]… │\n",
       "│ (<span style=\"color: #0087ff; text-decoration-color: #0087ff\">GetItem</span>)           │                   │            │                   │\n",
       "├─────────────────────┼───────────────────┼────────────┼───────────────────┤\n",
       "│ get_item_103        │ (<span style=\"color: #00d7ff; text-decoration-color: #00d7ff\">None</span>, <span style=\"color: #00af00; text-decoration-color: #00af00\">106</span>)       │          <span style=\"color: #00af00; text-decoration-color: #00af00\">0</span> │ input_layer_3[<span style=\"color: #00af00; text-decoration-color: #00af00\">0</span>]… │\n",
       "│ (<span style=\"color: #0087ff; text-decoration-color: #0087ff\">GetItem</span>)           │                   │            │                   │\n",
       "├─────────────────────┼───────────────────┼────────────┼───────────────────┤\n",
       "│ get_item_104        │ (<span style=\"color: #00d7ff; text-decoration-color: #00d7ff\">None</span>, <span style=\"color: #00af00; text-decoration-color: #00af00\">106</span>)       │          <span style=\"color: #00af00; text-decoration-color: #00af00\">0</span> │ input_layer_3[<span style=\"color: #00af00; text-decoration-color: #00af00\">0</span>]… │\n",
       "│ (<span style=\"color: #0087ff; text-decoration-color: #0087ff\">GetItem</span>)           │                   │            │                   │\n",
       "├─────────────────────┼───────────────────┼────────────┼───────────────────┤\n",
       "│ get_item_105        │ (<span style=\"color: #00d7ff; text-decoration-color: #00d7ff\">None</span>, <span style=\"color: #00af00; text-decoration-color: #00af00\">106</span>)       │          <span style=\"color: #00af00; text-decoration-color: #00af00\">0</span> │ input_layer_3[<span style=\"color: #00af00; text-decoration-color: #00af00\">0</span>]… │\n",
       "│ (<span style=\"color: #0087ff; text-decoration-color: #0087ff\">GetItem</span>)           │                   │            │                   │\n",
       "├─────────────────────┼───────────────────┼────────────┼───────────────────┤\n",
       "│ get_item_106        │ (<span style=\"color: #00d7ff; text-decoration-color: #00d7ff\">None</span>, <span style=\"color: #00af00; text-decoration-color: #00af00\">106</span>)       │          <span style=\"color: #00af00; text-decoration-color: #00af00\">0</span> │ input_layer_3[<span style=\"color: #00af00; text-decoration-color: #00af00\">0</span>]… │\n",
       "│ (<span style=\"color: #0087ff; text-decoration-color: #0087ff\">GetItem</span>)           │                   │            │                   │\n",
       "├─────────────────────┼───────────────────┼────────────┼───────────────────┤\n",
       "│ get_item_107        │ (<span style=\"color: #00d7ff; text-decoration-color: #00d7ff\">None</span>, <span style=\"color: #00af00; text-decoration-color: #00af00\">106</span>)       │          <span style=\"color: #00af00; text-decoration-color: #00af00\">0</span> │ input_layer_3[<span style=\"color: #00af00; text-decoration-color: #00af00\">0</span>]… │\n",
       "│ (<span style=\"color: #0087ff; text-decoration-color: #0087ff\">GetItem</span>)           │                   │            │                   │\n",
       "├─────────────────────┼───────────────────┼────────────┼───────────────────┤\n",
       "│ get_item_108        │ (<span style=\"color: #00d7ff; text-decoration-color: #00d7ff\">None</span>, <span style=\"color: #00af00; text-decoration-color: #00af00\">106</span>)       │          <span style=\"color: #00af00; text-decoration-color: #00af00\">0</span> │ input_layer_3[<span style=\"color: #00af00; text-decoration-color: #00af00\">0</span>]… │\n",
       "│ (<span style=\"color: #0087ff; text-decoration-color: #0087ff\">GetItem</span>)           │                   │            │                   │\n",
       "├─────────────────────┼───────────────────┼────────────┼───────────────────┤\n",
       "│ get_item_109        │ (<span style=\"color: #00d7ff; text-decoration-color: #00d7ff\">None</span>, <span style=\"color: #00af00; text-decoration-color: #00af00\">106</span>)       │          <span style=\"color: #00af00; text-decoration-color: #00af00\">0</span> │ input_layer_3[<span style=\"color: #00af00; text-decoration-color: #00af00\">0</span>]… │\n",
       "│ (<span style=\"color: #0087ff; text-decoration-color: #0087ff\">GetItem</span>)           │                   │            │                   │\n",
       "├─────────────────────┼───────────────────┼────────────┼───────────────────┤\n",
       "│ get_item_110        │ (<span style=\"color: #00d7ff; text-decoration-color: #00d7ff\">None</span>, <span style=\"color: #00af00; text-decoration-color: #00af00\">106</span>)       │          <span style=\"color: #00af00; text-decoration-color: #00af00\">0</span> │ input_layer_3[<span style=\"color: #00af00; text-decoration-color: #00af00\">0</span>]… │\n",
       "│ (<span style=\"color: #0087ff; text-decoration-color: #0087ff\">GetItem</span>)           │                   │            │                   │\n",
       "├─────────────────────┼───────────────────┼────────────┼───────────────────┤\n",
       "│ get_item_111        │ (<span style=\"color: #00d7ff; text-decoration-color: #00d7ff\">None</span>, <span style=\"color: #00af00; text-decoration-color: #00af00\">106</span>)       │          <span style=\"color: #00af00; text-decoration-color: #00af00\">0</span> │ input_layer_3[<span style=\"color: #00af00; text-decoration-color: #00af00\">0</span>]… │\n",
       "│ (<span style=\"color: #0087ff; text-decoration-color: #0087ff\">GetItem</span>)           │                   │            │                   │\n",
       "├─────────────────────┼───────────────────┼────────────┼───────────────────┤\n",
       "│ get_item_112        │ (<span style=\"color: #00d7ff; text-decoration-color: #00d7ff\">None</span>, <span style=\"color: #00af00; text-decoration-color: #00af00\">106</span>)       │          <span style=\"color: #00af00; text-decoration-color: #00af00\">0</span> │ input_layer_3[<span style=\"color: #00af00; text-decoration-color: #00af00\">0</span>]… │\n",
       "│ (<span style=\"color: #0087ff; text-decoration-color: #0087ff\">GetItem</span>)           │                   │            │                   │\n",
       "├─────────────────────┼───────────────────┼────────────┼───────────────────┤\n",
       "│ get_item_113        │ (<span style=\"color: #00d7ff; text-decoration-color: #00d7ff\">None</span>, <span style=\"color: #00af00; text-decoration-color: #00af00\">106</span>)       │          <span style=\"color: #00af00; text-decoration-color: #00af00\">0</span> │ input_layer_3[<span style=\"color: #00af00; text-decoration-color: #00af00\">0</span>]… │\n",
       "│ (<span style=\"color: #0087ff; text-decoration-color: #0087ff\">GetItem</span>)           │                   │            │                   │\n",
       "├─────────────────────┼───────────────────┼────────────┼───────────────────┤\n",
       "│ get_item_114        │ (<span style=\"color: #00d7ff; text-decoration-color: #00d7ff\">None</span>, <span style=\"color: #00af00; text-decoration-color: #00af00\">106</span>)       │          <span style=\"color: #00af00; text-decoration-color: #00af00\">0</span> │ input_layer_3[<span style=\"color: #00af00; text-decoration-color: #00af00\">0</span>]… │\n",
       "│ (<span style=\"color: #0087ff; text-decoration-color: #0087ff\">GetItem</span>)           │                   │            │                   │\n",
       "├─────────────────────┼───────────────────┼────────────┼───────────────────┤\n",
       "│ get_item_115        │ (<span style=\"color: #00d7ff; text-decoration-color: #00d7ff\">None</span>, <span style=\"color: #00af00; text-decoration-color: #00af00\">106</span>)       │          <span style=\"color: #00af00; text-decoration-color: #00af00\">0</span> │ input_layer_3[<span style=\"color: #00af00; text-decoration-color: #00af00\">0</span>]… │\n",
       "│ (<span style=\"color: #0087ff; text-decoration-color: #0087ff\">GetItem</span>)           │                   │            │                   │\n",
       "├─────────────────────┼───────────────────┼────────────┼───────────────────┤\n",
       "│ get_item_116        │ (<span style=\"color: #00d7ff; text-decoration-color: #00d7ff\">None</span>, <span style=\"color: #00af00; text-decoration-color: #00af00\">106</span>)       │          <span style=\"color: #00af00; text-decoration-color: #00af00\">0</span> │ input_layer_3[<span style=\"color: #00af00; text-decoration-color: #00af00\">0</span>]… │\n",
       "│ (<span style=\"color: #0087ff; text-decoration-color: #0087ff\">GetItem</span>)           │                   │            │                   │\n",
       "├─────────────────────┼───────────────────┼────────────┼───────────────────┤\n",
       "│ get_item_117        │ (<span style=\"color: #00d7ff; text-decoration-color: #00d7ff\">None</span>, <span style=\"color: #00af00; text-decoration-color: #00af00\">106</span>)       │          <span style=\"color: #00af00; text-decoration-color: #00af00\">0</span> │ input_layer_3[<span style=\"color: #00af00; text-decoration-color: #00af00\">0</span>]… │\n",
       "│ (<span style=\"color: #0087ff; text-decoration-color: #0087ff\">GetItem</span>)           │                   │            │                   │\n",
       "├─────────────────────┼───────────────────┼────────────┼───────────────────┤\n",
       "│ get_item_118        │ (<span style=\"color: #00d7ff; text-decoration-color: #00d7ff\">None</span>, <span style=\"color: #00af00; text-decoration-color: #00af00\">106</span>)       │          <span style=\"color: #00af00; text-decoration-color: #00af00\">0</span> │ input_layer_3[<span style=\"color: #00af00; text-decoration-color: #00af00\">0</span>]… │\n",
       "│ (<span style=\"color: #0087ff; text-decoration-color: #0087ff\">GetItem</span>)           │                   │            │                   │\n",
       "├─────────────────────┼───────────────────┼────────────┼───────────────────┤\n",
       "│ get_item_119        │ (<span style=\"color: #00d7ff; text-decoration-color: #00d7ff\">None</span>, <span style=\"color: #00af00; text-decoration-color: #00af00\">106</span>)       │          <span style=\"color: #00af00; text-decoration-color: #00af00\">0</span> │ input_layer_3[<span style=\"color: #00af00; text-decoration-color: #00af00\">0</span>]… │\n",
       "│ (<span style=\"color: #0087ff; text-decoration-color: #0087ff\">GetItem</span>)           │                   │            │                   │\n",
       "├─────────────────────┼───────────────────┼────────────┼───────────────────┤\n",
       "│ sequential_1        │ (<span style=\"color: #00d7ff; text-decoration-color: #00d7ff\">None</span>, <span style=\"color: #00af00; text-decoration-color: #00af00\">32</span>)        │     <span style=\"color: #00af00; text-decoration-color: #00af00\">71,680</span> │ get_item_60[<span style=\"color: #00af00; text-decoration-color: #00af00\">0</span>][<span style=\"color: #00af00; text-decoration-color: #00af00\">0</span>… │\n",
       "│ (<span style=\"color: #0087ff; text-decoration-color: #0087ff\">Sequential</span>)        │                   │            │ get_item_61[<span style=\"color: #00af00; text-decoration-color: #00af00\">0</span>][<span style=\"color: #00af00; text-decoration-color: #00af00\">0</span>… │\n",
       "│                     │                   │            │ get_item_62[<span style=\"color: #00af00; text-decoration-color: #00af00\">0</span>][<span style=\"color: #00af00; text-decoration-color: #00af00\">0</span>… │\n",
       "│                     │                   │            │ get_item_63[<span style=\"color: #00af00; text-decoration-color: #00af00\">0</span>][<span style=\"color: #00af00; text-decoration-color: #00af00\">0</span>… │\n",
       "│                     │                   │            │ get_item_64[<span style=\"color: #00af00; text-decoration-color: #00af00\">0</span>][<span style=\"color: #00af00; text-decoration-color: #00af00\">0</span>… │\n",
       "│                     │                   │            │ get_item_65[<span style=\"color: #00af00; text-decoration-color: #00af00\">0</span>][<span style=\"color: #00af00; text-decoration-color: #00af00\">0</span>… │\n",
       "│                     │                   │            │ get_item_66[<span style=\"color: #00af00; text-decoration-color: #00af00\">0</span>][<span style=\"color: #00af00; text-decoration-color: #00af00\">0</span>… │\n",
       "│                     │                   │            │ get_item_67[<span style=\"color: #00af00; text-decoration-color: #00af00\">0</span>][<span style=\"color: #00af00; text-decoration-color: #00af00\">0</span>… │\n",
       "│                     │                   │            │ get_item_68[<span style=\"color: #00af00; text-decoration-color: #00af00\">0</span>][<span style=\"color: #00af00; text-decoration-color: #00af00\">0</span>… │\n",
       "│                     │                   │            │ get_item_69[<span style=\"color: #00af00; text-decoration-color: #00af00\">0</span>][<span style=\"color: #00af00; text-decoration-color: #00af00\">0</span>… │\n",
       "│                     │                   │            │ get_item_70[<span style=\"color: #00af00; text-decoration-color: #00af00\">0</span>][<span style=\"color: #00af00; text-decoration-color: #00af00\">0</span>… │\n",
       "│                     │                   │            │ get_item_71[<span style=\"color: #00af00; text-decoration-color: #00af00\">0</span>][<span style=\"color: #00af00; text-decoration-color: #00af00\">0</span>… │\n",
       "│                     │                   │            │ get_item_72[<span style=\"color: #00af00; text-decoration-color: #00af00\">0</span>][<span style=\"color: #00af00; text-decoration-color: #00af00\">0</span>… │\n",
       "│                     │                   │            │ get_item_73[<span style=\"color: #00af00; text-decoration-color: #00af00\">0</span>][<span style=\"color: #00af00; text-decoration-color: #00af00\">0</span>… │\n",
       "│                     │                   │            │ get_item_74[<span style=\"color: #00af00; text-decoration-color: #00af00\">0</span>][<span style=\"color: #00af00; text-decoration-color: #00af00\">0</span>… │\n",
       "│                     │                   │            │ get_item_75[<span style=\"color: #00af00; text-decoration-color: #00af00\">0</span>][<span style=\"color: #00af00; text-decoration-color: #00af00\">0</span>… │\n",
       "│                     │                   │            │ get_item_76[<span style=\"color: #00af00; text-decoration-color: #00af00\">0</span>][<span style=\"color: #00af00; text-decoration-color: #00af00\">0</span>… │\n",
       "│                     │                   │            │ get_item_77[<span style=\"color: #00af00; text-decoration-color: #00af00\">0</span>][<span style=\"color: #00af00; text-decoration-color: #00af00\">0</span>… │\n",
       "│                     │                   │            │ get_item_78[<span style=\"color: #00af00; text-decoration-color: #00af00\">0</span>][<span style=\"color: #00af00; text-decoration-color: #00af00\">0</span>… │\n",
       "│                     │                   │            │ get_item_79[<span style=\"color: #00af00; text-decoration-color: #00af00\">0</span>][<span style=\"color: #00af00; text-decoration-color: #00af00\">0</span>… │\n",
       "│                     │                   │            │ get_item_80[<span style=\"color: #00af00; text-decoration-color: #00af00\">0</span>][<span style=\"color: #00af00; text-decoration-color: #00af00\">0</span>… │\n",
       "│                     │                   │            │ get_item_81[<span style=\"color: #00af00; text-decoration-color: #00af00\">0</span>][<span style=\"color: #00af00; text-decoration-color: #00af00\">0</span>… │\n",
       "│                     │                   │            │ get_item_82[<span style=\"color: #00af00; text-decoration-color: #00af00\">0</span>][<span style=\"color: #00af00; text-decoration-color: #00af00\">0</span>… │\n",
       "│                     │                   │            │ get_item_83[<span style=\"color: #00af00; text-decoration-color: #00af00\">0</span>][<span style=\"color: #00af00; text-decoration-color: #00af00\">0</span>… │\n",
       "│                     │                   │            │ get_item_84[<span style=\"color: #00af00; text-decoration-color: #00af00\">0</span>][<span style=\"color: #00af00; text-decoration-color: #00af00\">0</span>… │\n",
       "│                     │                   │            │ get_item_85[<span style=\"color: #00af00; text-decoration-color: #00af00\">0</span>][<span style=\"color: #00af00; text-decoration-color: #00af00\">0</span>… │\n",
       "│                     │                   │            │ get_item_86[<span style=\"color: #00af00; text-decoration-color: #00af00\">0</span>][<span style=\"color: #00af00; text-decoration-color: #00af00\">0</span>… │\n",
       "│                     │                   │            │ get_item_87[<span style=\"color: #00af00; text-decoration-color: #00af00\">0</span>][<span style=\"color: #00af00; text-decoration-color: #00af00\">0</span>… │\n",
       "│                     │                   │            │ get_item_88[<span style=\"color: #00af00; text-decoration-color: #00af00\">0</span>][<span style=\"color: #00af00; text-decoration-color: #00af00\">0</span>… │\n",
       "│                     │                   │            │ get_item_89[<span style=\"color: #00af00; text-decoration-color: #00af00\">0</span>][<span style=\"color: #00af00; text-decoration-color: #00af00\">0</span>… │\n",
       "│                     │                   │            │ get_item_90[<span style=\"color: #00af00; text-decoration-color: #00af00\">0</span>][<span style=\"color: #00af00; text-decoration-color: #00af00\">0</span>… │\n",
       "│                     │                   │            │ get_item_91[<span style=\"color: #00af00; text-decoration-color: #00af00\">0</span>][<span style=\"color: #00af00; text-decoration-color: #00af00\">0</span>… │\n",
       "│                     │                   │            │ get_item_92[<span style=\"color: #00af00; text-decoration-color: #00af00\">0</span>][<span style=\"color: #00af00; text-decoration-color: #00af00\">0</span>… │\n",
       "│                     │                   │            │ get_item_93[<span style=\"color: #00af00; text-decoration-color: #00af00\">0</span>][<span style=\"color: #00af00; text-decoration-color: #00af00\">0</span>… │\n",
       "│                     │                   │            │ get_item_94[<span style=\"color: #00af00; text-decoration-color: #00af00\">0</span>][<span style=\"color: #00af00; text-decoration-color: #00af00\">0</span>… │\n",
       "│                     │                   │            │ get_item_95[<span style=\"color: #00af00; text-decoration-color: #00af00\">0</span>][<span style=\"color: #00af00; text-decoration-color: #00af00\">0</span>… │\n",
       "│                     │                   │            │ get_item_96[<span style=\"color: #00af00; text-decoration-color: #00af00\">0</span>][<span style=\"color: #00af00; text-decoration-color: #00af00\">0</span>… │\n",
       "│                     │                   │            │ get_item_97[<span style=\"color: #00af00; text-decoration-color: #00af00\">0</span>][<span style=\"color: #00af00; text-decoration-color: #00af00\">0</span>… │\n",
       "│                     │                   │            │ get_item_98[<span style=\"color: #00af00; text-decoration-color: #00af00\">0</span>][<span style=\"color: #00af00; text-decoration-color: #00af00\">0</span>… │\n",
       "│                     │                   │            │ get_item_99[<span style=\"color: #00af00; text-decoration-color: #00af00\">0</span>][<span style=\"color: #00af00; text-decoration-color: #00af00\">0</span>… │\n",
       "│                     │                   │            │ get_item_100[<span style=\"color: #00af00; text-decoration-color: #00af00\">0</span>][<span style=\"color: #00af00; text-decoration-color: #00af00\">…</span> │\n",
       "│                     │                   │            │ get_item_101[<span style=\"color: #00af00; text-decoration-color: #00af00\">0</span>][<span style=\"color: #00af00; text-decoration-color: #00af00\">…</span> │\n",
       "│                     │                   │            │ get_item_102[<span style=\"color: #00af00; text-decoration-color: #00af00\">0</span>][<span style=\"color: #00af00; text-decoration-color: #00af00\">…</span> │\n",
       "│                     │                   │            │ get_item_103[<span style=\"color: #00af00; text-decoration-color: #00af00\">0</span>][<span style=\"color: #00af00; text-decoration-color: #00af00\">…</span> │\n",
       "│                     │                   │            │ get_item_104[<span style=\"color: #00af00; text-decoration-color: #00af00\">0</span>][<span style=\"color: #00af00; text-decoration-color: #00af00\">…</span> │\n",
       "│                     │                   │            │ get_item_105[<span style=\"color: #00af00; text-decoration-color: #00af00\">0</span>][<span style=\"color: #00af00; text-decoration-color: #00af00\">…</span> │\n",
       "│                     │                   │            │ get_item_106[<span style=\"color: #00af00; text-decoration-color: #00af00\">0</span>][<span style=\"color: #00af00; text-decoration-color: #00af00\">…</span> │\n",
       "│                     │                   │            │ get_item_107[<span style=\"color: #00af00; text-decoration-color: #00af00\">0</span>][<span style=\"color: #00af00; text-decoration-color: #00af00\">…</span> │\n",
       "│                     │                   │            │ get_item_108[<span style=\"color: #00af00; text-decoration-color: #00af00\">0</span>][<span style=\"color: #00af00; text-decoration-color: #00af00\">…</span> │\n",
       "│                     │                   │            │ get_item_109[<span style=\"color: #00af00; text-decoration-color: #00af00\">0</span>][<span style=\"color: #00af00; text-decoration-color: #00af00\">…</span> │\n",
       "│                     │                   │            │ get_item_110[<span style=\"color: #00af00; text-decoration-color: #00af00\">0</span>][<span style=\"color: #00af00; text-decoration-color: #00af00\">…</span> │\n",
       "│                     │                   │            │ get_item_111[<span style=\"color: #00af00; text-decoration-color: #00af00\">0</span>][<span style=\"color: #00af00; text-decoration-color: #00af00\">…</span> │\n",
       "│                     │                   │            │ get_item_112[<span style=\"color: #00af00; text-decoration-color: #00af00\">0</span>][<span style=\"color: #00af00; text-decoration-color: #00af00\">…</span> │\n",
       "│                     │                   │            │ get_item_113[<span style=\"color: #00af00; text-decoration-color: #00af00\">0</span>][<span style=\"color: #00af00; text-decoration-color: #00af00\">…</span> │\n",
       "│                     │                   │            │ get_item_114[<span style=\"color: #00af00; text-decoration-color: #00af00\">0</span>][<span style=\"color: #00af00; text-decoration-color: #00af00\">…</span> │\n",
       "│                     │                   │            │ get_item_115[<span style=\"color: #00af00; text-decoration-color: #00af00\">0</span>][<span style=\"color: #00af00; text-decoration-color: #00af00\">…</span> │\n",
       "│                     │                   │            │ get_item_116[<span style=\"color: #00af00; text-decoration-color: #00af00\">0</span>][<span style=\"color: #00af00; text-decoration-color: #00af00\">…</span> │\n",
       "│                     │                   │            │ get_item_117[<span style=\"color: #00af00; text-decoration-color: #00af00\">0</span>][<span style=\"color: #00af00; text-decoration-color: #00af00\">…</span> │\n",
       "│                     │                   │            │ get_item_118[<span style=\"color: #00af00; text-decoration-color: #00af00\">0</span>][<span style=\"color: #00af00; text-decoration-color: #00af00\">…</span> │\n",
       "│                     │                   │            │ get_item_119[<span style=\"color: #00af00; text-decoration-color: #00af00\">0</span>][<span style=\"color: #00af00; text-decoration-color: #00af00\">…</span> │\n",
       "├─────────────────────┼───────────────────┼────────────┼───────────────────┤\n",
       "│ concatenate_1       │ (<span style=\"color: #00d7ff; text-decoration-color: #00d7ff\">None</span>, <span style=\"color: #00af00; text-decoration-color: #00af00\">1920</span>)      │          <span style=\"color: #00af00; text-decoration-color: #00af00\">0</span> │ sequential_1[<span style=\"color: #00af00; text-decoration-color: #00af00\">0</span>][<span style=\"color: #00af00; text-decoration-color: #00af00\">…</span> │\n",
       "│ (<span style=\"color: #0087ff; text-decoration-color: #0087ff\">Concatenate</span>)       │                   │            │ sequential_1[<span style=\"color: #00af00; text-decoration-color: #00af00\">1</span>][<span style=\"color: #00af00; text-decoration-color: #00af00\">…</span> │\n",
       "│                     │                   │            │ sequential_1[<span style=\"color: #00af00; text-decoration-color: #00af00\">2</span>][<span style=\"color: #00af00; text-decoration-color: #00af00\">…</span> │\n",
       "│                     │                   │            │ sequential_1[<span style=\"color: #00af00; text-decoration-color: #00af00\">3</span>][<span style=\"color: #00af00; text-decoration-color: #00af00\">…</span> │\n",
       "│                     │                   │            │ sequential_1[<span style=\"color: #00af00; text-decoration-color: #00af00\">4</span>][<span style=\"color: #00af00; text-decoration-color: #00af00\">…</span> │\n",
       "│                     │                   │            │ sequential_1[<span style=\"color: #00af00; text-decoration-color: #00af00\">5</span>][<span style=\"color: #00af00; text-decoration-color: #00af00\">…</span> │\n",
       "│                     │                   │            │ sequential_1[<span style=\"color: #00af00; text-decoration-color: #00af00\">6</span>][<span style=\"color: #00af00; text-decoration-color: #00af00\">…</span> │\n",
       "│                     │                   │            │ sequential_1[<span style=\"color: #00af00; text-decoration-color: #00af00\">7</span>][<span style=\"color: #00af00; text-decoration-color: #00af00\">…</span> │\n",
       "│                     │                   │            │ sequential_1[<span style=\"color: #00af00; text-decoration-color: #00af00\">8</span>][<span style=\"color: #00af00; text-decoration-color: #00af00\">…</span> │\n",
       "│                     │                   │            │ sequential_1[<span style=\"color: #00af00; text-decoration-color: #00af00\">9</span>][<span style=\"color: #00af00; text-decoration-color: #00af00\">…</span> │\n",
       "│                     │                   │            │ sequential_1[<span style=\"color: #00af00; text-decoration-color: #00af00\">10</span>]… │\n",
       "│                     │                   │            │ sequential_1[<span style=\"color: #00af00; text-decoration-color: #00af00\">11</span>]… │\n",
       "│                     │                   │            │ sequential_1[<span style=\"color: #00af00; text-decoration-color: #00af00\">12</span>]… │\n",
       "│                     │                   │            │ sequential_1[<span style=\"color: #00af00; text-decoration-color: #00af00\">13</span>]… │\n",
       "│                     │                   │            │ sequential_1[<span style=\"color: #00af00; text-decoration-color: #00af00\">14</span>]… │\n",
       "│                     │                   │            │ sequential_1[<span style=\"color: #00af00; text-decoration-color: #00af00\">15</span>]… │\n",
       "│                     │                   │            │ sequential_1[<span style=\"color: #00af00; text-decoration-color: #00af00\">16</span>]… │\n",
       "│                     │                   │            │ sequential_1[<span style=\"color: #00af00; text-decoration-color: #00af00\">17</span>]… │\n",
       "│                     │                   │            │ sequential_1[<span style=\"color: #00af00; text-decoration-color: #00af00\">18</span>]… │\n",
       "│                     │                   │            │ sequential_1[<span style=\"color: #00af00; text-decoration-color: #00af00\">19</span>]… │\n",
       "│                     │                   │            │ sequential_1[<span style=\"color: #00af00; text-decoration-color: #00af00\">20</span>]… │\n",
       "│                     │                   │            │ sequential_1[<span style=\"color: #00af00; text-decoration-color: #00af00\">21</span>]… │\n",
       "│                     │                   │            │ sequential_1[<span style=\"color: #00af00; text-decoration-color: #00af00\">22</span>]… │\n",
       "│                     │                   │            │ sequential_1[<span style=\"color: #00af00; text-decoration-color: #00af00\">23</span>]… │\n",
       "│                     │                   │            │ sequential_1[<span style=\"color: #00af00; text-decoration-color: #00af00\">24</span>]… │\n",
       "│                     │                   │            │ sequential_1[<span style=\"color: #00af00; text-decoration-color: #00af00\">25</span>]… │\n",
       "│                     │                   │            │ sequential_1[<span style=\"color: #00af00; text-decoration-color: #00af00\">26</span>]… │\n",
       "│                     │                   │            │ sequential_1[<span style=\"color: #00af00; text-decoration-color: #00af00\">27</span>]… │\n",
       "│                     │                   │            │ sequential_1[<span style=\"color: #00af00; text-decoration-color: #00af00\">28</span>]… │\n",
       "│                     │                   │            │ sequential_1[<span style=\"color: #00af00; text-decoration-color: #00af00\">29</span>]… │\n",
       "│                     │                   │            │ sequential_1[<span style=\"color: #00af00; text-decoration-color: #00af00\">30</span>]… │\n",
       "│                     │                   │            │ sequential_1[<span style=\"color: #00af00; text-decoration-color: #00af00\">31</span>]… │\n",
       "│                     │                   │            │ sequential_1[<span style=\"color: #00af00; text-decoration-color: #00af00\">32</span>]… │\n",
       "│                     │                   │            │ sequential_1[<span style=\"color: #00af00; text-decoration-color: #00af00\">33</span>]… │\n",
       "│                     │                   │            │ sequential_1[<span style=\"color: #00af00; text-decoration-color: #00af00\">34</span>]… │\n",
       "│                     │                   │            │ sequential_1[<span style=\"color: #00af00; text-decoration-color: #00af00\">35</span>]… │\n",
       "│                     │                   │            │ sequential_1[<span style=\"color: #00af00; text-decoration-color: #00af00\">36</span>]… │\n",
       "│                     │                   │            │ sequential_1[<span style=\"color: #00af00; text-decoration-color: #00af00\">37</span>]… │\n",
       "│                     │                   │            │ sequential_1[<span style=\"color: #00af00; text-decoration-color: #00af00\">38</span>]… │\n",
       "│                     │                   │            │ sequential_1[<span style=\"color: #00af00; text-decoration-color: #00af00\">39</span>]… │\n",
       "│                     │                   │            │ sequential_1[<span style=\"color: #00af00; text-decoration-color: #00af00\">40</span>]… │\n",
       "│                     │                   │            │ sequential_1[<span style=\"color: #00af00; text-decoration-color: #00af00\">41</span>]… │\n",
       "│                     │                   │            │ sequential_1[<span style=\"color: #00af00; text-decoration-color: #00af00\">42</span>]… │\n",
       "│                     │                   │            │ sequential_1[<span style=\"color: #00af00; text-decoration-color: #00af00\">43</span>]… │\n",
       "│                     │                   │            │ sequential_1[<span style=\"color: #00af00; text-decoration-color: #00af00\">44</span>]… │\n",
       "│                     │                   │            │ sequential_1[<span style=\"color: #00af00; text-decoration-color: #00af00\">45</span>]… │\n",
       "│                     │                   │            │ sequential_1[<span style=\"color: #00af00; text-decoration-color: #00af00\">46</span>]… │\n",
       "│                     │                   │            │ sequential_1[<span style=\"color: #00af00; text-decoration-color: #00af00\">47</span>]… │\n",
       "│                     │                   │            │ sequential_1[<span style=\"color: #00af00; text-decoration-color: #00af00\">48</span>]… │\n",
       "│                     │                   │            │ sequential_1[<span style=\"color: #00af00; text-decoration-color: #00af00\">49</span>]… │\n",
       "│                     │                   │            │ sequential_1[<span style=\"color: #00af00; text-decoration-color: #00af00\">50</span>]… │\n",
       "│                     │                   │            │ sequential_1[<span style=\"color: #00af00; text-decoration-color: #00af00\">51</span>]… │\n",
       "│                     │                   │            │ sequential_1[<span style=\"color: #00af00; text-decoration-color: #00af00\">52</span>]… │\n",
       "│                     │                   │            │ sequential_1[<span style=\"color: #00af00; text-decoration-color: #00af00\">53</span>]… │\n",
       "│                     │                   │            │ sequential_1[<span style=\"color: #00af00; text-decoration-color: #00af00\">54</span>]… │\n",
       "│                     │                   │            │ sequential_1[<span style=\"color: #00af00; text-decoration-color: #00af00\">55</span>]… │\n",
       "│                     │                   │            │ sequential_1[<span style=\"color: #00af00; text-decoration-color: #00af00\">56</span>]… │\n",
       "│                     │                   │            │ sequential_1[<span style=\"color: #00af00; text-decoration-color: #00af00\">57</span>]… │\n",
       "│                     │                   │            │ sequential_1[<span style=\"color: #00af00; text-decoration-color: #00af00\">58</span>]… │\n",
       "│                     │                   │            │ sequential_1[<span style=\"color: #00af00; text-decoration-color: #00af00\">59</span>]… │\n",
       "├─────────────────────┼───────────────────┼────────────┼───────────────────┤\n",
       "│ dense_12 (<span style=\"color: #0087ff; text-decoration-color: #0087ff\">Dense</span>)    │ (<span style=\"color: #00d7ff; text-decoration-color: #00d7ff\">None</span>, <span style=\"color: #00af00; text-decoration-color: #00af00\">64</span>)        │    <span style=\"color: #00af00; text-decoration-color: #00af00\">122,944</span> │ concatenate_1[<span style=\"color: #00af00; text-decoration-color: #00af00\">0</span>]… │\n",
       "├─────────────────────┼───────────────────┼────────────┼───────────────────┤\n",
       "│ dense_13 (<span style=\"color: #0087ff; text-decoration-color: #0087ff\">Dense</span>)    │ (<span style=\"color: #00d7ff; text-decoration-color: #00d7ff\">None</span>, <span style=\"color: #00af00; text-decoration-color: #00af00\">1</span>)         │         <span style=\"color: #00af00; text-decoration-color: #00af00\">65</span> │ dense_12[<span style=\"color: #00af00; text-decoration-color: #00af00\">0</span>][<span style=\"color: #00af00; text-decoration-color: #00af00\">0</span>]    │\n",
       "└─────────────────────┴───────────────────┴────────────┴───────────────────┘\n",
       "</pre>\n"
      ],
      "text/plain": [
       "┏━━━━━━━━━━━━━━━━━━━━━┳━━━━━━━━━━━━━━━━━━━┳━━━━━━━━━━━━┳━━━━━━━━━━━━━━━━━━━┓\n",
       "┃\u001b[1m \u001b[0m\u001b[1mLayer (type)       \u001b[0m\u001b[1m \u001b[0m┃\u001b[1m \u001b[0m\u001b[1mOutput Shape     \u001b[0m\u001b[1m \u001b[0m┃\u001b[1m \u001b[0m\u001b[1m   Param #\u001b[0m\u001b[1m \u001b[0m┃\u001b[1m \u001b[0m\u001b[1mConnected to     \u001b[0m\u001b[1m \u001b[0m┃\n",
       "┡━━━━━━━━━━━━━━━━━━━━━╇━━━━━━━━━━━━━━━━━━━╇━━━━━━━━━━━━╇━━━━━━━━━━━━━━━━━━━┩\n",
       "│ input_layer_3       │ (\u001b[38;5;45mNone\u001b[0m, \u001b[38;5;34m60\u001b[0m, \u001b[38;5;34m106\u001b[0m)   │          \u001b[38;5;34m0\u001b[0m │ -                 │\n",
       "│ (\u001b[38;5;33mInputLayer\u001b[0m)        │                   │            │                   │\n",
       "├─────────────────────┼───────────────────┼────────────┼───────────────────┤\n",
       "│ get_item_60         │ (\u001b[38;5;45mNone\u001b[0m, \u001b[38;5;34m106\u001b[0m)       │          \u001b[38;5;34m0\u001b[0m │ input_layer_3[\u001b[38;5;34m0\u001b[0m]… │\n",
       "│ (\u001b[38;5;33mGetItem\u001b[0m)           │                   │            │                   │\n",
       "├─────────────────────┼───────────────────┼────────────┼───────────────────┤\n",
       "│ get_item_61         │ (\u001b[38;5;45mNone\u001b[0m, \u001b[38;5;34m106\u001b[0m)       │          \u001b[38;5;34m0\u001b[0m │ input_layer_3[\u001b[38;5;34m0\u001b[0m]… │\n",
       "│ (\u001b[38;5;33mGetItem\u001b[0m)           │                   │            │                   │\n",
       "├─────────────────────┼───────────────────┼────────────┼───────────────────┤\n",
       "│ get_item_62         │ (\u001b[38;5;45mNone\u001b[0m, \u001b[38;5;34m106\u001b[0m)       │          \u001b[38;5;34m0\u001b[0m │ input_layer_3[\u001b[38;5;34m0\u001b[0m]… │\n",
       "│ (\u001b[38;5;33mGetItem\u001b[0m)           │                   │            │                   │\n",
       "├─────────────────────┼───────────────────┼────────────┼───────────────────┤\n",
       "│ get_item_63         │ (\u001b[38;5;45mNone\u001b[0m, \u001b[38;5;34m106\u001b[0m)       │          \u001b[38;5;34m0\u001b[0m │ input_layer_3[\u001b[38;5;34m0\u001b[0m]… │\n",
       "│ (\u001b[38;5;33mGetItem\u001b[0m)           │                   │            │                   │\n",
       "├─────────────────────┼───────────────────┼────────────┼───────────────────┤\n",
       "│ get_item_64         │ (\u001b[38;5;45mNone\u001b[0m, \u001b[38;5;34m106\u001b[0m)       │          \u001b[38;5;34m0\u001b[0m │ input_layer_3[\u001b[38;5;34m0\u001b[0m]… │\n",
       "│ (\u001b[38;5;33mGetItem\u001b[0m)           │                   │            │                   │\n",
       "├─────────────────────┼───────────────────┼────────────┼───────────────────┤\n",
       "│ get_item_65         │ (\u001b[38;5;45mNone\u001b[0m, \u001b[38;5;34m106\u001b[0m)       │          \u001b[38;5;34m0\u001b[0m │ input_layer_3[\u001b[38;5;34m0\u001b[0m]… │\n",
       "│ (\u001b[38;5;33mGetItem\u001b[0m)           │                   │            │                   │\n",
       "├─────────────────────┼───────────────────┼────────────┼───────────────────┤\n",
       "│ get_item_66         │ (\u001b[38;5;45mNone\u001b[0m, \u001b[38;5;34m106\u001b[0m)       │          \u001b[38;5;34m0\u001b[0m │ input_layer_3[\u001b[38;5;34m0\u001b[0m]… │\n",
       "│ (\u001b[38;5;33mGetItem\u001b[0m)           │                   │            │                   │\n",
       "├─────────────────────┼───────────────────┼────────────┼───────────────────┤\n",
       "│ get_item_67         │ (\u001b[38;5;45mNone\u001b[0m, \u001b[38;5;34m106\u001b[0m)       │          \u001b[38;5;34m0\u001b[0m │ input_layer_3[\u001b[38;5;34m0\u001b[0m]… │\n",
       "│ (\u001b[38;5;33mGetItem\u001b[0m)           │                   │            │                   │\n",
       "├─────────────────────┼───────────────────┼────────────┼───────────────────┤\n",
       "│ get_item_68         │ (\u001b[38;5;45mNone\u001b[0m, \u001b[38;5;34m106\u001b[0m)       │          \u001b[38;5;34m0\u001b[0m │ input_layer_3[\u001b[38;5;34m0\u001b[0m]… │\n",
       "│ (\u001b[38;5;33mGetItem\u001b[0m)           │                   │            │                   │\n",
       "├─────────────────────┼───────────────────┼────────────┼───────────────────┤\n",
       "│ get_item_69         │ (\u001b[38;5;45mNone\u001b[0m, \u001b[38;5;34m106\u001b[0m)       │          \u001b[38;5;34m0\u001b[0m │ input_layer_3[\u001b[38;5;34m0\u001b[0m]… │\n",
       "│ (\u001b[38;5;33mGetItem\u001b[0m)           │                   │            │                   │\n",
       "├─────────────────────┼───────────────────┼────────────┼───────────────────┤\n",
       "│ get_item_70         │ (\u001b[38;5;45mNone\u001b[0m, \u001b[38;5;34m106\u001b[0m)       │          \u001b[38;5;34m0\u001b[0m │ input_layer_3[\u001b[38;5;34m0\u001b[0m]… │\n",
       "│ (\u001b[38;5;33mGetItem\u001b[0m)           │                   │            │                   │\n",
       "├─────────────────────┼───────────────────┼────────────┼───────────────────┤\n",
       "│ get_item_71         │ (\u001b[38;5;45mNone\u001b[0m, \u001b[38;5;34m106\u001b[0m)       │          \u001b[38;5;34m0\u001b[0m │ input_layer_3[\u001b[38;5;34m0\u001b[0m]… │\n",
       "│ (\u001b[38;5;33mGetItem\u001b[0m)           │                   │            │                   │\n",
       "├─────────────────────┼───────────────────┼────────────┼───────────────────┤\n",
       "│ get_item_72         │ (\u001b[38;5;45mNone\u001b[0m, \u001b[38;5;34m106\u001b[0m)       │          \u001b[38;5;34m0\u001b[0m │ input_layer_3[\u001b[38;5;34m0\u001b[0m]… │\n",
       "│ (\u001b[38;5;33mGetItem\u001b[0m)           │                   │            │                   │\n",
       "├─────────────────────┼───────────────────┼────────────┼───────────────────┤\n",
       "│ get_item_73         │ (\u001b[38;5;45mNone\u001b[0m, \u001b[38;5;34m106\u001b[0m)       │          \u001b[38;5;34m0\u001b[0m │ input_layer_3[\u001b[38;5;34m0\u001b[0m]… │\n",
       "│ (\u001b[38;5;33mGetItem\u001b[0m)           │                   │            │                   │\n",
       "├─────────────────────┼───────────────────┼────────────┼───────────────────┤\n",
       "│ get_item_74         │ (\u001b[38;5;45mNone\u001b[0m, \u001b[38;5;34m106\u001b[0m)       │          \u001b[38;5;34m0\u001b[0m │ input_layer_3[\u001b[38;5;34m0\u001b[0m]… │\n",
       "│ (\u001b[38;5;33mGetItem\u001b[0m)           │                   │            │                   │\n",
       "├─────────────────────┼───────────────────┼────────────┼───────────────────┤\n",
       "│ get_item_75         │ (\u001b[38;5;45mNone\u001b[0m, \u001b[38;5;34m106\u001b[0m)       │          \u001b[38;5;34m0\u001b[0m │ input_layer_3[\u001b[38;5;34m0\u001b[0m]… │\n",
       "│ (\u001b[38;5;33mGetItem\u001b[0m)           │                   │            │                   │\n",
       "├─────────────────────┼───────────────────┼────────────┼───────────────────┤\n",
       "│ get_item_76         │ (\u001b[38;5;45mNone\u001b[0m, \u001b[38;5;34m106\u001b[0m)       │          \u001b[38;5;34m0\u001b[0m │ input_layer_3[\u001b[38;5;34m0\u001b[0m]… │\n",
       "│ (\u001b[38;5;33mGetItem\u001b[0m)           │                   │            │                   │\n",
       "├─────────────────────┼───────────────────┼────────────┼───────────────────┤\n",
       "│ get_item_77         │ (\u001b[38;5;45mNone\u001b[0m, \u001b[38;5;34m106\u001b[0m)       │          \u001b[38;5;34m0\u001b[0m │ input_layer_3[\u001b[38;5;34m0\u001b[0m]… │\n",
       "│ (\u001b[38;5;33mGetItem\u001b[0m)           │                   │            │                   │\n",
       "├─────────────────────┼───────────────────┼────────────┼───────────────────┤\n",
       "│ get_item_78         │ (\u001b[38;5;45mNone\u001b[0m, \u001b[38;5;34m106\u001b[0m)       │          \u001b[38;5;34m0\u001b[0m │ input_layer_3[\u001b[38;5;34m0\u001b[0m]… │\n",
       "│ (\u001b[38;5;33mGetItem\u001b[0m)           │                   │            │                   │\n",
       "├─────────────────────┼───────────────────┼────────────┼───────────────────┤\n",
       "│ get_item_79         │ (\u001b[38;5;45mNone\u001b[0m, \u001b[38;5;34m106\u001b[0m)       │          \u001b[38;5;34m0\u001b[0m │ input_layer_3[\u001b[38;5;34m0\u001b[0m]… │\n",
       "│ (\u001b[38;5;33mGetItem\u001b[0m)           │                   │            │                   │\n",
       "├─────────────────────┼───────────────────┼────────────┼───────────────────┤\n",
       "│ get_item_80         │ (\u001b[38;5;45mNone\u001b[0m, \u001b[38;5;34m106\u001b[0m)       │          \u001b[38;5;34m0\u001b[0m │ input_layer_3[\u001b[38;5;34m0\u001b[0m]… │\n",
       "│ (\u001b[38;5;33mGetItem\u001b[0m)           │                   │            │                   │\n",
       "├─────────────────────┼───────────────────┼────────────┼───────────────────┤\n",
       "│ get_item_81         │ (\u001b[38;5;45mNone\u001b[0m, \u001b[38;5;34m106\u001b[0m)       │          \u001b[38;5;34m0\u001b[0m │ input_layer_3[\u001b[38;5;34m0\u001b[0m]… │\n",
       "│ (\u001b[38;5;33mGetItem\u001b[0m)           │                   │            │                   │\n",
       "├─────────────────────┼───────────────────┼────────────┼───────────────────┤\n",
       "│ get_item_82         │ (\u001b[38;5;45mNone\u001b[0m, \u001b[38;5;34m106\u001b[0m)       │          \u001b[38;5;34m0\u001b[0m │ input_layer_3[\u001b[38;5;34m0\u001b[0m]… │\n",
       "│ (\u001b[38;5;33mGetItem\u001b[0m)           │                   │            │                   │\n",
       "├─────────────────────┼───────────────────┼────────────┼───────────────────┤\n",
       "│ get_item_83         │ (\u001b[38;5;45mNone\u001b[0m, \u001b[38;5;34m106\u001b[0m)       │          \u001b[38;5;34m0\u001b[0m │ input_layer_3[\u001b[38;5;34m0\u001b[0m]… │\n",
       "│ (\u001b[38;5;33mGetItem\u001b[0m)           │                   │            │                   │\n",
       "├─────────────────────┼───────────────────┼────────────┼───────────────────┤\n",
       "│ get_item_84         │ (\u001b[38;5;45mNone\u001b[0m, \u001b[38;5;34m106\u001b[0m)       │          \u001b[38;5;34m0\u001b[0m │ input_layer_3[\u001b[38;5;34m0\u001b[0m]… │\n",
       "│ (\u001b[38;5;33mGetItem\u001b[0m)           │                   │            │                   │\n",
       "├─────────────────────┼───────────────────┼────────────┼───────────────────┤\n",
       "│ get_item_85         │ (\u001b[38;5;45mNone\u001b[0m, \u001b[38;5;34m106\u001b[0m)       │          \u001b[38;5;34m0\u001b[0m │ input_layer_3[\u001b[38;5;34m0\u001b[0m]… │\n",
       "│ (\u001b[38;5;33mGetItem\u001b[0m)           │                   │            │                   │\n",
       "├─────────────────────┼───────────────────┼────────────┼───────────────────┤\n",
       "│ get_item_86         │ (\u001b[38;5;45mNone\u001b[0m, \u001b[38;5;34m106\u001b[0m)       │          \u001b[38;5;34m0\u001b[0m │ input_layer_3[\u001b[38;5;34m0\u001b[0m]… │\n",
       "│ (\u001b[38;5;33mGetItem\u001b[0m)           │                   │            │                   │\n",
       "├─────────────────────┼───────────────────┼────────────┼───────────────────┤\n",
       "│ get_item_87         │ (\u001b[38;5;45mNone\u001b[0m, \u001b[38;5;34m106\u001b[0m)       │          \u001b[38;5;34m0\u001b[0m │ input_layer_3[\u001b[38;5;34m0\u001b[0m]… │\n",
       "│ (\u001b[38;5;33mGetItem\u001b[0m)           │                   │            │                   │\n",
       "├─────────────────────┼───────────────────┼────────────┼───────────────────┤\n",
       "│ get_item_88         │ (\u001b[38;5;45mNone\u001b[0m, \u001b[38;5;34m106\u001b[0m)       │          \u001b[38;5;34m0\u001b[0m │ input_layer_3[\u001b[38;5;34m0\u001b[0m]… │\n",
       "│ (\u001b[38;5;33mGetItem\u001b[0m)           │                   │            │                   │\n",
       "├─────────────────────┼───────────────────┼────────────┼───────────────────┤\n",
       "│ get_item_89         │ (\u001b[38;5;45mNone\u001b[0m, \u001b[38;5;34m106\u001b[0m)       │          \u001b[38;5;34m0\u001b[0m │ input_layer_3[\u001b[38;5;34m0\u001b[0m]… │\n",
       "│ (\u001b[38;5;33mGetItem\u001b[0m)           │                   │            │                   │\n",
       "├─────────────────────┼───────────────────┼────────────┼───────────────────┤\n",
       "│ get_item_90         │ (\u001b[38;5;45mNone\u001b[0m, \u001b[38;5;34m106\u001b[0m)       │          \u001b[38;5;34m0\u001b[0m │ input_layer_3[\u001b[38;5;34m0\u001b[0m]… │\n",
       "│ (\u001b[38;5;33mGetItem\u001b[0m)           │                   │            │                   │\n",
       "├─────────────────────┼───────────────────┼────────────┼───────────────────┤\n",
       "│ get_item_91         │ (\u001b[38;5;45mNone\u001b[0m, \u001b[38;5;34m106\u001b[0m)       │          \u001b[38;5;34m0\u001b[0m │ input_layer_3[\u001b[38;5;34m0\u001b[0m]… │\n",
       "│ (\u001b[38;5;33mGetItem\u001b[0m)           │                   │            │                   │\n",
       "├─────────────────────┼───────────────────┼────────────┼───────────────────┤\n",
       "│ get_item_92         │ (\u001b[38;5;45mNone\u001b[0m, \u001b[38;5;34m106\u001b[0m)       │          \u001b[38;5;34m0\u001b[0m │ input_layer_3[\u001b[38;5;34m0\u001b[0m]… │\n",
       "│ (\u001b[38;5;33mGetItem\u001b[0m)           │                   │            │                   │\n",
       "├─────────────────────┼───────────────────┼────────────┼───────────────────┤\n",
       "│ get_item_93         │ (\u001b[38;5;45mNone\u001b[0m, \u001b[38;5;34m106\u001b[0m)       │          \u001b[38;5;34m0\u001b[0m │ input_layer_3[\u001b[38;5;34m0\u001b[0m]… │\n",
       "│ (\u001b[38;5;33mGetItem\u001b[0m)           │                   │            │                   │\n",
       "├─────────────────────┼───────────────────┼────────────┼───────────────────┤\n",
       "│ get_item_94         │ (\u001b[38;5;45mNone\u001b[0m, \u001b[38;5;34m106\u001b[0m)       │          \u001b[38;5;34m0\u001b[0m │ input_layer_3[\u001b[38;5;34m0\u001b[0m]… │\n",
       "│ (\u001b[38;5;33mGetItem\u001b[0m)           │                   │            │                   │\n",
       "├─────────────────────┼───────────────────┼────────────┼───────────────────┤\n",
       "│ get_item_95         │ (\u001b[38;5;45mNone\u001b[0m, \u001b[38;5;34m106\u001b[0m)       │          \u001b[38;5;34m0\u001b[0m │ input_layer_3[\u001b[38;5;34m0\u001b[0m]… │\n",
       "│ (\u001b[38;5;33mGetItem\u001b[0m)           │                   │            │                   │\n",
       "├─────────────────────┼───────────────────┼────────────┼───────────────────┤\n",
       "│ get_item_96         │ (\u001b[38;5;45mNone\u001b[0m, \u001b[38;5;34m106\u001b[0m)       │          \u001b[38;5;34m0\u001b[0m │ input_layer_3[\u001b[38;5;34m0\u001b[0m]… │\n",
       "│ (\u001b[38;5;33mGetItem\u001b[0m)           │                   │            │                   │\n",
       "├─────────────────────┼───────────────────┼────────────┼───────────────────┤\n",
       "│ get_item_97         │ (\u001b[38;5;45mNone\u001b[0m, \u001b[38;5;34m106\u001b[0m)       │          \u001b[38;5;34m0\u001b[0m │ input_layer_3[\u001b[38;5;34m0\u001b[0m]… │\n",
       "│ (\u001b[38;5;33mGetItem\u001b[0m)           │                   │            │                   │\n",
       "├─────────────────────┼───────────────────┼────────────┼───────────────────┤\n",
       "│ get_item_98         │ (\u001b[38;5;45mNone\u001b[0m, \u001b[38;5;34m106\u001b[0m)       │          \u001b[38;5;34m0\u001b[0m │ input_layer_3[\u001b[38;5;34m0\u001b[0m]… │\n",
       "│ (\u001b[38;5;33mGetItem\u001b[0m)           │                   │            │                   │\n",
       "├─────────────────────┼───────────────────┼────────────┼───────────────────┤\n",
       "│ get_item_99         │ (\u001b[38;5;45mNone\u001b[0m, \u001b[38;5;34m106\u001b[0m)       │          \u001b[38;5;34m0\u001b[0m │ input_layer_3[\u001b[38;5;34m0\u001b[0m]… │\n",
       "│ (\u001b[38;5;33mGetItem\u001b[0m)           │                   │            │                   │\n",
       "├─────────────────────┼───────────────────┼────────────┼───────────────────┤\n",
       "│ get_item_100        │ (\u001b[38;5;45mNone\u001b[0m, \u001b[38;5;34m106\u001b[0m)       │          \u001b[38;5;34m0\u001b[0m │ input_layer_3[\u001b[38;5;34m0\u001b[0m]… │\n",
       "│ (\u001b[38;5;33mGetItem\u001b[0m)           │                   │            │                   │\n",
       "├─────────────────────┼───────────────────┼────────────┼───────────────────┤\n",
       "│ get_item_101        │ (\u001b[38;5;45mNone\u001b[0m, \u001b[38;5;34m106\u001b[0m)       │          \u001b[38;5;34m0\u001b[0m │ input_layer_3[\u001b[38;5;34m0\u001b[0m]… │\n",
       "│ (\u001b[38;5;33mGetItem\u001b[0m)           │                   │            │                   │\n",
       "├─────────────────────┼───────────────────┼────────────┼───────────────────┤\n",
       "│ get_item_102        │ (\u001b[38;5;45mNone\u001b[0m, \u001b[38;5;34m106\u001b[0m)       │          \u001b[38;5;34m0\u001b[0m │ input_layer_3[\u001b[38;5;34m0\u001b[0m]… │\n",
       "│ (\u001b[38;5;33mGetItem\u001b[0m)           │                   │            │                   │\n",
       "├─────────────────────┼───────────────────┼────────────┼───────────────────┤\n",
       "│ get_item_103        │ (\u001b[38;5;45mNone\u001b[0m, \u001b[38;5;34m106\u001b[0m)       │          \u001b[38;5;34m0\u001b[0m │ input_layer_3[\u001b[38;5;34m0\u001b[0m]… │\n",
       "│ (\u001b[38;5;33mGetItem\u001b[0m)           │                   │            │                   │\n",
       "├─────────────────────┼───────────────────┼────────────┼───────────────────┤\n",
       "│ get_item_104        │ (\u001b[38;5;45mNone\u001b[0m, \u001b[38;5;34m106\u001b[0m)       │          \u001b[38;5;34m0\u001b[0m │ input_layer_3[\u001b[38;5;34m0\u001b[0m]… │\n",
       "│ (\u001b[38;5;33mGetItem\u001b[0m)           │                   │            │                   │\n",
       "├─────────────────────┼───────────────────┼────────────┼───────────────────┤\n",
       "│ get_item_105        │ (\u001b[38;5;45mNone\u001b[0m, \u001b[38;5;34m106\u001b[0m)       │          \u001b[38;5;34m0\u001b[0m │ input_layer_3[\u001b[38;5;34m0\u001b[0m]… │\n",
       "│ (\u001b[38;5;33mGetItem\u001b[0m)           │                   │            │                   │\n",
       "├─────────────────────┼───────────────────┼────────────┼───────────────────┤\n",
       "│ get_item_106        │ (\u001b[38;5;45mNone\u001b[0m, \u001b[38;5;34m106\u001b[0m)       │          \u001b[38;5;34m0\u001b[0m │ input_layer_3[\u001b[38;5;34m0\u001b[0m]… │\n",
       "│ (\u001b[38;5;33mGetItem\u001b[0m)           │                   │            │                   │\n",
       "├─────────────────────┼───────────────────┼────────────┼───────────────────┤\n",
       "│ get_item_107        │ (\u001b[38;5;45mNone\u001b[0m, \u001b[38;5;34m106\u001b[0m)       │          \u001b[38;5;34m0\u001b[0m │ input_layer_3[\u001b[38;5;34m0\u001b[0m]… │\n",
       "│ (\u001b[38;5;33mGetItem\u001b[0m)           │                   │            │                   │\n",
       "├─────────────────────┼───────────────────┼────────────┼───────────────────┤\n",
       "│ get_item_108        │ (\u001b[38;5;45mNone\u001b[0m, \u001b[38;5;34m106\u001b[0m)       │          \u001b[38;5;34m0\u001b[0m │ input_layer_3[\u001b[38;5;34m0\u001b[0m]… │\n",
       "│ (\u001b[38;5;33mGetItem\u001b[0m)           │                   │            │                   │\n",
       "├─────────────────────┼───────────────────┼────────────┼───────────────────┤\n",
       "│ get_item_109        │ (\u001b[38;5;45mNone\u001b[0m, \u001b[38;5;34m106\u001b[0m)       │          \u001b[38;5;34m0\u001b[0m │ input_layer_3[\u001b[38;5;34m0\u001b[0m]… │\n",
       "│ (\u001b[38;5;33mGetItem\u001b[0m)           │                   │            │                   │\n",
       "├─────────────────────┼───────────────────┼────────────┼───────────────────┤\n",
       "│ get_item_110        │ (\u001b[38;5;45mNone\u001b[0m, \u001b[38;5;34m106\u001b[0m)       │          \u001b[38;5;34m0\u001b[0m │ input_layer_3[\u001b[38;5;34m0\u001b[0m]… │\n",
       "│ (\u001b[38;5;33mGetItem\u001b[0m)           │                   │            │                   │\n",
       "├─────────────────────┼───────────────────┼────────────┼───────────────────┤\n",
       "│ get_item_111        │ (\u001b[38;5;45mNone\u001b[0m, \u001b[38;5;34m106\u001b[0m)       │          \u001b[38;5;34m0\u001b[0m │ input_layer_3[\u001b[38;5;34m0\u001b[0m]… │\n",
       "│ (\u001b[38;5;33mGetItem\u001b[0m)           │                   │            │                   │\n",
       "├─────────────────────┼───────────────────┼────────────┼───────────────────┤\n",
       "│ get_item_112        │ (\u001b[38;5;45mNone\u001b[0m, \u001b[38;5;34m106\u001b[0m)       │          \u001b[38;5;34m0\u001b[0m │ input_layer_3[\u001b[38;5;34m0\u001b[0m]… │\n",
       "│ (\u001b[38;5;33mGetItem\u001b[0m)           │                   │            │                   │\n",
       "├─────────────────────┼───────────────────┼────────────┼───────────────────┤\n",
       "│ get_item_113        │ (\u001b[38;5;45mNone\u001b[0m, \u001b[38;5;34m106\u001b[0m)       │          \u001b[38;5;34m0\u001b[0m │ input_layer_3[\u001b[38;5;34m0\u001b[0m]… │\n",
       "│ (\u001b[38;5;33mGetItem\u001b[0m)           │                   │            │                   │\n",
       "├─────────────────────┼───────────────────┼────────────┼───────────────────┤\n",
       "│ get_item_114        │ (\u001b[38;5;45mNone\u001b[0m, \u001b[38;5;34m106\u001b[0m)       │          \u001b[38;5;34m0\u001b[0m │ input_layer_3[\u001b[38;5;34m0\u001b[0m]… │\n",
       "│ (\u001b[38;5;33mGetItem\u001b[0m)           │                   │            │                   │\n",
       "├─────────────────────┼───────────────────┼────────────┼───────────────────┤\n",
       "│ get_item_115        │ (\u001b[38;5;45mNone\u001b[0m, \u001b[38;5;34m106\u001b[0m)       │          \u001b[38;5;34m0\u001b[0m │ input_layer_3[\u001b[38;5;34m0\u001b[0m]… │\n",
       "│ (\u001b[38;5;33mGetItem\u001b[0m)           │                   │            │                   │\n",
       "├─────────────────────┼───────────────────┼────────────┼───────────────────┤\n",
       "│ get_item_116        │ (\u001b[38;5;45mNone\u001b[0m, \u001b[38;5;34m106\u001b[0m)       │          \u001b[38;5;34m0\u001b[0m │ input_layer_3[\u001b[38;5;34m0\u001b[0m]… │\n",
       "│ (\u001b[38;5;33mGetItem\u001b[0m)           │                   │            │                   │\n",
       "├─────────────────────┼───────────────────┼────────────┼───────────────────┤\n",
       "│ get_item_117        │ (\u001b[38;5;45mNone\u001b[0m, \u001b[38;5;34m106\u001b[0m)       │          \u001b[38;5;34m0\u001b[0m │ input_layer_3[\u001b[38;5;34m0\u001b[0m]… │\n",
       "│ (\u001b[38;5;33mGetItem\u001b[0m)           │                   │            │                   │\n",
       "├─────────────────────┼───────────────────┼────────────┼───────────────────┤\n",
       "│ get_item_118        │ (\u001b[38;5;45mNone\u001b[0m, \u001b[38;5;34m106\u001b[0m)       │          \u001b[38;5;34m0\u001b[0m │ input_layer_3[\u001b[38;5;34m0\u001b[0m]… │\n",
       "│ (\u001b[38;5;33mGetItem\u001b[0m)           │                   │            │                   │\n",
       "├─────────────────────┼───────────────────┼────────────┼───────────────────┤\n",
       "│ get_item_119        │ (\u001b[38;5;45mNone\u001b[0m, \u001b[38;5;34m106\u001b[0m)       │          \u001b[38;5;34m0\u001b[0m │ input_layer_3[\u001b[38;5;34m0\u001b[0m]… │\n",
       "│ (\u001b[38;5;33mGetItem\u001b[0m)           │                   │            │                   │\n",
       "├─────────────────────┼───────────────────┼────────────┼───────────────────┤\n",
       "│ sequential_1        │ (\u001b[38;5;45mNone\u001b[0m, \u001b[38;5;34m32\u001b[0m)        │     \u001b[38;5;34m71,680\u001b[0m │ get_item_60[\u001b[38;5;34m0\u001b[0m][\u001b[38;5;34m0\u001b[0m… │\n",
       "│ (\u001b[38;5;33mSequential\u001b[0m)        │                   │            │ get_item_61[\u001b[38;5;34m0\u001b[0m][\u001b[38;5;34m0\u001b[0m… │\n",
       "│                     │                   │            │ get_item_62[\u001b[38;5;34m0\u001b[0m][\u001b[38;5;34m0\u001b[0m… │\n",
       "│                     │                   │            │ get_item_63[\u001b[38;5;34m0\u001b[0m][\u001b[38;5;34m0\u001b[0m… │\n",
       "│                     │                   │            │ get_item_64[\u001b[38;5;34m0\u001b[0m][\u001b[38;5;34m0\u001b[0m… │\n",
       "│                     │                   │            │ get_item_65[\u001b[38;5;34m0\u001b[0m][\u001b[38;5;34m0\u001b[0m… │\n",
       "│                     │                   │            │ get_item_66[\u001b[38;5;34m0\u001b[0m][\u001b[38;5;34m0\u001b[0m… │\n",
       "│                     │                   │            │ get_item_67[\u001b[38;5;34m0\u001b[0m][\u001b[38;5;34m0\u001b[0m… │\n",
       "│                     │                   │            │ get_item_68[\u001b[38;5;34m0\u001b[0m][\u001b[38;5;34m0\u001b[0m… │\n",
       "│                     │                   │            │ get_item_69[\u001b[38;5;34m0\u001b[0m][\u001b[38;5;34m0\u001b[0m… │\n",
       "│                     │                   │            │ get_item_70[\u001b[38;5;34m0\u001b[0m][\u001b[38;5;34m0\u001b[0m… │\n",
       "│                     │                   │            │ get_item_71[\u001b[38;5;34m0\u001b[0m][\u001b[38;5;34m0\u001b[0m… │\n",
       "│                     │                   │            │ get_item_72[\u001b[38;5;34m0\u001b[0m][\u001b[38;5;34m0\u001b[0m… │\n",
       "│                     │                   │            │ get_item_73[\u001b[38;5;34m0\u001b[0m][\u001b[38;5;34m0\u001b[0m… │\n",
       "│                     │                   │            │ get_item_74[\u001b[38;5;34m0\u001b[0m][\u001b[38;5;34m0\u001b[0m… │\n",
       "│                     │                   │            │ get_item_75[\u001b[38;5;34m0\u001b[0m][\u001b[38;5;34m0\u001b[0m… │\n",
       "│                     │                   │            │ get_item_76[\u001b[38;5;34m0\u001b[0m][\u001b[38;5;34m0\u001b[0m… │\n",
       "│                     │                   │            │ get_item_77[\u001b[38;5;34m0\u001b[0m][\u001b[38;5;34m0\u001b[0m… │\n",
       "│                     │                   │            │ get_item_78[\u001b[38;5;34m0\u001b[0m][\u001b[38;5;34m0\u001b[0m… │\n",
       "│                     │                   │            │ get_item_79[\u001b[38;5;34m0\u001b[0m][\u001b[38;5;34m0\u001b[0m… │\n",
       "│                     │                   │            │ get_item_80[\u001b[38;5;34m0\u001b[0m][\u001b[38;5;34m0\u001b[0m… │\n",
       "│                     │                   │            │ get_item_81[\u001b[38;5;34m0\u001b[0m][\u001b[38;5;34m0\u001b[0m… │\n",
       "│                     │                   │            │ get_item_82[\u001b[38;5;34m0\u001b[0m][\u001b[38;5;34m0\u001b[0m… │\n",
       "│                     │                   │            │ get_item_83[\u001b[38;5;34m0\u001b[0m][\u001b[38;5;34m0\u001b[0m… │\n",
       "│                     │                   │            │ get_item_84[\u001b[38;5;34m0\u001b[0m][\u001b[38;5;34m0\u001b[0m… │\n",
       "│                     │                   │            │ get_item_85[\u001b[38;5;34m0\u001b[0m][\u001b[38;5;34m0\u001b[0m… │\n",
       "│                     │                   │            │ get_item_86[\u001b[38;5;34m0\u001b[0m][\u001b[38;5;34m0\u001b[0m… │\n",
       "│                     │                   │            │ get_item_87[\u001b[38;5;34m0\u001b[0m][\u001b[38;5;34m0\u001b[0m… │\n",
       "│                     │                   │            │ get_item_88[\u001b[38;5;34m0\u001b[0m][\u001b[38;5;34m0\u001b[0m… │\n",
       "│                     │                   │            │ get_item_89[\u001b[38;5;34m0\u001b[0m][\u001b[38;5;34m0\u001b[0m… │\n",
       "│                     │                   │            │ get_item_90[\u001b[38;5;34m0\u001b[0m][\u001b[38;5;34m0\u001b[0m… │\n",
       "│                     │                   │            │ get_item_91[\u001b[38;5;34m0\u001b[0m][\u001b[38;5;34m0\u001b[0m… │\n",
       "│                     │                   │            │ get_item_92[\u001b[38;5;34m0\u001b[0m][\u001b[38;5;34m0\u001b[0m… │\n",
       "│                     │                   │            │ get_item_93[\u001b[38;5;34m0\u001b[0m][\u001b[38;5;34m0\u001b[0m… │\n",
       "│                     │                   │            │ get_item_94[\u001b[38;5;34m0\u001b[0m][\u001b[38;5;34m0\u001b[0m… │\n",
       "│                     │                   │            │ get_item_95[\u001b[38;5;34m0\u001b[0m][\u001b[38;5;34m0\u001b[0m… │\n",
       "│                     │                   │            │ get_item_96[\u001b[38;5;34m0\u001b[0m][\u001b[38;5;34m0\u001b[0m… │\n",
       "│                     │                   │            │ get_item_97[\u001b[38;5;34m0\u001b[0m][\u001b[38;5;34m0\u001b[0m… │\n",
       "│                     │                   │            │ get_item_98[\u001b[38;5;34m0\u001b[0m][\u001b[38;5;34m0\u001b[0m… │\n",
       "│                     │                   │            │ get_item_99[\u001b[38;5;34m0\u001b[0m][\u001b[38;5;34m0\u001b[0m… │\n",
       "│                     │                   │            │ get_item_100[\u001b[38;5;34m0\u001b[0m][\u001b[38;5;34m…\u001b[0m │\n",
       "│                     │                   │            │ get_item_101[\u001b[38;5;34m0\u001b[0m][\u001b[38;5;34m…\u001b[0m │\n",
       "│                     │                   │            │ get_item_102[\u001b[38;5;34m0\u001b[0m][\u001b[38;5;34m…\u001b[0m │\n",
       "│                     │                   │            │ get_item_103[\u001b[38;5;34m0\u001b[0m][\u001b[38;5;34m…\u001b[0m │\n",
       "│                     │                   │            │ get_item_104[\u001b[38;5;34m0\u001b[0m][\u001b[38;5;34m…\u001b[0m │\n",
       "│                     │                   │            │ get_item_105[\u001b[38;5;34m0\u001b[0m][\u001b[38;5;34m…\u001b[0m │\n",
       "│                     │                   │            │ get_item_106[\u001b[38;5;34m0\u001b[0m][\u001b[38;5;34m…\u001b[0m │\n",
       "│                     │                   │            │ get_item_107[\u001b[38;5;34m0\u001b[0m][\u001b[38;5;34m…\u001b[0m │\n",
       "│                     │                   │            │ get_item_108[\u001b[38;5;34m0\u001b[0m][\u001b[38;5;34m…\u001b[0m │\n",
       "│                     │                   │            │ get_item_109[\u001b[38;5;34m0\u001b[0m][\u001b[38;5;34m…\u001b[0m │\n",
       "│                     │                   │            │ get_item_110[\u001b[38;5;34m0\u001b[0m][\u001b[38;5;34m…\u001b[0m │\n",
       "│                     │                   │            │ get_item_111[\u001b[38;5;34m0\u001b[0m][\u001b[38;5;34m…\u001b[0m │\n",
       "│                     │                   │            │ get_item_112[\u001b[38;5;34m0\u001b[0m][\u001b[38;5;34m…\u001b[0m │\n",
       "│                     │                   │            │ get_item_113[\u001b[38;5;34m0\u001b[0m][\u001b[38;5;34m…\u001b[0m │\n",
       "│                     │                   │            │ get_item_114[\u001b[38;5;34m0\u001b[0m][\u001b[38;5;34m…\u001b[0m │\n",
       "│                     │                   │            │ get_item_115[\u001b[38;5;34m0\u001b[0m][\u001b[38;5;34m…\u001b[0m │\n",
       "│                     │                   │            │ get_item_116[\u001b[38;5;34m0\u001b[0m][\u001b[38;5;34m…\u001b[0m │\n",
       "│                     │                   │            │ get_item_117[\u001b[38;5;34m0\u001b[0m][\u001b[38;5;34m…\u001b[0m │\n",
       "│                     │                   │            │ get_item_118[\u001b[38;5;34m0\u001b[0m][\u001b[38;5;34m…\u001b[0m │\n",
       "│                     │                   │            │ get_item_119[\u001b[38;5;34m0\u001b[0m][\u001b[38;5;34m…\u001b[0m │\n",
       "├─────────────────────┼───────────────────┼────────────┼───────────────────┤\n",
       "│ concatenate_1       │ (\u001b[38;5;45mNone\u001b[0m, \u001b[38;5;34m1920\u001b[0m)      │          \u001b[38;5;34m0\u001b[0m │ sequential_1[\u001b[38;5;34m0\u001b[0m][\u001b[38;5;34m…\u001b[0m │\n",
       "│ (\u001b[38;5;33mConcatenate\u001b[0m)       │                   │            │ sequential_1[\u001b[38;5;34m1\u001b[0m][\u001b[38;5;34m…\u001b[0m │\n",
       "│                     │                   │            │ sequential_1[\u001b[38;5;34m2\u001b[0m][\u001b[38;5;34m…\u001b[0m │\n",
       "│                     │                   │            │ sequential_1[\u001b[38;5;34m3\u001b[0m][\u001b[38;5;34m…\u001b[0m │\n",
       "│                     │                   │            │ sequential_1[\u001b[38;5;34m4\u001b[0m][\u001b[38;5;34m…\u001b[0m │\n",
       "│                     │                   │            │ sequential_1[\u001b[38;5;34m5\u001b[0m][\u001b[38;5;34m…\u001b[0m │\n",
       "│                     │                   │            │ sequential_1[\u001b[38;5;34m6\u001b[0m][\u001b[38;5;34m…\u001b[0m │\n",
       "│                     │                   │            │ sequential_1[\u001b[38;5;34m7\u001b[0m][\u001b[38;5;34m…\u001b[0m │\n",
       "│                     │                   │            │ sequential_1[\u001b[38;5;34m8\u001b[0m][\u001b[38;5;34m…\u001b[0m │\n",
       "│                     │                   │            │ sequential_1[\u001b[38;5;34m9\u001b[0m][\u001b[38;5;34m…\u001b[0m │\n",
       "│                     │                   │            │ sequential_1[\u001b[38;5;34m10\u001b[0m]… │\n",
       "│                     │                   │            │ sequential_1[\u001b[38;5;34m11\u001b[0m]… │\n",
       "│                     │                   │            │ sequential_1[\u001b[38;5;34m12\u001b[0m]… │\n",
       "│                     │                   │            │ sequential_1[\u001b[38;5;34m13\u001b[0m]… │\n",
       "│                     │                   │            │ sequential_1[\u001b[38;5;34m14\u001b[0m]… │\n",
       "│                     │                   │            │ sequential_1[\u001b[38;5;34m15\u001b[0m]… │\n",
       "│                     │                   │            │ sequential_1[\u001b[38;5;34m16\u001b[0m]… │\n",
       "│                     │                   │            │ sequential_1[\u001b[38;5;34m17\u001b[0m]… │\n",
       "│                     │                   │            │ sequential_1[\u001b[38;5;34m18\u001b[0m]… │\n",
       "│                     │                   │            │ sequential_1[\u001b[38;5;34m19\u001b[0m]… │\n",
       "│                     │                   │            │ sequential_1[\u001b[38;5;34m20\u001b[0m]… │\n",
       "│                     │                   │            │ sequential_1[\u001b[38;5;34m21\u001b[0m]… │\n",
       "│                     │                   │            │ sequential_1[\u001b[38;5;34m22\u001b[0m]… │\n",
       "│                     │                   │            │ sequential_1[\u001b[38;5;34m23\u001b[0m]… │\n",
       "│                     │                   │            │ sequential_1[\u001b[38;5;34m24\u001b[0m]… │\n",
       "│                     │                   │            │ sequential_1[\u001b[38;5;34m25\u001b[0m]… │\n",
       "│                     │                   │            │ sequential_1[\u001b[38;5;34m26\u001b[0m]… │\n",
       "│                     │                   │            │ sequential_1[\u001b[38;5;34m27\u001b[0m]… │\n",
       "│                     │                   │            │ sequential_1[\u001b[38;5;34m28\u001b[0m]… │\n",
       "│                     │                   │            │ sequential_1[\u001b[38;5;34m29\u001b[0m]… │\n",
       "│                     │                   │            │ sequential_1[\u001b[38;5;34m30\u001b[0m]… │\n",
       "│                     │                   │            │ sequential_1[\u001b[38;5;34m31\u001b[0m]… │\n",
       "│                     │                   │            │ sequential_1[\u001b[38;5;34m32\u001b[0m]… │\n",
       "│                     │                   │            │ sequential_1[\u001b[38;5;34m33\u001b[0m]… │\n",
       "│                     │                   │            │ sequential_1[\u001b[38;5;34m34\u001b[0m]… │\n",
       "│                     │                   │            │ sequential_1[\u001b[38;5;34m35\u001b[0m]… │\n",
       "│                     │                   │            │ sequential_1[\u001b[38;5;34m36\u001b[0m]… │\n",
       "│                     │                   │            │ sequential_1[\u001b[38;5;34m37\u001b[0m]… │\n",
       "│                     │                   │            │ sequential_1[\u001b[38;5;34m38\u001b[0m]… │\n",
       "│                     │                   │            │ sequential_1[\u001b[38;5;34m39\u001b[0m]… │\n",
       "│                     │                   │            │ sequential_1[\u001b[38;5;34m40\u001b[0m]… │\n",
       "│                     │                   │            │ sequential_1[\u001b[38;5;34m41\u001b[0m]… │\n",
       "│                     │                   │            │ sequential_1[\u001b[38;5;34m42\u001b[0m]… │\n",
       "│                     │                   │            │ sequential_1[\u001b[38;5;34m43\u001b[0m]… │\n",
       "│                     │                   │            │ sequential_1[\u001b[38;5;34m44\u001b[0m]… │\n",
       "│                     │                   │            │ sequential_1[\u001b[38;5;34m45\u001b[0m]… │\n",
       "│                     │                   │            │ sequential_1[\u001b[38;5;34m46\u001b[0m]… │\n",
       "│                     │                   │            │ sequential_1[\u001b[38;5;34m47\u001b[0m]… │\n",
       "│                     │                   │            │ sequential_1[\u001b[38;5;34m48\u001b[0m]… │\n",
       "│                     │                   │            │ sequential_1[\u001b[38;5;34m49\u001b[0m]… │\n",
       "│                     │                   │            │ sequential_1[\u001b[38;5;34m50\u001b[0m]… │\n",
       "│                     │                   │            │ sequential_1[\u001b[38;5;34m51\u001b[0m]… │\n",
       "│                     │                   │            │ sequential_1[\u001b[38;5;34m52\u001b[0m]… │\n",
       "│                     │                   │            │ sequential_1[\u001b[38;5;34m53\u001b[0m]… │\n",
       "│                     │                   │            │ sequential_1[\u001b[38;5;34m54\u001b[0m]… │\n",
       "│                     │                   │            │ sequential_1[\u001b[38;5;34m55\u001b[0m]… │\n",
       "│                     │                   │            │ sequential_1[\u001b[38;5;34m56\u001b[0m]… │\n",
       "│                     │                   │            │ sequential_1[\u001b[38;5;34m57\u001b[0m]… │\n",
       "│                     │                   │            │ sequential_1[\u001b[38;5;34m58\u001b[0m]… │\n",
       "│                     │                   │            │ sequential_1[\u001b[38;5;34m59\u001b[0m]… │\n",
       "├─────────────────────┼───────────────────┼────────────┼───────────────────┤\n",
       "│ dense_12 (\u001b[38;5;33mDense\u001b[0m)    │ (\u001b[38;5;45mNone\u001b[0m, \u001b[38;5;34m64\u001b[0m)        │    \u001b[38;5;34m122,944\u001b[0m │ concatenate_1[\u001b[38;5;34m0\u001b[0m]… │\n",
       "├─────────────────────┼───────────────────┼────────────┼───────────────────┤\n",
       "│ dense_13 (\u001b[38;5;33mDense\u001b[0m)    │ (\u001b[38;5;45mNone\u001b[0m, \u001b[38;5;34m1\u001b[0m)         │         \u001b[38;5;34m65\u001b[0m │ dense_12[\u001b[38;5;34m0\u001b[0m][\u001b[38;5;34m0\u001b[0m]    │\n",
       "└─────────────────────┴───────────────────┴────────────┴───────────────────┘\n"
      ]
     },
     "metadata": {},
     "output_type": "display_data"
    },
    {
     "data": {
      "text/html": [
       "<pre style=\"white-space:pre;overflow-x:auto;line-height:normal;font-family:Menlo,'DejaVu Sans Mono',consolas,'Courier New',monospace\"><span style=\"font-weight: bold\"> Total params: </span><span style=\"color: #00af00; text-decoration-color: #00af00\">584,069</span> (2.23 MB)\n",
       "</pre>\n"
      ],
      "text/plain": [
       "\u001b[1m Total params: \u001b[0m\u001b[38;5;34m584,069\u001b[0m (2.23 MB)\n"
      ]
     },
     "metadata": {},
     "output_type": "display_data"
    },
    {
     "data": {
      "text/html": [
       "<pre style=\"white-space:pre;overflow-x:auto;line-height:normal;font-family:Menlo,'DejaVu Sans Mono',consolas,'Courier New',monospace\"><span style=\"font-weight: bold\"> Trainable params: </span><span style=\"color: #00af00; text-decoration-color: #00af00\">194,689</span> (760.50 KB)\n",
       "</pre>\n"
      ],
      "text/plain": [
       "\u001b[1m Trainable params: \u001b[0m\u001b[38;5;34m194,689\u001b[0m (760.50 KB)\n"
      ]
     },
     "metadata": {},
     "output_type": "display_data"
    },
    {
     "data": {
      "text/html": [
       "<pre style=\"white-space:pre;overflow-x:auto;line-height:normal;font-family:Menlo,'DejaVu Sans Mono',consolas,'Courier New',monospace\"><span style=\"font-weight: bold\"> Non-trainable params: </span><span style=\"color: #00af00; text-decoration-color: #00af00\">0</span> (0.00 B)\n",
       "</pre>\n"
      ],
      "text/plain": [
       "\u001b[1m Non-trainable params: \u001b[0m\u001b[38;5;34m0\u001b[0m (0.00 B)\n"
      ]
     },
     "metadata": {},
     "output_type": "display_data"
    },
    {
     "data": {
      "text/html": [
       "<pre style=\"white-space:pre;overflow-x:auto;line-height:normal;font-family:Menlo,'DejaVu Sans Mono',consolas,'Courier New',monospace\"><span style=\"font-weight: bold\"> Optimizer params: </span><span style=\"color: #00af00; text-decoration-color: #00af00\">389,380</span> (1.49 MB)\n",
       "</pre>\n"
      ],
      "text/plain": [
       "\u001b[1m Optimizer params: \u001b[0m\u001b[38;5;34m389,380\u001b[0m (1.49 MB)\n"
      ]
     },
     "metadata": {},
     "output_type": "display_data"
    }
   ],
   "source": [
    "final_model.summary()"
   ]
  },
  {
   "cell_type": "code",
   "execution_count": 172,
   "metadata": {},
   "outputs": [],
   "source": [
    "final_model.save(\"mymodel.keras\")"
   ]
  },
  {
   "cell_type": "code",
   "execution_count": 174,
   "metadata": {},
   "outputs": [
    {
     "name": "stdout",
     "output_type": "stream",
     "text": [
      "\u001b[1m16/16\u001b[0m \u001b[32m━━━━━━━━━━━━━━━━━━━━\u001b[0m\u001b[37m\u001b[0m \u001b[1m4s\u001b[0m 161ms/step\n"
     ]
    },
    {
     "data": {
      "image/png": "[encoded data removed]",
      "text/plain": [
       "<Figure size 800x600 with 1 Axes>"
      ]
     },
     "metadata": {},
     "output_type": "display_data"
    }
   ],
   "source": [
    "# Predict the output using the trained model\n",
    "predictions = final_model.predict(X_train_filtered)\n",
    "\n",
    "# Plot the actual data against the predicted data\n",
    "plt.figure(figsize=(8, 6))\n",
    "plt.scatter(y_train, predictions, color='blue')\n",
    "plt.plot([min(y_train), max(y_train)], [min(y_train), max(y_train)], color='red')  # Plot the diagonal line\n",
    "plt.xlabel('Actual Data')\n",
    "plt.ylabel('Predicted Data')\n",
    "plt.title('Actual vs. Predicted Data')\n",
    "plt.show()"
   ]
  },
  {
   "cell_type": "code",
   "execution_count": null,
   "metadata": {},
   "outputs": [],
   "source": [
    "# # # Flatten the player features for SHAP analysis\n",
    "# # X_train_flattened = X_train.reshape(X_train.shape[0], -1)\n",
    "\n",
    "# # # Convert the input data to numpy array\n",
    "# # X_train_flattened = np.array(X_train_flattened)\n",
    "\n",
    "# # Initialize the Kernel explainer\n",
    "# explainer = shap.KernelExplainer(final_model.predict, X_train)\n",
    "\n",
    "# # Calculate SHAP values\n",
    "# shap_values = explainer.shap_values(X_train)\n",
    "\n",
    "# # Plot SHAP summary plot\n",
    "# shap.summary_plot(shap_values, X_train, plot_type=\"bar\")\n",
    "\n",
    "# # Generate partial dependence plots for each feature\n",
    "# for i in range(X_train.shape[1]):\n",
    "#     feature_name = f'Feature {i}'  # Change this if you have actual feature names\n",
    "#     pdp_feature = pdp.pdp_isolate(model=final_model, dataset=X_train, model_features=X_train.columns.tolist(), feature=feature_name)\n",
    "#     pdp.pdp_plot(pdp_feature, feature_name)\n",
    "#     plt.show()\n",
    "\n",
    "# # Filter out features based on their importance scores\n",
    "# # Let's say we want to keep features with SHAP values greater than a threshold (e.g., 0.1)\n",
    "# threshold = 0.1\n",
    "# important_features = [i for i, importance in enumerate(shap_values.abs.mean(0)) if importance > threshold]\n",
    "# filtered_features = X_train[:, important_features]\n",
    "\n",
    "# # Use filtered_features for further analysis or modeling"
   ]
  }
 ],
 "metadata": {
  "kernelspec": {
   "display_name": "Python 3",
   "language": "python",
   "name": "python3"
  },
  "language_info": {
   "codemirror_mode": {
    "name": "ipython",
    "version": 3
   },
   "file_extension": ".py",
   "mimetype": "text/x-python",
   "name": "python",
   "nbconvert_exporter": "python",
   "pygments_lexer": "ipython3",
   "version": "3.11.0"
  }
 },
 "nbformat": 4,
 "nbformat_minor": 2
}
