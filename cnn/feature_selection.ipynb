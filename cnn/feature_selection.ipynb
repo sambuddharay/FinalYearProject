{
 "cells": [
  {
   "cell_type": "code",
   "execution_count": 1,
   "metadata": {},
   "outputs": [],
   "source": [
    "import pandas as pd\n",
    "import numpy as np\n",
    "import matplotlib.pyplot as plt\n",
    "import utils"
   ]
  },
  {
   "cell_type": "code",
   "execution_count": 2,
   "metadata": {},
   "outputs": [],
   "source": [
    "X_train = []"
   ]
  },
  {
   "cell_type": "code",
   "execution_count": 3,
   "metadata": {},
   "outputs": [],
   "source": [
    "url = 'https://raw.githubusercontent.com/sambuddharay/FinalYearProject/main/scrapping/data/Premier-League-Stats/2018-2019/player/Premier-League-Stats-2018-2019-defense-player.csv'\n",
    "df1 = pd.read_csv(url)\n",
    "url = 'https://raw.githubusercontent.com/sambuddharay/FinalYearProject/main/scrapping/data/Premier-League-Stats/2018-2019/player/Premier-League-Stats-2018-2019-gca-player.csv'\n",
    "df2 = pd.read_csv(url)\n",
    "url = 'https://raw.githubusercontent.com/sambuddharay/FinalYearProject/main/scrapping/data/Premier-League-Stats/2018-2019/player/Premier-League-Stats-2018-2019-misc-player.csv'\n",
    "df3 = pd.read_csv(url)\n",
    "url = 'https://raw.githubusercontent.com/sambuddharay/FinalYearProject/main/scrapping/data/Premier-League-Stats/2018-2019/player/Premier-League-Stats-2018-2019-passing-player.csv'\n",
    "df4 = pd.read_csv(url)\n",
    "url = 'https://raw.githubusercontent.com/sambuddharay/FinalYearProject/main/scrapping/data/Premier-League-Stats/2018-2019/player/Premier-League-Stats-2018-2019-possession-player.csv'\n",
    "df5 = pd.read_csv(url)\n",
    "url = 'https://raw.githubusercontent.com/sambuddharay/FinalYearProject/main/scrapping/data/Premier-League-Stats/2018-2019/player/Premier-League-Stats-2018-2019-shooting-player.csv'\n",
    "df6 = pd.read_csv(url)"
   ]
  },
  {
   "cell_type": "code",
   "execution_count": 4,
   "metadata": {},
   "outputs": [],
   "source": [
    "frames = [df1[['Player', 'Nation', 'Pos', 'Squad', 'Born', '90s', 'Tackles Tkl', 'Tackles TklW', 'Tackles Def 3rd', 'Tackles Mid 3rd', 'Tackles Att 3rd', 'Challenges Tkl', 'Challenges Att', 'Challenges Lost', 'Blocks Blocks', 'Blocks Sh', 'Blocks Pass', 'Int', 'Tkl+Int', 'Clr', 'Err']],\n",
    "          df2[['SCA SCA', 'SCA SCA90', 'SCA Types PassLive', 'SCA Types PassDead', 'SCA Types TO', 'SCA Types Sh', 'SCA Types Fld', 'SCA Types Def', 'GCA GCA', 'GCA GCA90', 'GCA Types PassLive', 'GCA Types PassDead', 'GCA Types TO', 'GCA Types Sh', 'GCA Types Fld', 'GCA Types Def']],\n",
    "          df3[['Performance CrdY', 'Performance CrdR', 'Performance 2CrdY', 'Performance Fls', 'Performance Fld', 'Performance Off', 'Performance Crs', 'Performance Int', 'Performance TklW', 'Performance PKwon', 'Performance PKcon', 'Performance OG', 'Performance Recov', 'Aerial Duels Won', 'Aerial Duels Lost']],\n",
    "          df4[['Total Cmp', 'Total Att', 'Total Cmp%', 'Total TotDist', 'Total PrgDist', 'Short Cmp', 'Short Att', 'Medium Cmp', 'Medium Att', 'Long Cmp', 'Long Att', 'Ast', 'xAG', 'Expected xA', 'Expected A-xAG', 'KP', '1/3', 'PPA', 'CrsPA', 'PrgP']],\n",
    "          df5[['Touches Touches', 'Touches Def Pen', 'Touches Def 3rd', 'Touches Mid 3rd', 'Touches Att 3rd', 'Touches Att Pen', 'Touches Live', 'Take-Ons Att', 'Take-Ons Succ', 'Take-Ons Tkld', 'Carries Carries', 'Carries TotDist', 'Carries PrgDist', 'Carries PrgC', 'Carries 1/3', 'Carries CPA', 'Carries Mis', 'Carries Dis', 'Receiving Rec', 'Receiving PrgR']],\n",
    "          df6[['Standard Gls', 'Standard Sh', 'Standard SoT','Standard Sh/90', 'Standard SoT/90', 'Standard G/Sh', 'Standard G/SoT', 'Standard Dist', 'Standard FK', 'Standard PK', 'Standard PKatt', 'Expected xG', 'Expected npxG', 'Expected npxG/Sh', 'Expected G-xG', 'Expected np:G-xG']]]\n",
    "players = pd.concat(frames, axis=1)"
   ]
  },
  {
   "cell_type": "code",
   "execution_count": 5,
   "metadata": {},
   "outputs": [],
   "source": [
    "url = 'https://raw.githubusercontent.com/sambuddharay/FinalYearProject/main/scrapping/data/Premier-League-Stats/2018-2019/player/Premier-League-Stats-2018-2019-keepers-player.csv'\n",
    "df7 = pd.read_csv(url)\n",
    "url = 'https://raw.githubusercontent.com/sambuddharay/FinalYearProject/main/scrapping/data/Premier-League-Stats/2018-2019/player/Premier-League-Stats-2018-2019-keepersadv-player.csv'\n",
    "df8 = pd.read_csv(url)"
   ]
  },
  {
   "cell_type": "code",
   "execution_count": 6,
   "metadata": {},
   "outputs": [],
   "source": [
    "df7=df7[df7['Playing Time 90s']>0]\n",
    "df8=df8[df8['90s']>0]"
   ]
  },
  {
   "cell_type": "code",
   "execution_count": 7,
   "metadata": {},
   "outputs": [],
   "source": [
    "frames = [df7[['Player', 'Performance GA', 'Performance GA90', 'Performance SoTA', 'Performance Saves', 'Performance Save%', 'Performance W', 'Performance D', 'Performance L', 'Performance CS', 'Performance CS%', 'Penalty Kicks PKatt', 'Penalty Kicks PKA', 'Penalty Kicks PKsv', 'Penalty Kicks PKm']],\n",
    "          df8[['Goals GA', 'Goals PKA', 'Goals FK', 'Goals CK', 'Goals OG', 'Expected PSxG', 'Expected PSxG/SoT', 'Expected PSxG+/-', 'Expected /90', 'Launched Cmp', 'Launched Att', 'Launched Cmp%', 'Passes Att (GK)', 'Passes Thr', 'Passes Launch%', 'Passes AvgLen', 'Goal Kicks Att', 'Goal Kicks Launch%', 'Goal Kicks AvgLen', 'Crosses Opp', 'Crosses Stp', 'Crosses Stp%', 'Sweeper #OPA', 'Sweeper #OPA/90', 'Sweeper AvgDist']]]\n",
    "goalkeepers = pd.concat(frames, axis=1)"
   ]
  },
  {
   "cell_type": "code",
   "execution_count": 8,
   "metadata": {},
   "outputs": [],
   "source": [
    "players = players.replace(np.nan, 0)\n",
    "goalkeepers = goalkeepers.replace(np.nan, 0)\n",
    "utils.append_X_train(X_train, players, goalkeepers)"
   ]
  },
  {
   "cell_type": "code",
   "execution_count": 9,
   "metadata": {},
   "outputs": [
    {
     "data": {
      "text/plain": [
       "[array([[30.3 , 21.  , 17.  , ...,  0.  ,  0.  ,  0.  ],\n",
       "        [17.  , 15.  , 12.  , ...,  0.  ,  0.  ,  0.  ],\n",
       "        [ 6.5 ,  1.  ,  1.  , ...,  8.  ,  1.23, 12.9 ],\n",
       "        ...,\n",
       "        [ 0.  ,  0.  ,  0.  , ...,  0.  ,  0.  ,  0.  ],\n",
       "        [ 0.  ,  0.  ,  0.  , ...,  0.  ,  0.  ,  0.  ],\n",
       "        [ 0.  ,  0.  ,  0.  , ...,  0.  ,  0.  ,  0.  ]]),\n",
       " array([[37.9 , 66.  , 35.  , ...,  0.  ,  0.  ,  0.  ],\n",
       "        [24.  ,  0.  ,  0.  , ..., 16.  ,  0.67, 11.3 ],\n",
       "        [12.  ,  1.  ,  0.  , ...,  9.  ,  0.75, 14.3 ],\n",
       "        ...,\n",
       "        [ 0.  ,  0.  ,  0.  , ...,  0.  ,  0.  ,  0.  ],\n",
       "        [ 0.  ,  0.  ,  0.  , ...,  0.  ,  0.  ,  0.  ],\n",
       "        [ 0.  ,  0.  ,  0.  , ...,  0.  ,  0.  ,  0.  ]]),\n",
       " array([[ 9.8, 10. ,  2. , ...,  0. ,  0. ,  0. ],\n",
       "        [ 6.6, 12. ,  6. , ...,  0. ,  0. ,  0. ],\n",
       "        [19.5, 62. , 43. , ...,  0. ,  0. ,  0. ],\n",
       "        ...,\n",
       "        [ 0. ,  0. ,  0. , ...,  0. ,  0. ,  0. ],\n",
       "        [ 0. ,  0. ,  0. , ...,  0. ,  0. ,  0. ],\n",
       "        [ 0. ,  0. ,  0. , ...,  0. ,  0. ,  0. ]]),\n",
       " array([[18.6, 32. , 19. , ...,  0. ,  0. ,  0. ],\n",
       "        [26.5, 28. , 17. , ...,  0. ,  0. ,  0. ],\n",
       "        [19.5, 27. , 11. , ...,  0. ,  0. ,  0. ],\n",
       "        ...,\n",
       "        [ 0. ,  0. ,  0. , ...,  0. ,  0. ,  0. ],\n",
       "        [ 0. ,  0. ,  0. , ...,  0. ,  0. ,  0. ],\n",
       "        [ 0. ,  0. ,  0. , ...,  0. ,  0. ,  0. ]]),\n",
       " array([[22.2, 62. , 37. , ...,  0. ,  0. ,  0. ],\n",
       "        [ 6.2, 15. , 10. , ...,  0. ,  0. ,  0. ],\n",
       "        [27.5, 74. , 42. , ...,  0. ,  0. ,  0. ],\n",
       "        ...,\n",
       "        [ 0. ,  0. ,  0. , ...,  0. ,  0. ,  0. ],\n",
       "        [ 0. ,  0. ,  0. , ...,  0. ,  0. ,  0. ],\n",
       "        [ 0. ,  0. ,  0. , ...,  0. ,  0. ,  0. ]]),\n",
       " array([[ 30.7 ,  73.  ,  46.  , ...,   0.  ,   0.  ,   0.  ],\n",
       "        [ 36.  ,   1.  ,   1.  , ...,  35.  ,   0.97,  18.1 ],\n",
       "        [ 37.8 , 105.  ,  60.  , ...,   0.  ,   0.  ,   0.  ],\n",
       "        ...,\n",
       "        [  0.  ,   0.  ,   0.  , ...,   0.  ,   0.  ,   0.  ],\n",
       "        [  0.  ,   0.  ,   0.  , ...,   0.  ,   0.  ,   0.  ],\n",
       "        [  0.  ,   0.  ,   0.  , ...,   0.  ,   0.  ,   0.  ]]),\n",
       " array([[35.5, 48. , 24. , ...,  0. ,  0. ,  0. ],\n",
       "        [13.1, 38. , 23. , ...,  0. ,  0. ,  0. ],\n",
       "        [ 8.3,  2. ,  1. , ...,  0. ,  0. ,  0. ],\n",
       "        ...,\n",
       "        [ 0. ,  0. ,  0. , ...,  0. ,  0. ,  0. ],\n",
       "        [ 0. ,  0. ,  0. , ...,  0. ,  0. ,  0. ],\n",
       "        [ 0. ,  0. ,  0. , ...,  0. ,  0. ,  0. ]]),\n",
       " array([[ 4.2,  8. ,  6. , ...,  0. ,  0. ,  0. ],\n",
       "        [23.5, 49. , 30. , ...,  0. ,  0. ,  0. ],\n",
       "        [19.8, 13. ,  7. , ...,  0. ,  0. ,  0. ],\n",
       "        ...,\n",
       "        [ 0. ,  0. ,  0. , ...,  0. ,  0. ,  0. ],\n",
       "        [ 0. ,  0. ,  0. , ...,  0. ,  0. ,  0. ],\n",
       "        [ 0. ,  0. ,  0. , ...,  0. ,  0. ,  0. ]]),\n",
       " array([[ 5.3 ,  4.  ,  4.  , ...,  0.  ,  0.  ,  0.  ],\n",
       "        [13.9 ,  8.  ,  4.  , ...,  0.  ,  0.  ,  0.  ],\n",
       "        [ 7.  ,  0.  ,  0.  , ..., 11.  ,  1.57, 16.  ],\n",
       "        ...,\n",
       "        [ 0.  ,  0.  ,  0.  , ...,  0.  ,  0.  ,  0.  ],\n",
       "        [ 0.  ,  0.  ,  0.  , ...,  0.  ,  0.  ,  0.  ],\n",
       "        [ 0.  ,  0.  ,  0.  , ...,  0.  ,  0.  ,  0.  ]]),\n",
       " array([[15.7, 46. , 29. , ...,  0. ,  0. ,  0. ],\n",
       "        [24.3, 73. , 44. , ...,  0. ,  0. ,  0. ],\n",
       "        [ 1. ,  0. ,  0. , ...,  1. ,  1. , 15.8],\n",
       "        ...,\n",
       "        [ 0. ,  0. ,  0. , ...,  0. ,  0. ,  0. ],\n",
       "        [ 0. ,  0. ,  0. , ...,  0. ,  0. ,  0. ],\n",
       "        [ 0. ,  0. ,  0. , ...,  0. ,  0. ,  0. ]]),\n",
       " array([[18.1, 35. , 22. , ...,  0. ,  0. ,  0. ],\n",
       "        [ 7.1, 18. , 12. , ...,  0. ,  0. ,  0. ],\n",
       "        [11.2, 10. ,  6. , ...,  0. ,  0. ,  0. ],\n",
       "        ...,\n",
       "        [ 0. ,  0. ,  0. , ...,  0. ,  0. ,  0. ],\n",
       "        [ 0. ,  0. ,  0. , ...,  0. ,  0. ,  0. ],\n",
       "        [ 0. ,  0. ,  0. , ...,  0. ,  0. ,  0. ]]),\n",
       " array([[27.4 , 61.  , 39.  , ...,  0.  ,  0.  ,  0.  ],\n",
       "        [38.  ,  2.  ,  1.  , ..., 59.  ,  1.55, 16.6 ],\n",
       "        [ 1.2 ,  4.  ,  3.  , ...,  0.  ,  0.  ,  0.  ],\n",
       "        ...,\n",
       "        [ 0.  ,  0.  ,  0.  , ...,  0.  ,  0.  ,  0.  ],\n",
       "        [ 0.  ,  0.  ,  0.  , ...,  0.  ,  0.  ,  0.  ],\n",
       "        [ 0.  ,  0.  ,  0.  , ...,  0.  ,  0.  ,  0.  ]]),\n",
       " array([[27.3, 17. ,  9. , ...,  0. ,  0. ,  0. ],\n",
       "        [ 9. , 20. , 16. , ...,  0. ,  0. ,  0. ],\n",
       "        [10.8, 22. , 15. , ...,  0. ,  0. ,  0. ],\n",
       "        ...,\n",
       "        [ 0. ,  0. ,  0. , ...,  0. ,  0. ,  0. ],\n",
       "        [ 0. ,  0. ,  0. , ...,  0. ,  0. ,  0. ],\n",
       "        [ 0. ,  0. ,  0. , ...,  0. ,  0. ,  0. ]]),\n",
       " array([[ 7.1, 15. ,  9. , ...,  0. ,  0. ,  0. ],\n",
       "        [ 0.4,  0. ,  0. , ...,  0. ,  0. ,  0. ],\n",
       "        [11.3, 24. , 12. , ...,  0. ,  0. ,  0. ],\n",
       "        ...,\n",
       "        [ 0. ,  0. ,  0. , ...,  0. ,  0. ,  0. ],\n",
       "        [ 0. ,  0. ,  0. , ...,  0. ,  0. ,  0. ],\n",
       "        [ 0. ,  0. ,  0. , ...,  0. ,  0. ,  0. ]]),\n",
       " array([[ 8.4, 20. , 12. , ...,  0. ,  0. ,  0. ],\n",
       "        [16.6, 24. , 15. , ...,  0. ,  0. ,  0. ],\n",
       "        [ 0.1,  0. ,  0. , ...,  0. ,  0. ,  0. ],\n",
       "        ...,\n",
       "        [ 0. ,  0. ,  0. , ...,  0. ,  0. ,  0. ],\n",
       "        [ 0. ,  0. ,  0. , ...,  0. ,  0. ,  0. ],\n",
       "        [ 0. ,  0. ,  0. , ...,  0. ,  0. ,  0. ]]),\n",
       " array([[15.9, 28. , 20. , ...,  0. ,  0. ,  0. ],\n",
       "        [10.9, 13. ,  7. , ...,  0. ,  0. ,  0. ],\n",
       "        [23.9, 41. , 25. , ...,  0. ,  0. ,  0. ],\n",
       "        ...,\n",
       "        [ 0. ,  0. ,  0. , ...,  0. ,  0. ,  0. ],\n",
       "        [ 0. ,  0. ,  0. , ...,  0. ,  0. ,  0. ],\n",
       "        [ 0. ,  0. ,  0. , ...,  0. ,  0. ,  0. ]]),\n",
       " array([[32.5, 37. , 23. , ...,  0. ,  0. ,  0. ],\n",
       "        [20.3, 33. , 19. , ...,  0. ,  0. ,  0. ],\n",
       "        [ 6.3, 20. , 12. , ...,  0. ,  0. ,  0. ],\n",
       "        ...,\n",
       "        [ 0. ,  0. ,  0. , ...,  0. ,  0. ,  0. ],\n",
       "        [ 0. ,  0. ,  0. , ...,  0. ,  0. ,  0. ],\n",
       "        [ 0. ,  0. ,  0. , ...,  0. ,  0. ,  0. ]]),\n",
       " array([[ 2.1,  4. ,  2. , ...,  0. ,  0. ,  0. ],\n",
       "        [32.7, 91. , 56. , ...,  0. ,  0. ,  0. ],\n",
       "        [34.4, 50. , 31. , ...,  0. ,  0. ,  0. ],\n",
       "        ...,\n",
       "        [ 0. ,  0. ,  0. , ...,  0. ,  0. ,  0. ],\n",
       "        [ 0. ,  0. ,  0. , ...,  0. ,  0. ,  0. ],\n",
       "        [ 0. ,  0. ,  0. , ...,  0. ,  0. ,  0. ]]),\n",
       " array([[33.8, 89. , 49. , ...,  0. ,  0. ,  0. ],\n",
       "        [23.4, 23. , 14. , ...,  0. ,  0. ,  0. ],\n",
       "        [22.1,  9. ,  5. , ...,  0. ,  0. ,  0. ],\n",
       "        ...,\n",
       "        [ 0. ,  0. ,  0. , ...,  0. ,  0. ,  0. ],\n",
       "        [ 0. ,  0. ,  0. , ...,  0. ,  0. ,  0. ],\n",
       "        [ 0. ,  0. ,  0. , ...,  0. ,  0. ,  0. ]]),\n",
       " array([[34. , 58. , 32. , ...,  0. ,  0. ,  0. ],\n",
       "        [35.2, 85. , 52. , ...,  0. ,  0. ,  0. ],\n",
       "        [ 1.5,  1. ,  1. , ...,  0. ,  0. ,  0. ],\n",
       "        ...,\n",
       "        [ 0. ,  0. ,  0. , ...,  0. ,  0. ,  0. ],\n",
       "        [ 0. ,  0. ,  0. , ...,  0. ,  0. ,  0. ],\n",
       "        [ 0. ,  0. ,  0. , ...,  0. ,  0. ,  0. ]])]"
      ]
     },
     "execution_count": 9,
     "metadata": {},
     "output_type": "execute_result"
    }
   ],
   "source": [
    "X_train"
   ]
  },
  {
   "cell_type": "code",
   "execution_count": 10,
   "metadata": {},
   "outputs": [
    {
     "data": {
      "text/plain": [
       "(20, 60, 142)"
      ]
     },
     "execution_count": 10,
     "metadata": {},
     "output_type": "execute_result"
    }
   ],
   "source": [
    "np.array(X_train).shape"
   ]
  },
  {
   "cell_type": "code",
   "execution_count": 11,
   "metadata": {},
   "outputs": [],
   "source": [
    "url = 'https://raw.githubusercontent.com/sambuddharay/FinalYearProject/main/scrapping/data/Premier-League-Stats/2019-2020/player/Premier-League-Stats-2019-2020-defense-player.csv'\n",
    "df1 = pd.read_csv(url)\n",
    "url = 'https://raw.githubusercontent.com/sambuddharay/FinalYearProject/main/scrapping/data/Premier-League-Stats/2019-2020/player/Premier-League-Stats-2019-2020-gca-player.csv'\n",
    "df2 = pd.read_csv(url)\n",
    "url = 'https://raw.githubusercontent.com/sambuddharay/FinalYearProject/main/scrapping/data/Premier-League-Stats/2019-2020/player/Premier-League-Stats-2019-2020-misc-player.csv'\n",
    "df3 = pd.read_csv(url)\n",
    "url = 'https://raw.githubusercontent.com/sambuddharay/FinalYearProject/main/scrapping/data/Premier-League-Stats/2019-2020/player/Premier-League-Stats-2019-2020-passing-player.csv'\n",
    "df4 = pd.read_csv(url)\n",
    "url = 'https://raw.githubusercontent.com/sambuddharay/FinalYearProject/main/scrapping/data/Premier-League-Stats/2019-2020/player/Premier-League-Stats-2019-2020-possession-player.csv'\n",
    "df5 = pd.read_csv(url)\n",
    "url = 'https://raw.githubusercontent.com/sambuddharay/FinalYearProject/main/scrapping/data/Premier-League-Stats/2019-2020/player/Premier-League-Stats-2019-2020-shooting-player.csv'\n",
    "df6 = pd.read_csv(url)"
   ]
  },
  {
   "cell_type": "code",
   "execution_count": 12,
   "metadata": {},
   "outputs": [],
   "source": [
    "frames = [df1[['Player', 'Nation', 'Pos', 'Squad', 'Born', '90s', 'Tackles Tkl', 'Tackles TklW', 'Tackles Def 3rd', 'Tackles Mid 3rd', 'Tackles Att 3rd', 'Challenges Tkl', 'Challenges Att', 'Challenges Lost', 'Blocks Blocks', 'Blocks Sh', 'Blocks Pass', 'Int', 'Tkl+Int', 'Clr', 'Err']],\n",
    "          df2[['SCA SCA', 'SCA SCA90', 'SCA Types PassLive', 'SCA Types PassDead', 'SCA Types TO', 'SCA Types Sh', 'SCA Types Fld', 'SCA Types Def', 'GCA GCA', 'GCA GCA90', 'GCA Types PassLive', 'GCA Types PassDead', 'GCA Types TO', 'GCA Types Sh', 'GCA Types Fld', 'GCA Types Def']],\n",
    "          df3[['Performance CrdY', 'Performance CrdR', 'Performance 2CrdY', 'Performance Fls', 'Performance Fld', 'Performance Off', 'Performance Crs', 'Performance Int', 'Performance TklW', 'Performance PKwon', 'Performance PKcon', 'Performance OG', 'Performance Recov', 'Aerial Duels Won', 'Aerial Duels Lost']],\n",
    "          df4[['Total Cmp', 'Total Att', 'Total Cmp%', 'Total TotDist', 'Total PrgDist', 'Short Cmp', 'Short Att', 'Medium Cmp', 'Medium Att', 'Long Cmp', 'Long Att', 'Ast', 'xAG', 'Expected xA', 'Expected A-xAG', 'KP', '1/3', 'PPA', 'CrsPA', 'PrgP']],\n",
    "          df5[['Touches Touches', 'Touches Def Pen', 'Touches Def 3rd', 'Touches Mid 3rd', 'Touches Att 3rd', 'Touches Att Pen', 'Touches Live', 'Take-Ons Att', 'Take-Ons Succ', 'Take-Ons Tkld', 'Carries Carries', 'Carries TotDist', 'Carries PrgDist', 'Carries PrgC', 'Carries 1/3', 'Carries CPA', 'Carries Mis', 'Carries Dis', 'Receiving Rec', 'Receiving PrgR']],\n",
    "          df6[['Standard Gls', 'Standard Sh', 'Standard SoT','Standard Sh/90', 'Standard SoT/90', 'Standard G/Sh', 'Standard G/SoT', 'Standard Dist', 'Standard FK', 'Standard PK', 'Standard PKatt', 'Expected xG', 'Expected npxG', 'Expected npxG/Sh', 'Expected G-xG', 'Expected np:G-xG']]]\n",
    "players = pd.concat(frames, axis=1)"
   ]
  },
  {
   "cell_type": "code",
   "execution_count": 13,
   "metadata": {},
   "outputs": [],
   "source": [
    "url = 'https://raw.githubusercontent.com/sambuddharay/FinalYearProject/main/scrapping/data/Premier-League-Stats/2019-2020/player/Premier-League-Stats-2019-2020-keepers-player.csv'\n",
    "df7 = pd.read_csv(url)\n",
    "url = 'https://raw.githubusercontent.com/sambuddharay/FinalYearProject/main/scrapping/data/Premier-League-Stats/2019-2020/player/Premier-League-Stats-2019-2020-keepersadv-player.csv'\n",
    "df8 = pd.read_csv(url)"
   ]
  },
  {
   "cell_type": "code",
   "execution_count": 14,
   "metadata": {},
   "outputs": [],
   "source": [
    "df7=df7[df7['Playing Time 90s']>0]\n",
    "df8=df8[df8['90s']>0]"
   ]
  },
  {
   "cell_type": "code",
   "execution_count": 15,
   "metadata": {},
   "outputs": [],
   "source": [
    "frames = [df7[['Player', 'Performance GA', 'Performance GA90', 'Performance SoTA', 'Performance Saves', 'Performance Save%', 'Performance W', 'Performance D', 'Performance L', 'Performance CS', 'Performance CS%', 'Penalty Kicks PKatt', 'Penalty Kicks PKA', 'Penalty Kicks PKsv', 'Penalty Kicks PKm']],\n",
    "          df8[['Goals GA', 'Goals PKA', 'Goals FK', 'Goals CK', 'Goals OG', 'Expected PSxG', 'Expected PSxG/SoT', 'Expected PSxG+/-', 'Expected /90', 'Launched Cmp', 'Launched Att', 'Launched Cmp%', 'Passes Att (GK)', 'Passes Thr', 'Passes Launch%', 'Passes AvgLen', 'Goal Kicks Att', 'Goal Kicks Launch%', 'Goal Kicks AvgLen', 'Crosses Opp', 'Crosses Stp', 'Crosses Stp%', 'Sweeper #OPA', 'Sweeper #OPA/90', 'Sweeper AvgDist']]]\n",
    "goalkeepers = pd.concat(frames, axis=1)"
   ]
  },
  {
   "cell_type": "code",
   "execution_count": 16,
   "metadata": {},
   "outputs": [],
   "source": [
    "players = players.replace(np.nan, 0)\n",
    "goalkeepers = goalkeepers.replace(np.nan, 0)\n",
    "utils.append_X_train(X_train, players, goalkeepers)"
   ]
  },
  {
   "cell_type": "code",
   "execution_count": 17,
   "metadata": {},
   "outputs": [
    {
     "data": {
      "text/plain": [
       "(40, 60, 142)"
      ]
     },
     "execution_count": 17,
     "metadata": {},
     "output_type": "execute_result"
    }
   ],
   "source": [
    "np.array(X_train).shape"
   ]
  },
  {
   "cell_type": "code",
   "execution_count": 18,
   "metadata": {},
   "outputs": [],
   "source": [
    "url = 'https://raw.githubusercontent.com/sambuddharay/FinalYearProject/main/scrapping/data/Premier-League-Stats/2020-2021/player/Premier-League-Stats-2020-2021-defense-player.csv'\n",
    "df1 = pd.read_csv(url)\n",
    "url = 'https://raw.githubusercontent.com/sambuddharay/FinalYearProject/main/scrapping/data/Premier-League-Stats/2020-2021/player/Premier-League-Stats-2020-2021-gca-player.csv'\n",
    "df2 = pd.read_csv(url)\n",
    "url = 'https://raw.githubusercontent.com/sambuddharay/FinalYearProject/main/scrapping/data/Premier-League-Stats/2020-2021/player/Premier-League-Stats-2020-2021-misc-player.csv'\n",
    "df3 = pd.read_csv(url)\n",
    "url = 'https://raw.githubusercontent.com/sambuddharay/FinalYearProject/main/scrapping/data/Premier-League-Stats/2020-2021/player/Premier-League-Stats-2020-2021-passing-player.csv'\n",
    "df4 = pd.read_csv(url)\n",
    "url = 'https://raw.githubusercontent.com/sambuddharay/FinalYearProject/main/scrapping/data/Premier-League-Stats/2020-2021/player/Premier-League-Stats-2020-2021-possession-player.csv'\n",
    "df5 = pd.read_csv(url)\n",
    "url = 'https://raw.githubusercontent.com/sambuddharay/FinalYearProject/main/scrapping/data/Premier-League-Stats/2020-2021/player/Premier-League-Stats-2020-2021-shooting-player.csv'\n",
    "df6 = pd.read_csv(url)"
   ]
  },
  {
   "cell_type": "code",
   "execution_count": 19,
   "metadata": {},
   "outputs": [],
   "source": [
    "frames = [df1[['Player', 'Nation', 'Pos', 'Squad', 'Born', '90s', 'Tackles Tkl', 'Tackles TklW', 'Tackles Def 3rd', 'Tackles Mid 3rd', 'Tackles Att 3rd', 'Challenges Tkl', 'Challenges Att', 'Challenges Lost', 'Blocks Blocks', 'Blocks Sh', 'Blocks Pass', 'Int', 'Tkl+Int', 'Clr', 'Err']],\n",
    "          df2[['SCA SCA', 'SCA SCA90', 'SCA Types PassLive', 'SCA Types PassDead', 'SCA Types TO', 'SCA Types Sh', 'SCA Types Fld', 'SCA Types Def', 'GCA GCA', 'GCA GCA90', 'GCA Types PassLive', 'GCA Types PassDead', 'GCA Types TO', 'GCA Types Sh', 'GCA Types Fld', 'GCA Types Def']],\n",
    "          df3[['Performance CrdY', 'Performance CrdR', 'Performance 2CrdY', 'Performance Fls', 'Performance Fld', 'Performance Off', 'Performance Crs', 'Performance Int', 'Performance TklW', 'Performance PKwon', 'Performance PKcon', 'Performance OG', 'Performance Recov', 'Aerial Duels Won', 'Aerial Duels Lost']],\n",
    "          df4[['Total Cmp', 'Total Att', 'Total Cmp%', 'Total TotDist', 'Total PrgDist', 'Short Cmp', 'Short Att', 'Medium Cmp', 'Medium Att', 'Long Cmp', 'Long Att', 'Ast', 'xAG', 'Expected xA', 'Expected A-xAG', 'KP', '1/3', 'PPA', 'CrsPA', 'PrgP']],\n",
    "          df5[['Touches Touches', 'Touches Def Pen', 'Touches Def 3rd', 'Touches Mid 3rd', 'Touches Att 3rd', 'Touches Att Pen', 'Touches Live', 'Take-Ons Att', 'Take-Ons Succ', 'Take-Ons Tkld', 'Carries Carries', 'Carries TotDist', 'Carries PrgDist', 'Carries PrgC', 'Carries 1/3', 'Carries CPA', 'Carries Mis', 'Carries Dis', 'Receiving Rec', 'Receiving PrgR']],\n",
    "          df6[['Standard Gls', 'Standard Sh', 'Standard SoT','Standard Sh/90', 'Standard SoT/90', 'Standard G/Sh', 'Standard G/SoT', 'Standard Dist', 'Standard FK', 'Standard PK', 'Standard PKatt', 'Expected xG', 'Expected npxG', 'Expected npxG/Sh', 'Expected G-xG', 'Expected np:G-xG']]]\n",
    "players = pd.concat(frames, axis=1)"
   ]
  },
  {
   "cell_type": "code",
   "execution_count": 20,
   "metadata": {},
   "outputs": [],
   "source": [
    "url = 'https://raw.githubusercontent.com/sambuddharay/FinalYearProject/main/scrapping/data/Premier-League-Stats/2020-2021/player/Premier-League-Stats-2020-2021-keepers-player.csv'\n",
    "df7 = pd.read_csv(url)\n",
    "url = 'https://raw.githubusercontent.com/sambuddharay/FinalYearProject/main/scrapping/data/Premier-League-Stats/2020-2021/player/Premier-League-Stats-2020-2021-keepersadv-player.csv'\n",
    "df8 = pd.read_csv(url)"
   ]
  },
  {
   "cell_type": "code",
   "execution_count": 21,
   "metadata": {},
   "outputs": [],
   "source": [
    "df7=df7[df7['Playing Time 90s']>0]\n",
    "df8=df8[df8['90s']>0]"
   ]
  },
  {
   "cell_type": "code",
   "execution_count": 22,
   "metadata": {},
   "outputs": [],
   "source": [
    "frames = [df7[['Player', 'Performance GA', 'Performance GA90', 'Performance SoTA', 'Performance Saves', 'Performance Save%', 'Performance W', 'Performance D', 'Performance L', 'Performance CS', 'Performance CS%', 'Penalty Kicks PKatt', 'Penalty Kicks PKA', 'Penalty Kicks PKsv', 'Penalty Kicks PKm']],\n",
    "          df8[['Goals GA', 'Goals PKA', 'Goals FK', 'Goals CK', 'Goals OG', 'Expected PSxG', 'Expected PSxG/SoT', 'Expected PSxG+/-', 'Expected /90', 'Launched Cmp', 'Launched Att', 'Launched Cmp%', 'Passes Att (GK)', 'Passes Thr', 'Passes Launch%', 'Passes AvgLen', 'Goal Kicks Att', 'Goal Kicks Launch%', 'Goal Kicks AvgLen', 'Crosses Opp', 'Crosses Stp', 'Crosses Stp%', 'Sweeper #OPA', 'Sweeper #OPA/90', 'Sweeper AvgDist']]]\n",
    "goalkeepers = pd.concat(frames, axis=1)"
   ]
  },
  {
   "cell_type": "code",
   "execution_count": 23,
   "metadata": {},
   "outputs": [],
   "source": [
    "players = players.replace(np.nan, 0)\n",
    "goalkeepers = goalkeepers.replace(np.nan, 0)\n",
    "utils.append_X_train(X_train, players, goalkeepers)"
   ]
  },
  {
   "cell_type": "code",
   "execution_count": 24,
   "metadata": {},
   "outputs": [
    {
     "data": {
      "text/plain": [
       "(60, 60, 142)"
      ]
     },
     "execution_count": 24,
     "metadata": {},
     "output_type": "execute_result"
    }
   ],
   "source": [
    "np.array(X_train).shape"
   ]
  },
  {
   "cell_type": "code",
   "execution_count": 25,
   "metadata": {},
   "outputs": [],
   "source": [
    "url = 'https://raw.githubusercontent.com/sambuddharay/FinalYearProject/main/scrapping/data/Premier-League-Stats/2021-2022/player/Premier-League-Stats-2021-2022-defense-player.csv'\n",
    "df1 = pd.read_csv(url)\n",
    "url = 'https://raw.githubusercontent.com/sambuddharay/FinalYearProject/main/scrapping/data/Premier-League-Stats/2021-2022/player/Premier-League-Stats-2021-2022-gca-player.csv'\n",
    "df2 = pd.read_csv(url)\n",
    "url = 'https://raw.githubusercontent.com/sambuddharay/FinalYearProject/main/scrapping/data/Premier-League-Stats/2021-2022/player/Premier-League-Stats-2021-2022-misc-player.csv'\n",
    "df3 = pd.read_csv(url)\n",
    "url = 'https://raw.githubusercontent.com/sambuddharay/FinalYearProject/main/scrapping/data/Premier-League-Stats/2021-2022/player/Premier-League-Stats-2021-2022-passing-player.csv'\n",
    "df4 = pd.read_csv(url)\n",
    "url = 'https://raw.githubusercontent.com/sambuddharay/FinalYearProject/main/scrapping/data/Premier-League-Stats/2021-2022/player/Premier-League-Stats-2021-2022-possession-player.csv'\n",
    "df5 = pd.read_csv(url)\n",
    "url = 'https://raw.githubusercontent.com/sambuddharay/FinalYearProject/main/scrapping/data/Premier-League-Stats/2021-2022/player/Premier-League-Stats-2021-2022-shooting-player.csv'\n",
    "df6 = pd.read_csv(url)"
   ]
  },
  {
   "cell_type": "code",
   "execution_count": 26,
   "metadata": {},
   "outputs": [],
   "source": [
    "frames = [df1[['Player', 'Nation', 'Pos', 'Squad', 'Born', '90s', 'Tackles Tkl', 'Tackles TklW', 'Tackles Def 3rd', 'Tackles Mid 3rd', 'Tackles Att 3rd', 'Challenges Tkl', 'Challenges Att', 'Challenges Lost', 'Blocks Blocks', 'Blocks Sh', 'Blocks Pass', 'Int', 'Tkl+Int', 'Clr', 'Err']],\n",
    "          df2[['SCA SCA', 'SCA SCA90', 'SCA Types PassLive', 'SCA Types PassDead', 'SCA Types TO', 'SCA Types Sh', 'SCA Types Fld', 'SCA Types Def', 'GCA GCA', 'GCA GCA90', 'GCA Types PassLive', 'GCA Types PassDead', 'GCA Types TO', 'GCA Types Sh', 'GCA Types Fld', 'GCA Types Def']],\n",
    "          df3[['Performance CrdY', 'Performance CrdR', 'Performance 2CrdY', 'Performance Fls', 'Performance Fld', 'Performance Off', 'Performance Crs', 'Performance Int', 'Performance TklW', 'Performance PKwon', 'Performance PKcon', 'Performance OG', 'Performance Recov', 'Aerial Duels Won', 'Aerial Duels Lost']],\n",
    "          df4[['Total Cmp', 'Total Att', 'Total Cmp%', 'Total TotDist', 'Total PrgDist', 'Short Cmp', 'Short Att', 'Medium Cmp', 'Medium Att', 'Long Cmp', 'Long Att', 'Ast', 'xAG', 'Expected xA', 'Expected A-xAG', 'KP', '1/3', 'PPA', 'CrsPA', 'PrgP']],\n",
    "          df5[['Touches Touches', 'Touches Def Pen', 'Touches Def 3rd', 'Touches Mid 3rd', 'Touches Att 3rd', 'Touches Att Pen', 'Touches Live', 'Take-Ons Att', 'Take-Ons Succ', 'Take-Ons Tkld', 'Carries Carries', 'Carries TotDist', 'Carries PrgDist', 'Carries PrgC', 'Carries 1/3', 'Carries CPA', 'Carries Mis', 'Carries Dis', 'Receiving Rec', 'Receiving PrgR']],\n",
    "          df6[['Standard Gls', 'Standard Sh', 'Standard SoT','Standard Sh/90', 'Standard SoT/90', 'Standard G/Sh', 'Standard G/SoT', 'Standard Dist', 'Standard FK', 'Standard PK', 'Standard PKatt', 'Expected xG', 'Expected npxG', 'Expected npxG/Sh', 'Expected G-xG', 'Expected np:G-xG']]]\n",
    "players = pd.concat(frames, axis=1)"
   ]
  },
  {
   "cell_type": "code",
   "execution_count": 27,
   "metadata": {},
   "outputs": [],
   "source": [
    "url = 'https://raw.githubusercontent.com/sambuddharay/FinalYearProject/main/scrapping/data/Premier-League-Stats/2021-2022/player/Premier-League-Stats-2021-2022-keepers-player.csv'\n",
    "df7 = pd.read_csv(url)\n",
    "url = 'https://raw.githubusercontent.com/sambuddharay/FinalYearProject/main/scrapping/data/Premier-League-Stats/2021-2022/player/Premier-League-Stats-2021-2022-keepersadv-player.csv'\n",
    "df8 = pd.read_csv(url)"
   ]
  },
  {
   "cell_type": "code",
   "execution_count": 28,
   "metadata": {},
   "outputs": [],
   "source": [
    "df7=df7[df7['Playing Time 90s']>0]\n",
    "df8=df8[df8['90s']>0]\n",
    "frames = [df7[['Player', 'Performance GA', 'Performance GA90', 'Performance SoTA', 'Performance Saves', 'Performance Save%', 'Performance W', 'Performance D', 'Performance L', 'Performance CS', 'Performance CS%', 'Penalty Kicks PKatt', 'Penalty Kicks PKA', 'Penalty Kicks PKsv', 'Penalty Kicks PKm']],\n",
    "          df8[['Goals GA', 'Goals PKA', 'Goals FK', 'Goals CK', 'Goals OG', 'Expected PSxG', 'Expected PSxG/SoT', 'Expected PSxG+/-', 'Expected /90', 'Launched Cmp', 'Launched Att', 'Launched Cmp%', 'Passes Att (GK)', 'Passes Thr', 'Passes Launch%', 'Passes AvgLen', 'Goal Kicks Att', 'Goal Kicks Launch%', 'Goal Kicks AvgLen', 'Crosses Opp', 'Crosses Stp', 'Crosses Stp%', 'Sweeper #OPA', 'Sweeper #OPA/90', 'Sweeper AvgDist']]]\n",
    "goalkeepers = pd.concat(frames, axis=1)"
   ]
  },
  {
   "cell_type": "code",
   "execution_count": 29,
   "metadata": {},
   "outputs": [],
   "source": [
    "players = players.replace(np.nan, 0)\n",
    "goalkeepers = goalkeepers.replace(np.nan, 0)\n",
    "utils.append_X_train(X_train, players, goalkeepers)"
   ]
  },
  {
   "cell_type": "code",
   "execution_count": 30,
   "metadata": {},
   "outputs": [
    {
     "data": {
      "text/plain": [
       "(80, 60, 142)"
      ]
     },
     "execution_count": 30,
     "metadata": {},
     "output_type": "execute_result"
    }
   ],
   "source": [
    "np.array(X_train).shape"
   ]
  },
  {
   "cell_type": "code",
   "execution_count": 31,
   "metadata": {},
   "outputs": [],
   "source": [
    "url = 'https://raw.githubusercontent.com/sambuddharay/FinalYearProject/main/scrapping/data/Premier-League-Stats/2022-2023/player/Premier-League-Stats-2022-2023-defense-player.csv'\n",
    "df1 = pd.read_csv(url)\n",
    "url = 'https://raw.githubusercontent.com/sambuddharay/FinalYearProject/main/scrapping/data/Premier-League-Stats/2022-2023/player/Premier-League-Stats-2022-2023-gca-player.csv'\n",
    "df2 = pd.read_csv(url)\n",
    "url = 'https://raw.githubusercontent.com/sambuddharay/FinalYearProject/main/scrapping/data/Premier-League-Stats/2022-2023/player/Premier-League-Stats-2022-2023-misc-player.csv'\n",
    "df3 = pd.read_csv(url)\n",
    "url = 'https://raw.githubusercontent.com/sambuddharay/FinalYearProject/main/scrapping/data/Premier-League-Stats/2022-2023/player/Premier-League-Stats-2022-2023-passing-player.csv'\n",
    "df4 = pd.read_csv(url)\n",
    "url = 'https://raw.githubusercontent.com/sambuddharay/FinalYearProject/main/scrapping/data/Premier-League-Stats/2022-2023/player/Premier-League-Stats-2022-2023-possession-player.csv'\n",
    "df5 = pd.read_csv(url)\n",
    "url = 'https://raw.githubusercontent.com/sambuddharay/FinalYearProject/main/scrapping/data/Premier-League-Stats/2022-2023/player/Premier-League-Stats-2022-2023-shooting-player.csv'\n",
    "df6 = pd.read_csv(url)"
   ]
  },
  {
   "cell_type": "code",
   "execution_count": 32,
   "metadata": {},
   "outputs": [],
   "source": [
    "frames = [df1[['Player', 'Nation', 'Pos', 'Squad', 'Born', '90s', 'Tackles Tkl', 'Tackles TklW', 'Tackles Def 3rd', 'Tackles Mid 3rd', 'Tackles Att 3rd', 'Challenges Tkl', 'Challenges Att', 'Challenges Lost', 'Blocks Blocks', 'Blocks Sh', 'Blocks Pass', 'Int', 'Tkl+Int', 'Clr', 'Err']],\n",
    "          df2[['SCA SCA', 'SCA SCA90', 'SCA Types PassLive', 'SCA Types PassDead', 'SCA Types TO', 'SCA Types Sh', 'SCA Types Fld', 'SCA Types Def', 'GCA GCA', 'GCA GCA90', 'GCA Types PassLive', 'GCA Types PassDead', 'GCA Types TO', 'GCA Types Sh', 'GCA Types Fld', 'GCA Types Def']],\n",
    "          df3[['Performance CrdY', 'Performance CrdR', 'Performance 2CrdY', 'Performance Fls', 'Performance Fld', 'Performance Off', 'Performance Crs', 'Performance Int', 'Performance TklW', 'Performance PKwon', 'Performance PKcon', 'Performance OG', 'Performance Recov', 'Aerial Duels Won', 'Aerial Duels Lost']],\n",
    "          df4[['Total Cmp', 'Total Att', 'Total Cmp%', 'Total TotDist', 'Total PrgDist', 'Short Cmp', 'Short Att', 'Medium Cmp', 'Medium Att', 'Long Cmp', 'Long Att', 'Ast', 'xAG', 'Expected xA', 'Expected A-xAG', 'KP', '1/3', 'PPA', 'CrsPA', 'PrgP']],\n",
    "          df5[['Touches Touches', 'Touches Def Pen', 'Touches Def 3rd', 'Touches Mid 3rd', 'Touches Att 3rd', 'Touches Att Pen', 'Touches Live', 'Take-Ons Att', 'Take-Ons Succ', 'Take-Ons Tkld', 'Carries Carries', 'Carries TotDist', 'Carries PrgDist', 'Carries PrgC', 'Carries 1/3', 'Carries CPA', 'Carries Mis', 'Carries Dis', 'Receiving Rec', 'Receiving PrgR']],\n",
    "          df6[['Standard Gls', 'Standard Sh', 'Standard SoT','Standard Sh/90', 'Standard SoT/90', 'Standard G/Sh', 'Standard G/SoT', 'Standard Dist', 'Standard FK', 'Standard PK', 'Standard PKatt', 'Expected xG', 'Expected npxG', 'Expected npxG/Sh', 'Expected G-xG', 'Expected np:G-xG']]]\n",
    "players = pd.concat(frames, axis=1)"
   ]
  },
  {
   "cell_type": "code",
   "execution_count": 33,
   "metadata": {},
   "outputs": [],
   "source": [
    "url = 'https://raw.githubusercontent.com/sambuddharay/FinalYearProject/main/scrapping/data/Premier-League-Stats/2022-2023/player/Premier-League-Stats-2022-2023-keepers-player.csv'\n",
    "df7 = pd.read_csv(url)\n",
    "url = 'https://raw.githubusercontent.com/sambuddharay/FinalYearProject/main/scrapping/data/Premier-League-Stats/2022-2023/player/Premier-League-Stats-2022-2023-keepersadv-player.csv'\n",
    "df8 = pd.read_csv(url)"
   ]
  },
  {
   "cell_type": "code",
   "execution_count": 34,
   "metadata": {},
   "outputs": [],
   "source": [
    "df7=df7[df7['Playing Time 90s']>0]\n",
    "df8=df8[df8['90s']>0]\n",
    "frames = [df7[['Player', 'Performance GA', 'Performance GA90', 'Performance SoTA', 'Performance Saves', 'Performance Save%', 'Performance W', 'Performance D', 'Performance L', 'Performance CS', 'Performance CS%', 'Penalty Kicks PKatt', 'Penalty Kicks PKA', 'Penalty Kicks PKsv', 'Penalty Kicks PKm']],\n",
    "          df8[['Goals GA', 'Goals PKA', 'Goals FK', 'Goals CK', 'Goals OG', 'Expected PSxG', 'Expected PSxG/SoT', 'Expected PSxG+/-', 'Expected /90', 'Launched Cmp', 'Launched Att', 'Launched Cmp%', 'Passes Att (GK)', 'Passes Thr', 'Passes Launch%', 'Passes AvgLen', 'Goal Kicks Att', 'Goal Kicks Launch%', 'Goal Kicks AvgLen', 'Crosses Opp', 'Crosses Stp', 'Crosses Stp%', 'Sweeper #OPA', 'Sweeper #OPA/90', 'Sweeper AvgDist']]]\n",
    "goalkeepers = pd.concat(frames, axis=1)"
   ]
  },
  {
   "cell_type": "code",
   "execution_count": 35,
   "metadata": {},
   "outputs": [],
   "source": [
    "players = players.replace(np.nan, 0)\n",
    "goalkeepers = goalkeepers.replace(np.nan, 0)\n",
    "utils.append_X_train(X_train, players, goalkeepers)"
   ]
  },
  {
   "cell_type": "code",
   "execution_count": 36,
   "metadata": {},
   "outputs": [
    {
     "data": {
      "text/plain": [
       "(100, 60, 142)"
      ]
     },
     "execution_count": 36,
     "metadata": {},
     "output_type": "execute_result"
    }
   ],
   "source": [
    "np.array(X_train).shape"
   ]
  },
  {
   "cell_type": "code",
   "execution_count": 37,
   "metadata": {},
   "outputs": [],
   "source": [
    "url = 'https://raw.githubusercontent.com/sambuddharay/FinalYearProject/main/scrapping/data/Serie-A-Stats/2018-2019/player/Serie-A-Stats-2018-2019-defense-player.csv'\n",
    "df1 = pd.read_csv(url)\n",
    "url = 'https://raw.githubusercontent.com/sambuddharay/FinalYearProject/main/scrapping/data/Serie-A-Stats/2018-2019/player/Serie-A-Stats-2018-2019-gca-player.csv'\n",
    "df2 = pd.read_csv(url)\n",
    "url = 'https://raw.githubusercontent.com/sambuddharay/FinalYearProject/main/scrapping/data/Serie-A-Stats/2018-2019/player/Serie-A-Stats-2018-2019-misc-player.csv'\n",
    "df3 = pd.read_csv(url)\n",
    "url = 'https://raw.githubusercontent.com/sambuddharay/FinalYearProject/main/scrapping/data/Serie-A-Stats/2018-2019/player/Serie-A-Stats-2018-2019-passing-player.csv'\n",
    "df4 = pd.read_csv(url)\n",
    "url = 'https://raw.githubusercontent.com/sambuddharay/FinalYearProject/main/scrapping/data/Serie-A-Stats/2018-2019/player/Serie-A-Stats-2018-2019-possession-player.csv'\n",
    "df5 = pd.read_csv(url)\n",
    "url = 'https://raw.githubusercontent.com/sambuddharay/FinalYearProject/main/scrapping/data/Serie-A-Stats/2018-2019/player/Serie-A-Stats-2018-2019-shooting-player.csv'\n",
    "df6 = pd.read_csv(url)"
   ]
  },
  {
   "cell_type": "code",
   "execution_count": 38,
   "metadata": {},
   "outputs": [],
   "source": [
    "frames = [df1[['Player', 'Nation', 'Pos', 'Squad', 'Born', '90s', 'Tackles Tkl', 'Tackles TklW', 'Tackles Def 3rd', 'Tackles Mid 3rd', 'Tackles Att 3rd', 'Challenges Tkl', 'Challenges Att', 'Challenges Lost', 'Blocks Blocks', 'Blocks Sh', 'Blocks Pass', 'Int', 'Tkl+Int', 'Clr', 'Err']],\n",
    "          df2[['SCA SCA', 'SCA SCA90', 'SCA Types PassLive', 'SCA Types PassDead', 'SCA Types TO', 'SCA Types Sh', 'SCA Types Fld', 'SCA Types Def', 'GCA GCA', 'GCA GCA90', 'GCA Types PassLive', 'GCA Types PassDead', 'GCA Types TO', 'GCA Types Sh', 'GCA Types Fld', 'GCA Types Def']],\n",
    "          df3[['Performance CrdY', 'Performance CrdR', 'Performance 2CrdY', 'Performance Fls', 'Performance Fld', 'Performance Off', 'Performance Crs', 'Performance Int', 'Performance TklW', 'Performance PKwon', 'Performance PKcon', 'Performance OG', 'Performance Recov', 'Aerial Duels Won', 'Aerial Duels Lost']],\n",
    "          df4[['Total Cmp', 'Total Att', 'Total Cmp%', 'Total TotDist', 'Total PrgDist', 'Short Cmp', 'Short Att', 'Medium Cmp', 'Medium Att', 'Long Cmp', 'Long Att', 'Ast', 'xAG', 'Expected xA', 'Expected A-xAG', 'KP', '1/3', 'PPA', 'CrsPA', 'PrgP']],\n",
    "          df5[['Touches Touches', 'Touches Def Pen', 'Touches Def 3rd', 'Touches Mid 3rd', 'Touches Att 3rd', 'Touches Att Pen', 'Touches Live', 'Take-Ons Att', 'Take-Ons Succ', 'Take-Ons Tkld', 'Carries Carries', 'Carries TotDist', 'Carries PrgDist', 'Carries PrgC', 'Carries 1/3', 'Carries CPA', 'Carries Mis', 'Carries Dis', 'Receiving Rec', 'Receiving PrgR']],\n",
    "          df6[['Standard Gls', 'Standard Sh', 'Standard SoT','Standard Sh/90', 'Standard SoT/90', 'Standard G/Sh', 'Standard G/SoT', 'Standard Dist', 'Standard FK', 'Standard PK', 'Standard PKatt', 'Expected xG', 'Expected npxG', 'Expected npxG/Sh', 'Expected G-xG', 'Expected np:G-xG']]]\n",
    "players = pd.concat(frames, axis=1)"
   ]
  },
  {
   "cell_type": "code",
   "execution_count": 39,
   "metadata": {},
   "outputs": [],
   "source": [
    "url = 'https://raw.githubusercontent.com/sambuddharay/FinalYearProject/main/scrapping/data/Serie-A-Stats/2018-2019/player/Serie-A-Stats-2018-2019-keepers-player.csv'\n",
    "df7 = pd.read_csv(url)\n",
    "url = 'https://raw.githubusercontent.com/sambuddharay/FinalYearProject/main/scrapping/data/Serie-A-Stats/2018-2019/player/Serie-A-Stats-2018-2019-keepersadv-player.csv'\n",
    "df8 = pd.read_csv(url)"
   ]
  },
  {
   "cell_type": "code",
   "execution_count": 40,
   "metadata": {},
   "outputs": [],
   "source": [
    "df7=df7[df7['Playing Time 90s']>0]\n",
    "df8=df8[df8['90s']>0]\n",
    "frames = [df7[['Player', 'Performance GA', 'Performance GA90', 'Performance SoTA', 'Performance Saves', 'Performance Save%', 'Performance W', 'Performance D', 'Performance L', 'Performance CS', 'Performance CS%', 'Penalty Kicks PKatt', 'Penalty Kicks PKA', 'Penalty Kicks PKsv', 'Penalty Kicks PKm']],\n",
    "          df8[['Goals GA', 'Goals PKA', 'Goals FK', 'Goals CK', 'Goals OG', 'Expected PSxG', 'Expected PSxG/SoT', 'Expected PSxG+/-', 'Expected /90', 'Launched Cmp', 'Launched Att', 'Launched Cmp%', 'Passes Att (GK)', 'Passes Thr', 'Passes Launch%', 'Passes AvgLen', 'Goal Kicks Att', 'Goal Kicks Launch%', 'Goal Kicks AvgLen', 'Crosses Opp', 'Crosses Stp', 'Crosses Stp%', 'Sweeper #OPA', 'Sweeper #OPA/90', 'Sweeper AvgDist']]]\n",
    "goalkeepers = pd.concat(frames, axis=1)"
   ]
  },
  {
   "cell_type": "code",
   "execution_count": 41,
   "metadata": {},
   "outputs": [],
   "source": [
    "players = players.replace(np.nan, 0)\n",
    "goalkeepers = goalkeepers.replace(np.nan, 0)\n",
    "utils.append_X_train(X_train, players, goalkeepers)"
   ]
  },
  {
   "cell_type": "code",
   "execution_count": 42,
   "metadata": {},
   "outputs": [
    {
     "data": {
      "text/plain": [
       "(120, 60, 142)"
      ]
     },
     "execution_count": 42,
     "metadata": {},
     "output_type": "execute_result"
    }
   ],
   "source": [
    "np.array(X_train).shape"
   ]
  },
  {
   "cell_type": "code",
   "execution_count": 43,
   "metadata": {},
   "outputs": [],
   "source": [
    "url = 'https://raw.githubusercontent.com/sambuddharay/FinalYearProject/main/scrapping/data/Serie-A-Stats/2019-2020/player/Serie-A-Stats-2019-2020-defense-player.csv'\n",
    "df1 = pd.read_csv(url)\n",
    "url = 'https://raw.githubusercontent.com/sambuddharay/FinalYearProject/main/scrapping/data/Serie-A-Stats/2019-2020/player/Serie-A-Stats-2019-2020-gca-player.csv'\n",
    "df2 = pd.read_csv(url)\n",
    "url = 'https://raw.githubusercontent.com/sambuddharay/FinalYearProject/main/scrapping/data/Serie-A-Stats/2019-2020/player/Serie-A-Stats-2019-2020-misc-player.csv'\n",
    "df3 = pd.read_csv(url)\n",
    "url = 'https://raw.githubusercontent.com/sambuddharay/FinalYearProject/main/scrapping/data/Serie-A-Stats/2019-2020/player/Serie-A-Stats-2019-2020-passing-player.csv'\n",
    "df4 = pd.read_csv(url)\n",
    "url = 'https://raw.githubusercontent.com/sambuddharay/FinalYearProject/main/scrapping/data/Serie-A-Stats/2019-2020/player/Serie-A-Stats-2019-2020-possession-player.csv'\n",
    "df5 = pd.read_csv(url)\n",
    "url = 'https://raw.githubusercontent.com/sambuddharay/FinalYearProject/main/scrapping/data/Serie-A-Stats/2019-2020/player/Serie-A-Stats-2019-2020-shooting-player.csv'\n",
    "df6 = pd.read_csv(url)"
   ]
  },
  {
   "cell_type": "code",
   "execution_count": 44,
   "metadata": {},
   "outputs": [],
   "source": [
    "frames = [df1[['Player', 'Nation', 'Pos', 'Squad', 'Born', '90s', 'Tackles Tkl', 'Tackles TklW', 'Tackles Def 3rd', 'Tackles Mid 3rd', 'Tackles Att 3rd', 'Challenges Tkl', 'Challenges Att', 'Challenges Lost', 'Blocks Blocks', 'Blocks Sh', 'Blocks Pass', 'Int', 'Tkl+Int', 'Clr', 'Err']],\n",
    "          df2[['SCA SCA', 'SCA SCA90', 'SCA Types PassLive', 'SCA Types PassDead', 'SCA Types TO', 'SCA Types Sh', 'SCA Types Fld', 'SCA Types Def', 'GCA GCA', 'GCA GCA90', 'GCA Types PassLive', 'GCA Types PassDead', 'GCA Types TO', 'GCA Types Sh', 'GCA Types Fld', 'GCA Types Def']],\n",
    "          df3[['Performance CrdY', 'Performance CrdR', 'Performance 2CrdY', 'Performance Fls', 'Performance Fld', 'Performance Off', 'Performance Crs', 'Performance Int', 'Performance TklW', 'Performance PKwon', 'Performance PKcon', 'Performance OG', 'Performance Recov', 'Aerial Duels Won', 'Aerial Duels Lost']],\n",
    "          df4[['Total Cmp', 'Total Att', 'Total Cmp%', 'Total TotDist', 'Total PrgDist', 'Short Cmp', 'Short Att', 'Medium Cmp', 'Medium Att', 'Long Cmp', 'Long Att', 'Ast', 'xAG', 'Expected xA', 'Expected A-xAG', 'KP', '1/3', 'PPA', 'CrsPA', 'PrgP']],\n",
    "          df5[['Touches Touches', 'Touches Def Pen', 'Touches Def 3rd', 'Touches Mid 3rd', 'Touches Att 3rd', 'Touches Att Pen', 'Touches Live', 'Take-Ons Att', 'Take-Ons Succ', 'Take-Ons Tkld', 'Carries Carries', 'Carries TotDist', 'Carries PrgDist', 'Carries PrgC', 'Carries 1/3', 'Carries CPA', 'Carries Mis', 'Carries Dis', 'Receiving Rec', 'Receiving PrgR']],\n",
    "          df6[['Standard Gls', 'Standard Sh', 'Standard SoT','Standard Sh/90', 'Standard SoT/90', 'Standard G/Sh', 'Standard G/SoT', 'Standard Dist', 'Standard FK', 'Standard PK', 'Standard PKatt', 'Expected xG', 'Expected npxG', 'Expected npxG/Sh', 'Expected G-xG', 'Expected np:G-xG']]]\n",
    "players = pd.concat(frames, axis=1)"
   ]
  },
  {
   "cell_type": "code",
   "execution_count": 45,
   "metadata": {},
   "outputs": [],
   "source": [
    "url = 'https://raw.githubusercontent.com/sambuddharay/FinalYearProject/main/scrapping/data/Serie-A-Stats/2019-2020/player/Serie-A-Stats-2019-2020-keepers-player.csv'\n",
    "df7 = pd.read_csv(url)\n",
    "url = 'https://raw.githubusercontent.com/sambuddharay/FinalYearProject/main/scrapping/data/Serie-A-Stats/2019-2020/player/Serie-A-Stats-2019-2020-keepersadv-player.csv'\n",
    "df8 = pd.read_csv(url)"
   ]
  },
  {
   "cell_type": "code",
   "execution_count": 46,
   "metadata": {},
   "outputs": [],
   "source": [
    "df7=df7[df7['Playing Time 90s']>0]\n",
    "df8=df8[df8['90s']>0]\n",
    "frames = [df7[['Player', 'Performance GA', 'Performance GA90', 'Performance SoTA', 'Performance Saves', 'Performance Save%', 'Performance W', 'Performance D', 'Performance L', 'Performance CS', 'Performance CS%', 'Penalty Kicks PKatt', 'Penalty Kicks PKA', 'Penalty Kicks PKsv', 'Penalty Kicks PKm']],\n",
    "          df8[['Goals GA', 'Goals PKA', 'Goals FK', 'Goals CK', 'Goals OG', 'Expected PSxG', 'Expected PSxG/SoT', 'Expected PSxG+/-', 'Expected /90', 'Launched Cmp', 'Launched Att', 'Launched Cmp%', 'Passes Att (GK)', 'Passes Thr', 'Passes Launch%', 'Passes AvgLen', 'Goal Kicks Att', 'Goal Kicks Launch%', 'Goal Kicks AvgLen', 'Crosses Opp', 'Crosses Stp', 'Crosses Stp%', 'Sweeper #OPA', 'Sweeper #OPA/90', 'Sweeper AvgDist']]]\n",
    "goalkeepers = pd.concat(frames, axis=1)"
   ]
  },
  {
   "cell_type": "code",
   "execution_count": 47,
   "metadata": {},
   "outputs": [],
   "source": [
    "players = players.replace(np.nan, 0)\n",
    "goalkeepers = goalkeepers.replace(np.nan, 0)\n",
    "utils.append_X_train(X_train, players, goalkeepers)"
   ]
  },
  {
   "cell_type": "code",
   "execution_count": 48,
   "metadata": {},
   "outputs": [
    {
     "data": {
      "text/plain": [
       "(140, 60, 142)"
      ]
     },
     "execution_count": 48,
     "metadata": {},
     "output_type": "execute_result"
    }
   ],
   "source": [
    "np.array(X_train).shape"
   ]
  },
  {
   "cell_type": "code",
   "execution_count": 49,
   "metadata": {},
   "outputs": [],
   "source": [
    "url = 'https://raw.githubusercontent.com/sambuddharay/FinalYearProject/main/scrapping/data/Serie-A-Stats/2020-2021/player/Serie-A-Stats-2020-2021-defense-player.csv'\n",
    "df1 = pd.read_csv(url)\n",
    "url = 'https://raw.githubusercontent.com/sambuddharay/FinalYearProject/main/scrapping/data/Serie-A-Stats/2020-2021/player/Serie-A-Stats-2020-2021-gca-player.csv'\n",
    "df2 = pd.read_csv(url)\n",
    "url = 'https://raw.githubusercontent.com/sambuddharay/FinalYearProject/main/scrapping/data/Serie-A-Stats/2020-2021/player/Serie-A-Stats-2020-2021-misc-player.csv'\n",
    "df3 = pd.read_csv(url)\n",
    "url = 'https://raw.githubusercontent.com/sambuddharay/FinalYearProject/main/scrapping/data/Serie-A-Stats/2020-2021/player/Serie-A-Stats-2020-2021-passing-player.csv'\n",
    "df4 = pd.read_csv(url)\n",
    "url = 'https://raw.githubusercontent.com/sambuddharay/FinalYearProject/main/scrapping/data/Serie-A-Stats/2020-2021/player/Serie-A-Stats-2020-2021-possession-player.csv'\n",
    "df5 = pd.read_csv(url)\n",
    "url = 'https://raw.githubusercontent.com/sambuddharay/FinalYearProject/main/scrapping/data/Serie-A-Stats/2020-2021/player/Serie-A-Stats-2020-2021-shooting-player.csv'\n",
    "df6 = pd.read_csv(url)"
   ]
  },
  {
   "cell_type": "code",
   "execution_count": 50,
   "metadata": {},
   "outputs": [],
   "source": [
    "frames = [df1[['Player', 'Nation', 'Pos', 'Squad', 'Born', '90s', 'Tackles Tkl', 'Tackles TklW', 'Tackles Def 3rd', 'Tackles Mid 3rd', 'Tackles Att 3rd', 'Challenges Tkl', 'Challenges Att', 'Challenges Lost', 'Blocks Blocks', 'Blocks Sh', 'Blocks Pass', 'Int', 'Tkl+Int', 'Clr', 'Err']],\n",
    "          df2[['SCA SCA', 'SCA SCA90', 'SCA Types PassLive', 'SCA Types PassDead', 'SCA Types TO', 'SCA Types Sh', 'SCA Types Fld', 'SCA Types Def', 'GCA GCA', 'GCA GCA90', 'GCA Types PassLive', 'GCA Types PassDead', 'GCA Types TO', 'GCA Types Sh', 'GCA Types Fld', 'GCA Types Def']],\n",
    "          df3[['Performance CrdY', 'Performance CrdR', 'Performance 2CrdY', 'Performance Fls', 'Performance Fld', 'Performance Off', 'Performance Crs', 'Performance Int', 'Performance TklW', 'Performance PKwon', 'Performance PKcon', 'Performance OG', 'Performance Recov', 'Aerial Duels Won', 'Aerial Duels Lost']],\n",
    "          df4[['Total Cmp', 'Total Att', 'Total Cmp%', 'Total TotDist', 'Total PrgDist', 'Short Cmp', 'Short Att', 'Medium Cmp', 'Medium Att', 'Long Cmp', 'Long Att', 'Ast', 'xAG', 'Expected xA', 'Expected A-xAG', 'KP', '1/3', 'PPA', 'CrsPA', 'PrgP']],\n",
    "          df5[['Touches Touches', 'Touches Def Pen', 'Touches Def 3rd', 'Touches Mid 3rd', 'Touches Att 3rd', 'Touches Att Pen', 'Touches Live', 'Take-Ons Att', 'Take-Ons Succ', 'Take-Ons Tkld', 'Carries Carries', 'Carries TotDist', 'Carries PrgDist', 'Carries PrgC', 'Carries 1/3', 'Carries CPA', 'Carries Mis', 'Carries Dis', 'Receiving Rec', 'Receiving PrgR']],\n",
    "          df6[['Standard Gls', 'Standard Sh', 'Standard SoT','Standard Sh/90', 'Standard SoT/90', 'Standard G/Sh', 'Standard G/SoT', 'Standard Dist', 'Standard FK', 'Standard PK', 'Standard PKatt', 'Expected xG', 'Expected npxG', 'Expected npxG/Sh', 'Expected G-xG', 'Expected np:G-xG']]]\n",
    "players = pd.concat(frames, axis=1)"
   ]
  },
  {
   "cell_type": "code",
   "execution_count": 51,
   "metadata": {},
   "outputs": [],
   "source": [
    "url = 'https://raw.githubusercontent.com/sambuddharay/FinalYearProject/main/scrapping/data/Serie-A-Stats/2020-2021/player/Serie-A-Stats-2020-2021-keepers-player.csv'\n",
    "df7 = pd.read_csv(url)\n",
    "url = 'https://raw.githubusercontent.com/sambuddharay/FinalYearProject/main/scrapping/data/Serie-A-Stats/2020-2021/player/Serie-A-Stats-2020-2021-keepersadv-player.csv'\n",
    "df8 = pd.read_csv(url)"
   ]
  },
  {
   "cell_type": "code",
   "execution_count": 52,
   "metadata": {},
   "outputs": [],
   "source": [
    "df7=df7[df7['Playing Time 90s']>0]\n",
    "df8=df8[df8['90s']>0]\n",
    "frames = [df7[['Player', 'Performance GA', 'Performance GA90', 'Performance SoTA', 'Performance Saves', 'Performance Save%', 'Performance W', 'Performance D', 'Performance L', 'Performance CS', 'Performance CS%', 'Penalty Kicks PKatt', 'Penalty Kicks PKA', 'Penalty Kicks PKsv', 'Penalty Kicks PKm']],\n",
    "          df8[['Goals GA', 'Goals PKA', 'Goals FK', 'Goals CK', 'Goals OG', 'Expected PSxG', 'Expected PSxG/SoT', 'Expected PSxG+/-', 'Expected /90', 'Launched Cmp', 'Launched Att', 'Launched Cmp%', 'Passes Att (GK)', 'Passes Thr', 'Passes Launch%', 'Passes AvgLen', 'Goal Kicks Att', 'Goal Kicks Launch%', 'Goal Kicks AvgLen', 'Crosses Opp', 'Crosses Stp', 'Crosses Stp%', 'Sweeper #OPA', 'Sweeper #OPA/90', 'Sweeper AvgDist']]]\n",
    "goalkeepers = pd.concat(frames, axis=1)"
   ]
  },
  {
   "cell_type": "code",
   "execution_count": 53,
   "metadata": {},
   "outputs": [
    {
     "data": {
      "text/plain": [
       "Parma            42\n",
       "Bologna          37\n",
       "Spezia           35\n",
       "Genoa            34\n",
       "Udinese          33\n",
       "Cagliari         32\n",
       "Hellas Verona    32\n",
       "Crotone          31\n",
       "Roma             31\n",
       "Lazio            30\n",
       "Atalanta         30\n",
       "Fiorentina       30\n",
       "Juventus         30\n",
       "Torino           29\n",
       "Benevento        29\n",
       "Milan            29\n",
       "Sassuolo         28\n",
       "Sampdoria        27\n",
       "Napoli           25\n",
       "Inter            25\n",
       "Name: Squad, dtype: int64"
      ]
     },
     "execution_count": 53,
     "metadata": {},
     "output_type": "execute_result"
    }
   ],
   "source": [
    "df1['Squad'].value_counts()"
   ]
  },
  {
   "cell_type": "code",
   "execution_count": 54,
   "metadata": {},
   "outputs": [],
   "source": [
    "players = players.replace(np.nan, 0)\n",
    "goalkeepers = goalkeepers.replace(np.nan, 0)\n",
    "utils.append_X_train(X_train, players, goalkeepers)"
   ]
  },
  {
   "cell_type": "code",
   "execution_count": 55,
   "metadata": {},
   "outputs": [],
   "source": [
    "url = 'https://raw.githubusercontent.com/sambuddharay/FinalYearProject/main/scrapping/data/Serie-A-Stats/2021-2022/player/Serie-A-Stats-2021-2022-defense-player.csv'\n",
    "df1 = pd.read_csv(url)\n",
    "url = 'https://raw.githubusercontent.com/sambuddharay/FinalYearProject/main/scrapping/data/Serie-A-Stats/2021-2022/player/Serie-A-Stats-2021-2022-gca-player.csv'\n",
    "df2 = pd.read_csv(url)\n",
    "url = 'https://raw.githubusercontent.com/sambuddharay/FinalYearProject/main/scrapping/data/Serie-A-Stats/2021-2022/player/Serie-A-Stats-2021-2022-misc-player.csv'\n",
    "df3 = pd.read_csv(url)\n",
    "url = 'https://raw.githubusercontent.com/sambuddharay/FinalYearProject/main/scrapping/data/Serie-A-Stats/2021-2022/player/Serie-A-Stats-2021-2022-passing-player.csv'\n",
    "df4 = pd.read_csv(url)\n",
    "url = 'https://raw.githubusercontent.com/sambuddharay/FinalYearProject/main/scrapping/data/Serie-A-Stats/2021-2022/player/Serie-A-Stats-2021-2022-possession-player.csv'\n",
    "df5 = pd.read_csv(url)\n",
    "url = 'https://raw.githubusercontent.com/sambuddharay/FinalYearProject/main/scrapping/data/Serie-A-Stats/2021-2022/player/Serie-A-Stats-2021-2022-shooting-player.csv'\n",
    "df6 = pd.read_csv(url)"
   ]
  },
  {
   "cell_type": "code",
   "execution_count": 56,
   "metadata": {},
   "outputs": [],
   "source": [
    "frames = [df1[['Player', 'Nation', 'Pos', 'Squad', 'Born', '90s', 'Tackles Tkl', 'Tackles TklW', 'Tackles Def 3rd', 'Tackles Mid 3rd', 'Tackles Att 3rd', 'Challenges Tkl', 'Challenges Att', 'Challenges Lost', 'Blocks Blocks', 'Blocks Sh', 'Blocks Pass', 'Int', 'Tkl+Int', 'Clr', 'Err']],\n",
    "          df2[['SCA SCA', 'SCA SCA90', 'SCA Types PassLive', 'SCA Types PassDead', 'SCA Types TO', 'SCA Types Sh', 'SCA Types Fld', 'SCA Types Def', 'GCA GCA', 'GCA GCA90', 'GCA Types PassLive', 'GCA Types PassDead', 'GCA Types TO', 'GCA Types Sh', 'GCA Types Fld', 'GCA Types Def']],\n",
    "          df3[['Performance CrdY', 'Performance CrdR', 'Performance 2CrdY', 'Performance Fls', 'Performance Fld', 'Performance Off', 'Performance Crs', 'Performance Int', 'Performance TklW', 'Performance PKwon', 'Performance PKcon', 'Performance OG', 'Performance Recov', 'Aerial Duels Won', 'Aerial Duels Lost']],\n",
    "          df4[['Total Cmp', 'Total Att', 'Total Cmp%', 'Total TotDist', 'Total PrgDist', 'Short Cmp', 'Short Att', 'Medium Cmp', 'Medium Att', 'Long Cmp', 'Long Att', 'Ast', 'xAG', 'Expected xA', 'Expected A-xAG', 'KP', '1/3', 'PPA', 'CrsPA', 'PrgP']],\n",
    "          df5[['Touches Touches', 'Touches Def Pen', 'Touches Def 3rd', 'Touches Mid 3rd', 'Touches Att 3rd', 'Touches Att Pen', 'Touches Live', 'Take-Ons Att', 'Take-Ons Succ', 'Take-Ons Tkld', 'Carries Carries', 'Carries TotDist', 'Carries PrgDist', 'Carries PrgC', 'Carries 1/3', 'Carries CPA', 'Carries Mis', 'Carries Dis', 'Receiving Rec', 'Receiving PrgR']],\n",
    "          df6[['Standard Gls', 'Standard Sh', 'Standard SoT','Standard Sh/90', 'Standard SoT/90', 'Standard G/Sh', 'Standard G/SoT', 'Standard Dist', 'Standard FK', 'Standard PK', 'Standard PKatt', 'Expected xG', 'Expected npxG', 'Expected npxG/Sh', 'Expected G-xG', 'Expected np:G-xG']]]\n",
    "players = pd.concat(frames, axis=1)"
   ]
  },
  {
   "cell_type": "code",
   "execution_count": 57,
   "metadata": {},
   "outputs": [],
   "source": [
    "url = 'https://raw.githubusercontent.com/sambuddharay/FinalYearProject/main/scrapping/data/Serie-A-Stats/2021-2022/player/Serie-A-Stats-2021-2022-keepers-player.csv'\n",
    "df7 = pd.read_csv(url)\n",
    "url = 'https://raw.githubusercontent.com/sambuddharay/FinalYearProject/main/scrapping/data/Serie-A-Stats/2021-2022/player/Serie-A-Stats-2021-2022-keepersadv-player.csv'\n",
    "df8 = pd.read_csv(url)"
   ]
  },
  {
   "cell_type": "code",
   "execution_count": 58,
   "metadata": {},
   "outputs": [],
   "source": [
    "df7=df7[df7['Playing Time 90s']>0]\n",
    "df8=df8[df8['90s']>0]\n",
    "frames = [df7[['Player', 'Performance GA', 'Performance GA90', 'Performance SoTA', 'Performance Saves', 'Performance Save%', 'Performance W', 'Performance D', 'Performance L', 'Performance CS', 'Performance CS%', 'Penalty Kicks PKatt', 'Penalty Kicks PKA', 'Penalty Kicks PKsv', 'Penalty Kicks PKm']],\n",
    "          df8[['Goals GA', 'Goals PKA', 'Goals FK', 'Goals CK', 'Goals OG', 'Expected PSxG', 'Expected PSxG/SoT', 'Expected PSxG+/-', 'Expected /90', 'Launched Cmp', 'Launched Att', 'Launched Cmp%', 'Passes Att (GK)', 'Passes Thr', 'Passes Launch%', 'Passes AvgLen', 'Goal Kicks Att', 'Goal Kicks Launch%', 'Goal Kicks AvgLen', 'Crosses Opp', 'Crosses Stp', 'Crosses Stp%', 'Sweeper #OPA', 'Sweeper #OPA/90', 'Sweeper AvgDist']]]\n",
    "goalkeepers = pd.concat(frames, axis=1)"
   ]
  },
  {
   "cell_type": "code",
   "execution_count": 59,
   "metadata": {},
   "outputs": [],
   "source": [
    "players = players.replace(np.nan, 0)\n",
    "goalkeepers = goalkeepers.replace(np.nan, 0)\n",
    "utils.append_X_train(X_train, players, goalkeepers)"
   ]
  },
  {
   "cell_type": "code",
   "execution_count": 60,
   "metadata": {},
   "outputs": [],
   "source": [
    "url = 'https://raw.githubusercontent.com/sambuddharay/FinalYearProject/main/scrapping/data/Serie-A-Stats/2022-2023/player/Serie-A-Stats-2022-2023-defense-player.csv'\n",
    "df1 = pd.read_csv(url)\n",
    "url = 'https://raw.githubusercontent.com/sambuddharay/FinalYearProject/main/scrapping/data/Serie-A-Stats/2022-2023/player/Serie-A-Stats-2022-2023-gca-player.csv'\n",
    "df2 = pd.read_csv(url)\n",
    "url = 'https://raw.githubusercontent.com/sambuddharay/FinalYearProject/main/scrapping/data/Serie-A-Stats/2022-2023/player/Serie-A-Stats-2022-2023-misc-player.csv'\n",
    "df3 = pd.read_csv(url)\n",
    "url = 'https://raw.githubusercontent.com/sambuddharay/FinalYearProject/main/scrapping/data/Serie-A-Stats/2022-2023/player/Serie-A-Stats-2022-2023-passing-player.csv'\n",
    "df4 = pd.read_csv(url)\n",
    "url = 'https://raw.githubusercontent.com/sambuddharay/FinalYearProject/main/scrapping/data/Serie-A-Stats/2022-2023/player/Serie-A-Stats-2022-2023-possession-player.csv'\n",
    "df5 = pd.read_csv(url)\n",
    "url = 'https://raw.githubusercontent.com/sambuddharay/FinalYearProject/main/scrapping/data/Serie-A-Stats/2022-2023/player/Serie-A-Stats-2022-2023-shooting-player.csv'\n",
    "df6 = pd.read_csv(url)"
   ]
  },
  {
   "cell_type": "code",
   "execution_count": 61,
   "metadata": {},
   "outputs": [],
   "source": [
    "frames = [df1[['Player', 'Nation', 'Pos', 'Squad', 'Born', '90s', 'Tackles Tkl', 'Tackles TklW', 'Tackles Def 3rd', 'Tackles Mid 3rd', 'Tackles Att 3rd', 'Challenges Tkl', 'Challenges Att', 'Challenges Lost', 'Blocks Blocks', 'Blocks Sh', 'Blocks Pass', 'Int', 'Tkl+Int', 'Clr', 'Err']],\n",
    "          df2[['SCA SCA', 'SCA SCA90', 'SCA Types PassLive', 'SCA Types PassDead', 'SCA Types TO', 'SCA Types Sh', 'SCA Types Fld', 'SCA Types Def', 'GCA GCA', 'GCA GCA90', 'GCA Types PassLive', 'GCA Types PassDead', 'GCA Types TO', 'GCA Types Sh', 'GCA Types Fld', 'GCA Types Def']],\n",
    "          df3[['Performance CrdY', 'Performance CrdR', 'Performance 2CrdY', 'Performance Fls', 'Performance Fld', 'Performance Off', 'Performance Crs', 'Performance Int', 'Performance TklW', 'Performance PKwon', 'Performance PKcon', 'Performance OG', 'Performance Recov', 'Aerial Duels Won', 'Aerial Duels Lost']],\n",
    "          df4[['Total Cmp', 'Total Att', 'Total Cmp%', 'Total TotDist', 'Total PrgDist', 'Short Cmp', 'Short Att', 'Medium Cmp', 'Medium Att', 'Long Cmp', 'Long Att', 'Ast', 'xAG', 'Expected xA', 'Expected A-xAG', 'KP', '1/3', 'PPA', 'CrsPA', 'PrgP']],\n",
    "          df5[['Touches Touches', 'Touches Def Pen', 'Touches Def 3rd', 'Touches Mid 3rd', 'Touches Att 3rd', 'Touches Att Pen', 'Touches Live', 'Take-Ons Att', 'Take-Ons Succ', 'Take-Ons Tkld', 'Carries Carries', 'Carries TotDist', 'Carries PrgDist', 'Carries PrgC', 'Carries 1/3', 'Carries CPA', 'Carries Mis', 'Carries Dis', 'Receiving Rec', 'Receiving PrgR']],\n",
    "          df6[['Standard Gls', 'Standard Sh', 'Standard SoT','Standard Sh/90', 'Standard SoT/90', 'Standard G/Sh', 'Standard G/SoT', 'Standard Dist', 'Standard FK', 'Standard PK', 'Standard PKatt', 'Expected xG', 'Expected npxG', 'Expected npxG/Sh', 'Expected G-xG', 'Expected np:G-xG']]]\n",
    "players = pd.concat(frames, axis=1)"
   ]
  },
  {
   "cell_type": "code",
   "execution_count": 62,
   "metadata": {},
   "outputs": [],
   "source": [
    "url = 'https://raw.githubusercontent.com/sambuddharay/FinalYearProject/main/scrapping/data/Serie-A-Stats/2022-2023/player/Serie-A-Stats-2022-2023-keepers-player.csv'\n",
    "df7 = pd.read_csv(url)\n",
    "url = 'https://raw.githubusercontent.com/sambuddharay/FinalYearProject/main/scrapping/data/Serie-A-Stats/2022-2023/player/Serie-A-Stats-2022-2023-keepersadv-player.csv'\n",
    "df8 = pd.read_csv(url)"
   ]
  },
  {
   "cell_type": "code",
   "execution_count": 63,
   "metadata": {},
   "outputs": [],
   "source": [
    "df7=df7[df7['Playing Time 90s']>0]\n",
    "df8=df8[df8['90s']>0]\n",
    "frames = [df7[['Player', 'Performance GA', 'Performance GA90', 'Performance SoTA', 'Performance Saves', 'Performance Save%', 'Performance W', 'Performance D', 'Performance L', 'Performance CS', 'Performance CS%', 'Penalty Kicks PKatt', 'Penalty Kicks PKA', 'Penalty Kicks PKsv', 'Penalty Kicks PKm']],\n",
    "          df8[['Goals GA', 'Goals PKA', 'Goals FK', 'Goals CK', 'Goals OG', 'Expected PSxG', 'Expected PSxG/SoT', 'Expected PSxG+/-', 'Expected /90', 'Launched Cmp', 'Launched Att', 'Launched Cmp%', 'Passes Att (GK)', 'Passes Thr', 'Passes Launch%', 'Passes AvgLen', 'Goal Kicks Att', 'Goal Kicks Launch%', 'Goal Kicks AvgLen', 'Crosses Opp', 'Crosses Stp', 'Crosses Stp%', 'Sweeper #OPA', 'Sweeper #OPA/90', 'Sweeper AvgDist']]]\n",
    "goalkeepers = pd.concat(frames, axis=1)"
   ]
  },
  {
   "cell_type": "code",
   "execution_count": 64,
   "metadata": {},
   "outputs": [],
   "source": [
    "players = players.replace(np.nan, 0)\n",
    "goalkeepers = goalkeepers.replace(np.nan, 0)\n",
    "utils.append_X_train(X_train, players, goalkeepers)"
   ]
  },
  {
   "cell_type": "code",
   "execution_count": 65,
   "metadata": {},
   "outputs": [],
   "source": [
    "url = 'https://raw.githubusercontent.com/sambuddharay/FinalYearProject/main/scrapping/data/Bundesliga-Stats/2018-2019/player/Bundesliga-Stats-2018-2019-defense-player.csv'\n",
    "df1 = pd.read_csv(url)\n",
    "url = 'https://raw.githubusercontent.com/sambuddharay/FinalYearProject/main/scrapping/data/Bundesliga-Stats/2018-2019/player/Bundesliga-Stats-2018-2019-gca-player.csv'\n",
    "df2 = pd.read_csv(url)\n",
    "url = 'https://raw.githubusercontent.com/sambuddharay/FinalYearProject/main/scrapping/data/Bundesliga-Stats/2018-2019/player/Bundesliga-Stats-2018-2019-misc-player.csv'\n",
    "df3 = pd.read_csv(url)\n",
    "url = 'https://raw.githubusercontent.com/sambuddharay/FinalYearProject/main/scrapping/data/Bundesliga-Stats/2018-2019/player/Bundesliga-Stats-2018-2019-passing-player.csv'\n",
    "df4 = pd.read_csv(url)\n",
    "url = 'https://raw.githubusercontent.com/sambuddharay/FinalYearProject/main/scrapping/data/Bundesliga-Stats/2018-2019/player/Bundesliga-Stats-2018-2019-possession-player.csv'\n",
    "df5 = pd.read_csv(url)\n",
    "url = 'https://raw.githubusercontent.com/sambuddharay/FinalYearProject/main/scrapping/data/Bundesliga-Stats/2018-2019/player/Bundesliga-Stats-2018-2019-shooting-player.csv'\n",
    "df6 = pd.read_csv(url)"
   ]
  },
  {
   "cell_type": "code",
   "execution_count": 66,
   "metadata": {},
   "outputs": [],
   "source": [
    "frames = [df1[['Player', 'Nation', 'Pos', 'Squad', 'Born', '90s', 'Tackles Tkl', 'Tackles TklW', 'Tackles Def 3rd', 'Tackles Mid 3rd', 'Tackles Att 3rd', 'Challenges Tkl', 'Challenges Att', 'Challenges Lost', 'Blocks Blocks', 'Blocks Sh', 'Blocks Pass', 'Int', 'Tkl+Int', 'Clr', 'Err']],\n",
    "          df2[['SCA SCA', 'SCA SCA90', 'SCA Types PassLive', 'SCA Types PassDead', 'SCA Types TO', 'SCA Types Sh', 'SCA Types Fld', 'SCA Types Def', 'GCA GCA', 'GCA GCA90', 'GCA Types PassLive', 'GCA Types PassDead', 'GCA Types TO', 'GCA Types Sh', 'GCA Types Fld', 'GCA Types Def']],\n",
    "          df3[['Performance CrdY', 'Performance CrdR', 'Performance 2CrdY', 'Performance Fls', 'Performance Fld', 'Performance Off', 'Performance Crs', 'Performance Int', 'Performance TklW', 'Performance PKwon', 'Performance PKcon', 'Performance OG', 'Performance Recov', 'Aerial Duels Won', 'Aerial Duels Lost']],\n",
    "          df4[['Total Cmp', 'Total Att', 'Total Cmp%', 'Total TotDist', 'Total PrgDist', 'Short Cmp', 'Short Att', 'Medium Cmp', 'Medium Att', 'Long Cmp', 'Long Att', 'Ast', 'xAG', 'Expected xA', 'Expected A-xAG', 'KP', '1/3', 'PPA', 'CrsPA', 'PrgP']],\n",
    "          df5[['Touches Touches', 'Touches Def Pen', 'Touches Def 3rd', 'Touches Mid 3rd', 'Touches Att 3rd', 'Touches Att Pen', 'Touches Live', 'Take-Ons Att', 'Take-Ons Succ', 'Take-Ons Tkld', 'Carries Carries', 'Carries TotDist', 'Carries PrgDist', 'Carries PrgC', 'Carries 1/3', 'Carries CPA', 'Carries Mis', 'Carries Dis', 'Receiving Rec', 'Receiving PrgR']],\n",
    "          df6[['Standard Gls', 'Standard Sh', 'Standard SoT','Standard Sh/90', 'Standard SoT/90', 'Standard G/Sh', 'Standard G/SoT', 'Standard Dist', 'Standard FK', 'Standard PK', 'Standard PKatt', 'Expected xG', 'Expected npxG', 'Expected npxG/Sh', 'Expected G-xG', 'Expected np:G-xG']]]\n",
    "players = pd.concat(frames, axis=1)"
   ]
  },
  {
   "cell_type": "code",
   "execution_count": 67,
   "metadata": {},
   "outputs": [],
   "source": [
    "url = 'https://raw.githubusercontent.com/sambuddharay/FinalYearProject/main/scrapping/data/Bundesliga-Stats/2018-2019/player/Bundesliga-Stats-2018-2019-keepers-player.csv'\n",
    "df7 = pd.read_csv(url)\n",
    "url = 'https://raw.githubusercontent.com/sambuddharay/FinalYearProject/main/scrapping/data/Bundesliga-Stats/2018-2019/player/Bundesliga-Stats-2018-2019-keepersadv-player.csv'\n",
    "df8 = pd.read_csv(url)"
   ]
  },
  {
   "cell_type": "code",
   "execution_count": 68,
   "metadata": {},
   "outputs": [],
   "source": [
    "df7=df7[df7['Playing Time 90s']>0]\n",
    "df8=df8[df8['90s']>0]\n",
    "frames = [df7[['Player', 'Performance GA', 'Performance GA90', 'Performance SoTA', 'Performance Saves', 'Performance Save%', 'Performance W', 'Performance D', 'Performance L', 'Performance CS', 'Performance CS%', 'Penalty Kicks PKatt', 'Penalty Kicks PKA', 'Penalty Kicks PKsv', 'Penalty Kicks PKm']],\n",
    "          df8[['Goals GA', 'Goals PKA', 'Goals FK', 'Goals CK', 'Goals OG', 'Expected PSxG', 'Expected PSxG/SoT', 'Expected PSxG+/-', 'Expected /90', 'Launched Cmp', 'Launched Att', 'Launched Cmp%', 'Passes Att (GK)', 'Passes Thr', 'Passes Launch%', 'Passes AvgLen', 'Goal Kicks Att', 'Goal Kicks Launch%', 'Goal Kicks AvgLen', 'Crosses Opp', 'Crosses Stp', 'Crosses Stp%', 'Sweeper #OPA', 'Sweeper #OPA/90', 'Sweeper AvgDist']]]\n",
    "goalkeepers = pd.concat(frames, axis=1)"
   ]
  },
  {
   "cell_type": "code",
   "execution_count": 69,
   "metadata": {},
   "outputs": [],
   "source": [
    "players = players.replace(np.nan, 0)\n",
    "goalkeepers = goalkeepers.replace(np.nan, 0)\n",
    "utils.append_X_train(X_train, players, goalkeepers)"
   ]
  },
  {
   "cell_type": "code",
   "execution_count": 70,
   "metadata": {},
   "outputs": [],
   "source": [
    "url = 'https://raw.githubusercontent.com/sambuddharay/FinalYearProject/main/scrapping/data/Bundesliga-Stats/2019-2020/player/Bundesliga-Stats-2019-2020-defense-player.csv'\n",
    "df1 = pd.read_csv(url)\n",
    "url = 'https://raw.githubusercontent.com/sambuddharay/FinalYearProject/main/scrapping/data/Bundesliga-Stats/2019-2020/player/Bundesliga-Stats-2019-2020-gca-player.csv'\n",
    "df2 = pd.read_csv(url)\n",
    "url = 'https://raw.githubusercontent.com/sambuddharay/FinalYearProject/main/scrapping/data/Bundesliga-Stats/2019-2020/player/Bundesliga-Stats-2019-2020-misc-player.csv'\n",
    "df3 = pd.read_csv(url)\n",
    "url = 'https://raw.githubusercontent.com/sambuddharay/FinalYearProject/main/scrapping/data/Bundesliga-Stats/2019-2020/player/Bundesliga-Stats-2019-2020-passing-player.csv'\n",
    "df4 = pd.read_csv(url)\n",
    "url = 'https://raw.githubusercontent.com/sambuddharay/FinalYearProject/main/scrapping/data/Bundesliga-Stats/2019-2020/player/Bundesliga-Stats-2019-2020-possession-player.csv'\n",
    "df5 = pd.read_csv(url)\n",
    "url = 'https://raw.githubusercontent.com/sambuddharay/FinalYearProject/main/scrapping/data/Bundesliga-Stats/2019-2020/player/Bundesliga-Stats-2019-2020-shooting-player.csv'\n",
    "df6 = pd.read_csv(url)"
   ]
  },
  {
   "cell_type": "code",
   "execution_count": 71,
   "metadata": {},
   "outputs": [],
   "source": [
    "frames = [df1[['Player', 'Nation', 'Pos', 'Squad', 'Born', '90s', 'Tackles Tkl', 'Tackles TklW', 'Tackles Def 3rd', 'Tackles Mid 3rd', 'Tackles Att 3rd', 'Challenges Tkl', 'Challenges Att', 'Challenges Lost', 'Blocks Blocks', 'Blocks Sh', 'Blocks Pass', 'Int', 'Tkl+Int', 'Clr', 'Err']],\n",
    "          df2[['SCA SCA', 'SCA SCA90', 'SCA Types PassLive', 'SCA Types PassDead', 'SCA Types TO', 'SCA Types Sh', 'SCA Types Fld', 'SCA Types Def', 'GCA GCA', 'GCA GCA90', 'GCA Types PassLive', 'GCA Types PassDead', 'GCA Types TO', 'GCA Types Sh', 'GCA Types Fld', 'GCA Types Def']],\n",
    "          df3[['Performance CrdY', 'Performance CrdR', 'Performance 2CrdY', 'Performance Fls', 'Performance Fld', 'Performance Off', 'Performance Crs', 'Performance Int', 'Performance TklW', 'Performance PKwon', 'Performance PKcon', 'Performance OG', 'Performance Recov', 'Aerial Duels Won', 'Aerial Duels Lost']],\n",
    "          df4[['Total Cmp', 'Total Att', 'Total Cmp%', 'Total TotDist', 'Total PrgDist', 'Short Cmp', 'Short Att', 'Medium Cmp', 'Medium Att', 'Long Cmp', 'Long Att', 'Ast', 'xAG', 'Expected xA', 'Expected A-xAG', 'KP', '1/3', 'PPA', 'CrsPA', 'PrgP']],\n",
    "          df5[['Touches Touches', 'Touches Def Pen', 'Touches Def 3rd', 'Touches Mid 3rd', 'Touches Att 3rd', 'Touches Att Pen', 'Touches Live', 'Take-Ons Att', 'Take-Ons Succ', 'Take-Ons Tkld', 'Carries Carries', 'Carries TotDist', 'Carries PrgDist', 'Carries PrgC', 'Carries 1/3', 'Carries CPA', 'Carries Mis', 'Carries Dis', 'Receiving Rec', 'Receiving PrgR']],\n",
    "          df6[['Standard Gls', 'Standard Sh', 'Standard SoT','Standard Sh/90', 'Standard SoT/90', 'Standard G/Sh', 'Standard G/SoT', 'Standard Dist', 'Standard FK', 'Standard PK', 'Standard PKatt', 'Expected xG', 'Expected npxG', 'Expected npxG/Sh', 'Expected G-xG', 'Expected np:G-xG']]]\n",
    "players = pd.concat(frames, axis=1)"
   ]
  },
  {
   "cell_type": "code",
   "execution_count": 72,
   "metadata": {},
   "outputs": [],
   "source": [
    "url = 'https://raw.githubusercontent.com/sambuddharay/FinalYearProject/main/scrapping/data/Bundesliga-Stats/2019-2020/player/Bundesliga-Stats-2019-2020-keepers-player.csv'\n",
    "df7 = pd.read_csv(url)\n",
    "url = 'https://raw.githubusercontent.com/sambuddharay/FinalYearProject/main/scrapping/data/Bundesliga-Stats/2019-2020/player/Bundesliga-Stats-2019-2020-keepersadv-player.csv'\n",
    "df8 = pd.read_csv(url)"
   ]
  },
  {
   "cell_type": "code",
   "execution_count": 73,
   "metadata": {},
   "outputs": [],
   "source": [
    "df7=df7[df7['Playing Time 90s']>0]\n",
    "df8=df8[df8['90s']>0]\n",
    "frames = [df7[['Player', 'Performance GA', 'Performance GA90', 'Performance SoTA', 'Performance Saves', 'Performance Save%', 'Performance W', 'Performance D', 'Performance L', 'Performance CS', 'Performance CS%', 'Penalty Kicks PKatt', 'Penalty Kicks PKA', 'Penalty Kicks PKsv', 'Penalty Kicks PKm']],\n",
    "          df8[['Goals GA', 'Goals PKA', 'Goals FK', 'Goals CK', 'Goals OG', 'Expected PSxG', 'Expected PSxG/SoT', 'Expected PSxG+/-', 'Expected /90', 'Launched Cmp', 'Launched Att', 'Launched Cmp%', 'Passes Att (GK)', 'Passes Thr', 'Passes Launch%', 'Passes AvgLen', 'Goal Kicks Att', 'Goal Kicks Launch%', 'Goal Kicks AvgLen', 'Crosses Opp', 'Crosses Stp', 'Crosses Stp%', 'Sweeper #OPA', 'Sweeper #OPA/90', 'Sweeper AvgDist']]]\n",
    "goalkeepers = pd.concat(frames, axis=1)"
   ]
  },
  {
   "cell_type": "code",
   "execution_count": 74,
   "metadata": {},
   "outputs": [],
   "source": [
    "players = players.replace(np.nan, 0)\n",
    "goalkeepers = goalkeepers.replace(np.nan, 0)\n",
    "utils.append_X_train(X_train, players, goalkeepers)"
   ]
  },
  {
   "cell_type": "code",
   "execution_count": 75,
   "metadata": {},
   "outputs": [],
   "source": [
    "url = 'https://raw.githubusercontent.com/sambuddharay/FinalYearProject/main/scrapping/data/Bundesliga-Stats/2020-2021/player/Bundesliga-Stats-2020-2021-defense-player.csv'\n",
    "df1 = pd.read_csv(url)\n",
    "url = 'https://raw.githubusercontent.com/sambuddharay/FinalYearProject/main/scrapping/data/Bundesliga-Stats/2020-2021/player/Bundesliga-Stats-2020-2021-gca-player.csv'\n",
    "df2 = pd.read_csv(url)\n",
    "url = 'https://raw.githubusercontent.com/sambuddharay/FinalYearProject/main/scrapping/data/Bundesliga-Stats/2020-2021/player/Bundesliga-Stats-2020-2021-misc-player.csv'\n",
    "df3 = pd.read_csv(url)\n",
    "url = 'https://raw.githubusercontent.com/sambuddharay/FinalYearProject/main/scrapping/data/Bundesliga-Stats/2020-2021/player/Bundesliga-Stats-2020-2021-passing-player.csv'\n",
    "df4 = pd.read_csv(url)\n",
    "url = 'https://raw.githubusercontent.com/sambuddharay/FinalYearProject/main/scrapping/data/Bundesliga-Stats/2020-2021/player/Bundesliga-Stats-2020-2021-possession-player.csv'\n",
    "df5 = pd.read_csv(url)\n",
    "url = 'https://raw.githubusercontent.com/sambuddharay/FinalYearProject/main/scrapping/data/Bundesliga-Stats/2020-2021/player/Bundesliga-Stats-2020-2021-shooting-player.csv'\n",
    "df6 = pd.read_csv(url)"
   ]
  },
  {
   "cell_type": "code",
   "execution_count": 76,
   "metadata": {},
   "outputs": [],
   "source": [
    "frames = [df1[['Player', 'Nation', 'Pos', 'Squad', 'Born', '90s', 'Tackles Tkl', 'Tackles TklW', 'Tackles Def 3rd', 'Tackles Mid 3rd', 'Tackles Att 3rd', 'Challenges Tkl', 'Challenges Att', 'Challenges Lost', 'Blocks Blocks', 'Blocks Sh', 'Blocks Pass', 'Int', 'Tkl+Int', 'Clr', 'Err']],\n",
    "          df2[['SCA SCA', 'SCA SCA90', 'SCA Types PassLive', 'SCA Types PassDead', 'SCA Types TO', 'SCA Types Sh', 'SCA Types Fld', 'SCA Types Def', 'GCA GCA', 'GCA GCA90', 'GCA Types PassLive', 'GCA Types PassDead', 'GCA Types TO', 'GCA Types Sh', 'GCA Types Fld', 'GCA Types Def']],\n",
    "          df3[['Performance CrdY', 'Performance CrdR', 'Performance 2CrdY', 'Performance Fls', 'Performance Fld', 'Performance Off', 'Performance Crs', 'Performance Int', 'Performance TklW', 'Performance PKwon', 'Performance PKcon', 'Performance OG', 'Performance Recov', 'Aerial Duels Won', 'Aerial Duels Lost']],\n",
    "          df4[['Total Cmp', 'Total Att', 'Total Cmp%', 'Total TotDist', 'Total PrgDist', 'Short Cmp', 'Short Att', 'Medium Cmp', 'Medium Att', 'Long Cmp', 'Long Att', 'Ast', 'xAG', 'Expected xA', 'Expected A-xAG', 'KP', '1/3', 'PPA', 'CrsPA', 'PrgP']],\n",
    "          df5[['Touches Touches', 'Touches Def Pen', 'Touches Def 3rd', 'Touches Mid 3rd', 'Touches Att 3rd', 'Touches Att Pen', 'Touches Live', 'Take-Ons Att', 'Take-Ons Succ', 'Take-Ons Tkld', 'Carries Carries', 'Carries TotDist', 'Carries PrgDist', 'Carries PrgC', 'Carries 1/3', 'Carries CPA', 'Carries Mis', 'Carries Dis', 'Receiving Rec', 'Receiving PrgR']],\n",
    "          df6[['Standard Gls', 'Standard Sh', 'Standard SoT','Standard Sh/90', 'Standard SoT/90', 'Standard G/Sh', 'Standard G/SoT', 'Standard Dist', 'Standard FK', 'Standard PK', 'Standard PKatt', 'Expected xG', 'Expected npxG', 'Expected npxG/Sh', 'Expected G-xG', 'Expected np:G-xG']]]\n",
    "players = pd.concat(frames, axis=1)"
   ]
  },
  {
   "cell_type": "code",
   "execution_count": 77,
   "metadata": {},
   "outputs": [],
   "source": [
    "url = 'https://raw.githubusercontent.com/sambuddharay/FinalYearProject/main/scrapping/data/Bundesliga-Stats/2020-2021/player/Bundesliga-Stats-2020-2021-keepers-player.csv'\n",
    "df7 = pd.read_csv(url)\n",
    "url = 'https://raw.githubusercontent.com/sambuddharay/FinalYearProject/main/scrapping/data/Bundesliga-Stats/2020-2021/player/Bundesliga-Stats-2020-2021-keepersadv-player.csv'\n",
    "df8 = pd.read_csv(url)"
   ]
  },
  {
   "cell_type": "code",
   "execution_count": 78,
   "metadata": {},
   "outputs": [],
   "source": [
    "df7=df7[df7['Playing Time 90s']>0]\n",
    "df8=df8[df8['90s']>0]\n",
    "frames = [df7[['Player', 'Performance GA', 'Performance GA90', 'Performance SoTA', 'Performance Saves', 'Performance Save%', 'Performance W', 'Performance D', 'Performance L', 'Performance CS', 'Performance CS%', 'Penalty Kicks PKatt', 'Penalty Kicks PKA', 'Penalty Kicks PKsv', 'Penalty Kicks PKm']],\n",
    "          df8[['Goals GA', 'Goals PKA', 'Goals FK', 'Goals CK', 'Goals OG', 'Expected PSxG', 'Expected PSxG/SoT', 'Expected PSxG+/-', 'Expected /90', 'Launched Cmp', 'Launched Att', 'Launched Cmp%', 'Passes Att (GK)', 'Passes Thr', 'Passes Launch%', 'Passes AvgLen', 'Goal Kicks Att', 'Goal Kicks Launch%', 'Goal Kicks AvgLen', 'Crosses Opp', 'Crosses Stp', 'Crosses Stp%', 'Sweeper #OPA', 'Sweeper #OPA/90', 'Sweeper AvgDist']]]\n",
    "goalkeepers = pd.concat(frames, axis=1)"
   ]
  },
  {
   "cell_type": "code",
   "execution_count": 79,
   "metadata": {},
   "outputs": [],
   "source": [
    "players = players.replace(np.nan, 0)\n",
    "goalkeepers = goalkeepers.replace(np.nan, 0)\n",
    "utils.append_X_train(X_train, players, goalkeepers)"
   ]
  },
  {
   "cell_type": "code",
   "execution_count": 80,
   "metadata": {},
   "outputs": [],
   "source": [
    "url = 'https://raw.githubusercontent.com/sambuddharay/FinalYearProject/main/scrapping/data/Bundesliga-Stats/2021-2022/player/Bundesliga-Stats-2021-2022-defense-player.csv'\n",
    "df1 = pd.read_csv(url)\n",
    "url = 'https://raw.githubusercontent.com/sambuddharay/FinalYearProject/main/scrapping/data/Bundesliga-Stats/2021-2022/player/Bundesliga-Stats-2021-2022-gca-player.csv'\n",
    "df2 = pd.read_csv(url)\n",
    "url = 'https://raw.githubusercontent.com/sambuddharay/FinalYearProject/main/scrapping/data/Bundesliga-Stats/2021-2022/player/Bundesliga-Stats-2021-2022-misc-player.csv'\n",
    "df3 = pd.read_csv(url)\n",
    "url = 'https://raw.githubusercontent.com/sambuddharay/FinalYearProject/main/scrapping/data/Bundesliga-Stats/2021-2022/player/Bundesliga-Stats-2021-2022-passing-player.csv'\n",
    "df4 = pd.read_csv(url)\n",
    "url = 'https://raw.githubusercontent.com/sambuddharay/FinalYearProject/main/scrapping/data/Bundesliga-Stats/2021-2022/player/Bundesliga-Stats-2021-2022-possession-player.csv'\n",
    "df5 = pd.read_csv(url)\n",
    "url = 'https://raw.githubusercontent.com/sambuddharay/FinalYearProject/main/scrapping/data/Bundesliga-Stats/2021-2022/player/Bundesliga-Stats-2021-2022-shooting-player.csv'\n",
    "df6 = pd.read_csv(url)"
   ]
  },
  {
   "cell_type": "code",
   "execution_count": 81,
   "metadata": {},
   "outputs": [],
   "source": [
    "frames = [df1[['Player', 'Nation', 'Pos', 'Squad', 'Born', '90s', 'Tackles Tkl', 'Tackles TklW', 'Tackles Def 3rd', 'Tackles Mid 3rd', 'Tackles Att 3rd', 'Challenges Tkl', 'Challenges Att', 'Challenges Lost', 'Blocks Blocks', 'Blocks Sh', 'Blocks Pass', 'Int', 'Tkl+Int', 'Clr', 'Err']],\n",
    "          df2[['SCA SCA', 'SCA SCA90', 'SCA Types PassLive', 'SCA Types PassDead', 'SCA Types TO', 'SCA Types Sh', 'SCA Types Fld', 'SCA Types Def', 'GCA GCA', 'GCA GCA90', 'GCA Types PassLive', 'GCA Types PassDead', 'GCA Types TO', 'GCA Types Sh', 'GCA Types Fld', 'GCA Types Def']],\n",
    "          df3[['Performance CrdY', 'Performance CrdR', 'Performance 2CrdY', 'Performance Fls', 'Performance Fld', 'Performance Off', 'Performance Crs', 'Performance Int', 'Performance TklW', 'Performance PKwon', 'Performance PKcon', 'Performance OG', 'Performance Recov', 'Aerial Duels Won', 'Aerial Duels Lost']],\n",
    "          df4[['Total Cmp', 'Total Att', 'Total Cmp%', 'Total TotDist', 'Total PrgDist', 'Short Cmp', 'Short Att', 'Medium Cmp', 'Medium Att', 'Long Cmp', 'Long Att', 'Ast', 'xAG', 'Expected xA', 'Expected A-xAG', 'KP', '1/3', 'PPA', 'CrsPA', 'PrgP']],\n",
    "          df5[['Touches Touches', 'Touches Def Pen', 'Touches Def 3rd', 'Touches Mid 3rd', 'Touches Att 3rd', 'Touches Att Pen', 'Touches Live', 'Take-Ons Att', 'Take-Ons Succ', 'Take-Ons Tkld', 'Carries Carries', 'Carries TotDist', 'Carries PrgDist', 'Carries PrgC', 'Carries 1/3', 'Carries CPA', 'Carries Mis', 'Carries Dis', 'Receiving Rec', 'Receiving PrgR']],\n",
    "          df6[['Standard Gls', 'Standard Sh', 'Standard SoT','Standard Sh/90', 'Standard SoT/90', 'Standard G/Sh', 'Standard G/SoT', 'Standard Dist', 'Standard FK', 'Standard PK', 'Standard PKatt', 'Expected xG', 'Expected npxG', 'Expected npxG/Sh', 'Expected G-xG', 'Expected np:G-xG']]]\n",
    "players = pd.concat(frames, axis=1)"
   ]
  },
  {
   "cell_type": "code",
   "execution_count": 82,
   "metadata": {},
   "outputs": [],
   "source": [
    "url = 'https://raw.githubusercontent.com/sambuddharay/FinalYearProject/main/scrapping/data/Bundesliga-Stats/2021-2022/player/Bundesliga-Stats-2021-2022-keepers-player.csv'\n",
    "df7 = pd.read_csv(url)\n",
    "url = 'https://raw.githubusercontent.com/sambuddharay/FinalYearProject/main/scrapping/data/Bundesliga-Stats/2021-2022/player/Bundesliga-Stats-2021-2022-keepersadv-player.csv'\n",
    "df8 = pd.read_csv(url)"
   ]
  },
  {
   "cell_type": "code",
   "execution_count": 83,
   "metadata": {},
   "outputs": [],
   "source": [
    "df7=df7[df7['Playing Time 90s']>0]\n",
    "df8=df8[df8['90s']>0]\n",
    "frames = [df7[['Player', 'Performance GA', 'Performance GA90', 'Performance SoTA', 'Performance Saves', 'Performance Save%', 'Performance W', 'Performance D', 'Performance L', 'Performance CS', 'Performance CS%', 'Penalty Kicks PKatt', 'Penalty Kicks PKA', 'Penalty Kicks PKsv', 'Penalty Kicks PKm']],\n",
    "          df8[['Goals GA', 'Goals PKA', 'Goals FK', 'Goals CK', 'Goals OG', 'Expected PSxG', 'Expected PSxG/SoT', 'Expected PSxG+/-', 'Expected /90', 'Launched Cmp', 'Launched Att', 'Launched Cmp%', 'Passes Att (GK)', 'Passes Thr', 'Passes Launch%', 'Passes AvgLen', 'Goal Kicks Att', 'Goal Kicks Launch%', 'Goal Kicks AvgLen', 'Crosses Opp', 'Crosses Stp', 'Crosses Stp%', 'Sweeper #OPA', 'Sweeper #OPA/90', 'Sweeper AvgDist']]]\n",
    "goalkeepers = pd.concat(frames, axis=1)"
   ]
  },
  {
   "cell_type": "code",
   "execution_count": 84,
   "metadata": {},
   "outputs": [],
   "source": [
    "players = players.replace(np.nan, 0)\n",
    "goalkeepers = goalkeepers.replace(np.nan, 0)\n",
    "utils.append_X_train(X_train, players, goalkeepers)"
   ]
  },
  {
   "cell_type": "code",
   "execution_count": 85,
   "metadata": {},
   "outputs": [],
   "source": [
    "url = 'https://raw.githubusercontent.com/sambuddharay/FinalYearProject/main/scrapping/data/Bundesliga-Stats/2022-2023/player/Bundesliga-Stats-2022-2023-defense-player.csv'\n",
    "df1 = pd.read_csv(url)\n",
    "url = 'https://raw.githubusercontent.com/sambuddharay/FinalYearProject/main/scrapping/data/Bundesliga-Stats/2022-2023/player/Bundesliga-Stats-2022-2023-gca-player.csv'\n",
    "df2 = pd.read_csv(url)\n",
    "url = 'https://raw.githubusercontent.com/sambuddharay/FinalYearProject/main/scrapping/data/Bundesliga-Stats/2022-2023/player/Bundesliga-Stats-2022-2023-misc-player.csv'\n",
    "df3 = pd.read_csv(url)\n",
    "url = 'https://raw.githubusercontent.com/sambuddharay/FinalYearProject/main/scrapping/data/Bundesliga-Stats/2022-2023/player/Bundesliga-Stats-2022-2023-passing-player.csv'\n",
    "df4 = pd.read_csv(url)\n",
    "url = 'https://raw.githubusercontent.com/sambuddharay/FinalYearProject/main/scrapping/data/Bundesliga-Stats/2022-2023/player/Bundesliga-Stats-2022-2023-possession-player.csv'\n",
    "df5 = pd.read_csv(url)\n",
    "url = 'https://raw.githubusercontent.com/sambuddharay/FinalYearProject/main/scrapping/data/Bundesliga-Stats/2022-2023/player/Bundesliga-Stats-2022-2023-shooting-player.csv'\n",
    "df6 = pd.read_csv(url)"
   ]
  },
  {
   "cell_type": "code",
   "execution_count": 86,
   "metadata": {},
   "outputs": [],
   "source": [
    "frames = [df1[['Player', 'Nation', 'Pos', 'Squad', 'Born', '90s', 'Tackles Tkl', 'Tackles TklW', 'Tackles Def 3rd', 'Tackles Mid 3rd', 'Tackles Att 3rd', 'Challenges Tkl', 'Challenges Att', 'Challenges Lost', 'Blocks Blocks', 'Blocks Sh', 'Blocks Pass', 'Int', 'Tkl+Int', 'Clr', 'Err']],\n",
    "          df2[['SCA SCA', 'SCA SCA90', 'SCA Types PassLive', 'SCA Types PassDead', 'SCA Types TO', 'SCA Types Sh', 'SCA Types Fld', 'SCA Types Def', 'GCA GCA', 'GCA GCA90', 'GCA Types PassLive', 'GCA Types PassDead', 'GCA Types TO', 'GCA Types Sh', 'GCA Types Fld', 'GCA Types Def']],\n",
    "          df3[['Performance CrdY', 'Performance CrdR', 'Performance 2CrdY', 'Performance Fls', 'Performance Fld', 'Performance Off', 'Performance Crs', 'Performance Int', 'Performance TklW', 'Performance PKwon', 'Performance PKcon', 'Performance OG', 'Performance Recov', 'Aerial Duels Won', 'Aerial Duels Lost']],\n",
    "          df4[['Total Cmp', 'Total Att', 'Total Cmp%', 'Total TotDist', 'Total PrgDist', 'Short Cmp', 'Short Att', 'Medium Cmp', 'Medium Att', 'Long Cmp', 'Long Att', 'Ast', 'xAG', 'Expected xA', 'Expected A-xAG', 'KP', '1/3', 'PPA', 'CrsPA', 'PrgP']],\n",
    "          df5[['Touches Touches', 'Touches Def Pen', 'Touches Def 3rd', 'Touches Mid 3rd', 'Touches Att 3rd', 'Touches Att Pen', 'Touches Live', 'Take-Ons Att', 'Take-Ons Succ', 'Take-Ons Tkld', 'Carries Carries', 'Carries TotDist', 'Carries PrgDist', 'Carries PrgC', 'Carries 1/3', 'Carries CPA', 'Carries Mis', 'Carries Dis', 'Receiving Rec', 'Receiving PrgR']],\n",
    "          df6[['Standard Gls', 'Standard Sh', 'Standard SoT','Standard Sh/90', 'Standard SoT/90', 'Standard G/Sh', 'Standard G/SoT', 'Standard Dist', 'Standard FK', 'Standard PK', 'Standard PKatt', 'Expected xG', 'Expected npxG', 'Expected npxG/Sh', 'Expected G-xG', 'Expected np:G-xG']]]\n",
    "players = pd.concat(frames, axis=1)"
   ]
  },
  {
   "cell_type": "code",
   "execution_count": 87,
   "metadata": {},
   "outputs": [],
   "source": [
    "url = 'https://raw.githubusercontent.com/sambuddharay/FinalYearProject/main/scrapping/data/Bundesliga-Stats/2022-2023/player/Bundesliga-Stats-2022-2023-keepers-player.csv'\n",
    "df7 = pd.read_csv(url)\n",
    "url = 'https://raw.githubusercontent.com/sambuddharay/FinalYearProject/main/scrapping/data/Bundesliga-Stats/2022-2023/player/Bundesliga-Stats-2022-2023-keepersadv-player.csv'\n",
    "df8 = pd.read_csv(url)"
   ]
  },
  {
   "cell_type": "code",
   "execution_count": 88,
   "metadata": {},
   "outputs": [],
   "source": [
    "df7=df7[df7['Playing Time 90s']>0]\n",
    "df8=df8[df8['90s']>0]\n",
    "frames = [df7[['Player', 'Performance GA', 'Performance GA90', 'Performance SoTA', 'Performance Saves', 'Performance Save%', 'Performance W', 'Performance D', 'Performance L', 'Performance CS', 'Performance CS%', 'Penalty Kicks PKatt', 'Penalty Kicks PKA', 'Penalty Kicks PKsv', 'Penalty Kicks PKm']],\n",
    "          df8[['Goals GA', 'Goals PKA', 'Goals FK', 'Goals CK', 'Goals OG', 'Expected PSxG', 'Expected PSxG/SoT', 'Expected PSxG+/-', 'Expected /90', 'Launched Cmp', 'Launched Att', 'Launched Cmp%', 'Passes Att (GK)', 'Passes Thr', 'Passes Launch%', 'Passes AvgLen', 'Goal Kicks Att', 'Goal Kicks Launch%', 'Goal Kicks AvgLen', 'Crosses Opp', 'Crosses Stp', 'Crosses Stp%', 'Sweeper #OPA', 'Sweeper #OPA/90', 'Sweeper AvgDist']]]\n",
    "goalkeepers = pd.concat(frames, axis=1)"
   ]
  },
  {
   "cell_type": "code",
   "execution_count": 89,
   "metadata": {},
   "outputs": [],
   "source": [
    "players = players.replace(np.nan, 0)\n",
    "goalkeepers = goalkeepers.replace(np.nan, 0)\n",
    "utils.append_X_train(X_train, players, goalkeepers)"
   ]
  },
  {
   "cell_type": "code",
   "execution_count": 90,
   "metadata": {},
   "outputs": [],
   "source": [
    "url = 'https://raw.githubusercontent.com/sambuddharay/FinalYearProject/main/scrapping/data/La-Liga-Stats/2018-2019/player/La-Liga-Stats-2018-2019-defense-player.csv'\n",
    "df1 = pd.read_csv(url)\n",
    "url = 'https://raw.githubusercontent.com/sambuddharay/FinalYearProject/main/scrapping/data/La-Liga-Stats/2018-2019/player/La-Liga-Stats-2018-2019-gca-player.csv'\n",
    "df2 = pd.read_csv(url)\n",
    "url = 'https://raw.githubusercontent.com/sambuddharay/FinalYearProject/main/scrapping/data/La-Liga-Stats/2018-2019/player/La-Liga-Stats-2018-2019-misc-player.csv'\n",
    "df3 = pd.read_csv(url)\n",
    "url = 'https://raw.githubusercontent.com/sambuddharay/FinalYearProject/main/scrapping/data/La-Liga-Stats/2018-2019/player/La-Liga-Stats-2018-2019-passing-player.csv'\n",
    "df4 = pd.read_csv(url)\n",
    "url = 'https://raw.githubusercontent.com/sambuddharay/FinalYearProject/main/scrapping/data/La-Liga-Stats/2018-2019/player/La-Liga-Stats-2018-2019-possession-player.csv'\n",
    "df5 = pd.read_csv(url)\n",
    "url = 'https://raw.githubusercontent.com/sambuddharay/FinalYearProject/main/scrapping/data/La-Liga-Stats/2018-2019/player/La-Liga-Stats-2018-2019-shooting-player.csv'\n",
    "df6 = pd.read_csv(url)"
   ]
  },
  {
   "cell_type": "code",
   "execution_count": 91,
   "metadata": {},
   "outputs": [],
   "source": [
    "frames = [df1[['Player', 'Nation', 'Pos', 'Squad', 'Born', '90s', 'Tackles Tkl', 'Tackles TklW', 'Tackles Def 3rd', 'Tackles Mid 3rd', 'Tackles Att 3rd', 'Challenges Tkl', 'Challenges Att', 'Challenges Lost', 'Blocks Blocks', 'Blocks Sh', 'Blocks Pass', 'Int', 'Tkl+Int', 'Clr', 'Err']],\n",
    "          df2[['SCA SCA', 'SCA SCA90', 'SCA Types PassLive', 'SCA Types PassDead', 'SCA Types TO', 'SCA Types Sh', 'SCA Types Fld', 'SCA Types Def', 'GCA GCA', 'GCA GCA90', 'GCA Types PassLive', 'GCA Types PassDead', 'GCA Types TO', 'GCA Types Sh', 'GCA Types Fld', 'GCA Types Def']],\n",
    "          df3[['Performance CrdY', 'Performance CrdR', 'Performance 2CrdY', 'Performance Fls', 'Performance Fld', 'Performance Off', 'Performance Crs', 'Performance Int', 'Performance TklW', 'Performance PKwon', 'Performance PKcon', 'Performance OG', 'Performance Recov', 'Aerial Duels Won', 'Aerial Duels Lost']],\n",
    "          df4[['Total Cmp', 'Total Att', 'Total Cmp%', 'Total TotDist', 'Total PrgDist', 'Short Cmp', 'Short Att', 'Medium Cmp', 'Medium Att', 'Long Cmp', 'Long Att', 'Ast', 'xAG', 'Expected xA', 'Expected A-xAG', 'KP', '1/3', 'PPA', 'CrsPA', 'PrgP']],\n",
    "          df5[['Touches Touches', 'Touches Def Pen', 'Touches Def 3rd', 'Touches Mid 3rd', 'Touches Att 3rd', 'Touches Att Pen', 'Touches Live', 'Take-Ons Att', 'Take-Ons Succ', 'Take-Ons Tkld', 'Carries Carries', 'Carries TotDist', 'Carries PrgDist', 'Carries PrgC', 'Carries 1/3', 'Carries CPA', 'Carries Mis', 'Carries Dis', 'Receiving Rec', 'Receiving PrgR']],\n",
    "          df6[['Standard Gls', 'Standard Sh', 'Standard SoT','Standard Sh/90', 'Standard SoT/90', 'Standard G/Sh', 'Standard G/SoT', 'Standard Dist', 'Standard FK', 'Standard PK', 'Standard PKatt', 'Expected xG', 'Expected npxG', 'Expected npxG/Sh', 'Expected G-xG', 'Expected np:G-xG']]]\n",
    "players = pd.concat(frames, axis=1)"
   ]
  },
  {
   "cell_type": "code",
   "execution_count": 92,
   "metadata": {},
   "outputs": [],
   "source": [
    "url = 'https://raw.githubusercontent.com/sambuddharay/FinalYearProject/main/scrapping/data/La-Liga-Stats/2018-2019/player/La-Liga-Stats-2018-2019-keepers-player.csv'\n",
    "df7 = pd.read_csv(url)\n",
    "url = 'https://raw.githubusercontent.com/sambuddharay/FinalYearProject/main/scrapping/data/La-Liga-Stats/2018-2019/player/La-Liga-Stats-2018-2019-keepersadv-player.csv'\n",
    "df8 = pd.read_csv(url)"
   ]
  },
  {
   "cell_type": "code",
   "execution_count": 93,
   "metadata": {},
   "outputs": [],
   "source": [
    "df7=df7[df7['Playing Time 90s']>0]\n",
    "df8=df8[df8['90s']>0]\n",
    "frames = [df7[['Player', 'Performance GA', 'Performance GA90', 'Performance SoTA', 'Performance Saves', 'Performance Save%', 'Performance W', 'Performance D', 'Performance L', 'Performance CS', 'Performance CS%', 'Penalty Kicks PKatt', 'Penalty Kicks PKA', 'Penalty Kicks PKsv', 'Penalty Kicks PKm']],\n",
    "          df8[['Goals GA', 'Goals PKA', 'Goals FK', 'Goals CK', 'Goals OG', 'Expected PSxG', 'Expected PSxG/SoT', 'Expected PSxG+/-', 'Expected /90', 'Launched Cmp', 'Launched Att', 'Launched Cmp%', 'Passes Att (GK)', 'Passes Thr', 'Passes Launch%', 'Passes AvgLen', 'Goal Kicks Att', 'Goal Kicks Launch%', 'Goal Kicks AvgLen', 'Crosses Opp', 'Crosses Stp', 'Crosses Stp%', 'Sweeper #OPA', 'Sweeper #OPA/90', 'Sweeper AvgDist']]]\n",
    "goalkeepers = pd.concat(frames, axis=1)"
   ]
  },
  {
   "cell_type": "code",
   "execution_count": 94,
   "metadata": {},
   "outputs": [],
   "source": [
    "players = players.replace(np.nan, 0)\n",
    "goalkeepers = goalkeepers.replace(np.nan, 0)\n",
    "utils.append_X_train(X_train, players, goalkeepers)"
   ]
  },
  {
   "cell_type": "code",
   "execution_count": 95,
   "metadata": {},
   "outputs": [],
   "source": [
    "url = 'https://raw.githubusercontent.com/sambuddharay/FinalYearProject/main/scrapping/data/La-Liga-Stats/2019-2020/player/La-Liga-Stats-2019-2020-defense-player.csv'\n",
    "df1 = pd.read_csv(url)\n",
    "url = 'https://raw.githubusercontent.com/sambuddharay/FinalYearProject/main/scrapping/data/La-Liga-Stats/2019-2020/player/La-Liga-Stats-2019-2020-gca-player.csv'\n",
    "df2 = pd.read_csv(url)\n",
    "url = 'https://raw.githubusercontent.com/sambuddharay/FinalYearProject/main/scrapping/data/La-Liga-Stats/2019-2020/player/La-Liga-Stats-2019-2020-misc-player.csv'\n",
    "df3 = pd.read_csv(url)\n",
    "url = 'https://raw.githubusercontent.com/sambuddharay/FinalYearProject/main/scrapping/data/La-Liga-Stats/2019-2020/player/La-Liga-Stats-2019-2020-passing-player.csv'\n",
    "df4 = pd.read_csv(url)\n",
    "url = 'https://raw.githubusercontent.com/sambuddharay/FinalYearProject/main/scrapping/data/La-Liga-Stats/2019-2020/player/La-Liga-Stats-2019-2020-possession-player.csv'\n",
    "df5 = pd.read_csv(url)\n",
    "url = 'https://raw.githubusercontent.com/sambuddharay/FinalYearProject/main/scrapping/data/La-Liga-Stats/2019-2020/player/La-Liga-Stats-2019-2020-shooting-player.csv'\n",
    "df6 = pd.read_csv(url)"
   ]
  },
  {
   "cell_type": "code",
   "execution_count": 96,
   "metadata": {},
   "outputs": [],
   "source": [
    "frames = [df1[['Player', 'Nation', 'Pos', 'Squad', 'Born', '90s', 'Tackles Tkl', 'Tackles TklW', 'Tackles Def 3rd', 'Tackles Mid 3rd', 'Tackles Att 3rd', 'Challenges Tkl', 'Challenges Att', 'Challenges Lost', 'Blocks Blocks', 'Blocks Sh', 'Blocks Pass', 'Int', 'Tkl+Int', 'Clr', 'Err']],\n",
    "          df2[['SCA SCA', 'SCA SCA90', 'SCA Types PassLive', 'SCA Types PassDead', 'SCA Types TO', 'SCA Types Sh', 'SCA Types Fld', 'SCA Types Def', 'GCA GCA', 'GCA GCA90', 'GCA Types PassLive', 'GCA Types PassDead', 'GCA Types TO', 'GCA Types Sh', 'GCA Types Fld', 'GCA Types Def']],\n",
    "          df3[['Performance CrdY', 'Performance CrdR', 'Performance 2CrdY', 'Performance Fls', 'Performance Fld', 'Performance Off', 'Performance Crs', 'Performance Int', 'Performance TklW', 'Performance PKwon', 'Performance PKcon', 'Performance OG', 'Performance Recov', 'Aerial Duels Won', 'Aerial Duels Lost']],\n",
    "          df4[['Total Cmp', 'Total Att', 'Total Cmp%', 'Total TotDist', 'Total PrgDist', 'Short Cmp', 'Short Att', 'Medium Cmp', 'Medium Att', 'Long Cmp', 'Long Att', 'Ast', 'xAG', 'Expected xA', 'Expected A-xAG', 'KP', '1/3', 'PPA', 'CrsPA', 'PrgP']],\n",
    "          df5[['Touches Touches', 'Touches Def Pen', 'Touches Def 3rd', 'Touches Mid 3rd', 'Touches Att 3rd', 'Touches Att Pen', 'Touches Live', 'Take-Ons Att', 'Take-Ons Succ', 'Take-Ons Tkld', 'Carries Carries', 'Carries TotDist', 'Carries PrgDist', 'Carries PrgC', 'Carries 1/3', 'Carries CPA', 'Carries Mis', 'Carries Dis', 'Receiving Rec', 'Receiving PrgR']],\n",
    "          df6[['Standard Gls', 'Standard Sh', 'Standard SoT','Standard Sh/90', 'Standard SoT/90', 'Standard G/Sh', 'Standard G/SoT', 'Standard Dist', 'Standard FK', 'Standard PK', 'Standard PKatt', 'Expected xG', 'Expected npxG', 'Expected npxG/Sh', 'Expected G-xG', 'Expected np:G-xG']]]\n",
    "players = pd.concat(frames, axis=1)"
   ]
  },
  {
   "cell_type": "code",
   "execution_count": 97,
   "metadata": {},
   "outputs": [],
   "source": [
    "url = 'https://raw.githubusercontent.com/sambuddharay/FinalYearProject/main/scrapping/data/La-Liga-Stats/2019-2020/player/La-Liga-Stats-2019-2020-keepers-player.csv'\n",
    "df7 = pd.read_csv(url)\n",
    "url = 'https://raw.githubusercontent.com/sambuddharay/FinalYearProject/main/scrapping/data/La-Liga-Stats/2019-2020/player/La-Liga-Stats-2019-2020-keepersadv-player.csv'\n",
    "df8 = pd.read_csv(url)"
   ]
  },
  {
   "cell_type": "code",
   "execution_count": 98,
   "metadata": {},
   "outputs": [],
   "source": [
    "df7=df7[df7['Playing Time 90s']>0]\n",
    "df8=df8[df8['90s']>0]\n",
    "frames = [df7[['Player', 'Performance GA', 'Performance GA90', 'Performance SoTA', 'Performance Saves', 'Performance Save%', 'Performance W', 'Performance D', 'Performance L', 'Performance CS', 'Performance CS%', 'Penalty Kicks PKatt', 'Penalty Kicks PKA', 'Penalty Kicks PKsv', 'Penalty Kicks PKm']],\n",
    "          df8[['Goals GA', 'Goals PKA', 'Goals FK', 'Goals CK', 'Goals OG', 'Expected PSxG', 'Expected PSxG/SoT', 'Expected PSxG+/-', 'Expected /90', 'Launched Cmp', 'Launched Att', 'Launched Cmp%', 'Passes Att (GK)', 'Passes Thr', 'Passes Launch%', 'Passes AvgLen', 'Goal Kicks Att', 'Goal Kicks Launch%', 'Goal Kicks AvgLen', 'Crosses Opp', 'Crosses Stp', 'Crosses Stp%', 'Sweeper #OPA', 'Sweeper #OPA/90', 'Sweeper AvgDist']]]\n",
    "goalkeepers = pd.concat(frames, axis=1)"
   ]
  },
  {
   "cell_type": "code",
   "execution_count": 99,
   "metadata": {},
   "outputs": [],
   "source": [
    "players = players.replace(np.nan, 0)\n",
    "goalkeepers = goalkeepers.replace(np.nan, 0)\n",
    "utils.append_X_train(X_train, players, goalkeepers)"
   ]
  },
  {
   "cell_type": "code",
   "execution_count": 100,
   "metadata": {},
   "outputs": [],
   "source": [
    "url = 'https://raw.githubusercontent.com/sambuddharay/FinalYearProject/main/scrapping/data/La-Liga-Stats/2020-2021/player/La-Liga-Stats-2020-2021-defense-player.csv'\n",
    "df1 = pd.read_csv(url)\n",
    "url = 'https://raw.githubusercontent.com/sambuddharay/FinalYearProject/main/scrapping/data/La-Liga-Stats/2020-2021/player/La-Liga-Stats-2020-2021-gca-player.csv'\n",
    "df2 = pd.read_csv(url)\n",
    "url = 'https://raw.githubusercontent.com/sambuddharay/FinalYearProject/main/scrapping/data/La-Liga-Stats/2020-2021/player/La-Liga-Stats-2020-2021-misc-player.csv'\n",
    "df3 = pd.read_csv(url)\n",
    "url = 'https://raw.githubusercontent.com/sambuddharay/FinalYearProject/main/scrapping/data/La-Liga-Stats/2020-2021/player/La-Liga-Stats-2020-2021-passing-player.csv'\n",
    "df4 = pd.read_csv(url)\n",
    "url = 'https://raw.githubusercontent.com/sambuddharay/FinalYearProject/main/scrapping/data/La-Liga-Stats/2020-2021/player/La-Liga-Stats-2020-2021-possession-player.csv'\n",
    "df5 = pd.read_csv(url)\n",
    "url = 'https://raw.githubusercontent.com/sambuddharay/FinalYearProject/main/scrapping/data/La-Liga-Stats/2020-2021/player/La-Liga-Stats-2020-2021-shooting-player.csv'\n",
    "df6 = pd.read_csv(url)"
   ]
  },
  {
   "cell_type": "code",
   "execution_count": 101,
   "metadata": {},
   "outputs": [],
   "source": [
    "frames = [df1[['Player', 'Nation', 'Pos', 'Squad', 'Born', '90s', 'Tackles Tkl', 'Tackles TklW', 'Tackles Def 3rd', 'Tackles Mid 3rd', 'Tackles Att 3rd', 'Challenges Tkl', 'Challenges Att', 'Challenges Lost', 'Blocks Blocks', 'Blocks Sh', 'Blocks Pass', 'Int', 'Tkl+Int', 'Clr', 'Err']],\n",
    "          df2[['SCA SCA', 'SCA SCA90', 'SCA Types PassLive', 'SCA Types PassDead', 'SCA Types TO', 'SCA Types Sh', 'SCA Types Fld', 'SCA Types Def', 'GCA GCA', 'GCA GCA90', 'GCA Types PassLive', 'GCA Types PassDead', 'GCA Types TO', 'GCA Types Sh', 'GCA Types Fld', 'GCA Types Def']],\n",
    "          df3[['Performance CrdY', 'Performance CrdR', 'Performance 2CrdY', 'Performance Fls', 'Performance Fld', 'Performance Off', 'Performance Crs', 'Performance Int', 'Performance TklW', 'Performance PKwon', 'Performance PKcon', 'Performance OG', 'Performance Recov', 'Aerial Duels Won', 'Aerial Duels Lost']],\n",
    "          df4[['Total Cmp', 'Total Att', 'Total Cmp%', 'Total TotDist', 'Total PrgDist', 'Short Cmp', 'Short Att', 'Medium Cmp', 'Medium Att', 'Long Cmp', 'Long Att', 'Ast', 'xAG', 'Expected xA', 'Expected A-xAG', 'KP', '1/3', 'PPA', 'CrsPA', 'PrgP']],\n",
    "          df5[['Touches Touches', 'Touches Def Pen', 'Touches Def 3rd', 'Touches Mid 3rd', 'Touches Att 3rd', 'Touches Att Pen', 'Touches Live', 'Take-Ons Att', 'Take-Ons Succ', 'Take-Ons Tkld', 'Carries Carries', 'Carries TotDist', 'Carries PrgDist', 'Carries PrgC', 'Carries 1/3', 'Carries CPA', 'Carries Mis', 'Carries Dis', 'Receiving Rec', 'Receiving PrgR']],\n",
    "          df6[['Standard Gls', 'Standard Sh', 'Standard SoT','Standard Sh/90', 'Standard SoT/90', 'Standard G/Sh', 'Standard G/SoT', 'Standard Dist', 'Standard FK', 'Standard PK', 'Standard PKatt', 'Expected xG', 'Expected npxG', 'Expected npxG/Sh', 'Expected G-xG', 'Expected np:G-xG']]]\n",
    "players = pd.concat(frames, axis=1)"
   ]
  },
  {
   "cell_type": "code",
   "execution_count": 102,
   "metadata": {},
   "outputs": [],
   "source": [
    "url = 'https://raw.githubusercontent.com/sambuddharay/FinalYearProject/main/scrapping/data/La-Liga-Stats/2020-2021/player/La-Liga-Stats-2020-2021-keepers-player.csv'\n",
    "df7 = pd.read_csv(url)\n",
    "url = 'https://raw.githubusercontent.com/sambuddharay/FinalYearProject/main/scrapping/data/La-Liga-Stats/2020-2021/player/La-Liga-Stats-2020-2021-keepersadv-player.csv'\n",
    "df8 = pd.read_csv(url)"
   ]
  },
  {
   "cell_type": "code",
   "execution_count": 103,
   "metadata": {},
   "outputs": [],
   "source": [
    "df7=df7[df7['Playing Time 90s']>0]\n",
    "df8=df8[df8['90s']>0]\n",
    "frames = [df7[['Player', 'Performance GA', 'Performance GA90', 'Performance SoTA', 'Performance Saves', 'Performance Save%', 'Performance W', 'Performance D', 'Performance L', 'Performance CS', 'Performance CS%', 'Penalty Kicks PKatt', 'Penalty Kicks PKA', 'Penalty Kicks PKsv', 'Penalty Kicks PKm']],\n",
    "          df8[['Goals GA', 'Goals PKA', 'Goals FK', 'Goals CK', 'Goals OG', 'Expected PSxG', 'Expected PSxG/SoT', 'Expected PSxG+/-', 'Expected /90', 'Launched Cmp', 'Launched Att', 'Launched Cmp%', 'Passes Att (GK)', 'Passes Thr', 'Passes Launch%', 'Passes AvgLen', 'Goal Kicks Att', 'Goal Kicks Launch%', 'Goal Kicks AvgLen', 'Crosses Opp', 'Crosses Stp', 'Crosses Stp%', 'Sweeper #OPA', 'Sweeper #OPA/90', 'Sweeper AvgDist']]]\n",
    "goalkeepers = pd.concat(frames, axis=1)"
   ]
  },
  {
   "cell_type": "code",
   "execution_count": 104,
   "metadata": {},
   "outputs": [],
   "source": [
    "players = players.replace(np.nan, 0)\n",
    "goalkeepers = goalkeepers.replace(np.nan, 0)\n",
    "utils.append_X_train(X_train, players, goalkeepers)"
   ]
  },
  {
   "cell_type": "code",
   "execution_count": 105,
   "metadata": {},
   "outputs": [],
   "source": [
    "url = 'https://raw.githubusercontent.com/sambuddharay/FinalYearProject/main/scrapping/data/La-Liga-Stats/2021-2022/player/La-Liga-Stats-2021-2022-defense-player.csv'\n",
    "df1 = pd.read_csv(url)\n",
    "url = 'https://raw.githubusercontent.com/sambuddharay/FinalYearProject/main/scrapping/data/La-Liga-Stats/2021-2022/player/La-Liga-Stats-2021-2022-gca-player.csv'\n",
    "df2 = pd.read_csv(url)\n",
    "url = 'https://raw.githubusercontent.com/sambuddharay/FinalYearProject/main/scrapping/data/La-Liga-Stats/2021-2022/player/La-Liga-Stats-2021-2022-misc-player.csv'\n",
    "df3 = pd.read_csv(url)\n",
    "url = 'https://raw.githubusercontent.com/sambuddharay/FinalYearProject/main/scrapping/data/La-Liga-Stats/2021-2022/player/La-Liga-Stats-2021-2022-passing-player.csv'\n",
    "df4 = pd.read_csv(url)\n",
    "url = 'https://raw.githubusercontent.com/sambuddharay/FinalYearProject/main/scrapping/data/La-Liga-Stats/2021-2022/player/La-Liga-Stats-2021-2022-possession-player.csv'\n",
    "df5 = pd.read_csv(url)\n",
    "url = 'https://raw.githubusercontent.com/sambuddharay/FinalYearProject/main/scrapping/data/La-Liga-Stats/2021-2022/player/La-Liga-Stats-2021-2022-shooting-player.csv'\n",
    "df6 = pd.read_csv(url)"
   ]
  },
  {
   "cell_type": "code",
   "execution_count": 106,
   "metadata": {},
   "outputs": [],
   "source": [
    "frames = [df1[['Player', 'Nation', 'Pos', 'Squad', 'Born', '90s', 'Tackles Tkl', 'Tackles TklW', 'Tackles Def 3rd', 'Tackles Mid 3rd', 'Tackles Att 3rd', 'Challenges Tkl', 'Challenges Att', 'Challenges Lost', 'Blocks Blocks', 'Blocks Sh', 'Blocks Pass', 'Int', 'Tkl+Int', 'Clr', 'Err']],\n",
    "          df2[['SCA SCA', 'SCA SCA90', 'SCA Types PassLive', 'SCA Types PassDead', 'SCA Types TO', 'SCA Types Sh', 'SCA Types Fld', 'SCA Types Def', 'GCA GCA', 'GCA GCA90', 'GCA Types PassLive', 'GCA Types PassDead', 'GCA Types TO', 'GCA Types Sh', 'GCA Types Fld', 'GCA Types Def']],\n",
    "          df3[['Performance CrdY', 'Performance CrdR', 'Performance 2CrdY', 'Performance Fls', 'Performance Fld', 'Performance Off', 'Performance Crs', 'Performance Int', 'Performance TklW', 'Performance PKwon', 'Performance PKcon', 'Performance OG', 'Performance Recov', 'Aerial Duels Won', 'Aerial Duels Lost']],\n",
    "          df4[['Total Cmp', 'Total Att', 'Total Cmp%', 'Total TotDist', 'Total PrgDist', 'Short Cmp', 'Short Att', 'Medium Cmp', 'Medium Att', 'Long Cmp', 'Long Att', 'Ast', 'xAG', 'Expected xA', 'Expected A-xAG', 'KP', '1/3', 'PPA', 'CrsPA', 'PrgP']],\n",
    "          df5[['Touches Touches', 'Touches Def Pen', 'Touches Def 3rd', 'Touches Mid 3rd', 'Touches Att 3rd', 'Touches Att Pen', 'Touches Live', 'Take-Ons Att', 'Take-Ons Succ', 'Take-Ons Tkld', 'Carries Carries', 'Carries TotDist', 'Carries PrgDist', 'Carries PrgC', 'Carries 1/3', 'Carries CPA', 'Carries Mis', 'Carries Dis', 'Receiving Rec', 'Receiving PrgR']],\n",
    "          df6[['Standard Gls', 'Standard Sh', 'Standard SoT','Standard Sh/90', 'Standard SoT/90', 'Standard G/Sh', 'Standard G/SoT', 'Standard Dist', 'Standard FK', 'Standard PK', 'Standard PKatt', 'Expected xG', 'Expected npxG', 'Expected npxG/Sh', 'Expected G-xG', 'Expected np:G-xG']]]\n",
    "players = pd.concat(frames, axis=1)"
   ]
  },
  {
   "cell_type": "code",
   "execution_count": 107,
   "metadata": {},
   "outputs": [],
   "source": [
    "url = 'https://raw.githubusercontent.com/sambuddharay/FinalYearProject/main/scrapping/data/La-Liga-Stats/2021-2022/player/La-Liga-Stats-2021-2022-keepers-player.csv'\n",
    "df7 = pd.read_csv(url)\n",
    "url = 'https://raw.githubusercontent.com/sambuddharay/FinalYearProject/main/scrapping/data/La-Liga-Stats/2021-2022/player/La-Liga-Stats-2021-2022-keepersadv-player.csv'\n",
    "df8 = pd.read_csv(url)"
   ]
  },
  {
   "cell_type": "code",
   "execution_count": 108,
   "metadata": {},
   "outputs": [],
   "source": [
    "df7=df7[df7['Playing Time 90s']>0]\n",
    "df8=df8[df8['90s']>0]\n",
    "frames = [df7[['Player', 'Performance GA', 'Performance GA90', 'Performance SoTA', 'Performance Saves', 'Performance Save%', 'Performance W', 'Performance D', 'Performance L', 'Performance CS', 'Performance CS%', 'Penalty Kicks PKatt', 'Penalty Kicks PKA', 'Penalty Kicks PKsv', 'Penalty Kicks PKm']],\n",
    "          df8[['Goals GA', 'Goals PKA', 'Goals FK', 'Goals CK', 'Goals OG', 'Expected PSxG', 'Expected PSxG/SoT', 'Expected PSxG+/-', 'Expected /90', 'Launched Cmp', 'Launched Att', 'Launched Cmp%', 'Passes Att (GK)', 'Passes Thr', 'Passes Launch%', 'Passes AvgLen', 'Goal Kicks Att', 'Goal Kicks Launch%', 'Goal Kicks AvgLen', 'Crosses Opp', 'Crosses Stp', 'Crosses Stp%', 'Sweeper #OPA', 'Sweeper #OPA/90', 'Sweeper AvgDist']]]\n",
    "goalkeepers = pd.concat(frames, axis=1)"
   ]
  },
  {
   "cell_type": "code",
   "execution_count": 109,
   "metadata": {},
   "outputs": [],
   "source": [
    "players = players.replace(np.nan, 0)\n",
    "goalkeepers = goalkeepers.replace(np.nan, 0)\n",
    "utils.append_X_train(X_train, players, goalkeepers)"
   ]
  },
  {
   "cell_type": "code",
   "execution_count": 110,
   "metadata": {},
   "outputs": [],
   "source": [
    "url = 'https://raw.githubusercontent.com/sambuddharay/FinalYearProject/main/scrapping/data/La-Liga-Stats/2022-2023/player/La-Liga-Stats-2022-2023-defense-player.csv'\n",
    "df1 = pd.read_csv(url)\n",
    "url = 'https://raw.githubusercontent.com/sambuddharay/FinalYearProject/main/scrapping/data/La-Liga-Stats/2022-2023/player/La-Liga-Stats-2022-2023-gca-player.csv'\n",
    "df2 = pd.read_csv(url)\n",
    "url = 'https://raw.githubusercontent.com/sambuddharay/FinalYearProject/main/scrapping/data/La-Liga-Stats/2022-2023/player/La-Liga-Stats-2022-2023-misc-player.csv'\n",
    "df3 = pd.read_csv(url)\n",
    "url = 'https://raw.githubusercontent.com/sambuddharay/FinalYearProject/main/scrapping/data/La-Liga-Stats/2022-2023/player/La-Liga-Stats-2022-2023-passing-player.csv'\n",
    "df4 = pd.read_csv(url)\n",
    "url = 'https://raw.githubusercontent.com/sambuddharay/FinalYearProject/main/scrapping/data/La-Liga-Stats/2022-2023/player/La-Liga-Stats-2022-2023-possession-player.csv'\n",
    "df5 = pd.read_csv(url)\n",
    "url = 'https://raw.githubusercontent.com/sambuddharay/FinalYearProject/main/scrapping/data/La-Liga-Stats/2022-2023/player/La-Liga-Stats-2022-2023-shooting-player.csv'\n",
    "df6 = pd.read_csv(url)"
   ]
  },
  {
   "cell_type": "code",
   "execution_count": 111,
   "metadata": {},
   "outputs": [],
   "source": [
    "frames = [df1[['Player', 'Nation', 'Pos', 'Squad', 'Born', '90s', 'Tackles Tkl', 'Tackles TklW', 'Tackles Def 3rd', 'Tackles Mid 3rd', 'Tackles Att 3rd', 'Challenges Tkl', 'Challenges Att', 'Challenges Lost', 'Blocks Blocks', 'Blocks Sh', 'Blocks Pass', 'Int', 'Tkl+Int', 'Clr', 'Err']],\n",
    "          df2[['SCA SCA', 'SCA SCA90', 'SCA Types PassLive', 'SCA Types PassDead', 'SCA Types TO', 'SCA Types Sh', 'SCA Types Fld', 'SCA Types Def', 'GCA GCA', 'GCA GCA90', 'GCA Types PassLive', 'GCA Types PassDead', 'GCA Types TO', 'GCA Types Sh', 'GCA Types Fld', 'GCA Types Def']],\n",
    "          df3[['Performance CrdY', 'Performance CrdR', 'Performance 2CrdY', 'Performance Fls', 'Performance Fld', 'Performance Off', 'Performance Crs', 'Performance Int', 'Performance TklW', 'Performance PKwon', 'Performance PKcon', 'Performance OG', 'Performance Recov', 'Aerial Duels Won', 'Aerial Duels Lost']],\n",
    "          df4[['Total Cmp', 'Total Att', 'Total Cmp%', 'Total TotDist', 'Total PrgDist', 'Short Cmp', 'Short Att', 'Medium Cmp', 'Medium Att', 'Long Cmp', 'Long Att', 'Ast', 'xAG', 'Expected xA', 'Expected A-xAG', 'KP', '1/3', 'PPA', 'CrsPA', 'PrgP']],\n",
    "          df5[['Touches Touches', 'Touches Def Pen', 'Touches Def 3rd', 'Touches Mid 3rd', 'Touches Att 3rd', 'Touches Att Pen', 'Touches Live', 'Take-Ons Att', 'Take-Ons Succ', 'Take-Ons Tkld', 'Carries Carries', 'Carries TotDist', 'Carries PrgDist', 'Carries PrgC', 'Carries 1/3', 'Carries CPA', 'Carries Mis', 'Carries Dis', 'Receiving Rec', 'Receiving PrgR']],\n",
    "          df6[['Standard Gls', 'Standard Sh', 'Standard SoT','Standard Sh/90', 'Standard SoT/90', 'Standard G/Sh', 'Standard G/SoT', 'Standard Dist', 'Standard FK', 'Standard PK', 'Standard PKatt', 'Expected xG', 'Expected npxG', 'Expected npxG/Sh', 'Expected G-xG', 'Expected np:G-xG']]]\n",
    "players = pd.concat(frames, axis=1)"
   ]
  },
  {
   "cell_type": "code",
   "execution_count": 112,
   "metadata": {},
   "outputs": [],
   "source": [
    "url = 'https://raw.githubusercontent.com/sambuddharay/FinalYearProject/main/scrapping/data/La-Liga-Stats/2022-2023/player/La-Liga-Stats-2022-2023-keepers-player.csv'\n",
    "df7 = pd.read_csv(url)\n",
    "url = 'https://raw.githubusercontent.com/sambuddharay/FinalYearProject/main/scrapping/data/La-Liga-Stats/2022-2023/player/La-Liga-Stats-2022-2023-keepersadv-player.csv'\n",
    "df8 = pd.read_csv(url)"
   ]
  },
  {
   "cell_type": "code",
   "execution_count": 113,
   "metadata": {},
   "outputs": [],
   "source": [
    "df7=df7[df7['Playing Time 90s']>0]\n",
    "df8=df8[df8['90s']>0]\n",
    "frames = [df7[['Player', 'Performance GA', 'Performance GA90', 'Performance SoTA', 'Performance Saves', 'Performance Save%', 'Performance W', 'Performance D', 'Performance L', 'Performance CS', 'Performance CS%', 'Penalty Kicks PKatt', 'Penalty Kicks PKA', 'Penalty Kicks PKsv', 'Penalty Kicks PKm']],\n",
    "          df8[['Goals GA', 'Goals PKA', 'Goals FK', 'Goals CK', 'Goals OG', 'Expected PSxG', 'Expected PSxG/SoT', 'Expected PSxG+/-', 'Expected /90', 'Launched Cmp', 'Launched Att', 'Launched Cmp%', 'Passes Att (GK)', 'Passes Thr', 'Passes Launch%', 'Passes AvgLen', 'Goal Kicks Att', 'Goal Kicks Launch%', 'Goal Kicks AvgLen', 'Crosses Opp', 'Crosses Stp', 'Crosses Stp%', 'Sweeper #OPA', 'Sweeper #OPA/90', 'Sweeper AvgDist']]]\n",
    "goalkeepers = pd.concat(frames, axis=1)"
   ]
  },
  {
   "cell_type": "code",
   "execution_count": 114,
   "metadata": {},
   "outputs": [],
   "source": [
    "players = players.replace(np.nan, 0)\n",
    "goalkeepers = goalkeepers.replace(np.nan, 0)\n",
    "utils.append_X_train(X_train, players, goalkeepers)"
   ]
  },
  {
   "cell_type": "code",
   "execution_count": 115,
   "metadata": {},
   "outputs": [],
   "source": [
    "url = 'https://raw.githubusercontent.com/sambuddharay/FinalYearProject/main/scrapping/data/Ligue-1-Stats/2018-2019/player/Ligue-1-Stats-2018-2019-defense-player.csv'\n",
    "df1 = pd.read_csv(url)\n",
    "url = 'https://raw.githubusercontent.com/sambuddharay/FinalYearProject/main/scrapping/data/Ligue-1-Stats/2018-2019/player/Ligue-1-Stats-2018-2019-gca-player.csv'\n",
    "df2 = pd.read_csv(url)\n",
    "url = 'https://raw.githubusercontent.com/sambuddharay/FinalYearProject/main/scrapping/data/Ligue-1-Stats/2018-2019/player/Ligue-1-Stats-2018-2019-misc-player.csv'\n",
    "df3 = pd.read_csv(url)\n",
    "url = 'https://raw.githubusercontent.com/sambuddharay/FinalYearProject/main/scrapping/data/Ligue-1-Stats/2018-2019/player/Ligue-1-Stats-2018-2019-passing-player.csv'\n",
    "df4 = pd.read_csv(url)\n",
    "url = 'https://raw.githubusercontent.com/sambuddharay/FinalYearProject/main/scrapping/data/Ligue-1-Stats/2018-2019/player/Ligue-1-Stats-2018-2019-possession-player.csv'\n",
    "df5 = pd.read_csv(url)\n",
    "url = 'https://raw.githubusercontent.com/sambuddharay/FinalYearProject/main/scrapping/data/Ligue-1-Stats/2018-2019/player/Ligue-1-Stats-2018-2019-shooting-player.csv'\n",
    "df6 = pd.read_csv(url)"
   ]
  },
  {
   "cell_type": "code",
   "execution_count": 116,
   "metadata": {},
   "outputs": [],
   "source": [
    "frames = [df1[['Player', 'Nation', 'Pos', 'Squad', 'Born', '90s', 'Tackles Tkl', 'Tackles TklW', 'Tackles Def 3rd', 'Tackles Mid 3rd', 'Tackles Att 3rd', 'Challenges Tkl', 'Challenges Att', 'Challenges Lost', 'Blocks Blocks', 'Blocks Sh', 'Blocks Pass', 'Int', 'Tkl+Int', 'Clr', 'Err']],\n",
    "          df2[['SCA SCA', 'SCA SCA90', 'SCA Types PassLive', 'SCA Types PassDead', 'SCA Types TO', 'SCA Types Sh', 'SCA Types Fld', 'SCA Types Def', 'GCA GCA', 'GCA GCA90', 'GCA Types PassLive', 'GCA Types PassDead', 'GCA Types TO', 'GCA Types Sh', 'GCA Types Fld', 'GCA Types Def']],\n",
    "          df3[['Performance CrdY', 'Performance CrdR', 'Performance 2CrdY', 'Performance Fls', 'Performance Fld', 'Performance Off', 'Performance Crs', 'Performance Int', 'Performance TklW', 'Performance PKwon', 'Performance PKcon', 'Performance OG', 'Performance Recov', 'Aerial Duels Won', 'Aerial Duels Lost']],\n",
    "          df4[['Total Cmp', 'Total Att', 'Total Cmp%', 'Total TotDist', 'Total PrgDist', 'Short Cmp', 'Short Att', 'Medium Cmp', 'Medium Att', 'Long Cmp', 'Long Att', 'Ast', 'xAG', 'Expected xA', 'Expected A-xAG', 'KP', '1/3', 'PPA', 'CrsPA', 'PrgP']],\n",
    "          df5[['Touches Touches', 'Touches Def Pen', 'Touches Def 3rd', 'Touches Mid 3rd', 'Touches Att 3rd', 'Touches Att Pen', 'Touches Live', 'Take-Ons Att', 'Take-Ons Succ', 'Take-Ons Tkld', 'Carries Carries', 'Carries TotDist', 'Carries PrgDist', 'Carries PrgC', 'Carries 1/3', 'Carries CPA', 'Carries Mis', 'Carries Dis', 'Receiving Rec', 'Receiving PrgR']],\n",
    "          df6[['Standard Gls', 'Standard Sh', 'Standard SoT','Standard Sh/90', 'Standard SoT/90', 'Standard G/Sh', 'Standard G/SoT', 'Standard Dist', 'Standard FK', 'Standard PK', 'Standard PKatt', 'Expected xG', 'Expected npxG', 'Expected npxG/Sh', 'Expected G-xG', 'Expected np:G-xG']]]\n",
    "players = pd.concat(frames, axis=1)"
   ]
  },
  {
   "cell_type": "code",
   "execution_count": 117,
   "metadata": {},
   "outputs": [],
   "source": [
    "url = 'https://raw.githubusercontent.com/sambuddharay/FinalYearProject/main/scrapping/data/Ligue-1-Stats/2018-2019/player/Ligue-1-Stats-2018-2019-keepers-player.csv'\n",
    "df7 = pd.read_csv(url)\n",
    "url = 'https://raw.githubusercontent.com/sambuddharay/FinalYearProject/main/scrapping/data/Ligue-1-Stats/2018-2019/player/Ligue-1-Stats-2018-2019-keepersadv-player.csv'\n",
    "df8 = pd.read_csv(url)"
   ]
  },
  {
   "cell_type": "code",
   "execution_count": 118,
   "metadata": {},
   "outputs": [],
   "source": [
    "df7=df7[df7['Playing Time 90s']>0]\n",
    "df8=df8[df8['90s']>0]\n",
    "frames = [df7[['Player', 'Performance GA', 'Performance GA90', 'Performance SoTA', 'Performance Saves', 'Performance Save%', 'Performance W', 'Performance D', 'Performance L', 'Performance CS', 'Performance CS%', 'Penalty Kicks PKatt', 'Penalty Kicks PKA', 'Penalty Kicks PKsv', 'Penalty Kicks PKm']],\n",
    "          df8[['Goals GA', 'Goals PKA', 'Goals FK', 'Goals CK', 'Goals OG', 'Expected PSxG', 'Expected PSxG/SoT', 'Expected PSxG+/-', 'Expected /90', 'Launched Cmp', 'Launched Att', 'Launched Cmp%', 'Passes Att (GK)', 'Passes Thr', 'Passes Launch%', 'Passes AvgLen', 'Goal Kicks Att', 'Goal Kicks Launch%', 'Goal Kicks AvgLen', 'Crosses Opp', 'Crosses Stp', 'Crosses Stp%', 'Sweeper #OPA', 'Sweeper #OPA/90', 'Sweeper AvgDist']]]\n",
    "goalkeepers = pd.concat(frames, axis=1)"
   ]
  },
  {
   "cell_type": "code",
   "execution_count": 119,
   "metadata": {},
   "outputs": [],
   "source": [
    "players = players.replace(np.nan, 0)\n",
    "goalkeepers = goalkeepers.replace(np.nan, 0)\n",
    "utils.append_X_train(X_train, players, goalkeepers)"
   ]
  },
  {
   "cell_type": "code",
   "execution_count": 120,
   "metadata": {},
   "outputs": [],
   "source": [
    "url = 'https://raw.githubusercontent.com/sambuddharay/FinalYearProject/main/scrapping/data/Ligue-1-Stats/2019-2020/player/Ligue-1-Stats-2019-2020-defense-player.csv'\n",
    "df1 = pd.read_csv(url)\n",
    "url = 'https://raw.githubusercontent.com/sambuddharay/FinalYearProject/main/scrapping/data/Ligue-1-Stats/2019-2020/player/Ligue-1-Stats-2019-2020-gca-player.csv'\n",
    "df2 = pd.read_csv(url)\n",
    "url = 'https://raw.githubusercontent.com/sambuddharay/FinalYearProject/main/scrapping/data/Ligue-1-Stats/2019-2020/player/Ligue-1-Stats-2019-2020-misc-player.csv'\n",
    "df3 = pd.read_csv(url)\n",
    "url = 'https://raw.githubusercontent.com/sambuddharay/FinalYearProject/main/scrapping/data/Ligue-1-Stats/2019-2020/player/Ligue-1-Stats-2019-2020-passing-player.csv'\n",
    "df4 = pd.read_csv(url)\n",
    "url = 'https://raw.githubusercontent.com/sambuddharay/FinalYearProject/main/scrapping/data/Ligue-1-Stats/2019-2020/player/Ligue-1-Stats-2019-2020-possession-player.csv'\n",
    "df5 = pd.read_csv(url)\n",
    "url = 'https://raw.githubusercontent.com/sambuddharay/FinalYearProject/main/scrapping/data/Ligue-1-Stats/2019-2020/player/Ligue-1-Stats-2019-2020-shooting-player.csv'\n",
    "df6 = pd.read_csv(url)"
   ]
  },
  {
   "cell_type": "code",
   "execution_count": 121,
   "metadata": {},
   "outputs": [],
   "source": [
    "frames = [df1[['Player', 'Nation', 'Pos', 'Squad', 'Born', '90s', 'Tackles Tkl', 'Tackles TklW', 'Tackles Def 3rd', 'Tackles Mid 3rd', 'Tackles Att 3rd', 'Challenges Tkl', 'Challenges Att', 'Challenges Lost', 'Blocks Blocks', 'Blocks Sh', 'Blocks Pass', 'Int', 'Tkl+Int', 'Clr', 'Err']],\n",
    "          df2[['SCA SCA', 'SCA SCA90', 'SCA Types PassLive', 'SCA Types PassDead', 'SCA Types TO', 'SCA Types Sh', 'SCA Types Fld', 'SCA Types Def', 'GCA GCA', 'GCA GCA90', 'GCA Types PassLive', 'GCA Types PassDead', 'GCA Types TO', 'GCA Types Sh', 'GCA Types Fld', 'GCA Types Def']],\n",
    "          df3[['Performance CrdY', 'Performance CrdR', 'Performance 2CrdY', 'Performance Fls', 'Performance Fld', 'Performance Off', 'Performance Crs', 'Performance Int', 'Performance TklW', 'Performance PKwon', 'Performance PKcon', 'Performance OG', 'Performance Recov', 'Aerial Duels Won', 'Aerial Duels Lost']],\n",
    "          df4[['Total Cmp', 'Total Att', 'Total Cmp%', 'Total TotDist', 'Total PrgDist', 'Short Cmp', 'Short Att', 'Medium Cmp', 'Medium Att', 'Long Cmp', 'Long Att', 'Ast', 'xAG', 'Expected xA', 'Expected A-xAG', 'KP', '1/3', 'PPA', 'CrsPA', 'PrgP']],\n",
    "          df5[['Touches Touches', 'Touches Def Pen', 'Touches Def 3rd', 'Touches Mid 3rd', 'Touches Att 3rd', 'Touches Att Pen', 'Touches Live', 'Take-Ons Att', 'Take-Ons Succ', 'Take-Ons Tkld', 'Carries Carries', 'Carries TotDist', 'Carries PrgDist', 'Carries PrgC', 'Carries 1/3', 'Carries CPA', 'Carries Mis', 'Carries Dis', 'Receiving Rec', 'Receiving PrgR']],\n",
    "          df6[['Standard Gls', 'Standard Sh', 'Standard SoT','Standard Sh/90', 'Standard SoT/90', 'Standard G/Sh', 'Standard G/SoT', 'Standard Dist', 'Standard FK', 'Standard PK', 'Standard PKatt', 'Expected xG', 'Expected npxG', 'Expected npxG/Sh', 'Expected G-xG', 'Expected np:G-xG']]]\n",
    "players = pd.concat(frames, axis=1)"
   ]
  },
  {
   "cell_type": "code",
   "execution_count": 122,
   "metadata": {},
   "outputs": [],
   "source": [
    "url = 'https://raw.githubusercontent.com/sambuddharay/FinalYearProject/main/scrapping/data/Ligue-1-Stats/2019-2020/player/Ligue-1-Stats-2019-2020-keepers-player.csv'\n",
    "df7 = pd.read_csv(url)\n",
    "url = 'https://raw.githubusercontent.com/sambuddharay/FinalYearProject/main/scrapping/data/Ligue-1-Stats/2019-2020/player/Ligue-1-Stats-2019-2020-keepersadv-player.csv'\n",
    "df8 = pd.read_csv(url)"
   ]
  },
  {
   "cell_type": "code",
   "execution_count": 123,
   "metadata": {},
   "outputs": [],
   "source": [
    "df7=df7[df7['Playing Time 90s']>0]\n",
    "df8=df8[df8['90s']>0]\n",
    "frames = [df7[['Player', 'Performance GA', 'Performance GA90', 'Performance SoTA', 'Performance Saves', 'Performance Save%', 'Performance W', 'Performance D', 'Performance L', 'Performance CS', 'Performance CS%', 'Penalty Kicks PKatt', 'Penalty Kicks PKA', 'Penalty Kicks PKsv', 'Penalty Kicks PKm']],\n",
    "          df8[['Goals GA', 'Goals PKA', 'Goals FK', 'Goals CK', 'Goals OG', 'Expected PSxG', 'Expected PSxG/SoT', 'Expected PSxG+/-', 'Expected /90', 'Launched Cmp', 'Launched Att', 'Launched Cmp%', 'Passes Att (GK)', 'Passes Thr', 'Passes Launch%', 'Passes AvgLen', 'Goal Kicks Att', 'Goal Kicks Launch%', 'Goal Kicks AvgLen', 'Crosses Opp', 'Crosses Stp', 'Crosses Stp%', 'Sweeper #OPA', 'Sweeper #OPA/90', 'Sweeper AvgDist']]]\n",
    "goalkeepers = pd.concat(frames, axis=1)"
   ]
  },
  {
   "cell_type": "code",
   "execution_count": 124,
   "metadata": {},
   "outputs": [],
   "source": [
    "players = players.replace(np.nan, 0)\n",
    "goalkeepers = goalkeepers.replace(np.nan, 0)\n",
    "utils.append_X_train(X_train, players, goalkeepers)"
   ]
  },
  {
   "cell_type": "code",
   "execution_count": 125,
   "metadata": {},
   "outputs": [],
   "source": [
    "url = 'https://raw.githubusercontent.com/sambuddharay/FinalYearProject/main/scrapping/data/Ligue-1-Stats/2020-2021/player/Ligue-1-Stats-2020-2021-defense-player.csv'\n",
    "df1 = pd.read_csv(url)\n",
    "url = 'https://raw.githubusercontent.com/sambuddharay/FinalYearProject/main/scrapping/data/Ligue-1-Stats/2020-2021/player/Ligue-1-Stats-2020-2021-gca-player.csv'\n",
    "df2 = pd.read_csv(url)\n",
    "url = 'https://raw.githubusercontent.com/sambuddharay/FinalYearProject/main/scrapping/data/Ligue-1-Stats/2020-2021/player/Ligue-1-Stats-2020-2021-misc-player.csv'\n",
    "df3 = pd.read_csv(url)\n",
    "url = 'https://raw.githubusercontent.com/sambuddharay/FinalYearProject/main/scrapping/data/Ligue-1-Stats/2020-2021/player/Ligue-1-Stats-2020-2021-passing-player.csv'\n",
    "df4 = pd.read_csv(url)\n",
    "url = 'https://raw.githubusercontent.com/sambuddharay/FinalYearProject/main/scrapping/data/Ligue-1-Stats/2020-2021/player/Ligue-1-Stats-2020-2021-possession-player.csv'\n",
    "df5 = pd.read_csv(url)\n",
    "url = 'https://raw.githubusercontent.com/sambuddharay/FinalYearProject/main/scrapping/data/Ligue-1-Stats/2020-2021/player/Ligue-1-Stats-2020-2021-shooting-player.csv'\n",
    "df6 = pd.read_csv(url)"
   ]
  },
  {
   "cell_type": "code",
   "execution_count": 126,
   "metadata": {},
   "outputs": [],
   "source": [
    "frames = [df1[['Player', 'Nation', 'Pos', 'Squad', 'Born', '90s', 'Tackles Tkl', 'Tackles TklW', 'Tackles Def 3rd', 'Tackles Mid 3rd', 'Tackles Att 3rd', 'Challenges Tkl', 'Challenges Att', 'Challenges Lost', 'Blocks Blocks', 'Blocks Sh', 'Blocks Pass', 'Int', 'Tkl+Int', 'Clr', 'Err']],\n",
    "          df2[['SCA SCA', 'SCA SCA90', 'SCA Types PassLive', 'SCA Types PassDead', 'SCA Types TO', 'SCA Types Sh', 'SCA Types Fld', 'SCA Types Def', 'GCA GCA', 'GCA GCA90', 'GCA Types PassLive', 'GCA Types PassDead', 'GCA Types TO', 'GCA Types Sh', 'GCA Types Fld', 'GCA Types Def']],\n",
    "          df3[['Performance CrdY', 'Performance CrdR', 'Performance 2CrdY', 'Performance Fls', 'Performance Fld', 'Performance Off', 'Performance Crs', 'Performance Int', 'Performance TklW', 'Performance PKwon', 'Performance PKcon', 'Performance OG', 'Performance Recov', 'Aerial Duels Won', 'Aerial Duels Lost']],\n",
    "          df4[['Total Cmp', 'Total Att', 'Total Cmp%', 'Total TotDist', 'Total PrgDist', 'Short Cmp', 'Short Att', 'Medium Cmp', 'Medium Att', 'Long Cmp', 'Long Att', 'Ast', 'xAG', 'Expected xA', 'Expected A-xAG', 'KP', '1/3', 'PPA', 'CrsPA', 'PrgP']],\n",
    "          df5[['Touches Touches', 'Touches Def Pen', 'Touches Def 3rd', 'Touches Mid 3rd', 'Touches Att 3rd', 'Touches Att Pen', 'Touches Live', 'Take-Ons Att', 'Take-Ons Succ', 'Take-Ons Tkld', 'Carries Carries', 'Carries TotDist', 'Carries PrgDist', 'Carries PrgC', 'Carries 1/3', 'Carries CPA', 'Carries Mis', 'Carries Dis', 'Receiving Rec', 'Receiving PrgR']],\n",
    "          df6[['Standard Gls', 'Standard Sh', 'Standard SoT','Standard Sh/90', 'Standard SoT/90', 'Standard G/Sh', 'Standard G/SoT', 'Standard Dist', 'Standard FK', 'Standard PK', 'Standard PKatt', 'Expected xG', 'Expected npxG', 'Expected npxG/Sh', 'Expected G-xG', 'Expected np:G-xG']]]\n",
    "players = pd.concat(frames, axis=1)"
   ]
  },
  {
   "cell_type": "code",
   "execution_count": 127,
   "metadata": {},
   "outputs": [],
   "source": [
    "url = 'https://raw.githubusercontent.com/sambuddharay/FinalYearProject/main/scrapping/data/Ligue-1-Stats/2020-2021/player/Ligue-1-Stats-2020-2021-keepers-player.csv'\n",
    "df7 = pd.read_csv(url)\n",
    "url = 'https://raw.githubusercontent.com/sambuddharay/FinalYearProject/main/scrapping/data/Ligue-1-Stats/2020-2021/player/Ligue-1-Stats-2020-2021-keepersadv-player.csv'\n",
    "df8 = pd.read_csv(url)"
   ]
  },
  {
   "cell_type": "code",
   "execution_count": 128,
   "metadata": {},
   "outputs": [],
   "source": [
    "df7=df7[df7['Playing Time 90s']>0]\n",
    "df8=df8[df8['90s']>0]\n",
    "frames = [df7[['Player', 'Performance GA', 'Performance GA90', 'Performance SoTA', 'Performance Saves', 'Performance Save%', 'Performance W', 'Performance D', 'Performance L', 'Performance CS', 'Performance CS%', 'Penalty Kicks PKatt', 'Penalty Kicks PKA', 'Penalty Kicks PKsv', 'Penalty Kicks PKm']],\n",
    "          df8[['Goals GA', 'Goals PKA', 'Goals FK', 'Goals CK', 'Goals OG', 'Expected PSxG', 'Expected PSxG/SoT', 'Expected PSxG+/-', 'Expected /90', 'Launched Cmp', 'Launched Att', 'Launched Cmp%', 'Passes Att (GK)', 'Passes Thr', 'Passes Launch%', 'Passes AvgLen', 'Goal Kicks Att', 'Goal Kicks Launch%', 'Goal Kicks AvgLen', 'Crosses Opp', 'Crosses Stp', 'Crosses Stp%', 'Sweeper #OPA', 'Sweeper #OPA/90', 'Sweeper AvgDist']]]\n",
    "goalkeepers = pd.concat(frames, axis=1)"
   ]
  },
  {
   "cell_type": "code",
   "execution_count": 129,
   "metadata": {},
   "outputs": [],
   "source": [
    "players = players.replace(np.nan, 0)\n",
    "goalkeepers = goalkeepers.replace(np.nan, 0)\n",
    "utils.append_X_train(X_train, players, goalkeepers)"
   ]
  },
  {
   "cell_type": "code",
   "execution_count": 130,
   "metadata": {},
   "outputs": [],
   "source": [
    "url = 'https://raw.githubusercontent.com/sambuddharay/FinalYearProject/main/scrapping/data/Ligue-1-Stats/2021-2022/player/Ligue-1-Stats-2021-2022-defense-player.csv'\n",
    "df1 = pd.read_csv(url)\n",
    "url = 'https://raw.githubusercontent.com/sambuddharay/FinalYearProject/main/scrapping/data/Ligue-1-Stats/2021-2022/player/Ligue-1-Stats-2021-2022-gca-player.csv'\n",
    "df2 = pd.read_csv(url)\n",
    "url = 'https://raw.githubusercontent.com/sambuddharay/FinalYearProject/main/scrapping/data/Ligue-1-Stats/2021-2022/player/Ligue-1-Stats-2021-2022-misc-player.csv'\n",
    "df3 = pd.read_csv(url)\n",
    "url = 'https://raw.githubusercontent.com/sambuddharay/FinalYearProject/main/scrapping/data/Ligue-1-Stats/2021-2022/player/Ligue-1-Stats-2021-2022-passing-player.csv'\n",
    "df4 = pd.read_csv(url)\n",
    "url = 'https://raw.githubusercontent.com/sambuddharay/FinalYearProject/main/scrapping/data/Ligue-1-Stats/2021-2022/player/Ligue-1-Stats-2021-2022-possession-player.csv'\n",
    "df5 = pd.read_csv(url)\n",
    "url = 'https://raw.githubusercontent.com/sambuddharay/FinalYearProject/main/scrapping/data/Ligue-1-Stats/2021-2022/player/Ligue-1-Stats-2021-2022-shooting-player.csv'\n",
    "df6 = pd.read_csv(url)"
   ]
  },
  {
   "cell_type": "code",
   "execution_count": 131,
   "metadata": {},
   "outputs": [],
   "source": [
    "frames = [df1[['Player', 'Nation', 'Pos', 'Squad', 'Born', '90s', 'Tackles Tkl', 'Tackles TklW', 'Tackles Def 3rd', 'Tackles Mid 3rd', 'Tackles Att 3rd', 'Challenges Tkl', 'Challenges Att', 'Challenges Lost', 'Blocks Blocks', 'Blocks Sh', 'Blocks Pass', 'Int', 'Tkl+Int', 'Clr', 'Err']],\n",
    "          df2[['SCA SCA', 'SCA SCA90', 'SCA Types PassLive', 'SCA Types PassDead', 'SCA Types TO', 'SCA Types Sh', 'SCA Types Fld', 'SCA Types Def', 'GCA GCA', 'GCA GCA90', 'GCA Types PassLive', 'GCA Types PassDead', 'GCA Types TO', 'GCA Types Sh', 'GCA Types Fld', 'GCA Types Def']],\n",
    "          df3[['Performance CrdY', 'Performance CrdR', 'Performance 2CrdY', 'Performance Fls', 'Performance Fld', 'Performance Off', 'Performance Crs', 'Performance Int', 'Performance TklW', 'Performance PKwon', 'Performance PKcon', 'Performance OG', 'Performance Recov', 'Aerial Duels Won', 'Aerial Duels Lost']],\n",
    "          df4[['Total Cmp', 'Total Att', 'Total Cmp%', 'Total TotDist', 'Total PrgDist', 'Short Cmp', 'Short Att', 'Medium Cmp', 'Medium Att', 'Long Cmp', 'Long Att', 'Ast', 'xAG', 'Expected xA', 'Expected A-xAG', 'KP', '1/3', 'PPA', 'CrsPA', 'PrgP']],\n",
    "          df5[['Touches Touches', 'Touches Def Pen', 'Touches Def 3rd', 'Touches Mid 3rd', 'Touches Att 3rd', 'Touches Att Pen', 'Touches Live', 'Take-Ons Att', 'Take-Ons Succ', 'Take-Ons Tkld', 'Carries Carries', 'Carries TotDist', 'Carries PrgDist', 'Carries PrgC', 'Carries 1/3', 'Carries CPA', 'Carries Mis', 'Carries Dis', 'Receiving Rec', 'Receiving PrgR']],\n",
    "          df6[['Standard Gls', 'Standard Sh', 'Standard SoT','Standard Sh/90', 'Standard SoT/90', 'Standard G/Sh', 'Standard G/SoT', 'Standard Dist', 'Standard FK', 'Standard PK', 'Standard PKatt', 'Expected xG', 'Expected npxG', 'Expected npxG/Sh', 'Expected G-xG', 'Expected np:G-xG']]]\n",
    "players = pd.concat(frames, axis=1)"
   ]
  },
  {
   "cell_type": "code",
   "execution_count": 132,
   "metadata": {},
   "outputs": [],
   "source": [
    "url = 'https://raw.githubusercontent.com/sambuddharay/FinalYearProject/main/scrapping/data/Ligue-1-Stats/2021-2022/player/Ligue-1-Stats-2021-2022-keepers-player.csv'\n",
    "df7 = pd.read_csv(url)\n",
    "url = 'https://raw.githubusercontent.com/sambuddharay/FinalYearProject/main/scrapping/data/Ligue-1-Stats/2021-2022/player/Ligue-1-Stats-2021-2022-keepersadv-player.csv'\n",
    "df8 = pd.read_csv(url)"
   ]
  },
  {
   "cell_type": "code",
   "execution_count": 133,
   "metadata": {},
   "outputs": [],
   "source": [
    "df7=df7[df7['Playing Time 90s']>0]\n",
    "df8=df8[df8['90s']>0]\n",
    "frames = [df7[['Player', 'Performance GA', 'Performance GA90', 'Performance SoTA', 'Performance Saves', 'Performance Save%', 'Performance W', 'Performance D', 'Performance L', 'Performance CS', 'Performance CS%', 'Penalty Kicks PKatt', 'Penalty Kicks PKA', 'Penalty Kicks PKsv', 'Penalty Kicks PKm']],\n",
    "          df8[['Goals GA', 'Goals PKA', 'Goals FK', 'Goals CK', 'Goals OG', 'Expected PSxG', 'Expected PSxG/SoT', 'Expected PSxG+/-', 'Expected /90', 'Launched Cmp', 'Launched Att', 'Launched Cmp%', 'Passes Att (GK)', 'Passes Thr', 'Passes Launch%', 'Passes AvgLen', 'Goal Kicks Att', 'Goal Kicks Launch%', 'Goal Kicks AvgLen', 'Crosses Opp', 'Crosses Stp', 'Crosses Stp%', 'Sweeper #OPA', 'Sweeper #OPA/90', 'Sweeper AvgDist']]]\n",
    "goalkeepers = pd.concat(frames, axis=1)"
   ]
  },
  {
   "cell_type": "code",
   "execution_count": 134,
   "metadata": {},
   "outputs": [],
   "source": [
    "players = players.replace(np.nan, 0)\n",
    "goalkeepers = goalkeepers.replace(np.nan, 0)\n",
    "utils.append_X_train(X_train, players, goalkeepers)"
   ]
  },
  {
   "cell_type": "code",
   "execution_count": 135,
   "metadata": {},
   "outputs": [],
   "source": [
    "url = 'https://raw.githubusercontent.com/sambuddharay/FinalYearProject/main/scrapping/data/Ligue-1-Stats/2022-2023/player/Ligue-1-Stats-2022-2023-defense-player.csv'\n",
    "df1 = pd.read_csv(url)\n",
    "url = 'https://raw.githubusercontent.com/sambuddharay/FinalYearProject/main/scrapping/data/Ligue-1-Stats/2022-2023/player/Ligue-1-Stats-2022-2023-gca-player.csv'\n",
    "df2 = pd.read_csv(url)\n",
    "url = 'https://raw.githubusercontent.com/sambuddharay/FinalYearProject/main/scrapping/data/Ligue-1-Stats/2022-2023/player/Ligue-1-Stats-2022-2023-misc-player.csv'\n",
    "df3 = pd.read_csv(url)\n",
    "url = 'https://raw.githubusercontent.com/sambuddharay/FinalYearProject/main/scrapping/data/Ligue-1-Stats/2022-2023/player/Ligue-1-Stats-2022-2023-passing-player.csv'\n",
    "df4 = pd.read_csv(url)\n",
    "url = 'https://raw.githubusercontent.com/sambuddharay/FinalYearProject/main/scrapping/data/Ligue-1-Stats/2022-2023/player/Ligue-1-Stats-2022-2023-possession-player.csv'\n",
    "df5 = pd.read_csv(url)\n",
    "url = 'https://raw.githubusercontent.com/sambuddharay/FinalYearProject/main/scrapping/data/Ligue-1-Stats/2022-2023/player/Ligue-1-Stats-2022-2023-shooting-player.csv'\n",
    "df6 = pd.read_csv(url)"
   ]
  },
  {
   "cell_type": "code",
   "execution_count": 136,
   "metadata": {},
   "outputs": [],
   "source": [
    "frames = [df1[['Player', 'Nation', 'Pos', 'Squad', 'Born', '90s', 'Tackles Tkl', 'Tackles TklW', 'Tackles Def 3rd', 'Tackles Mid 3rd', 'Tackles Att 3rd', 'Challenges Tkl', 'Challenges Att', 'Challenges Lost', 'Blocks Blocks', 'Blocks Sh', 'Blocks Pass', 'Int', 'Tkl+Int', 'Clr', 'Err']],\n",
    "          df2[['SCA SCA', 'SCA SCA90', 'SCA Types PassLive', 'SCA Types PassDead', 'SCA Types TO', 'SCA Types Sh', 'SCA Types Fld', 'SCA Types Def', 'GCA GCA', 'GCA GCA90', 'GCA Types PassLive', 'GCA Types PassDead', 'GCA Types TO', 'GCA Types Sh', 'GCA Types Fld', 'GCA Types Def']],\n",
    "          df3[['Performance CrdY', 'Performance CrdR', 'Performance 2CrdY', 'Performance Fls', 'Performance Fld', 'Performance Off', 'Performance Crs', 'Performance Int', 'Performance TklW', 'Performance PKwon', 'Performance PKcon', 'Performance OG', 'Performance Recov', 'Aerial Duels Won', 'Aerial Duels Lost']],\n",
    "          df4[['Total Cmp', 'Total Att', 'Total Cmp%', 'Total TotDist', 'Total PrgDist', 'Short Cmp', 'Short Att', 'Medium Cmp', 'Medium Att', 'Long Cmp', 'Long Att', 'Ast', 'xAG', 'Expected xA', 'Expected A-xAG', 'KP', '1/3', 'PPA', 'CrsPA', 'PrgP']],\n",
    "          df5[['Touches Touches', 'Touches Def Pen', 'Touches Def 3rd', 'Touches Mid 3rd', 'Touches Att 3rd', 'Touches Att Pen', 'Touches Live', 'Take-Ons Att', 'Take-Ons Succ', 'Take-Ons Tkld', 'Carries Carries', 'Carries TotDist', 'Carries PrgDist', 'Carries PrgC', 'Carries 1/3', 'Carries CPA', 'Carries Mis', 'Carries Dis', 'Receiving Rec', 'Receiving PrgR']],\n",
    "          df6[['Standard Gls', 'Standard Sh', 'Standard SoT','Standard Sh/90', 'Standard SoT/90', 'Standard G/Sh', 'Standard G/SoT', 'Standard Dist', 'Standard FK', 'Standard PK', 'Standard PKatt', 'Expected xG', 'Expected npxG', 'Expected npxG/Sh', 'Expected G-xG', 'Expected np:G-xG']]]\n",
    "players = pd.concat(frames, axis=1)"
   ]
  },
  {
   "cell_type": "code",
   "execution_count": 137,
   "metadata": {},
   "outputs": [],
   "source": [
    "url = 'https://raw.githubusercontent.com/sambuddharay/FinalYearProject/main/scrapping/data/Ligue-1-Stats/2022-2023/player/Ligue-1-Stats-2022-2023-keepers-player.csv'\n",
    "df7 = pd.read_csv(url)\n",
    "url = 'https://raw.githubusercontent.com/sambuddharay/FinalYearProject/main/scrapping/data/Ligue-1-Stats/2022-2023/player/Ligue-1-Stats-2022-2023-keepersadv-player.csv'\n",
    "df8 = pd.read_csv(url)"
   ]
  },
  {
   "cell_type": "code",
   "execution_count": 138,
   "metadata": {},
   "outputs": [],
   "source": [
    "df7=df7[df7['Playing Time 90s']>0]\n",
    "df8=df8[df8['90s']>0]\n",
    "frames = [df7[['Player', 'Performance GA', 'Performance GA90', 'Performance SoTA', 'Performance Saves', 'Performance Save%', 'Performance W', 'Performance D', 'Performance L', 'Performance CS', 'Performance CS%', 'Penalty Kicks PKatt', 'Penalty Kicks PKA', 'Penalty Kicks PKsv', 'Penalty Kicks PKm']],\n",
    "          df8[['Goals GA', 'Goals PKA', 'Goals FK', 'Goals CK', 'Goals OG', 'Expected PSxG', 'Expected PSxG/SoT', 'Expected PSxG+/-', 'Expected /90', 'Launched Cmp', 'Launched Att', 'Launched Cmp%', 'Passes Att (GK)', 'Passes Thr', 'Passes Launch%', 'Passes AvgLen', 'Goal Kicks Att', 'Goal Kicks Launch%', 'Goal Kicks AvgLen', 'Crosses Opp', 'Crosses Stp', 'Crosses Stp%', 'Sweeper #OPA', 'Sweeper #OPA/90', 'Sweeper AvgDist']]]\n",
    "goalkeepers = pd.concat(frames, axis=1)"
   ]
  },
  {
   "cell_type": "code",
   "execution_count": 139,
   "metadata": {},
   "outputs": [],
   "source": [
    "players = players.replace(np.nan, 0)\n",
    "goalkeepers = goalkeepers.replace(np.nan, 0)\n",
    "utils.append_X_train(X_train, players, goalkeepers)"
   ]
  },
  {
   "cell_type": "code",
   "execution_count": 140,
   "metadata": {},
   "outputs": [
    {
     "data": {
      "text/plain": [
       "(490, 60, 142)"
      ]
     },
     "execution_count": 140,
     "metadata": {},
     "output_type": "execute_result"
    }
   ],
   "source": [
    "X_train = np.array(X_train)\n",
    "X_train.shape"
   ]
  },
  {
   "cell_type": "code",
   "execution_count": 141,
   "metadata": {},
   "outputs": [],
   "source": [
    "for x in X_train:\n",
    "    np.random.shuffle(x)"
   ]
  },
  {
   "cell_type": "code",
   "execution_count": 142,
   "metadata": {},
   "outputs": [
    {
     "data": {
      "text/plain": [
       "(490, 60, 142)"
      ]
     },
     "execution_count": 142,
     "metadata": {},
     "output_type": "execute_result"
    }
   ],
   "source": [
    "X_train = np.array(X_train)\n",
    "X_train.shape"
   ]
  },
  {
   "cell_type": "code",
   "execution_count": 143,
   "metadata": {},
   "outputs": [],
   "source": [
    "# X_train = X_train.reshape(-1, X_train.shape[-1])\n",
    "# X_train.shape"
   ]
  },
  {
   "cell_type": "code",
   "execution_count": 144,
   "metadata": {},
   "outputs": [],
   "source": [
    "url = 'https://raw.githubusercontent.com/sambuddharay/FinalYearProject/main/scrapping/data/Premier-League-Stats/2018-2019/squad/Premier-League-Stats-2018-2019-shooting-squad.csv'\n",
    "df1 = pd.read_csv(url)\n",
    "url = 'https://raw.githubusercontent.com/sambuddharay/FinalYearProject/main/scrapping/data/Premier-League-Stats/2019-2020/squad/Premier-League-Stats-2019-2020-shooting-squad.csv'\n",
    "df2 = pd.read_csv(url)\n",
    "url = 'https://raw.githubusercontent.com/sambuddharay/FinalYearProject/main/scrapping/data/Premier-League-Stats/2020-2021/squad/Premier-League-Stats-2020-2021-shooting-squad.csv'\n",
    "df3 = pd.read_csv(url)\n",
    "url = 'https://raw.githubusercontent.com/sambuddharay/FinalYearProject/main/scrapping/data/Premier-League-Stats/2021-2022/squad/Premier-League-Stats-2021-2022-shooting-squad.csv'\n",
    "df4 = pd.read_csv(url)\n",
    "url = 'https://raw.githubusercontent.com/sambuddharay/FinalYearProject/main/scrapping/data/Premier-League-Stats/2022-2023/squad/Premier-League-Stats-2022-2023-shooting-squad.csv'\n",
    "df5 = pd.read_csv(url)"
   ]
  },
  {
   "cell_type": "code",
   "execution_count": 145,
   "metadata": {},
   "outputs": [
    {
     "data": {
      "text/plain": [
       "(100, 21)"
      ]
     },
     "execution_count": 145,
     "metadata": {},
     "output_type": "execute_result"
    }
   ],
   "source": [
    "frames = [df1, df2, df3, df4, df5]\n",
    "df_premleague = pd.concat(frames)\n",
    "df_premleague.shape"
   ]
  },
  {
   "cell_type": "code",
   "execution_count": 146,
   "metadata": {},
   "outputs": [],
   "source": [
    "url = 'https://raw.githubusercontent.com/sambuddharay/FinalYearProject/main/scrapping/data/Serie-A-Stats/2018-2019/squad/Serie-A-Stats-2018-2019-shooting-squad.csv'\n",
    "df1 = pd.read_csv(url)\n",
    "url = 'https://raw.githubusercontent.com/sambuddharay/FinalYearProject/main/scrapping/data/Serie-A-Stats/2019-2020/squad/Serie-A-Stats-2019-2020-shooting-squad.csv'\n",
    "df2 = pd.read_csv(url)\n",
    "url = 'https://raw.githubusercontent.com/sambuddharay/FinalYearProject/main/scrapping/data/Serie-A-Stats/2020-2021/squad/Serie-A-Stats-2020-2021-shooting-squad.csv'\n",
    "df3 = pd.read_csv(url)\n",
    "url = 'https://raw.githubusercontent.com/sambuddharay/FinalYearProject/main/scrapping/data/Serie-A-Stats/2021-2022/squad/Serie-A-Stats-2021-2022-shooting-squad.csv'\n",
    "df4 = pd.read_csv(url)\n",
    "url = 'https://raw.githubusercontent.com/sambuddharay/FinalYearProject/main/scrapping/data/Serie-A-Stats/2022-2023/squad/Serie-A-Stats-2022-2023-shooting-squad.csv'\n",
    "df5 = pd.read_csv(url)"
   ]
  },
  {
   "cell_type": "code",
   "execution_count": 147,
   "metadata": {},
   "outputs": [
    {
     "data": {
      "text/plain": [
       "(100, 21)"
      ]
     },
     "execution_count": 147,
     "metadata": {},
     "output_type": "execute_result"
    }
   ],
   "source": [
    "frames = [df1, df2, df3, df4, df5]\n",
    "df_serie_a = pd.concat(frames)\n",
    "df_serie_a.shape"
   ]
  },
  {
   "cell_type": "code",
   "execution_count": 148,
   "metadata": {},
   "outputs": [],
   "source": [
    "url = 'https://raw.githubusercontent.com/sambuddharay/FinalYearProject/main/scrapping/data/Bundesliga-Stats/2018-2019/squad/Bundesliga-Stats-2018-2019-shooting-squad.csv'\n",
    "df1 = pd.read_csv(url)\n",
    "url = 'https://raw.githubusercontent.com/sambuddharay/FinalYearProject/main/scrapping/data/Bundesliga-Stats/2019-2020/squad/Bundesliga-Stats-2019-2020-shooting-squad.csv'\n",
    "df2 = pd.read_csv(url)\n",
    "url = 'https://raw.githubusercontent.com/sambuddharay/FinalYearProject/main/scrapping/data/Bundesliga-Stats/2020-2021/squad/Bundesliga-Stats-2020-2021-shooting-squad.csv'\n",
    "df3 = pd.read_csv(url)\n",
    "url = 'https://raw.githubusercontent.com/sambuddharay/FinalYearProject/main/scrapping/data/Bundesliga-Stats/2021-2022/squad/Bundesliga-Stats-2021-2022-shooting-squad.csv'\n",
    "df4 = pd.read_csv(url)\n",
    "url = 'https://raw.githubusercontent.com/sambuddharay/FinalYearProject/main/scrapping/data/Bundesliga-Stats/2022-2023/squad/Bundesliga-Stats-2022-2023-shooting-squad.csv'\n",
    "df5 = pd.read_csv(url)"
   ]
  },
  {
   "cell_type": "code",
   "execution_count": 149,
   "metadata": {},
   "outputs": [
    {
     "data": {
      "text/plain": [
       "(90, 21)"
      ]
     },
     "execution_count": 149,
     "metadata": {},
     "output_type": "execute_result"
    }
   ],
   "source": [
    "frames = [df1, df2, df3, df4, df5]\n",
    "df_bundesliga = pd.concat(frames)\n",
    "df_bundesliga.shape"
   ]
  },
  {
   "cell_type": "code",
   "execution_count": 150,
   "metadata": {},
   "outputs": [],
   "source": [
    "url = 'https://raw.githubusercontent.com/sambuddharay/FinalYearProject/main/scrapping/data/La-Liga-Stats/2018-2019/squad/La-Liga-Stats-2018-2019-shooting-squad.csv'\n",
    "df1 = pd.read_csv(url)\n",
    "url = 'https://raw.githubusercontent.com/sambuddharay/FinalYearProject/main/scrapping/data/La-Liga-Stats/2019-2020/squad/La-Liga-Stats-2019-2020-shooting-squad.csv'\n",
    "df2 = pd.read_csv(url)\n",
    "url = 'https://raw.githubusercontent.com/sambuddharay/FinalYearProject/main/scrapping/data/La-Liga-Stats/2020-2021/squad/La-Liga-Stats-2020-2021-shooting-squad.csv'\n",
    "df3 = pd.read_csv(url)\n",
    "url = 'https://raw.githubusercontent.com/sambuddharay/FinalYearProject/main/scrapping/data/La-Liga-Stats/2021-2022/squad/La-Liga-Stats-2021-2022-shooting-squad.csv'\n",
    "df4 = pd.read_csv(url)\n",
    "url = 'https://raw.githubusercontent.com/sambuddharay/FinalYearProject/main/scrapping/data/La-Liga-Stats/2022-2023/squad/La-Liga-Stats-2022-2023-shooting-squad.csv'\n",
    "df5 = pd.read_csv(url)"
   ]
  },
  {
   "cell_type": "code",
   "execution_count": 151,
   "metadata": {},
   "outputs": [
    {
     "data": {
      "text/plain": [
       "(100, 21)"
      ]
     },
     "execution_count": 151,
     "metadata": {},
     "output_type": "execute_result"
    }
   ],
   "source": [
    "frames = [df1, df2, df3, df4, df5]\n",
    "df_la_liga = pd.concat(frames)\n",
    "df_la_liga.shape"
   ]
  },
  {
   "cell_type": "code",
   "execution_count": 152,
   "metadata": {},
   "outputs": [],
   "source": [
    "url = 'https://raw.githubusercontent.com/sambuddharay/FinalYearProject/main/scrapping/data/Ligue-1-Stats/2018-2019/squad/Ligue-1-Stats-2018-2019-shooting-squad.csv'\n",
    "df1 = pd.read_csv(url)\n",
    "url = 'https://raw.githubusercontent.com/sambuddharay/FinalYearProject/main/scrapping/data/Ligue-1-Stats/2019-2020/squad/Ligue-1-Stats-2019-2020-shooting-squad.csv'\n",
    "df2 = pd.read_csv(url)\n",
    "url = 'https://raw.githubusercontent.com/sambuddharay/FinalYearProject/main/scrapping/data/Ligue-1-Stats/2020-2021/squad/Ligue-1-Stats-2020-2021-shooting-squad.csv'\n",
    "df3 = pd.read_csv(url)\n",
    "url = 'https://raw.githubusercontent.com/sambuddharay/FinalYearProject/main/scrapping/data/Ligue-1-Stats/2021-2022/squad/Ligue-1-Stats-2021-2022-shooting-squad.csv'\n",
    "df4 = pd.read_csv(url)\n",
    "url = 'https://raw.githubusercontent.com/sambuddharay/FinalYearProject/main/scrapping/data/Ligue-1-Stats/2022-2023/squad/Ligue-1-Stats-2022-2023-shooting-squad.csv'\n",
    "df5 = pd.read_csv(url)"
   ]
  },
  {
   "cell_type": "code",
   "execution_count": 153,
   "metadata": {},
   "outputs": [
    {
     "data": {
      "text/plain": [
       "(100, 21)"
      ]
     },
     "execution_count": 153,
     "metadata": {},
     "output_type": "execute_result"
    }
   ],
   "source": [
    "frames = [df1, df2, df3, df4, df5]\n",
    "df_ligue_1 = pd.concat(frames)\n",
    "df_ligue_1.shape"
   ]
  },
  {
   "cell_type": "code",
   "execution_count": 154,
   "metadata": {},
   "outputs": [
    {
     "data": {
      "text/plain": [
       "(490, 21)"
      ]
     },
     "execution_count": 154,
     "metadata": {},
     "output_type": "execute_result"
    }
   ],
   "source": [
    "frames = [df_premleague, df_serie_a, df_bundesliga, df_la_liga, df_ligue_1]\n",
    "df_all_leagues = pd.concat(frames)\n",
    "df_all_leagues.shape"
   ]
  },
  {
   "cell_type": "code",
   "execution_count": 155,
   "metadata": {},
   "outputs": [
    {
     "data": {
      "text/plain": [
       "(490, 1)"
      ]
     },
     "execution_count": 155,
     "metadata": {},
     "output_type": "execute_result"
    }
   ],
   "source": [
    "y_train = df_all_leagues[['Points']]\n",
    "y_train.shape"
   ]
  },
  {
   "cell_type": "code",
   "execution_count": 156,
   "metadata": {},
   "outputs": [
    {
     "data": {
      "text/plain": [
       "490"
      ]
     },
     "execution_count": 156,
     "metadata": {},
     "output_type": "execute_result"
    }
   ],
   "source": [
    "y_train = np.asarray(y_train)\n",
    "len(y_train)"
   ]
  },
  {
   "cell_type": "code",
   "execution_count": 157,
   "metadata": {},
   "outputs": [],
   "source": [
    "import shap\n",
    "from pdpbox import pdp, info_plots"
   ]
  },
  {
   "cell_type": "code",
   "execution_count": 158,
   "metadata": {},
   "outputs": [],
   "source": [
    "from tensorflow.keras import Sequential\n",
    "from tensorflow.keras.layers import Dense, Conv2D, Flatten, Input, Concatenate, Dropout\n",
    "from tensorflow.keras.models import Model\n",
    "from numpy.random import seed\n",
    "from tensorflow.keras.optimizers import RMSprop\n",
    "from scikeras.wrappers import KerasRegressor\n",
    "import keras_tuner as kt\n",
    "import tensorflow\n",
    "from tensorflow.keras import regularizers"
   ]
  },
  {
   "cell_type": "code",
   "execution_count": 159,
   "metadata": {},
   "outputs": [
    {
     "name": "stdout",
     "output_type": "stream",
     "text": [
      "(490, 60, 141)\n",
      "(490, 60, 141)\n",
      "(490, 60, 141)\n",
      "(490, 60, 141)\n",
      "(490, 60, 141)\n",
      "(490, 60, 141)\n",
      "(490, 60, 141)\n",
      "(490, 60, 141)\n",
      "(490, 60, 141)\n",
      "(490, 60, 141)\n",
      "(490, 60, 141)\n",
      "(490, 60, 141)\n",
      "(490, 60, 141)\n",
      "(490, 60, 141)\n",
      "(490, 60, 141)\n",
      "(490, 60, 141)\n",
      "(490, 60, 141)\n",
      "(490, 60, 141)\n",
      "(490, 60, 141)\n",
      "(490, 60, 141)\n",
      "(490, 60, 141)\n",
      "(490, 60, 141)\n",
      "(490, 60, 141)\n",
      "(490, 60, 141)\n",
      "(490, 60, 141)\n",
      "(490, 60, 141)\n",
      "(490, 60, 141)\n",
      "(490, 60, 141)\n",
      "(490, 60, 141)\n",
      "(490, 60, 141)\n",
      "(490, 60, 141)\n",
      "(490, 60, 141)\n",
      "(490, 60, 141)\n",
      "(490, 60, 141)\n",
      "(490, 60, 141)\n",
      "(490, 60, 141)\n",
      "(490, 60, 141)\n",
      "(490, 60, 141)\n",
      "(490, 60, 141)\n",
      "(490, 60, 141)\n",
      "(490, 60, 141)\n",
      "(490, 60, 141)\n",
      "(490, 60, 141)\n",
      "(490, 60, 141)\n",
      "(490, 60, 141)\n",
      "(490, 60, 141)\n",
      "(490, 60, 141)\n",
      "(490, 60, 141)\n",
      "(490, 60, 141)\n",
      "(490, 60, 141)\n",
      "(490, 60, 141)\n",
      "(490, 60, 141)\n",
      "(490, 60, 141)\n",
      "(490, 60, 141)\n",
      "(490, 60, 141)\n",
      "(490, 60, 141)\n",
      "(490, 60, 141)\n",
      "(490, 60, 141)\n",
      "(490, 60, 141)\n",
      "(490, 60, 141)\n",
      "(490, 60, 141)\n",
      "(490, 60, 141)\n",
      "(490, 60, 141)\n",
      "(490, 60, 141)\n",
      "(490, 60, 141)\n",
      "(490, 60, 141)\n",
      "(490, 60, 141)\n",
      "(490, 60, 141)\n",
      "(490, 60, 141)\n",
      "(490, 60, 141)\n",
      "(490, 60, 141)\n",
      "(490, 60, 141)\n",
      "(490, 60, 141)\n",
      "(490, 60, 141)\n",
      "(490, 60, 141)\n",
      "(490, 60, 141)\n",
      "(490, 60, 141)\n",
      "(490, 60, 141)\n",
      "(490, 60, 141)\n",
      "(490, 60, 141)\n",
      "(490, 60, 141)\n",
      "(490, 60, 141)\n",
      "(490, 60, 141)\n",
      "(490, 60, 141)\n",
      "(490, 60, 141)\n",
      "(490, 60, 141)\n",
      "(490, 60, 141)\n",
      "(490, 60, 141)\n",
      "(490, 60, 141)\n",
      "(490, 60, 141)\n",
      "(490, 60, 141)\n",
      "(490, 60, 141)\n",
      "(490, 60, 141)\n",
      "(490, 60, 141)\n",
      "(490, 60, 141)\n",
      "(490, 60, 141)\n",
      "(490, 60, 141)\n",
      "(490, 60, 141)\n",
      "(490, 60, 141)\n",
      "(490, 60, 141)\n",
      "(490, 60, 141)\n",
      "(490, 60, 141)\n",
      "(490, 60, 141)\n",
      "(490, 60, 141)\n",
      "(490, 60, 141)\n",
      "(490, 60, 141)\n",
      "(490, 60, 141)\n",
      "(490, 60, 141)\n",
      "(490, 60, 141)\n",
      "(490, 60, 141)\n",
      "(490, 60, 141)\n",
      "(490, 60, 141)\n",
      "(490, 60, 141)\n",
      "(490, 60, 141)\n",
      "(490, 60, 141)\n",
      "(490, 60, 141)\n",
      "(490, 60, 141)\n",
      "(490, 60, 141)\n",
      "(490, 60, 141)\n",
      "(490, 60, 141)\n",
      "(490, 60, 141)\n",
      "(490, 60, 141)\n",
      "(490, 60, 141)\n",
      "(490, 60, 141)\n",
      "(490, 60, 141)\n",
      "(490, 60, 141)\n",
      "(490, 60, 141)\n",
      "(490, 60, 141)\n",
      "(490, 60, 141)\n",
      "(490, 60, 141)\n",
      "(490, 60, 141)\n",
      "(490, 60, 141)\n",
      "(490, 60, 141)\n",
      "(490, 60, 141)\n",
      "(490, 60, 141)\n",
      "(490, 60, 141)\n",
      "(490, 60, 141)\n",
      "(490, 60, 141)\n",
      "(490, 60, 141)\n",
      "(490, 60, 141)\n",
      "(490, 60, 141)\n",
      "(490, 60, 141)\n",
      "Feature with least impact: 118\n"
     ]
    }
   ],
   "source": [
    "\n",
    "# Define function to create and train the model\n",
    "def train_model(X_train, y_train):\n",
    "    previous_model = Sequential([\n",
    "        Dense(256, activation='relu', kernel_regularizer=regularizers.l2(0.01), input_shape=(142,)),\n",
    "        Dense(128, activation='relu', kernel_regularizer=regularizers.l2(0.01)),\n",
    "        Dense(64, activation='relu', kernel_regularizer=regularizers.l2(0.01)),\n",
    "        Dense(32, activation='relu', kernel_regularizer=regularizers.l2(0.01)),\n",
    "        Dense(32, kernel_regularizer=regularizers.l2(0.01))  # Output layer with 32 units\n",
    "    ])\n",
    "\n",
    "    player_input = Input(shape=(60, 142)) # List to store the outputs of each head\n",
    "    head_outputs = [] # Create 60 heads, each predicting a 32-dimensional output for one player\n",
    "    for i in range(60): # Get features for one player\n",
    "        player_features = player_input[:, i, :] # Connect player features to previous_model\n",
    "        player_output = previous_model(player_features) # Append player output to the list\n",
    "        head_outputs.append(player_output) # Concatenate the outputs of all heads along the last axis (axis=-1)\n",
    "    concatenated_outputs = Concatenate()(head_outputs) # Add a fully connected output layer for regression\n",
    "    fc_output = Dense(64, activation='relu')(concatenated_outputs)\n",
    "    regression_output = Dense(1, activation='linear')(fc_output) # Create the final model\n",
    "    final_model = Model(inputs=player_input, outputs=regression_output) # Compile the final model\n",
    "    final_model.compile(optimizer='adam', loss='mse') # Mean Squared Error loss for regression task\n",
    "    # Print model summary final_model.summary() # Assuming X_train and y_train contain the training data \n",
    "    # X_train should have shape (num_samples, 45, 142)\n",
    "    # y_train should have shape (num_samples,)\n",
    "    # Train the final model\n",
    "    final_model.fit(X_train, y_train, epochs=20, batch_size=32, validation_split=0.5, verbose=0)\n",
    "    return final_model\n",
    "    \n",
    "def train_model2(X_train_without_feature, y_train):\n",
    "#     model = Sequential([\n",
    "#         Dense(256, activation='relu', input_shape=(142,)),\n",
    "#         Dense(128, activation='relu'),\n",
    "#         Dense(64, activation='relu'),\n",
    "#         Dense(32, activation='relu'),\n",
    "#         Dense(32)\n",
    "#     ])\n",
    "#     model.compile(optimizer='adam', loss='mse')\n",
    "#     model.fit(X_train, y_train, epochs=10, batch_size=32, validation_split=0.2, verbose=0)\n",
    "#     return model\n",
    "    previous_model2 = Sequential([\n",
    "        Dense(256, activation='relu', kernel_regularizer=regularizers.l2(0.01), input_shape=(141,)),\n",
    "        Dense(128, activation='relu', kernel_regularizer=regularizers.l2(0.01)),\n",
    "        Dense(64, activation='relu', kernel_regularizer=regularizers.l2(0.01)),\n",
    "        Dense(32, activation='relu', kernel_regularizer=regularizers.l2(0.01)),\n",
    "        Dense(32, kernel_regularizer=regularizers.l2(0.01))  # Output layer with 32 units\n",
    "    ])\n",
    "\n",
    "    player_input2 = Input(shape=(60, 141)) # List to store the outputs of each head\n",
    "    head_outputs2 = [] # Create 60 heads, each predicting a 32-dimensional output for one player\n",
    "    for i in range(60): # Get features for one player\n",
    "        player_features2 = player_input2[:, i, :] # Connect player features to previous_model\n",
    "        player_output2 = previous_model2(player_features2) # Append player output to the list\n",
    "        head_outputs2.append(player_output2) # Concatenate the outputs of all heads along the last axis (axis=-1)\n",
    "    concatenated_outputs2 = Concatenate()(head_outputs2) # Add a fully connected output layer for regression\n",
    "    fc_output2 = Dense(64, activation='relu')(concatenated_outputs2)\n",
    "    regression_output2 = Dense(1, activation='linear')(fc_output2) # Create the final model\n",
    "    final_model2 = Model(inputs=player_input2, outputs=regression_output2) # Compile the final model\n",
    "    final_model2.compile(optimizer='adam', loss='mse') # Mean Squared Error loss for regression task\n",
    "    # Print model summary final_model.summary() # Assuming X_train and y_train contain the training data \n",
    "    # X_train should have shape (num_samples, 45, 142)\n",
    "    # y_train should have shape (num_samples,)\n",
    "    final_model2.fit(X_train_without_feature, y_train, epochs=20, batch_size=32, validation_split=0.5, verbose=0)\n",
    "    return final_model2\n",
    "\n",
    "# Initialize variables to store feature impacts\n",
    "loss_with_feature = []\n",
    "loss_without_feature = []\n",
    "\n",
    "# Iterate over each feature\n",
    "for i in range(X_train.shape[2]):\n",
    "    # Exclude one feature\n",
    "    X_train_without_feature = np.delete(X_train, i, axis=2)\n",
    "    print(X_train_without_feature.shape)\n",
    "    \n",
    "    # Train model with the excluded feature\n",
    "    model_with_feature = train_model(X_train, y_train)\n",
    "    model_without_feature = train_model2(X_train_without_feature, y_train)\n",
    "    \n",
    "    # Calculate loss with and without the feature\n",
    "    loss_with = model_with_feature.evaluate(X_train, y_train, verbose=0)\n",
    "    loss_without = model_without_feature.evaluate(X_train_without_feature, y_train, verbose=0)\n",
    "    \n",
    "    # Store loss values\n",
    "    loss_with_feature.append(loss_with)\n",
    "    loss_without_feature.append(loss_without)\n",
    "\n",
    "# Find feature with the least impact on loss\n",
    "feature_with_least_impact = np.argmin(np.array(loss_with_feature) - np.array(loss_without_feature))\n",
    "print(\"Feature with least impact:\", feature_with_least_impact)"
   ]
  },
  {
   "cell_type": "code",
   "execution_count": 160,
   "metadata": {},
   "outputs": [
    {
     "data": {
      "text/plain": [
       "array([-1.15623474e+00, -5.88485718e+00, -1.74288940e+00, -4.61313477e+01,\n",
       "        4.18520966e+01,  1.01462616e+02,  6.61990204e+01, -3.47230530e+00,\n",
       "       -1.90085754e+01, -8.29176483e+01, -1.19575485e+02,  4.08057098e+01,\n",
       "        3.48557129e+01, -1.98415680e+01,  5.16225891e+01,  2.17498474e+01,\n",
       "        1.89243622e+01, -6.10549927e+00, -1.22171783e+01,  9.00096130e+01,\n",
       "        6.58100891e+00,  1.01061249e+02, -6.68092804e+01, -6.51294098e+01,\n",
       "        1.07117188e+02, -2.80021210e+01, -4.87586594e+01, -2.48145447e+01,\n",
       "       -1.15775391e+02, -7.99560547e-03, -7.05107956e+01,  1.69250244e+02,\n",
       "       -4.13725128e+01,  2.70735626e+01, -6.06121826e+00, -1.21635895e+01,\n",
       "       -7.61961823e+01, -7.43872070e+00,  1.39784241e+02, -2.95497742e+01,\n",
       "        2.54045898e+02,  2.59734497e+01, -4.36771240e+01, -7.12860107e+00,\n",
       "        6.28083801e+01, -5.82536316e+00,  5.89017639e+01, -5.53281708e+01,\n",
       "        3.77316284e+01,  6.04644623e+01, -3.75006104e+01,  5.61629791e+01,\n",
       "        2.24938812e+01, -8.61211700e+01, -5.21224670e+01, -4.76187744e+01,\n",
       "       -5.11034698e+01,  5.22859497e+01,  5.09654236e+00,  4.49752655e+01,\n",
       "       -3.02512970e+01, -1.20272354e+02,  5.60562134e+00, -9.46917725e+00,\n",
       "       -1.82945419e+02,  4.70820618e+00, -6.15405884e+01, -7.89407959e+01,\n",
       "        9.67630005e+01,  1.90970612e+01,  7.46897888e+00,  6.63916473e+01,\n",
       "        1.04435425e+01, -2.27550278e+01,  9.05222931e+01, -8.46205139e+00,\n",
       "        1.08989487e+02,  5.14053192e+01,  1.31005188e+02,  3.20635223e+01,\n",
       "        1.57762177e+02,  8.24978485e+01,  4.45676575e+01, -9.91997833e+01,\n",
       "       -3.91710358e+01, -1.06953064e+02,  1.70085144e+01, -2.15048370e+01,\n",
       "        4.86110229e+01,  2.72406006e+00, -9.02236557e+01,  7.90740967e-01,\n",
       "       -3.72875977e+01, -2.97794647e+01, -1.32316040e+02, -8.29039764e+01,\n",
       "        7.16308746e+01, -1.00343475e+02, -6.77479248e+01,  2.95397339e+01,\n",
       "       -3.79743958e+00,  1.38836006e+02,  5.70020447e+01,  8.32191315e+01,\n",
       "       -4.56096802e+01, -3.92239685e+01,  2.26507553e+02, -2.50575714e+01,\n",
       "       -7.07525940e+01, -2.83010712e+01, -1.55327682e+01,  2.79338074e+00,\n",
       "        2.36600067e+02,  6.71023560e+00,  6.88780670e+01,  9.63628540e+01,\n",
       "        1.77586472e+02, -4.20721436e+00, -6.55973358e+02,  1.37048340e+01,\n",
       "        8.39004211e+01, -4.15583801e+00,  5.42396545e+00,  1.08363190e+01,\n",
       "        4.91539307e+01, -2.25174103e+01, -2.63636322e+01, -4.61029510e+01,\n",
       "        1.42686310e+01, -8.58908081e+00,  6.46348724e+01, -2.36507568e+01,\n",
       "        3.65308533e+01,  5.95528564e+01,  2.95088959e+01,  1.69919937e+02,\n",
       "       -1.32361755e+01,  8.83673096e+01,  6.53419037e+01, -1.82389526e+01,\n",
       "       -5.25933533e+01, -7.84555511e+01])"
      ]
     },
     "execution_count": 160,
     "metadata": {},
     "output_type": "execute_result"
    }
   ],
   "source": [
    "loss_arr = np.array(loss_with_feature) - np.array(loss_without_feature)\n",
    "loss_arr"
   ]
  },
  {
   "cell_type": "code",
   "execution_count": 161,
   "metadata": {},
   "outputs": [
    {
     "data": {
      "text/plain": [
       "142"
      ]
     },
     "execution_count": 161,
     "metadata": {},
     "output_type": "execute_result"
    }
   ],
   "source": [
    "len(loss_arr)"
   ]
  },
  {
   "cell_type": "code",
   "execution_count": 162,
   "metadata": {},
   "outputs": [
    {
     "name": "stdout",
     "output_type": "stream",
     "text": [
      "     Feature Index       Loss\n",
      "0                0  -1.156235\n",
      "1                1  -5.884857\n",
      "2                2  -1.742889\n",
      "3                3 -46.131348\n",
      "4                4  41.852097\n",
      "..             ...        ...\n",
      "137            137  88.367310\n",
      "138            138  65.341904\n",
      "139            139 -18.238953\n",
      "140            140 -52.593353\n",
      "141            141 -78.455551\n",
      "\n",
      "[142 rows x 2 columns]\n"
     ]
    }
   ],
   "source": [
    "# Convert loss_arr into a dictionary\n",
    "loss_dict = {i: loss_arr[i] for i in range(len(loss_arr))}\n",
    "\n",
    "# Convert dictionary into a DataFrame\n",
    "df_loss = pd.DataFrame(list(loss_dict.items()), columns=['Feature Index', 'Loss'])\n",
    "\n",
    "# Save DataFrame to a CSV file\n",
    "df_loss.to_csv('loss_data.csv', index=False)\n",
    "\n",
    "# Print DataFrame\n",
    "print(df_loss)"
   ]
  },
  {
   "cell_type": "code",
   "execution_count": 159,
   "metadata": {},
   "outputs": [
    {
     "name": "stdout",
     "output_type": "stream",
     "text": [
      "Epoch 1/20\n",
      "\u001b[1m8/8\u001b[0m \u001b[32m━━━━━━━━━━━━━━━━━━━━\u001b[0m\u001b[37m\u001b[0m \u001b[1m12s\u001b[0m 308ms/step - loss: 43179.0703 - val_loss: 4274.1675\n",
      "Epoch 2/20\n",
      "\u001b[1m8/8\u001b[0m \u001b[32m━━━━━━━━━━━━━━━━━━━━\u001b[0m\u001b[37m\u001b[0m \u001b[1m0s\u001b[0m 18ms/step - loss: 3115.1250 - val_loss: 1904.9526\n",
      "Epoch 3/20\n",
      "\u001b[1m8/8\u001b[0m \u001b[32m━━━━━━━━━━━━━━━━━━━━\u001b[0m\u001b[37m\u001b[0m \u001b[1m0s\u001b[0m 17ms/step - loss: 1410.6697 - val_loss: 799.7472\n",
      "Epoch 4/20\n",
      "\u001b[1m8/8\u001b[0m \u001b[32m━━━━━━━━━━━━━━━━━━━━\u001b[0m\u001b[37m\u001b[0m \u001b[1m0s\u001b[0m 15ms/step - loss: 739.2934 - val_loss: 589.3891\n",
      "Epoch 5/20\n",
      "\u001b[1m8/8\u001b[0m \u001b[32m━━━━━━━━━━━━━━━━━━━━\u001b[0m\u001b[37m\u001b[0m \u001b[1m0s\u001b[0m 14ms/step - loss: 474.2784 - val_loss: 418.8955\n",
      "Epoch 6/20\n",
      "\u001b[1m8/8\u001b[0m \u001b[32m━━━━━━━━━━━━━━━━━━━━\u001b[0m\u001b[37m\u001b[0m \u001b[1m0s\u001b[0m 15ms/step - loss: 267.9164 - val_loss: 355.2062\n",
      "Epoch 7/20\n",
      "\u001b[1m8/8\u001b[0m \u001b[32m━━━━━━━━━━━━━━━━━━━━\u001b[0m\u001b[37m\u001b[0m \u001b[1m0s\u001b[0m 14ms/step - loss: 211.9754 - val_loss: 274.5627\n",
      "Epoch 8/20\n",
      "\u001b[1m8/8\u001b[0m \u001b[32m━━━━━━━━━━━━━━━━━━━━\u001b[0m\u001b[37m\u001b[0m \u001b[1m0s\u001b[0m 16ms/step - loss: 137.0780 - val_loss: 274.9174\n",
      "Epoch 9/20\n",
      "\u001b[1m8/8\u001b[0m \u001b[32m━━━━━━━━━━━━━━━━━━━━\u001b[0m\u001b[37m\u001b[0m \u001b[1m0s\u001b[0m 14ms/step - loss: 97.7785 - val_loss: 266.6039\n",
      "Epoch 10/20\n",
      "\u001b[1m8/8\u001b[0m \u001b[32m━━━━━━━━━━━━━━━━━━━━\u001b[0m\u001b[37m\u001b[0m \u001b[1m0s\u001b[0m 15ms/step - loss: 85.4966 - val_loss: 271.1037\n",
      "Epoch 11/20\n",
      "\u001b[1m8/8\u001b[0m \u001b[32m━━━━━━━━━━━━━━━━━━━━\u001b[0m\u001b[37m\u001b[0m \u001b[1m0s\u001b[0m 14ms/step - loss: 80.5311 - val_loss: 259.3640\n",
      "Epoch 12/20\n",
      "\u001b[1m8/8\u001b[0m \u001b[32m━━━━━━━━━━━━━━━━━━━━\u001b[0m\u001b[37m\u001b[0m \u001b[1m0s\u001b[0m 15ms/step - loss: 76.0979 - val_loss: 258.7109\n",
      "Epoch 13/20\n",
      "\u001b[1m8/8\u001b[0m \u001b[32m━━━━━━━━━━━━━━━━━━━━\u001b[0m\u001b[37m\u001b[0m \u001b[1m0s\u001b[0m 15ms/step - loss: 68.6274 - val_loss: 268.7798\n",
      "Epoch 14/20\n",
      "\u001b[1m8/8\u001b[0m \u001b[32m━━━━━━━━━━━━━━━━━━━━\u001b[0m\u001b[37m\u001b[0m \u001b[1m0s\u001b[0m 16ms/step - loss: 51.8193 - val_loss: 270.9929\n",
      "Epoch 15/20\n",
      "\u001b[1m8/8\u001b[0m \u001b[32m━━━━━━━━━━━━━━━━━━━━\u001b[0m\u001b[37m\u001b[0m \u001b[1m0s\u001b[0m 15ms/step - loss: 51.0863 - val_loss: 262.7228\n",
      "Epoch 16/20\n",
      "\u001b[1m8/8\u001b[0m \u001b[32m━━━━━━━━━━━━━━━━━━━━\u001b[0m\u001b[37m\u001b[0m \u001b[1m0s\u001b[0m 14ms/step - loss: 43.2927 - val_loss: 269.0395\n",
      "Epoch 17/20\n",
      "\u001b[1m8/8\u001b[0m \u001b[32m━━━━━━━━━━━━━━━━━━━━\u001b[0m\u001b[37m\u001b[0m \u001b[1m0s\u001b[0m 15ms/step - loss: 39.7872 - val_loss: 270.4819\n",
      "Epoch 18/20\n",
      "\u001b[1m8/8\u001b[0m \u001b[32m━━━━━━━━━━━━━━━━━━━━\u001b[0m\u001b[37m\u001b[0m \u001b[1m0s\u001b[0m 15ms/step - loss: 29.6767 - val_loss: 270.8556\n",
      "Epoch 19/20\n",
      "\u001b[1m8/8\u001b[0m \u001b[32m━━━━━━━━━━━━━━━━━━━━\u001b[0m\u001b[37m\u001b[0m \u001b[1m0s\u001b[0m 18ms/step - loss: 22.8690 - val_loss: 269.4468\n",
      "Epoch 20/20\n",
      "\u001b[1m8/8\u001b[0m \u001b[32m━━━━━━━━━━━━━━━━━━━━\u001b[0m\u001b[37m\u001b[0m \u001b[1m0s\u001b[0m 14ms/step - loss: 20.0412 - val_loss: 273.8878\n"
     ]
    },
    {
     "data": {
      "text/plain": [
       "<keras.src.callbacks.history.History at 0x22059f8b190>"
      ]
     },
     "execution_count": 159,
     "metadata": {},
     "output_type": "execute_result"
    }
   ],
   "source": [
    "# previous_model = Sequential([\n",
    "#     Dense(256, activation='relu', input_shape=(142,)),\n",
    "#     Dense(128, activation='relu'),\n",
    "#     Dense(64, activation='relu'),\n",
    "#     Dense(32, activation='relu'),\n",
    "#     Dense(32) # Output layer with 32 units\n",
    "#     ]) # Define input layer for player features\n",
    "\n",
    "# previous_model = Sequential([\n",
    "#     Dense(256, activation='relu', kernel_regularizer=regularizers.l2(0.01), input_shape=(142,)),\n",
    "#     Dense(128, activation='relu', kernel_regularizer=regularizers.l2(0.01)),\n",
    "#     Dense(64, activation='relu', kernel_regularizer=regularizers.l2(0.01)),\n",
    "#     Dense(32, activation='relu', kernel_regularizer=regularizers.l2(0.01)),\n",
    "#     Dense(32, kernel_regularizer=regularizers.l2(0.01))  # Output layer with 32 units\n",
    "# ])\n",
    "\n",
    "# player_input = Input(shape=(60, 142)) # List to store the outputs of each head\n",
    "# head_outputs = [] # Create 60 heads, each predicting a 32-dimensional output for one player\n",
    "# for i in range(60): # Get features for one player\n",
    "#     player_features = player_input[:, i, :] # Connect player features to previous_model\n",
    "#     player_output = previous_model(player_features) # Append player output to the list\n",
    "#     head_outputs.append(player_output) # Concatenate the outputs of all heads along the last axis (axis=-1)\n",
    "# concatenated_outputs = Concatenate()(head_outputs) # Add a fully connected output layer for regression\n",
    "# fc_output = Dense(64, activation='relu')(concatenated_outputs)\n",
    "# regression_output = Dense(1, activation='linear')(fc_output) # Create the final model\n",
    "# final_model = Model(inputs=player_input, outputs=regression_output) # Compile the final model\n",
    "# final_model.compile(optimizer='adam', loss='mse') # Mean Squared Error loss for regression task\n",
    "# # Print model summary final_model.summary() # Assuming X_train and y_train contain the training data \n",
    "# # X_train should have shape (num_samples, 45, 142)\n",
    "# # y_train should have shape (num_samples,)\n",
    "# # Train the final model\n",
    "# final_model.fit(X_train, y_train, epochs=20, batch_size=32, validation_split=0.5)"
   ]
  },
  {
   "cell_type": "code",
   "execution_count": 160,
   "metadata": {},
   "outputs": [],
   "source": [
    "# input_shape=(142,)\n",
    "\n",
    "# model = Sequential([\n",
    "#     Dense(256, activation='relu', input_shape=input_shape),\n",
    "#     Dense(128, activation='relu'),\n",
    "#     Dense(64, activation='relu'),\n",
    "#     Dense(32, activation='relu'),\n",
    "#     Dense(32)\n",
    "# ])\n",
    "\n",
    "# model.compile(optimizer='adam', loss='mse')\n",
    "# model.summary()"
   ]
  },
  {
   "cell_type": "code",
   "execution_count": 161,
   "metadata": {},
   "outputs": [],
   "source": [
    "# previous_model = Sequential([\n",
    "#     Dense(256, activation='relu', input_shape=(142,)),\n",
    "#     Dense(128, activation='relu'),\n",
    "#     Dense(64, activation='relu'),\n",
    "#     Dense(32, activation='relu'),\n",
    "#     Dense(32) # Output layer with 32 units\n",
    "#     ]) # Define input layer for player features\n",
    "# player_input = Input(shape=(20,142)) # List to store the outputs of each head\n",
    "# head_outputs = [] # Create 20 heads, each predicting a 32-dimensional output for one player\n",
    "# for i in range(20): # Get features for one player\n",
    "#     player_features = player_input[:, i, :] # Connect player features to previous_model\n",
    "#     player_output = previous_model(player_features) # Append player output to the list\n",
    "#     head_outputs.append(player_output)\n",
    "# # Concatenate the outputs of all heads along the last axis (axis=-1)\n",
    "# concatenated_outputs = Concatenate()(head_outputs)\n",
    "# # Define the final output layer to produce a 128- dimensional vector\n",
    "# output_layer = Dense(128, activation='relu')(concatenated_outputs)\n",
    "# # Create the final model\n",
    "# final_model = Model(inputs=player_input, outputs=output_layer) # Compile the final model\n",
    "# final_model.compile(optimizer='adam', loss='mse') # Mean Squared Error loss for regression task # Print model summary\n",
    "# final_model.summary()"
   ]
  },
  {
   "cell_type": "code",
   "execution_count": 162,
   "metadata": {},
   "outputs": [],
   "source": [
    "# # Define player embedded model\n",
    "# previous_model = Sequential([\n",
    "#     Dense(512, activation='relu', input_shape=(142,)),\n",
    "#     Dense(256, activation='relu'),\n",
    "#     Dense(128, activation='relu'),\n",
    "#     Dense(64, activation='relu'),\n",
    "#     Dense(32)  # Output layer with 32 units\n",
    "# ])\n",
    "\n",
    "# # Define input layer for player features\n",
    "# player_input = Input(shape=(45, 142))\n",
    "\n",
    "# # List to store the outputs of each head\n",
    "# head_outputs = []\n",
    "\n",
    "# # Create 45 heads, each predicting a 32-dimensional output for one player\n",
    "# for i in range(45):\n",
    "#     # Get features for one player\n",
    "#     player_features = player_input[:, i, :]\n",
    "#     # Connect player features to previous_model\n",
    "#     player_output = previous_model(player_features)\n",
    "#     # Append player output to the list\n",
    "#     head_outputs.append(player_output)\n",
    "\n",
    "# # Concatenate the outputs of all heads along the last axis (axis=-1)\n",
    "# concatenated_outputs = Concatenate()(head_outputs)\n",
    "\n",
    "# # Add more hidden layers and neurons for regression model\n",
    "# regression_model = Dense(256, activation='relu')(concatenated_outputs)\n",
    "# regression_model = Dense(128, activation='relu')(regression_model)\n",
    "# regression_model = Dense(64, activation='relu')(regression_model)\n",
    "\n",
    "# # Create the final regression output layer\n",
    "# regression_output = Dense(1, activation='linear')(regression_model)\n",
    "\n",
    "# # Create the final model\n",
    "# final_model = Model(inputs=player_input, outputs=regression_output)\n",
    "\n",
    "# # Compile the final model\n",
    "# final_model.compile(optimizer='adam', loss='mse')\n",
    "\n",
    "# # Print model summary\n",
    "# final_model.summary()\n",
    "\n",
    "# # Assuming X_train and y_train contain the training data\n",
    "# # X_train should have shape (num_samples, 45, 142)\n",
    "# # y_train should have shape (num_samples,)\n",
    "\n",
    "# # Increase number of training epochs\n",
    "# final_model.fit(X_train, y_train, epochs=20, batch_size=32, validation_split=0.2)"
   ]
  },
  {
   "cell_type": "code",
   "execution_count": 163,
   "metadata": {},
   "outputs": [],
   "source": [
    "# # Define player embedded model with dropout\n",
    "# previous_model = Sequential([\n",
    "#     Dense(512, activation='relu', input_shape=(142,)),\n",
    "#     # Dropout(0.2),  # Add dropout layer\n",
    "#     Dense(256, activation='relu'),\n",
    "#     Dropout(0.2),  # Add dropout layer\n",
    "#     Dense(128, activation='relu'),\n",
    "#     Dropout(0.2),  # Add dropout layer\n",
    "#     Dense(128)  # Change output dimension to 128\n",
    "# ])\n",
    "\n",
    "# # Define input layer for player features\n",
    "# player_input = Input(shape=(45, 142))\n",
    "\n",
    "# # List to store the outputs of each head\n",
    "# head_outputs = []\n",
    "\n",
    "# # Create 45 heads, each predicting a 128-dimensional output for one player\n",
    "# for i in range(45):\n",
    "#     # Get features for one player\n",
    "#     player_features = player_input[:, i, :]\n",
    "#     # Connect player features to previous_model\n",
    "#     player_output = previous_model(player_features)\n",
    "#     # Append player output to the list\n",
    "#     head_outputs.append(player_output)\n",
    "\n",
    "# # Concatenate the outputs of all heads along the last axis (axis=-1)\n",
    "# concatenated_outputs = Concatenate()(head_outputs)\n",
    "\n",
    "# # # Add dropout layer for regularization\n",
    "# # regression_model = Dropout(0.2)(concatenated_outputs)\n",
    "\n",
    "# # Add more hidden layers and neurons for regression model\n",
    "# regression_model = Dense(256, activation='relu')(concatenated_outputs)\n",
    "# regression_model = Dropout(0.2)(regression_model)  # Add dropout layer\n",
    "# regression_model = Dense(128, activation='relu')(regression_model)\n",
    "# regression_model = Dropout(0.2)(regression_model)  # Add dropout layer\n",
    "# regression_model = Dense(64, activation='relu')(regression_model)\n",
    "\n",
    "# # Create the final regression output layer\n",
    "# regression_output = Dense(1, activation='linear')(regression_model)\n",
    "\n",
    "# # Create the final model\n",
    "# final_model = Model(inputs=player_input, outputs=regression_output)\n",
    "\n",
    "# # Compile the final model\n",
    "# final_model.compile(optimizer='adam', loss='mse')\n",
    "\n",
    "# # Print model summary\n",
    "# final_model.summary()\n",
    "\n",
    "# # Assuming X_train and y_train contain the training data\n",
    "# # X_train should have shape (num_samples, 45, 142)\n",
    "# # y_train should have shape (num_samples,)\n",
    "\n",
    "# # Increase number of training epochs\n",
    "# final_model.fit(X_train, y_train, epochs=20, batch_size=32, validation_split=0.2)"
   ]
  },
  {
   "cell_type": "code",
   "execution_count": 164,
   "metadata": {},
   "outputs": [
    {
     "data": {
      "text/html": [
       "<pre style=\"white-space:pre;overflow-x:auto;line-height:normal;font-family:Menlo,'DejaVu Sans Mono',consolas,'Courier New',monospace\"><span style=\"font-weight: bold\">Model: \"functional_2\"</span>\n",
       "</pre>\n"
      ],
      "text/plain": [
       "\u001b[1mModel: \"functional_2\"\u001b[0m\n"
      ]
     },
     "metadata": {},
     "output_type": "display_data"
    },
    {
     "data": {
      "text/html": [
       "<pre style=\"white-space:pre;overflow-x:auto;line-height:normal;font-family:Menlo,'DejaVu Sans Mono',consolas,'Courier New',monospace\">┏━━━━━━━━━━━━━━━━━━━━━┳━━━━━━━━━━━━━━━━━━━┳━━━━━━━━━━━━┳━━━━━━━━━━━━━━━━━━━┓\n",
       "┃<span style=\"font-weight: bold\"> Layer (type)        </span>┃<span style=\"font-weight: bold\"> Output Shape      </span>┃<span style=\"font-weight: bold\">    Param # </span>┃<span style=\"font-weight: bold\"> Connected to      </span>┃\n",
       "┡━━━━━━━━━━━━━━━━━━━━━╇━━━━━━━━━━━━━━━━━━━╇━━━━━━━━━━━━╇━━━━━━━━━━━━━━━━━━━┩\n",
       "│ input_layer_1       │ (<span style=\"color: #00d7ff; text-decoration-color: #00d7ff\">None</span>, <span style=\"color: #00af00; text-decoration-color: #00af00\">60</span>, <span style=\"color: #00af00; text-decoration-color: #00af00\">142</span>)   │          <span style=\"color: #00af00; text-decoration-color: #00af00\">0</span> │ -                 │\n",
       "│ (<span style=\"color: #0087ff; text-decoration-color: #0087ff\">InputLayer</span>)        │                   │            │                   │\n",
       "├─────────────────────┼───────────────────┼────────────┼───────────────────┤\n",
       "│ get_item (<span style=\"color: #0087ff; text-decoration-color: #0087ff\">GetItem</span>)  │ (<span style=\"color: #00d7ff; text-decoration-color: #00d7ff\">None</span>, <span style=\"color: #00af00; text-decoration-color: #00af00\">142</span>)       │          <span style=\"color: #00af00; text-decoration-color: #00af00\">0</span> │ input_layer_1[<span style=\"color: #00af00; text-decoration-color: #00af00\">0</span>]… │\n",
       "├─────────────────────┼───────────────────┼────────────┼───────────────────┤\n",
       "│ get_item_1          │ (<span style=\"color: #00d7ff; text-decoration-color: #00d7ff\">None</span>, <span style=\"color: #00af00; text-decoration-color: #00af00\">142</span>)       │          <span style=\"color: #00af00; text-decoration-color: #00af00\">0</span> │ input_layer_1[<span style=\"color: #00af00; text-decoration-color: #00af00\">0</span>]… │\n",
       "│ (<span style=\"color: #0087ff; text-decoration-color: #0087ff\">GetItem</span>)           │                   │            │                   │\n",
       "├─────────────────────┼───────────────────┼────────────┼───────────────────┤\n",
       "│ get_item_2          │ (<span style=\"color: #00d7ff; text-decoration-color: #00d7ff\">None</span>, <span style=\"color: #00af00; text-decoration-color: #00af00\">142</span>)       │          <span style=\"color: #00af00; text-decoration-color: #00af00\">0</span> │ input_layer_1[<span style=\"color: #00af00; text-decoration-color: #00af00\">0</span>]… │\n",
       "│ (<span style=\"color: #0087ff; text-decoration-color: #0087ff\">GetItem</span>)           │                   │            │                   │\n",
       "├─────────────────────┼───────────────────┼────────────┼───────────────────┤\n",
       "│ get_item_3          │ (<span style=\"color: #00d7ff; text-decoration-color: #00d7ff\">None</span>, <span style=\"color: #00af00; text-decoration-color: #00af00\">142</span>)       │          <span style=\"color: #00af00; text-decoration-color: #00af00\">0</span> │ input_layer_1[<span style=\"color: #00af00; text-decoration-color: #00af00\">0</span>]… │\n",
       "│ (<span style=\"color: #0087ff; text-decoration-color: #0087ff\">GetItem</span>)           │                   │            │                   │\n",
       "├─────────────────────┼───────────────────┼────────────┼───────────────────┤\n",
       "│ get_item_4          │ (<span style=\"color: #00d7ff; text-decoration-color: #00d7ff\">None</span>, <span style=\"color: #00af00; text-decoration-color: #00af00\">142</span>)       │          <span style=\"color: #00af00; text-decoration-color: #00af00\">0</span> │ input_layer_1[<span style=\"color: #00af00; text-decoration-color: #00af00\">0</span>]… │\n",
       "│ (<span style=\"color: #0087ff; text-decoration-color: #0087ff\">GetItem</span>)           │                   │            │                   │\n",
       "├─────────────────────┼───────────────────┼────────────┼───────────────────┤\n",
       "│ get_item_5          │ (<span style=\"color: #00d7ff; text-decoration-color: #00d7ff\">None</span>, <span style=\"color: #00af00; text-decoration-color: #00af00\">142</span>)       │          <span style=\"color: #00af00; text-decoration-color: #00af00\">0</span> │ input_layer_1[<span style=\"color: #00af00; text-decoration-color: #00af00\">0</span>]… │\n",
       "│ (<span style=\"color: #0087ff; text-decoration-color: #0087ff\">GetItem</span>)           │                   │            │                   │\n",
       "├─────────────────────┼───────────────────┼────────────┼───────────────────┤\n",
       "│ get_item_6          │ (<span style=\"color: #00d7ff; text-decoration-color: #00d7ff\">None</span>, <span style=\"color: #00af00; text-decoration-color: #00af00\">142</span>)       │          <span style=\"color: #00af00; text-decoration-color: #00af00\">0</span> │ input_layer_1[<span style=\"color: #00af00; text-decoration-color: #00af00\">0</span>]… │\n",
       "│ (<span style=\"color: #0087ff; text-decoration-color: #0087ff\">GetItem</span>)           │                   │            │                   │\n",
       "├─────────────────────┼───────────────────┼────────────┼───────────────────┤\n",
       "│ get_item_7          │ (<span style=\"color: #00d7ff; text-decoration-color: #00d7ff\">None</span>, <span style=\"color: #00af00; text-decoration-color: #00af00\">142</span>)       │          <span style=\"color: #00af00; text-decoration-color: #00af00\">0</span> │ input_layer_1[<span style=\"color: #00af00; text-decoration-color: #00af00\">0</span>]… │\n",
       "│ (<span style=\"color: #0087ff; text-decoration-color: #0087ff\">GetItem</span>)           │                   │            │                   │\n",
       "├─────────────────────┼───────────────────┼────────────┼───────────────────┤\n",
       "│ get_item_8          │ (<span style=\"color: #00d7ff; text-decoration-color: #00d7ff\">None</span>, <span style=\"color: #00af00; text-decoration-color: #00af00\">142</span>)       │          <span style=\"color: #00af00; text-decoration-color: #00af00\">0</span> │ input_layer_1[<span style=\"color: #00af00; text-decoration-color: #00af00\">0</span>]… │\n",
       "│ (<span style=\"color: #0087ff; text-decoration-color: #0087ff\">GetItem</span>)           │                   │            │                   │\n",
       "├─────────────────────┼───────────────────┼────────────┼───────────────────┤\n",
       "│ get_item_9          │ (<span style=\"color: #00d7ff; text-decoration-color: #00d7ff\">None</span>, <span style=\"color: #00af00; text-decoration-color: #00af00\">142</span>)       │          <span style=\"color: #00af00; text-decoration-color: #00af00\">0</span> │ input_layer_1[<span style=\"color: #00af00; text-decoration-color: #00af00\">0</span>]… │\n",
       "│ (<span style=\"color: #0087ff; text-decoration-color: #0087ff\">GetItem</span>)           │                   │            │                   │\n",
       "├─────────────────────┼───────────────────┼────────────┼───────────────────┤\n",
       "│ get_item_10         │ (<span style=\"color: #00d7ff; text-decoration-color: #00d7ff\">None</span>, <span style=\"color: #00af00; text-decoration-color: #00af00\">142</span>)       │          <span style=\"color: #00af00; text-decoration-color: #00af00\">0</span> │ input_layer_1[<span style=\"color: #00af00; text-decoration-color: #00af00\">0</span>]… │\n",
       "│ (<span style=\"color: #0087ff; text-decoration-color: #0087ff\">GetItem</span>)           │                   │            │                   │\n",
       "├─────────────────────┼───────────────────┼────────────┼───────────────────┤\n",
       "│ get_item_11         │ (<span style=\"color: #00d7ff; text-decoration-color: #00d7ff\">None</span>, <span style=\"color: #00af00; text-decoration-color: #00af00\">142</span>)       │          <span style=\"color: #00af00; text-decoration-color: #00af00\">0</span> │ input_layer_1[<span style=\"color: #00af00; text-decoration-color: #00af00\">0</span>]… │\n",
       "│ (<span style=\"color: #0087ff; text-decoration-color: #0087ff\">GetItem</span>)           │                   │            │                   │\n",
       "├─────────────────────┼───────────────────┼────────────┼───────────────────┤\n",
       "│ get_item_12         │ (<span style=\"color: #00d7ff; text-decoration-color: #00d7ff\">None</span>, <span style=\"color: #00af00; text-decoration-color: #00af00\">142</span>)       │          <span style=\"color: #00af00; text-decoration-color: #00af00\">0</span> │ input_layer_1[<span style=\"color: #00af00; text-decoration-color: #00af00\">0</span>]… │\n",
       "│ (<span style=\"color: #0087ff; text-decoration-color: #0087ff\">GetItem</span>)           │                   │            │                   │\n",
       "├─────────────────────┼───────────────────┼────────────┼───────────────────┤\n",
       "│ get_item_13         │ (<span style=\"color: #00d7ff; text-decoration-color: #00d7ff\">None</span>, <span style=\"color: #00af00; text-decoration-color: #00af00\">142</span>)       │          <span style=\"color: #00af00; text-decoration-color: #00af00\">0</span> │ input_layer_1[<span style=\"color: #00af00; text-decoration-color: #00af00\">0</span>]… │\n",
       "│ (<span style=\"color: #0087ff; text-decoration-color: #0087ff\">GetItem</span>)           │                   │            │                   │\n",
       "├─────────────────────┼───────────────────┼────────────┼───────────────────┤\n",
       "│ get_item_14         │ (<span style=\"color: #00d7ff; text-decoration-color: #00d7ff\">None</span>, <span style=\"color: #00af00; text-decoration-color: #00af00\">142</span>)       │          <span style=\"color: #00af00; text-decoration-color: #00af00\">0</span> │ input_layer_1[<span style=\"color: #00af00; text-decoration-color: #00af00\">0</span>]… │\n",
       "│ (<span style=\"color: #0087ff; text-decoration-color: #0087ff\">GetItem</span>)           │                   │            │                   │\n",
       "├─────────────────────┼───────────────────┼────────────┼───────────────────┤\n",
       "│ get_item_15         │ (<span style=\"color: #00d7ff; text-decoration-color: #00d7ff\">None</span>, <span style=\"color: #00af00; text-decoration-color: #00af00\">142</span>)       │          <span style=\"color: #00af00; text-decoration-color: #00af00\">0</span> │ input_layer_1[<span style=\"color: #00af00; text-decoration-color: #00af00\">0</span>]… │\n",
       "│ (<span style=\"color: #0087ff; text-decoration-color: #0087ff\">GetItem</span>)           │                   │            │                   │\n",
       "├─────────────────────┼───────────────────┼────────────┼───────────────────┤\n",
       "│ get_item_16         │ (<span style=\"color: #00d7ff; text-decoration-color: #00d7ff\">None</span>, <span style=\"color: #00af00; text-decoration-color: #00af00\">142</span>)       │          <span style=\"color: #00af00; text-decoration-color: #00af00\">0</span> │ input_layer_1[<span style=\"color: #00af00; text-decoration-color: #00af00\">0</span>]… │\n",
       "│ (<span style=\"color: #0087ff; text-decoration-color: #0087ff\">GetItem</span>)           │                   │            │                   │\n",
       "├─────────────────────┼───────────────────┼────────────┼───────────────────┤\n",
       "│ get_item_17         │ (<span style=\"color: #00d7ff; text-decoration-color: #00d7ff\">None</span>, <span style=\"color: #00af00; text-decoration-color: #00af00\">142</span>)       │          <span style=\"color: #00af00; text-decoration-color: #00af00\">0</span> │ input_layer_1[<span style=\"color: #00af00; text-decoration-color: #00af00\">0</span>]… │\n",
       "│ (<span style=\"color: #0087ff; text-decoration-color: #0087ff\">GetItem</span>)           │                   │            │                   │\n",
       "├─────────────────────┼───────────────────┼────────────┼───────────────────┤\n",
       "│ get_item_18         │ (<span style=\"color: #00d7ff; text-decoration-color: #00d7ff\">None</span>, <span style=\"color: #00af00; text-decoration-color: #00af00\">142</span>)       │          <span style=\"color: #00af00; text-decoration-color: #00af00\">0</span> │ input_layer_1[<span style=\"color: #00af00; text-decoration-color: #00af00\">0</span>]… │\n",
       "│ (<span style=\"color: #0087ff; text-decoration-color: #0087ff\">GetItem</span>)           │                   │            │                   │\n",
       "├─────────────────────┼───────────────────┼────────────┼───────────────────┤\n",
       "│ get_item_19         │ (<span style=\"color: #00d7ff; text-decoration-color: #00d7ff\">None</span>, <span style=\"color: #00af00; text-decoration-color: #00af00\">142</span>)       │          <span style=\"color: #00af00; text-decoration-color: #00af00\">0</span> │ input_layer_1[<span style=\"color: #00af00; text-decoration-color: #00af00\">0</span>]… │\n",
       "│ (<span style=\"color: #0087ff; text-decoration-color: #0087ff\">GetItem</span>)           │                   │            │                   │\n",
       "├─────────────────────┼───────────────────┼────────────┼───────────────────┤\n",
       "│ get_item_20         │ (<span style=\"color: #00d7ff; text-decoration-color: #00d7ff\">None</span>, <span style=\"color: #00af00; text-decoration-color: #00af00\">142</span>)       │          <span style=\"color: #00af00; text-decoration-color: #00af00\">0</span> │ input_layer_1[<span style=\"color: #00af00; text-decoration-color: #00af00\">0</span>]… │\n",
       "│ (<span style=\"color: #0087ff; text-decoration-color: #0087ff\">GetItem</span>)           │                   │            │                   │\n",
       "├─────────────────────┼───────────────────┼────────────┼───────────────────┤\n",
       "│ get_item_21         │ (<span style=\"color: #00d7ff; text-decoration-color: #00d7ff\">None</span>, <span style=\"color: #00af00; text-decoration-color: #00af00\">142</span>)       │          <span style=\"color: #00af00; text-decoration-color: #00af00\">0</span> │ input_layer_1[<span style=\"color: #00af00; text-decoration-color: #00af00\">0</span>]… │\n",
       "│ (<span style=\"color: #0087ff; text-decoration-color: #0087ff\">GetItem</span>)           │                   │            │                   │\n",
       "├─────────────────────┼───────────────────┼────────────┼───────────────────┤\n",
       "│ get_item_22         │ (<span style=\"color: #00d7ff; text-decoration-color: #00d7ff\">None</span>, <span style=\"color: #00af00; text-decoration-color: #00af00\">142</span>)       │          <span style=\"color: #00af00; text-decoration-color: #00af00\">0</span> │ input_layer_1[<span style=\"color: #00af00; text-decoration-color: #00af00\">0</span>]… │\n",
       "│ (<span style=\"color: #0087ff; text-decoration-color: #0087ff\">GetItem</span>)           │                   │            │                   │\n",
       "├─────────────────────┼───────────────────┼────────────┼───────────────────┤\n",
       "│ get_item_23         │ (<span style=\"color: #00d7ff; text-decoration-color: #00d7ff\">None</span>, <span style=\"color: #00af00; text-decoration-color: #00af00\">142</span>)       │          <span style=\"color: #00af00; text-decoration-color: #00af00\">0</span> │ input_layer_1[<span style=\"color: #00af00; text-decoration-color: #00af00\">0</span>]… │\n",
       "│ (<span style=\"color: #0087ff; text-decoration-color: #0087ff\">GetItem</span>)           │                   │            │                   │\n",
       "├─────────────────────┼───────────────────┼────────────┼───────────────────┤\n",
       "│ get_item_24         │ (<span style=\"color: #00d7ff; text-decoration-color: #00d7ff\">None</span>, <span style=\"color: #00af00; text-decoration-color: #00af00\">142</span>)       │          <span style=\"color: #00af00; text-decoration-color: #00af00\">0</span> │ input_layer_1[<span style=\"color: #00af00; text-decoration-color: #00af00\">0</span>]… │\n",
       "│ (<span style=\"color: #0087ff; text-decoration-color: #0087ff\">GetItem</span>)           │                   │            │                   │\n",
       "├─────────────────────┼───────────────────┼────────────┼───────────────────┤\n",
       "│ get_item_25         │ (<span style=\"color: #00d7ff; text-decoration-color: #00d7ff\">None</span>, <span style=\"color: #00af00; text-decoration-color: #00af00\">142</span>)       │          <span style=\"color: #00af00; text-decoration-color: #00af00\">0</span> │ input_layer_1[<span style=\"color: #00af00; text-decoration-color: #00af00\">0</span>]… │\n",
       "│ (<span style=\"color: #0087ff; text-decoration-color: #0087ff\">GetItem</span>)           │                   │            │                   │\n",
       "├─────────────────────┼───────────────────┼────────────┼───────────────────┤\n",
       "│ get_item_26         │ (<span style=\"color: #00d7ff; text-decoration-color: #00d7ff\">None</span>, <span style=\"color: #00af00; text-decoration-color: #00af00\">142</span>)       │          <span style=\"color: #00af00; text-decoration-color: #00af00\">0</span> │ input_layer_1[<span style=\"color: #00af00; text-decoration-color: #00af00\">0</span>]… │\n",
       "│ (<span style=\"color: #0087ff; text-decoration-color: #0087ff\">GetItem</span>)           │                   │            │                   │\n",
       "├─────────────────────┼───────────────────┼────────────┼───────────────────┤\n",
       "│ get_item_27         │ (<span style=\"color: #00d7ff; text-decoration-color: #00d7ff\">None</span>, <span style=\"color: #00af00; text-decoration-color: #00af00\">142</span>)       │          <span style=\"color: #00af00; text-decoration-color: #00af00\">0</span> │ input_layer_1[<span style=\"color: #00af00; text-decoration-color: #00af00\">0</span>]… │\n",
       "│ (<span style=\"color: #0087ff; text-decoration-color: #0087ff\">GetItem</span>)           │                   │            │                   │\n",
       "├─────────────────────┼───────────────────┼────────────┼───────────────────┤\n",
       "│ get_item_28         │ (<span style=\"color: #00d7ff; text-decoration-color: #00d7ff\">None</span>, <span style=\"color: #00af00; text-decoration-color: #00af00\">142</span>)       │          <span style=\"color: #00af00; text-decoration-color: #00af00\">0</span> │ input_layer_1[<span style=\"color: #00af00; text-decoration-color: #00af00\">0</span>]… │\n",
       "│ (<span style=\"color: #0087ff; text-decoration-color: #0087ff\">GetItem</span>)           │                   │            │                   │\n",
       "├─────────────────────┼───────────────────┼────────────┼───────────────────┤\n",
       "│ get_item_29         │ (<span style=\"color: #00d7ff; text-decoration-color: #00d7ff\">None</span>, <span style=\"color: #00af00; text-decoration-color: #00af00\">142</span>)       │          <span style=\"color: #00af00; text-decoration-color: #00af00\">0</span> │ input_layer_1[<span style=\"color: #00af00; text-decoration-color: #00af00\">0</span>]… │\n",
       "│ (<span style=\"color: #0087ff; text-decoration-color: #0087ff\">GetItem</span>)           │                   │            │                   │\n",
       "├─────────────────────┼───────────────────┼────────────┼───────────────────┤\n",
       "│ get_item_30         │ (<span style=\"color: #00d7ff; text-decoration-color: #00d7ff\">None</span>, <span style=\"color: #00af00; text-decoration-color: #00af00\">142</span>)       │          <span style=\"color: #00af00; text-decoration-color: #00af00\">0</span> │ input_layer_1[<span style=\"color: #00af00; text-decoration-color: #00af00\">0</span>]… │\n",
       "│ (<span style=\"color: #0087ff; text-decoration-color: #0087ff\">GetItem</span>)           │                   │            │                   │\n",
       "├─────────────────────┼───────────────────┼────────────┼───────────────────┤\n",
       "│ get_item_31         │ (<span style=\"color: #00d7ff; text-decoration-color: #00d7ff\">None</span>, <span style=\"color: #00af00; text-decoration-color: #00af00\">142</span>)       │          <span style=\"color: #00af00; text-decoration-color: #00af00\">0</span> │ input_layer_1[<span style=\"color: #00af00; text-decoration-color: #00af00\">0</span>]… │\n",
       "│ (<span style=\"color: #0087ff; text-decoration-color: #0087ff\">GetItem</span>)           │                   │            │                   │\n",
       "├─────────────────────┼───────────────────┼────────────┼───────────────────┤\n",
       "│ get_item_32         │ (<span style=\"color: #00d7ff; text-decoration-color: #00d7ff\">None</span>, <span style=\"color: #00af00; text-decoration-color: #00af00\">142</span>)       │          <span style=\"color: #00af00; text-decoration-color: #00af00\">0</span> │ input_layer_1[<span style=\"color: #00af00; text-decoration-color: #00af00\">0</span>]… │\n",
       "│ (<span style=\"color: #0087ff; text-decoration-color: #0087ff\">GetItem</span>)           │                   │            │                   │\n",
       "├─────────────────────┼───────────────────┼────────────┼───────────────────┤\n",
       "│ get_item_33         │ (<span style=\"color: #00d7ff; text-decoration-color: #00d7ff\">None</span>, <span style=\"color: #00af00; text-decoration-color: #00af00\">142</span>)       │          <span style=\"color: #00af00; text-decoration-color: #00af00\">0</span> │ input_layer_1[<span style=\"color: #00af00; text-decoration-color: #00af00\">0</span>]… │\n",
       "│ (<span style=\"color: #0087ff; text-decoration-color: #0087ff\">GetItem</span>)           │                   │            │                   │\n",
       "├─────────────────────┼───────────────────┼────────────┼───────────────────┤\n",
       "│ get_item_34         │ (<span style=\"color: #00d7ff; text-decoration-color: #00d7ff\">None</span>, <span style=\"color: #00af00; text-decoration-color: #00af00\">142</span>)       │          <span style=\"color: #00af00; text-decoration-color: #00af00\">0</span> │ input_layer_1[<span style=\"color: #00af00; text-decoration-color: #00af00\">0</span>]… │\n",
       "│ (<span style=\"color: #0087ff; text-decoration-color: #0087ff\">GetItem</span>)           │                   │            │                   │\n",
       "├─────────────────────┼───────────────────┼────────────┼───────────────────┤\n",
       "│ get_item_35         │ (<span style=\"color: #00d7ff; text-decoration-color: #00d7ff\">None</span>, <span style=\"color: #00af00; text-decoration-color: #00af00\">142</span>)       │          <span style=\"color: #00af00; text-decoration-color: #00af00\">0</span> │ input_layer_1[<span style=\"color: #00af00; text-decoration-color: #00af00\">0</span>]… │\n",
       "│ (<span style=\"color: #0087ff; text-decoration-color: #0087ff\">GetItem</span>)           │                   │            │                   │\n",
       "├─────────────────────┼───────────────────┼────────────┼───────────────────┤\n",
       "│ get_item_36         │ (<span style=\"color: #00d7ff; text-decoration-color: #00d7ff\">None</span>, <span style=\"color: #00af00; text-decoration-color: #00af00\">142</span>)       │          <span style=\"color: #00af00; text-decoration-color: #00af00\">0</span> │ input_layer_1[<span style=\"color: #00af00; text-decoration-color: #00af00\">0</span>]… │\n",
       "│ (<span style=\"color: #0087ff; text-decoration-color: #0087ff\">GetItem</span>)           │                   │            │                   │\n",
       "├─────────────────────┼───────────────────┼────────────┼───────────────────┤\n",
       "│ get_item_37         │ (<span style=\"color: #00d7ff; text-decoration-color: #00d7ff\">None</span>, <span style=\"color: #00af00; text-decoration-color: #00af00\">142</span>)       │          <span style=\"color: #00af00; text-decoration-color: #00af00\">0</span> │ input_layer_1[<span style=\"color: #00af00; text-decoration-color: #00af00\">0</span>]… │\n",
       "│ (<span style=\"color: #0087ff; text-decoration-color: #0087ff\">GetItem</span>)           │                   │            │                   │\n",
       "├─────────────────────┼───────────────────┼────────────┼───────────────────┤\n",
       "│ get_item_38         │ (<span style=\"color: #00d7ff; text-decoration-color: #00d7ff\">None</span>, <span style=\"color: #00af00; text-decoration-color: #00af00\">142</span>)       │          <span style=\"color: #00af00; text-decoration-color: #00af00\">0</span> │ input_layer_1[<span style=\"color: #00af00; text-decoration-color: #00af00\">0</span>]… │\n",
       "│ (<span style=\"color: #0087ff; text-decoration-color: #0087ff\">GetItem</span>)           │                   │            │                   │\n",
       "├─────────────────────┼───────────────────┼────────────┼───────────────────┤\n",
       "│ get_item_39         │ (<span style=\"color: #00d7ff; text-decoration-color: #00d7ff\">None</span>, <span style=\"color: #00af00; text-decoration-color: #00af00\">142</span>)       │          <span style=\"color: #00af00; text-decoration-color: #00af00\">0</span> │ input_layer_1[<span style=\"color: #00af00; text-decoration-color: #00af00\">0</span>]… │\n",
       "│ (<span style=\"color: #0087ff; text-decoration-color: #0087ff\">GetItem</span>)           │                   │            │                   │\n",
       "├─────────────────────┼───────────────────┼────────────┼───────────────────┤\n",
       "│ get_item_40         │ (<span style=\"color: #00d7ff; text-decoration-color: #00d7ff\">None</span>, <span style=\"color: #00af00; text-decoration-color: #00af00\">142</span>)       │          <span style=\"color: #00af00; text-decoration-color: #00af00\">0</span> │ input_layer_1[<span style=\"color: #00af00; text-decoration-color: #00af00\">0</span>]… │\n",
       "│ (<span style=\"color: #0087ff; text-decoration-color: #0087ff\">GetItem</span>)           │                   │            │                   │\n",
       "├─────────────────────┼───────────────────┼────────────┼───────────────────┤\n",
       "│ get_item_41         │ (<span style=\"color: #00d7ff; text-decoration-color: #00d7ff\">None</span>, <span style=\"color: #00af00; text-decoration-color: #00af00\">142</span>)       │          <span style=\"color: #00af00; text-decoration-color: #00af00\">0</span> │ input_layer_1[<span style=\"color: #00af00; text-decoration-color: #00af00\">0</span>]… │\n",
       "│ (<span style=\"color: #0087ff; text-decoration-color: #0087ff\">GetItem</span>)           │                   │            │                   │\n",
       "├─────────────────────┼───────────────────┼────────────┼───────────────────┤\n",
       "│ get_item_42         │ (<span style=\"color: #00d7ff; text-decoration-color: #00d7ff\">None</span>, <span style=\"color: #00af00; text-decoration-color: #00af00\">142</span>)       │          <span style=\"color: #00af00; text-decoration-color: #00af00\">0</span> │ input_layer_1[<span style=\"color: #00af00; text-decoration-color: #00af00\">0</span>]… │\n",
       "│ (<span style=\"color: #0087ff; text-decoration-color: #0087ff\">GetItem</span>)           │                   │            │                   │\n",
       "├─────────────────────┼───────────────────┼────────────┼───────────────────┤\n",
       "│ get_item_43         │ (<span style=\"color: #00d7ff; text-decoration-color: #00d7ff\">None</span>, <span style=\"color: #00af00; text-decoration-color: #00af00\">142</span>)       │          <span style=\"color: #00af00; text-decoration-color: #00af00\">0</span> │ input_layer_1[<span style=\"color: #00af00; text-decoration-color: #00af00\">0</span>]… │\n",
       "│ (<span style=\"color: #0087ff; text-decoration-color: #0087ff\">GetItem</span>)           │                   │            │                   │\n",
       "├─────────────────────┼───────────────────┼────────────┼───────────────────┤\n",
       "│ get_item_44         │ (<span style=\"color: #00d7ff; text-decoration-color: #00d7ff\">None</span>, <span style=\"color: #00af00; text-decoration-color: #00af00\">142</span>)       │          <span style=\"color: #00af00; text-decoration-color: #00af00\">0</span> │ input_layer_1[<span style=\"color: #00af00; text-decoration-color: #00af00\">0</span>]… │\n",
       "│ (<span style=\"color: #0087ff; text-decoration-color: #0087ff\">GetItem</span>)           │                   │            │                   │\n",
       "├─────────────────────┼───────────────────┼────────────┼───────────────────┤\n",
       "│ get_item_45         │ (<span style=\"color: #00d7ff; text-decoration-color: #00d7ff\">None</span>, <span style=\"color: #00af00; text-decoration-color: #00af00\">142</span>)       │          <span style=\"color: #00af00; text-decoration-color: #00af00\">0</span> │ input_layer_1[<span style=\"color: #00af00; text-decoration-color: #00af00\">0</span>]… │\n",
       "│ (<span style=\"color: #0087ff; text-decoration-color: #0087ff\">GetItem</span>)           │                   │            │                   │\n",
       "├─────────────────────┼───────────────────┼────────────┼───────────────────┤\n",
       "│ get_item_46         │ (<span style=\"color: #00d7ff; text-decoration-color: #00d7ff\">None</span>, <span style=\"color: #00af00; text-decoration-color: #00af00\">142</span>)       │          <span style=\"color: #00af00; text-decoration-color: #00af00\">0</span> │ input_layer_1[<span style=\"color: #00af00; text-decoration-color: #00af00\">0</span>]… │\n",
       "│ (<span style=\"color: #0087ff; text-decoration-color: #0087ff\">GetItem</span>)           │                   │            │                   │\n",
       "├─────────────────────┼───────────────────┼────────────┼───────────────────┤\n",
       "│ get_item_47         │ (<span style=\"color: #00d7ff; text-decoration-color: #00d7ff\">None</span>, <span style=\"color: #00af00; text-decoration-color: #00af00\">142</span>)       │          <span style=\"color: #00af00; text-decoration-color: #00af00\">0</span> │ input_layer_1[<span style=\"color: #00af00; text-decoration-color: #00af00\">0</span>]… │\n",
       "│ (<span style=\"color: #0087ff; text-decoration-color: #0087ff\">GetItem</span>)           │                   │            │                   │\n",
       "├─────────────────────┼───────────────────┼────────────┼───────────────────┤\n",
       "│ get_item_48         │ (<span style=\"color: #00d7ff; text-decoration-color: #00d7ff\">None</span>, <span style=\"color: #00af00; text-decoration-color: #00af00\">142</span>)       │          <span style=\"color: #00af00; text-decoration-color: #00af00\">0</span> │ input_layer_1[<span style=\"color: #00af00; text-decoration-color: #00af00\">0</span>]… │\n",
       "│ (<span style=\"color: #0087ff; text-decoration-color: #0087ff\">GetItem</span>)           │                   │            │                   │\n",
       "├─────────────────────┼───────────────────┼────────────┼───────────────────┤\n",
       "│ get_item_49         │ (<span style=\"color: #00d7ff; text-decoration-color: #00d7ff\">None</span>, <span style=\"color: #00af00; text-decoration-color: #00af00\">142</span>)       │          <span style=\"color: #00af00; text-decoration-color: #00af00\">0</span> │ input_layer_1[<span style=\"color: #00af00; text-decoration-color: #00af00\">0</span>]… │\n",
       "│ (<span style=\"color: #0087ff; text-decoration-color: #0087ff\">GetItem</span>)           │                   │            │                   │\n",
       "├─────────────────────┼───────────────────┼────────────┼───────────────────┤\n",
       "│ get_item_50         │ (<span style=\"color: #00d7ff; text-decoration-color: #00d7ff\">None</span>, <span style=\"color: #00af00; text-decoration-color: #00af00\">142</span>)       │          <span style=\"color: #00af00; text-decoration-color: #00af00\">0</span> │ input_layer_1[<span style=\"color: #00af00; text-decoration-color: #00af00\">0</span>]… │\n",
       "│ (<span style=\"color: #0087ff; text-decoration-color: #0087ff\">GetItem</span>)           │                   │            │                   │\n",
       "├─────────────────────┼───────────────────┼────────────┼───────────────────┤\n",
       "│ get_item_51         │ (<span style=\"color: #00d7ff; text-decoration-color: #00d7ff\">None</span>, <span style=\"color: #00af00; text-decoration-color: #00af00\">142</span>)       │          <span style=\"color: #00af00; text-decoration-color: #00af00\">0</span> │ input_layer_1[<span style=\"color: #00af00; text-decoration-color: #00af00\">0</span>]… │\n",
       "│ (<span style=\"color: #0087ff; text-decoration-color: #0087ff\">GetItem</span>)           │                   │            │                   │\n",
       "├─────────────────────┼───────────────────┼────────────┼───────────────────┤\n",
       "│ get_item_52         │ (<span style=\"color: #00d7ff; text-decoration-color: #00d7ff\">None</span>, <span style=\"color: #00af00; text-decoration-color: #00af00\">142</span>)       │          <span style=\"color: #00af00; text-decoration-color: #00af00\">0</span> │ input_layer_1[<span style=\"color: #00af00; text-decoration-color: #00af00\">0</span>]… │\n",
       "│ (<span style=\"color: #0087ff; text-decoration-color: #0087ff\">GetItem</span>)           │                   │            │                   │\n",
       "├─────────────────────┼───────────────────┼────────────┼───────────────────┤\n",
       "│ get_item_53         │ (<span style=\"color: #00d7ff; text-decoration-color: #00d7ff\">None</span>, <span style=\"color: #00af00; text-decoration-color: #00af00\">142</span>)       │          <span style=\"color: #00af00; text-decoration-color: #00af00\">0</span> │ input_layer_1[<span style=\"color: #00af00; text-decoration-color: #00af00\">0</span>]… │\n",
       "│ (<span style=\"color: #0087ff; text-decoration-color: #0087ff\">GetItem</span>)           │                   │            │                   │\n",
       "├─────────────────────┼───────────────────┼────────────┼───────────────────┤\n",
       "│ get_item_54         │ (<span style=\"color: #00d7ff; text-decoration-color: #00d7ff\">None</span>, <span style=\"color: #00af00; text-decoration-color: #00af00\">142</span>)       │          <span style=\"color: #00af00; text-decoration-color: #00af00\">0</span> │ input_layer_1[<span style=\"color: #00af00; text-decoration-color: #00af00\">0</span>]… │\n",
       "│ (<span style=\"color: #0087ff; text-decoration-color: #0087ff\">GetItem</span>)           │                   │            │                   │\n",
       "├─────────────────────┼───────────────────┼────────────┼───────────────────┤\n",
       "│ get_item_55         │ (<span style=\"color: #00d7ff; text-decoration-color: #00d7ff\">None</span>, <span style=\"color: #00af00; text-decoration-color: #00af00\">142</span>)       │          <span style=\"color: #00af00; text-decoration-color: #00af00\">0</span> │ input_layer_1[<span style=\"color: #00af00; text-decoration-color: #00af00\">0</span>]… │\n",
       "│ (<span style=\"color: #0087ff; text-decoration-color: #0087ff\">GetItem</span>)           │                   │            │                   │\n",
       "├─────────────────────┼───────────────────┼────────────┼───────────────────┤\n",
       "│ get_item_56         │ (<span style=\"color: #00d7ff; text-decoration-color: #00d7ff\">None</span>, <span style=\"color: #00af00; text-decoration-color: #00af00\">142</span>)       │          <span style=\"color: #00af00; text-decoration-color: #00af00\">0</span> │ input_layer_1[<span style=\"color: #00af00; text-decoration-color: #00af00\">0</span>]… │\n",
       "│ (<span style=\"color: #0087ff; text-decoration-color: #0087ff\">GetItem</span>)           │                   │            │                   │\n",
       "├─────────────────────┼───────────────────┼────────────┼───────────────────┤\n",
       "│ get_item_57         │ (<span style=\"color: #00d7ff; text-decoration-color: #00d7ff\">None</span>, <span style=\"color: #00af00; text-decoration-color: #00af00\">142</span>)       │          <span style=\"color: #00af00; text-decoration-color: #00af00\">0</span> │ input_layer_1[<span style=\"color: #00af00; text-decoration-color: #00af00\">0</span>]… │\n",
       "│ (<span style=\"color: #0087ff; text-decoration-color: #0087ff\">GetItem</span>)           │                   │            │                   │\n",
       "├─────────────────────┼───────────────────┼────────────┼───────────────────┤\n",
       "│ get_item_58         │ (<span style=\"color: #00d7ff; text-decoration-color: #00d7ff\">None</span>, <span style=\"color: #00af00; text-decoration-color: #00af00\">142</span>)       │          <span style=\"color: #00af00; text-decoration-color: #00af00\">0</span> │ input_layer_1[<span style=\"color: #00af00; text-decoration-color: #00af00\">0</span>]… │\n",
       "│ (<span style=\"color: #0087ff; text-decoration-color: #0087ff\">GetItem</span>)           │                   │            │                   │\n",
       "├─────────────────────┼───────────────────┼────────────┼───────────────────┤\n",
       "│ get_item_59         │ (<span style=\"color: #00d7ff; text-decoration-color: #00d7ff\">None</span>, <span style=\"color: #00af00; text-decoration-color: #00af00\">142</span>)       │          <span style=\"color: #00af00; text-decoration-color: #00af00\">0</span> │ input_layer_1[<span style=\"color: #00af00; text-decoration-color: #00af00\">0</span>]… │\n",
       "│ (<span style=\"color: #0087ff; text-decoration-color: #0087ff\">GetItem</span>)           │                   │            │                   │\n",
       "├─────────────────────┼───────────────────┼────────────┼───────────────────┤\n",
       "│ sequential          │ (<span style=\"color: #00d7ff; text-decoration-color: #00d7ff\">None</span>, <span style=\"color: #00af00; text-decoration-color: #00af00\">32</span>)        │     <span style=\"color: #00af00; text-decoration-color: #00af00\">80,896</span> │ get_item[<span style=\"color: #00af00; text-decoration-color: #00af00\">0</span>][<span style=\"color: #00af00; text-decoration-color: #00af00\">0</span>],   │\n",
       "│ (<span style=\"color: #0087ff; text-decoration-color: #0087ff\">Sequential</span>)        │                   │            │ get_item_1[<span style=\"color: #00af00; text-decoration-color: #00af00\">0</span>][<span style=\"color: #00af00; text-decoration-color: #00af00\">0</span>], │\n",
       "│                     │                   │            │ get_item_2[<span style=\"color: #00af00; text-decoration-color: #00af00\">0</span>][<span style=\"color: #00af00; text-decoration-color: #00af00\">0</span>], │\n",
       "│                     │                   │            │ get_item_3[<span style=\"color: #00af00; text-decoration-color: #00af00\">0</span>][<span style=\"color: #00af00; text-decoration-color: #00af00\">0</span>], │\n",
       "│                     │                   │            │ get_item_4[<span style=\"color: #00af00; text-decoration-color: #00af00\">0</span>][<span style=\"color: #00af00; text-decoration-color: #00af00\">0</span>], │\n",
       "│                     │                   │            │ get_item_5[<span style=\"color: #00af00; text-decoration-color: #00af00\">0</span>][<span style=\"color: #00af00; text-decoration-color: #00af00\">0</span>], │\n",
       "│                     │                   │            │ get_item_6[<span style=\"color: #00af00; text-decoration-color: #00af00\">0</span>][<span style=\"color: #00af00; text-decoration-color: #00af00\">0</span>], │\n",
       "│                     │                   │            │ get_item_7[<span style=\"color: #00af00; text-decoration-color: #00af00\">0</span>][<span style=\"color: #00af00; text-decoration-color: #00af00\">0</span>], │\n",
       "│                     │                   │            │ get_item_8[<span style=\"color: #00af00; text-decoration-color: #00af00\">0</span>][<span style=\"color: #00af00; text-decoration-color: #00af00\">0</span>], │\n",
       "│                     │                   │            │ get_item_9[<span style=\"color: #00af00; text-decoration-color: #00af00\">0</span>][<span style=\"color: #00af00; text-decoration-color: #00af00\">0</span>], │\n",
       "│                     │                   │            │ get_item_10[<span style=\"color: #00af00; text-decoration-color: #00af00\">0</span>][<span style=\"color: #00af00; text-decoration-color: #00af00\">0</span>… │\n",
       "│                     │                   │            │ get_item_11[<span style=\"color: #00af00; text-decoration-color: #00af00\">0</span>][<span style=\"color: #00af00; text-decoration-color: #00af00\">0</span>… │\n",
       "│                     │                   │            │ get_item_12[<span style=\"color: #00af00; text-decoration-color: #00af00\">0</span>][<span style=\"color: #00af00; text-decoration-color: #00af00\">0</span>… │\n",
       "│                     │                   │            │ get_item_13[<span style=\"color: #00af00; text-decoration-color: #00af00\">0</span>][<span style=\"color: #00af00; text-decoration-color: #00af00\">0</span>… │\n",
       "│                     │                   │            │ get_item_14[<span style=\"color: #00af00; text-decoration-color: #00af00\">0</span>][<span style=\"color: #00af00; text-decoration-color: #00af00\">0</span>… │\n",
       "│                     │                   │            │ get_item_15[<span style=\"color: #00af00; text-decoration-color: #00af00\">0</span>][<span style=\"color: #00af00; text-decoration-color: #00af00\">0</span>… │\n",
       "│                     │                   │            │ get_item_16[<span style=\"color: #00af00; text-decoration-color: #00af00\">0</span>][<span style=\"color: #00af00; text-decoration-color: #00af00\">0</span>… │\n",
       "│                     │                   │            │ get_item_17[<span style=\"color: #00af00; text-decoration-color: #00af00\">0</span>][<span style=\"color: #00af00; text-decoration-color: #00af00\">0</span>… │\n",
       "│                     │                   │            │ get_item_18[<span style=\"color: #00af00; text-decoration-color: #00af00\">0</span>][<span style=\"color: #00af00; text-decoration-color: #00af00\">0</span>… │\n",
       "│                     │                   │            │ get_item_19[<span style=\"color: #00af00; text-decoration-color: #00af00\">0</span>][<span style=\"color: #00af00; text-decoration-color: #00af00\">0</span>… │\n",
       "│                     │                   │            │ get_item_20[<span style=\"color: #00af00; text-decoration-color: #00af00\">0</span>][<span style=\"color: #00af00; text-decoration-color: #00af00\">0</span>… │\n",
       "│                     │                   │            │ get_item_21[<span style=\"color: #00af00; text-decoration-color: #00af00\">0</span>][<span style=\"color: #00af00; text-decoration-color: #00af00\">0</span>… │\n",
       "│                     │                   │            │ get_item_22[<span style=\"color: #00af00; text-decoration-color: #00af00\">0</span>][<span style=\"color: #00af00; text-decoration-color: #00af00\">0</span>… │\n",
       "│                     │                   │            │ get_item_23[<span style=\"color: #00af00; text-decoration-color: #00af00\">0</span>][<span style=\"color: #00af00; text-decoration-color: #00af00\">0</span>… │\n",
       "│                     │                   │            │ get_item_24[<span style=\"color: #00af00; text-decoration-color: #00af00\">0</span>][<span style=\"color: #00af00; text-decoration-color: #00af00\">0</span>… │\n",
       "│                     │                   │            │ get_item_25[<span style=\"color: #00af00; text-decoration-color: #00af00\">0</span>][<span style=\"color: #00af00; text-decoration-color: #00af00\">0</span>… │\n",
       "│                     │                   │            │ get_item_26[<span style=\"color: #00af00; text-decoration-color: #00af00\">0</span>][<span style=\"color: #00af00; text-decoration-color: #00af00\">0</span>… │\n",
       "│                     │                   │            │ get_item_27[<span style=\"color: #00af00; text-decoration-color: #00af00\">0</span>][<span style=\"color: #00af00; text-decoration-color: #00af00\">0</span>… │\n",
       "│                     │                   │            │ get_item_28[<span style=\"color: #00af00; text-decoration-color: #00af00\">0</span>][<span style=\"color: #00af00; text-decoration-color: #00af00\">0</span>… │\n",
       "│                     │                   │            │ get_item_29[<span style=\"color: #00af00; text-decoration-color: #00af00\">0</span>][<span style=\"color: #00af00; text-decoration-color: #00af00\">0</span>… │\n",
       "│                     │                   │            │ get_item_30[<span style=\"color: #00af00; text-decoration-color: #00af00\">0</span>][<span style=\"color: #00af00; text-decoration-color: #00af00\">0</span>… │\n",
       "│                     │                   │            │ get_item_31[<span style=\"color: #00af00; text-decoration-color: #00af00\">0</span>][<span style=\"color: #00af00; text-decoration-color: #00af00\">0</span>… │\n",
       "│                     │                   │            │ get_item_32[<span style=\"color: #00af00; text-decoration-color: #00af00\">0</span>][<span style=\"color: #00af00; text-decoration-color: #00af00\">0</span>… │\n",
       "│                     │                   │            │ get_item_33[<span style=\"color: #00af00; text-decoration-color: #00af00\">0</span>][<span style=\"color: #00af00; text-decoration-color: #00af00\">0</span>… │\n",
       "│                     │                   │            │ get_item_34[<span style=\"color: #00af00; text-decoration-color: #00af00\">0</span>][<span style=\"color: #00af00; text-decoration-color: #00af00\">0</span>… │\n",
       "│                     │                   │            │ get_item_35[<span style=\"color: #00af00; text-decoration-color: #00af00\">0</span>][<span style=\"color: #00af00; text-decoration-color: #00af00\">0</span>… │\n",
       "│                     │                   │            │ get_item_36[<span style=\"color: #00af00; text-decoration-color: #00af00\">0</span>][<span style=\"color: #00af00; text-decoration-color: #00af00\">0</span>… │\n",
       "│                     │                   │            │ get_item_37[<span style=\"color: #00af00; text-decoration-color: #00af00\">0</span>][<span style=\"color: #00af00; text-decoration-color: #00af00\">0</span>… │\n",
       "│                     │                   │            │ get_item_38[<span style=\"color: #00af00; text-decoration-color: #00af00\">0</span>][<span style=\"color: #00af00; text-decoration-color: #00af00\">0</span>… │\n",
       "│                     │                   │            │ get_item_39[<span style=\"color: #00af00; text-decoration-color: #00af00\">0</span>][<span style=\"color: #00af00; text-decoration-color: #00af00\">0</span>… │\n",
       "│                     │                   │            │ get_item_40[<span style=\"color: #00af00; text-decoration-color: #00af00\">0</span>][<span style=\"color: #00af00; text-decoration-color: #00af00\">0</span>… │\n",
       "│                     │                   │            │ get_item_41[<span style=\"color: #00af00; text-decoration-color: #00af00\">0</span>][<span style=\"color: #00af00; text-decoration-color: #00af00\">0</span>… │\n",
       "│                     │                   │            │ get_item_42[<span style=\"color: #00af00; text-decoration-color: #00af00\">0</span>][<span style=\"color: #00af00; text-decoration-color: #00af00\">0</span>… │\n",
       "│                     │                   │            │ get_item_43[<span style=\"color: #00af00; text-decoration-color: #00af00\">0</span>][<span style=\"color: #00af00; text-decoration-color: #00af00\">0</span>… │\n",
       "│                     │                   │            │ get_item_44[<span style=\"color: #00af00; text-decoration-color: #00af00\">0</span>][<span style=\"color: #00af00; text-decoration-color: #00af00\">0</span>… │\n",
       "│                     │                   │            │ get_item_45[<span style=\"color: #00af00; text-decoration-color: #00af00\">0</span>][<span style=\"color: #00af00; text-decoration-color: #00af00\">0</span>… │\n",
       "│                     │                   │            │ get_item_46[<span style=\"color: #00af00; text-decoration-color: #00af00\">0</span>][<span style=\"color: #00af00; text-decoration-color: #00af00\">0</span>… │\n",
       "│                     │                   │            │ get_item_47[<span style=\"color: #00af00; text-decoration-color: #00af00\">0</span>][<span style=\"color: #00af00; text-decoration-color: #00af00\">0</span>… │\n",
       "│                     │                   │            │ get_item_48[<span style=\"color: #00af00; text-decoration-color: #00af00\">0</span>][<span style=\"color: #00af00; text-decoration-color: #00af00\">0</span>… │\n",
       "│                     │                   │            │ get_item_49[<span style=\"color: #00af00; text-decoration-color: #00af00\">0</span>][<span style=\"color: #00af00; text-decoration-color: #00af00\">0</span>… │\n",
       "│                     │                   │            │ get_item_50[<span style=\"color: #00af00; text-decoration-color: #00af00\">0</span>][<span style=\"color: #00af00; text-decoration-color: #00af00\">0</span>… │\n",
       "│                     │                   │            │ get_item_51[<span style=\"color: #00af00; text-decoration-color: #00af00\">0</span>][<span style=\"color: #00af00; text-decoration-color: #00af00\">0</span>… │\n",
       "│                     │                   │            │ get_item_52[<span style=\"color: #00af00; text-decoration-color: #00af00\">0</span>][<span style=\"color: #00af00; text-decoration-color: #00af00\">0</span>… │\n",
       "│                     │                   │            │ get_item_53[<span style=\"color: #00af00; text-decoration-color: #00af00\">0</span>][<span style=\"color: #00af00; text-decoration-color: #00af00\">0</span>… │\n",
       "│                     │                   │            │ get_item_54[<span style=\"color: #00af00; text-decoration-color: #00af00\">0</span>][<span style=\"color: #00af00; text-decoration-color: #00af00\">0</span>… │\n",
       "│                     │                   │            │ get_item_55[<span style=\"color: #00af00; text-decoration-color: #00af00\">0</span>][<span style=\"color: #00af00; text-decoration-color: #00af00\">0</span>… │\n",
       "│                     │                   │            │ get_item_56[<span style=\"color: #00af00; text-decoration-color: #00af00\">0</span>][<span style=\"color: #00af00; text-decoration-color: #00af00\">0</span>… │\n",
       "│                     │                   │            │ get_item_57[<span style=\"color: #00af00; text-decoration-color: #00af00\">0</span>][<span style=\"color: #00af00; text-decoration-color: #00af00\">0</span>… │\n",
       "│                     │                   │            │ get_item_58[<span style=\"color: #00af00; text-decoration-color: #00af00\">0</span>][<span style=\"color: #00af00; text-decoration-color: #00af00\">0</span>… │\n",
       "│                     │                   │            │ get_item_59[<span style=\"color: #00af00; text-decoration-color: #00af00\">0</span>][<span style=\"color: #00af00; text-decoration-color: #00af00\">0</span>] │\n",
       "├─────────────────────┼───────────────────┼────────────┼───────────────────┤\n",
       "│ concatenate         │ (<span style=\"color: #00d7ff; text-decoration-color: #00d7ff\">None</span>, <span style=\"color: #00af00; text-decoration-color: #00af00\">1920</span>)      │          <span style=\"color: #00af00; text-decoration-color: #00af00\">0</span> │ sequential[<span style=\"color: #00af00; text-decoration-color: #00af00\">0</span>][<span style=\"color: #00af00; text-decoration-color: #00af00\">0</span>], │\n",
       "│ (<span style=\"color: #0087ff; text-decoration-color: #0087ff\">Concatenate</span>)       │                   │            │ sequential[<span style=\"color: #00af00; text-decoration-color: #00af00\">1</span>][<span style=\"color: #00af00; text-decoration-color: #00af00\">0</span>], │\n",
       "│                     │                   │            │ sequential[<span style=\"color: #00af00; text-decoration-color: #00af00\">2</span>][<span style=\"color: #00af00; text-decoration-color: #00af00\">0</span>], │\n",
       "│                     │                   │            │ sequential[<span style=\"color: #00af00; text-decoration-color: #00af00\">3</span>][<span style=\"color: #00af00; text-decoration-color: #00af00\">0</span>], │\n",
       "│                     │                   │            │ sequential[<span style=\"color: #00af00; text-decoration-color: #00af00\">4</span>][<span style=\"color: #00af00; text-decoration-color: #00af00\">0</span>], │\n",
       "│                     │                   │            │ sequential[<span style=\"color: #00af00; text-decoration-color: #00af00\">5</span>][<span style=\"color: #00af00; text-decoration-color: #00af00\">0</span>], │\n",
       "│                     │                   │            │ sequential[<span style=\"color: #00af00; text-decoration-color: #00af00\">6</span>][<span style=\"color: #00af00; text-decoration-color: #00af00\">0</span>], │\n",
       "│                     │                   │            │ sequential[<span style=\"color: #00af00; text-decoration-color: #00af00\">7</span>][<span style=\"color: #00af00; text-decoration-color: #00af00\">0</span>], │\n",
       "│                     │                   │            │ sequential[<span style=\"color: #00af00; text-decoration-color: #00af00\">8</span>][<span style=\"color: #00af00; text-decoration-color: #00af00\">0</span>], │\n",
       "│                     │                   │            │ sequential[<span style=\"color: #00af00; text-decoration-color: #00af00\">9</span>][<span style=\"color: #00af00; text-decoration-color: #00af00\">0</span>], │\n",
       "│                     │                   │            │ sequential[<span style=\"color: #00af00; text-decoration-color: #00af00\">10</span>][<span style=\"color: #00af00; text-decoration-color: #00af00\">0</span>… │\n",
       "│                     │                   │            │ sequential[<span style=\"color: #00af00; text-decoration-color: #00af00\">11</span>][<span style=\"color: #00af00; text-decoration-color: #00af00\">0</span>… │\n",
       "│                     │                   │            │ sequential[<span style=\"color: #00af00; text-decoration-color: #00af00\">12</span>][<span style=\"color: #00af00; text-decoration-color: #00af00\">0</span>… │\n",
       "│                     │                   │            │ sequential[<span style=\"color: #00af00; text-decoration-color: #00af00\">13</span>][<span style=\"color: #00af00; text-decoration-color: #00af00\">0</span>… │\n",
       "│                     │                   │            │ sequential[<span style=\"color: #00af00; text-decoration-color: #00af00\">14</span>][<span style=\"color: #00af00; text-decoration-color: #00af00\">0</span>… │\n",
       "│                     │                   │            │ sequential[<span style=\"color: #00af00; text-decoration-color: #00af00\">15</span>][<span style=\"color: #00af00; text-decoration-color: #00af00\">0</span>… │\n",
       "│                     │                   │            │ sequential[<span style=\"color: #00af00; text-decoration-color: #00af00\">16</span>][<span style=\"color: #00af00; text-decoration-color: #00af00\">0</span>… │\n",
       "│                     │                   │            │ sequential[<span style=\"color: #00af00; text-decoration-color: #00af00\">17</span>][<span style=\"color: #00af00; text-decoration-color: #00af00\">0</span>… │\n",
       "│                     │                   │            │ sequential[<span style=\"color: #00af00; text-decoration-color: #00af00\">18</span>][<span style=\"color: #00af00; text-decoration-color: #00af00\">0</span>… │\n",
       "│                     │                   │            │ sequential[<span style=\"color: #00af00; text-decoration-color: #00af00\">19</span>][<span style=\"color: #00af00; text-decoration-color: #00af00\">0</span>… │\n",
       "│                     │                   │            │ sequential[<span style=\"color: #00af00; text-decoration-color: #00af00\">20</span>][<span style=\"color: #00af00; text-decoration-color: #00af00\">0</span>… │\n",
       "│                     │                   │            │ sequential[<span style=\"color: #00af00; text-decoration-color: #00af00\">21</span>][<span style=\"color: #00af00; text-decoration-color: #00af00\">0</span>… │\n",
       "│                     │                   │            │ sequential[<span style=\"color: #00af00; text-decoration-color: #00af00\">22</span>][<span style=\"color: #00af00; text-decoration-color: #00af00\">0</span>… │\n",
       "│                     │                   │            │ sequential[<span style=\"color: #00af00; text-decoration-color: #00af00\">23</span>][<span style=\"color: #00af00; text-decoration-color: #00af00\">0</span>… │\n",
       "│                     │                   │            │ sequential[<span style=\"color: #00af00; text-decoration-color: #00af00\">24</span>][<span style=\"color: #00af00; text-decoration-color: #00af00\">0</span>… │\n",
       "│                     │                   │            │ sequential[<span style=\"color: #00af00; text-decoration-color: #00af00\">25</span>][<span style=\"color: #00af00; text-decoration-color: #00af00\">0</span>… │\n",
       "│                     │                   │            │ sequential[<span style=\"color: #00af00; text-decoration-color: #00af00\">26</span>][<span style=\"color: #00af00; text-decoration-color: #00af00\">0</span>… │\n",
       "│                     │                   │            │ sequential[<span style=\"color: #00af00; text-decoration-color: #00af00\">27</span>][<span style=\"color: #00af00; text-decoration-color: #00af00\">0</span>… │\n",
       "│                     │                   │            │ sequential[<span style=\"color: #00af00; text-decoration-color: #00af00\">28</span>][<span style=\"color: #00af00; text-decoration-color: #00af00\">0</span>… │\n",
       "│                     │                   │            │ sequential[<span style=\"color: #00af00; text-decoration-color: #00af00\">29</span>][<span style=\"color: #00af00; text-decoration-color: #00af00\">0</span>… │\n",
       "│                     │                   │            │ sequential[<span style=\"color: #00af00; text-decoration-color: #00af00\">30</span>][<span style=\"color: #00af00; text-decoration-color: #00af00\">0</span>… │\n",
       "│                     │                   │            │ sequential[<span style=\"color: #00af00; text-decoration-color: #00af00\">31</span>][<span style=\"color: #00af00; text-decoration-color: #00af00\">0</span>… │\n",
       "│                     │                   │            │ sequential[<span style=\"color: #00af00; text-decoration-color: #00af00\">32</span>][<span style=\"color: #00af00; text-decoration-color: #00af00\">0</span>… │\n",
       "│                     │                   │            │ sequential[<span style=\"color: #00af00; text-decoration-color: #00af00\">33</span>][<span style=\"color: #00af00; text-decoration-color: #00af00\">0</span>… │\n",
       "│                     │                   │            │ sequential[<span style=\"color: #00af00; text-decoration-color: #00af00\">34</span>][<span style=\"color: #00af00; text-decoration-color: #00af00\">0</span>… │\n",
       "│                     │                   │            │ sequential[<span style=\"color: #00af00; text-decoration-color: #00af00\">35</span>][<span style=\"color: #00af00; text-decoration-color: #00af00\">0</span>… │\n",
       "│                     │                   │            │ sequential[<span style=\"color: #00af00; text-decoration-color: #00af00\">36</span>][<span style=\"color: #00af00; text-decoration-color: #00af00\">0</span>… │\n",
       "│                     │                   │            │ sequential[<span style=\"color: #00af00; text-decoration-color: #00af00\">37</span>][<span style=\"color: #00af00; text-decoration-color: #00af00\">0</span>… │\n",
       "│                     │                   │            │ sequential[<span style=\"color: #00af00; text-decoration-color: #00af00\">38</span>][<span style=\"color: #00af00; text-decoration-color: #00af00\">0</span>… │\n",
       "│                     │                   │            │ sequential[<span style=\"color: #00af00; text-decoration-color: #00af00\">39</span>][<span style=\"color: #00af00; text-decoration-color: #00af00\">0</span>… │\n",
       "│                     │                   │            │ sequential[<span style=\"color: #00af00; text-decoration-color: #00af00\">40</span>][<span style=\"color: #00af00; text-decoration-color: #00af00\">0</span>… │\n",
       "│                     │                   │            │ sequential[<span style=\"color: #00af00; text-decoration-color: #00af00\">41</span>][<span style=\"color: #00af00; text-decoration-color: #00af00\">0</span>… │\n",
       "│                     │                   │            │ sequential[<span style=\"color: #00af00; text-decoration-color: #00af00\">42</span>][<span style=\"color: #00af00; text-decoration-color: #00af00\">0</span>… │\n",
       "│                     │                   │            │ sequential[<span style=\"color: #00af00; text-decoration-color: #00af00\">43</span>][<span style=\"color: #00af00; text-decoration-color: #00af00\">0</span>… │\n",
       "│                     │                   │            │ sequential[<span style=\"color: #00af00; text-decoration-color: #00af00\">44</span>][<span style=\"color: #00af00; text-decoration-color: #00af00\">0</span>… │\n",
       "│                     │                   │            │ sequential[<span style=\"color: #00af00; text-decoration-color: #00af00\">45</span>][<span style=\"color: #00af00; text-decoration-color: #00af00\">0</span>… │\n",
       "│                     │                   │            │ sequential[<span style=\"color: #00af00; text-decoration-color: #00af00\">46</span>][<span style=\"color: #00af00; text-decoration-color: #00af00\">0</span>… │\n",
       "│                     │                   │            │ sequential[<span style=\"color: #00af00; text-decoration-color: #00af00\">47</span>][<span style=\"color: #00af00; text-decoration-color: #00af00\">0</span>… │\n",
       "│                     │                   │            │ sequential[<span style=\"color: #00af00; text-decoration-color: #00af00\">48</span>][<span style=\"color: #00af00; text-decoration-color: #00af00\">0</span>… │\n",
       "│                     │                   │            │ sequential[<span style=\"color: #00af00; text-decoration-color: #00af00\">49</span>][<span style=\"color: #00af00; text-decoration-color: #00af00\">0</span>… │\n",
       "│                     │                   │            │ sequential[<span style=\"color: #00af00; text-decoration-color: #00af00\">50</span>][<span style=\"color: #00af00; text-decoration-color: #00af00\">0</span>… │\n",
       "│                     │                   │            │ sequential[<span style=\"color: #00af00; text-decoration-color: #00af00\">51</span>][<span style=\"color: #00af00; text-decoration-color: #00af00\">0</span>… │\n",
       "│                     │                   │            │ sequential[<span style=\"color: #00af00; text-decoration-color: #00af00\">52</span>][<span style=\"color: #00af00; text-decoration-color: #00af00\">0</span>… │\n",
       "│                     │                   │            │ sequential[<span style=\"color: #00af00; text-decoration-color: #00af00\">53</span>][<span style=\"color: #00af00; text-decoration-color: #00af00\">0</span>… │\n",
       "│                     │                   │            │ sequential[<span style=\"color: #00af00; text-decoration-color: #00af00\">54</span>][<span style=\"color: #00af00; text-decoration-color: #00af00\">0</span>… │\n",
       "│                     │                   │            │ sequential[<span style=\"color: #00af00; text-decoration-color: #00af00\">55</span>][<span style=\"color: #00af00; text-decoration-color: #00af00\">0</span>… │\n",
       "│                     │                   │            │ sequential[<span style=\"color: #00af00; text-decoration-color: #00af00\">56</span>][<span style=\"color: #00af00; text-decoration-color: #00af00\">0</span>… │\n",
       "│                     │                   │            │ sequential[<span style=\"color: #00af00; text-decoration-color: #00af00\">57</span>][<span style=\"color: #00af00; text-decoration-color: #00af00\">0</span>… │\n",
       "│                     │                   │            │ sequential[<span style=\"color: #00af00; text-decoration-color: #00af00\">58</span>][<span style=\"color: #00af00; text-decoration-color: #00af00\">0</span>… │\n",
       "│                     │                   │            │ sequential[<span style=\"color: #00af00; text-decoration-color: #00af00\">59</span>][<span style=\"color: #00af00; text-decoration-color: #00af00\">0</span>] │\n",
       "├─────────────────────┼───────────────────┼────────────┼───────────────────┤\n",
       "│ dense_5 (<span style=\"color: #0087ff; text-decoration-color: #0087ff\">Dense</span>)     │ (<span style=\"color: #00d7ff; text-decoration-color: #00d7ff\">None</span>, <span style=\"color: #00af00; text-decoration-color: #00af00\">64</span>)        │    <span style=\"color: #00af00; text-decoration-color: #00af00\">122,944</span> │ concatenate[<span style=\"color: #00af00; text-decoration-color: #00af00\">0</span>][<span style=\"color: #00af00; text-decoration-color: #00af00\">0</span>] │\n",
       "├─────────────────────┼───────────────────┼────────────┼───────────────────┤\n",
       "│ dense_6 (<span style=\"color: #0087ff; text-decoration-color: #0087ff\">Dense</span>)     │ (<span style=\"color: #00d7ff; text-decoration-color: #00d7ff\">None</span>, <span style=\"color: #00af00; text-decoration-color: #00af00\">1</span>)         │         <span style=\"color: #00af00; text-decoration-color: #00af00\">65</span> │ dense_5[<span style=\"color: #00af00; text-decoration-color: #00af00\">0</span>][<span style=\"color: #00af00; text-decoration-color: #00af00\">0</span>]     │\n",
       "└─────────────────────┴───────────────────┴────────────┴───────────────────┘\n",
       "</pre>\n"
      ],
      "text/plain": [
       "┏━━━━━━━━━━━━━━━━━━━━━┳━━━━━━━━━━━━━━━━━━━┳━━━━━━━━━━━━┳━━━━━━━━━━━━━━━━━━━┓\n",
       "┃\u001b[1m \u001b[0m\u001b[1mLayer (type)       \u001b[0m\u001b[1m \u001b[0m┃\u001b[1m \u001b[0m\u001b[1mOutput Shape     \u001b[0m\u001b[1m \u001b[0m┃\u001b[1m \u001b[0m\u001b[1m   Param #\u001b[0m\u001b[1m \u001b[0m┃\u001b[1m \u001b[0m\u001b[1mConnected to     \u001b[0m\u001b[1m \u001b[0m┃\n",
       "┡━━━━━━━━━━━━━━━━━━━━━╇━━━━━━━━━━━━━━━━━━━╇━━━━━━━━━━━━╇━━━━━━━━━━━━━━━━━━━┩\n",
       "│ input_layer_1       │ (\u001b[38;5;45mNone\u001b[0m, \u001b[38;5;34m60\u001b[0m, \u001b[38;5;34m142\u001b[0m)   │          \u001b[38;5;34m0\u001b[0m │ -                 │\n",
       "│ (\u001b[38;5;33mInputLayer\u001b[0m)        │                   │            │                   │\n",
       "├─────────────────────┼───────────────────┼────────────┼───────────────────┤\n",
       "│ get_item (\u001b[38;5;33mGetItem\u001b[0m)  │ (\u001b[38;5;45mNone\u001b[0m, \u001b[38;5;34m142\u001b[0m)       │          \u001b[38;5;34m0\u001b[0m │ input_layer_1[\u001b[38;5;34m0\u001b[0m]… │\n",
       "├─────────────────────┼───────────────────┼────────────┼───────────────────┤\n",
       "│ get_item_1          │ (\u001b[38;5;45mNone\u001b[0m, \u001b[38;5;34m142\u001b[0m)       │          \u001b[38;5;34m0\u001b[0m │ input_layer_1[\u001b[38;5;34m0\u001b[0m]… │\n",
       "│ (\u001b[38;5;33mGetItem\u001b[0m)           │                   │            │                   │\n",
       "├─────────────────────┼───────────────────┼────────────┼───────────────────┤\n",
       "│ get_item_2          │ (\u001b[38;5;45mNone\u001b[0m, \u001b[38;5;34m142\u001b[0m)       │          \u001b[38;5;34m0\u001b[0m │ input_layer_1[\u001b[38;5;34m0\u001b[0m]… │\n",
       "│ (\u001b[38;5;33mGetItem\u001b[0m)           │                   │            │                   │\n",
       "├─────────────────────┼───────────────────┼────────────┼───────────────────┤\n",
       "│ get_item_3          │ (\u001b[38;5;45mNone\u001b[0m, \u001b[38;5;34m142\u001b[0m)       │          \u001b[38;5;34m0\u001b[0m │ input_layer_1[\u001b[38;5;34m0\u001b[0m]… │\n",
       "│ (\u001b[38;5;33mGetItem\u001b[0m)           │                   │            │                   │\n",
       "├─────────────────────┼───────────────────┼────────────┼───────────────────┤\n",
       "│ get_item_4          │ (\u001b[38;5;45mNone\u001b[0m, \u001b[38;5;34m142\u001b[0m)       │          \u001b[38;5;34m0\u001b[0m │ input_layer_1[\u001b[38;5;34m0\u001b[0m]… │\n",
       "│ (\u001b[38;5;33mGetItem\u001b[0m)           │                   │            │                   │\n",
       "├─────────────────────┼───────────────────┼────────────┼───────────────────┤\n",
       "│ get_item_5          │ (\u001b[38;5;45mNone\u001b[0m, \u001b[38;5;34m142\u001b[0m)       │          \u001b[38;5;34m0\u001b[0m │ input_layer_1[\u001b[38;5;34m0\u001b[0m]… │\n",
       "│ (\u001b[38;5;33mGetItem\u001b[0m)           │                   │            │                   │\n",
       "├─────────────────────┼───────────────────┼────────────┼───────────────────┤\n",
       "│ get_item_6          │ (\u001b[38;5;45mNone\u001b[0m, \u001b[38;5;34m142\u001b[0m)       │          \u001b[38;5;34m0\u001b[0m │ input_layer_1[\u001b[38;5;34m0\u001b[0m]… │\n",
       "│ (\u001b[38;5;33mGetItem\u001b[0m)           │                   │            │                   │\n",
       "├─────────────────────┼───────────────────┼────────────┼───────────────────┤\n",
       "│ get_item_7          │ (\u001b[38;5;45mNone\u001b[0m, \u001b[38;5;34m142\u001b[0m)       │          \u001b[38;5;34m0\u001b[0m │ input_layer_1[\u001b[38;5;34m0\u001b[0m]… │\n",
       "│ (\u001b[38;5;33mGetItem\u001b[0m)           │                   │            │                   │\n",
       "├─────────────────────┼───────────────────┼────────────┼───────────────────┤\n",
       "│ get_item_8          │ (\u001b[38;5;45mNone\u001b[0m, \u001b[38;5;34m142\u001b[0m)       │          \u001b[38;5;34m0\u001b[0m │ input_layer_1[\u001b[38;5;34m0\u001b[0m]… │\n",
       "│ (\u001b[38;5;33mGetItem\u001b[0m)           │                   │            │                   │\n",
       "├─────────────────────┼───────────────────┼────────────┼───────────────────┤\n",
       "│ get_item_9          │ (\u001b[38;5;45mNone\u001b[0m, \u001b[38;5;34m142\u001b[0m)       │          \u001b[38;5;34m0\u001b[0m │ input_layer_1[\u001b[38;5;34m0\u001b[0m]… │\n",
       "│ (\u001b[38;5;33mGetItem\u001b[0m)           │                   │            │                   │\n",
       "├─────────────────────┼───────────────────┼────────────┼───────────────────┤\n",
       "│ get_item_10         │ (\u001b[38;5;45mNone\u001b[0m, \u001b[38;5;34m142\u001b[0m)       │          \u001b[38;5;34m0\u001b[0m │ input_layer_1[\u001b[38;5;34m0\u001b[0m]… │\n",
       "│ (\u001b[38;5;33mGetItem\u001b[0m)           │                   │            │                   │\n",
       "├─────────────────────┼───────────────────┼────────────┼───────────────────┤\n",
       "│ get_item_11         │ (\u001b[38;5;45mNone\u001b[0m, \u001b[38;5;34m142\u001b[0m)       │          \u001b[38;5;34m0\u001b[0m │ input_layer_1[\u001b[38;5;34m0\u001b[0m]… │\n",
       "│ (\u001b[38;5;33mGetItem\u001b[0m)           │                   │            │                   │\n",
       "├─────────────────────┼───────────────────┼────────────┼───────────────────┤\n",
       "│ get_item_12         │ (\u001b[38;5;45mNone\u001b[0m, \u001b[38;5;34m142\u001b[0m)       │          \u001b[38;5;34m0\u001b[0m │ input_layer_1[\u001b[38;5;34m0\u001b[0m]… │\n",
       "│ (\u001b[38;5;33mGetItem\u001b[0m)           │                   │            │                   │\n",
       "├─────────────────────┼───────────────────┼────────────┼───────────────────┤\n",
       "│ get_item_13         │ (\u001b[38;5;45mNone\u001b[0m, \u001b[38;5;34m142\u001b[0m)       │          \u001b[38;5;34m0\u001b[0m │ input_layer_1[\u001b[38;5;34m0\u001b[0m]… │\n",
       "│ (\u001b[38;5;33mGetItem\u001b[0m)           │                   │            │                   │\n",
       "├─────────────────────┼───────────────────┼────────────┼───────────────────┤\n",
       "│ get_item_14         │ (\u001b[38;5;45mNone\u001b[0m, \u001b[38;5;34m142\u001b[0m)       │          \u001b[38;5;34m0\u001b[0m │ input_layer_1[\u001b[38;5;34m0\u001b[0m]… │\n",
       "│ (\u001b[38;5;33mGetItem\u001b[0m)           │                   │            │                   │\n",
       "├─────────────────────┼───────────────────┼────────────┼───────────────────┤\n",
       "│ get_item_15         │ (\u001b[38;5;45mNone\u001b[0m, \u001b[38;5;34m142\u001b[0m)       │          \u001b[38;5;34m0\u001b[0m │ input_layer_1[\u001b[38;5;34m0\u001b[0m]… │\n",
       "│ (\u001b[38;5;33mGetItem\u001b[0m)           │                   │            │                   │\n",
       "├─────────────────────┼───────────────────┼────────────┼───────────────────┤\n",
       "│ get_item_16         │ (\u001b[38;5;45mNone\u001b[0m, \u001b[38;5;34m142\u001b[0m)       │          \u001b[38;5;34m0\u001b[0m │ input_layer_1[\u001b[38;5;34m0\u001b[0m]… │\n",
       "│ (\u001b[38;5;33mGetItem\u001b[0m)           │                   │            │                   │\n",
       "├─────────────────────┼───────────────────┼────────────┼───────────────────┤\n",
       "│ get_item_17         │ (\u001b[38;5;45mNone\u001b[0m, \u001b[38;5;34m142\u001b[0m)       │          \u001b[38;5;34m0\u001b[0m │ input_layer_1[\u001b[38;5;34m0\u001b[0m]… │\n",
       "│ (\u001b[38;5;33mGetItem\u001b[0m)           │                   │            │                   │\n",
       "├─────────────────────┼───────────────────┼────────────┼───────────────────┤\n",
       "│ get_item_18         │ (\u001b[38;5;45mNone\u001b[0m, \u001b[38;5;34m142\u001b[0m)       │          \u001b[38;5;34m0\u001b[0m │ input_layer_1[\u001b[38;5;34m0\u001b[0m]… │\n",
       "│ (\u001b[38;5;33mGetItem\u001b[0m)           │                   │            │                   │\n",
       "├─────────────────────┼───────────────────┼────────────┼───────────────────┤\n",
       "│ get_item_19         │ (\u001b[38;5;45mNone\u001b[0m, \u001b[38;5;34m142\u001b[0m)       │          \u001b[38;5;34m0\u001b[0m │ input_layer_1[\u001b[38;5;34m0\u001b[0m]… │\n",
       "│ (\u001b[38;5;33mGetItem\u001b[0m)           │                   │            │                   │\n",
       "├─────────────────────┼───────────────────┼────────────┼───────────────────┤\n",
       "│ get_item_20         │ (\u001b[38;5;45mNone\u001b[0m, \u001b[38;5;34m142\u001b[0m)       │          \u001b[38;5;34m0\u001b[0m │ input_layer_1[\u001b[38;5;34m0\u001b[0m]… │\n",
       "│ (\u001b[38;5;33mGetItem\u001b[0m)           │                   │            │                   │\n",
       "├─────────────────────┼───────────────────┼────────────┼───────────────────┤\n",
       "│ get_item_21         │ (\u001b[38;5;45mNone\u001b[0m, \u001b[38;5;34m142\u001b[0m)       │          \u001b[38;5;34m0\u001b[0m │ input_layer_1[\u001b[38;5;34m0\u001b[0m]… │\n",
       "│ (\u001b[38;5;33mGetItem\u001b[0m)           │                   │            │                   │\n",
       "├─────────────────────┼───────────────────┼────────────┼───────────────────┤\n",
       "│ get_item_22         │ (\u001b[38;5;45mNone\u001b[0m, \u001b[38;5;34m142\u001b[0m)       │          \u001b[38;5;34m0\u001b[0m │ input_layer_1[\u001b[38;5;34m0\u001b[0m]… │\n",
       "│ (\u001b[38;5;33mGetItem\u001b[0m)           │                   │            │                   │\n",
       "├─────────────────────┼───────────────────┼────────────┼───────────────────┤\n",
       "│ get_item_23         │ (\u001b[38;5;45mNone\u001b[0m, \u001b[38;5;34m142\u001b[0m)       │          \u001b[38;5;34m0\u001b[0m │ input_layer_1[\u001b[38;5;34m0\u001b[0m]… │\n",
       "│ (\u001b[38;5;33mGetItem\u001b[0m)           │                   │            │                   │\n",
       "├─────────────────────┼───────────────────┼────────────┼───────────────────┤\n",
       "│ get_item_24         │ (\u001b[38;5;45mNone\u001b[0m, \u001b[38;5;34m142\u001b[0m)       │          \u001b[38;5;34m0\u001b[0m │ input_layer_1[\u001b[38;5;34m0\u001b[0m]… │\n",
       "│ (\u001b[38;5;33mGetItem\u001b[0m)           │                   │            │                   │\n",
       "├─────────────────────┼───────────────────┼────────────┼───────────────────┤\n",
       "│ get_item_25         │ (\u001b[38;5;45mNone\u001b[0m, \u001b[38;5;34m142\u001b[0m)       │          \u001b[38;5;34m0\u001b[0m │ input_layer_1[\u001b[38;5;34m0\u001b[0m]… │\n",
       "│ (\u001b[38;5;33mGetItem\u001b[0m)           │                   │            │                   │\n",
       "├─────────────────────┼───────────────────┼────────────┼───────────────────┤\n",
       "│ get_item_26         │ (\u001b[38;5;45mNone\u001b[0m, \u001b[38;5;34m142\u001b[0m)       │          \u001b[38;5;34m0\u001b[0m │ input_layer_1[\u001b[38;5;34m0\u001b[0m]… │\n",
       "│ (\u001b[38;5;33mGetItem\u001b[0m)           │                   │            │                   │\n",
       "├─────────────────────┼───────────────────┼────────────┼───────────────────┤\n",
       "│ get_item_27         │ (\u001b[38;5;45mNone\u001b[0m, \u001b[38;5;34m142\u001b[0m)       │          \u001b[38;5;34m0\u001b[0m │ input_layer_1[\u001b[38;5;34m0\u001b[0m]… │\n",
       "│ (\u001b[38;5;33mGetItem\u001b[0m)           │                   │            │                   │\n",
       "├─────────────────────┼───────────────────┼────────────┼───────────────────┤\n",
       "│ get_item_28         │ (\u001b[38;5;45mNone\u001b[0m, \u001b[38;5;34m142\u001b[0m)       │          \u001b[38;5;34m0\u001b[0m │ input_layer_1[\u001b[38;5;34m0\u001b[0m]… │\n",
       "│ (\u001b[38;5;33mGetItem\u001b[0m)           │                   │            │                   │\n",
       "├─────────────────────┼───────────────────┼────────────┼───────────────────┤\n",
       "│ get_item_29         │ (\u001b[38;5;45mNone\u001b[0m, \u001b[38;5;34m142\u001b[0m)       │          \u001b[38;5;34m0\u001b[0m │ input_layer_1[\u001b[38;5;34m0\u001b[0m]… │\n",
       "│ (\u001b[38;5;33mGetItem\u001b[0m)           │                   │            │                   │\n",
       "├─────────────────────┼───────────────────┼────────────┼───────────────────┤\n",
       "│ get_item_30         │ (\u001b[38;5;45mNone\u001b[0m, \u001b[38;5;34m142\u001b[0m)       │          \u001b[38;5;34m0\u001b[0m │ input_layer_1[\u001b[38;5;34m0\u001b[0m]… │\n",
       "│ (\u001b[38;5;33mGetItem\u001b[0m)           │                   │            │                   │\n",
       "├─────────────────────┼───────────────────┼────────────┼───────────────────┤\n",
       "│ get_item_31         │ (\u001b[38;5;45mNone\u001b[0m, \u001b[38;5;34m142\u001b[0m)       │          \u001b[38;5;34m0\u001b[0m │ input_layer_1[\u001b[38;5;34m0\u001b[0m]… │\n",
       "│ (\u001b[38;5;33mGetItem\u001b[0m)           │                   │            │                   │\n",
       "├─────────────────────┼───────────────────┼────────────┼───────────────────┤\n",
       "│ get_item_32         │ (\u001b[38;5;45mNone\u001b[0m, \u001b[38;5;34m142\u001b[0m)       │          \u001b[38;5;34m0\u001b[0m │ input_layer_1[\u001b[38;5;34m0\u001b[0m]… │\n",
       "│ (\u001b[38;5;33mGetItem\u001b[0m)           │                   │            │                   │\n",
       "├─────────────────────┼───────────────────┼────────────┼───────────────────┤\n",
       "│ get_item_33         │ (\u001b[38;5;45mNone\u001b[0m, \u001b[38;5;34m142\u001b[0m)       │          \u001b[38;5;34m0\u001b[0m │ input_layer_1[\u001b[38;5;34m0\u001b[0m]… │\n",
       "│ (\u001b[38;5;33mGetItem\u001b[0m)           │                   │            │                   │\n",
       "├─────────────────────┼───────────────────┼────────────┼───────────────────┤\n",
       "│ get_item_34         │ (\u001b[38;5;45mNone\u001b[0m, \u001b[38;5;34m142\u001b[0m)       │          \u001b[38;5;34m0\u001b[0m │ input_layer_1[\u001b[38;5;34m0\u001b[0m]… │\n",
       "│ (\u001b[38;5;33mGetItem\u001b[0m)           │                   │            │                   │\n",
       "├─────────────────────┼───────────────────┼────────────┼───────────────────┤\n",
       "│ get_item_35         │ (\u001b[38;5;45mNone\u001b[0m, \u001b[38;5;34m142\u001b[0m)       │          \u001b[38;5;34m0\u001b[0m │ input_layer_1[\u001b[38;5;34m0\u001b[0m]… │\n",
       "│ (\u001b[38;5;33mGetItem\u001b[0m)           │                   │            │                   │\n",
       "├─────────────────────┼───────────────────┼────────────┼───────────────────┤\n",
       "│ get_item_36         │ (\u001b[38;5;45mNone\u001b[0m, \u001b[38;5;34m142\u001b[0m)       │          \u001b[38;5;34m0\u001b[0m │ input_layer_1[\u001b[38;5;34m0\u001b[0m]… │\n",
       "│ (\u001b[38;5;33mGetItem\u001b[0m)           │                   │            │                   │\n",
       "├─────────────────────┼───────────────────┼────────────┼───────────────────┤\n",
       "│ get_item_37         │ (\u001b[38;5;45mNone\u001b[0m, \u001b[38;5;34m142\u001b[0m)       │          \u001b[38;5;34m0\u001b[0m │ input_layer_1[\u001b[38;5;34m0\u001b[0m]… │\n",
       "│ (\u001b[38;5;33mGetItem\u001b[0m)           │                   │            │                   │\n",
       "├─────────────────────┼───────────────────┼────────────┼───────────────────┤\n",
       "│ get_item_38         │ (\u001b[38;5;45mNone\u001b[0m, \u001b[38;5;34m142\u001b[0m)       │          \u001b[38;5;34m0\u001b[0m │ input_layer_1[\u001b[38;5;34m0\u001b[0m]… │\n",
       "│ (\u001b[38;5;33mGetItem\u001b[0m)           │                   │            │                   │\n",
       "├─────────────────────┼───────────────────┼────────────┼───────────────────┤\n",
       "│ get_item_39         │ (\u001b[38;5;45mNone\u001b[0m, \u001b[38;5;34m142\u001b[0m)       │          \u001b[38;5;34m0\u001b[0m │ input_layer_1[\u001b[38;5;34m0\u001b[0m]… │\n",
       "│ (\u001b[38;5;33mGetItem\u001b[0m)           │                   │            │                   │\n",
       "├─────────────────────┼───────────────────┼────────────┼───────────────────┤\n",
       "│ get_item_40         │ (\u001b[38;5;45mNone\u001b[0m, \u001b[38;5;34m142\u001b[0m)       │          \u001b[38;5;34m0\u001b[0m │ input_layer_1[\u001b[38;5;34m0\u001b[0m]… │\n",
       "│ (\u001b[38;5;33mGetItem\u001b[0m)           │                   │            │                   │\n",
       "├─────────────────────┼───────────────────┼────────────┼───────────────────┤\n",
       "│ get_item_41         │ (\u001b[38;5;45mNone\u001b[0m, \u001b[38;5;34m142\u001b[0m)       │          \u001b[38;5;34m0\u001b[0m │ input_layer_1[\u001b[38;5;34m0\u001b[0m]… │\n",
       "│ (\u001b[38;5;33mGetItem\u001b[0m)           │                   │            │                   │\n",
       "├─────────────────────┼───────────────────┼────────────┼───────────────────┤\n",
       "│ get_item_42         │ (\u001b[38;5;45mNone\u001b[0m, \u001b[38;5;34m142\u001b[0m)       │          \u001b[38;5;34m0\u001b[0m │ input_layer_1[\u001b[38;5;34m0\u001b[0m]… │\n",
       "│ (\u001b[38;5;33mGetItem\u001b[0m)           │                   │            │                   │\n",
       "├─────────────────────┼───────────────────┼────────────┼───────────────────┤\n",
       "│ get_item_43         │ (\u001b[38;5;45mNone\u001b[0m, \u001b[38;5;34m142\u001b[0m)       │          \u001b[38;5;34m0\u001b[0m │ input_layer_1[\u001b[38;5;34m0\u001b[0m]… │\n",
       "│ (\u001b[38;5;33mGetItem\u001b[0m)           │                   │            │                   │\n",
       "├─────────────────────┼───────────────────┼────────────┼───────────────────┤\n",
       "│ get_item_44         │ (\u001b[38;5;45mNone\u001b[0m, \u001b[38;5;34m142\u001b[0m)       │          \u001b[38;5;34m0\u001b[0m │ input_layer_1[\u001b[38;5;34m0\u001b[0m]… │\n",
       "│ (\u001b[38;5;33mGetItem\u001b[0m)           │                   │            │                   │\n",
       "├─────────────────────┼───────────────────┼────────────┼───────────────────┤\n",
       "│ get_item_45         │ (\u001b[38;5;45mNone\u001b[0m, \u001b[38;5;34m142\u001b[0m)       │          \u001b[38;5;34m0\u001b[0m │ input_layer_1[\u001b[38;5;34m0\u001b[0m]… │\n",
       "│ (\u001b[38;5;33mGetItem\u001b[0m)           │                   │            │                   │\n",
       "├─────────────────────┼───────────────────┼────────────┼───────────────────┤\n",
       "│ get_item_46         │ (\u001b[38;5;45mNone\u001b[0m, \u001b[38;5;34m142\u001b[0m)       │          \u001b[38;5;34m0\u001b[0m │ input_layer_1[\u001b[38;5;34m0\u001b[0m]… │\n",
       "│ (\u001b[38;5;33mGetItem\u001b[0m)           │                   │            │                   │\n",
       "├─────────────────────┼───────────────────┼────────────┼───────────────────┤\n",
       "│ get_item_47         │ (\u001b[38;5;45mNone\u001b[0m, \u001b[38;5;34m142\u001b[0m)       │          \u001b[38;5;34m0\u001b[0m │ input_layer_1[\u001b[38;5;34m0\u001b[0m]… │\n",
       "│ (\u001b[38;5;33mGetItem\u001b[0m)           │                   │            │                   │\n",
       "├─────────────────────┼───────────────────┼────────────┼───────────────────┤\n",
       "│ get_item_48         │ (\u001b[38;5;45mNone\u001b[0m, \u001b[38;5;34m142\u001b[0m)       │          \u001b[38;5;34m0\u001b[0m │ input_layer_1[\u001b[38;5;34m0\u001b[0m]… │\n",
       "│ (\u001b[38;5;33mGetItem\u001b[0m)           │                   │            │                   │\n",
       "├─────────────────────┼───────────────────┼────────────┼───────────────────┤\n",
       "│ get_item_49         │ (\u001b[38;5;45mNone\u001b[0m, \u001b[38;5;34m142\u001b[0m)       │          \u001b[38;5;34m0\u001b[0m │ input_layer_1[\u001b[38;5;34m0\u001b[0m]… │\n",
       "│ (\u001b[38;5;33mGetItem\u001b[0m)           │                   │            │                   │\n",
       "├─────────────────────┼───────────────────┼────────────┼───────────────────┤\n",
       "│ get_item_50         │ (\u001b[38;5;45mNone\u001b[0m, \u001b[38;5;34m142\u001b[0m)       │          \u001b[38;5;34m0\u001b[0m │ input_layer_1[\u001b[38;5;34m0\u001b[0m]… │\n",
       "│ (\u001b[38;5;33mGetItem\u001b[0m)           │                   │            │                   │\n",
       "├─────────────────────┼───────────────────┼────────────┼───────────────────┤\n",
       "│ get_item_51         │ (\u001b[38;5;45mNone\u001b[0m, \u001b[38;5;34m142\u001b[0m)       │          \u001b[38;5;34m0\u001b[0m │ input_layer_1[\u001b[38;5;34m0\u001b[0m]… │\n",
       "│ (\u001b[38;5;33mGetItem\u001b[0m)           │                   │            │                   │\n",
       "├─────────────────────┼───────────────────┼────────────┼───────────────────┤\n",
       "│ get_item_52         │ (\u001b[38;5;45mNone\u001b[0m, \u001b[38;5;34m142\u001b[0m)       │          \u001b[38;5;34m0\u001b[0m │ input_layer_1[\u001b[38;5;34m0\u001b[0m]… │\n",
       "│ (\u001b[38;5;33mGetItem\u001b[0m)           │                   │            │                   │\n",
       "├─────────────────────┼───────────────────┼────────────┼───────────────────┤\n",
       "│ get_item_53         │ (\u001b[38;5;45mNone\u001b[0m, \u001b[38;5;34m142\u001b[0m)       │          \u001b[38;5;34m0\u001b[0m │ input_layer_1[\u001b[38;5;34m0\u001b[0m]… │\n",
       "│ (\u001b[38;5;33mGetItem\u001b[0m)           │                   │            │                   │\n",
       "├─────────────────────┼───────────────────┼────────────┼───────────────────┤\n",
       "│ get_item_54         │ (\u001b[38;5;45mNone\u001b[0m, \u001b[38;5;34m142\u001b[0m)       │          \u001b[38;5;34m0\u001b[0m │ input_layer_1[\u001b[38;5;34m0\u001b[0m]… │\n",
       "│ (\u001b[38;5;33mGetItem\u001b[0m)           │                   │            │                   │\n",
       "├─────────────────────┼───────────────────┼────────────┼───────────────────┤\n",
       "│ get_item_55         │ (\u001b[38;5;45mNone\u001b[0m, \u001b[38;5;34m142\u001b[0m)       │          \u001b[38;5;34m0\u001b[0m │ input_layer_1[\u001b[38;5;34m0\u001b[0m]… │\n",
       "│ (\u001b[38;5;33mGetItem\u001b[0m)           │                   │            │                   │\n",
       "├─────────────────────┼───────────────────┼────────────┼───────────────────┤\n",
       "│ get_item_56         │ (\u001b[38;5;45mNone\u001b[0m, \u001b[38;5;34m142\u001b[0m)       │          \u001b[38;5;34m0\u001b[0m │ input_layer_1[\u001b[38;5;34m0\u001b[0m]… │\n",
       "│ (\u001b[38;5;33mGetItem\u001b[0m)           │                   │            │                   │\n",
       "├─────────────────────┼───────────────────┼────────────┼───────────────────┤\n",
       "│ get_item_57         │ (\u001b[38;5;45mNone\u001b[0m, \u001b[38;5;34m142\u001b[0m)       │          \u001b[38;5;34m0\u001b[0m │ input_layer_1[\u001b[38;5;34m0\u001b[0m]… │\n",
       "│ (\u001b[38;5;33mGetItem\u001b[0m)           │                   │            │                   │\n",
       "├─────────────────────┼───────────────────┼────────────┼───────────────────┤\n",
       "│ get_item_58         │ (\u001b[38;5;45mNone\u001b[0m, \u001b[38;5;34m142\u001b[0m)       │          \u001b[38;5;34m0\u001b[0m │ input_layer_1[\u001b[38;5;34m0\u001b[0m]… │\n",
       "│ (\u001b[38;5;33mGetItem\u001b[0m)           │                   │            │                   │\n",
       "├─────────────────────┼───────────────────┼────────────┼───────────────────┤\n",
       "│ get_item_59         │ (\u001b[38;5;45mNone\u001b[0m, \u001b[38;5;34m142\u001b[0m)       │          \u001b[38;5;34m0\u001b[0m │ input_layer_1[\u001b[38;5;34m0\u001b[0m]… │\n",
       "│ (\u001b[38;5;33mGetItem\u001b[0m)           │                   │            │                   │\n",
       "├─────────────────────┼───────────────────┼────────────┼───────────────────┤\n",
       "│ sequential          │ (\u001b[38;5;45mNone\u001b[0m, \u001b[38;5;34m32\u001b[0m)        │     \u001b[38;5;34m80,896\u001b[0m │ get_item[\u001b[38;5;34m0\u001b[0m][\u001b[38;5;34m0\u001b[0m],   │\n",
       "│ (\u001b[38;5;33mSequential\u001b[0m)        │                   │            │ get_item_1[\u001b[38;5;34m0\u001b[0m][\u001b[38;5;34m0\u001b[0m], │\n",
       "│                     │                   │            │ get_item_2[\u001b[38;5;34m0\u001b[0m][\u001b[38;5;34m0\u001b[0m], │\n",
       "│                     │                   │            │ get_item_3[\u001b[38;5;34m0\u001b[0m][\u001b[38;5;34m0\u001b[0m], │\n",
       "│                     │                   │            │ get_item_4[\u001b[38;5;34m0\u001b[0m][\u001b[38;5;34m0\u001b[0m], │\n",
       "│                     │                   │            │ get_item_5[\u001b[38;5;34m0\u001b[0m][\u001b[38;5;34m0\u001b[0m], │\n",
       "│                     │                   │            │ get_item_6[\u001b[38;5;34m0\u001b[0m][\u001b[38;5;34m0\u001b[0m], │\n",
       "│                     │                   │            │ get_item_7[\u001b[38;5;34m0\u001b[0m][\u001b[38;5;34m0\u001b[0m], │\n",
       "│                     │                   │            │ get_item_8[\u001b[38;5;34m0\u001b[0m][\u001b[38;5;34m0\u001b[0m], │\n",
       "│                     │                   │            │ get_item_9[\u001b[38;5;34m0\u001b[0m][\u001b[38;5;34m0\u001b[0m], │\n",
       "│                     │                   │            │ get_item_10[\u001b[38;5;34m0\u001b[0m][\u001b[38;5;34m0\u001b[0m… │\n",
       "│                     │                   │            │ get_item_11[\u001b[38;5;34m0\u001b[0m][\u001b[38;5;34m0\u001b[0m… │\n",
       "│                     │                   │            │ get_item_12[\u001b[38;5;34m0\u001b[0m][\u001b[38;5;34m0\u001b[0m… │\n",
       "│                     │                   │            │ get_item_13[\u001b[38;5;34m0\u001b[0m][\u001b[38;5;34m0\u001b[0m… │\n",
       "│                     │                   │            │ get_item_14[\u001b[38;5;34m0\u001b[0m][\u001b[38;5;34m0\u001b[0m… │\n",
       "│                     │                   │            │ get_item_15[\u001b[38;5;34m0\u001b[0m][\u001b[38;5;34m0\u001b[0m… │\n",
       "│                     │                   │            │ get_item_16[\u001b[38;5;34m0\u001b[0m][\u001b[38;5;34m0\u001b[0m… │\n",
       "│                     │                   │            │ get_item_17[\u001b[38;5;34m0\u001b[0m][\u001b[38;5;34m0\u001b[0m… │\n",
       "│                     │                   │            │ get_item_18[\u001b[38;5;34m0\u001b[0m][\u001b[38;5;34m0\u001b[0m… │\n",
       "│                     │                   │            │ get_item_19[\u001b[38;5;34m0\u001b[0m][\u001b[38;5;34m0\u001b[0m… │\n",
       "│                     │                   │            │ get_item_20[\u001b[38;5;34m0\u001b[0m][\u001b[38;5;34m0\u001b[0m… │\n",
       "│                     │                   │            │ get_item_21[\u001b[38;5;34m0\u001b[0m][\u001b[38;5;34m0\u001b[0m… │\n",
       "│                     │                   │            │ get_item_22[\u001b[38;5;34m0\u001b[0m][\u001b[38;5;34m0\u001b[0m… │\n",
       "│                     │                   │            │ get_item_23[\u001b[38;5;34m0\u001b[0m][\u001b[38;5;34m0\u001b[0m… │\n",
       "│                     │                   │            │ get_item_24[\u001b[38;5;34m0\u001b[0m][\u001b[38;5;34m0\u001b[0m… │\n",
       "│                     │                   │            │ get_item_25[\u001b[38;5;34m0\u001b[0m][\u001b[38;5;34m0\u001b[0m… │\n",
       "│                     │                   │            │ get_item_26[\u001b[38;5;34m0\u001b[0m][\u001b[38;5;34m0\u001b[0m… │\n",
       "│                     │                   │            │ get_item_27[\u001b[38;5;34m0\u001b[0m][\u001b[38;5;34m0\u001b[0m… │\n",
       "│                     │                   │            │ get_item_28[\u001b[38;5;34m0\u001b[0m][\u001b[38;5;34m0\u001b[0m… │\n",
       "│                     │                   │            │ get_item_29[\u001b[38;5;34m0\u001b[0m][\u001b[38;5;34m0\u001b[0m… │\n",
       "│                     │                   │            │ get_item_30[\u001b[38;5;34m0\u001b[0m][\u001b[38;5;34m0\u001b[0m… │\n",
       "│                     │                   │            │ get_item_31[\u001b[38;5;34m0\u001b[0m][\u001b[38;5;34m0\u001b[0m… │\n",
       "│                     │                   │            │ get_item_32[\u001b[38;5;34m0\u001b[0m][\u001b[38;5;34m0\u001b[0m… │\n",
       "│                     │                   │            │ get_item_33[\u001b[38;5;34m0\u001b[0m][\u001b[38;5;34m0\u001b[0m… │\n",
       "│                     │                   │            │ get_item_34[\u001b[38;5;34m0\u001b[0m][\u001b[38;5;34m0\u001b[0m… │\n",
       "│                     │                   │            │ get_item_35[\u001b[38;5;34m0\u001b[0m][\u001b[38;5;34m0\u001b[0m… │\n",
       "│                     │                   │            │ get_item_36[\u001b[38;5;34m0\u001b[0m][\u001b[38;5;34m0\u001b[0m… │\n",
       "│                     │                   │            │ get_item_37[\u001b[38;5;34m0\u001b[0m][\u001b[38;5;34m0\u001b[0m… │\n",
       "│                     │                   │            │ get_item_38[\u001b[38;5;34m0\u001b[0m][\u001b[38;5;34m0\u001b[0m… │\n",
       "│                     │                   │            │ get_item_39[\u001b[38;5;34m0\u001b[0m][\u001b[38;5;34m0\u001b[0m… │\n",
       "│                     │                   │            │ get_item_40[\u001b[38;5;34m0\u001b[0m][\u001b[38;5;34m0\u001b[0m… │\n",
       "│                     │                   │            │ get_item_41[\u001b[38;5;34m0\u001b[0m][\u001b[38;5;34m0\u001b[0m… │\n",
       "│                     │                   │            │ get_item_42[\u001b[38;5;34m0\u001b[0m][\u001b[38;5;34m0\u001b[0m… │\n",
       "│                     │                   │            │ get_item_43[\u001b[38;5;34m0\u001b[0m][\u001b[38;5;34m0\u001b[0m… │\n",
       "│                     │                   │            │ get_item_44[\u001b[38;5;34m0\u001b[0m][\u001b[38;5;34m0\u001b[0m… │\n",
       "│                     │                   │            │ get_item_45[\u001b[38;5;34m0\u001b[0m][\u001b[38;5;34m0\u001b[0m… │\n",
       "│                     │                   │            │ get_item_46[\u001b[38;5;34m0\u001b[0m][\u001b[38;5;34m0\u001b[0m… │\n",
       "│                     │                   │            │ get_item_47[\u001b[38;5;34m0\u001b[0m][\u001b[38;5;34m0\u001b[0m… │\n",
       "│                     │                   │            │ get_item_48[\u001b[38;5;34m0\u001b[0m][\u001b[38;5;34m0\u001b[0m… │\n",
       "│                     │                   │            │ get_item_49[\u001b[38;5;34m0\u001b[0m][\u001b[38;5;34m0\u001b[0m… │\n",
       "│                     │                   │            │ get_item_50[\u001b[38;5;34m0\u001b[0m][\u001b[38;5;34m0\u001b[0m… │\n",
       "│                     │                   │            │ get_item_51[\u001b[38;5;34m0\u001b[0m][\u001b[38;5;34m0\u001b[0m… │\n",
       "│                     │                   │            │ get_item_52[\u001b[38;5;34m0\u001b[0m][\u001b[38;5;34m0\u001b[0m… │\n",
       "│                     │                   │            │ get_item_53[\u001b[38;5;34m0\u001b[0m][\u001b[38;5;34m0\u001b[0m… │\n",
       "│                     │                   │            │ get_item_54[\u001b[38;5;34m0\u001b[0m][\u001b[38;5;34m0\u001b[0m… │\n",
       "│                     │                   │            │ get_item_55[\u001b[38;5;34m0\u001b[0m][\u001b[38;5;34m0\u001b[0m… │\n",
       "│                     │                   │            │ get_item_56[\u001b[38;5;34m0\u001b[0m][\u001b[38;5;34m0\u001b[0m… │\n",
       "│                     │                   │            │ get_item_57[\u001b[38;5;34m0\u001b[0m][\u001b[38;5;34m0\u001b[0m… │\n",
       "│                     │                   │            │ get_item_58[\u001b[38;5;34m0\u001b[0m][\u001b[38;5;34m0\u001b[0m… │\n",
       "│                     │                   │            │ get_item_59[\u001b[38;5;34m0\u001b[0m][\u001b[38;5;34m0\u001b[0m] │\n",
       "├─────────────────────┼───────────────────┼────────────┼───────────────────┤\n",
       "│ concatenate         │ (\u001b[38;5;45mNone\u001b[0m, \u001b[38;5;34m1920\u001b[0m)      │          \u001b[38;5;34m0\u001b[0m │ sequential[\u001b[38;5;34m0\u001b[0m][\u001b[38;5;34m0\u001b[0m], │\n",
       "│ (\u001b[38;5;33mConcatenate\u001b[0m)       │                   │            │ sequential[\u001b[38;5;34m1\u001b[0m][\u001b[38;5;34m0\u001b[0m], │\n",
       "│                     │                   │            │ sequential[\u001b[38;5;34m2\u001b[0m][\u001b[38;5;34m0\u001b[0m], │\n",
       "│                     │                   │            │ sequential[\u001b[38;5;34m3\u001b[0m][\u001b[38;5;34m0\u001b[0m], │\n",
       "│                     │                   │            │ sequential[\u001b[38;5;34m4\u001b[0m][\u001b[38;5;34m0\u001b[0m], │\n",
       "│                     │                   │            │ sequential[\u001b[38;5;34m5\u001b[0m][\u001b[38;5;34m0\u001b[0m], │\n",
       "│                     │                   │            │ sequential[\u001b[38;5;34m6\u001b[0m][\u001b[38;5;34m0\u001b[0m], │\n",
       "│                     │                   │            │ sequential[\u001b[38;5;34m7\u001b[0m][\u001b[38;5;34m0\u001b[0m], │\n",
       "│                     │                   │            │ sequential[\u001b[38;5;34m8\u001b[0m][\u001b[38;5;34m0\u001b[0m], │\n",
       "│                     │                   │            │ sequential[\u001b[38;5;34m9\u001b[0m][\u001b[38;5;34m0\u001b[0m], │\n",
       "│                     │                   │            │ sequential[\u001b[38;5;34m10\u001b[0m][\u001b[38;5;34m0\u001b[0m… │\n",
       "│                     │                   │            │ sequential[\u001b[38;5;34m11\u001b[0m][\u001b[38;5;34m0\u001b[0m… │\n",
       "│                     │                   │            │ sequential[\u001b[38;5;34m12\u001b[0m][\u001b[38;5;34m0\u001b[0m… │\n",
       "│                     │                   │            │ sequential[\u001b[38;5;34m13\u001b[0m][\u001b[38;5;34m0\u001b[0m… │\n",
       "│                     │                   │            │ sequential[\u001b[38;5;34m14\u001b[0m][\u001b[38;5;34m0\u001b[0m… │\n",
       "│                     │                   │            │ sequential[\u001b[38;5;34m15\u001b[0m][\u001b[38;5;34m0\u001b[0m… │\n",
       "│                     │                   │            │ sequential[\u001b[38;5;34m16\u001b[0m][\u001b[38;5;34m0\u001b[0m… │\n",
       "│                     │                   │            │ sequential[\u001b[38;5;34m17\u001b[0m][\u001b[38;5;34m0\u001b[0m… │\n",
       "│                     │                   │            │ sequential[\u001b[38;5;34m18\u001b[0m][\u001b[38;5;34m0\u001b[0m… │\n",
       "│                     │                   │            │ sequential[\u001b[38;5;34m19\u001b[0m][\u001b[38;5;34m0\u001b[0m… │\n",
       "│                     │                   │            │ sequential[\u001b[38;5;34m20\u001b[0m][\u001b[38;5;34m0\u001b[0m… │\n",
       "│                     │                   │            │ sequential[\u001b[38;5;34m21\u001b[0m][\u001b[38;5;34m0\u001b[0m… │\n",
       "│                     │                   │            │ sequential[\u001b[38;5;34m22\u001b[0m][\u001b[38;5;34m0\u001b[0m… │\n",
       "│                     │                   │            │ sequential[\u001b[38;5;34m23\u001b[0m][\u001b[38;5;34m0\u001b[0m… │\n",
       "│                     │                   │            │ sequential[\u001b[38;5;34m24\u001b[0m][\u001b[38;5;34m0\u001b[0m… │\n",
       "│                     │                   │            │ sequential[\u001b[38;5;34m25\u001b[0m][\u001b[38;5;34m0\u001b[0m… │\n",
       "│                     │                   │            │ sequential[\u001b[38;5;34m26\u001b[0m][\u001b[38;5;34m0\u001b[0m… │\n",
       "│                     │                   │            │ sequential[\u001b[38;5;34m27\u001b[0m][\u001b[38;5;34m0\u001b[0m… │\n",
       "│                     │                   │            │ sequential[\u001b[38;5;34m28\u001b[0m][\u001b[38;5;34m0\u001b[0m… │\n",
       "│                     │                   │            │ sequential[\u001b[38;5;34m29\u001b[0m][\u001b[38;5;34m0\u001b[0m… │\n",
       "│                     │                   │            │ sequential[\u001b[38;5;34m30\u001b[0m][\u001b[38;5;34m0\u001b[0m… │\n",
       "│                     │                   │            │ sequential[\u001b[38;5;34m31\u001b[0m][\u001b[38;5;34m0\u001b[0m… │\n",
       "│                     │                   │            │ sequential[\u001b[38;5;34m32\u001b[0m][\u001b[38;5;34m0\u001b[0m… │\n",
       "│                     │                   │            │ sequential[\u001b[38;5;34m33\u001b[0m][\u001b[38;5;34m0\u001b[0m… │\n",
       "│                     │                   │            │ sequential[\u001b[38;5;34m34\u001b[0m][\u001b[38;5;34m0\u001b[0m… │\n",
       "│                     │                   │            │ sequential[\u001b[38;5;34m35\u001b[0m][\u001b[38;5;34m0\u001b[0m… │\n",
       "│                     │                   │            │ sequential[\u001b[38;5;34m36\u001b[0m][\u001b[38;5;34m0\u001b[0m… │\n",
       "│                     │                   │            │ sequential[\u001b[38;5;34m37\u001b[0m][\u001b[38;5;34m0\u001b[0m… │\n",
       "│                     │                   │            │ sequential[\u001b[38;5;34m38\u001b[0m][\u001b[38;5;34m0\u001b[0m… │\n",
       "│                     │                   │            │ sequential[\u001b[38;5;34m39\u001b[0m][\u001b[38;5;34m0\u001b[0m… │\n",
       "│                     │                   │            │ sequential[\u001b[38;5;34m40\u001b[0m][\u001b[38;5;34m0\u001b[0m… │\n",
       "│                     │                   │            │ sequential[\u001b[38;5;34m41\u001b[0m][\u001b[38;5;34m0\u001b[0m… │\n",
       "│                     │                   │            │ sequential[\u001b[38;5;34m42\u001b[0m][\u001b[38;5;34m0\u001b[0m… │\n",
       "│                     │                   │            │ sequential[\u001b[38;5;34m43\u001b[0m][\u001b[38;5;34m0\u001b[0m… │\n",
       "│                     │                   │            │ sequential[\u001b[38;5;34m44\u001b[0m][\u001b[38;5;34m0\u001b[0m… │\n",
       "│                     │                   │            │ sequential[\u001b[38;5;34m45\u001b[0m][\u001b[38;5;34m0\u001b[0m… │\n",
       "│                     │                   │            │ sequential[\u001b[38;5;34m46\u001b[0m][\u001b[38;5;34m0\u001b[0m… │\n",
       "│                     │                   │            │ sequential[\u001b[38;5;34m47\u001b[0m][\u001b[38;5;34m0\u001b[0m… │\n",
       "│                     │                   │            │ sequential[\u001b[38;5;34m48\u001b[0m][\u001b[38;5;34m0\u001b[0m… │\n",
       "│                     │                   │            │ sequential[\u001b[38;5;34m49\u001b[0m][\u001b[38;5;34m0\u001b[0m… │\n",
       "│                     │                   │            │ sequential[\u001b[38;5;34m50\u001b[0m][\u001b[38;5;34m0\u001b[0m… │\n",
       "│                     │                   │            │ sequential[\u001b[38;5;34m51\u001b[0m][\u001b[38;5;34m0\u001b[0m… │\n",
       "│                     │                   │            │ sequential[\u001b[38;5;34m52\u001b[0m][\u001b[38;5;34m0\u001b[0m… │\n",
       "│                     │                   │            │ sequential[\u001b[38;5;34m53\u001b[0m][\u001b[38;5;34m0\u001b[0m… │\n",
       "│                     │                   │            │ sequential[\u001b[38;5;34m54\u001b[0m][\u001b[38;5;34m0\u001b[0m… │\n",
       "│                     │                   │            │ sequential[\u001b[38;5;34m55\u001b[0m][\u001b[38;5;34m0\u001b[0m… │\n",
       "│                     │                   │            │ sequential[\u001b[38;5;34m56\u001b[0m][\u001b[38;5;34m0\u001b[0m… │\n",
       "│                     │                   │            │ sequential[\u001b[38;5;34m57\u001b[0m][\u001b[38;5;34m0\u001b[0m… │\n",
       "│                     │                   │            │ sequential[\u001b[38;5;34m58\u001b[0m][\u001b[38;5;34m0\u001b[0m… │\n",
       "│                     │                   │            │ sequential[\u001b[38;5;34m59\u001b[0m][\u001b[38;5;34m0\u001b[0m] │\n",
       "├─────────────────────┼───────────────────┼────────────┼───────────────────┤\n",
       "│ dense_5 (\u001b[38;5;33mDense\u001b[0m)     │ (\u001b[38;5;45mNone\u001b[0m, \u001b[38;5;34m64\u001b[0m)        │    \u001b[38;5;34m122,944\u001b[0m │ concatenate[\u001b[38;5;34m0\u001b[0m][\u001b[38;5;34m0\u001b[0m] │\n",
       "├─────────────────────┼───────────────────┼────────────┼───────────────────┤\n",
       "│ dense_6 (\u001b[38;5;33mDense\u001b[0m)     │ (\u001b[38;5;45mNone\u001b[0m, \u001b[38;5;34m1\u001b[0m)         │         \u001b[38;5;34m65\u001b[0m │ dense_5[\u001b[38;5;34m0\u001b[0m][\u001b[38;5;34m0\u001b[0m]     │\n",
       "└─────────────────────┴───────────────────┴────────────┴───────────────────┘\n"
      ]
     },
     "metadata": {},
     "output_type": "display_data"
    },
    {
     "data": {
      "text/html": [
       "<pre style=\"white-space:pre;overflow-x:auto;line-height:normal;font-family:Menlo,'DejaVu Sans Mono',consolas,'Courier New',monospace\"><span style=\"font-weight: bold\"> Total params: </span><span style=\"color: #00af00; text-decoration-color: #00af00\">611,717</span> (2.33 MB)\n",
       "</pre>\n"
      ],
      "text/plain": [
       "\u001b[1m Total params: \u001b[0m\u001b[38;5;34m611,717\u001b[0m (2.33 MB)\n"
      ]
     },
     "metadata": {},
     "output_type": "display_data"
    },
    {
     "data": {
      "text/html": [
       "<pre style=\"white-space:pre;overflow-x:auto;line-height:normal;font-family:Menlo,'DejaVu Sans Mono',consolas,'Courier New',monospace\"><span style=\"font-weight: bold\"> Trainable params: </span><span style=\"color: #00af00; text-decoration-color: #00af00\">203,905</span> (796.50 KB)\n",
       "</pre>\n"
      ],
      "text/plain": [
       "\u001b[1m Trainable params: \u001b[0m\u001b[38;5;34m203,905\u001b[0m (796.50 KB)\n"
      ]
     },
     "metadata": {},
     "output_type": "display_data"
    },
    {
     "data": {
      "text/html": [
       "<pre style=\"white-space:pre;overflow-x:auto;line-height:normal;font-family:Menlo,'DejaVu Sans Mono',consolas,'Courier New',monospace\"><span style=\"font-weight: bold\"> Non-trainable params: </span><span style=\"color: #00af00; text-decoration-color: #00af00\">0</span> (0.00 B)\n",
       "</pre>\n"
      ],
      "text/plain": [
       "\u001b[1m Non-trainable params: \u001b[0m\u001b[38;5;34m0\u001b[0m (0.00 B)\n"
      ]
     },
     "metadata": {},
     "output_type": "display_data"
    },
    {
     "data": {
      "text/html": [
       "<pre style=\"white-space:pre;overflow-x:auto;line-height:normal;font-family:Menlo,'DejaVu Sans Mono',consolas,'Courier New',monospace\"><span style=\"font-weight: bold\"> Optimizer params: </span><span style=\"color: #00af00; text-decoration-color: #00af00\">407,812</span> (1.56 MB)\n",
       "</pre>\n"
      ],
      "text/plain": [
       "\u001b[1m Optimizer params: \u001b[0m\u001b[38;5;34m407,812\u001b[0m (1.56 MB)\n"
      ]
     },
     "metadata": {},
     "output_type": "display_data"
    }
   ],
   "source": [
    "# final_model.summary()"
   ]
  },
  {
   "cell_type": "code",
   "execution_count": 165,
   "metadata": {},
   "outputs": [],
   "source": [
    "# final_model.save(\"mymodel.keras\")"
   ]
  },
  {
   "cell_type": "code",
   "execution_count": 166,
   "metadata": {},
   "outputs": [
    {
     "name": "stdout",
     "output_type": "stream",
     "text": [
      "\u001b[1m16/16\u001b[0m \u001b[32m━━━━━━━━━━━━━━━━━━━━\u001b[0m\u001b[37m\u001b[0m \u001b[1m4s\u001b[0m 141ms/step\n"
     ]
    },
    {
     "data": {
      "image/png": "[encoded data removed]",
      "text/plain": [
       "<Figure size 800x600 with 1 Axes>"
      ]
     },
     "metadata": {},
     "output_type": "display_data"
    }
   ],
   "source": [
    "# # Predict the output using the trained model\n",
    "# predictions = final_model.predict(X_train)\n",
    "\n",
    "# # Plot the actual data against the predicted data\n",
    "# plt.figure(figsize=(8, 6))\n",
    "# plt.scatter(y_train, predictions, color='blue')\n",
    "# plt.plot([min(y_train), max(y_train)], [min(y_train), max(y_train)], color='red')  # Plot the diagonal line\n",
    "# plt.xlabel('Actual Data')\n",
    "# plt.ylabel('Predicted Data')\n",
    "# plt.title('Actual vs. Predicted Data')\n",
    "# plt.show()"
   ]
  },
  {
   "cell_type": "code",
   "execution_count": 167,
   "metadata": {},
   "outputs": [],
   "source": [
    "# # # Flatten the player features for SHAP analysis\n",
    "# # X_train_flattened = X_train.reshape(X_train.shape[0], -1)\n",
    "\n",
    "# # # Convert the input data to numpy array\n",
    "# # X_train_flattened = np.array(X_train_flattened)\n",
    "\n",
    "# # Initialize the Kernel explainer\n",
    "# explainer = shap.KernelExplainer(final_model.predict, X_train)\n",
    "\n",
    "# # Calculate SHAP values\n",
    "# shap_values = explainer.shap_values(X_train)\n",
    "\n",
    "# # Plot SHAP summary plot\n",
    "# shap.summary_plot(shap_values, X_train, plot_type=\"bar\")\n",
    "\n",
    "# # Generate partial dependence plots for each feature\n",
    "# for i in range(X_train.shape[1]):\n",
    "#     feature_name = f'Feature {i}'  # Change this if you have actual feature names\n",
    "#     pdp_feature = pdp.pdp_isolate(model=final_model, dataset=X_train, model_features=X_train.columns.tolist(), feature=feature_name)\n",
    "#     pdp.pdp_plot(pdp_feature, feature_name)\n",
    "#     plt.show()\n",
    "\n",
    "# # Filter out features based on their importance scores\n",
    "# # Let's say we want to keep features with SHAP values greater than a threshold (e.g., 0.1)\n",
    "# threshold = 0.1\n",
    "# important_features = [i for i, importance in enumerate(shap_values.abs.mean(0)) if importance > threshold]\n",
    "# filtered_features = X_train[:, important_features]\n",
    "\n",
    "# # Use filtered_features for further analysis or modeling"
   ]
  }
 ],
 "metadata": {
  "kernelspec": {
   "display_name": "Python 3",
   "language": "python",
   "name": "python3"
  },
  "language_info": {
   "codemirror_mode": {
    "name": "ipython",
    "version": 3
   },
   "file_extension": ".py",
   "mimetype": "text/x-python",
   "name": "python",
   "nbconvert_exporter": "python",
   "pygments_lexer": "ipython3",
   "version": "3.11.0"
  }
 },
 "nbformat": 4,
 "nbformat_minor": 2
}
