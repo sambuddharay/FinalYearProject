{
 "cells": [
  {
   "cell_type": "code",
   "execution_count": 1,
   "metadata": {},
   "outputs": [],
   "source": [
    "import pandas as pd\n",
    "import numpy as np\n",
    "import utils"
   ]
  },
  {
   "cell_type": "code",
   "execution_count": 2,
   "metadata": {},
   "outputs": [],
   "source": [
    "X_train = []"
   ]
  },
  {
   "cell_type": "code",
   "execution_count": 3,
   "metadata": {},
   "outputs": [],
   "source": [
    "url = 'https://raw.githubusercontent.com/sambuddharay/FinalYearProject/main/scrapping/data/Premier-League-Stats/2018-2019/player/Premier-League-Stats-2018-2019-defense-player.csv'\n",
    "df1 = pd.read_csv(url)\n",
    "url = 'https://raw.githubusercontent.com/sambuddharay/FinalYearProject/main/scrapping/data/Premier-League-Stats/2018-2019/player/Premier-League-Stats-2018-2019-gca-player.csv'\n",
    "df2 = pd.read_csv(url)\n",
    "url = 'https://raw.githubusercontent.com/sambuddharay/FinalYearProject/main/scrapping/data/Premier-League-Stats/2018-2019/player/Premier-League-Stats-2018-2019-misc-player.csv'\n",
    "df3 = pd.read_csv(url)\n",
    "url = 'https://raw.githubusercontent.com/sambuddharay/FinalYearProject/main/scrapping/data/Premier-League-Stats/2018-2019/player/Premier-League-Stats-2018-2019-passing-player.csv'\n",
    "df4 = pd.read_csv(url)\n",
    "url = 'https://raw.githubusercontent.com/sambuddharay/FinalYearProject/main/scrapping/data/Premier-League-Stats/2018-2019/player/Premier-League-Stats-2018-2019-possession-player.csv'\n",
    "df5 = pd.read_csv(url)\n",
    "url = 'https://raw.githubusercontent.com/sambuddharay/FinalYearProject/main/scrapping/data/Premier-League-Stats/2018-2019/player/Premier-League-Stats-2018-2019-shooting-player.csv'\n",
    "df6 = pd.read_csv(url)"
   ]
  },
  {
   "cell_type": "code",
   "execution_count": 4,
   "metadata": {},
   "outputs": [],
   "source": [
    "frames = [df1[['Player', 'Nation', 'Pos', 'Squad', 'Born', '90s', 'Tackles Tkl', 'Tackles TklW', 'Tackles Def 3rd', 'Tackles Mid 3rd', 'Tackles Att 3rd', 'Challenges Tkl', 'Challenges Att', 'Challenges Lost', 'Blocks Blocks', 'Blocks Sh', 'Blocks Pass', 'Int', 'Tkl+Int', 'Clr', 'Err']],\n",
    "          df2[['SCA SCA', 'SCA SCA90', 'SCA Types PassLive', 'SCA Types PassDead', 'SCA Types TO', 'SCA Types Sh', 'SCA Types Fld', 'SCA Types Def', 'GCA GCA', 'GCA GCA90', 'GCA Types PassLive', 'GCA Types PassDead', 'GCA Types TO', 'GCA Types Sh', 'GCA Types Fld', 'GCA Types Def']],\n",
    "          df3[['Performance CrdY', 'Performance CrdR', 'Performance 2CrdY', 'Performance Fls', 'Performance Fld', 'Performance Off', 'Performance Crs', 'Performance Int', 'Performance TklW', 'Performance PKwon', 'Performance PKcon', 'Performance OG', 'Performance Recov', 'Aerial Duels Won', 'Aerial Duels Lost']],\n",
    "          df4[['Total Cmp', 'Total Att', 'Total Cmp%', 'Total TotDist', 'Total PrgDist', 'Short Cmp', 'Short Att', 'Medium Cmp', 'Medium Att', 'Long Cmp', 'Long Att', 'Ast', 'xAG', 'Expected xA', 'Expected A-xAG', 'KP', '1/3', 'PPA', 'CrsPA', 'PrgP']],\n",
    "          df5[['Touches Touches', 'Touches Def Pen', 'Touches Def 3rd', 'Touches Mid 3rd', 'Touches Att 3rd', 'Touches Att Pen', 'Touches Live', 'Take-Ons Att', 'Take-Ons Succ', 'Take-Ons Tkld', 'Carries Carries', 'Carries TotDist', 'Carries PrgDist', 'Carries PrgC', 'Carries 1/3', 'Carries CPA', 'Carries Mis', 'Carries Dis', 'Receiving Rec', 'Receiving PrgR']],\n",
    "          df6[['Standard Gls', 'Standard Sh', 'Standard SoT','Standard Sh/90', 'Standard SoT/90', 'Standard G/Sh', 'Standard G/SoT', 'Standard Dist', 'Standard FK', 'Standard PK', 'Standard PKatt', 'Expected xG', 'Expected npxG', 'Expected npxG/Sh', 'Expected G-xG', 'Expected np:G-xG']]]\n",
    "players = pd.concat(frames, axis=1)"
   ]
  },
  {
   "cell_type": "code",
   "execution_count": 5,
   "metadata": {},
   "outputs": [],
   "source": [
    "url = 'https://raw.githubusercontent.com/sambuddharay/FinalYearProject/main/scrapping/data/Premier-League-Stats/2018-2019/player/Premier-League-Stats-2018-2019-keepers-player.csv'\n",
    "df7 = pd.read_csv(url)\n",
    "url = 'https://raw.githubusercontent.com/sambuddharay/FinalYearProject/main/scrapping/data/Premier-League-Stats/2018-2019/player/Premier-League-Stats-2018-2019-keepersadv-player.csv'\n",
    "df8 = pd.read_csv(url)"
   ]
  },
  {
   "cell_type": "code",
   "execution_count": 6,
   "metadata": {},
   "outputs": [],
   "source": [
    "df7=df7[df7['Playing Time 90s']>0]\n",
    "df8=df8[df8['90s']>0]"
   ]
  },
  {
   "cell_type": "code",
   "execution_count": 7,
   "metadata": {},
   "outputs": [],
   "source": [
    "frames = [df7[['Player', 'Performance GA', 'Performance GA90', 'Performance SoTA', 'Performance Saves', 'Performance Save%', 'Performance W', 'Performance D', 'Performance L', 'Performance CS', 'Performance CS%', 'Penalty Kicks PKatt', 'Penalty Kicks PKA', 'Penalty Kicks PKsv', 'Penalty Kicks PKm']],\n",
    "          df8[['Goals GA', 'Goals PKA', 'Goals FK', 'Goals CK', 'Goals OG', 'Expected PSxG', 'Expected PSxG/SoT', 'Expected PSxG+/-', 'Expected /90', 'Launched Cmp', 'Launched Att', 'Launched Cmp%', 'Passes Att (GK)', 'Passes Thr', 'Passes Launch%', 'Passes AvgLen', 'Goal Kicks Att', 'Goal Kicks Launch%', 'Goal Kicks AvgLen', 'Crosses Opp', 'Crosses Stp', 'Crosses Stp%', 'Sweeper #OPA', 'Sweeper #OPA/90', 'Sweeper AvgDist']]]\n",
    "goalkeepers = pd.concat(frames, axis=1)"
   ]
  },
  {
   "cell_type": "code",
   "execution_count": 8,
   "metadata": {},
   "outputs": [],
   "source": [
    "players = players.replace(np.nan, 0)\n",
    "goalkeepers = goalkeepers.replace(np.nan, 0)\n",
    "utils.append_X_train(X_train, players, goalkeepers)"
   ]
  },
  {
   "cell_type": "code",
   "execution_count": 9,
   "metadata": {},
   "outputs": [
    {
     "data": {
      "text/plain": [
       "[array([[30.3 , 21.  , 17.  , ...,  0.  ,  0.  ,  0.  ],\n",
       "        [17.  , 15.  , 12.  , ...,  0.  ,  0.  ,  0.  ],\n",
       "        [ 6.5 ,  1.  ,  1.  , ...,  8.  ,  1.23, 12.9 ],\n",
       "        ...,\n",
       "        [ 0.  ,  0.  ,  0.  , ...,  0.  ,  0.  ,  0.  ],\n",
       "        [ 0.  ,  0.  ,  0.  , ...,  0.  ,  0.  ,  0.  ],\n",
       "        [ 0.  ,  0.  ,  0.  , ...,  0.  ,  0.  ,  0.  ]]),\n",
       " array([[37.9 , 66.  , 35.  , ...,  0.  ,  0.  ,  0.  ],\n",
       "        [24.  ,  0.  ,  0.  , ..., 16.  ,  0.67, 11.3 ],\n",
       "        [12.  ,  1.  ,  0.  , ...,  9.  ,  0.75, 14.3 ],\n",
       "        ...,\n",
       "        [ 0.  ,  0.  ,  0.  , ...,  0.  ,  0.  ,  0.  ],\n",
       "        [ 0.  ,  0.  ,  0.  , ...,  0.  ,  0.  ,  0.  ],\n",
       "        [ 0.  ,  0.  ,  0.  , ...,  0.  ,  0.  ,  0.  ]]),\n",
       " array([[ 9.8, 10. ,  2. , ...,  0. ,  0. ,  0. ],\n",
       "        [ 6.6, 12. ,  6. , ...,  0. ,  0. ,  0. ],\n",
       "        [19.5, 62. , 43. , ...,  0. ,  0. ,  0. ],\n",
       "        ...,\n",
       "        [ 0. ,  0. ,  0. , ...,  0. ,  0. ,  0. ],\n",
       "        [ 0. ,  0. ,  0. , ...,  0. ,  0. ,  0. ],\n",
       "        [ 0. ,  0. ,  0. , ...,  0. ,  0. ,  0. ]]),\n",
       " array([[18.6, 32. , 19. , ...,  0. ,  0. ,  0. ],\n",
       "        [26.5, 28. , 17. , ...,  0. ,  0. ,  0. ],\n",
       "        [19.5, 27. , 11. , ...,  0. ,  0. ,  0. ],\n",
       "        ...,\n",
       "        [ 0. ,  0. ,  0. , ...,  0. ,  0. ,  0. ],\n",
       "        [ 0. ,  0. ,  0. , ...,  0. ,  0. ,  0. ],\n",
       "        [ 0. ,  0. ,  0. , ...,  0. ,  0. ,  0. ]]),\n",
       " array([[22.2, 62. , 37. , ...,  0. ,  0. ,  0. ],\n",
       "        [ 6.2, 15. , 10. , ...,  0. ,  0. ,  0. ],\n",
       "        [27.5, 74. , 42. , ...,  0. ,  0. ,  0. ],\n",
       "        ...,\n",
       "        [ 0. ,  0. ,  0. , ...,  0. ,  0. ,  0. ],\n",
       "        [ 0. ,  0. ,  0. , ...,  0. ,  0. ,  0. ],\n",
       "        [ 0. ,  0. ,  0. , ...,  0. ,  0. ,  0. ]]),\n",
       " array([[ 30.7 ,  73.  ,  46.  , ...,   0.  ,   0.  ,   0.  ],\n",
       "        [ 36.  ,   1.  ,   1.  , ...,  35.  ,   0.97,  18.1 ],\n",
       "        [ 37.8 , 105.  ,  60.  , ...,   0.  ,   0.  ,   0.  ],\n",
       "        ...,\n",
       "        [  0.  ,   0.  ,   0.  , ...,   0.  ,   0.  ,   0.  ],\n",
       "        [  0.  ,   0.  ,   0.  , ...,   0.  ,   0.  ,   0.  ],\n",
       "        [  0.  ,   0.  ,   0.  , ...,   0.  ,   0.  ,   0.  ]]),\n",
       " array([[35.5, 48. , 24. , ...,  0. ,  0. ,  0. ],\n",
       "        [13.1, 38. , 23. , ...,  0. ,  0. ,  0. ],\n",
       "        [ 8.3,  2. ,  1. , ...,  0. ,  0. ,  0. ],\n",
       "        ...,\n",
       "        [ 0. ,  0. ,  0. , ...,  0. ,  0. ,  0. ],\n",
       "        [ 0. ,  0. ,  0. , ...,  0. ,  0. ,  0. ],\n",
       "        [ 0. ,  0. ,  0. , ...,  0. ,  0. ,  0. ]]),\n",
       " array([[ 4.2,  8. ,  6. , ...,  0. ,  0. ,  0. ],\n",
       "        [23.5, 49. , 30. , ...,  0. ,  0. ,  0. ],\n",
       "        [19.8, 13. ,  7. , ...,  0. ,  0. ,  0. ],\n",
       "        ...,\n",
       "        [ 0. ,  0. ,  0. , ...,  0. ,  0. ,  0. ],\n",
       "        [ 0. ,  0. ,  0. , ...,  0. ,  0. ,  0. ],\n",
       "        [ 0. ,  0. ,  0. , ...,  0. ,  0. ,  0. ]]),\n",
       " array([[ 5.3 ,  4.  ,  4.  , ...,  0.  ,  0.  ,  0.  ],\n",
       "        [13.9 ,  8.  ,  4.  , ...,  0.  ,  0.  ,  0.  ],\n",
       "        [ 7.  ,  0.  ,  0.  , ..., 11.  ,  1.57, 16.  ],\n",
       "        ...,\n",
       "        [ 0.  ,  0.  ,  0.  , ...,  0.  ,  0.  ,  0.  ],\n",
       "        [ 0.  ,  0.  ,  0.  , ...,  0.  ,  0.  ,  0.  ],\n",
       "        [ 0.  ,  0.  ,  0.  , ...,  0.  ,  0.  ,  0.  ]]),\n",
       " array([[15.7, 46. , 29. , ...,  0. ,  0. ,  0. ],\n",
       "        [24.3, 73. , 44. , ...,  0. ,  0. ,  0. ],\n",
       "        [ 1. ,  0. ,  0. , ...,  1. ,  1. , 15.8],\n",
       "        ...,\n",
       "        [ 0. ,  0. ,  0. , ...,  0. ,  0. ,  0. ],\n",
       "        [ 0. ,  0. ,  0. , ...,  0. ,  0. ,  0. ],\n",
       "        [ 0. ,  0. ,  0. , ...,  0. ,  0. ,  0. ]]),\n",
       " array([[18.1, 35. , 22. , ...,  0. ,  0. ,  0. ],\n",
       "        [ 7.1, 18. , 12. , ...,  0. ,  0. ,  0. ],\n",
       "        [11.2, 10. ,  6. , ...,  0. ,  0. ,  0. ],\n",
       "        ...,\n",
       "        [ 0. ,  0. ,  0. , ...,  0. ,  0. ,  0. ],\n",
       "        [ 0. ,  0. ,  0. , ...,  0. ,  0. ,  0. ],\n",
       "        [ 0. ,  0. ,  0. , ...,  0. ,  0. ,  0. ]]),\n",
       " array([[27.4 , 61.  , 39.  , ...,  0.  ,  0.  ,  0.  ],\n",
       "        [38.  ,  2.  ,  1.  , ..., 59.  ,  1.55, 16.6 ],\n",
       "        [ 1.2 ,  4.  ,  3.  , ...,  0.  ,  0.  ,  0.  ],\n",
       "        ...,\n",
       "        [ 0.  ,  0.  ,  0.  , ...,  0.  ,  0.  ,  0.  ],\n",
       "        [ 0.  ,  0.  ,  0.  , ...,  0.  ,  0.  ,  0.  ],\n",
       "        [ 0.  ,  0.  ,  0.  , ...,  0.  ,  0.  ,  0.  ]]),\n",
       " array([[27.3, 17. ,  9. , ...,  0. ,  0. ,  0. ],\n",
       "        [ 9. , 20. , 16. , ...,  0. ,  0. ,  0. ],\n",
       "        [10.8, 22. , 15. , ...,  0. ,  0. ,  0. ],\n",
       "        ...,\n",
       "        [ 0. ,  0. ,  0. , ...,  0. ,  0. ,  0. ],\n",
       "        [ 0. ,  0. ,  0. , ...,  0. ,  0. ,  0. ],\n",
       "        [ 0. ,  0. ,  0. , ...,  0. ,  0. ,  0. ]]),\n",
       " array([[ 7.1, 15. ,  9. , ...,  0. ,  0. ,  0. ],\n",
       "        [ 0.4,  0. ,  0. , ...,  0. ,  0. ,  0. ],\n",
       "        [11.3, 24. , 12. , ...,  0. ,  0. ,  0. ],\n",
       "        ...,\n",
       "        [ 0. ,  0. ,  0. , ...,  0. ,  0. ,  0. ],\n",
       "        [ 0. ,  0. ,  0. , ...,  0. ,  0. ,  0. ],\n",
       "        [ 0. ,  0. ,  0. , ...,  0. ,  0. ,  0. ]]),\n",
       " array([[ 8.4, 20. , 12. , ...,  0. ,  0. ,  0. ],\n",
       "        [16.6, 24. , 15. , ...,  0. ,  0. ,  0. ],\n",
       "        [ 0.1,  0. ,  0. , ...,  0. ,  0. ,  0. ],\n",
       "        ...,\n",
       "        [ 0. ,  0. ,  0. , ...,  0. ,  0. ,  0. ],\n",
       "        [ 0. ,  0. ,  0. , ...,  0. ,  0. ,  0. ],\n",
       "        [ 0. ,  0. ,  0. , ...,  0. ,  0. ,  0. ]]),\n",
       " array([[15.9, 28. , 20. , ...,  0. ,  0. ,  0. ],\n",
       "        [10.9, 13. ,  7. , ...,  0. ,  0. ,  0. ],\n",
       "        [23.9, 41. , 25. , ...,  0. ,  0. ,  0. ],\n",
       "        ...,\n",
       "        [ 0. ,  0. ,  0. , ...,  0. ,  0. ,  0. ],\n",
       "        [ 0. ,  0. ,  0. , ...,  0. ,  0. ,  0. ],\n",
       "        [ 0. ,  0. ,  0. , ...,  0. ,  0. ,  0. ]]),\n",
       " array([[32.5, 37. , 23. , ...,  0. ,  0. ,  0. ],\n",
       "        [20.3, 33. , 19. , ...,  0. ,  0. ,  0. ],\n",
       "        [ 6.3, 20. , 12. , ...,  0. ,  0. ,  0. ],\n",
       "        ...,\n",
       "        [ 0. ,  0. ,  0. , ...,  0. ,  0. ,  0. ],\n",
       "        [ 0. ,  0. ,  0. , ...,  0. ,  0. ,  0. ],\n",
       "        [ 0. ,  0. ,  0. , ...,  0. ,  0. ,  0. ]]),\n",
       " array([[ 2.1,  4. ,  2. , ...,  0. ,  0. ,  0. ],\n",
       "        [32.7, 91. , 56. , ...,  0. ,  0. ,  0. ],\n",
       "        [34.4, 50. , 31. , ...,  0. ,  0. ,  0. ],\n",
       "        ...,\n",
       "        [ 0. ,  0. ,  0. , ...,  0. ,  0. ,  0. ],\n",
       "        [ 0. ,  0. ,  0. , ...,  0. ,  0. ,  0. ],\n",
       "        [ 0. ,  0. ,  0. , ...,  0. ,  0. ,  0. ]]),\n",
       " array([[33.8, 89. , 49. , ...,  0. ,  0. ,  0. ],\n",
       "        [23.4, 23. , 14. , ...,  0. ,  0. ,  0. ],\n",
       "        [22.1,  9. ,  5. , ...,  0. ,  0. ,  0. ],\n",
       "        ...,\n",
       "        [ 0. ,  0. ,  0. , ...,  0. ,  0. ,  0. ],\n",
       "        [ 0. ,  0. ,  0. , ...,  0. ,  0. ,  0. ],\n",
       "        [ 0. ,  0. ,  0. , ...,  0. ,  0. ,  0. ]]),\n",
       " array([[34. , 58. , 32. , ...,  0. ,  0. ,  0. ],\n",
       "        [35.2, 85. , 52. , ...,  0. ,  0. ,  0. ],\n",
       "        [ 1.5,  1. ,  1. , ...,  0. ,  0. ,  0. ],\n",
       "        ...,\n",
       "        [ 0. ,  0. ,  0. , ...,  0. ,  0. ,  0. ],\n",
       "        [ 0. ,  0. ,  0. , ...,  0. ,  0. ,  0. ],\n",
       "        [ 0. ,  0. ,  0. , ...,  0. ,  0. ,  0. ]])]"
      ]
     },
     "execution_count": 9,
     "metadata": {},
     "output_type": "execute_result"
    }
   ],
   "source": [
    "X_train"
   ]
  },
  {
   "cell_type": "code",
   "execution_count": 10,
   "metadata": {},
   "outputs": [
    {
     "data": {
      "text/plain": [
       "(20, 142, 142)"
      ]
     },
     "execution_count": 10,
     "metadata": {},
     "output_type": "execute_result"
    }
   ],
   "source": [
    "np.array(X_train).shape"
   ]
  },
  {
   "cell_type": "code",
   "execution_count": 11,
   "metadata": {},
   "outputs": [],
   "source": [
    "url = 'https://raw.githubusercontent.com/sambuddharay/FinalYearProject/main/scrapping/data/Premier-League-Stats/2019-2020/player/Premier-League-Stats-2019-2020-defense-player.csv'\n",
    "df1 = pd.read_csv(url)\n",
    "url = 'https://raw.githubusercontent.com/sambuddharay/FinalYearProject/main/scrapping/data/Premier-League-Stats/2019-2020/player/Premier-League-Stats-2019-2020-gca-player.csv'\n",
    "df2 = pd.read_csv(url)\n",
    "url = 'https://raw.githubusercontent.com/sambuddharay/FinalYearProject/main/scrapping/data/Premier-League-Stats/2019-2020/player/Premier-League-Stats-2019-2020-misc-player.csv'\n",
    "df3 = pd.read_csv(url)\n",
    "url = 'https://raw.githubusercontent.com/sambuddharay/FinalYearProject/main/scrapping/data/Premier-League-Stats/2019-2020/player/Premier-League-Stats-2019-2020-passing-player.csv'\n",
    "df4 = pd.read_csv(url)\n",
    "url = 'https://raw.githubusercontent.com/sambuddharay/FinalYearProject/main/scrapping/data/Premier-League-Stats/2019-2020/player/Premier-League-Stats-2019-2020-possession-player.csv'\n",
    "df5 = pd.read_csv(url)\n",
    "url = 'https://raw.githubusercontent.com/sambuddharay/FinalYearProject/main/scrapping/data/Premier-League-Stats/2019-2020/player/Premier-League-Stats-2019-2020-shooting-player.csv'\n",
    "df6 = pd.read_csv(url)"
   ]
  },
  {
   "cell_type": "code",
   "execution_count": 12,
   "metadata": {},
   "outputs": [],
   "source": [
    "frames = [df1[['Player', 'Nation', 'Pos', 'Squad', 'Born', '90s', 'Tackles Tkl', 'Tackles TklW', 'Tackles Def 3rd', 'Tackles Mid 3rd', 'Tackles Att 3rd', 'Challenges Tkl', 'Challenges Att', 'Challenges Lost', 'Blocks Blocks', 'Blocks Sh', 'Blocks Pass', 'Int', 'Tkl+Int', 'Clr', 'Err']],\n",
    "          df2[['SCA SCA', 'SCA SCA90', 'SCA Types PassLive', 'SCA Types PassDead', 'SCA Types TO', 'SCA Types Sh', 'SCA Types Fld', 'SCA Types Def', 'GCA GCA', 'GCA GCA90', 'GCA Types PassLive', 'GCA Types PassDead', 'GCA Types TO', 'GCA Types Sh', 'GCA Types Fld', 'GCA Types Def']],\n",
    "          df3[['Performance CrdY', 'Performance CrdR', 'Performance 2CrdY', 'Performance Fls', 'Performance Fld', 'Performance Off', 'Performance Crs', 'Performance Int', 'Performance TklW', 'Performance PKwon', 'Performance PKcon', 'Performance OG', 'Performance Recov', 'Aerial Duels Won', 'Aerial Duels Lost']],\n",
    "          df4[['Total Cmp', 'Total Att', 'Total Cmp%', 'Total TotDist', 'Total PrgDist', 'Short Cmp', 'Short Att', 'Medium Cmp', 'Medium Att', 'Long Cmp', 'Long Att', 'Ast', 'xAG', 'Expected xA', 'Expected A-xAG', 'KP', '1/3', 'PPA', 'CrsPA', 'PrgP']],\n",
    "          df5[['Touches Touches', 'Touches Def Pen', 'Touches Def 3rd', 'Touches Mid 3rd', 'Touches Att 3rd', 'Touches Att Pen', 'Touches Live', 'Take-Ons Att', 'Take-Ons Succ', 'Take-Ons Tkld', 'Carries Carries', 'Carries TotDist', 'Carries PrgDist', 'Carries PrgC', 'Carries 1/3', 'Carries CPA', 'Carries Mis', 'Carries Dis', 'Receiving Rec', 'Receiving PrgR']],\n",
    "          df6[['Standard Gls', 'Standard Sh', 'Standard SoT','Standard Sh/90', 'Standard SoT/90', 'Standard G/Sh', 'Standard G/SoT', 'Standard Dist', 'Standard FK', 'Standard PK', 'Standard PKatt', 'Expected xG', 'Expected npxG', 'Expected npxG/Sh', 'Expected G-xG', 'Expected np:G-xG']]]\n",
    "players = pd.concat(frames, axis=1)"
   ]
  },
  {
   "cell_type": "code",
   "execution_count": 13,
   "metadata": {},
   "outputs": [],
   "source": [
    "url = 'https://raw.githubusercontent.com/sambuddharay/FinalYearProject/main/scrapping/data/Premier-League-Stats/2019-2020/player/Premier-League-Stats-2019-2020-keepers-player.csv'\n",
    "df7 = pd.read_csv(url)\n",
    "url = 'https://raw.githubusercontent.com/sambuddharay/FinalYearProject/main/scrapping/data/Premier-League-Stats/2019-2020/player/Premier-League-Stats-2019-2020-keepersadv-player.csv'\n",
    "df8 = pd.read_csv(url)"
   ]
  },
  {
   "cell_type": "code",
   "execution_count": 14,
   "metadata": {},
   "outputs": [],
   "source": [
    "df7=df7[df7['Playing Time 90s']>0]\n",
    "df8=df8[df8['90s']>0]"
   ]
  },
  {
   "cell_type": "code",
   "execution_count": 15,
   "metadata": {},
   "outputs": [],
   "source": [
    "frames = [df7[['Player', 'Performance GA', 'Performance GA90', 'Performance SoTA', 'Performance Saves', 'Performance Save%', 'Performance W', 'Performance D', 'Performance L', 'Performance CS', 'Performance CS%', 'Penalty Kicks PKatt', 'Penalty Kicks PKA', 'Penalty Kicks PKsv', 'Penalty Kicks PKm']],\n",
    "          df8[['Goals GA', 'Goals PKA', 'Goals FK', 'Goals CK', 'Goals OG', 'Expected PSxG', 'Expected PSxG/SoT', 'Expected PSxG+/-', 'Expected /90', 'Launched Cmp', 'Launched Att', 'Launched Cmp%', 'Passes Att (GK)', 'Passes Thr', 'Passes Launch%', 'Passes AvgLen', 'Goal Kicks Att', 'Goal Kicks Launch%', 'Goal Kicks AvgLen', 'Crosses Opp', 'Crosses Stp', 'Crosses Stp%', 'Sweeper #OPA', 'Sweeper #OPA/90', 'Sweeper AvgDist']]]\n",
    "goalkeepers = pd.concat(frames, axis=1)"
   ]
  },
  {
   "cell_type": "code",
   "execution_count": 16,
   "metadata": {},
   "outputs": [],
   "source": [
    "players = players.replace(np.nan, 0)\n",
    "goalkeepers = goalkeepers.replace(np.nan, 0)\n",
    "utils.append_X_train(X_train, players, goalkeepers)"
   ]
  },
  {
   "cell_type": "code",
   "execution_count": 17,
   "metadata": {},
   "outputs": [
    {
     "data": {
      "text/plain": [
       "(40, 142, 142)"
      ]
     },
     "execution_count": 17,
     "metadata": {},
     "output_type": "execute_result"
    }
   ],
   "source": [
    "np.array(X_train).shape"
   ]
  },
  {
   "cell_type": "code",
   "execution_count": 18,
   "metadata": {},
   "outputs": [],
   "source": [
    "url = 'https://raw.githubusercontent.com/sambuddharay/FinalYearProject/main/scrapping/data/Premier-League-Stats/2020-2021/player/Premier-League-Stats-2020-2021-defense-player.csv'\n",
    "df1 = pd.read_csv(url)\n",
    "url = 'https://raw.githubusercontent.com/sambuddharay/FinalYearProject/main/scrapping/data/Premier-League-Stats/2020-2021/player/Premier-League-Stats-2020-2021-gca-player.csv'\n",
    "df2 = pd.read_csv(url)\n",
    "url = 'https://raw.githubusercontent.com/sambuddharay/FinalYearProject/main/scrapping/data/Premier-League-Stats/2020-2021/player/Premier-League-Stats-2020-2021-misc-player.csv'\n",
    "df3 = pd.read_csv(url)\n",
    "url = 'https://raw.githubusercontent.com/sambuddharay/FinalYearProject/main/scrapping/data/Premier-League-Stats/2020-2021/player/Premier-League-Stats-2020-2021-passing-player.csv'\n",
    "df4 = pd.read_csv(url)\n",
    "url = 'https://raw.githubusercontent.com/sambuddharay/FinalYearProject/main/scrapping/data/Premier-League-Stats/2020-2021/player/Premier-League-Stats-2020-2021-possession-player.csv'\n",
    "df5 = pd.read_csv(url)\n",
    "url = 'https://raw.githubusercontent.com/sambuddharay/FinalYearProject/main/scrapping/data/Premier-League-Stats/2020-2021/player/Premier-League-Stats-2020-2021-shooting-player.csv'\n",
    "df6 = pd.read_csv(url)"
   ]
  },
  {
   "cell_type": "code",
   "execution_count": 19,
   "metadata": {},
   "outputs": [],
   "source": [
    "frames = [df1[['Player', 'Nation', 'Pos', 'Squad', 'Born', '90s', 'Tackles Tkl', 'Tackles TklW', 'Tackles Def 3rd', 'Tackles Mid 3rd', 'Tackles Att 3rd', 'Challenges Tkl', 'Challenges Att', 'Challenges Lost', 'Blocks Blocks', 'Blocks Sh', 'Blocks Pass', 'Int', 'Tkl+Int', 'Clr', 'Err']],\n",
    "          df2[['SCA SCA', 'SCA SCA90', 'SCA Types PassLive', 'SCA Types PassDead', 'SCA Types TO', 'SCA Types Sh', 'SCA Types Fld', 'SCA Types Def', 'GCA GCA', 'GCA GCA90', 'GCA Types PassLive', 'GCA Types PassDead', 'GCA Types TO', 'GCA Types Sh', 'GCA Types Fld', 'GCA Types Def']],\n",
    "          df3[['Performance CrdY', 'Performance CrdR', 'Performance 2CrdY', 'Performance Fls', 'Performance Fld', 'Performance Off', 'Performance Crs', 'Performance Int', 'Performance TklW', 'Performance PKwon', 'Performance PKcon', 'Performance OG', 'Performance Recov', 'Aerial Duels Won', 'Aerial Duels Lost']],\n",
    "          df4[['Total Cmp', 'Total Att', 'Total Cmp%', 'Total TotDist', 'Total PrgDist', 'Short Cmp', 'Short Att', 'Medium Cmp', 'Medium Att', 'Long Cmp', 'Long Att', 'Ast', 'xAG', 'Expected xA', 'Expected A-xAG', 'KP', '1/3', 'PPA', 'CrsPA', 'PrgP']],\n",
    "          df5[['Touches Touches', 'Touches Def Pen', 'Touches Def 3rd', 'Touches Mid 3rd', 'Touches Att 3rd', 'Touches Att Pen', 'Touches Live', 'Take-Ons Att', 'Take-Ons Succ', 'Take-Ons Tkld', 'Carries Carries', 'Carries TotDist', 'Carries PrgDist', 'Carries PrgC', 'Carries 1/3', 'Carries CPA', 'Carries Mis', 'Carries Dis', 'Receiving Rec', 'Receiving PrgR']],\n",
    "          df6[['Standard Gls', 'Standard Sh', 'Standard SoT','Standard Sh/90', 'Standard SoT/90', 'Standard G/Sh', 'Standard G/SoT', 'Standard Dist', 'Standard FK', 'Standard PK', 'Standard PKatt', 'Expected xG', 'Expected npxG', 'Expected npxG/Sh', 'Expected G-xG', 'Expected np:G-xG']]]\n",
    "players = pd.concat(frames, axis=1)"
   ]
  },
  {
   "cell_type": "code",
   "execution_count": 20,
   "metadata": {},
   "outputs": [],
   "source": [
    "url = 'https://raw.githubusercontent.com/sambuddharay/FinalYearProject/main/scrapping/data/Premier-League-Stats/2020-2021/player/Premier-League-Stats-2020-2021-keepers-player.csv'\n",
    "df7 = pd.read_csv(url)\n",
    "url = 'https://raw.githubusercontent.com/sambuddharay/FinalYearProject/main/scrapping/data/Premier-League-Stats/2020-2021/player/Premier-League-Stats-2020-2021-keepersadv-player.csv'\n",
    "df8 = pd.read_csv(url)"
   ]
  },
  {
   "cell_type": "code",
   "execution_count": 21,
   "metadata": {},
   "outputs": [],
   "source": [
    "df7=df7[df7['Playing Time 90s']>0]\n",
    "df8=df8[df8['90s']>0]"
   ]
  },
  {
   "cell_type": "code",
   "execution_count": 22,
   "metadata": {},
   "outputs": [],
   "source": [
    "frames = [df7[['Player', 'Performance GA', 'Performance GA90', 'Performance SoTA', 'Performance Saves', 'Performance Save%', 'Performance W', 'Performance D', 'Performance L', 'Performance CS', 'Performance CS%', 'Penalty Kicks PKatt', 'Penalty Kicks PKA', 'Penalty Kicks PKsv', 'Penalty Kicks PKm']],\n",
    "          df8[['Goals GA', 'Goals PKA', 'Goals FK', 'Goals CK', 'Goals OG', 'Expected PSxG', 'Expected PSxG/SoT', 'Expected PSxG+/-', 'Expected /90', 'Launched Cmp', 'Launched Att', 'Launched Cmp%', 'Passes Att (GK)', 'Passes Thr', 'Passes Launch%', 'Passes AvgLen', 'Goal Kicks Att', 'Goal Kicks Launch%', 'Goal Kicks AvgLen', 'Crosses Opp', 'Crosses Stp', 'Crosses Stp%', 'Sweeper #OPA', 'Sweeper #OPA/90', 'Sweeper AvgDist']]]\n",
    "goalkeepers = pd.concat(frames, axis=1)"
   ]
  },
  {
   "cell_type": "code",
   "execution_count": 23,
   "metadata": {},
   "outputs": [],
   "source": [
    "players = players.replace(np.nan, 0)\n",
    "goalkeepers = goalkeepers.replace(np.nan, 0)\n",
    "utils.append_X_train(X_train, players, goalkeepers)"
   ]
  },
  {
   "cell_type": "code",
   "execution_count": 24,
   "metadata": {},
   "outputs": [
    {
     "data": {
      "text/plain": [
       "(60, 142, 142)"
      ]
     },
     "execution_count": 24,
     "metadata": {},
     "output_type": "execute_result"
    }
   ],
   "source": [
    "np.array(X_train).shape"
   ]
  },
  {
   "cell_type": "code",
   "execution_count": 25,
   "metadata": {},
   "outputs": [],
   "source": [
    "url = 'https://raw.githubusercontent.com/sambuddharay/FinalYearProject/main/scrapping/data/Premier-League-Stats/2021-2022/player/Premier-League-Stats-2021-2022-defense-player.csv'\n",
    "df1 = pd.read_csv(url)\n",
    "url = 'https://raw.githubusercontent.com/sambuddharay/FinalYearProject/main/scrapping/data/Premier-League-Stats/2021-2022/player/Premier-League-Stats-2021-2022-gca-player.csv'\n",
    "df2 = pd.read_csv(url)\n",
    "url = 'https://raw.githubusercontent.com/sambuddharay/FinalYearProject/main/scrapping/data/Premier-League-Stats/2021-2022/player/Premier-League-Stats-2021-2022-misc-player.csv'\n",
    "df3 = pd.read_csv(url)\n",
    "url = 'https://raw.githubusercontent.com/sambuddharay/FinalYearProject/main/scrapping/data/Premier-League-Stats/2021-2022/player/Premier-League-Stats-2021-2022-passing-player.csv'\n",
    "df4 = pd.read_csv(url)\n",
    "url = 'https://raw.githubusercontent.com/sambuddharay/FinalYearProject/main/scrapping/data/Premier-League-Stats/2021-2022/player/Premier-League-Stats-2021-2022-possession-player.csv'\n",
    "df5 = pd.read_csv(url)\n",
    "url = 'https://raw.githubusercontent.com/sambuddharay/FinalYearProject/main/scrapping/data/Premier-League-Stats/2021-2022/player/Premier-League-Stats-2021-2022-shooting-player.csv'\n",
    "df6 = pd.read_csv(url)"
   ]
  },
  {
   "cell_type": "code",
   "execution_count": 26,
   "metadata": {},
   "outputs": [],
   "source": [
    "frames = [df1[['Player', 'Nation', 'Pos', 'Squad', 'Born', '90s', 'Tackles Tkl', 'Tackles TklW', 'Tackles Def 3rd', 'Tackles Mid 3rd', 'Tackles Att 3rd', 'Challenges Tkl', 'Challenges Att', 'Challenges Lost', 'Blocks Blocks', 'Blocks Sh', 'Blocks Pass', 'Int', 'Tkl+Int', 'Clr', 'Err']],\n",
    "          df2[['SCA SCA', 'SCA SCA90', 'SCA Types PassLive', 'SCA Types PassDead', 'SCA Types TO', 'SCA Types Sh', 'SCA Types Fld', 'SCA Types Def', 'GCA GCA', 'GCA GCA90', 'GCA Types PassLive', 'GCA Types PassDead', 'GCA Types TO', 'GCA Types Sh', 'GCA Types Fld', 'GCA Types Def']],\n",
    "          df3[['Performance CrdY', 'Performance CrdR', 'Performance 2CrdY', 'Performance Fls', 'Performance Fld', 'Performance Off', 'Performance Crs', 'Performance Int', 'Performance TklW', 'Performance PKwon', 'Performance PKcon', 'Performance OG', 'Performance Recov', 'Aerial Duels Won', 'Aerial Duels Lost']],\n",
    "          df4[['Total Cmp', 'Total Att', 'Total Cmp%', 'Total TotDist', 'Total PrgDist', 'Short Cmp', 'Short Att', 'Medium Cmp', 'Medium Att', 'Long Cmp', 'Long Att', 'Ast', 'xAG', 'Expected xA', 'Expected A-xAG', 'KP', '1/3', 'PPA', 'CrsPA', 'PrgP']],\n",
    "          df5[['Touches Touches', 'Touches Def Pen', 'Touches Def 3rd', 'Touches Mid 3rd', 'Touches Att 3rd', 'Touches Att Pen', 'Touches Live', 'Take-Ons Att', 'Take-Ons Succ', 'Take-Ons Tkld', 'Carries Carries', 'Carries TotDist', 'Carries PrgDist', 'Carries PrgC', 'Carries 1/3', 'Carries CPA', 'Carries Mis', 'Carries Dis', 'Receiving Rec', 'Receiving PrgR']],\n",
    "          df6[['Standard Gls', 'Standard Sh', 'Standard SoT','Standard Sh/90', 'Standard SoT/90', 'Standard G/Sh', 'Standard G/SoT', 'Standard Dist', 'Standard FK', 'Standard PK', 'Standard PKatt', 'Expected xG', 'Expected npxG', 'Expected npxG/Sh', 'Expected G-xG', 'Expected np:G-xG']]]\n",
    "players = pd.concat(frames, axis=1)"
   ]
  },
  {
   "cell_type": "code",
   "execution_count": 27,
   "metadata": {},
   "outputs": [],
   "source": [
    "url = 'https://raw.githubusercontent.com/sambuddharay/FinalYearProject/main/scrapping/data/Premier-League-Stats/2021-2022/player/Premier-League-Stats-2021-2022-keepers-player.csv'\n",
    "df7 = pd.read_csv(url)\n",
    "url = 'https://raw.githubusercontent.com/sambuddharay/FinalYearProject/main/scrapping/data/Premier-League-Stats/2021-2022/player/Premier-League-Stats-2021-2022-keepersadv-player.csv'\n",
    "df8 = pd.read_csv(url)"
   ]
  },
  {
   "cell_type": "code",
   "execution_count": 28,
   "metadata": {},
   "outputs": [],
   "source": [
    "df7=df7[df7['Playing Time 90s']>0]\n",
    "df8=df8[df8['90s']>0]\n",
    "frames = [df7[['Player', 'Performance GA', 'Performance GA90', 'Performance SoTA', 'Performance Saves', 'Performance Save%', 'Performance W', 'Performance D', 'Performance L', 'Performance CS', 'Performance CS%', 'Penalty Kicks PKatt', 'Penalty Kicks PKA', 'Penalty Kicks PKsv', 'Penalty Kicks PKm']],\n",
    "          df8[['Goals GA', 'Goals PKA', 'Goals FK', 'Goals CK', 'Goals OG', 'Expected PSxG', 'Expected PSxG/SoT', 'Expected PSxG+/-', 'Expected /90', 'Launched Cmp', 'Launched Att', 'Launched Cmp%', 'Passes Att (GK)', 'Passes Thr', 'Passes Launch%', 'Passes AvgLen', 'Goal Kicks Att', 'Goal Kicks Launch%', 'Goal Kicks AvgLen', 'Crosses Opp', 'Crosses Stp', 'Crosses Stp%', 'Sweeper #OPA', 'Sweeper #OPA/90', 'Sweeper AvgDist']]]\n",
    "goalkeepers = pd.concat(frames, axis=1)"
   ]
  },
  {
   "cell_type": "code",
   "execution_count": 29,
   "metadata": {},
   "outputs": [],
   "source": [
    "players = players.replace(np.nan, 0)\n",
    "goalkeepers = goalkeepers.replace(np.nan, 0)\n",
    "utils.append_X_train(X_train, players, goalkeepers)"
   ]
  },
  {
   "cell_type": "code",
   "execution_count": 30,
   "metadata": {},
   "outputs": [
    {
     "data": {
      "text/plain": [
       "(80, 142, 142)"
      ]
     },
     "execution_count": 30,
     "metadata": {},
     "output_type": "execute_result"
    }
   ],
   "source": [
    "np.array(X_train).shape"
   ]
  },
  {
   "cell_type": "code",
   "execution_count": 31,
   "metadata": {},
   "outputs": [],
   "source": [
    "url = 'https://raw.githubusercontent.com/sambuddharay/FinalYearProject/main/scrapping/data/Premier-League-Stats/2022-2023/player/Premier-League-Stats-2022-2023-defense-player.csv'\n",
    "df1 = pd.read_csv(url)\n",
    "url = 'https://raw.githubusercontent.com/sambuddharay/FinalYearProject/main/scrapping/data/Premier-League-Stats/2022-2023/player/Premier-League-Stats-2022-2023-gca-player.csv'\n",
    "df2 = pd.read_csv(url)\n",
    "url = 'https://raw.githubusercontent.com/sambuddharay/FinalYearProject/main/scrapping/data/Premier-League-Stats/2022-2023/player/Premier-League-Stats-2022-2023-misc-player.csv'\n",
    "df3 = pd.read_csv(url)\n",
    "url = 'https://raw.githubusercontent.com/sambuddharay/FinalYearProject/main/scrapping/data/Premier-League-Stats/2022-2023/player/Premier-League-Stats-2022-2023-passing-player.csv'\n",
    "df4 = pd.read_csv(url)\n",
    "url = 'https://raw.githubusercontent.com/sambuddharay/FinalYearProject/main/scrapping/data/Premier-League-Stats/2022-2023/player/Premier-League-Stats-2022-2023-possession-player.csv'\n",
    "df5 = pd.read_csv(url)\n",
    "url = 'https://raw.githubusercontent.com/sambuddharay/FinalYearProject/main/scrapping/data/Premier-League-Stats/2022-2023/player/Premier-League-Stats-2022-2023-shooting-player.csv'\n",
    "df6 = pd.read_csv(url)"
   ]
  },
  {
   "cell_type": "code",
   "execution_count": 32,
   "metadata": {},
   "outputs": [],
   "source": [
    "frames = [df1[['Player', 'Nation', 'Pos', 'Squad', 'Born', '90s', 'Tackles Tkl', 'Tackles TklW', 'Tackles Def 3rd', 'Tackles Mid 3rd', 'Tackles Att 3rd', 'Challenges Tkl', 'Challenges Att', 'Challenges Lost', 'Blocks Blocks', 'Blocks Sh', 'Blocks Pass', 'Int', 'Tkl+Int', 'Clr', 'Err']],\n",
    "          df2[['SCA SCA', 'SCA SCA90', 'SCA Types PassLive', 'SCA Types PassDead', 'SCA Types TO', 'SCA Types Sh', 'SCA Types Fld', 'SCA Types Def', 'GCA GCA', 'GCA GCA90', 'GCA Types PassLive', 'GCA Types PassDead', 'GCA Types TO', 'GCA Types Sh', 'GCA Types Fld', 'GCA Types Def']],\n",
    "          df3[['Performance CrdY', 'Performance CrdR', 'Performance 2CrdY', 'Performance Fls', 'Performance Fld', 'Performance Off', 'Performance Crs', 'Performance Int', 'Performance TklW', 'Performance PKwon', 'Performance PKcon', 'Performance OG', 'Performance Recov', 'Aerial Duels Won', 'Aerial Duels Lost']],\n",
    "          df4[['Total Cmp', 'Total Att', 'Total Cmp%', 'Total TotDist', 'Total PrgDist', 'Short Cmp', 'Short Att', 'Medium Cmp', 'Medium Att', 'Long Cmp', 'Long Att', 'Ast', 'xAG', 'Expected xA', 'Expected A-xAG', 'KP', '1/3', 'PPA', 'CrsPA', 'PrgP']],\n",
    "          df5[['Touches Touches', 'Touches Def Pen', 'Touches Def 3rd', 'Touches Mid 3rd', 'Touches Att 3rd', 'Touches Att Pen', 'Touches Live', 'Take-Ons Att', 'Take-Ons Succ', 'Take-Ons Tkld', 'Carries Carries', 'Carries TotDist', 'Carries PrgDist', 'Carries PrgC', 'Carries 1/3', 'Carries CPA', 'Carries Mis', 'Carries Dis', 'Receiving Rec', 'Receiving PrgR']],\n",
    "          df6[['Standard Gls', 'Standard Sh', 'Standard SoT','Standard Sh/90', 'Standard SoT/90', 'Standard G/Sh', 'Standard G/SoT', 'Standard Dist', 'Standard FK', 'Standard PK', 'Standard PKatt', 'Expected xG', 'Expected npxG', 'Expected npxG/Sh', 'Expected G-xG', 'Expected np:G-xG']]]\n",
    "players = pd.concat(frames, axis=1)"
   ]
  },
  {
   "cell_type": "code",
   "execution_count": 33,
   "metadata": {},
   "outputs": [],
   "source": [
    "url = 'https://raw.githubusercontent.com/sambuddharay/FinalYearProject/main/scrapping/data/Premier-League-Stats/2022-2023/player/Premier-League-Stats-2022-2023-keepers-player.csv'\n",
    "df7 = pd.read_csv(url)\n",
    "url = 'https://raw.githubusercontent.com/sambuddharay/FinalYearProject/main/scrapping/data/Premier-League-Stats/2022-2023/player/Premier-League-Stats-2022-2023-keepersadv-player.csv'\n",
    "df8 = pd.read_csv(url)"
   ]
  },
  {
   "cell_type": "code",
   "execution_count": 34,
   "metadata": {},
   "outputs": [],
   "source": [
    "df7=df7[df7['Playing Time 90s']>0]\n",
    "df8=df8[df8['90s']>0]\n",
    "frames = [df7[['Player', 'Performance GA', 'Performance GA90', 'Performance SoTA', 'Performance Saves', 'Performance Save%', 'Performance W', 'Performance D', 'Performance L', 'Performance CS', 'Performance CS%', 'Penalty Kicks PKatt', 'Penalty Kicks PKA', 'Penalty Kicks PKsv', 'Penalty Kicks PKm']],\n",
    "          df8[['Goals GA', 'Goals PKA', 'Goals FK', 'Goals CK', 'Goals OG', 'Expected PSxG', 'Expected PSxG/SoT', 'Expected PSxG+/-', 'Expected /90', 'Launched Cmp', 'Launched Att', 'Launched Cmp%', 'Passes Att (GK)', 'Passes Thr', 'Passes Launch%', 'Passes AvgLen', 'Goal Kicks Att', 'Goal Kicks Launch%', 'Goal Kicks AvgLen', 'Crosses Opp', 'Crosses Stp', 'Crosses Stp%', 'Sweeper #OPA', 'Sweeper #OPA/90', 'Sweeper AvgDist']]]\n",
    "goalkeepers = pd.concat(frames, axis=1)"
   ]
  },
  {
   "cell_type": "code",
   "execution_count": 35,
   "metadata": {},
   "outputs": [],
   "source": [
    "players = players.replace(np.nan, 0)\n",
    "goalkeepers = goalkeepers.replace(np.nan, 0)\n",
    "utils.append_X_train(X_train, players, goalkeepers)"
   ]
  },
  {
   "cell_type": "code",
   "execution_count": 36,
   "metadata": {},
   "outputs": [
    {
     "data": {
      "text/plain": [
       "(100, 142, 142)"
      ]
     },
     "execution_count": 36,
     "metadata": {},
     "output_type": "execute_result"
    }
   ],
   "source": [
    "np.array(X_train).shape"
   ]
  },
  {
   "cell_type": "code",
   "execution_count": 37,
   "metadata": {},
   "outputs": [],
   "source": [
    "url = 'https://raw.githubusercontent.com/sambuddharay/FinalYearProject/main/scrapping/data/Serie-A-Stats/2018-2019/player/Serie-A-Stats-2018-2019-defense-player.csv'\n",
    "df1 = pd.read_csv(url)\n",
    "url = 'https://raw.githubusercontent.com/sambuddharay/FinalYearProject/main/scrapping/data/Serie-A-Stats/2018-2019/player/Serie-A-Stats-2018-2019-gca-player.csv'\n",
    "df2 = pd.read_csv(url)\n",
    "url = 'https://raw.githubusercontent.com/sambuddharay/FinalYearProject/main/scrapping/data/Serie-A-Stats/2018-2019/player/Serie-A-Stats-2018-2019-misc-player.csv'\n",
    "df3 = pd.read_csv(url)\n",
    "url = 'https://raw.githubusercontent.com/sambuddharay/FinalYearProject/main/scrapping/data/Serie-A-Stats/2018-2019/player/Serie-A-Stats-2018-2019-passing-player.csv'\n",
    "df4 = pd.read_csv(url)\n",
    "url = 'https://raw.githubusercontent.com/sambuddharay/FinalYearProject/main/scrapping/data/Serie-A-Stats/2018-2019/player/Serie-A-Stats-2018-2019-possession-player.csv'\n",
    "df5 = pd.read_csv(url)\n",
    "url = 'https://raw.githubusercontent.com/sambuddharay/FinalYearProject/main/scrapping/data/Serie-A-Stats/2018-2019/player/Serie-A-Stats-2018-2019-shooting-player.csv'\n",
    "df6 = pd.read_csv(url)"
   ]
  },
  {
   "cell_type": "code",
   "execution_count": 38,
   "metadata": {},
   "outputs": [],
   "source": [
    "frames = [df1[['Player', 'Nation', 'Pos', 'Squad', 'Born', '90s', 'Tackles Tkl', 'Tackles TklW', 'Tackles Def 3rd', 'Tackles Mid 3rd', 'Tackles Att 3rd', 'Challenges Tkl', 'Challenges Att', 'Challenges Lost', 'Blocks Blocks', 'Blocks Sh', 'Blocks Pass', 'Int', 'Tkl+Int', 'Clr', 'Err']],\n",
    "          df2[['SCA SCA', 'SCA SCA90', 'SCA Types PassLive', 'SCA Types PassDead', 'SCA Types TO', 'SCA Types Sh', 'SCA Types Fld', 'SCA Types Def', 'GCA GCA', 'GCA GCA90', 'GCA Types PassLive', 'GCA Types PassDead', 'GCA Types TO', 'GCA Types Sh', 'GCA Types Fld', 'GCA Types Def']],\n",
    "          df3[['Performance CrdY', 'Performance CrdR', 'Performance 2CrdY', 'Performance Fls', 'Performance Fld', 'Performance Off', 'Performance Crs', 'Performance Int', 'Performance TklW', 'Performance PKwon', 'Performance PKcon', 'Performance OG', 'Performance Recov', 'Aerial Duels Won', 'Aerial Duels Lost']],\n",
    "          df4[['Total Cmp', 'Total Att', 'Total Cmp%', 'Total TotDist', 'Total PrgDist', 'Short Cmp', 'Short Att', 'Medium Cmp', 'Medium Att', 'Long Cmp', 'Long Att', 'Ast', 'xAG', 'Expected xA', 'Expected A-xAG', 'KP', '1/3', 'PPA', 'CrsPA', 'PrgP']],\n",
    "          df5[['Touches Touches', 'Touches Def Pen', 'Touches Def 3rd', 'Touches Mid 3rd', 'Touches Att 3rd', 'Touches Att Pen', 'Touches Live', 'Take-Ons Att', 'Take-Ons Succ', 'Take-Ons Tkld', 'Carries Carries', 'Carries TotDist', 'Carries PrgDist', 'Carries PrgC', 'Carries 1/3', 'Carries CPA', 'Carries Mis', 'Carries Dis', 'Receiving Rec', 'Receiving PrgR']],\n",
    "          df6[['Standard Gls', 'Standard Sh', 'Standard SoT','Standard Sh/90', 'Standard SoT/90', 'Standard G/Sh', 'Standard G/SoT', 'Standard Dist', 'Standard FK', 'Standard PK', 'Standard PKatt', 'Expected xG', 'Expected npxG', 'Expected npxG/Sh', 'Expected G-xG', 'Expected np:G-xG']]]\n",
    "players = pd.concat(frames, axis=1)"
   ]
  },
  {
   "cell_type": "code",
   "execution_count": 39,
   "metadata": {},
   "outputs": [],
   "source": [
    "url = 'https://raw.githubusercontent.com/sambuddharay/FinalYearProject/main/scrapping/data/Serie-A-Stats/2018-2019/player/Serie-A-Stats-2018-2019-keepers-player.csv'\n",
    "df7 = pd.read_csv(url)\n",
    "url = 'https://raw.githubusercontent.com/sambuddharay/FinalYearProject/main/scrapping/data/Serie-A-Stats/2018-2019/player/Serie-A-Stats-2018-2019-keepersadv-player.csv'\n",
    "df8 = pd.read_csv(url)"
   ]
  },
  {
   "cell_type": "code",
   "execution_count": 40,
   "metadata": {},
   "outputs": [],
   "source": [
    "df7=df7[df7['Playing Time 90s']>0]\n",
    "df8=df8[df8['90s']>0]\n",
    "frames = [df7[['Player', 'Performance GA', 'Performance GA90', 'Performance SoTA', 'Performance Saves', 'Performance Save%', 'Performance W', 'Performance D', 'Performance L', 'Performance CS', 'Performance CS%', 'Penalty Kicks PKatt', 'Penalty Kicks PKA', 'Penalty Kicks PKsv', 'Penalty Kicks PKm']],\n",
    "          df8[['Goals GA', 'Goals PKA', 'Goals FK', 'Goals CK', 'Goals OG', 'Expected PSxG', 'Expected PSxG/SoT', 'Expected PSxG+/-', 'Expected /90', 'Launched Cmp', 'Launched Att', 'Launched Cmp%', 'Passes Att (GK)', 'Passes Thr', 'Passes Launch%', 'Passes AvgLen', 'Goal Kicks Att', 'Goal Kicks Launch%', 'Goal Kicks AvgLen', 'Crosses Opp', 'Crosses Stp', 'Crosses Stp%', 'Sweeper #OPA', 'Sweeper #OPA/90', 'Sweeper AvgDist']]]\n",
    "goalkeepers = pd.concat(frames, axis=1)"
   ]
  },
  {
   "cell_type": "code",
   "execution_count": 41,
   "metadata": {},
   "outputs": [],
   "source": [
    "players = players.replace(np.nan, 0)\n",
    "goalkeepers = goalkeepers.replace(np.nan, 0)\n",
    "utils.append_X_train(X_train, players, goalkeepers)"
   ]
  },
  {
   "cell_type": "code",
   "execution_count": 42,
   "metadata": {},
   "outputs": [
    {
     "data": {
      "text/plain": [
       "(120, 142, 142)"
      ]
     },
     "execution_count": 42,
     "metadata": {},
     "output_type": "execute_result"
    }
   ],
   "source": [
    "np.array(X_train).shape"
   ]
  },
  {
   "cell_type": "code",
   "execution_count": 43,
   "metadata": {},
   "outputs": [],
   "source": [
    "url = 'https://raw.githubusercontent.com/sambuddharay/FinalYearProject/main/scrapping/data/Serie-A-Stats/2019-2020/player/Serie-A-Stats-2019-2020-defense-player.csv'\n",
    "df1 = pd.read_csv(url)\n",
    "url = 'https://raw.githubusercontent.com/sambuddharay/FinalYearProject/main/scrapping/data/Serie-A-Stats/2019-2020/player/Serie-A-Stats-2019-2020-gca-player.csv'\n",
    "df2 = pd.read_csv(url)\n",
    "url = 'https://raw.githubusercontent.com/sambuddharay/FinalYearProject/main/scrapping/data/Serie-A-Stats/2019-2020/player/Serie-A-Stats-2019-2020-misc-player.csv'\n",
    "df3 = pd.read_csv(url)\n",
    "url = 'https://raw.githubusercontent.com/sambuddharay/FinalYearProject/main/scrapping/data/Serie-A-Stats/2019-2020/player/Serie-A-Stats-2019-2020-passing-player.csv'\n",
    "df4 = pd.read_csv(url)\n",
    "url = 'https://raw.githubusercontent.com/sambuddharay/FinalYearProject/main/scrapping/data/Serie-A-Stats/2019-2020/player/Serie-A-Stats-2019-2020-possession-player.csv'\n",
    "df5 = pd.read_csv(url)\n",
    "url = 'https://raw.githubusercontent.com/sambuddharay/FinalYearProject/main/scrapping/data/Serie-A-Stats/2019-2020/player/Serie-A-Stats-2019-2020-shooting-player.csv'\n",
    "df6 = pd.read_csv(url)"
   ]
  },
  {
   "cell_type": "code",
   "execution_count": 44,
   "metadata": {},
   "outputs": [],
   "source": [
    "frames = [df1[['Player', 'Nation', 'Pos', 'Squad', 'Born', '90s', 'Tackles Tkl', 'Tackles TklW', 'Tackles Def 3rd', 'Tackles Mid 3rd', 'Tackles Att 3rd', 'Challenges Tkl', 'Challenges Att', 'Challenges Lost', 'Blocks Blocks', 'Blocks Sh', 'Blocks Pass', 'Int', 'Tkl+Int', 'Clr', 'Err']],\n",
    "          df2[['SCA SCA', 'SCA SCA90', 'SCA Types PassLive', 'SCA Types PassDead', 'SCA Types TO', 'SCA Types Sh', 'SCA Types Fld', 'SCA Types Def', 'GCA GCA', 'GCA GCA90', 'GCA Types PassLive', 'GCA Types PassDead', 'GCA Types TO', 'GCA Types Sh', 'GCA Types Fld', 'GCA Types Def']],\n",
    "          df3[['Performance CrdY', 'Performance CrdR', 'Performance 2CrdY', 'Performance Fls', 'Performance Fld', 'Performance Off', 'Performance Crs', 'Performance Int', 'Performance TklW', 'Performance PKwon', 'Performance PKcon', 'Performance OG', 'Performance Recov', 'Aerial Duels Won', 'Aerial Duels Lost']],\n",
    "          df4[['Total Cmp', 'Total Att', 'Total Cmp%', 'Total TotDist', 'Total PrgDist', 'Short Cmp', 'Short Att', 'Medium Cmp', 'Medium Att', 'Long Cmp', 'Long Att', 'Ast', 'xAG', 'Expected xA', 'Expected A-xAG', 'KP', '1/3', 'PPA', 'CrsPA', 'PrgP']],\n",
    "          df5[['Touches Touches', 'Touches Def Pen', 'Touches Def 3rd', 'Touches Mid 3rd', 'Touches Att 3rd', 'Touches Att Pen', 'Touches Live', 'Take-Ons Att', 'Take-Ons Succ', 'Take-Ons Tkld', 'Carries Carries', 'Carries TotDist', 'Carries PrgDist', 'Carries PrgC', 'Carries 1/3', 'Carries CPA', 'Carries Mis', 'Carries Dis', 'Receiving Rec', 'Receiving PrgR']],\n",
    "          df6[['Standard Gls', 'Standard Sh', 'Standard SoT','Standard Sh/90', 'Standard SoT/90', 'Standard G/Sh', 'Standard G/SoT', 'Standard Dist', 'Standard FK', 'Standard PK', 'Standard PKatt', 'Expected xG', 'Expected npxG', 'Expected npxG/Sh', 'Expected G-xG', 'Expected np:G-xG']]]\n",
    "players = pd.concat(frames, axis=1)"
   ]
  },
  {
   "cell_type": "code",
   "execution_count": 45,
   "metadata": {},
   "outputs": [],
   "source": [
    "url = 'https://raw.githubusercontent.com/sambuddharay/FinalYearProject/main/scrapping/data/Serie-A-Stats/2019-2020/player/Serie-A-Stats-2019-2020-keepers-player.csv'\n",
    "df7 = pd.read_csv(url)\n",
    "url = 'https://raw.githubusercontent.com/sambuddharay/FinalYearProject/main/scrapping/data/Serie-A-Stats/2019-2020/player/Serie-A-Stats-2019-2020-keepersadv-player.csv'\n",
    "df8 = pd.read_csv(url)"
   ]
  },
  {
   "cell_type": "code",
   "execution_count": 46,
   "metadata": {},
   "outputs": [],
   "source": [
    "df7=df7[df7['Playing Time 90s']>0]\n",
    "df8=df8[df8['90s']>0]\n",
    "frames = [df7[['Player', 'Performance GA', 'Performance GA90', 'Performance SoTA', 'Performance Saves', 'Performance Save%', 'Performance W', 'Performance D', 'Performance L', 'Performance CS', 'Performance CS%', 'Penalty Kicks PKatt', 'Penalty Kicks PKA', 'Penalty Kicks PKsv', 'Penalty Kicks PKm']],\n",
    "          df8[['Goals GA', 'Goals PKA', 'Goals FK', 'Goals CK', 'Goals OG', 'Expected PSxG', 'Expected PSxG/SoT', 'Expected PSxG+/-', 'Expected /90', 'Launched Cmp', 'Launched Att', 'Launched Cmp%', 'Passes Att (GK)', 'Passes Thr', 'Passes Launch%', 'Passes AvgLen', 'Goal Kicks Att', 'Goal Kicks Launch%', 'Goal Kicks AvgLen', 'Crosses Opp', 'Crosses Stp', 'Crosses Stp%', 'Sweeper #OPA', 'Sweeper #OPA/90', 'Sweeper AvgDist']]]\n",
    "goalkeepers = pd.concat(frames, axis=1)"
   ]
  },
  {
   "cell_type": "code",
   "execution_count": 47,
   "metadata": {},
   "outputs": [],
   "source": [
    "players = players.replace(np.nan, 0)\n",
    "goalkeepers = goalkeepers.replace(np.nan, 0)\n",
    "utils.append_X_train(X_train, players, goalkeepers)"
   ]
  },
  {
   "cell_type": "code",
   "execution_count": 48,
   "metadata": {},
   "outputs": [
    {
     "data": {
      "text/plain": [
       "(140, 142, 142)"
      ]
     },
     "execution_count": 48,
     "metadata": {},
     "output_type": "execute_result"
    }
   ],
   "source": [
    "np.array(X_train).shape"
   ]
  },
  {
   "cell_type": "code",
   "execution_count": 49,
   "metadata": {},
   "outputs": [],
   "source": [
    "url = 'https://raw.githubusercontent.com/sambuddharay/FinalYearProject/main/scrapping/data/Serie-A-Stats/2020-2021/player/Serie-A-Stats-2020-2021-defense-player.csv'\n",
    "df1 = pd.read_csv(url)\n",
    "url = 'https://raw.githubusercontent.com/sambuddharay/FinalYearProject/main/scrapping/data/Serie-A-Stats/2020-2021/player/Serie-A-Stats-2020-2021-gca-player.csv'\n",
    "df2 = pd.read_csv(url)\n",
    "url = 'https://raw.githubusercontent.com/sambuddharay/FinalYearProject/main/scrapping/data/Serie-A-Stats/2020-2021/player/Serie-A-Stats-2020-2021-misc-player.csv'\n",
    "df3 = pd.read_csv(url)\n",
    "url = 'https://raw.githubusercontent.com/sambuddharay/FinalYearProject/main/scrapping/data/Serie-A-Stats/2020-2021/player/Serie-A-Stats-2020-2021-passing-player.csv'\n",
    "df4 = pd.read_csv(url)\n",
    "url = 'https://raw.githubusercontent.com/sambuddharay/FinalYearProject/main/scrapping/data/Serie-A-Stats/2020-2021/player/Serie-A-Stats-2020-2021-possession-player.csv'\n",
    "df5 = pd.read_csv(url)\n",
    "url = 'https://raw.githubusercontent.com/sambuddharay/FinalYearProject/main/scrapping/data/Serie-A-Stats/2020-2021/player/Serie-A-Stats-2020-2021-shooting-player.csv'\n",
    "df6 = pd.read_csv(url)"
   ]
  },
  {
   "cell_type": "code",
   "execution_count": 50,
   "metadata": {},
   "outputs": [],
   "source": [
    "frames = [df1[['Player', 'Nation', 'Pos', 'Squad', 'Born', '90s', 'Tackles Tkl', 'Tackles TklW', 'Tackles Def 3rd', 'Tackles Mid 3rd', 'Tackles Att 3rd', 'Challenges Tkl', 'Challenges Att', 'Challenges Lost', 'Blocks Blocks', 'Blocks Sh', 'Blocks Pass', 'Int', 'Tkl+Int', 'Clr', 'Err']],\n",
    "          df2[['SCA SCA', 'SCA SCA90', 'SCA Types PassLive', 'SCA Types PassDead', 'SCA Types TO', 'SCA Types Sh', 'SCA Types Fld', 'SCA Types Def', 'GCA GCA', 'GCA GCA90', 'GCA Types PassLive', 'GCA Types PassDead', 'GCA Types TO', 'GCA Types Sh', 'GCA Types Fld', 'GCA Types Def']],\n",
    "          df3[['Performance CrdY', 'Performance CrdR', 'Performance 2CrdY', 'Performance Fls', 'Performance Fld', 'Performance Off', 'Performance Crs', 'Performance Int', 'Performance TklW', 'Performance PKwon', 'Performance PKcon', 'Performance OG', 'Performance Recov', 'Aerial Duels Won', 'Aerial Duels Lost']],\n",
    "          df4[['Total Cmp', 'Total Att', 'Total Cmp%', 'Total TotDist', 'Total PrgDist', 'Short Cmp', 'Short Att', 'Medium Cmp', 'Medium Att', 'Long Cmp', 'Long Att', 'Ast', 'xAG', 'Expected xA', 'Expected A-xAG', 'KP', '1/3', 'PPA', 'CrsPA', 'PrgP']],\n",
    "          df5[['Touches Touches', 'Touches Def Pen', 'Touches Def 3rd', 'Touches Mid 3rd', 'Touches Att 3rd', 'Touches Att Pen', 'Touches Live', 'Take-Ons Att', 'Take-Ons Succ', 'Take-Ons Tkld', 'Carries Carries', 'Carries TotDist', 'Carries PrgDist', 'Carries PrgC', 'Carries 1/3', 'Carries CPA', 'Carries Mis', 'Carries Dis', 'Receiving Rec', 'Receiving PrgR']],\n",
    "          df6[['Standard Gls', 'Standard Sh', 'Standard SoT','Standard Sh/90', 'Standard SoT/90', 'Standard G/Sh', 'Standard G/SoT', 'Standard Dist', 'Standard FK', 'Standard PK', 'Standard PKatt', 'Expected xG', 'Expected npxG', 'Expected npxG/Sh', 'Expected G-xG', 'Expected np:G-xG']]]\n",
    "players = pd.concat(frames, axis=1)"
   ]
  },
  {
   "cell_type": "code",
   "execution_count": 51,
   "metadata": {},
   "outputs": [],
   "source": [
    "url = 'https://raw.githubusercontent.com/sambuddharay/FinalYearProject/main/scrapping/data/Serie-A-Stats/2020-2021/player/Serie-A-Stats-2020-2021-keepers-player.csv'\n",
    "df7 = pd.read_csv(url)\n",
    "url = 'https://raw.githubusercontent.com/sambuddharay/FinalYearProject/main/scrapping/data/Serie-A-Stats/2020-2021/player/Serie-A-Stats-2020-2021-keepersadv-player.csv'\n",
    "df8 = pd.read_csv(url)"
   ]
  },
  {
   "cell_type": "code",
   "execution_count": 52,
   "metadata": {},
   "outputs": [],
   "source": [
    "df7=df7[df7['Playing Time 90s']>0]\n",
    "df8=df8[df8['90s']>0]\n",
    "frames = [df7[['Player', 'Performance GA', 'Performance GA90', 'Performance SoTA', 'Performance Saves', 'Performance Save%', 'Performance W', 'Performance D', 'Performance L', 'Performance CS', 'Performance CS%', 'Penalty Kicks PKatt', 'Penalty Kicks PKA', 'Penalty Kicks PKsv', 'Penalty Kicks PKm']],\n",
    "          df8[['Goals GA', 'Goals PKA', 'Goals FK', 'Goals CK', 'Goals OG', 'Expected PSxG', 'Expected PSxG/SoT', 'Expected PSxG+/-', 'Expected /90', 'Launched Cmp', 'Launched Att', 'Launched Cmp%', 'Passes Att (GK)', 'Passes Thr', 'Passes Launch%', 'Passes AvgLen', 'Goal Kicks Att', 'Goal Kicks Launch%', 'Goal Kicks AvgLen', 'Crosses Opp', 'Crosses Stp', 'Crosses Stp%', 'Sweeper #OPA', 'Sweeper #OPA/90', 'Sweeper AvgDist']]]\n",
    "goalkeepers = pd.concat(frames, axis=1)"
   ]
  },
  {
   "cell_type": "code",
   "execution_count": 53,
   "metadata": {},
   "outputs": [],
   "source": [
    "players = players.replace(np.nan, 0)\n",
    "goalkeepers = goalkeepers.replace(np.nan, 0)\n",
    "utils.append_X_train(X_train, players, goalkeepers)"
   ]
  },
  {
   "cell_type": "code",
   "execution_count": 54,
   "metadata": {},
   "outputs": [],
   "source": [
    "url = 'https://raw.githubusercontent.com/sambuddharay/FinalYearProject/main/scrapping/data/Serie-A-Stats/2021-2022/player/Serie-A-Stats-2021-2022-defense-player.csv'\n",
    "df1 = pd.read_csv(url)\n",
    "url = 'https://raw.githubusercontent.com/sambuddharay/FinalYearProject/main/scrapping/data/Serie-A-Stats/2021-2022/player/Serie-A-Stats-2021-2022-gca-player.csv'\n",
    "df2 = pd.read_csv(url)\n",
    "url = 'https://raw.githubusercontent.com/sambuddharay/FinalYearProject/main/scrapping/data/Serie-A-Stats/2021-2022/player/Serie-A-Stats-2021-2022-misc-player.csv'\n",
    "df3 = pd.read_csv(url)\n",
    "url = 'https://raw.githubusercontent.com/sambuddharay/FinalYearProject/main/scrapping/data/Serie-A-Stats/2021-2022/player/Serie-A-Stats-2021-2022-passing-player.csv'\n",
    "df4 = pd.read_csv(url)\n",
    "url = 'https://raw.githubusercontent.com/sambuddharay/FinalYearProject/main/scrapping/data/Serie-A-Stats/2021-2022/player/Serie-A-Stats-2021-2022-possession-player.csv'\n",
    "df5 = pd.read_csv(url)\n",
    "url = 'https://raw.githubusercontent.com/sambuddharay/FinalYearProject/main/scrapping/data/Serie-A-Stats/2021-2022/player/Serie-A-Stats-2021-2022-shooting-player.csv'\n",
    "df6 = pd.read_csv(url)"
   ]
  },
  {
   "cell_type": "code",
   "execution_count": 55,
   "metadata": {},
   "outputs": [],
   "source": [
    "frames = [df1[['Player', 'Nation', 'Pos', 'Squad', 'Born', '90s', 'Tackles Tkl', 'Tackles TklW', 'Tackles Def 3rd', 'Tackles Mid 3rd', 'Tackles Att 3rd', 'Challenges Tkl', 'Challenges Att', 'Challenges Lost', 'Blocks Blocks', 'Blocks Sh', 'Blocks Pass', 'Int', 'Tkl+Int', 'Clr', 'Err']],\n",
    "          df2[['SCA SCA', 'SCA SCA90', 'SCA Types PassLive', 'SCA Types PassDead', 'SCA Types TO', 'SCA Types Sh', 'SCA Types Fld', 'SCA Types Def', 'GCA GCA', 'GCA GCA90', 'GCA Types PassLive', 'GCA Types PassDead', 'GCA Types TO', 'GCA Types Sh', 'GCA Types Fld', 'GCA Types Def']],\n",
    "          df3[['Performance CrdY', 'Performance CrdR', 'Performance 2CrdY', 'Performance Fls', 'Performance Fld', 'Performance Off', 'Performance Crs', 'Performance Int', 'Performance TklW', 'Performance PKwon', 'Performance PKcon', 'Performance OG', 'Performance Recov', 'Aerial Duels Won', 'Aerial Duels Lost']],\n",
    "          df4[['Total Cmp', 'Total Att', 'Total Cmp%', 'Total TotDist', 'Total PrgDist', 'Short Cmp', 'Short Att', 'Medium Cmp', 'Medium Att', 'Long Cmp', 'Long Att', 'Ast', 'xAG', 'Expected xA', 'Expected A-xAG', 'KP', '1/3', 'PPA', 'CrsPA', 'PrgP']],\n",
    "          df5[['Touches Touches', 'Touches Def Pen', 'Touches Def 3rd', 'Touches Mid 3rd', 'Touches Att 3rd', 'Touches Att Pen', 'Touches Live', 'Take-Ons Att', 'Take-Ons Succ', 'Take-Ons Tkld', 'Carries Carries', 'Carries TotDist', 'Carries PrgDist', 'Carries PrgC', 'Carries 1/3', 'Carries CPA', 'Carries Mis', 'Carries Dis', 'Receiving Rec', 'Receiving PrgR']],\n",
    "          df6[['Standard Gls', 'Standard Sh', 'Standard SoT','Standard Sh/90', 'Standard SoT/90', 'Standard G/Sh', 'Standard G/SoT', 'Standard Dist', 'Standard FK', 'Standard PK', 'Standard PKatt', 'Expected xG', 'Expected npxG', 'Expected npxG/Sh', 'Expected G-xG', 'Expected np:G-xG']]]\n",
    "players = pd.concat(frames, axis=1)"
   ]
  },
  {
   "cell_type": "code",
   "execution_count": 56,
   "metadata": {},
   "outputs": [],
   "source": [
    "url = 'https://raw.githubusercontent.com/sambuddharay/FinalYearProject/main/scrapping/data/Serie-A-Stats/2021-2022/player/Serie-A-Stats-2021-2022-keepers-player.csv'\n",
    "df7 = pd.read_csv(url)\n",
    "url = 'https://raw.githubusercontent.com/sambuddharay/FinalYearProject/main/scrapping/data/Serie-A-Stats/2021-2022/player/Serie-A-Stats-2021-2022-keepersadv-player.csv'\n",
    "df8 = pd.read_csv(url)"
   ]
  },
  {
   "cell_type": "code",
   "execution_count": 57,
   "metadata": {},
   "outputs": [],
   "source": [
    "df7=df7[df7['Playing Time 90s']>0]\n",
    "df8=df8[df8['90s']>0]\n",
    "frames = [df7[['Player', 'Performance GA', 'Performance GA90', 'Performance SoTA', 'Performance Saves', 'Performance Save%', 'Performance W', 'Performance D', 'Performance L', 'Performance CS', 'Performance CS%', 'Penalty Kicks PKatt', 'Penalty Kicks PKA', 'Penalty Kicks PKsv', 'Penalty Kicks PKm']],\n",
    "          df8[['Goals GA', 'Goals PKA', 'Goals FK', 'Goals CK', 'Goals OG', 'Expected PSxG', 'Expected PSxG/SoT', 'Expected PSxG+/-', 'Expected /90', 'Launched Cmp', 'Launched Att', 'Launched Cmp%', 'Passes Att (GK)', 'Passes Thr', 'Passes Launch%', 'Passes AvgLen', 'Goal Kicks Att', 'Goal Kicks Launch%', 'Goal Kicks AvgLen', 'Crosses Opp', 'Crosses Stp', 'Crosses Stp%', 'Sweeper #OPA', 'Sweeper #OPA/90', 'Sweeper AvgDist']]]\n",
    "goalkeepers = pd.concat(frames, axis=1)"
   ]
  },
  {
   "cell_type": "code",
   "execution_count": 58,
   "metadata": {},
   "outputs": [],
   "source": [
    "players = players.replace(np.nan, 0)\n",
    "goalkeepers = goalkeepers.replace(np.nan, 0)\n",
    "utils.append_X_train(X_train, players, goalkeepers)"
   ]
  },
  {
   "cell_type": "code",
   "execution_count": 59,
   "metadata": {},
   "outputs": [],
   "source": [
    "url = 'https://raw.githubusercontent.com/sambuddharay/FinalYearProject/main/scrapping/data/Serie-A-Stats/2022-2023/player/Serie-A-Stats-2022-2023-defense-player.csv'\n",
    "df1 = pd.read_csv(url)\n",
    "url = 'https://raw.githubusercontent.com/sambuddharay/FinalYearProject/main/scrapping/data/Serie-A-Stats/2022-2023/player/Serie-A-Stats-2022-2023-gca-player.csv'\n",
    "df2 = pd.read_csv(url)\n",
    "url = 'https://raw.githubusercontent.com/sambuddharay/FinalYearProject/main/scrapping/data/Serie-A-Stats/2022-2023/player/Serie-A-Stats-2022-2023-misc-player.csv'\n",
    "df3 = pd.read_csv(url)\n",
    "url = 'https://raw.githubusercontent.com/sambuddharay/FinalYearProject/main/scrapping/data/Serie-A-Stats/2022-2023/player/Serie-A-Stats-2022-2023-passing-player.csv'\n",
    "df4 = pd.read_csv(url)\n",
    "url = 'https://raw.githubusercontent.com/sambuddharay/FinalYearProject/main/scrapping/data/Serie-A-Stats/2022-2023/player/Serie-A-Stats-2022-2023-possession-player.csv'\n",
    "df5 = pd.read_csv(url)\n",
    "url = 'https://raw.githubusercontent.com/sambuddharay/FinalYearProject/main/scrapping/data/Serie-A-Stats/2022-2023/player/Serie-A-Stats-2022-2023-shooting-player.csv'\n",
    "df6 = pd.read_csv(url)"
   ]
  },
  {
   "cell_type": "code",
   "execution_count": 60,
   "metadata": {},
   "outputs": [],
   "source": [
    "frames = [df1[['Player', 'Nation', 'Pos', 'Squad', 'Born', '90s', 'Tackles Tkl', 'Tackles TklW', 'Tackles Def 3rd', 'Tackles Mid 3rd', 'Tackles Att 3rd', 'Challenges Tkl', 'Challenges Att', 'Challenges Lost', 'Blocks Blocks', 'Blocks Sh', 'Blocks Pass', 'Int', 'Tkl+Int', 'Clr', 'Err']],\n",
    "          df2[['SCA SCA', 'SCA SCA90', 'SCA Types PassLive', 'SCA Types PassDead', 'SCA Types TO', 'SCA Types Sh', 'SCA Types Fld', 'SCA Types Def', 'GCA GCA', 'GCA GCA90', 'GCA Types PassLive', 'GCA Types PassDead', 'GCA Types TO', 'GCA Types Sh', 'GCA Types Fld', 'GCA Types Def']],\n",
    "          df3[['Performance CrdY', 'Performance CrdR', 'Performance 2CrdY', 'Performance Fls', 'Performance Fld', 'Performance Off', 'Performance Crs', 'Performance Int', 'Performance TklW', 'Performance PKwon', 'Performance PKcon', 'Performance OG', 'Performance Recov', 'Aerial Duels Won', 'Aerial Duels Lost']],\n",
    "          df4[['Total Cmp', 'Total Att', 'Total Cmp%', 'Total TotDist', 'Total PrgDist', 'Short Cmp', 'Short Att', 'Medium Cmp', 'Medium Att', 'Long Cmp', 'Long Att', 'Ast', 'xAG', 'Expected xA', 'Expected A-xAG', 'KP', '1/3', 'PPA', 'CrsPA', 'PrgP']],\n",
    "          df5[['Touches Touches', 'Touches Def Pen', 'Touches Def 3rd', 'Touches Mid 3rd', 'Touches Att 3rd', 'Touches Att Pen', 'Touches Live', 'Take-Ons Att', 'Take-Ons Succ', 'Take-Ons Tkld', 'Carries Carries', 'Carries TotDist', 'Carries PrgDist', 'Carries PrgC', 'Carries 1/3', 'Carries CPA', 'Carries Mis', 'Carries Dis', 'Receiving Rec', 'Receiving PrgR']],\n",
    "          df6[['Standard Gls', 'Standard Sh', 'Standard SoT','Standard Sh/90', 'Standard SoT/90', 'Standard G/Sh', 'Standard G/SoT', 'Standard Dist', 'Standard FK', 'Standard PK', 'Standard PKatt', 'Expected xG', 'Expected npxG', 'Expected npxG/Sh', 'Expected G-xG', 'Expected np:G-xG']]]\n",
    "players = pd.concat(frames, axis=1)"
   ]
  },
  {
   "cell_type": "code",
   "execution_count": 61,
   "metadata": {},
   "outputs": [],
   "source": [
    "url = 'https://raw.githubusercontent.com/sambuddharay/FinalYearProject/main/scrapping/data/Serie-A-Stats/2022-2023/player/Serie-A-Stats-2022-2023-keepers-player.csv'\n",
    "df7 = pd.read_csv(url)\n",
    "url = 'https://raw.githubusercontent.com/sambuddharay/FinalYearProject/main/scrapping/data/Serie-A-Stats/2022-2023/player/Serie-A-Stats-2022-2023-keepersadv-player.csv'\n",
    "df8 = pd.read_csv(url)"
   ]
  },
  {
   "cell_type": "code",
   "execution_count": 62,
   "metadata": {},
   "outputs": [],
   "source": [
    "df7=df7[df7['Playing Time 90s']>0]\n",
    "df8=df8[df8['90s']>0]\n",
    "frames = [df7[['Player', 'Performance GA', 'Performance GA90', 'Performance SoTA', 'Performance Saves', 'Performance Save%', 'Performance W', 'Performance D', 'Performance L', 'Performance CS', 'Performance CS%', 'Penalty Kicks PKatt', 'Penalty Kicks PKA', 'Penalty Kicks PKsv', 'Penalty Kicks PKm']],\n",
    "          df8[['Goals GA', 'Goals PKA', 'Goals FK', 'Goals CK', 'Goals OG', 'Expected PSxG', 'Expected PSxG/SoT', 'Expected PSxG+/-', 'Expected /90', 'Launched Cmp', 'Launched Att', 'Launched Cmp%', 'Passes Att (GK)', 'Passes Thr', 'Passes Launch%', 'Passes AvgLen', 'Goal Kicks Att', 'Goal Kicks Launch%', 'Goal Kicks AvgLen', 'Crosses Opp', 'Crosses Stp', 'Crosses Stp%', 'Sweeper #OPA', 'Sweeper #OPA/90', 'Sweeper AvgDist']]]\n",
    "goalkeepers = pd.concat(frames, axis=1)"
   ]
  },
  {
   "cell_type": "code",
   "execution_count": 63,
   "metadata": {},
   "outputs": [],
   "source": [
    "players = players.replace(np.nan, 0)\n",
    "goalkeepers = goalkeepers.replace(np.nan, 0)\n",
    "utils.append_X_train(X_train, players, goalkeepers)"
   ]
  },
  {
   "cell_type": "code",
   "execution_count": 64,
   "metadata": {},
   "outputs": [],
   "source": [
    "url = 'https://raw.githubusercontent.com/sambuddharay/FinalYearProject/main/scrapping/data/Bundesliga-Stats/2018-2019/player/Bundesliga-Stats-2018-2019-defense-player.csv'\n",
    "df1 = pd.read_csv(url)\n",
    "url = 'https://raw.githubusercontent.com/sambuddharay/FinalYearProject/main/scrapping/data/Bundesliga-Stats/2018-2019/player/Bundesliga-Stats-2018-2019-gca-player.csv'\n",
    "df2 = pd.read_csv(url)\n",
    "url = 'https://raw.githubusercontent.com/sambuddharay/FinalYearProject/main/scrapping/data/Bundesliga-Stats/2018-2019/player/Bundesliga-Stats-2018-2019-misc-player.csv'\n",
    "df3 = pd.read_csv(url)\n",
    "url = 'https://raw.githubusercontent.com/sambuddharay/FinalYearProject/main/scrapping/data/Bundesliga-Stats/2018-2019/player/Bundesliga-Stats-2018-2019-passing-player.csv'\n",
    "df4 = pd.read_csv(url)\n",
    "url = 'https://raw.githubusercontent.com/sambuddharay/FinalYearProject/main/scrapping/data/Bundesliga-Stats/2018-2019/player/Bundesliga-Stats-2018-2019-possession-player.csv'\n",
    "df5 = pd.read_csv(url)\n",
    "url = 'https://raw.githubusercontent.com/sambuddharay/FinalYearProject/main/scrapping/data/Bundesliga-Stats/2018-2019/player/Bundesliga-Stats-2018-2019-shooting-player.csv'\n",
    "df6 = pd.read_csv(url)"
   ]
  },
  {
   "cell_type": "code",
   "execution_count": 65,
   "metadata": {},
   "outputs": [],
   "source": [
    "frames = [df1[['Player', 'Nation', 'Pos', 'Squad', 'Born', '90s', 'Tackles Tkl', 'Tackles TklW', 'Tackles Def 3rd', 'Tackles Mid 3rd', 'Tackles Att 3rd', 'Challenges Tkl', 'Challenges Att', 'Challenges Lost', 'Blocks Blocks', 'Blocks Sh', 'Blocks Pass', 'Int', 'Tkl+Int', 'Clr', 'Err']],\n",
    "          df2[['SCA SCA', 'SCA SCA90', 'SCA Types PassLive', 'SCA Types PassDead', 'SCA Types TO', 'SCA Types Sh', 'SCA Types Fld', 'SCA Types Def', 'GCA GCA', 'GCA GCA90', 'GCA Types PassLive', 'GCA Types PassDead', 'GCA Types TO', 'GCA Types Sh', 'GCA Types Fld', 'GCA Types Def']],\n",
    "          df3[['Performance CrdY', 'Performance CrdR', 'Performance 2CrdY', 'Performance Fls', 'Performance Fld', 'Performance Off', 'Performance Crs', 'Performance Int', 'Performance TklW', 'Performance PKwon', 'Performance PKcon', 'Performance OG', 'Performance Recov', 'Aerial Duels Won', 'Aerial Duels Lost']],\n",
    "          df4[['Total Cmp', 'Total Att', 'Total Cmp%', 'Total TotDist', 'Total PrgDist', 'Short Cmp', 'Short Att', 'Medium Cmp', 'Medium Att', 'Long Cmp', 'Long Att', 'Ast', 'xAG', 'Expected xA', 'Expected A-xAG', 'KP', '1/3', 'PPA', 'CrsPA', 'PrgP']],\n",
    "          df5[['Touches Touches', 'Touches Def Pen', 'Touches Def 3rd', 'Touches Mid 3rd', 'Touches Att 3rd', 'Touches Att Pen', 'Touches Live', 'Take-Ons Att', 'Take-Ons Succ', 'Take-Ons Tkld', 'Carries Carries', 'Carries TotDist', 'Carries PrgDist', 'Carries PrgC', 'Carries 1/3', 'Carries CPA', 'Carries Mis', 'Carries Dis', 'Receiving Rec', 'Receiving PrgR']],\n",
    "          df6[['Standard Gls', 'Standard Sh', 'Standard SoT','Standard Sh/90', 'Standard SoT/90', 'Standard G/Sh', 'Standard G/SoT', 'Standard Dist', 'Standard FK', 'Standard PK', 'Standard PKatt', 'Expected xG', 'Expected npxG', 'Expected npxG/Sh', 'Expected G-xG', 'Expected np:G-xG']]]\n",
    "players = pd.concat(frames, axis=1)"
   ]
  },
  {
   "cell_type": "code",
   "execution_count": 66,
   "metadata": {},
   "outputs": [],
   "source": [
    "url = 'https://raw.githubusercontent.com/sambuddharay/FinalYearProject/main/scrapping/data/Bundesliga-Stats/2018-2019/player/Bundesliga-Stats-2018-2019-keepers-player.csv'\n",
    "df7 = pd.read_csv(url)\n",
    "url = 'https://raw.githubusercontent.com/sambuddharay/FinalYearProject/main/scrapping/data/Bundesliga-Stats/2018-2019/player/Bundesliga-Stats-2018-2019-keepersadv-player.csv'\n",
    "df8 = pd.read_csv(url)"
   ]
  },
  {
   "cell_type": "code",
   "execution_count": 67,
   "metadata": {},
   "outputs": [],
   "source": [
    "df7=df7[df7['Playing Time 90s']>0]\n",
    "df8=df8[df8['90s']>0]\n",
    "frames = [df7[['Player', 'Performance GA', 'Performance GA90', 'Performance SoTA', 'Performance Saves', 'Performance Save%', 'Performance W', 'Performance D', 'Performance L', 'Performance CS', 'Performance CS%', 'Penalty Kicks PKatt', 'Penalty Kicks PKA', 'Penalty Kicks PKsv', 'Penalty Kicks PKm']],\n",
    "          df8[['Goals GA', 'Goals PKA', 'Goals FK', 'Goals CK', 'Goals OG', 'Expected PSxG', 'Expected PSxG/SoT', 'Expected PSxG+/-', 'Expected /90', 'Launched Cmp', 'Launched Att', 'Launched Cmp%', 'Passes Att (GK)', 'Passes Thr', 'Passes Launch%', 'Passes AvgLen', 'Goal Kicks Att', 'Goal Kicks Launch%', 'Goal Kicks AvgLen', 'Crosses Opp', 'Crosses Stp', 'Crosses Stp%', 'Sweeper #OPA', 'Sweeper #OPA/90', 'Sweeper AvgDist']]]\n",
    "goalkeepers = pd.concat(frames, axis=1)"
   ]
  },
  {
   "cell_type": "code",
   "execution_count": 68,
   "metadata": {},
   "outputs": [],
   "source": [
    "players = players.replace(np.nan, 0)\n",
    "goalkeepers = goalkeepers.replace(np.nan, 0)\n",
    "utils.append_X_train(X_train, players, goalkeepers)"
   ]
  },
  {
   "cell_type": "code",
   "execution_count": 69,
   "metadata": {},
   "outputs": [],
   "source": [
    "url = 'https://raw.githubusercontent.com/sambuddharay/FinalYearProject/main/scrapping/data/Bundesliga-Stats/2019-2020/player/Bundesliga-Stats-2019-2020-defense-player.csv'\n",
    "df1 = pd.read_csv(url)\n",
    "url = 'https://raw.githubusercontent.com/sambuddharay/FinalYearProject/main/scrapping/data/Bundesliga-Stats/2019-2020/player/Bundesliga-Stats-2019-2020-gca-player.csv'\n",
    "df2 = pd.read_csv(url)\n",
    "url = 'https://raw.githubusercontent.com/sambuddharay/FinalYearProject/main/scrapping/data/Bundesliga-Stats/2019-2020/player/Bundesliga-Stats-2019-2020-misc-player.csv'\n",
    "df3 = pd.read_csv(url)\n",
    "url = 'https://raw.githubusercontent.com/sambuddharay/FinalYearProject/main/scrapping/data/Bundesliga-Stats/2019-2020/player/Bundesliga-Stats-2019-2020-passing-player.csv'\n",
    "df4 = pd.read_csv(url)\n",
    "url = 'https://raw.githubusercontent.com/sambuddharay/FinalYearProject/main/scrapping/data/Bundesliga-Stats/2019-2020/player/Bundesliga-Stats-2019-2020-possession-player.csv'\n",
    "df5 = pd.read_csv(url)\n",
    "url = 'https://raw.githubusercontent.com/sambuddharay/FinalYearProject/main/scrapping/data/Bundesliga-Stats/2019-2020/player/Bundesliga-Stats-2019-2020-shooting-player.csv'\n",
    "df6 = pd.read_csv(url)"
   ]
  },
  {
   "cell_type": "code",
   "execution_count": 70,
   "metadata": {},
   "outputs": [],
   "source": [
    "frames = [df1[['Player', 'Nation', 'Pos', 'Squad', 'Born', '90s', 'Tackles Tkl', 'Tackles TklW', 'Tackles Def 3rd', 'Tackles Mid 3rd', 'Tackles Att 3rd', 'Challenges Tkl', 'Challenges Att', 'Challenges Lost', 'Blocks Blocks', 'Blocks Sh', 'Blocks Pass', 'Int', 'Tkl+Int', 'Clr', 'Err']],\n",
    "          df2[['SCA SCA', 'SCA SCA90', 'SCA Types PassLive', 'SCA Types PassDead', 'SCA Types TO', 'SCA Types Sh', 'SCA Types Fld', 'SCA Types Def', 'GCA GCA', 'GCA GCA90', 'GCA Types PassLive', 'GCA Types PassDead', 'GCA Types TO', 'GCA Types Sh', 'GCA Types Fld', 'GCA Types Def']],\n",
    "          df3[['Performance CrdY', 'Performance CrdR', 'Performance 2CrdY', 'Performance Fls', 'Performance Fld', 'Performance Off', 'Performance Crs', 'Performance Int', 'Performance TklW', 'Performance PKwon', 'Performance PKcon', 'Performance OG', 'Performance Recov', 'Aerial Duels Won', 'Aerial Duels Lost']],\n",
    "          df4[['Total Cmp', 'Total Att', 'Total Cmp%', 'Total TotDist', 'Total PrgDist', 'Short Cmp', 'Short Att', 'Medium Cmp', 'Medium Att', 'Long Cmp', 'Long Att', 'Ast', 'xAG', 'Expected xA', 'Expected A-xAG', 'KP', '1/3', 'PPA', 'CrsPA', 'PrgP']],\n",
    "          df5[['Touches Touches', 'Touches Def Pen', 'Touches Def 3rd', 'Touches Mid 3rd', 'Touches Att 3rd', 'Touches Att Pen', 'Touches Live', 'Take-Ons Att', 'Take-Ons Succ', 'Take-Ons Tkld', 'Carries Carries', 'Carries TotDist', 'Carries PrgDist', 'Carries PrgC', 'Carries 1/3', 'Carries CPA', 'Carries Mis', 'Carries Dis', 'Receiving Rec', 'Receiving PrgR']],\n",
    "          df6[['Standard Gls', 'Standard Sh', 'Standard SoT','Standard Sh/90', 'Standard SoT/90', 'Standard G/Sh', 'Standard G/SoT', 'Standard Dist', 'Standard FK', 'Standard PK', 'Standard PKatt', 'Expected xG', 'Expected npxG', 'Expected npxG/Sh', 'Expected G-xG', 'Expected np:G-xG']]]\n",
    "players = pd.concat(frames, axis=1)"
   ]
  },
  {
   "cell_type": "code",
   "execution_count": 71,
   "metadata": {},
   "outputs": [],
   "source": [
    "url = 'https://raw.githubusercontent.com/sambuddharay/FinalYearProject/main/scrapping/data/Bundesliga-Stats/2019-2020/player/Bundesliga-Stats-2019-2020-keepers-player.csv'\n",
    "df7 = pd.read_csv(url)\n",
    "url = 'https://raw.githubusercontent.com/sambuddharay/FinalYearProject/main/scrapping/data/Bundesliga-Stats/2019-2020/player/Bundesliga-Stats-2019-2020-keepersadv-player.csv'\n",
    "df8 = pd.read_csv(url)"
   ]
  },
  {
   "cell_type": "code",
   "execution_count": 72,
   "metadata": {},
   "outputs": [],
   "source": [
    "df7=df7[df7['Playing Time 90s']>0]\n",
    "df8=df8[df8['90s']>0]\n",
    "frames = [df7[['Player', 'Performance GA', 'Performance GA90', 'Performance SoTA', 'Performance Saves', 'Performance Save%', 'Performance W', 'Performance D', 'Performance L', 'Performance CS', 'Performance CS%', 'Penalty Kicks PKatt', 'Penalty Kicks PKA', 'Penalty Kicks PKsv', 'Penalty Kicks PKm']],\n",
    "          df8[['Goals GA', 'Goals PKA', 'Goals FK', 'Goals CK', 'Goals OG', 'Expected PSxG', 'Expected PSxG/SoT', 'Expected PSxG+/-', 'Expected /90', 'Launched Cmp', 'Launched Att', 'Launched Cmp%', 'Passes Att (GK)', 'Passes Thr', 'Passes Launch%', 'Passes AvgLen', 'Goal Kicks Att', 'Goal Kicks Launch%', 'Goal Kicks AvgLen', 'Crosses Opp', 'Crosses Stp', 'Crosses Stp%', 'Sweeper #OPA', 'Sweeper #OPA/90', 'Sweeper AvgDist']]]\n",
    "goalkeepers = pd.concat(frames, axis=1)"
   ]
  },
  {
   "cell_type": "code",
   "execution_count": 73,
   "metadata": {},
   "outputs": [],
   "source": [
    "players = players.replace(np.nan, 0)\n",
    "goalkeepers = goalkeepers.replace(np.nan, 0)\n",
    "utils.append_X_train(X_train, players, goalkeepers)"
   ]
  },
  {
   "cell_type": "code",
   "execution_count": 74,
   "metadata": {},
   "outputs": [],
   "source": [
    "url = 'https://raw.githubusercontent.com/sambuddharay/FinalYearProject/main/scrapping/data/Bundesliga-Stats/2020-2021/player/Bundesliga-Stats-2020-2021-defense-player.csv'\n",
    "df1 = pd.read_csv(url)\n",
    "url = 'https://raw.githubusercontent.com/sambuddharay/FinalYearProject/main/scrapping/data/Bundesliga-Stats/2020-2021/player/Bundesliga-Stats-2020-2021-gca-player.csv'\n",
    "df2 = pd.read_csv(url)\n",
    "url = 'https://raw.githubusercontent.com/sambuddharay/FinalYearProject/main/scrapping/data/Bundesliga-Stats/2020-2021/player/Bundesliga-Stats-2020-2021-misc-player.csv'\n",
    "df3 = pd.read_csv(url)\n",
    "url = 'https://raw.githubusercontent.com/sambuddharay/FinalYearProject/main/scrapping/data/Bundesliga-Stats/2020-2021/player/Bundesliga-Stats-2020-2021-passing-player.csv'\n",
    "df4 = pd.read_csv(url)\n",
    "url = 'https://raw.githubusercontent.com/sambuddharay/FinalYearProject/main/scrapping/data/Bundesliga-Stats/2020-2021/player/Bundesliga-Stats-2020-2021-possession-player.csv'\n",
    "df5 = pd.read_csv(url)\n",
    "url = 'https://raw.githubusercontent.com/sambuddharay/FinalYearProject/main/scrapping/data/Bundesliga-Stats/2020-2021/player/Bundesliga-Stats-2020-2021-shooting-player.csv'\n",
    "df6 = pd.read_csv(url)"
   ]
  },
  {
   "cell_type": "code",
   "execution_count": 75,
   "metadata": {},
   "outputs": [],
   "source": [
    "frames = [df1[['Player', 'Nation', 'Pos', 'Squad', 'Born', '90s', 'Tackles Tkl', 'Tackles TklW', 'Tackles Def 3rd', 'Tackles Mid 3rd', 'Tackles Att 3rd', 'Challenges Tkl', 'Challenges Att', 'Challenges Lost', 'Blocks Blocks', 'Blocks Sh', 'Blocks Pass', 'Int', 'Tkl+Int', 'Clr', 'Err']],\n",
    "          df2[['SCA SCA', 'SCA SCA90', 'SCA Types PassLive', 'SCA Types PassDead', 'SCA Types TO', 'SCA Types Sh', 'SCA Types Fld', 'SCA Types Def', 'GCA GCA', 'GCA GCA90', 'GCA Types PassLive', 'GCA Types PassDead', 'GCA Types TO', 'GCA Types Sh', 'GCA Types Fld', 'GCA Types Def']],\n",
    "          df3[['Performance CrdY', 'Performance CrdR', 'Performance 2CrdY', 'Performance Fls', 'Performance Fld', 'Performance Off', 'Performance Crs', 'Performance Int', 'Performance TklW', 'Performance PKwon', 'Performance PKcon', 'Performance OG', 'Performance Recov', 'Aerial Duels Won', 'Aerial Duels Lost']],\n",
    "          df4[['Total Cmp', 'Total Att', 'Total Cmp%', 'Total TotDist', 'Total PrgDist', 'Short Cmp', 'Short Att', 'Medium Cmp', 'Medium Att', 'Long Cmp', 'Long Att', 'Ast', 'xAG', 'Expected xA', 'Expected A-xAG', 'KP', '1/3', 'PPA', 'CrsPA', 'PrgP']],\n",
    "          df5[['Touches Touches', 'Touches Def Pen', 'Touches Def 3rd', 'Touches Mid 3rd', 'Touches Att 3rd', 'Touches Att Pen', 'Touches Live', 'Take-Ons Att', 'Take-Ons Succ', 'Take-Ons Tkld', 'Carries Carries', 'Carries TotDist', 'Carries PrgDist', 'Carries PrgC', 'Carries 1/3', 'Carries CPA', 'Carries Mis', 'Carries Dis', 'Receiving Rec', 'Receiving PrgR']],\n",
    "          df6[['Standard Gls', 'Standard Sh', 'Standard SoT','Standard Sh/90', 'Standard SoT/90', 'Standard G/Sh', 'Standard G/SoT', 'Standard Dist', 'Standard FK', 'Standard PK', 'Standard PKatt', 'Expected xG', 'Expected npxG', 'Expected npxG/Sh', 'Expected G-xG', 'Expected np:G-xG']]]\n",
    "players = pd.concat(frames, axis=1)"
   ]
  },
  {
   "cell_type": "code",
   "execution_count": 76,
   "metadata": {},
   "outputs": [],
   "source": [
    "url = 'https://raw.githubusercontent.com/sambuddharay/FinalYearProject/main/scrapping/data/Bundesliga-Stats/2020-2021/player/Bundesliga-Stats-2020-2021-keepers-player.csv'\n",
    "df7 = pd.read_csv(url)\n",
    "url = 'https://raw.githubusercontent.com/sambuddharay/FinalYearProject/main/scrapping/data/Bundesliga-Stats/2020-2021/player/Bundesliga-Stats-2020-2021-keepersadv-player.csv'\n",
    "df8 = pd.read_csv(url)"
   ]
  },
  {
   "cell_type": "code",
   "execution_count": 77,
   "metadata": {},
   "outputs": [],
   "source": [
    "df7=df7[df7['Playing Time 90s']>0]\n",
    "df8=df8[df8['90s']>0]\n",
    "frames = [df7[['Player', 'Performance GA', 'Performance GA90', 'Performance SoTA', 'Performance Saves', 'Performance Save%', 'Performance W', 'Performance D', 'Performance L', 'Performance CS', 'Performance CS%', 'Penalty Kicks PKatt', 'Penalty Kicks PKA', 'Penalty Kicks PKsv', 'Penalty Kicks PKm']],\n",
    "          df8[['Goals GA', 'Goals PKA', 'Goals FK', 'Goals CK', 'Goals OG', 'Expected PSxG', 'Expected PSxG/SoT', 'Expected PSxG+/-', 'Expected /90', 'Launched Cmp', 'Launched Att', 'Launched Cmp%', 'Passes Att (GK)', 'Passes Thr', 'Passes Launch%', 'Passes AvgLen', 'Goal Kicks Att', 'Goal Kicks Launch%', 'Goal Kicks AvgLen', 'Crosses Opp', 'Crosses Stp', 'Crosses Stp%', 'Sweeper #OPA', 'Sweeper #OPA/90', 'Sweeper AvgDist']]]\n",
    "goalkeepers = pd.concat(frames, axis=1)"
   ]
  },
  {
   "cell_type": "code",
   "execution_count": 78,
   "metadata": {},
   "outputs": [],
   "source": [
    "players = players.replace(np.nan, 0)\n",
    "goalkeepers = goalkeepers.replace(np.nan, 0)\n",
    "utils.append_X_train(X_train, players, goalkeepers)"
   ]
  },
  {
   "cell_type": "code",
   "execution_count": 79,
   "metadata": {},
   "outputs": [],
   "source": [
    "url = 'https://raw.githubusercontent.com/sambuddharay/FinalYearProject/main/scrapping/data/Bundesliga-Stats/2021-2022/player/Bundesliga-Stats-2021-2022-defense-player.csv'\n",
    "df1 = pd.read_csv(url)\n",
    "url = 'https://raw.githubusercontent.com/sambuddharay/FinalYearProject/main/scrapping/data/Bundesliga-Stats/2021-2022/player/Bundesliga-Stats-2021-2022-gca-player.csv'\n",
    "df2 = pd.read_csv(url)\n",
    "url = 'https://raw.githubusercontent.com/sambuddharay/FinalYearProject/main/scrapping/data/Bundesliga-Stats/2021-2022/player/Bundesliga-Stats-2021-2022-misc-player.csv'\n",
    "df3 = pd.read_csv(url)\n",
    "url = 'https://raw.githubusercontent.com/sambuddharay/FinalYearProject/main/scrapping/data/Bundesliga-Stats/2021-2022/player/Bundesliga-Stats-2021-2022-passing-player.csv'\n",
    "df4 = pd.read_csv(url)\n",
    "url = 'https://raw.githubusercontent.com/sambuddharay/FinalYearProject/main/scrapping/data/Bundesliga-Stats/2021-2022/player/Bundesliga-Stats-2021-2022-possession-player.csv'\n",
    "df5 = pd.read_csv(url)\n",
    "url = 'https://raw.githubusercontent.com/sambuddharay/FinalYearProject/main/scrapping/data/Bundesliga-Stats/2021-2022/player/Bundesliga-Stats-2021-2022-shooting-player.csv'\n",
    "df6 = pd.read_csv(url)"
   ]
  },
  {
   "cell_type": "code",
   "execution_count": 80,
   "metadata": {},
   "outputs": [],
   "source": [
    "frames = [df1[['Player', 'Nation', 'Pos', 'Squad', 'Born', '90s', 'Tackles Tkl', 'Tackles TklW', 'Tackles Def 3rd', 'Tackles Mid 3rd', 'Tackles Att 3rd', 'Challenges Tkl', 'Challenges Att', 'Challenges Lost', 'Blocks Blocks', 'Blocks Sh', 'Blocks Pass', 'Int', 'Tkl+Int', 'Clr', 'Err']],\n",
    "          df2[['SCA SCA', 'SCA SCA90', 'SCA Types PassLive', 'SCA Types PassDead', 'SCA Types TO', 'SCA Types Sh', 'SCA Types Fld', 'SCA Types Def', 'GCA GCA', 'GCA GCA90', 'GCA Types PassLive', 'GCA Types PassDead', 'GCA Types TO', 'GCA Types Sh', 'GCA Types Fld', 'GCA Types Def']],\n",
    "          df3[['Performance CrdY', 'Performance CrdR', 'Performance 2CrdY', 'Performance Fls', 'Performance Fld', 'Performance Off', 'Performance Crs', 'Performance Int', 'Performance TklW', 'Performance PKwon', 'Performance PKcon', 'Performance OG', 'Performance Recov', 'Aerial Duels Won', 'Aerial Duels Lost']],\n",
    "          df4[['Total Cmp', 'Total Att', 'Total Cmp%', 'Total TotDist', 'Total PrgDist', 'Short Cmp', 'Short Att', 'Medium Cmp', 'Medium Att', 'Long Cmp', 'Long Att', 'Ast', 'xAG', 'Expected xA', 'Expected A-xAG', 'KP', '1/3', 'PPA', 'CrsPA', 'PrgP']],\n",
    "          df5[['Touches Touches', 'Touches Def Pen', 'Touches Def 3rd', 'Touches Mid 3rd', 'Touches Att 3rd', 'Touches Att Pen', 'Touches Live', 'Take-Ons Att', 'Take-Ons Succ', 'Take-Ons Tkld', 'Carries Carries', 'Carries TotDist', 'Carries PrgDist', 'Carries PrgC', 'Carries 1/3', 'Carries CPA', 'Carries Mis', 'Carries Dis', 'Receiving Rec', 'Receiving PrgR']],\n",
    "          df6[['Standard Gls', 'Standard Sh', 'Standard SoT','Standard Sh/90', 'Standard SoT/90', 'Standard G/Sh', 'Standard G/SoT', 'Standard Dist', 'Standard FK', 'Standard PK', 'Standard PKatt', 'Expected xG', 'Expected npxG', 'Expected npxG/Sh', 'Expected G-xG', 'Expected np:G-xG']]]\n",
    "players = pd.concat(frames, axis=1)"
   ]
  },
  {
   "cell_type": "code",
   "execution_count": 81,
   "metadata": {},
   "outputs": [],
   "source": [
    "url = 'https://raw.githubusercontent.com/sambuddharay/FinalYearProject/main/scrapping/data/Bundesliga-Stats/2021-2022/player/Bundesliga-Stats-2021-2022-keepers-player.csv'\n",
    "df7 = pd.read_csv(url)\n",
    "url = 'https://raw.githubusercontent.com/sambuddharay/FinalYearProject/main/scrapping/data/Bundesliga-Stats/2021-2022/player/Bundesliga-Stats-2021-2022-keepersadv-player.csv'\n",
    "df8 = pd.read_csv(url)"
   ]
  },
  {
   "cell_type": "code",
   "execution_count": 82,
   "metadata": {},
   "outputs": [],
   "source": [
    "df7=df7[df7['Playing Time 90s']>0]\n",
    "df8=df8[df8['90s']>0]\n",
    "frames = [df7[['Player', 'Performance GA', 'Performance GA90', 'Performance SoTA', 'Performance Saves', 'Performance Save%', 'Performance W', 'Performance D', 'Performance L', 'Performance CS', 'Performance CS%', 'Penalty Kicks PKatt', 'Penalty Kicks PKA', 'Penalty Kicks PKsv', 'Penalty Kicks PKm']],\n",
    "          df8[['Goals GA', 'Goals PKA', 'Goals FK', 'Goals CK', 'Goals OG', 'Expected PSxG', 'Expected PSxG/SoT', 'Expected PSxG+/-', 'Expected /90', 'Launched Cmp', 'Launched Att', 'Launched Cmp%', 'Passes Att (GK)', 'Passes Thr', 'Passes Launch%', 'Passes AvgLen', 'Goal Kicks Att', 'Goal Kicks Launch%', 'Goal Kicks AvgLen', 'Crosses Opp', 'Crosses Stp', 'Crosses Stp%', 'Sweeper #OPA', 'Sweeper #OPA/90', 'Sweeper AvgDist']]]\n",
    "goalkeepers = pd.concat(frames, axis=1)"
   ]
  },
  {
   "cell_type": "code",
   "execution_count": 83,
   "metadata": {},
   "outputs": [],
   "source": [
    "players = players.replace(np.nan, 0)\n",
    "goalkeepers = goalkeepers.replace(np.nan, 0)\n",
    "utils.append_X_train(X_train, players, goalkeepers)"
   ]
  },
  {
   "cell_type": "code",
   "execution_count": 84,
   "metadata": {},
   "outputs": [],
   "source": [
    "url = 'https://raw.githubusercontent.com/sambuddharay/FinalYearProject/main/scrapping/data/Bundesliga-Stats/2022-2023/player/Bundesliga-Stats-2022-2023-defense-player.csv'\n",
    "df1 = pd.read_csv(url)\n",
    "url = 'https://raw.githubusercontent.com/sambuddharay/FinalYearProject/main/scrapping/data/Bundesliga-Stats/2022-2023/player/Bundesliga-Stats-2022-2023-gca-player.csv'\n",
    "df2 = pd.read_csv(url)\n",
    "url = 'https://raw.githubusercontent.com/sambuddharay/FinalYearProject/main/scrapping/data/Bundesliga-Stats/2022-2023/player/Bundesliga-Stats-2022-2023-misc-player.csv'\n",
    "df3 = pd.read_csv(url)\n",
    "url = 'https://raw.githubusercontent.com/sambuddharay/FinalYearProject/main/scrapping/data/Bundesliga-Stats/2022-2023/player/Bundesliga-Stats-2022-2023-passing-player.csv'\n",
    "df4 = pd.read_csv(url)\n",
    "url = 'https://raw.githubusercontent.com/sambuddharay/FinalYearProject/main/scrapping/data/Bundesliga-Stats/2022-2023/player/Bundesliga-Stats-2022-2023-possession-player.csv'\n",
    "df5 = pd.read_csv(url)\n",
    "url = 'https://raw.githubusercontent.com/sambuddharay/FinalYearProject/main/scrapping/data/Bundesliga-Stats/2022-2023/player/Bundesliga-Stats-2022-2023-shooting-player.csv'\n",
    "df6 = pd.read_csv(url)"
   ]
  },
  {
   "cell_type": "code",
   "execution_count": 85,
   "metadata": {},
   "outputs": [],
   "source": [
    "frames = [df1[['Player', 'Nation', 'Pos', 'Squad', 'Born', '90s', 'Tackles Tkl', 'Tackles TklW', 'Tackles Def 3rd', 'Tackles Mid 3rd', 'Tackles Att 3rd', 'Challenges Tkl', 'Challenges Att', 'Challenges Lost', 'Blocks Blocks', 'Blocks Sh', 'Blocks Pass', 'Int', 'Tkl+Int', 'Clr', 'Err']],\n",
    "          df2[['SCA SCA', 'SCA SCA90', 'SCA Types PassLive', 'SCA Types PassDead', 'SCA Types TO', 'SCA Types Sh', 'SCA Types Fld', 'SCA Types Def', 'GCA GCA', 'GCA GCA90', 'GCA Types PassLive', 'GCA Types PassDead', 'GCA Types TO', 'GCA Types Sh', 'GCA Types Fld', 'GCA Types Def']],\n",
    "          df3[['Performance CrdY', 'Performance CrdR', 'Performance 2CrdY', 'Performance Fls', 'Performance Fld', 'Performance Off', 'Performance Crs', 'Performance Int', 'Performance TklW', 'Performance PKwon', 'Performance PKcon', 'Performance OG', 'Performance Recov', 'Aerial Duels Won', 'Aerial Duels Lost']],\n",
    "          df4[['Total Cmp', 'Total Att', 'Total Cmp%', 'Total TotDist', 'Total PrgDist', 'Short Cmp', 'Short Att', 'Medium Cmp', 'Medium Att', 'Long Cmp', 'Long Att', 'Ast', 'xAG', 'Expected xA', 'Expected A-xAG', 'KP', '1/3', 'PPA', 'CrsPA', 'PrgP']],\n",
    "          df5[['Touches Touches', 'Touches Def Pen', 'Touches Def 3rd', 'Touches Mid 3rd', 'Touches Att 3rd', 'Touches Att Pen', 'Touches Live', 'Take-Ons Att', 'Take-Ons Succ', 'Take-Ons Tkld', 'Carries Carries', 'Carries TotDist', 'Carries PrgDist', 'Carries PrgC', 'Carries 1/3', 'Carries CPA', 'Carries Mis', 'Carries Dis', 'Receiving Rec', 'Receiving PrgR']],\n",
    "          df6[['Standard Gls', 'Standard Sh', 'Standard SoT','Standard Sh/90', 'Standard SoT/90', 'Standard G/Sh', 'Standard G/SoT', 'Standard Dist', 'Standard FK', 'Standard PK', 'Standard PKatt', 'Expected xG', 'Expected npxG', 'Expected npxG/Sh', 'Expected G-xG', 'Expected np:G-xG']]]\n",
    "players = pd.concat(frames, axis=1)"
   ]
  },
  {
   "cell_type": "code",
   "execution_count": 86,
   "metadata": {},
   "outputs": [],
   "source": [
    "url = 'https://raw.githubusercontent.com/sambuddharay/FinalYearProject/main/scrapping/data/Bundesliga-Stats/2022-2023/player/Bundesliga-Stats-2022-2023-keepers-player.csv'\n",
    "df7 = pd.read_csv(url)\n",
    "url = 'https://raw.githubusercontent.com/sambuddharay/FinalYearProject/main/scrapping/data/Bundesliga-Stats/2022-2023/player/Bundesliga-Stats-2022-2023-keepersadv-player.csv'\n",
    "df8 = pd.read_csv(url)"
   ]
  },
  {
   "cell_type": "code",
   "execution_count": 87,
   "metadata": {},
   "outputs": [],
   "source": [
    "df7=df7[df7['Playing Time 90s']>0]\n",
    "df8=df8[df8['90s']>0]\n",
    "frames = [df7[['Player', 'Performance GA', 'Performance GA90', 'Performance SoTA', 'Performance Saves', 'Performance Save%', 'Performance W', 'Performance D', 'Performance L', 'Performance CS', 'Performance CS%', 'Penalty Kicks PKatt', 'Penalty Kicks PKA', 'Penalty Kicks PKsv', 'Penalty Kicks PKm']],\n",
    "          df8[['Goals GA', 'Goals PKA', 'Goals FK', 'Goals CK', 'Goals OG', 'Expected PSxG', 'Expected PSxG/SoT', 'Expected PSxG+/-', 'Expected /90', 'Launched Cmp', 'Launched Att', 'Launched Cmp%', 'Passes Att (GK)', 'Passes Thr', 'Passes Launch%', 'Passes AvgLen', 'Goal Kicks Att', 'Goal Kicks Launch%', 'Goal Kicks AvgLen', 'Crosses Opp', 'Crosses Stp', 'Crosses Stp%', 'Sweeper #OPA', 'Sweeper #OPA/90', 'Sweeper AvgDist']]]\n",
    "goalkeepers = pd.concat(frames, axis=1)"
   ]
  },
  {
   "cell_type": "code",
   "execution_count": 88,
   "metadata": {},
   "outputs": [],
   "source": [
    "players = players.replace(np.nan, 0)\n",
    "goalkeepers = goalkeepers.replace(np.nan, 0)\n",
    "utils.append_X_train(X_train, players, goalkeepers)"
   ]
  },
  {
   "cell_type": "code",
   "execution_count": 89,
   "metadata": {},
   "outputs": [],
   "source": [
    "url = 'https://raw.githubusercontent.com/sambuddharay/FinalYearProject/main/scrapping/data/La-Liga-Stats/2018-2019/player/La-Liga-Stats-2018-2019-defense-player.csv'\n",
    "df1 = pd.read_csv(url)\n",
    "url = 'https://raw.githubusercontent.com/sambuddharay/FinalYearProject/main/scrapping/data/La-Liga-Stats/2018-2019/player/La-Liga-Stats-2018-2019-gca-player.csv'\n",
    "df2 = pd.read_csv(url)\n",
    "url = 'https://raw.githubusercontent.com/sambuddharay/FinalYearProject/main/scrapping/data/La-Liga-Stats/2018-2019/player/La-Liga-Stats-2018-2019-misc-player.csv'\n",
    "df3 = pd.read_csv(url)\n",
    "url = 'https://raw.githubusercontent.com/sambuddharay/FinalYearProject/main/scrapping/data/La-Liga-Stats/2018-2019/player/La-Liga-Stats-2018-2019-passing-player.csv'\n",
    "df4 = pd.read_csv(url)\n",
    "url = 'https://raw.githubusercontent.com/sambuddharay/FinalYearProject/main/scrapping/data/La-Liga-Stats/2018-2019/player/La-Liga-Stats-2018-2019-possession-player.csv'\n",
    "df5 = pd.read_csv(url)\n",
    "url = 'https://raw.githubusercontent.com/sambuddharay/FinalYearProject/main/scrapping/data/La-Liga-Stats/2018-2019/player/La-Liga-Stats-2018-2019-shooting-player.csv'\n",
    "df6 = pd.read_csv(url)"
   ]
  },
  {
   "cell_type": "code",
   "execution_count": 90,
   "metadata": {},
   "outputs": [],
   "source": [
    "frames = [df1[['Player', 'Nation', 'Pos', 'Squad', 'Born', '90s', 'Tackles Tkl', 'Tackles TklW', 'Tackles Def 3rd', 'Tackles Mid 3rd', 'Tackles Att 3rd', 'Challenges Tkl', 'Challenges Att', 'Challenges Lost', 'Blocks Blocks', 'Blocks Sh', 'Blocks Pass', 'Int', 'Tkl+Int', 'Clr', 'Err']],\n",
    "          df2[['SCA SCA', 'SCA SCA90', 'SCA Types PassLive', 'SCA Types PassDead', 'SCA Types TO', 'SCA Types Sh', 'SCA Types Fld', 'SCA Types Def', 'GCA GCA', 'GCA GCA90', 'GCA Types PassLive', 'GCA Types PassDead', 'GCA Types TO', 'GCA Types Sh', 'GCA Types Fld', 'GCA Types Def']],\n",
    "          df3[['Performance CrdY', 'Performance CrdR', 'Performance 2CrdY', 'Performance Fls', 'Performance Fld', 'Performance Off', 'Performance Crs', 'Performance Int', 'Performance TklW', 'Performance PKwon', 'Performance PKcon', 'Performance OG', 'Performance Recov', 'Aerial Duels Won', 'Aerial Duels Lost']],\n",
    "          df4[['Total Cmp', 'Total Att', 'Total Cmp%', 'Total TotDist', 'Total PrgDist', 'Short Cmp', 'Short Att', 'Medium Cmp', 'Medium Att', 'Long Cmp', 'Long Att', 'Ast', 'xAG', 'Expected xA', 'Expected A-xAG', 'KP', '1/3', 'PPA', 'CrsPA', 'PrgP']],\n",
    "          df5[['Touches Touches', 'Touches Def Pen', 'Touches Def 3rd', 'Touches Mid 3rd', 'Touches Att 3rd', 'Touches Att Pen', 'Touches Live', 'Take-Ons Att', 'Take-Ons Succ', 'Take-Ons Tkld', 'Carries Carries', 'Carries TotDist', 'Carries PrgDist', 'Carries PrgC', 'Carries 1/3', 'Carries CPA', 'Carries Mis', 'Carries Dis', 'Receiving Rec', 'Receiving PrgR']],\n",
    "          df6[['Standard Gls', 'Standard Sh', 'Standard SoT','Standard Sh/90', 'Standard SoT/90', 'Standard G/Sh', 'Standard G/SoT', 'Standard Dist', 'Standard FK', 'Standard PK', 'Standard PKatt', 'Expected xG', 'Expected npxG', 'Expected npxG/Sh', 'Expected G-xG', 'Expected np:G-xG']]]\n",
    "players = pd.concat(frames, axis=1)"
   ]
  },
  {
   "cell_type": "code",
   "execution_count": 91,
   "metadata": {},
   "outputs": [],
   "source": [
    "url = 'https://raw.githubusercontent.com/sambuddharay/FinalYearProject/main/scrapping/data/La-Liga-Stats/2018-2019/player/La-Liga-Stats-2018-2019-keepers-player.csv'\n",
    "df7 = pd.read_csv(url)\n",
    "url = 'https://raw.githubusercontent.com/sambuddharay/FinalYearProject/main/scrapping/data/La-Liga-Stats/2018-2019/player/La-Liga-Stats-2018-2019-keepersadv-player.csv'\n",
    "df8 = pd.read_csv(url)"
   ]
  },
  {
   "cell_type": "code",
   "execution_count": 92,
   "metadata": {},
   "outputs": [],
   "source": [
    "df7=df7[df7['Playing Time 90s']>0]\n",
    "df8=df8[df8['90s']>0]\n",
    "frames = [df7[['Player', 'Performance GA', 'Performance GA90', 'Performance SoTA', 'Performance Saves', 'Performance Save%', 'Performance W', 'Performance D', 'Performance L', 'Performance CS', 'Performance CS%', 'Penalty Kicks PKatt', 'Penalty Kicks PKA', 'Penalty Kicks PKsv', 'Penalty Kicks PKm']],\n",
    "          df8[['Goals GA', 'Goals PKA', 'Goals FK', 'Goals CK', 'Goals OG', 'Expected PSxG', 'Expected PSxG/SoT', 'Expected PSxG+/-', 'Expected /90', 'Launched Cmp', 'Launched Att', 'Launched Cmp%', 'Passes Att (GK)', 'Passes Thr', 'Passes Launch%', 'Passes AvgLen', 'Goal Kicks Att', 'Goal Kicks Launch%', 'Goal Kicks AvgLen', 'Crosses Opp', 'Crosses Stp', 'Crosses Stp%', 'Sweeper #OPA', 'Sweeper #OPA/90', 'Sweeper AvgDist']]]\n",
    "goalkeepers = pd.concat(frames, axis=1)"
   ]
  },
  {
   "cell_type": "code",
   "execution_count": 93,
   "metadata": {},
   "outputs": [],
   "source": [
    "players = players.replace(np.nan, 0)\n",
    "goalkeepers = goalkeepers.replace(np.nan, 0)\n",
    "utils.append_X_train(X_train, players, goalkeepers)"
   ]
  },
  {
   "cell_type": "code",
   "execution_count": 94,
   "metadata": {},
   "outputs": [],
   "source": [
    "url = 'https://raw.githubusercontent.com/sambuddharay/FinalYearProject/main/scrapping/data/La-Liga-Stats/2019-2020/player/La-Liga-Stats-2019-2020-defense-player.csv'\n",
    "df1 = pd.read_csv(url)\n",
    "url = 'https://raw.githubusercontent.com/sambuddharay/FinalYearProject/main/scrapping/data/La-Liga-Stats/2019-2020/player/La-Liga-Stats-2019-2020-gca-player.csv'\n",
    "df2 = pd.read_csv(url)\n",
    "url = 'https://raw.githubusercontent.com/sambuddharay/FinalYearProject/main/scrapping/data/La-Liga-Stats/2019-2020/player/La-Liga-Stats-2019-2020-misc-player.csv'\n",
    "df3 = pd.read_csv(url)\n",
    "url = 'https://raw.githubusercontent.com/sambuddharay/FinalYearProject/main/scrapping/data/La-Liga-Stats/2019-2020/player/La-Liga-Stats-2019-2020-passing-player.csv'\n",
    "df4 = pd.read_csv(url)\n",
    "url = 'https://raw.githubusercontent.com/sambuddharay/FinalYearProject/main/scrapping/data/La-Liga-Stats/2019-2020/player/La-Liga-Stats-2019-2020-possession-player.csv'\n",
    "df5 = pd.read_csv(url)\n",
    "url = 'https://raw.githubusercontent.com/sambuddharay/FinalYearProject/main/scrapping/data/La-Liga-Stats/2019-2020/player/La-Liga-Stats-2019-2020-shooting-player.csv'\n",
    "df6 = pd.read_csv(url)"
   ]
  },
  {
   "cell_type": "code",
   "execution_count": 95,
   "metadata": {},
   "outputs": [],
   "source": [
    "frames = [df1[['Player', 'Nation', 'Pos', 'Squad', 'Born', '90s', 'Tackles Tkl', 'Tackles TklW', 'Tackles Def 3rd', 'Tackles Mid 3rd', 'Tackles Att 3rd', 'Challenges Tkl', 'Challenges Att', 'Challenges Lost', 'Blocks Blocks', 'Blocks Sh', 'Blocks Pass', 'Int', 'Tkl+Int', 'Clr', 'Err']],\n",
    "          df2[['SCA SCA', 'SCA SCA90', 'SCA Types PassLive', 'SCA Types PassDead', 'SCA Types TO', 'SCA Types Sh', 'SCA Types Fld', 'SCA Types Def', 'GCA GCA', 'GCA GCA90', 'GCA Types PassLive', 'GCA Types PassDead', 'GCA Types TO', 'GCA Types Sh', 'GCA Types Fld', 'GCA Types Def']],\n",
    "          df3[['Performance CrdY', 'Performance CrdR', 'Performance 2CrdY', 'Performance Fls', 'Performance Fld', 'Performance Off', 'Performance Crs', 'Performance Int', 'Performance TklW', 'Performance PKwon', 'Performance PKcon', 'Performance OG', 'Performance Recov', 'Aerial Duels Won', 'Aerial Duels Lost']],\n",
    "          df4[['Total Cmp', 'Total Att', 'Total Cmp%', 'Total TotDist', 'Total PrgDist', 'Short Cmp', 'Short Att', 'Medium Cmp', 'Medium Att', 'Long Cmp', 'Long Att', 'Ast', 'xAG', 'Expected xA', 'Expected A-xAG', 'KP', '1/3', 'PPA', 'CrsPA', 'PrgP']],\n",
    "          df5[['Touches Touches', 'Touches Def Pen', 'Touches Def 3rd', 'Touches Mid 3rd', 'Touches Att 3rd', 'Touches Att Pen', 'Touches Live', 'Take-Ons Att', 'Take-Ons Succ', 'Take-Ons Tkld', 'Carries Carries', 'Carries TotDist', 'Carries PrgDist', 'Carries PrgC', 'Carries 1/3', 'Carries CPA', 'Carries Mis', 'Carries Dis', 'Receiving Rec', 'Receiving PrgR']],\n",
    "          df6[['Standard Gls', 'Standard Sh', 'Standard SoT','Standard Sh/90', 'Standard SoT/90', 'Standard G/Sh', 'Standard G/SoT', 'Standard Dist', 'Standard FK', 'Standard PK', 'Standard PKatt', 'Expected xG', 'Expected npxG', 'Expected npxG/Sh', 'Expected G-xG', 'Expected np:G-xG']]]\n",
    "players = pd.concat(frames, axis=1)"
   ]
  },
  {
   "cell_type": "code",
   "execution_count": 96,
   "metadata": {},
   "outputs": [],
   "source": [
    "url = 'https://raw.githubusercontent.com/sambuddharay/FinalYearProject/main/scrapping/data/La-Liga-Stats/2019-2020/player/La-Liga-Stats-2019-2020-keepers-player.csv'\n",
    "df7 = pd.read_csv(url)\n",
    "url = 'https://raw.githubusercontent.com/sambuddharay/FinalYearProject/main/scrapping/data/La-Liga-Stats/2019-2020/player/La-Liga-Stats-2019-2020-keepersadv-player.csv'\n",
    "df8 = pd.read_csv(url)"
   ]
  },
  {
   "cell_type": "code",
   "execution_count": 97,
   "metadata": {},
   "outputs": [],
   "source": [
    "df7=df7[df7['Playing Time 90s']>0]\n",
    "df8=df8[df8['90s']>0]\n",
    "frames = [df7[['Player', 'Performance GA', 'Performance GA90', 'Performance SoTA', 'Performance Saves', 'Performance Save%', 'Performance W', 'Performance D', 'Performance L', 'Performance CS', 'Performance CS%', 'Penalty Kicks PKatt', 'Penalty Kicks PKA', 'Penalty Kicks PKsv', 'Penalty Kicks PKm']],\n",
    "          df8[['Goals GA', 'Goals PKA', 'Goals FK', 'Goals CK', 'Goals OG', 'Expected PSxG', 'Expected PSxG/SoT', 'Expected PSxG+/-', 'Expected /90', 'Launched Cmp', 'Launched Att', 'Launched Cmp%', 'Passes Att (GK)', 'Passes Thr', 'Passes Launch%', 'Passes AvgLen', 'Goal Kicks Att', 'Goal Kicks Launch%', 'Goal Kicks AvgLen', 'Crosses Opp', 'Crosses Stp', 'Crosses Stp%', 'Sweeper #OPA', 'Sweeper #OPA/90', 'Sweeper AvgDist']]]\n",
    "goalkeepers = pd.concat(frames, axis=1)"
   ]
  },
  {
   "cell_type": "code",
   "execution_count": 98,
   "metadata": {},
   "outputs": [],
   "source": [
    "players = players.replace(np.nan, 0)\n",
    "goalkeepers = goalkeepers.replace(np.nan, 0)\n",
    "utils.append_X_train(X_train, players, goalkeepers)"
   ]
  },
  {
   "cell_type": "code",
   "execution_count": 99,
   "metadata": {},
   "outputs": [],
   "source": [
    "url = 'https://raw.githubusercontent.com/sambuddharay/FinalYearProject/main/scrapping/data/La-Liga-Stats/2020-2021/player/La-Liga-Stats-2020-2021-defense-player.csv'\n",
    "df1 = pd.read_csv(url)\n",
    "url = 'https://raw.githubusercontent.com/sambuddharay/FinalYearProject/main/scrapping/data/La-Liga-Stats/2020-2021/player/La-Liga-Stats-2020-2021-gca-player.csv'\n",
    "df2 = pd.read_csv(url)\n",
    "url = 'https://raw.githubusercontent.com/sambuddharay/FinalYearProject/main/scrapping/data/La-Liga-Stats/2020-2021/player/La-Liga-Stats-2020-2021-misc-player.csv'\n",
    "df3 = pd.read_csv(url)\n",
    "url = 'https://raw.githubusercontent.com/sambuddharay/FinalYearProject/main/scrapping/data/La-Liga-Stats/2020-2021/player/La-Liga-Stats-2020-2021-passing-player.csv'\n",
    "df4 = pd.read_csv(url)\n",
    "url = 'https://raw.githubusercontent.com/sambuddharay/FinalYearProject/main/scrapping/data/La-Liga-Stats/2020-2021/player/La-Liga-Stats-2020-2021-possession-player.csv'\n",
    "df5 = pd.read_csv(url)\n",
    "url = 'https://raw.githubusercontent.com/sambuddharay/FinalYearProject/main/scrapping/data/La-Liga-Stats/2020-2021/player/La-Liga-Stats-2020-2021-shooting-player.csv'\n",
    "df6 = pd.read_csv(url)"
   ]
  },
  {
   "cell_type": "code",
   "execution_count": 100,
   "metadata": {},
   "outputs": [],
   "source": [
    "frames = [df1[['Player', 'Nation', 'Pos', 'Squad', 'Born', '90s', 'Tackles Tkl', 'Tackles TklW', 'Tackles Def 3rd', 'Tackles Mid 3rd', 'Tackles Att 3rd', 'Challenges Tkl', 'Challenges Att', 'Challenges Lost', 'Blocks Blocks', 'Blocks Sh', 'Blocks Pass', 'Int', 'Tkl+Int', 'Clr', 'Err']],\n",
    "          df2[['SCA SCA', 'SCA SCA90', 'SCA Types PassLive', 'SCA Types PassDead', 'SCA Types TO', 'SCA Types Sh', 'SCA Types Fld', 'SCA Types Def', 'GCA GCA', 'GCA GCA90', 'GCA Types PassLive', 'GCA Types PassDead', 'GCA Types TO', 'GCA Types Sh', 'GCA Types Fld', 'GCA Types Def']],\n",
    "          df3[['Performance CrdY', 'Performance CrdR', 'Performance 2CrdY', 'Performance Fls', 'Performance Fld', 'Performance Off', 'Performance Crs', 'Performance Int', 'Performance TklW', 'Performance PKwon', 'Performance PKcon', 'Performance OG', 'Performance Recov', 'Aerial Duels Won', 'Aerial Duels Lost']],\n",
    "          df4[['Total Cmp', 'Total Att', 'Total Cmp%', 'Total TotDist', 'Total PrgDist', 'Short Cmp', 'Short Att', 'Medium Cmp', 'Medium Att', 'Long Cmp', 'Long Att', 'Ast', 'xAG', 'Expected xA', 'Expected A-xAG', 'KP', '1/3', 'PPA', 'CrsPA', 'PrgP']],\n",
    "          df5[['Touches Touches', 'Touches Def Pen', 'Touches Def 3rd', 'Touches Mid 3rd', 'Touches Att 3rd', 'Touches Att Pen', 'Touches Live', 'Take-Ons Att', 'Take-Ons Succ', 'Take-Ons Tkld', 'Carries Carries', 'Carries TotDist', 'Carries PrgDist', 'Carries PrgC', 'Carries 1/3', 'Carries CPA', 'Carries Mis', 'Carries Dis', 'Receiving Rec', 'Receiving PrgR']],\n",
    "          df6[['Standard Gls', 'Standard Sh', 'Standard SoT','Standard Sh/90', 'Standard SoT/90', 'Standard G/Sh', 'Standard G/SoT', 'Standard Dist', 'Standard FK', 'Standard PK', 'Standard PKatt', 'Expected xG', 'Expected npxG', 'Expected npxG/Sh', 'Expected G-xG', 'Expected np:G-xG']]]\n",
    "players = pd.concat(frames, axis=1)"
   ]
  },
  {
   "cell_type": "code",
   "execution_count": 101,
   "metadata": {},
   "outputs": [],
   "source": [
    "url = 'https://raw.githubusercontent.com/sambuddharay/FinalYearProject/main/scrapping/data/La-Liga-Stats/2020-2021/player/La-Liga-Stats-2020-2021-keepers-player.csv'\n",
    "df7 = pd.read_csv(url)\n",
    "url = 'https://raw.githubusercontent.com/sambuddharay/FinalYearProject/main/scrapping/data/La-Liga-Stats/2020-2021/player/La-Liga-Stats-2020-2021-keepersadv-player.csv'\n",
    "df8 = pd.read_csv(url)"
   ]
  },
  {
   "cell_type": "code",
   "execution_count": 102,
   "metadata": {},
   "outputs": [],
   "source": [
    "df7=df7[df7['Playing Time 90s']>0]\n",
    "df8=df8[df8['90s']>0]\n",
    "frames = [df7[['Player', 'Performance GA', 'Performance GA90', 'Performance SoTA', 'Performance Saves', 'Performance Save%', 'Performance W', 'Performance D', 'Performance L', 'Performance CS', 'Performance CS%', 'Penalty Kicks PKatt', 'Penalty Kicks PKA', 'Penalty Kicks PKsv', 'Penalty Kicks PKm']],\n",
    "          df8[['Goals GA', 'Goals PKA', 'Goals FK', 'Goals CK', 'Goals OG', 'Expected PSxG', 'Expected PSxG/SoT', 'Expected PSxG+/-', 'Expected /90', 'Launched Cmp', 'Launched Att', 'Launched Cmp%', 'Passes Att (GK)', 'Passes Thr', 'Passes Launch%', 'Passes AvgLen', 'Goal Kicks Att', 'Goal Kicks Launch%', 'Goal Kicks AvgLen', 'Crosses Opp', 'Crosses Stp', 'Crosses Stp%', 'Sweeper #OPA', 'Sweeper #OPA/90', 'Sweeper AvgDist']]]\n",
    "goalkeepers = pd.concat(frames, axis=1)"
   ]
  },
  {
   "cell_type": "code",
   "execution_count": 103,
   "metadata": {},
   "outputs": [],
   "source": [
    "players = players.replace(np.nan, 0)\n",
    "goalkeepers = goalkeepers.replace(np.nan, 0)\n",
    "utils.append_X_train(X_train, players, goalkeepers)"
   ]
  },
  {
   "cell_type": "code",
   "execution_count": 104,
   "metadata": {},
   "outputs": [],
   "source": [
    "url = 'https://raw.githubusercontent.com/sambuddharay/FinalYearProject/main/scrapping/data/La-Liga-Stats/2021-2022/player/La-Liga-Stats-2021-2022-defense-player.csv'\n",
    "df1 = pd.read_csv(url)\n",
    "url = 'https://raw.githubusercontent.com/sambuddharay/FinalYearProject/main/scrapping/data/La-Liga-Stats/2021-2022/player/La-Liga-Stats-2021-2022-gca-player.csv'\n",
    "df2 = pd.read_csv(url)\n",
    "url = 'https://raw.githubusercontent.com/sambuddharay/FinalYearProject/main/scrapping/data/La-Liga-Stats/2021-2022/player/La-Liga-Stats-2021-2022-misc-player.csv'\n",
    "df3 = pd.read_csv(url)\n",
    "url = 'https://raw.githubusercontent.com/sambuddharay/FinalYearProject/main/scrapping/data/La-Liga-Stats/2021-2022/player/La-Liga-Stats-2021-2022-passing-player.csv'\n",
    "df4 = pd.read_csv(url)\n",
    "url = 'https://raw.githubusercontent.com/sambuddharay/FinalYearProject/main/scrapping/data/La-Liga-Stats/2021-2022/player/La-Liga-Stats-2021-2022-possession-player.csv'\n",
    "df5 = pd.read_csv(url)\n",
    "url = 'https://raw.githubusercontent.com/sambuddharay/FinalYearProject/main/scrapping/data/La-Liga-Stats/2021-2022/player/La-Liga-Stats-2021-2022-shooting-player.csv'\n",
    "df6 = pd.read_csv(url)"
   ]
  },
  {
   "cell_type": "code",
   "execution_count": 105,
   "metadata": {},
   "outputs": [],
   "source": [
    "frames = [df1[['Player', 'Nation', 'Pos', 'Squad', 'Born', '90s', 'Tackles Tkl', 'Tackles TklW', 'Tackles Def 3rd', 'Tackles Mid 3rd', 'Tackles Att 3rd', 'Challenges Tkl', 'Challenges Att', 'Challenges Lost', 'Blocks Blocks', 'Blocks Sh', 'Blocks Pass', 'Int', 'Tkl+Int', 'Clr', 'Err']],\n",
    "          df2[['SCA SCA', 'SCA SCA90', 'SCA Types PassLive', 'SCA Types PassDead', 'SCA Types TO', 'SCA Types Sh', 'SCA Types Fld', 'SCA Types Def', 'GCA GCA', 'GCA GCA90', 'GCA Types PassLive', 'GCA Types PassDead', 'GCA Types TO', 'GCA Types Sh', 'GCA Types Fld', 'GCA Types Def']],\n",
    "          df3[['Performance CrdY', 'Performance CrdR', 'Performance 2CrdY', 'Performance Fls', 'Performance Fld', 'Performance Off', 'Performance Crs', 'Performance Int', 'Performance TklW', 'Performance PKwon', 'Performance PKcon', 'Performance OG', 'Performance Recov', 'Aerial Duels Won', 'Aerial Duels Lost']],\n",
    "          df4[['Total Cmp', 'Total Att', 'Total Cmp%', 'Total TotDist', 'Total PrgDist', 'Short Cmp', 'Short Att', 'Medium Cmp', 'Medium Att', 'Long Cmp', 'Long Att', 'Ast', 'xAG', 'Expected xA', 'Expected A-xAG', 'KP', '1/3', 'PPA', 'CrsPA', 'PrgP']],\n",
    "          df5[['Touches Touches', 'Touches Def Pen', 'Touches Def 3rd', 'Touches Mid 3rd', 'Touches Att 3rd', 'Touches Att Pen', 'Touches Live', 'Take-Ons Att', 'Take-Ons Succ', 'Take-Ons Tkld', 'Carries Carries', 'Carries TotDist', 'Carries PrgDist', 'Carries PrgC', 'Carries 1/3', 'Carries CPA', 'Carries Mis', 'Carries Dis', 'Receiving Rec', 'Receiving PrgR']],\n",
    "          df6[['Standard Gls', 'Standard Sh', 'Standard SoT','Standard Sh/90', 'Standard SoT/90', 'Standard G/Sh', 'Standard G/SoT', 'Standard Dist', 'Standard FK', 'Standard PK', 'Standard PKatt', 'Expected xG', 'Expected npxG', 'Expected npxG/Sh', 'Expected G-xG', 'Expected np:G-xG']]]\n",
    "players = pd.concat(frames, axis=1)"
   ]
  },
  {
   "cell_type": "code",
   "execution_count": 106,
   "metadata": {},
   "outputs": [],
   "source": [
    "url = 'https://raw.githubusercontent.com/sambuddharay/FinalYearProject/main/scrapping/data/La-Liga-Stats/2021-2022/player/La-Liga-Stats-2021-2022-keepers-player.csv'\n",
    "df7 = pd.read_csv(url)\n",
    "url = 'https://raw.githubusercontent.com/sambuddharay/FinalYearProject/main/scrapping/data/La-Liga-Stats/2021-2022/player/La-Liga-Stats-2021-2022-keepersadv-player.csv'\n",
    "df8 = pd.read_csv(url)"
   ]
  },
  {
   "cell_type": "code",
   "execution_count": 107,
   "metadata": {},
   "outputs": [],
   "source": [
    "df7=df7[df7['Playing Time 90s']>0]\n",
    "df8=df8[df8['90s']>0]\n",
    "frames = [df7[['Player', 'Performance GA', 'Performance GA90', 'Performance SoTA', 'Performance Saves', 'Performance Save%', 'Performance W', 'Performance D', 'Performance L', 'Performance CS', 'Performance CS%', 'Penalty Kicks PKatt', 'Penalty Kicks PKA', 'Penalty Kicks PKsv', 'Penalty Kicks PKm']],\n",
    "          df8[['Goals GA', 'Goals PKA', 'Goals FK', 'Goals CK', 'Goals OG', 'Expected PSxG', 'Expected PSxG/SoT', 'Expected PSxG+/-', 'Expected /90', 'Launched Cmp', 'Launched Att', 'Launched Cmp%', 'Passes Att (GK)', 'Passes Thr', 'Passes Launch%', 'Passes AvgLen', 'Goal Kicks Att', 'Goal Kicks Launch%', 'Goal Kicks AvgLen', 'Crosses Opp', 'Crosses Stp', 'Crosses Stp%', 'Sweeper #OPA', 'Sweeper #OPA/90', 'Sweeper AvgDist']]]\n",
    "goalkeepers = pd.concat(frames, axis=1)"
   ]
  },
  {
   "cell_type": "code",
   "execution_count": 108,
   "metadata": {},
   "outputs": [],
   "source": [
    "players = players.replace(np.nan, 0)\n",
    "goalkeepers = goalkeepers.replace(np.nan, 0)\n",
    "utils.append_X_train(X_train, players, goalkeepers)"
   ]
  },
  {
   "cell_type": "code",
   "execution_count": 109,
   "metadata": {},
   "outputs": [],
   "source": [
    "url = 'https://raw.githubusercontent.com/sambuddharay/FinalYearProject/main/scrapping/data/La-Liga-Stats/2022-2023/player/La-Liga-Stats-2022-2023-defense-player.csv'\n",
    "df1 = pd.read_csv(url)\n",
    "url = 'https://raw.githubusercontent.com/sambuddharay/FinalYearProject/main/scrapping/data/La-Liga-Stats/2022-2023/player/La-Liga-Stats-2022-2023-gca-player.csv'\n",
    "df2 = pd.read_csv(url)\n",
    "url = 'https://raw.githubusercontent.com/sambuddharay/FinalYearProject/main/scrapping/data/La-Liga-Stats/2022-2023/player/La-Liga-Stats-2022-2023-misc-player.csv'\n",
    "df3 = pd.read_csv(url)\n",
    "url = 'https://raw.githubusercontent.com/sambuddharay/FinalYearProject/main/scrapping/data/La-Liga-Stats/2022-2023/player/La-Liga-Stats-2022-2023-passing-player.csv'\n",
    "df4 = pd.read_csv(url)\n",
    "url = 'https://raw.githubusercontent.com/sambuddharay/FinalYearProject/main/scrapping/data/La-Liga-Stats/2022-2023/player/La-Liga-Stats-2022-2023-possession-player.csv'\n",
    "df5 = pd.read_csv(url)\n",
    "url = 'https://raw.githubusercontent.com/sambuddharay/FinalYearProject/main/scrapping/data/La-Liga-Stats/2022-2023/player/La-Liga-Stats-2022-2023-shooting-player.csv'\n",
    "df6 = pd.read_csv(url)"
   ]
  },
  {
   "cell_type": "code",
   "execution_count": 110,
   "metadata": {},
   "outputs": [],
   "source": [
    "frames = [df1[['Player', 'Nation', 'Pos', 'Squad', 'Born', '90s', 'Tackles Tkl', 'Tackles TklW', 'Tackles Def 3rd', 'Tackles Mid 3rd', 'Tackles Att 3rd', 'Challenges Tkl', 'Challenges Att', 'Challenges Lost', 'Blocks Blocks', 'Blocks Sh', 'Blocks Pass', 'Int', 'Tkl+Int', 'Clr', 'Err']],\n",
    "          df2[['SCA SCA', 'SCA SCA90', 'SCA Types PassLive', 'SCA Types PassDead', 'SCA Types TO', 'SCA Types Sh', 'SCA Types Fld', 'SCA Types Def', 'GCA GCA', 'GCA GCA90', 'GCA Types PassLive', 'GCA Types PassDead', 'GCA Types TO', 'GCA Types Sh', 'GCA Types Fld', 'GCA Types Def']],\n",
    "          df3[['Performance CrdY', 'Performance CrdR', 'Performance 2CrdY', 'Performance Fls', 'Performance Fld', 'Performance Off', 'Performance Crs', 'Performance Int', 'Performance TklW', 'Performance PKwon', 'Performance PKcon', 'Performance OG', 'Performance Recov', 'Aerial Duels Won', 'Aerial Duels Lost']],\n",
    "          df4[['Total Cmp', 'Total Att', 'Total Cmp%', 'Total TotDist', 'Total PrgDist', 'Short Cmp', 'Short Att', 'Medium Cmp', 'Medium Att', 'Long Cmp', 'Long Att', 'Ast', 'xAG', 'Expected xA', 'Expected A-xAG', 'KP', '1/3', 'PPA', 'CrsPA', 'PrgP']],\n",
    "          df5[['Touches Touches', 'Touches Def Pen', 'Touches Def 3rd', 'Touches Mid 3rd', 'Touches Att 3rd', 'Touches Att Pen', 'Touches Live', 'Take-Ons Att', 'Take-Ons Succ', 'Take-Ons Tkld', 'Carries Carries', 'Carries TotDist', 'Carries PrgDist', 'Carries PrgC', 'Carries 1/3', 'Carries CPA', 'Carries Mis', 'Carries Dis', 'Receiving Rec', 'Receiving PrgR']],\n",
    "          df6[['Standard Gls', 'Standard Sh', 'Standard SoT','Standard Sh/90', 'Standard SoT/90', 'Standard G/Sh', 'Standard G/SoT', 'Standard Dist', 'Standard FK', 'Standard PK', 'Standard PKatt', 'Expected xG', 'Expected npxG', 'Expected npxG/Sh', 'Expected G-xG', 'Expected np:G-xG']]]\n",
    "players = pd.concat(frames, axis=1)"
   ]
  },
  {
   "cell_type": "code",
   "execution_count": 111,
   "metadata": {},
   "outputs": [],
   "source": [
    "url = 'https://raw.githubusercontent.com/sambuddharay/FinalYearProject/main/scrapping/data/La-Liga-Stats/2022-2023/player/La-Liga-Stats-2022-2023-keepers-player.csv'\n",
    "df7 = pd.read_csv(url)\n",
    "url = 'https://raw.githubusercontent.com/sambuddharay/FinalYearProject/main/scrapping/data/La-Liga-Stats/2022-2023/player/La-Liga-Stats-2022-2023-keepersadv-player.csv'\n",
    "df8 = pd.read_csv(url)"
   ]
  },
  {
   "cell_type": "code",
   "execution_count": 112,
   "metadata": {},
   "outputs": [],
   "source": [
    "df7=df7[df7['Playing Time 90s']>0]\n",
    "df8=df8[df8['90s']>0]\n",
    "frames = [df7[['Player', 'Performance GA', 'Performance GA90', 'Performance SoTA', 'Performance Saves', 'Performance Save%', 'Performance W', 'Performance D', 'Performance L', 'Performance CS', 'Performance CS%', 'Penalty Kicks PKatt', 'Penalty Kicks PKA', 'Penalty Kicks PKsv', 'Penalty Kicks PKm']],\n",
    "          df8[['Goals GA', 'Goals PKA', 'Goals FK', 'Goals CK', 'Goals OG', 'Expected PSxG', 'Expected PSxG/SoT', 'Expected PSxG+/-', 'Expected /90', 'Launched Cmp', 'Launched Att', 'Launched Cmp%', 'Passes Att (GK)', 'Passes Thr', 'Passes Launch%', 'Passes AvgLen', 'Goal Kicks Att', 'Goal Kicks Launch%', 'Goal Kicks AvgLen', 'Crosses Opp', 'Crosses Stp', 'Crosses Stp%', 'Sweeper #OPA', 'Sweeper #OPA/90', 'Sweeper AvgDist']]]\n",
    "goalkeepers = pd.concat(frames, axis=1)"
   ]
  },
  {
   "cell_type": "code",
   "execution_count": 113,
   "metadata": {},
   "outputs": [],
   "source": [
    "players = players.replace(np.nan, 0)\n",
    "goalkeepers = goalkeepers.replace(np.nan, 0)\n",
    "utils.append_X_train(X_train, players, goalkeepers)"
   ]
  },
  {
   "cell_type": "code",
   "execution_count": 114,
   "metadata": {},
   "outputs": [],
   "source": [
    "url = 'https://raw.githubusercontent.com/sambuddharay/FinalYearProject/main/scrapping/data/Ligue-1-Stats/2018-2019/player/Ligue-1-Stats-2018-2019-defense-player.csv'\n",
    "df1 = pd.read_csv(url)\n",
    "url = 'https://raw.githubusercontent.com/sambuddharay/FinalYearProject/main/scrapping/data/Ligue-1-Stats/2018-2019/player/Ligue-1-Stats-2018-2019-gca-player.csv'\n",
    "df2 = pd.read_csv(url)\n",
    "url = 'https://raw.githubusercontent.com/sambuddharay/FinalYearProject/main/scrapping/data/Ligue-1-Stats/2018-2019/player/Ligue-1-Stats-2018-2019-misc-player.csv'\n",
    "df3 = pd.read_csv(url)\n",
    "url = 'https://raw.githubusercontent.com/sambuddharay/FinalYearProject/main/scrapping/data/Ligue-1-Stats/2018-2019/player/Ligue-1-Stats-2018-2019-passing-player.csv'\n",
    "df4 = pd.read_csv(url)\n",
    "url = 'https://raw.githubusercontent.com/sambuddharay/FinalYearProject/main/scrapping/data/Ligue-1-Stats/2018-2019/player/Ligue-1-Stats-2018-2019-possession-player.csv'\n",
    "df5 = pd.read_csv(url)\n",
    "url = 'https://raw.githubusercontent.com/sambuddharay/FinalYearProject/main/scrapping/data/Ligue-1-Stats/2018-2019/player/Ligue-1-Stats-2018-2019-shooting-player.csv'\n",
    "df6 = pd.read_csv(url)"
   ]
  },
  {
   "cell_type": "code",
   "execution_count": 115,
   "metadata": {},
   "outputs": [],
   "source": [
    "frames = [df1[['Player', 'Nation', 'Pos', 'Squad', 'Born', '90s', 'Tackles Tkl', 'Tackles TklW', 'Tackles Def 3rd', 'Tackles Mid 3rd', 'Tackles Att 3rd', 'Challenges Tkl', 'Challenges Att', 'Challenges Lost', 'Blocks Blocks', 'Blocks Sh', 'Blocks Pass', 'Int', 'Tkl+Int', 'Clr', 'Err']],\n",
    "          df2[['SCA SCA', 'SCA SCA90', 'SCA Types PassLive', 'SCA Types PassDead', 'SCA Types TO', 'SCA Types Sh', 'SCA Types Fld', 'SCA Types Def', 'GCA GCA', 'GCA GCA90', 'GCA Types PassLive', 'GCA Types PassDead', 'GCA Types TO', 'GCA Types Sh', 'GCA Types Fld', 'GCA Types Def']],\n",
    "          df3[['Performance CrdY', 'Performance CrdR', 'Performance 2CrdY', 'Performance Fls', 'Performance Fld', 'Performance Off', 'Performance Crs', 'Performance Int', 'Performance TklW', 'Performance PKwon', 'Performance PKcon', 'Performance OG', 'Performance Recov', 'Aerial Duels Won', 'Aerial Duels Lost']],\n",
    "          df4[['Total Cmp', 'Total Att', 'Total Cmp%', 'Total TotDist', 'Total PrgDist', 'Short Cmp', 'Short Att', 'Medium Cmp', 'Medium Att', 'Long Cmp', 'Long Att', 'Ast', 'xAG', 'Expected xA', 'Expected A-xAG', 'KP', '1/3', 'PPA', 'CrsPA', 'PrgP']],\n",
    "          df5[['Touches Touches', 'Touches Def Pen', 'Touches Def 3rd', 'Touches Mid 3rd', 'Touches Att 3rd', 'Touches Att Pen', 'Touches Live', 'Take-Ons Att', 'Take-Ons Succ', 'Take-Ons Tkld', 'Carries Carries', 'Carries TotDist', 'Carries PrgDist', 'Carries PrgC', 'Carries 1/3', 'Carries CPA', 'Carries Mis', 'Carries Dis', 'Receiving Rec', 'Receiving PrgR']],\n",
    "          df6[['Standard Gls', 'Standard Sh', 'Standard SoT','Standard Sh/90', 'Standard SoT/90', 'Standard G/Sh', 'Standard G/SoT', 'Standard Dist', 'Standard FK', 'Standard PK', 'Standard PKatt', 'Expected xG', 'Expected npxG', 'Expected npxG/Sh', 'Expected G-xG', 'Expected np:G-xG']]]\n",
    "players = pd.concat(frames, axis=1)"
   ]
  },
  {
   "cell_type": "code",
   "execution_count": 116,
   "metadata": {},
   "outputs": [],
   "source": [
    "url = 'https://raw.githubusercontent.com/sambuddharay/FinalYearProject/main/scrapping/data/Ligue-1-Stats/2018-2019/player/Ligue-1-Stats-2018-2019-keepers-player.csv'\n",
    "df7 = pd.read_csv(url)\n",
    "url = 'https://raw.githubusercontent.com/sambuddharay/FinalYearProject/main/scrapping/data/Ligue-1-Stats/2018-2019/player/Ligue-1-Stats-2018-2019-keepersadv-player.csv'\n",
    "df8 = pd.read_csv(url)"
   ]
  },
  {
   "cell_type": "code",
   "execution_count": 117,
   "metadata": {},
   "outputs": [],
   "source": [
    "df7=df7[df7['Playing Time 90s']>0]\n",
    "df8=df8[df8['90s']>0]\n",
    "frames = [df7[['Player', 'Performance GA', 'Performance GA90', 'Performance SoTA', 'Performance Saves', 'Performance Save%', 'Performance W', 'Performance D', 'Performance L', 'Performance CS', 'Performance CS%', 'Penalty Kicks PKatt', 'Penalty Kicks PKA', 'Penalty Kicks PKsv', 'Penalty Kicks PKm']],\n",
    "          df8[['Goals GA', 'Goals PKA', 'Goals FK', 'Goals CK', 'Goals OG', 'Expected PSxG', 'Expected PSxG/SoT', 'Expected PSxG+/-', 'Expected /90', 'Launched Cmp', 'Launched Att', 'Launched Cmp%', 'Passes Att (GK)', 'Passes Thr', 'Passes Launch%', 'Passes AvgLen', 'Goal Kicks Att', 'Goal Kicks Launch%', 'Goal Kicks AvgLen', 'Crosses Opp', 'Crosses Stp', 'Crosses Stp%', 'Sweeper #OPA', 'Sweeper #OPA/90', 'Sweeper AvgDist']]]\n",
    "goalkeepers = pd.concat(frames, axis=1)"
   ]
  },
  {
   "cell_type": "code",
   "execution_count": 118,
   "metadata": {},
   "outputs": [],
   "source": [
    "players = players.replace(np.nan, 0)\n",
    "goalkeepers = goalkeepers.replace(np.nan, 0)\n",
    "utils.append_X_train(X_train, players, goalkeepers)"
   ]
  },
  {
   "cell_type": "code",
   "execution_count": 119,
   "metadata": {},
   "outputs": [],
   "source": [
    "url = 'https://raw.githubusercontent.com/sambuddharay/FinalYearProject/main/scrapping/data/Ligue-1-Stats/2019-2020/player/Ligue-1-Stats-2019-2020-defense-player.csv'\n",
    "df1 = pd.read_csv(url)\n",
    "url = 'https://raw.githubusercontent.com/sambuddharay/FinalYearProject/main/scrapping/data/Ligue-1-Stats/2019-2020/player/Ligue-1-Stats-2019-2020-gca-player.csv'\n",
    "df2 = pd.read_csv(url)\n",
    "url = 'https://raw.githubusercontent.com/sambuddharay/FinalYearProject/main/scrapping/data/Ligue-1-Stats/2019-2020/player/Ligue-1-Stats-2019-2020-misc-player.csv'\n",
    "df3 = pd.read_csv(url)\n",
    "url = 'https://raw.githubusercontent.com/sambuddharay/FinalYearProject/main/scrapping/data/Ligue-1-Stats/2019-2020/player/Ligue-1-Stats-2019-2020-passing-player.csv'\n",
    "df4 = pd.read_csv(url)\n",
    "url = 'https://raw.githubusercontent.com/sambuddharay/FinalYearProject/main/scrapping/data/Ligue-1-Stats/2019-2020/player/Ligue-1-Stats-2019-2020-possession-player.csv'\n",
    "df5 = pd.read_csv(url)\n",
    "url = 'https://raw.githubusercontent.com/sambuddharay/FinalYearProject/main/scrapping/data/Ligue-1-Stats/2019-2020/player/Ligue-1-Stats-2019-2020-shooting-player.csv'\n",
    "df6 = pd.read_csv(url)"
   ]
  },
  {
   "cell_type": "code",
   "execution_count": 120,
   "metadata": {},
   "outputs": [],
   "source": [
    "frames = [df1[['Player', 'Nation', 'Pos', 'Squad', 'Born', '90s', 'Tackles Tkl', 'Tackles TklW', 'Tackles Def 3rd', 'Tackles Mid 3rd', 'Tackles Att 3rd', 'Challenges Tkl', 'Challenges Att', 'Challenges Lost', 'Blocks Blocks', 'Blocks Sh', 'Blocks Pass', 'Int', 'Tkl+Int', 'Clr', 'Err']],\n",
    "          df2[['SCA SCA', 'SCA SCA90', 'SCA Types PassLive', 'SCA Types PassDead', 'SCA Types TO', 'SCA Types Sh', 'SCA Types Fld', 'SCA Types Def', 'GCA GCA', 'GCA GCA90', 'GCA Types PassLive', 'GCA Types PassDead', 'GCA Types TO', 'GCA Types Sh', 'GCA Types Fld', 'GCA Types Def']],\n",
    "          df3[['Performance CrdY', 'Performance CrdR', 'Performance 2CrdY', 'Performance Fls', 'Performance Fld', 'Performance Off', 'Performance Crs', 'Performance Int', 'Performance TklW', 'Performance PKwon', 'Performance PKcon', 'Performance OG', 'Performance Recov', 'Aerial Duels Won', 'Aerial Duels Lost']],\n",
    "          df4[['Total Cmp', 'Total Att', 'Total Cmp%', 'Total TotDist', 'Total PrgDist', 'Short Cmp', 'Short Att', 'Medium Cmp', 'Medium Att', 'Long Cmp', 'Long Att', 'Ast', 'xAG', 'Expected xA', 'Expected A-xAG', 'KP', '1/3', 'PPA', 'CrsPA', 'PrgP']],\n",
    "          df5[['Touches Touches', 'Touches Def Pen', 'Touches Def 3rd', 'Touches Mid 3rd', 'Touches Att 3rd', 'Touches Att Pen', 'Touches Live', 'Take-Ons Att', 'Take-Ons Succ', 'Take-Ons Tkld', 'Carries Carries', 'Carries TotDist', 'Carries PrgDist', 'Carries PrgC', 'Carries 1/3', 'Carries CPA', 'Carries Mis', 'Carries Dis', 'Receiving Rec', 'Receiving PrgR']],\n",
    "          df6[['Standard Gls', 'Standard Sh', 'Standard SoT','Standard Sh/90', 'Standard SoT/90', 'Standard G/Sh', 'Standard G/SoT', 'Standard Dist', 'Standard FK', 'Standard PK', 'Standard PKatt', 'Expected xG', 'Expected npxG', 'Expected npxG/Sh', 'Expected G-xG', 'Expected np:G-xG']]]\n",
    "players = pd.concat(frames, axis=1)"
   ]
  },
  {
   "cell_type": "code",
   "execution_count": 121,
   "metadata": {},
   "outputs": [],
   "source": [
    "url = 'https://raw.githubusercontent.com/sambuddharay/FinalYearProject/main/scrapping/data/Ligue-1-Stats/2019-2020/player/Ligue-1-Stats-2019-2020-keepers-player.csv'\n",
    "df7 = pd.read_csv(url)\n",
    "url = 'https://raw.githubusercontent.com/sambuddharay/FinalYearProject/main/scrapping/data/Ligue-1-Stats/2019-2020/player/Ligue-1-Stats-2019-2020-keepersadv-player.csv'\n",
    "df8 = pd.read_csv(url)"
   ]
  },
  {
   "cell_type": "code",
   "execution_count": 122,
   "metadata": {},
   "outputs": [],
   "source": [
    "df7=df7[df7['Playing Time 90s']>0]\n",
    "df8=df8[df8['90s']>0]\n",
    "frames = [df7[['Player', 'Performance GA', 'Performance GA90', 'Performance SoTA', 'Performance Saves', 'Performance Save%', 'Performance W', 'Performance D', 'Performance L', 'Performance CS', 'Performance CS%', 'Penalty Kicks PKatt', 'Penalty Kicks PKA', 'Penalty Kicks PKsv', 'Penalty Kicks PKm']],\n",
    "          df8[['Goals GA', 'Goals PKA', 'Goals FK', 'Goals CK', 'Goals OG', 'Expected PSxG', 'Expected PSxG/SoT', 'Expected PSxG+/-', 'Expected /90', 'Launched Cmp', 'Launched Att', 'Launched Cmp%', 'Passes Att (GK)', 'Passes Thr', 'Passes Launch%', 'Passes AvgLen', 'Goal Kicks Att', 'Goal Kicks Launch%', 'Goal Kicks AvgLen', 'Crosses Opp', 'Crosses Stp', 'Crosses Stp%', 'Sweeper #OPA', 'Sweeper #OPA/90', 'Sweeper AvgDist']]]\n",
    "goalkeepers = pd.concat(frames, axis=1)"
   ]
  },
  {
   "cell_type": "code",
   "execution_count": 123,
   "metadata": {},
   "outputs": [],
   "source": [
    "players = players.replace(np.nan, 0)\n",
    "goalkeepers = goalkeepers.replace(np.nan, 0)\n",
    "utils.append_X_train(X_train, players, goalkeepers)"
   ]
  },
  {
   "cell_type": "code",
   "execution_count": 124,
   "metadata": {},
   "outputs": [],
   "source": [
    "url = 'https://raw.githubusercontent.com/sambuddharay/FinalYearProject/main/scrapping/data/Ligue-1-Stats/2020-2021/player/Ligue-1-Stats-2020-2021-defense-player.csv'\n",
    "df1 = pd.read_csv(url)\n",
    "url = 'https://raw.githubusercontent.com/sambuddharay/FinalYearProject/main/scrapping/data/Ligue-1-Stats/2020-2021/player/Ligue-1-Stats-2020-2021-gca-player.csv'\n",
    "df2 = pd.read_csv(url)\n",
    "url = 'https://raw.githubusercontent.com/sambuddharay/FinalYearProject/main/scrapping/data/Ligue-1-Stats/2020-2021/player/Ligue-1-Stats-2020-2021-misc-player.csv'\n",
    "df3 = pd.read_csv(url)\n",
    "url = 'https://raw.githubusercontent.com/sambuddharay/FinalYearProject/main/scrapping/data/Ligue-1-Stats/2020-2021/player/Ligue-1-Stats-2020-2021-passing-player.csv'\n",
    "df4 = pd.read_csv(url)\n",
    "url = 'https://raw.githubusercontent.com/sambuddharay/FinalYearProject/main/scrapping/data/Ligue-1-Stats/2020-2021/player/Ligue-1-Stats-2020-2021-possession-player.csv'\n",
    "df5 = pd.read_csv(url)\n",
    "url = 'https://raw.githubusercontent.com/sambuddharay/FinalYearProject/main/scrapping/data/Ligue-1-Stats/2020-2021/player/Ligue-1-Stats-2020-2021-shooting-player.csv'\n",
    "df6 = pd.read_csv(url)"
   ]
  },
  {
   "cell_type": "code",
   "execution_count": 125,
   "metadata": {},
   "outputs": [],
   "source": [
    "frames = [df1[['Player', 'Nation', 'Pos', 'Squad', 'Born', '90s', 'Tackles Tkl', 'Tackles TklW', 'Tackles Def 3rd', 'Tackles Mid 3rd', 'Tackles Att 3rd', 'Challenges Tkl', 'Challenges Att', 'Challenges Lost', 'Blocks Blocks', 'Blocks Sh', 'Blocks Pass', 'Int', 'Tkl+Int', 'Clr', 'Err']],\n",
    "          df2[['SCA SCA', 'SCA SCA90', 'SCA Types PassLive', 'SCA Types PassDead', 'SCA Types TO', 'SCA Types Sh', 'SCA Types Fld', 'SCA Types Def', 'GCA GCA', 'GCA GCA90', 'GCA Types PassLive', 'GCA Types PassDead', 'GCA Types TO', 'GCA Types Sh', 'GCA Types Fld', 'GCA Types Def']],\n",
    "          df3[['Performance CrdY', 'Performance CrdR', 'Performance 2CrdY', 'Performance Fls', 'Performance Fld', 'Performance Off', 'Performance Crs', 'Performance Int', 'Performance TklW', 'Performance PKwon', 'Performance PKcon', 'Performance OG', 'Performance Recov', 'Aerial Duels Won', 'Aerial Duels Lost']],\n",
    "          df4[['Total Cmp', 'Total Att', 'Total Cmp%', 'Total TotDist', 'Total PrgDist', 'Short Cmp', 'Short Att', 'Medium Cmp', 'Medium Att', 'Long Cmp', 'Long Att', 'Ast', 'xAG', 'Expected xA', 'Expected A-xAG', 'KP', '1/3', 'PPA', 'CrsPA', 'PrgP']],\n",
    "          df5[['Touches Touches', 'Touches Def Pen', 'Touches Def 3rd', 'Touches Mid 3rd', 'Touches Att 3rd', 'Touches Att Pen', 'Touches Live', 'Take-Ons Att', 'Take-Ons Succ', 'Take-Ons Tkld', 'Carries Carries', 'Carries TotDist', 'Carries PrgDist', 'Carries PrgC', 'Carries 1/3', 'Carries CPA', 'Carries Mis', 'Carries Dis', 'Receiving Rec', 'Receiving PrgR']],\n",
    "          df6[['Standard Gls', 'Standard Sh', 'Standard SoT','Standard Sh/90', 'Standard SoT/90', 'Standard G/Sh', 'Standard G/SoT', 'Standard Dist', 'Standard FK', 'Standard PK', 'Standard PKatt', 'Expected xG', 'Expected npxG', 'Expected npxG/Sh', 'Expected G-xG', 'Expected np:G-xG']]]\n",
    "players = pd.concat(frames, axis=1)"
   ]
  },
  {
   "cell_type": "code",
   "execution_count": 126,
   "metadata": {},
   "outputs": [],
   "source": [
    "url = 'https://raw.githubusercontent.com/sambuddharay/FinalYearProject/main/scrapping/data/Ligue-1-Stats/2020-2021/player/Ligue-1-Stats-2020-2021-keepers-player.csv'\n",
    "df7 = pd.read_csv(url)\n",
    "url = 'https://raw.githubusercontent.com/sambuddharay/FinalYearProject/main/scrapping/data/Ligue-1-Stats/2020-2021/player/Ligue-1-Stats-2020-2021-keepersadv-player.csv'\n",
    "df8 = pd.read_csv(url)"
   ]
  },
  {
   "cell_type": "code",
   "execution_count": 127,
   "metadata": {},
   "outputs": [],
   "source": [
    "df7=df7[df7['Playing Time 90s']>0]\n",
    "df8=df8[df8['90s']>0]\n",
    "frames = [df7[['Player', 'Performance GA', 'Performance GA90', 'Performance SoTA', 'Performance Saves', 'Performance Save%', 'Performance W', 'Performance D', 'Performance L', 'Performance CS', 'Performance CS%', 'Penalty Kicks PKatt', 'Penalty Kicks PKA', 'Penalty Kicks PKsv', 'Penalty Kicks PKm']],\n",
    "          df8[['Goals GA', 'Goals PKA', 'Goals FK', 'Goals CK', 'Goals OG', 'Expected PSxG', 'Expected PSxG/SoT', 'Expected PSxG+/-', 'Expected /90', 'Launched Cmp', 'Launched Att', 'Launched Cmp%', 'Passes Att (GK)', 'Passes Thr', 'Passes Launch%', 'Passes AvgLen', 'Goal Kicks Att', 'Goal Kicks Launch%', 'Goal Kicks AvgLen', 'Crosses Opp', 'Crosses Stp', 'Crosses Stp%', 'Sweeper #OPA', 'Sweeper #OPA/90', 'Sweeper AvgDist']]]\n",
    "goalkeepers = pd.concat(frames, axis=1)"
   ]
  },
  {
   "cell_type": "code",
   "execution_count": 128,
   "metadata": {},
   "outputs": [],
   "source": [
    "players = players.replace(np.nan, 0)\n",
    "goalkeepers = goalkeepers.replace(np.nan, 0)\n",
    "utils.append_X_train(X_train, players, goalkeepers)"
   ]
  },
  {
   "cell_type": "code",
   "execution_count": 129,
   "metadata": {},
   "outputs": [],
   "source": [
    "url = 'https://raw.githubusercontent.com/sambuddharay/FinalYearProject/main/scrapping/data/Ligue-1-Stats/2021-2022/player/Ligue-1-Stats-2021-2022-defense-player.csv'\n",
    "df1 = pd.read_csv(url)\n",
    "url = 'https://raw.githubusercontent.com/sambuddharay/FinalYearProject/main/scrapping/data/Ligue-1-Stats/2021-2022/player/Ligue-1-Stats-2021-2022-gca-player.csv'\n",
    "df2 = pd.read_csv(url)\n",
    "url = 'https://raw.githubusercontent.com/sambuddharay/FinalYearProject/main/scrapping/data/Ligue-1-Stats/2021-2022/player/Ligue-1-Stats-2021-2022-misc-player.csv'\n",
    "df3 = pd.read_csv(url)\n",
    "url = 'https://raw.githubusercontent.com/sambuddharay/FinalYearProject/main/scrapping/data/Ligue-1-Stats/2021-2022/player/Ligue-1-Stats-2021-2022-passing-player.csv'\n",
    "df4 = pd.read_csv(url)\n",
    "url = 'https://raw.githubusercontent.com/sambuddharay/FinalYearProject/main/scrapping/data/Ligue-1-Stats/2021-2022/player/Ligue-1-Stats-2021-2022-possession-player.csv'\n",
    "df5 = pd.read_csv(url)\n",
    "url = 'https://raw.githubusercontent.com/sambuddharay/FinalYearProject/main/scrapping/data/Ligue-1-Stats/2021-2022/player/Ligue-1-Stats-2021-2022-shooting-player.csv'\n",
    "df6 = pd.read_csv(url)"
   ]
  },
  {
   "cell_type": "code",
   "execution_count": 130,
   "metadata": {},
   "outputs": [],
   "source": [
    "frames = [df1[['Player', 'Nation', 'Pos', 'Squad', 'Born', '90s', 'Tackles Tkl', 'Tackles TklW', 'Tackles Def 3rd', 'Tackles Mid 3rd', 'Tackles Att 3rd', 'Challenges Tkl', 'Challenges Att', 'Challenges Lost', 'Blocks Blocks', 'Blocks Sh', 'Blocks Pass', 'Int', 'Tkl+Int', 'Clr', 'Err']],\n",
    "          df2[['SCA SCA', 'SCA SCA90', 'SCA Types PassLive', 'SCA Types PassDead', 'SCA Types TO', 'SCA Types Sh', 'SCA Types Fld', 'SCA Types Def', 'GCA GCA', 'GCA GCA90', 'GCA Types PassLive', 'GCA Types PassDead', 'GCA Types TO', 'GCA Types Sh', 'GCA Types Fld', 'GCA Types Def']],\n",
    "          df3[['Performance CrdY', 'Performance CrdR', 'Performance 2CrdY', 'Performance Fls', 'Performance Fld', 'Performance Off', 'Performance Crs', 'Performance Int', 'Performance TklW', 'Performance PKwon', 'Performance PKcon', 'Performance OG', 'Performance Recov', 'Aerial Duels Won', 'Aerial Duels Lost']],\n",
    "          df4[['Total Cmp', 'Total Att', 'Total Cmp%', 'Total TotDist', 'Total PrgDist', 'Short Cmp', 'Short Att', 'Medium Cmp', 'Medium Att', 'Long Cmp', 'Long Att', 'Ast', 'xAG', 'Expected xA', 'Expected A-xAG', 'KP', '1/3', 'PPA', 'CrsPA', 'PrgP']],\n",
    "          df5[['Touches Touches', 'Touches Def Pen', 'Touches Def 3rd', 'Touches Mid 3rd', 'Touches Att 3rd', 'Touches Att Pen', 'Touches Live', 'Take-Ons Att', 'Take-Ons Succ', 'Take-Ons Tkld', 'Carries Carries', 'Carries TotDist', 'Carries PrgDist', 'Carries PrgC', 'Carries 1/3', 'Carries CPA', 'Carries Mis', 'Carries Dis', 'Receiving Rec', 'Receiving PrgR']],\n",
    "          df6[['Standard Gls', 'Standard Sh', 'Standard SoT','Standard Sh/90', 'Standard SoT/90', 'Standard G/Sh', 'Standard G/SoT', 'Standard Dist', 'Standard FK', 'Standard PK', 'Standard PKatt', 'Expected xG', 'Expected npxG', 'Expected npxG/Sh', 'Expected G-xG', 'Expected np:G-xG']]]\n",
    "players = pd.concat(frames, axis=1)"
   ]
  },
  {
   "cell_type": "code",
   "execution_count": 131,
   "metadata": {},
   "outputs": [],
   "source": [
    "url = 'https://raw.githubusercontent.com/sambuddharay/FinalYearProject/main/scrapping/data/Ligue-1-Stats/2021-2022/player/Ligue-1-Stats-2021-2022-keepers-player.csv'\n",
    "df7 = pd.read_csv(url)\n",
    "url = 'https://raw.githubusercontent.com/sambuddharay/FinalYearProject/main/scrapping/data/Ligue-1-Stats/2021-2022/player/Ligue-1-Stats-2021-2022-keepersadv-player.csv'\n",
    "df8 = pd.read_csv(url)"
   ]
  },
  {
   "cell_type": "code",
   "execution_count": 132,
   "metadata": {},
   "outputs": [],
   "source": [
    "df7=df7[df7['Playing Time 90s']>0]\n",
    "df8=df8[df8['90s']>0]\n",
    "frames = [df7[['Player', 'Performance GA', 'Performance GA90', 'Performance SoTA', 'Performance Saves', 'Performance Save%', 'Performance W', 'Performance D', 'Performance L', 'Performance CS', 'Performance CS%', 'Penalty Kicks PKatt', 'Penalty Kicks PKA', 'Penalty Kicks PKsv', 'Penalty Kicks PKm']],\n",
    "          df8[['Goals GA', 'Goals PKA', 'Goals FK', 'Goals CK', 'Goals OG', 'Expected PSxG', 'Expected PSxG/SoT', 'Expected PSxG+/-', 'Expected /90', 'Launched Cmp', 'Launched Att', 'Launched Cmp%', 'Passes Att (GK)', 'Passes Thr', 'Passes Launch%', 'Passes AvgLen', 'Goal Kicks Att', 'Goal Kicks Launch%', 'Goal Kicks AvgLen', 'Crosses Opp', 'Crosses Stp', 'Crosses Stp%', 'Sweeper #OPA', 'Sweeper #OPA/90', 'Sweeper AvgDist']]]\n",
    "goalkeepers = pd.concat(frames, axis=1)"
   ]
  },
  {
   "cell_type": "code",
   "execution_count": 133,
   "metadata": {},
   "outputs": [],
   "source": [
    "players = players.replace(np.nan, 0)\n",
    "goalkeepers = goalkeepers.replace(np.nan, 0)\n",
    "utils.append_X_train(X_train, players, goalkeepers)"
   ]
  },
  {
   "cell_type": "code",
   "execution_count": 134,
   "metadata": {},
   "outputs": [],
   "source": [
    "url = 'https://raw.githubusercontent.com/sambuddharay/FinalYearProject/main/scrapping/data/Ligue-1-Stats/2022-2023/player/Ligue-1-Stats-2022-2023-defense-player.csv'\n",
    "df1 = pd.read_csv(url)\n",
    "url = 'https://raw.githubusercontent.com/sambuddharay/FinalYearProject/main/scrapping/data/Ligue-1-Stats/2022-2023/player/Ligue-1-Stats-2022-2023-gca-player.csv'\n",
    "df2 = pd.read_csv(url)\n",
    "url = 'https://raw.githubusercontent.com/sambuddharay/FinalYearProject/main/scrapping/data/Ligue-1-Stats/2022-2023/player/Ligue-1-Stats-2022-2023-misc-player.csv'\n",
    "df3 = pd.read_csv(url)\n",
    "url = 'https://raw.githubusercontent.com/sambuddharay/FinalYearProject/main/scrapping/data/Ligue-1-Stats/2022-2023/player/Ligue-1-Stats-2022-2023-passing-player.csv'\n",
    "df4 = pd.read_csv(url)\n",
    "url = 'https://raw.githubusercontent.com/sambuddharay/FinalYearProject/main/scrapping/data/Ligue-1-Stats/2022-2023/player/Ligue-1-Stats-2022-2023-possession-player.csv'\n",
    "df5 = pd.read_csv(url)\n",
    "url = 'https://raw.githubusercontent.com/sambuddharay/FinalYearProject/main/scrapping/data/Ligue-1-Stats/2022-2023/player/Ligue-1-Stats-2022-2023-shooting-player.csv'\n",
    "df6 = pd.read_csv(url)"
   ]
  },
  {
   "cell_type": "code",
   "execution_count": 135,
   "metadata": {},
   "outputs": [],
   "source": [
    "frames = [df1[['Player', 'Nation', 'Pos', 'Squad', 'Born', '90s', 'Tackles Tkl', 'Tackles TklW', 'Tackles Def 3rd', 'Tackles Mid 3rd', 'Tackles Att 3rd', 'Challenges Tkl', 'Challenges Att', 'Challenges Lost', 'Blocks Blocks', 'Blocks Sh', 'Blocks Pass', 'Int', 'Tkl+Int', 'Clr', 'Err']],\n",
    "          df2[['SCA SCA', 'SCA SCA90', 'SCA Types PassLive', 'SCA Types PassDead', 'SCA Types TO', 'SCA Types Sh', 'SCA Types Fld', 'SCA Types Def', 'GCA GCA', 'GCA GCA90', 'GCA Types PassLive', 'GCA Types PassDead', 'GCA Types TO', 'GCA Types Sh', 'GCA Types Fld', 'GCA Types Def']],\n",
    "          df3[['Performance CrdY', 'Performance CrdR', 'Performance 2CrdY', 'Performance Fls', 'Performance Fld', 'Performance Off', 'Performance Crs', 'Performance Int', 'Performance TklW', 'Performance PKwon', 'Performance PKcon', 'Performance OG', 'Performance Recov', 'Aerial Duels Won', 'Aerial Duels Lost']],\n",
    "          df4[['Total Cmp', 'Total Att', 'Total Cmp%', 'Total TotDist', 'Total PrgDist', 'Short Cmp', 'Short Att', 'Medium Cmp', 'Medium Att', 'Long Cmp', 'Long Att', 'Ast', 'xAG', 'Expected xA', 'Expected A-xAG', 'KP', '1/3', 'PPA', 'CrsPA', 'PrgP']],\n",
    "          df5[['Touches Touches', 'Touches Def Pen', 'Touches Def 3rd', 'Touches Mid 3rd', 'Touches Att 3rd', 'Touches Att Pen', 'Touches Live', 'Take-Ons Att', 'Take-Ons Succ', 'Take-Ons Tkld', 'Carries Carries', 'Carries TotDist', 'Carries PrgDist', 'Carries PrgC', 'Carries 1/3', 'Carries CPA', 'Carries Mis', 'Carries Dis', 'Receiving Rec', 'Receiving PrgR']],\n",
    "          df6[['Standard Gls', 'Standard Sh', 'Standard SoT','Standard Sh/90', 'Standard SoT/90', 'Standard G/Sh', 'Standard G/SoT', 'Standard Dist', 'Standard FK', 'Standard PK', 'Standard PKatt', 'Expected xG', 'Expected npxG', 'Expected npxG/Sh', 'Expected G-xG', 'Expected np:G-xG']]]\n",
    "players = pd.concat(frames, axis=1)"
   ]
  },
  {
   "cell_type": "code",
   "execution_count": 136,
   "metadata": {},
   "outputs": [],
   "source": [
    "url = 'https://raw.githubusercontent.com/sambuddharay/FinalYearProject/main/scrapping/data/Ligue-1-Stats/2022-2023/player/Ligue-1-Stats-2022-2023-keepers-player.csv'\n",
    "df7 = pd.read_csv(url)\n",
    "url = 'https://raw.githubusercontent.com/sambuddharay/FinalYearProject/main/scrapping/data/Ligue-1-Stats/2022-2023/player/Ligue-1-Stats-2022-2023-keepersadv-player.csv'\n",
    "df8 = pd.read_csv(url)"
   ]
  },
  {
   "cell_type": "code",
   "execution_count": 137,
   "metadata": {},
   "outputs": [],
   "source": [
    "df7=df7[df7['Playing Time 90s']>0]\n",
    "df8=df8[df8['90s']>0]\n",
    "frames = [df7[['Player', 'Performance GA', 'Performance GA90', 'Performance SoTA', 'Performance Saves', 'Performance Save%', 'Performance W', 'Performance D', 'Performance L', 'Performance CS', 'Performance CS%', 'Penalty Kicks PKatt', 'Penalty Kicks PKA', 'Penalty Kicks PKsv', 'Penalty Kicks PKm']],\n",
    "          df8[['Goals GA', 'Goals PKA', 'Goals FK', 'Goals CK', 'Goals OG', 'Expected PSxG', 'Expected PSxG/SoT', 'Expected PSxG+/-', 'Expected /90', 'Launched Cmp', 'Launched Att', 'Launched Cmp%', 'Passes Att (GK)', 'Passes Thr', 'Passes Launch%', 'Passes AvgLen', 'Goal Kicks Att', 'Goal Kicks Launch%', 'Goal Kicks AvgLen', 'Crosses Opp', 'Crosses Stp', 'Crosses Stp%', 'Sweeper #OPA', 'Sweeper #OPA/90', 'Sweeper AvgDist']]]\n",
    "goalkeepers = pd.concat(frames, axis=1)"
   ]
  },
  {
   "cell_type": "code",
   "execution_count": 138,
   "metadata": {},
   "outputs": [],
   "source": [
    "players = players.replace(np.nan, 0)\n",
    "goalkeepers = goalkeepers.replace(np.nan, 0)\n",
    "utils.append_X_train(X_train, players, goalkeepers)"
   ]
  },
  {
   "cell_type": "code",
   "execution_count": 172,
   "metadata": {},
   "outputs": [
    {
     "data": {
      "text/plain": [
       "(490, 142, 142)"
      ]
     },
     "execution_count": 172,
     "metadata": {},
     "output_type": "execute_result"
    }
   ],
   "source": [
    "X_train = np.array(X_train)\n",
    "X_train.shape"
   ]
  },
  {
   "cell_type": "code",
   "execution_count": 173,
   "metadata": {},
   "outputs": [
    {
     "data": {
      "text/plain": [
       "(490, 142, 142, 1)"
      ]
     },
     "execution_count": 173,
     "metadata": {},
     "output_type": "execute_result"
    }
   ],
   "source": [
    "X_train = X_train.reshape(len(X_train), 142, 142, 1)\n",
    "X_train.shape"
   ]
  },
  {
   "cell_type": "code",
   "execution_count": 152,
   "metadata": {},
   "outputs": [],
   "source": [
    "url = 'https://raw.githubusercontent.com/sambuddharay/FinalYearProject/main/scrapping/data/Premier-League-Stats/2018-2019/squad/Premier-League-Stats-2018-2019-shooting-squad.csv'\n",
    "df1 = pd.read_csv(url)\n",
    "url = 'https://raw.githubusercontent.com/sambuddharay/FinalYearProject/main/scrapping/data/Premier-League-Stats/2019-2020/squad/Premier-League-Stats-2019-2020-shooting-squad.csv'\n",
    "df2 = pd.read_csv(url)\n",
    "url = 'https://raw.githubusercontent.com/sambuddharay/FinalYearProject/main/scrapping/data/Premier-League-Stats/2020-2021/squad/Premier-League-Stats-2020-2021-shooting-squad.csv'\n",
    "df3 = pd.read_csv(url)\n",
    "url = 'https://raw.githubusercontent.com/sambuddharay/FinalYearProject/main/scrapping/data/Premier-League-Stats/2021-2022/squad/Premier-League-Stats-2021-2022-shooting-squad.csv'\n",
    "df4 = pd.read_csv(url)\n",
    "url = 'https://raw.githubusercontent.com/sambuddharay/FinalYearProject/main/scrapping/data/Premier-League-Stats/2022-2023/squad/Premier-League-Stats-2022-2023-shooting-squad.csv'\n",
    "df5 = pd.read_csv(url)"
   ]
  },
  {
   "cell_type": "code",
   "execution_count": 153,
   "metadata": {},
   "outputs": [
    {
     "data": {
      "text/plain": [
       "(100, 21)"
      ]
     },
     "execution_count": 153,
     "metadata": {},
     "output_type": "execute_result"
    }
   ],
   "source": [
    "frames = [df1, df2, df3, df4, df5]\n",
    "df_premleague = pd.concat(frames)\n",
    "df_premleague.shape"
   ]
  },
  {
   "cell_type": "code",
   "execution_count": 157,
   "metadata": {},
   "outputs": [],
   "source": [
    "url = 'https://raw.githubusercontent.com/sambuddharay/FinalYearProject/main/scrapping/data/Serie-A-Stats/2018-2019/squad/Serie-A-Stats-2018-2019-shooting-squad.csv'\n",
    "df1 = pd.read_csv(url)\n",
    "url = 'https://raw.githubusercontent.com/sambuddharay/FinalYearProject/main/scrapping/data/Serie-A-Stats/2019-2020/squad/Serie-A-Stats-2019-2020-shooting-squad.csv'\n",
    "df2 = pd.read_csv(url)\n",
    "url = 'https://raw.githubusercontent.com/sambuddharay/FinalYearProject/main/scrapping/data/Serie-A-Stats/2020-2021/squad/Serie-A-Stats-2020-2021-shooting-squad.csv'\n",
    "df3 = pd.read_csv(url)\n",
    "url = 'https://raw.githubusercontent.com/sambuddharay/FinalYearProject/main/scrapping/data/Serie-A-Stats/2021-2022/squad/Serie-A-Stats-2021-2022-shooting-squad.csv'\n",
    "df4 = pd.read_csv(url)\n",
    "url = 'https://raw.githubusercontent.com/sambuddharay/FinalYearProject/main/scrapping/data/Serie-A-Stats/2022-2023/squad/Serie-A-Stats-2022-2023-shooting-squad.csv'\n",
    "df5 = pd.read_csv(url)"
   ]
  },
  {
   "cell_type": "code",
   "execution_count": 158,
   "metadata": {},
   "outputs": [
    {
     "data": {
      "text/plain": [
       "(100, 21)"
      ]
     },
     "execution_count": 158,
     "metadata": {},
     "output_type": "execute_result"
    }
   ],
   "source": [
    "frames = [df1, df2, df3, df4, df5]\n",
    "df_serie_a = pd.concat(frames)\n",
    "df_serie_a.shape"
   ]
  },
  {
   "cell_type": "code",
   "execution_count": 159,
   "metadata": {},
   "outputs": [],
   "source": [
    "url = 'https://raw.githubusercontent.com/sambuddharay/FinalYearProject/main/scrapping/data/Bundesliga-Stats/2018-2019/squad/Bundesliga-Stats-2018-2019-shooting-squad.csv'\n",
    "df1 = pd.read_csv(url)\n",
    "url = 'https://raw.githubusercontent.com/sambuddharay/FinalYearProject/main/scrapping/data/Bundesliga-Stats/2019-2020/squad/Bundesliga-Stats-2019-2020-shooting-squad.csv'\n",
    "df2 = pd.read_csv(url)\n",
    "url = 'https://raw.githubusercontent.com/sambuddharay/FinalYearProject/main/scrapping/data/Bundesliga-Stats/2020-2021/squad/Bundesliga-Stats-2020-2021-shooting-squad.csv'\n",
    "df3 = pd.read_csv(url)\n",
    "url = 'https://raw.githubusercontent.com/sambuddharay/FinalYearProject/main/scrapping/data/Bundesliga-Stats/2021-2022/squad/Bundesliga-Stats-2021-2022-shooting-squad.csv'\n",
    "df4 = pd.read_csv(url)\n",
    "url = 'https://raw.githubusercontent.com/sambuddharay/FinalYearProject/main/scrapping/data/Bundesliga-Stats/2022-2023/squad/Bundesliga-Stats-2022-2023-shooting-squad.csv'\n",
    "df5 = pd.read_csv(url)"
   ]
  },
  {
   "cell_type": "code",
   "execution_count": 160,
   "metadata": {},
   "outputs": [
    {
     "data": {
      "text/plain": [
       "(90, 21)"
      ]
     },
     "execution_count": 160,
     "metadata": {},
     "output_type": "execute_result"
    }
   ],
   "source": [
    "frames = [df1, df2, df3, df4, df5]\n",
    "df_bundesliga = pd.concat(frames)\n",
    "df_bundesliga.shape"
   ]
  },
  {
   "cell_type": "code",
   "execution_count": 161,
   "metadata": {},
   "outputs": [],
   "source": [
    "url = 'https://raw.githubusercontent.com/sambuddharay/FinalYearProject/main/scrapping/data/La-Liga-Stats/2018-2019/squad/La-Liga-Stats-2018-2019-shooting-squad.csv'\n",
    "df1 = pd.read_csv(url)\n",
    "url = 'https://raw.githubusercontent.com/sambuddharay/FinalYearProject/main/scrapping/data/La-Liga-Stats/2019-2020/squad/La-Liga-Stats-2019-2020-shooting-squad.csv'\n",
    "df2 = pd.read_csv(url)\n",
    "url = 'https://raw.githubusercontent.com/sambuddharay/FinalYearProject/main/scrapping/data/La-Liga-Stats/2020-2021/squad/La-Liga-Stats-2020-2021-shooting-squad.csv'\n",
    "df3 = pd.read_csv(url)\n",
    "url = 'https://raw.githubusercontent.com/sambuddharay/FinalYearProject/main/scrapping/data/La-Liga-Stats/2021-2022/squad/La-Liga-Stats-2021-2022-shooting-squad.csv'\n",
    "df4 = pd.read_csv(url)\n",
    "url = 'https://raw.githubusercontent.com/sambuddharay/FinalYearProject/main/scrapping/data/La-Liga-Stats/2022-2023/squad/La-Liga-Stats-2022-2023-shooting-squad.csv'\n",
    "df5 = pd.read_csv(url)"
   ]
  },
  {
   "cell_type": "code",
   "execution_count": 162,
   "metadata": {},
   "outputs": [
    {
     "data": {
      "text/plain": [
       "(100, 21)"
      ]
     },
     "execution_count": 162,
     "metadata": {},
     "output_type": "execute_result"
    }
   ],
   "source": [
    "frames = [df1, df2, df3, df4, df5]\n",
    "df_la_liga = pd.concat(frames)\n",
    "df_la_liga.shape"
   ]
  },
  {
   "cell_type": "code",
   "execution_count": 163,
   "metadata": {},
   "outputs": [],
   "source": [
    "url = 'https://raw.githubusercontent.com/sambuddharay/FinalYearProject/main/scrapping/data/Ligue-1-Stats/2018-2019/squad/Ligue-1-Stats-2018-2019-shooting-squad.csv'\n",
    "df1 = pd.read_csv(url)\n",
    "url = 'https://raw.githubusercontent.com/sambuddharay/FinalYearProject/main/scrapping/data/Ligue-1-Stats/2019-2020/squad/Ligue-1-Stats-2019-2020-shooting-squad.csv'\n",
    "df2 = pd.read_csv(url)\n",
    "url = 'https://raw.githubusercontent.com/sambuddharay/FinalYearProject/main/scrapping/data/Ligue-1-Stats/2020-2021/squad/Ligue-1-Stats-2020-2021-shooting-squad.csv'\n",
    "df3 = pd.read_csv(url)\n",
    "url = 'https://raw.githubusercontent.com/sambuddharay/FinalYearProject/main/scrapping/data/Ligue-1-Stats/2021-2022/squad/Ligue-1-Stats-2021-2022-shooting-squad.csv'\n",
    "df4 = pd.read_csv(url)\n",
    "url = 'https://raw.githubusercontent.com/sambuddharay/FinalYearProject/main/scrapping/data/Ligue-1-Stats/2022-2023/squad/Ligue-1-Stats-2022-2023-shooting-squad.csv'\n",
    "df5 = pd.read_csv(url)"
   ]
  },
  {
   "cell_type": "code",
   "execution_count": 164,
   "metadata": {},
   "outputs": [
    {
     "data": {
      "text/plain": [
       "(100, 21)"
      ]
     },
     "execution_count": 164,
     "metadata": {},
     "output_type": "execute_result"
    }
   ],
   "source": [
    "frames = [df1, df2, df3, df4, df5]\n",
    "df_ligue_1 = pd.concat(frames)\n",
    "df_ligue_1.shape"
   ]
  },
  {
   "cell_type": "code",
   "execution_count": 165,
   "metadata": {},
   "outputs": [
    {
     "data": {
      "text/plain": [
       "(490, 21)"
      ]
     },
     "execution_count": 165,
     "metadata": {},
     "output_type": "execute_result"
    }
   ],
   "source": [
    "frames = [df_premleague, df_serie_a, df_bundesliga, df_la_liga, df_ligue_1]\n",
    "df_all_leagues = pd.concat(frames)\n",
    "df_all_leagues.shape"
   ]
  },
  {
   "cell_type": "code",
   "execution_count": 167,
   "metadata": {},
   "outputs": [
    {
     "data": {
      "text/plain": [
       "(490, 1)"
      ]
     },
     "execution_count": 167,
     "metadata": {},
     "output_type": "execute_result"
    }
   ],
   "source": [
    "y_train = df_all_leagues[['Points']]\n",
    "y_train.shape"
   ]
  },
  {
   "cell_type": "code",
   "execution_count": 169,
   "metadata": {},
   "outputs": [
    {
     "data": {
      "text/plain": [
       "490"
      ]
     },
     "execution_count": 169,
     "metadata": {},
     "output_type": "execute_result"
    }
   ],
   "source": [
    "y_train = np.asarray(y_train)\n",
    "len(y_train)"
   ]
  },
  {
   "cell_type": "code",
   "execution_count": 170,
   "metadata": {},
   "outputs": [],
   "source": [
    "from tensorflow.keras import Sequential\n",
    "from tensorflow.keras.layers import Dense, Conv2D, Flatten\n",
    "from tensorflow.keras.layers import Conv2D\n",
    "from numpy.random import seed\n",
    "from tensorflow.keras.optimizers import RMSprop\n",
    "from keras.wrappers.scikit_learn import KerasRegressor\n",
    "import keras_tuner as kt\n",
    "import tensorflow"
   ]
  },
  {
   "cell_type": "code",
   "execution_count": 171,
   "metadata": {},
   "outputs": [
    {
     "name": "stdout",
     "output_type": "stream",
     "text": [
      "\u001b[1;31mInit signature:\u001b[0m\n",
      "\u001b[0mConv2D\u001b[0m\u001b[1;33m(\u001b[0m\u001b[1;33m\n",
      "\u001b[0m    \u001b[0mfilters\u001b[0m\u001b[1;33m,\u001b[0m\u001b[1;33m\n",
      "\u001b[0m    \u001b[0mkernel_size\u001b[0m\u001b[1;33m,\u001b[0m\u001b[1;33m\n",
      "\u001b[0m    \u001b[0mstrides\u001b[0m\u001b[1;33m=\u001b[0m\u001b[1;33m(\u001b[0m\u001b[1;36m1\u001b[0m\u001b[1;33m,\u001b[0m \u001b[1;36m1\u001b[0m\u001b[1;33m)\u001b[0m\u001b[1;33m,\u001b[0m\u001b[1;33m\n",
      "\u001b[0m    \u001b[0mpadding\u001b[0m\u001b[1;33m=\u001b[0m\u001b[1;34m'valid'\u001b[0m\u001b[1;33m,\u001b[0m\u001b[1;33m\n",
      "\u001b[0m    \u001b[0mdata_format\u001b[0m\u001b[1;33m=\u001b[0m\u001b[1;32mNone\u001b[0m\u001b[1;33m,\u001b[0m\u001b[1;33m\n",
      "\u001b[0m    \u001b[0mdilation_rate\u001b[0m\u001b[1;33m=\u001b[0m\u001b[1;33m(\u001b[0m\u001b[1;36m1\u001b[0m\u001b[1;33m,\u001b[0m \u001b[1;36m1\u001b[0m\u001b[1;33m)\u001b[0m\u001b[1;33m,\u001b[0m\u001b[1;33m\n",
      "\u001b[0m    \u001b[0mgroups\u001b[0m\u001b[1;33m=\u001b[0m\u001b[1;36m1\u001b[0m\u001b[1;33m,\u001b[0m\u001b[1;33m\n",
      "\u001b[0m    \u001b[0mactivation\u001b[0m\u001b[1;33m=\u001b[0m\u001b[1;32mNone\u001b[0m\u001b[1;33m,\u001b[0m\u001b[1;33m\n",
      "\u001b[0m    \u001b[0muse_bias\u001b[0m\u001b[1;33m=\u001b[0m\u001b[1;32mTrue\u001b[0m\u001b[1;33m,\u001b[0m\u001b[1;33m\n",
      "\u001b[0m    \u001b[0mkernel_initializer\u001b[0m\u001b[1;33m=\u001b[0m\u001b[1;34m'glorot_uniform'\u001b[0m\u001b[1;33m,\u001b[0m\u001b[1;33m\n",
      "\u001b[0m    \u001b[0mbias_initializer\u001b[0m\u001b[1;33m=\u001b[0m\u001b[1;34m'zeros'\u001b[0m\u001b[1;33m,\u001b[0m\u001b[1;33m\n",
      "\u001b[0m    \u001b[0mkernel_regularizer\u001b[0m\u001b[1;33m=\u001b[0m\u001b[1;32mNone\u001b[0m\u001b[1;33m,\u001b[0m\u001b[1;33m\n",
      "\u001b[0m    \u001b[0mbias_regularizer\u001b[0m\u001b[1;33m=\u001b[0m\u001b[1;32mNone\u001b[0m\u001b[1;33m,\u001b[0m\u001b[1;33m\n",
      "\u001b[0m    \u001b[0mactivity_regularizer\u001b[0m\u001b[1;33m=\u001b[0m\u001b[1;32mNone\u001b[0m\u001b[1;33m,\u001b[0m\u001b[1;33m\n",
      "\u001b[0m    \u001b[0mkernel_constraint\u001b[0m\u001b[1;33m=\u001b[0m\u001b[1;32mNone\u001b[0m\u001b[1;33m,\u001b[0m\u001b[1;33m\n",
      "\u001b[0m    \u001b[0mbias_constraint\u001b[0m\u001b[1;33m=\u001b[0m\u001b[1;32mNone\u001b[0m\u001b[1;33m,\u001b[0m\u001b[1;33m\n",
      "\u001b[0m    \u001b[1;33m**\u001b[0m\u001b[0mkwargs\u001b[0m\u001b[1;33m,\u001b[0m\u001b[1;33m\n",
      "\u001b[0m\u001b[1;33m)\u001b[0m\u001b[1;33m\u001b[0m\u001b[1;33m\u001b[0m\u001b[0m\n",
      "\u001b[1;31mDocstring:\u001b[0m     \n",
      "2D convolution layer.\n",
      "\n",
      "This layer creates a convolution kernel that is convolved with the layer\n",
      "input over a single spatial (or temporal) dimension to produce a tensor of\n",
      "outputs. If `use_bias` is True, a bias vector is created and added to the\n",
      "outputs. Finally, if `activation` is not `None`, it is applied to the\n",
      "outputs as well.\n",
      "\n",
      "Args:\n",
      "    filters: int, the dimension of the output space (the number of filters\n",
      "        in the convolution).\n",
      "    kernel_size: int or tuple/list of 2 integer, specifying the size of the\n",
      "        convolution window.\n",
      "    strides: int or tuple/list of 2 integer, specifying the stride length\n",
      "        of the convolution. `strides > 1` is incompatible with\n",
      "        `dilation_rate > 1`.\n",
      "    padding: string, either `\"valid\"` or `\"same\"` (case-insensitive).\n",
      "        `\"valid\"` means no padding. `\"same\"` results in padding evenly to\n",
      "        the left/right or up/down of the input. When `padding=\"same\"` and\n",
      "        `strides=1`, the output has the same size as the input.\n",
      "    data_format: string, either `\"channels_last\"` or `\"channels_first\"`.\n",
      "        The ordering of the dimensions in the inputs. `\"channels_last\"`\n",
      "        corresponds to inputs with shape\n",
      "        `(batch_size, height, width, channels)`\n",
      "        while `\"channels_first\"` corresponds to inputs with shape\n",
      "        `(batch_size, channels, height, width)`. It defaults to the\n",
      "        `image_data_format` value found in your Keras config file at\n",
      "        `~/.keras/keras.json`. If you never set it, then it will be\n",
      "        `\"channels_last\"`.\n",
      "    dilation_rate: int or tuple/list of 2 integers, specifying the dilation\n",
      "        rate to use for dilated convolution.\n",
      "    groups: A positive int specifying the number of groups in which the\n",
      "        input is split along the channel axis. Each group is convolved\n",
      "        separately with `filters // groups` filters. The output is the\n",
      "        concatenation of all the `groups` results along the channel axis.\n",
      "        Input channels and `filters` must both be divisible by `groups`.\n",
      "    activation: Activation function. If `None`, no activation is applied.\n",
      "    use_bias: bool, if `True`, bias will be added to the output.\n",
      "    kernel_initializer: Initializer for the convolution kernel. If `None`,\n",
      "        the default initializer (`\"glorot_uniform\"`) will be used.\n",
      "    bias_initializer: Initializer for the bias vector. If `None`, the\n",
      "        default initializer (`\"zeros\"`) will be used.\n",
      "    kernel_regularizer: Optional regularizer for the convolution kernel.\n",
      "    bias_regularizer: Optional regularizer for the bias vector.\n",
      "    activity_regularizer: Optional regularizer function for the output.\n",
      "    kernel_constraint: Optional projection function to be applied to the\n",
      "        kernel after being updated by an `Optimizer` (e.g. used to implement\n",
      "        norm constraints or value constraints for layer weights). The\n",
      "        function must take as input the unprojected variable and must return\n",
      "        the projected variable (which must have the same shape). Constraints\n",
      "        are not safe to use when doing asynchronous distributed training.\n",
      "    bias_constraint: Optional projection function to be applied to the\n",
      "        bias after being updated by an `Optimizer`.\n",
      "\n",
      "Input shape:\n",
      "- If `data_format=\"channels_last\"`:\n",
      "    A 4D tensor with shape: `(batch_size, height, width, channels)`\n",
      "- If `data_format=\"channels_first\"`:\n",
      "    A 4D tensor with shape: `(batch_size, channels, height, width)`\n",
      "\n",
      "Output shape:\n",
      "- If `data_format=\"channels_last\"`:\n",
      "    A 4D tensor with shape: `(batch_size, new_height, new_width, filters)`\n",
      "- If `data_format=\"channels_first\"`:\n",
      "    A 4D tensor with shape: `(batch_size, filters, new_height, new_width)`\n",
      "\n",
      "Returns:\n",
      "    A 4D tensor representing `activation(conv2d(inputs, kernel) + bias)`.\n",
      "\n",
      "Raises:\n",
      "    ValueError: when both `strides > 1` and `dilation_rate > 1`.\n",
      "\n",
      "Examples:\n",
      "\n",
      ">>> x = np.random.rand(4, 10, 10, 128)\n",
      ">>> y = keras.layers.Conv2D(32, 3, activation='relu')(x)\n",
      ">>> print(y.shape)\n",
      "(4, 8, 8, 32)\n",
      "\u001b[1;31mFile:\u001b[0m           c:\\users\\sambuddha\\appdata\\local\\programs\\python\\python311\\lib\\site-packages\\keras\\src\\layers\\convolutional\\conv2d.py\n",
      "\u001b[1;31mType:\u001b[0m           type\n",
      "\u001b[1;31mSubclasses:\u001b[0m     \n"
     ]
    }
   ],
   "source": [
    "Conv2D??"
   ]
  },
  {
   "cell_type": "code",
   "execution_count": 174,
   "metadata": {},
   "outputs": [
    {
     "name": "stdout",
     "output_type": "stream",
     "text": [
      "\u001b[1;31mInit signature:\u001b[0m\n",
      "\u001b[0mDense\u001b[0m\u001b[1;33m(\u001b[0m\u001b[1;33m\n",
      "\u001b[0m    \u001b[0munits\u001b[0m\u001b[1;33m,\u001b[0m\u001b[1;33m\n",
      "\u001b[0m    \u001b[0mactivation\u001b[0m\u001b[1;33m=\u001b[0m\u001b[1;32mNone\u001b[0m\u001b[1;33m,\u001b[0m\u001b[1;33m\n",
      "\u001b[0m    \u001b[0muse_bias\u001b[0m\u001b[1;33m=\u001b[0m\u001b[1;32mTrue\u001b[0m\u001b[1;33m,\u001b[0m\u001b[1;33m\n",
      "\u001b[0m    \u001b[0mkernel_initializer\u001b[0m\u001b[1;33m=\u001b[0m\u001b[1;34m'glorot_uniform'\u001b[0m\u001b[1;33m,\u001b[0m\u001b[1;33m\n",
      "\u001b[0m    \u001b[0mbias_initializer\u001b[0m\u001b[1;33m=\u001b[0m\u001b[1;34m'zeros'\u001b[0m\u001b[1;33m,\u001b[0m\u001b[1;33m\n",
      "\u001b[0m    \u001b[0mkernel_regularizer\u001b[0m\u001b[1;33m=\u001b[0m\u001b[1;32mNone\u001b[0m\u001b[1;33m,\u001b[0m\u001b[1;33m\n",
      "\u001b[0m    \u001b[0mbias_regularizer\u001b[0m\u001b[1;33m=\u001b[0m\u001b[1;32mNone\u001b[0m\u001b[1;33m,\u001b[0m\u001b[1;33m\n",
      "\u001b[0m    \u001b[0mactivity_regularizer\u001b[0m\u001b[1;33m=\u001b[0m\u001b[1;32mNone\u001b[0m\u001b[1;33m,\u001b[0m\u001b[1;33m\n",
      "\u001b[0m    \u001b[0mkernel_constraint\u001b[0m\u001b[1;33m=\u001b[0m\u001b[1;32mNone\u001b[0m\u001b[1;33m,\u001b[0m\u001b[1;33m\n",
      "\u001b[0m    \u001b[0mbias_constraint\u001b[0m\u001b[1;33m=\u001b[0m\u001b[1;32mNone\u001b[0m\u001b[1;33m,\u001b[0m\u001b[1;33m\n",
      "\u001b[0m    \u001b[0mlora_rank\u001b[0m\u001b[1;33m=\u001b[0m\u001b[1;32mNone\u001b[0m\u001b[1;33m,\u001b[0m\u001b[1;33m\n",
      "\u001b[0m    \u001b[1;33m**\u001b[0m\u001b[0mkwargs\u001b[0m\u001b[1;33m,\u001b[0m\u001b[1;33m\n",
      "\u001b[0m\u001b[1;33m)\u001b[0m\u001b[1;33m\u001b[0m\u001b[1;33m\u001b[0m\u001b[0m\n",
      "\u001b[1;31mDocstring:\u001b[0m     \n",
      "Just your regular densely-connected NN layer.\n",
      "\n",
      "`Dense` implements the operation:\n",
      "`output = activation(dot(input, kernel) + bias)`\n",
      "where `activation` is the element-wise activation function\n",
      "passed as the `activation` argument, `kernel` is a weights matrix\n",
      "created by the layer, and `bias` is a bias vector created by the layer\n",
      "(only applicable if `use_bias` is `True`).\n",
      "\n",
      "Note: If the input to the layer has a rank greater than 2, `Dense`\n",
      "computes the dot product between the `inputs` and the `kernel` along the\n",
      "last axis of the `inputs` and axis 0 of the `kernel` (using `tf.tensordot`).\n",
      "For example, if input has dimensions `(batch_size, d0, d1)`, then we create\n",
      "a `kernel` with shape `(d1, units)`, and the `kernel` operates along axis 2\n",
      "of the `input`, on every sub-tensor of shape `(1, 1, d1)` (there are\n",
      "`batch_size * d0` such sub-tensors). The output in this case will have\n",
      "shape `(batch_size, d0, units)`.\n",
      "\n",
      "Args:\n",
      "    units: Positive integer, dimensionality of the output space.\n",
      "    activation: Activation function to use.\n",
      "        If you don't specify anything, no activation is applied\n",
      "        (ie. \"linear\" activation: `a(x) = x`).\n",
      "    use_bias: Boolean, whether the layer uses a bias vector.\n",
      "    kernel_initializer: Initializer for the `kernel` weights matrix.\n",
      "    bias_initializer: Initializer for the bias vector.\n",
      "    kernel_regularizer: Regularizer function applied to\n",
      "        the `kernel` weights matrix.\n",
      "    bias_regularizer: Regularizer function applied to the bias vector.\n",
      "    activity_regularizer: Regularizer function applied to\n",
      "        the output of the layer (its \"activation\").\n",
      "    kernel_constraint: Constraint function applied to\n",
      "        the `kernel` weights matrix.\n",
      "    bias_constraint: Constraint function applied to the bias vector.\n",
      "    lora_rank: Optional integer. If set, the layer's forward pass\n",
      "        will implement LoRA (Low-Rank Adaptation)\n",
      "        with the provided rank. LoRA sets the layer's kernel\n",
      "        to non-trainable and replaces it with a delta over the\n",
      "        original kernel, obtained via multiplying two lower-rank\n",
      "        trainable matrices. This can be useful to reduce the\n",
      "        computation cost of fine-tuning large dense layers.\n",
      "        You can also enable LoRA on an existing\n",
      "        `Dense` layer by calling `layer.enable_lora(rank)`.\n",
      "\n",
      "Input shape:\n",
      "    N-D tensor with shape: `(batch_size, ..., input_dim)`.\n",
      "    The most common situation would be\n",
      "    a 2D input with shape `(batch_size, input_dim)`.\n",
      "\n",
      "Output shape:\n",
      "    N-D tensor with shape: `(batch_size, ..., units)`.\n",
      "    For instance, for a 2D input with shape `(batch_size, input_dim)`,\n",
      "    the output would have shape `(batch_size, units)`.\n",
      "\u001b[1;31mFile:\u001b[0m           c:\\users\\sambuddha\\appdata\\local\\programs\\python\\python311\\lib\\site-packages\\keras\\src\\layers\\core\\dense.py\n",
      "\u001b[1;31mType:\u001b[0m           type\n",
      "\u001b[1;31mSubclasses:\u001b[0m     \n"
     ]
    }
   ],
   "source": [
    "Dense??"
   ]
  },
  {
   "cell_type": "code",
   "execution_count": 175,
   "metadata": {},
   "outputs": [
    {
     "name": "stdout",
     "output_type": "stream",
     "text": [
      "Trial 5 Complete [00h 03m 42s]\n",
      "mse: 2870.898193359375\n",
      "\n",
      "Best mse So Far: 2870.898193359375\n",
      "Total elapsed time: 00h 42m 57s\n"
     ]
    }
   ],
   "source": [
    "def model_builder(hp):\n",
    "    # model = Sequential()\n",
    "    # model.add(Dense(10, activation='relu', input_shape=(n_features,)))\n",
    "    # model.add(Dense(8, activation='relu'))\n",
    "    # model.add(Dense(1))\n",
    "    model = Sequential([\n",
    "        Conv2D(\n",
    "            filters=hp.Int('conv_1_filter', min_value=32, max_value=144, step=16),\n",
    "            kernel_size=hp.Choice('conv_1_kernel', values=[71,71]),\n",
    "            activation='relu',\n",
    "            input_shape=(142,142,1)\n",
    "        ),\n",
    "        Conv2D(\n",
    "            filters=hp.Int('conv_2_filter', min_value=32, max_value=72, step=16),\n",
    "            kernel_size=hp.Choice('conv_2_kernel', values=[71,71]),\n",
    "            activation='relu'\n",
    "        ),\n",
    "        Flatten(),\n",
    "        Dense(\n",
    "            units=hp.Int('dense_1_units', min_value=32, max_value=144, step=16),\n",
    "            activation='relu'\n",
    "        ),\n",
    "        Dense(10, activation='softmax')\n",
    "    ])\n",
    "    hp_learning_rate = hp.Choice('learning_rate', values = [1e-1, 1e-2, 1e-3, 1e-4]) # Tuning the learning rate (four different values to test: 0.1, 0.01, 0.001, 0.0001)\n",
    "    optimizer = RMSprop(learning_rate = hp_learning_rate) # Defining the optimizer\n",
    "    model.compile(loss='mse',metrics=['mse'], optimizer=optimizer) # Compiling the model\n",
    "    return model # Returning the defined model\n",
    "\n",
    "# 2. Define the hyperparameters grid to be validated\n",
    "tuner_rs = kt.RandomSearch(\n",
    "    model_builder, # Takes hyperparameters (hp) and returns a Model instance\n",
    "    objective = 'mse', # Name of model metric to minimize or maximize\n",
    "    seed = 42, # Random seed for replication purposes\n",
    "    max_trials = 5, # Total number of trials (model configurations) to test at most. Note that the oracle may interrupt the search before max_trial models have been tested.\n",
    "    directory='random_search') # Path to the working directory (relative).\n",
    "\n",
    "# 3. Run the GridSearchCV process\n",
    "tuner_rs.search(X_train, y_train, epochs=10, validation_split=0.2, verbose=1)"
   ]
  },
  {
   "cell_type": "code",
   "execution_count": 176,
   "metadata": {},
   "outputs": [
    {
     "name": "stderr",
     "output_type": "stream",
     "text": [
      "c:\\Users\\Sambuddha\\AppData\\Local\\Programs\\Python\\Python311\\Lib\\site-packages\\keras\\src\\saving\\saving_lib.py:396: UserWarning: Skipping variable loading for optimizer 'rmsprop', because it has 2 variables whereas the saved optimizer has 10 variables. \n"
     ]
    }
   ],
   "source": [
    "model=tuner_rs.get_best_models(num_models=1)[0]"
   ]
  },
  {
   "cell_type": "code",
   "execution_count": 177,
   "metadata": {},
   "outputs": [
    {
     "data": {
      "text/html": [
       "<pre style=\"white-space:pre;overflow-x:auto;line-height:normal;font-family:Menlo,'DejaVu Sans Mono',consolas,'Courier New',monospace\"><span style=\"font-weight: bold\">Model: \"sequential\"</span>\n",
       "</pre>\n"
      ],
      "text/plain": [
       "\u001b[1mModel: \"sequential\"\u001b[0m\n"
      ]
     },
     "metadata": {},
     "output_type": "display_data"
    },
    {
     "data": {
      "text/html": [
       "<pre style=\"white-space:pre;overflow-x:auto;line-height:normal;font-family:Menlo,'DejaVu Sans Mono',consolas,'Courier New',monospace\">┏━━━━━━━━━━━━━━━━━━━━━━━━━━━━━━━━━┳━━━━━━━━━━━━━━━━━━━━━━━━┳━━━━━━━━━━━━━━━┓\n",
       "┃<span style=\"font-weight: bold\"> Layer (type)                    </span>┃<span style=\"font-weight: bold\"> Output Shape           </span>┃<span style=\"font-weight: bold\">       Param # </span>┃\n",
       "┡━━━━━━━━━━━━━━━━━━━━━━━━━━━━━━━━━╇━━━━━━━━━━━━━━━━━━━━━━━━╇━━━━━━━━━━━━━━━┩\n",
       "│ conv2d (<span style=\"color: #0087ff; text-decoration-color: #0087ff\">Conv2D</span>)                 │ (<span style=\"color: #00d7ff; text-decoration-color: #00d7ff\">None</span>, <span style=\"color: #00af00; text-decoration-color: #00af00\">72</span>, <span style=\"color: #00af00; text-decoration-color: #00af00\">72</span>, <span style=\"color: #00af00; text-decoration-color: #00af00\">64</span>)     │       <span style=\"color: #00af00; text-decoration-color: #00af00\">322,688</span> │\n",
       "├─────────────────────────────────┼────────────────────────┼───────────────┤\n",
       "│ conv2d_1 (<span style=\"color: #0087ff; text-decoration-color: #0087ff\">Conv2D</span>)               │ (<span style=\"color: #00d7ff; text-decoration-color: #00d7ff\">None</span>, <span style=\"color: #00af00; text-decoration-color: #00af00\">2</span>, <span style=\"color: #00af00; text-decoration-color: #00af00\">2</span>, <span style=\"color: #00af00; text-decoration-color: #00af00\">64</span>)       │    <span style=\"color: #00af00; text-decoration-color: #00af00\">20,648,000</span> │\n",
       "├─────────────────────────────────┼────────────────────────┼───────────────┤\n",
       "│ flatten (<span style=\"color: #0087ff; text-decoration-color: #0087ff\">Flatten</span>)               │ (<span style=\"color: #00d7ff; text-decoration-color: #00d7ff\">None</span>, <span style=\"color: #00af00; text-decoration-color: #00af00\">256</span>)            │             <span style=\"color: #00af00; text-decoration-color: #00af00\">0</span> │\n",
       "├─────────────────────────────────┼────────────────────────┼───────────────┤\n",
       "│ dense (<span style=\"color: #0087ff; text-decoration-color: #0087ff\">Dense</span>)                   │ (<span style=\"color: #00d7ff; text-decoration-color: #00d7ff\">None</span>, <span style=\"color: #00af00; text-decoration-color: #00af00\">80</span>)             │        <span style=\"color: #00af00; text-decoration-color: #00af00\">20,560</span> │\n",
       "├─────────────────────────────────┼────────────────────────┼───────────────┤\n",
       "│ dense_1 (<span style=\"color: #0087ff; text-decoration-color: #0087ff\">Dense</span>)                 │ (<span style=\"color: #00d7ff; text-decoration-color: #00d7ff\">None</span>, <span style=\"color: #00af00; text-decoration-color: #00af00\">10</span>)             │           <span style=\"color: #00af00; text-decoration-color: #00af00\">810</span> │\n",
       "└─────────────────────────────────┴────────────────────────┴───────────────┘\n",
       "</pre>\n"
      ],
      "text/plain": [
       "┏━━━━━━━━━━━━━━━━━━━━━━━━━━━━━━━━━┳━━━━━━━━━━━━━━━━━━━━━━━━┳━━━━━━━━━━━━━━━┓\n",
       "┃\u001b[1m \u001b[0m\u001b[1mLayer (type)                   \u001b[0m\u001b[1m \u001b[0m┃\u001b[1m \u001b[0m\u001b[1mOutput Shape          \u001b[0m\u001b[1m \u001b[0m┃\u001b[1m \u001b[0m\u001b[1m      Param #\u001b[0m\u001b[1m \u001b[0m┃\n",
       "┡━━━━━━━━━━━━━━━━━━━━━━━━━━━━━━━━━╇━━━━━━━━━━━━━━━━━━━━━━━━╇━━━━━━━━━━━━━━━┩\n",
       "│ conv2d (\u001b[38;5;33mConv2D\u001b[0m)                 │ (\u001b[38;5;45mNone\u001b[0m, \u001b[38;5;34m72\u001b[0m, \u001b[38;5;34m72\u001b[0m, \u001b[38;5;34m64\u001b[0m)     │       \u001b[38;5;34m322,688\u001b[0m │\n",
       "├─────────────────────────────────┼────────────────────────┼───────────────┤\n",
       "│ conv2d_1 (\u001b[38;5;33mConv2D\u001b[0m)               │ (\u001b[38;5;45mNone\u001b[0m, \u001b[38;5;34m2\u001b[0m, \u001b[38;5;34m2\u001b[0m, \u001b[38;5;34m64\u001b[0m)       │    \u001b[38;5;34m20,648,000\u001b[0m │\n",
       "├─────────────────────────────────┼────────────────────────┼───────────────┤\n",
       "│ flatten (\u001b[38;5;33mFlatten\u001b[0m)               │ (\u001b[38;5;45mNone\u001b[0m, \u001b[38;5;34m256\u001b[0m)            │             \u001b[38;5;34m0\u001b[0m │\n",
       "├─────────────────────────────────┼────────────────────────┼───────────────┤\n",
       "│ dense (\u001b[38;5;33mDense\u001b[0m)                   │ (\u001b[38;5;45mNone\u001b[0m, \u001b[38;5;34m80\u001b[0m)             │        \u001b[38;5;34m20,560\u001b[0m │\n",
       "├─────────────────────────────────┼────────────────────────┼───────────────┤\n",
       "│ dense_1 (\u001b[38;5;33mDense\u001b[0m)                 │ (\u001b[38;5;45mNone\u001b[0m, \u001b[38;5;34m10\u001b[0m)             │           \u001b[38;5;34m810\u001b[0m │\n",
       "└─────────────────────────────────┴────────────────────────┴───────────────┘\n"
      ]
     },
     "metadata": {},
     "output_type": "display_data"
    },
    {
     "data": {
      "text/html": [
       "<pre style=\"white-space:pre;overflow-x:auto;line-height:normal;font-family:Menlo,'DejaVu Sans Mono',consolas,'Courier New',monospace\"><span style=\"font-weight: bold\"> Total params: </span><span style=\"color: #00af00; text-decoration-color: #00af00\">20,992,058</span> (80.08 MB)\n",
       "</pre>\n"
      ],
      "text/plain": [
       "\u001b[1m Total params: \u001b[0m\u001b[38;5;34m20,992,058\u001b[0m (80.08 MB)\n"
      ]
     },
     "metadata": {},
     "output_type": "display_data"
    },
    {
     "data": {
      "text/html": [
       "<pre style=\"white-space:pre;overflow-x:auto;line-height:normal;font-family:Menlo,'DejaVu Sans Mono',consolas,'Courier New',monospace\"><span style=\"font-weight: bold\"> Trainable params: </span><span style=\"color: #00af00; text-decoration-color: #00af00\">20,992,058</span> (80.08 MB)\n",
       "</pre>\n"
      ],
      "text/plain": [
       "\u001b[1m Trainable params: \u001b[0m\u001b[38;5;34m20,992,058\u001b[0m (80.08 MB)\n"
      ]
     },
     "metadata": {},
     "output_type": "display_data"
    },
    {
     "data": {
      "text/html": [
       "<pre style=\"white-space:pre;overflow-x:auto;line-height:normal;font-family:Menlo,'DejaVu Sans Mono',consolas,'Courier New',monospace\"><span style=\"font-weight: bold\"> Non-trainable params: </span><span style=\"color: #00af00; text-decoration-color: #00af00\">0</span> (0.00 B)\n",
       "</pre>\n"
      ],
      "text/plain": [
       "\u001b[1m Non-trainable params: \u001b[0m\u001b[38;5;34m0\u001b[0m (0.00 B)\n"
      ]
     },
     "metadata": {},
     "output_type": "display_data"
    }
   ],
   "source": [
    "model.summary()"
   ]
  }
 ],
 "metadata": {
  "kernelspec": {
   "display_name": "Python 3",
   "language": "python",
   "name": "python3"
  },
  "language_info": {
   "codemirror_mode": {
    "name": "ipython",
    "version": 3
   },
   "file_extension": ".py",
   "mimetype": "text/x-python",
   "name": "python",
   "nbconvert_exporter": "python",
   "pygments_lexer": "ipython3",
   "version": "3.11.0"
  }
 },
 "nbformat": 4,
 "nbformat_minor": 2
}
